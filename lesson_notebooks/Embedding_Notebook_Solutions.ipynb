{
 "cells": [
  {
   "cell_type": "markdown",
   "metadata": {},
   "source": [
    "# Embeddings"
   ]
  },
  {
   "cell_type": "markdown",
   "metadata": {},
   "source": [
    "We will start by analysing embeddings; how machines interpret words numerically whilst preserving meaning. First, we need to import some utility functions."
   ]
  },
  {
   "cell_type": "code",
   "execution_count": 1,
   "metadata": {},
   "outputs": [
    {
     "name": "stderr",
     "output_type": "stream",
     "text": [
      "/Users/olinewcombe/Documents/GitHub/LLM-Workshop-Notebooks/.venv/lib/python3.12/site-packages/tqdm/auto.py:21: TqdmWarning: IProgress not found. Please update jupyter and ipywidgets. See https://ipywidgets.readthedocs.io/en/stable/user_install.html\n",
      "  from .autonotebook import tqdm as notebook_tqdm\n"
     ]
    }
   ],
   "source": [
    "from embedding_utils import *"
   ]
  },
  {
   "cell_type": "markdown",
   "metadata": {},
   "source": [
    "Now we can look at an example. Here is some simple code that embeds our words, then calculates soem measure of similarity between them. Embeddings are vectors, and as such, we can perform mathematical operations on them. The similarity measure here is <i>cosine similarity</i>, which measures the cosine of the angle between vectors; \n",
    "\n",
    "## $d(a, b) = \\frac{a \\cdot b}{\\|a\\|\\|b\\|}$\n",
    "\n",
    "if it is close to 1, the angle is close to 0, meaning the vectors point in the same direction/are similar, which <i>we want</i> to represent that they have similar meaning. Creating embedding models that actually do this is a) hard and b) subjective."
   ]
  },
  {
   "cell_type": "code",
   "execution_count": 2,
   "metadata": {},
   "outputs": [
    {
     "data": {
      "text/html": [
       "<div>\n",
       "<style scoped>\n",
       "    .dataframe tbody tr th:only-of-type {\n",
       "        vertical-align: middle;\n",
       "    }\n",
       "\n",
       "    .dataframe tbody tr th {\n",
       "        vertical-align: top;\n",
       "    }\n",
       "\n",
       "    .dataframe thead th {\n",
       "        text-align: right;\n",
       "    }\n",
       "</style>\n",
       "<table border=\"1\" class=\"dataframe\">\n",
       "  <thead>\n",
       "    <tr style=\"text-align: right;\">\n",
       "      <th></th>\n",
       "      <th>Dog</th>\n",
       "      <th>Cat</th>\n",
       "      <th>Banana</th>\n",
       "      <th>Apple</th>\n",
       "    </tr>\n",
       "  </thead>\n",
       "  <tbody>\n",
       "    <tr>\n",
       "      <th>Dog</th>\n",
       "      <td>1.000000</td>\n",
       "      <td>0.822082</td>\n",
       "      <td>0.209090</td>\n",
       "      <td>0.228810</td>\n",
       "    </tr>\n",
       "    <tr>\n",
       "      <th>Cat</th>\n",
       "      <td>0.822082</td>\n",
       "      <td>1.000000</td>\n",
       "      <td>0.223588</td>\n",
       "      <td>0.203681</td>\n",
       "    </tr>\n",
       "    <tr>\n",
       "      <th>Banana</th>\n",
       "      <td>0.209090</td>\n",
       "      <td>0.223588</td>\n",
       "      <td>1.000000</td>\n",
       "      <td>0.664670</td>\n",
       "    </tr>\n",
       "    <tr>\n",
       "      <th>Apple</th>\n",
       "      <td>0.228810</td>\n",
       "      <td>0.203681</td>\n",
       "      <td>0.664670</td>\n",
       "      <td>1.000000</td>\n",
       "    </tr>\n",
       "  </tbody>\n",
       "</table>\n",
       "</div>"
      ],
      "text/plain": [
       "             Dog       Cat    Banana     Apple\n",
       "Dog     1.000000  0.822082  0.209090  0.228810\n",
       "Cat     0.822082  1.000000  0.223588  0.203681\n",
       "Banana  0.209090  0.223588  1.000000  0.664670\n",
       "Apple   0.228810  0.203681  0.664670  1.000000"
      ]
     },
     "execution_count": 2,
     "metadata": {},
     "output_type": "execute_result"
    }
   ],
   "source": [
    "doc = nlp(\"dog cat banana apple\")\n",
    "\n",
    "similarities = np.zeros((4, 4))\n",
    "\n",
    "for i, token1 in enumerate(doc):\n",
    "    for j, token2 in enumerate(doc):\n",
    "        similarities[i, j] = token1.similarity(\n",
    "            token2\n",
    "        )  # computes the cosine similarity\n",
    "\n",
    "pd.DataFrame(\n",
    "    similarities,\n",
    "    index=[\"Dog\", \"Cat\", \"Banana\", \"Apple\"],\n",
    "    columns=[\"Dog\", \"Cat\", \"Banana\", \"Apple\"],\n",
    ")"
   ]
  },
  {
   "cell_type": "markdown",
   "metadata": {},
   "source": [
    "These embeddings are very high dimensional (here, 300 dimensions!), making them hard to visualise. One tactic is to perform some <i>dimensionality reduction</i>, to compress the information into a lower amount of dimensions, whilst still preserving some of the original meaning. We first turn to PCA."
   ]
  },
  {
   "cell_type": "code",
   "execution_count": 3,
   "metadata": {},
   "outputs": [
    {
     "data": {
      "text/html": [
       "        <script type=\"text/javascript\">\n",
       "        window.PlotlyConfig = {MathJaxConfig: 'local'};\n",
       "        if (window.MathJax && window.MathJax.Hub && window.MathJax.Hub.Config) {window.MathJax.Hub.Config({SVG: {font: \"STIX-Web\"}});}\n",
       "        if (typeof require !== 'undefined') {\n",
       "        require.undef(\"plotly\");\n",
       "        requirejs.config({\n",
       "            paths: {\n",
       "                'plotly': ['https://cdn.plot.ly/plotly-2.35.2.min']\n",
       "            }\n",
       "        });\n",
       "        require(['plotly'], function(Plotly) {\n",
       "            window._Plotly = Plotly;\n",
       "        });\n",
       "        }\n",
       "        </script>\n",
       "        "
      ]
     },
     "metadata": {},
     "output_type": "display_data"
    },
    {
     "data": {
      "application/vnd.plotly.v1+json": {
       "config": {
        "displayModeBar": false,
        "linkText": "Export to plot.ly",
        "plotlyServerURL": "https://plot.ly",
        "showLink": false
       },
       "data": [
        {
         "marker": {
          "line": {
           "color": "white",
           "width": 0.5
          },
          "size": 15
         },
         "mode": "markers",
         "name": "horse",
         "opacity": 0.7,
         "text": [
          "horse"
         ],
         "type": "scatter",
         "x": [
          -3.859805107116699
         ],
         "y": [
          -8.646032333374023
         ]
        },
        {
         "marker": {
          "line": {
           "color": "white",
           "width": 0.5
          },
          "size": 15
         },
         "mode": "markers",
         "name": "woof",
         "opacity": 0.7,
         "text": [
          "woof"
         ],
         "type": "scatter",
         "x": [
          15.963226318359375
         ],
         "y": [
          5.895839691162109
         ]
        },
        {
         "marker": {
          "line": {
           "color": "white",
           "width": 0.5
          },
          "size": 15
         },
         "mode": "markers",
         "name": "bird",
         "opacity": 0.7,
         "text": [
          "bird"
         ],
         "type": "scatter",
         "x": [
          -7.2083353996276855
         ],
         "y": [
          -14.522554397583008
         ]
        },
        {
         "marker": {
          "line": {
           "color": "white",
           "width": 0.5
          },
          "size": 15
         },
         "mode": "markers",
         "name": "cat",
         "opacity": 0.7,
         "text": [
          "cat"
         ],
         "type": "scatter",
         "x": [
          -35.11137390136719
         ],
         "y": [
          6.412666320800781
         ]
        },
        {
         "marker": {
          "line": {
           "color": "white",
           "width": 0.5
          },
          "size": 15
         },
         "mode": "markers",
         "name": "neigh",
         "opacity": 0.7,
         "text": [
          "neigh"
         ],
         "type": "scatter",
         "x": [
          12.04957389831543
         ],
         "y": [
          3.63761043548584
         ]
        },
        {
         "marker": {
          "line": {
           "color": "white",
           "width": 0.5
          },
          "size": 15
         },
         "mode": "markers",
         "name": "roar",
         "opacity": 0.7,
         "text": [
          "roar"
         ],
         "type": "scatter",
         "x": [
          23.90964698791504
         ],
         "y": [
          -10.255681991577148
         ]
        },
        {
         "marker": {
          "line": {
           "color": "white",
           "width": 0.5
          },
          "size": 15
         },
         "mode": "markers",
         "name": "dog",
         "opacity": 0.7,
         "text": [
          "dog"
         ],
         "type": "scatter",
         "x": [
          -50.488792419433594
         ],
         "y": [
          13.08315658569336
         ]
        },
        {
         "marker": {
          "line": {
           "color": "white",
           "width": 0.5
          },
          "size": 15
         },
         "mode": "markers",
         "name": "meow",
         "opacity": 0.7,
         "text": [
          "meow"
         ],
         "type": "scatter",
         "x": [
          10.335344314575195
         ],
         "y": [
          4.749476909637451
         ]
        },
        {
         "marker": {
          "line": {
           "color": "white",
           "width": 0.5
          },
          "size": 15
         },
         "mode": "markers",
         "name": "lion",
         "opacity": 0.7,
         "text": [
          "lion"
         ],
         "type": "scatter",
         "x": [
          5.079667568206787
         ],
         "y": [
          -33.65717697143555
         ]
        },
        {
         "marker": {
          "line": {
           "color": "white",
           "width": 0.5
          },
          "size": 15
         },
         "mode": "markers",
         "name": "tweet",
         "opacity": 0.7,
         "text": [
          "tweet"
         ],
         "type": "scatter",
         "x": [
          29.33083152770996
         ],
         "y": [
          33.30270004272461
         ]
        }
       ],
       "layout": {
        "hovermode": "closest",
        "template": {
         "data": {
          "bar": [
           {
            "error_x": {
             "color": "#2a3f5f"
            },
            "error_y": {
             "color": "#2a3f5f"
            },
            "marker": {
             "line": {
              "color": "#E5ECF6",
              "width": 0.5
             },
             "pattern": {
              "fillmode": "overlay",
              "size": 10,
              "solidity": 0.2
             }
            },
            "type": "bar"
           }
          ],
          "barpolar": [
           {
            "marker": {
             "line": {
              "color": "#E5ECF6",
              "width": 0.5
             },
             "pattern": {
              "fillmode": "overlay",
              "size": 10,
              "solidity": 0.2
             }
            },
            "type": "barpolar"
           }
          ],
          "carpet": [
           {
            "aaxis": {
             "endlinecolor": "#2a3f5f",
             "gridcolor": "white",
             "linecolor": "white",
             "minorgridcolor": "white",
             "startlinecolor": "#2a3f5f"
            },
            "baxis": {
             "endlinecolor": "#2a3f5f",
             "gridcolor": "white",
             "linecolor": "white",
             "minorgridcolor": "white",
             "startlinecolor": "#2a3f5f"
            },
            "type": "carpet"
           }
          ],
          "choropleth": [
           {
            "colorbar": {
             "outlinewidth": 0,
             "ticks": ""
            },
            "type": "choropleth"
           }
          ],
          "contour": [
           {
            "colorbar": {
             "outlinewidth": 0,
             "ticks": ""
            },
            "colorscale": [
             [
              0,
              "#0d0887"
             ],
             [
              0.1111111111111111,
              "#46039f"
             ],
             [
              0.2222222222222222,
              "#7201a8"
             ],
             [
              0.3333333333333333,
              "#9c179e"
             ],
             [
              0.4444444444444444,
              "#bd3786"
             ],
             [
              0.5555555555555556,
              "#d8576b"
             ],
             [
              0.6666666666666666,
              "#ed7953"
             ],
             [
              0.7777777777777778,
              "#fb9f3a"
             ],
             [
              0.8888888888888888,
              "#fdca26"
             ],
             [
              1,
              "#f0f921"
             ]
            ],
            "type": "contour"
           }
          ],
          "contourcarpet": [
           {
            "colorbar": {
             "outlinewidth": 0,
             "ticks": ""
            },
            "type": "contourcarpet"
           }
          ],
          "heatmap": [
           {
            "colorbar": {
             "outlinewidth": 0,
             "ticks": ""
            },
            "colorscale": [
             [
              0,
              "#0d0887"
             ],
             [
              0.1111111111111111,
              "#46039f"
             ],
             [
              0.2222222222222222,
              "#7201a8"
             ],
             [
              0.3333333333333333,
              "#9c179e"
             ],
             [
              0.4444444444444444,
              "#bd3786"
             ],
             [
              0.5555555555555556,
              "#d8576b"
             ],
             [
              0.6666666666666666,
              "#ed7953"
             ],
             [
              0.7777777777777778,
              "#fb9f3a"
             ],
             [
              0.8888888888888888,
              "#fdca26"
             ],
             [
              1,
              "#f0f921"
             ]
            ],
            "type": "heatmap"
           }
          ],
          "heatmapgl": [
           {
            "colorbar": {
             "outlinewidth": 0,
             "ticks": ""
            },
            "colorscale": [
             [
              0,
              "#0d0887"
             ],
             [
              0.1111111111111111,
              "#46039f"
             ],
             [
              0.2222222222222222,
              "#7201a8"
             ],
             [
              0.3333333333333333,
              "#9c179e"
             ],
             [
              0.4444444444444444,
              "#bd3786"
             ],
             [
              0.5555555555555556,
              "#d8576b"
             ],
             [
              0.6666666666666666,
              "#ed7953"
             ],
             [
              0.7777777777777778,
              "#fb9f3a"
             ],
             [
              0.8888888888888888,
              "#fdca26"
             ],
             [
              1,
              "#f0f921"
             ]
            ],
            "type": "heatmapgl"
           }
          ],
          "histogram": [
           {
            "marker": {
             "pattern": {
              "fillmode": "overlay",
              "size": 10,
              "solidity": 0.2
             }
            },
            "type": "histogram"
           }
          ],
          "histogram2d": [
           {
            "colorbar": {
             "outlinewidth": 0,
             "ticks": ""
            },
            "colorscale": [
             [
              0,
              "#0d0887"
             ],
             [
              0.1111111111111111,
              "#46039f"
             ],
             [
              0.2222222222222222,
              "#7201a8"
             ],
             [
              0.3333333333333333,
              "#9c179e"
             ],
             [
              0.4444444444444444,
              "#bd3786"
             ],
             [
              0.5555555555555556,
              "#d8576b"
             ],
             [
              0.6666666666666666,
              "#ed7953"
             ],
             [
              0.7777777777777778,
              "#fb9f3a"
             ],
             [
              0.8888888888888888,
              "#fdca26"
             ],
             [
              1,
              "#f0f921"
             ]
            ],
            "type": "histogram2d"
           }
          ],
          "histogram2dcontour": [
           {
            "colorbar": {
             "outlinewidth": 0,
             "ticks": ""
            },
            "colorscale": [
             [
              0,
              "#0d0887"
             ],
             [
              0.1111111111111111,
              "#46039f"
             ],
             [
              0.2222222222222222,
              "#7201a8"
             ],
             [
              0.3333333333333333,
              "#9c179e"
             ],
             [
              0.4444444444444444,
              "#bd3786"
             ],
             [
              0.5555555555555556,
              "#d8576b"
             ],
             [
              0.6666666666666666,
              "#ed7953"
             ],
             [
              0.7777777777777778,
              "#fb9f3a"
             ],
             [
              0.8888888888888888,
              "#fdca26"
             ],
             [
              1,
              "#f0f921"
             ]
            ],
            "type": "histogram2dcontour"
           }
          ],
          "mesh3d": [
           {
            "colorbar": {
             "outlinewidth": 0,
             "ticks": ""
            },
            "type": "mesh3d"
           }
          ],
          "parcoords": [
           {
            "line": {
             "colorbar": {
              "outlinewidth": 0,
              "ticks": ""
             }
            },
            "type": "parcoords"
           }
          ],
          "pie": [
           {
            "automargin": true,
            "type": "pie"
           }
          ],
          "scatter": [
           {
            "fillpattern": {
             "fillmode": "overlay",
             "size": 10,
             "solidity": 0.2
            },
            "type": "scatter"
           }
          ],
          "scatter3d": [
           {
            "line": {
             "colorbar": {
              "outlinewidth": 0,
              "ticks": ""
             }
            },
            "marker": {
             "colorbar": {
              "outlinewidth": 0,
              "ticks": ""
             }
            },
            "type": "scatter3d"
           }
          ],
          "scattercarpet": [
           {
            "marker": {
             "colorbar": {
              "outlinewidth": 0,
              "ticks": ""
             }
            },
            "type": "scattercarpet"
           }
          ],
          "scattergeo": [
           {
            "marker": {
             "colorbar": {
              "outlinewidth": 0,
              "ticks": ""
             }
            },
            "type": "scattergeo"
           }
          ],
          "scattergl": [
           {
            "marker": {
             "colorbar": {
              "outlinewidth": 0,
              "ticks": ""
             }
            },
            "type": "scattergl"
           }
          ],
          "scattermapbox": [
           {
            "marker": {
             "colorbar": {
              "outlinewidth": 0,
              "ticks": ""
             }
            },
            "type": "scattermapbox"
           }
          ],
          "scatterpolar": [
           {
            "marker": {
             "colorbar": {
              "outlinewidth": 0,
              "ticks": ""
             }
            },
            "type": "scatterpolar"
           }
          ],
          "scatterpolargl": [
           {
            "marker": {
             "colorbar": {
              "outlinewidth": 0,
              "ticks": ""
             }
            },
            "type": "scatterpolargl"
           }
          ],
          "scatterternary": [
           {
            "marker": {
             "colorbar": {
              "outlinewidth": 0,
              "ticks": ""
             }
            },
            "type": "scatterternary"
           }
          ],
          "surface": [
           {
            "colorbar": {
             "outlinewidth": 0,
             "ticks": ""
            },
            "colorscale": [
             [
              0,
              "#0d0887"
             ],
             [
              0.1111111111111111,
              "#46039f"
             ],
             [
              0.2222222222222222,
              "#7201a8"
             ],
             [
              0.3333333333333333,
              "#9c179e"
             ],
             [
              0.4444444444444444,
              "#bd3786"
             ],
             [
              0.5555555555555556,
              "#d8576b"
             ],
             [
              0.6666666666666666,
              "#ed7953"
             ],
             [
              0.7777777777777778,
              "#fb9f3a"
             ],
             [
              0.8888888888888888,
              "#fdca26"
             ],
             [
              1,
              "#f0f921"
             ]
            ],
            "type": "surface"
           }
          ],
          "table": [
           {
            "cells": {
             "fill": {
              "color": "#EBF0F8"
             },
             "line": {
              "color": "white"
             }
            },
            "header": {
             "fill": {
              "color": "#C8D4E3"
             },
             "line": {
              "color": "white"
             }
            },
            "type": "table"
           }
          ]
         },
         "layout": {
          "annotationdefaults": {
           "arrowcolor": "#2a3f5f",
           "arrowhead": 0,
           "arrowwidth": 1
          },
          "autotypenumbers": "strict",
          "coloraxis": {
           "colorbar": {
            "outlinewidth": 0,
            "ticks": ""
           }
          },
          "colorscale": {
           "diverging": [
            [
             0,
             "#8e0152"
            ],
            [
             0.1,
             "#c51b7d"
            ],
            [
             0.2,
             "#de77ae"
            ],
            [
             0.3,
             "#f1b6da"
            ],
            [
             0.4,
             "#fde0ef"
            ],
            [
             0.5,
             "#f7f7f7"
            ],
            [
             0.6,
             "#e6f5d0"
            ],
            [
             0.7,
             "#b8e186"
            ],
            [
             0.8,
             "#7fbc41"
            ],
            [
             0.9,
             "#4d9221"
            ],
            [
             1,
             "#276419"
            ]
           ],
           "sequential": [
            [
             0,
             "#0d0887"
            ],
            [
             0.1111111111111111,
             "#46039f"
            ],
            [
             0.2222222222222222,
             "#7201a8"
            ],
            [
             0.3333333333333333,
             "#9c179e"
            ],
            [
             0.4444444444444444,
             "#bd3786"
            ],
            [
             0.5555555555555556,
             "#d8576b"
            ],
            [
             0.6666666666666666,
             "#ed7953"
            ],
            [
             0.7777777777777778,
             "#fb9f3a"
            ],
            [
             0.8888888888888888,
             "#fdca26"
            ],
            [
             1,
             "#f0f921"
            ]
           ],
           "sequentialminus": [
            [
             0,
             "#0d0887"
            ],
            [
             0.1111111111111111,
             "#46039f"
            ],
            [
             0.2222222222222222,
             "#7201a8"
            ],
            [
             0.3333333333333333,
             "#9c179e"
            ],
            [
             0.4444444444444444,
             "#bd3786"
            ],
            [
             0.5555555555555556,
             "#d8576b"
            ],
            [
             0.6666666666666666,
             "#ed7953"
            ],
            [
             0.7777777777777778,
             "#fb9f3a"
            ],
            [
             0.8888888888888888,
             "#fdca26"
            ],
            [
             1,
             "#f0f921"
            ]
           ]
          },
          "colorway": [
           "#636efa",
           "#EF553B",
           "#00cc96",
           "#ab63fa",
           "#FFA15A",
           "#19d3f3",
           "#FF6692",
           "#B6E880",
           "#FF97FF",
           "#FECB52"
          ],
          "font": {
           "color": "#2a3f5f"
          },
          "geo": {
           "bgcolor": "white",
           "lakecolor": "white",
           "landcolor": "#E5ECF6",
           "showlakes": true,
           "showland": true,
           "subunitcolor": "white"
          },
          "hoverlabel": {
           "align": "left"
          },
          "hovermode": "closest",
          "mapbox": {
           "style": "light"
          },
          "paper_bgcolor": "white",
          "plot_bgcolor": "#E5ECF6",
          "polar": {
           "angularaxis": {
            "gridcolor": "white",
            "linecolor": "white",
            "ticks": ""
           },
           "bgcolor": "#E5ECF6",
           "radialaxis": {
            "gridcolor": "white",
            "linecolor": "white",
            "ticks": ""
           }
          },
          "scene": {
           "xaxis": {
            "backgroundcolor": "#E5ECF6",
            "gridcolor": "white",
            "gridwidth": 2,
            "linecolor": "white",
            "showbackground": true,
            "ticks": "",
            "zerolinecolor": "white"
           },
           "yaxis": {
            "backgroundcolor": "#E5ECF6",
            "gridcolor": "white",
            "gridwidth": 2,
            "linecolor": "white",
            "showbackground": true,
            "ticks": "",
            "zerolinecolor": "white"
           },
           "zaxis": {
            "backgroundcolor": "#E5ECF6",
            "gridcolor": "white",
            "gridwidth": 2,
            "linecolor": "white",
            "showbackground": true,
            "ticks": "",
            "zerolinecolor": "white"
           }
          },
          "shapedefaults": {
           "line": {
            "color": "#2a3f5f"
           }
          },
          "ternary": {
           "aaxis": {
            "gridcolor": "white",
            "linecolor": "white",
            "ticks": ""
           },
           "baxis": {
            "gridcolor": "white",
            "linecolor": "white",
            "ticks": ""
           },
           "bgcolor": "#E5ECF6",
           "caxis": {
            "gridcolor": "white",
            "linecolor": "white",
            "ticks": ""
           }
          },
          "title": {
           "x": 0.05
          },
          "xaxis": {
           "automargin": true,
           "gridcolor": "white",
           "linecolor": "white",
           "ticks": "",
           "title": {
            "standoff": 15
           },
           "zerolinecolor": "white",
           "zerolinewidth": 2
          },
          "yaxis": {
           "automargin": true,
           "gridcolor": "white",
           "linecolor": "white",
           "ticks": "",
           "title": {
            "standoff": 15
           },
           "zerolinecolor": "white",
           "zerolinewidth": 2
          }
         }
        },
        "xaxis": {
         "showgrid": false,
         "showticklabels": false,
         "zeroline": false
        },
        "yaxis": {
         "showgrid": false,
         "showticklabels": false,
         "zeroline": false
        }
       }
      },
      "text/html": [
       "<div>                            <div id=\"3d21cd6a-25d6-47eb-94d6-8b79fb1823f3\" class=\"plotly-graph-div\" style=\"height:525px; width:100%;\"></div>            <script type=\"text/javascript\">                require([\"plotly\"], function(Plotly) {                    window.PLOTLYENV=window.PLOTLYENV || {};                                    if (document.getElementById(\"3d21cd6a-25d6-47eb-94d6-8b79fb1823f3\")) {                    Plotly.newPlot(                        \"3d21cd6a-25d6-47eb-94d6-8b79fb1823f3\",                        [{\"marker\":{\"line\":{\"color\":\"white\",\"width\":0.5},\"size\":15},\"mode\":\"markers\",\"name\":\"horse\",\"opacity\":0.7,\"text\":[\"horse\"],\"x\":[-3.859805107116699],\"y\":[-8.646032333374023],\"type\":\"scatter\"},{\"marker\":{\"line\":{\"color\":\"white\",\"width\":0.5},\"size\":15},\"mode\":\"markers\",\"name\":\"woof\",\"opacity\":0.7,\"text\":[\"woof\"],\"x\":[15.963226318359375],\"y\":[5.895839691162109],\"type\":\"scatter\"},{\"marker\":{\"line\":{\"color\":\"white\",\"width\":0.5},\"size\":15},\"mode\":\"markers\",\"name\":\"bird\",\"opacity\":0.7,\"text\":[\"bird\"],\"x\":[-7.2083353996276855],\"y\":[-14.522554397583008],\"type\":\"scatter\"},{\"marker\":{\"line\":{\"color\":\"white\",\"width\":0.5},\"size\":15},\"mode\":\"markers\",\"name\":\"cat\",\"opacity\":0.7,\"text\":[\"cat\"],\"x\":[-35.11137390136719],\"y\":[6.412666320800781],\"type\":\"scatter\"},{\"marker\":{\"line\":{\"color\":\"white\",\"width\":0.5},\"size\":15},\"mode\":\"markers\",\"name\":\"neigh\",\"opacity\":0.7,\"text\":[\"neigh\"],\"x\":[12.04957389831543],\"y\":[3.63761043548584],\"type\":\"scatter\"},{\"marker\":{\"line\":{\"color\":\"white\",\"width\":0.5},\"size\":15},\"mode\":\"markers\",\"name\":\"roar\",\"opacity\":0.7,\"text\":[\"roar\"],\"x\":[23.90964698791504],\"y\":[-10.255681991577148],\"type\":\"scatter\"},{\"marker\":{\"line\":{\"color\":\"white\",\"width\":0.5},\"size\":15},\"mode\":\"markers\",\"name\":\"dog\",\"opacity\":0.7,\"text\":[\"dog\"],\"x\":[-50.488792419433594],\"y\":[13.08315658569336],\"type\":\"scatter\"},{\"marker\":{\"line\":{\"color\":\"white\",\"width\":0.5},\"size\":15},\"mode\":\"markers\",\"name\":\"meow\",\"opacity\":0.7,\"text\":[\"meow\"],\"x\":[10.335344314575195],\"y\":[4.749476909637451],\"type\":\"scatter\"},{\"marker\":{\"line\":{\"color\":\"white\",\"width\":0.5},\"size\":15},\"mode\":\"markers\",\"name\":\"lion\",\"opacity\":0.7,\"text\":[\"lion\"],\"x\":[5.079667568206787],\"y\":[-33.65717697143555],\"type\":\"scatter\"},{\"marker\":{\"line\":{\"color\":\"white\",\"width\":0.5},\"size\":15},\"mode\":\"markers\",\"name\":\"tweet\",\"opacity\":0.7,\"text\":[\"tweet\"],\"x\":[29.33083152770996],\"y\":[33.30270004272461],\"type\":\"scatter\"}],                        {\"hovermode\":\"closest\",\"template\":{\"data\":{\"barpolar\":[{\"marker\":{\"line\":{\"color\":\"#E5ECF6\",\"width\":0.5},\"pattern\":{\"fillmode\":\"overlay\",\"size\":10,\"solidity\":0.2}},\"type\":\"barpolar\"}],\"bar\":[{\"error_x\":{\"color\":\"#2a3f5f\"},\"error_y\":{\"color\":\"#2a3f5f\"},\"marker\":{\"line\":{\"color\":\"#E5ECF6\",\"width\":0.5},\"pattern\":{\"fillmode\":\"overlay\",\"size\":10,\"solidity\":0.2}},\"type\":\"bar\"}],\"carpet\":[{\"aaxis\":{\"endlinecolor\":\"#2a3f5f\",\"gridcolor\":\"white\",\"linecolor\":\"white\",\"minorgridcolor\":\"white\",\"startlinecolor\":\"#2a3f5f\"},\"baxis\":{\"endlinecolor\":\"#2a3f5f\",\"gridcolor\":\"white\",\"linecolor\":\"white\",\"minorgridcolor\":\"white\",\"startlinecolor\":\"#2a3f5f\"},\"type\":\"carpet\"}],\"choropleth\":[{\"colorbar\":{\"outlinewidth\":0,\"ticks\":\"\"},\"type\":\"choropleth\"}],\"contourcarpet\":[{\"colorbar\":{\"outlinewidth\":0,\"ticks\":\"\"},\"type\":\"contourcarpet\"}],\"contour\":[{\"colorbar\":{\"outlinewidth\":0,\"ticks\":\"\"},\"colorscale\":[[0.0,\"#0d0887\"],[0.1111111111111111,\"#46039f\"],[0.2222222222222222,\"#7201a8\"],[0.3333333333333333,\"#9c179e\"],[0.4444444444444444,\"#bd3786\"],[0.5555555555555556,\"#d8576b\"],[0.6666666666666666,\"#ed7953\"],[0.7777777777777778,\"#fb9f3a\"],[0.8888888888888888,\"#fdca26\"],[1.0,\"#f0f921\"]],\"type\":\"contour\"}],\"heatmapgl\":[{\"colorbar\":{\"outlinewidth\":0,\"ticks\":\"\"},\"colorscale\":[[0.0,\"#0d0887\"],[0.1111111111111111,\"#46039f\"],[0.2222222222222222,\"#7201a8\"],[0.3333333333333333,\"#9c179e\"],[0.4444444444444444,\"#bd3786\"],[0.5555555555555556,\"#d8576b\"],[0.6666666666666666,\"#ed7953\"],[0.7777777777777778,\"#fb9f3a\"],[0.8888888888888888,\"#fdca26\"],[1.0,\"#f0f921\"]],\"type\":\"heatmapgl\"}],\"heatmap\":[{\"colorbar\":{\"outlinewidth\":0,\"ticks\":\"\"},\"colorscale\":[[0.0,\"#0d0887\"],[0.1111111111111111,\"#46039f\"],[0.2222222222222222,\"#7201a8\"],[0.3333333333333333,\"#9c179e\"],[0.4444444444444444,\"#bd3786\"],[0.5555555555555556,\"#d8576b\"],[0.6666666666666666,\"#ed7953\"],[0.7777777777777778,\"#fb9f3a\"],[0.8888888888888888,\"#fdca26\"],[1.0,\"#f0f921\"]],\"type\":\"heatmap\"}],\"histogram2dcontour\":[{\"colorbar\":{\"outlinewidth\":0,\"ticks\":\"\"},\"colorscale\":[[0.0,\"#0d0887\"],[0.1111111111111111,\"#46039f\"],[0.2222222222222222,\"#7201a8\"],[0.3333333333333333,\"#9c179e\"],[0.4444444444444444,\"#bd3786\"],[0.5555555555555556,\"#d8576b\"],[0.6666666666666666,\"#ed7953\"],[0.7777777777777778,\"#fb9f3a\"],[0.8888888888888888,\"#fdca26\"],[1.0,\"#f0f921\"]],\"type\":\"histogram2dcontour\"}],\"histogram2d\":[{\"colorbar\":{\"outlinewidth\":0,\"ticks\":\"\"},\"colorscale\":[[0.0,\"#0d0887\"],[0.1111111111111111,\"#46039f\"],[0.2222222222222222,\"#7201a8\"],[0.3333333333333333,\"#9c179e\"],[0.4444444444444444,\"#bd3786\"],[0.5555555555555556,\"#d8576b\"],[0.6666666666666666,\"#ed7953\"],[0.7777777777777778,\"#fb9f3a\"],[0.8888888888888888,\"#fdca26\"],[1.0,\"#f0f921\"]],\"type\":\"histogram2d\"}],\"histogram\":[{\"marker\":{\"pattern\":{\"fillmode\":\"overlay\",\"size\":10,\"solidity\":0.2}},\"type\":\"histogram\"}],\"mesh3d\":[{\"colorbar\":{\"outlinewidth\":0,\"ticks\":\"\"},\"type\":\"mesh3d\"}],\"parcoords\":[{\"line\":{\"colorbar\":{\"outlinewidth\":0,\"ticks\":\"\"}},\"type\":\"parcoords\"}],\"pie\":[{\"automargin\":true,\"type\":\"pie\"}],\"scatter3d\":[{\"line\":{\"colorbar\":{\"outlinewidth\":0,\"ticks\":\"\"}},\"marker\":{\"colorbar\":{\"outlinewidth\":0,\"ticks\":\"\"}},\"type\":\"scatter3d\"}],\"scattercarpet\":[{\"marker\":{\"colorbar\":{\"outlinewidth\":0,\"ticks\":\"\"}},\"type\":\"scattercarpet\"}],\"scattergeo\":[{\"marker\":{\"colorbar\":{\"outlinewidth\":0,\"ticks\":\"\"}},\"type\":\"scattergeo\"}],\"scattergl\":[{\"marker\":{\"colorbar\":{\"outlinewidth\":0,\"ticks\":\"\"}},\"type\":\"scattergl\"}],\"scattermapbox\":[{\"marker\":{\"colorbar\":{\"outlinewidth\":0,\"ticks\":\"\"}},\"type\":\"scattermapbox\"}],\"scatterpolargl\":[{\"marker\":{\"colorbar\":{\"outlinewidth\":0,\"ticks\":\"\"}},\"type\":\"scatterpolargl\"}],\"scatterpolar\":[{\"marker\":{\"colorbar\":{\"outlinewidth\":0,\"ticks\":\"\"}},\"type\":\"scatterpolar\"}],\"scatter\":[{\"fillpattern\":{\"fillmode\":\"overlay\",\"size\":10,\"solidity\":0.2},\"type\":\"scatter\"}],\"scatterternary\":[{\"marker\":{\"colorbar\":{\"outlinewidth\":0,\"ticks\":\"\"}},\"type\":\"scatterternary\"}],\"surface\":[{\"colorbar\":{\"outlinewidth\":0,\"ticks\":\"\"},\"colorscale\":[[0.0,\"#0d0887\"],[0.1111111111111111,\"#46039f\"],[0.2222222222222222,\"#7201a8\"],[0.3333333333333333,\"#9c179e\"],[0.4444444444444444,\"#bd3786\"],[0.5555555555555556,\"#d8576b\"],[0.6666666666666666,\"#ed7953\"],[0.7777777777777778,\"#fb9f3a\"],[0.8888888888888888,\"#fdca26\"],[1.0,\"#f0f921\"]],\"type\":\"surface\"}],\"table\":[{\"cells\":{\"fill\":{\"color\":\"#EBF0F8\"},\"line\":{\"color\":\"white\"}},\"header\":{\"fill\":{\"color\":\"#C8D4E3\"},\"line\":{\"color\":\"white\"}},\"type\":\"table\"}]},\"layout\":{\"annotationdefaults\":{\"arrowcolor\":\"#2a3f5f\",\"arrowhead\":0,\"arrowwidth\":1},\"autotypenumbers\":\"strict\",\"coloraxis\":{\"colorbar\":{\"outlinewidth\":0,\"ticks\":\"\"}},\"colorscale\":{\"diverging\":[[0,\"#8e0152\"],[0.1,\"#c51b7d\"],[0.2,\"#de77ae\"],[0.3,\"#f1b6da\"],[0.4,\"#fde0ef\"],[0.5,\"#f7f7f7\"],[0.6,\"#e6f5d0\"],[0.7,\"#b8e186\"],[0.8,\"#7fbc41\"],[0.9,\"#4d9221\"],[1,\"#276419\"]],\"sequential\":[[0.0,\"#0d0887\"],[0.1111111111111111,\"#46039f\"],[0.2222222222222222,\"#7201a8\"],[0.3333333333333333,\"#9c179e\"],[0.4444444444444444,\"#bd3786\"],[0.5555555555555556,\"#d8576b\"],[0.6666666666666666,\"#ed7953\"],[0.7777777777777778,\"#fb9f3a\"],[0.8888888888888888,\"#fdca26\"],[1.0,\"#f0f921\"]],\"sequentialminus\":[[0.0,\"#0d0887\"],[0.1111111111111111,\"#46039f\"],[0.2222222222222222,\"#7201a8\"],[0.3333333333333333,\"#9c179e\"],[0.4444444444444444,\"#bd3786\"],[0.5555555555555556,\"#d8576b\"],[0.6666666666666666,\"#ed7953\"],[0.7777777777777778,\"#fb9f3a\"],[0.8888888888888888,\"#fdca26\"],[1.0,\"#f0f921\"]]},\"colorway\":[\"#636efa\",\"#EF553B\",\"#00cc96\",\"#ab63fa\",\"#FFA15A\",\"#19d3f3\",\"#FF6692\",\"#B6E880\",\"#FF97FF\",\"#FECB52\"],\"font\":{\"color\":\"#2a3f5f\"},\"geo\":{\"bgcolor\":\"white\",\"lakecolor\":\"white\",\"landcolor\":\"#E5ECF6\",\"showlakes\":true,\"showland\":true,\"subunitcolor\":\"white\"},\"hoverlabel\":{\"align\":\"left\"},\"hovermode\":\"closest\",\"mapbox\":{\"style\":\"light\"},\"paper_bgcolor\":\"white\",\"plot_bgcolor\":\"#E5ECF6\",\"polar\":{\"angularaxis\":{\"gridcolor\":\"white\",\"linecolor\":\"white\",\"ticks\":\"\"},\"bgcolor\":\"#E5ECF6\",\"radialaxis\":{\"gridcolor\":\"white\",\"linecolor\":\"white\",\"ticks\":\"\"}},\"scene\":{\"xaxis\":{\"backgroundcolor\":\"#E5ECF6\",\"gridcolor\":\"white\",\"gridwidth\":2,\"linecolor\":\"white\",\"showbackground\":true,\"ticks\":\"\",\"zerolinecolor\":\"white\"},\"yaxis\":{\"backgroundcolor\":\"#E5ECF6\",\"gridcolor\":\"white\",\"gridwidth\":2,\"linecolor\":\"white\",\"showbackground\":true,\"ticks\":\"\",\"zerolinecolor\":\"white\"},\"zaxis\":{\"backgroundcolor\":\"#E5ECF6\",\"gridcolor\":\"white\",\"gridwidth\":2,\"linecolor\":\"white\",\"showbackground\":true,\"ticks\":\"\",\"zerolinecolor\":\"white\"}},\"shapedefaults\":{\"line\":{\"color\":\"#2a3f5f\"}},\"ternary\":{\"aaxis\":{\"gridcolor\":\"white\",\"linecolor\":\"white\",\"ticks\":\"\"},\"baxis\":{\"gridcolor\":\"white\",\"linecolor\":\"white\",\"ticks\":\"\"},\"bgcolor\":\"#E5ECF6\",\"caxis\":{\"gridcolor\":\"white\",\"linecolor\":\"white\",\"ticks\":\"\"}},\"title\":{\"x\":0.05},\"xaxis\":{\"automargin\":true,\"gridcolor\":\"white\",\"linecolor\":\"white\",\"ticks\":\"\",\"title\":{\"standoff\":15},\"zerolinecolor\":\"white\",\"zerolinewidth\":2},\"yaxis\":{\"automargin\":true,\"gridcolor\":\"white\",\"linecolor\":\"white\",\"ticks\":\"\",\"title\":{\"standoff\":15},\"zerolinecolor\":\"white\",\"zerolinewidth\":2}}},\"xaxis\":{\"showgrid\":false,\"showticklabels\":false,\"zeroline\":false},\"yaxis\":{\"showgrid\":false,\"showticklabels\":false,\"zeroline\":false}},                        {\"displayModeBar\": false, \"responsive\": true}                    ).then(function(){\n",
       "                            \n",
       "var gd = document.getElementById('3d21cd6a-25d6-47eb-94d6-8b79fb1823f3');\n",
       "var x = new MutationObserver(function (mutations, observer) {{\n",
       "        var display = window.getComputedStyle(gd).display;\n",
       "        if (!display || display === 'none') {{\n",
       "            console.log([gd, 'removed!']);\n",
       "            Plotly.purge(gd);\n",
       "            observer.disconnect();\n",
       "        }}\n",
       "}});\n",
       "\n",
       "// Listen for the removal of the full notebook cells\n",
       "var notebookContainer = gd.closest('#notebook-container');\n",
       "if (notebookContainer) {{\n",
       "    x.observe(notebookContainer, {childList: true});\n",
       "}}\n",
       "\n",
       "// Listen for the clearing of the current output cell\n",
       "var outputEl = gd.closest('.output');\n",
       "if (outputEl) {{\n",
       "    x.observe(outputEl, {childList: true});\n",
       "}}\n",
       "\n",
       "                        })                };                });            </script>        </div>"
      ]
     },
     "metadata": {},
     "output_type": "display_data"
    }
   ],
   "source": [
    "init_notebook_mode(connected=True)\n",
    "words = [\"cat\", \"meow\", \"dog\", \"woof\", \"bird\", \"tweet\", \"lion\", \"roar\", \"horse\", \"neigh\", ]\n",
    "\n",
    "pca = PCA()\n",
    "\n",
    "glove_vectors = np.concatenate(\n",
    "    [nlp(word).vector.reshape(1, 300) for word in words]\n",
    ")\n",
    "\n",
    "glove_pca = pca.fit_transform(glove_vectors)\n",
    "scatter(glove_pca[:, 0], glove_pca[:, 1], np.array(words), np.array(words))"
   ]
  },
  {
   "cell_type": "markdown",
   "metadata": {},
   "source": [
    "## Exercises\n",
    "1) Think about why these relationships aren't exact (here it isn't exactly king - man + woman = queen). I can think of two main ones. For one - why may tweet be a bit of an outlier here? Same to a lesser extent with roar?\n",
    "2) Play around yourself and find some relationships - really try and think about whats going on here - what are the dimensions each representing? "
   ]
  },
  {
   "cell_type": "markdown",
   "metadata": {},
   "source": [
    "As a note, investigating what it is AI 'understands' is a hard problem, but there are ways to gain intuition. I suggest Semantle (https://semantle.com/). They use a different embedding: word2vec, brilliantly visualised by TensorFlow (https://projector.tensorflow.org/)."
   ]
  },
  {
   "cell_type": "markdown",
   "metadata": {},
   "source": [
    "# Case Study - Newspost Data"
   ]
  },
  {
   "cell_type": "code",
   "execution_count": 4,
   "metadata": {},
   "outputs": [
    {
     "data": {
      "text/html": [
       "<div>\n",
       "<style scoped>\n",
       "    .dataframe tbody tr th:only-of-type {\n",
       "        vertical-align: middle;\n",
       "    }\n",
       "\n",
       "    .dataframe tbody tr th {\n",
       "        vertical-align: top;\n",
       "    }\n",
       "\n",
       "    .dataframe thead th {\n",
       "        text-align: right;\n",
       "    }\n",
       "</style>\n",
       "<table border=\"1\" class=\"dataframe\">\n",
       "  <thead>\n",
       "    <tr style=\"text-align: right;\">\n",
       "      <th></th>\n",
       "      <th>Text</th>\n",
       "      <th>Class Name</th>\n",
       "    </tr>\n",
       "  </thead>\n",
       "  <tbody>\n",
       "    <tr>\n",
       "      <th>0</th>\n",
       "      <td>(Graham Toal)Re: Do we need the clipper for c...</td>\n",
       "      <td>sci.crypt</td>\n",
       "    </tr>\n",
       "    <tr>\n",
       "      <th>1</th>\n",
       "      <td>(Graham Toal)Let's build software cryptophone...</td>\n",
       "      <td>sci.crypt</td>\n",
       "    </tr>\n",
       "    <tr>\n",
       "      <th>2</th>\n",
       "      <td>(technopagan priest)Re: Would \"clipper\" make ...</td>\n",
       "      <td>sci.crypt</td>\n",
       "    </tr>\n",
       "    <tr>\n",
       "      <th>3</th>\n",
       "      <td>(Vesselin Bontchev)Re: Once tapped, your code...</td>\n",
       "      <td>sci.crypt</td>\n",
       "    </tr>\n",
       "    <tr>\n",
       "      <th>4</th>\n",
       "      <td>(Phil G. Fraering)Re: Once tapped, your code ...</td>\n",
       "      <td>sci.crypt</td>\n",
       "    </tr>\n",
       "  </tbody>\n",
       "</table>\n",
       "</div>"
      ],
      "text/plain": [
       "                                                Text Class Name\n",
       "0   (Graham Toal)Re: Do we need the clipper for c...  sci.crypt\n",
       "1   (Graham Toal)Let's build software cryptophone...  sci.crypt\n",
       "2   (technopagan priest)Re: Would \"clipper\" make ...  sci.crypt\n",
       "3   (Vesselin Bontchev)Re: Once tapped, your code...  sci.crypt\n",
       "4   (Phil G. Fraering)Re: Once tapped, your code ...  sci.crypt"
      ]
     },
     "execution_count": 4,
     "metadata": {},
     "output_type": "execute_result"
    }
   ],
   "source": [
    "df = pd.read_csv('data/newsposts/newsposts_science.csv', index_col=0)\n",
    "labels = df['Class Name'].astype('category').values.unique().tolist()\n",
    "df.head()"
   ]
  },
  {
   "cell_type": "code",
   "execution_count": 5,
   "metadata": {},
   "outputs": [],
   "source": [
    "df['glove_embedding'] = df['Text'].apply(get_embedding_glove)"
   ]
  },
  {
   "cell_type": "code",
   "execution_count": 6,
   "metadata": {},
   "outputs": [
    {
     "data": {
      "text/html": [
       "        <script type=\"text/javascript\">\n",
       "        window.PlotlyConfig = {MathJaxConfig: 'local'};\n",
       "        if (window.MathJax && window.MathJax.Hub && window.MathJax.Hub.Config) {window.MathJax.Hub.Config({SVG: {font: \"STIX-Web\"}});}\n",
       "        if (typeof require !== 'undefined') {\n",
       "        require.undef(\"plotly\");\n",
       "        requirejs.config({\n",
       "            paths: {\n",
       "                'plotly': ['https://cdn.plot.ly/plotly-2.35.2.min']\n",
       "            }\n",
       "        });\n",
       "        require(['plotly'], function(Plotly) {\n",
       "            window._Plotly = Plotly;\n",
       "        });\n",
       "        }\n",
       "        </script>\n",
       "        "
      ]
     },
     "metadata": {},
     "output_type": "display_data"
    },
    {
     "data": {
      "application/vnd.plotly.v1+json": {
       "config": {
        "displayModeBar": false,
        "linkText": "Export to plot.ly",
        "plotlyServerURL": "https://plot.ly",
        "showLink": false
       },
       "data": [
        {
         "hoverinfo": "text",
         "marker": {
          "line": {
           "color": "white",
           "width": 0.5
          },
          "size": 15
         },
         "mode": "markers",
         "name": "Class sci.crypt",
         "opacity": 0.7,
         "text": [
          ">In the UK, it's impossible to get approval to attach any crypto device \t>to the phone network.  (An...",
          "t of trawling through archives, I found the post I reproduce in full below.  Is it time to get toget...",
          "-Host: rac2.wam.umd.edu Organization: University of Maryland, College Park Lines: 11  In article <> ...",
          "est Center, University of Hamburg Distribution: na Lines: 33   (Marc Anderson) writes:  > methods.  ...",
          "rn Louisiana Lines: 52   (David Sternlight) writes:  >What follows is my opinion. It is not asserted...",
          "ion: Chaos Lines: 76 X-Newsreader: Archimedes ReadNews  -----BEGIN PGP SIGNED MESSAGE-----  In artic...",
          "Development, IBM Canada Lab. Disclaimer: This posting represents the poster's views, not those of IB...",
          ".edu Organization: University of Texas at San Antonio Distribution: na Lines: 22  In article <>  (An...",
          "tes: >For example, if I had a program on my disk which created totally random >files looking like en...",
          " wiretap chip) Organization: AT&T Bell Laboratories Lines: 66  In article <>, Graham Toal <> writes:...",
          "13 NNTP-Posting-Host: access.digex.net   > Second question: Why!?!? Why is such a strange procedure ...",
          " 16: 47:03 GMT Organization: York U. Student Information Systems Project Lines: 18  Mark Riordan wri...",
          "es: 34  In article <1qg8m2$>  (Edward Vielmetti) writes:   > I would suggest that 50 attractive MIME...",
          " View, CA Lines: 20  In article <>,  (David Sternlight) writes: > ... >                             ...",
          "ication Services (408 241-9760 guest) X-Newsreader: Tin 1.1 PL5 Lines: 28  Besides being an infringe...",
          "rn Louisiana Distribution: na Lines: 25   (douglas craig holland) writes:   >\tWith E-Mail, if they c...",
          " and Global Dynamics Division/NCAR, Boulder, CO Lines: 71  Here are some ideas for those of you who ...",
          "words: Hmm... Organization:  George Mason University, Fairfax Va. Distribution: world  Expires: 06/3...",
          "n: net Lines: 7  I am a PhD student. Can I get the sci.crypt group posted directly to me??? Also I w...",
          "zation: New Technology, Inc. Lines: 53  ( Below is my response to Dr. Denning's letter to Steven Bel...",
          "91711 Lines: 23  In article <>  (Robert Lewis Glendenning) writes: >First, what the fuck is NASA doi...",
          "il-Spec Computers Lines: 43  The M code stream  might be independently attacked based on knowledge o...",
          "H), Zurich, CH Lines: 120  Hmm, followup on my own posting... Well, who cares.  First let me try to ...",
          "s Gateway Lines: 171 NNTP-Posting-Host: cs.utexas.edu  Here are four pseudo-random character generat...",
          "lly -in- the chip, as \topposed to what is allegedly programmed therein, raise yet another trust \tiss...",
          ".com Reply-To:  Organization: Qualcomm, Inc Lines: 37  In article <>,  (Vince Kub) writes: |> Now, |...",
          "Online Communication Services (408 241-9760 guest) Distribution: na Lines: 35  Clipper Chip is a res...",
          "on: na Organization: ClariNet Communications Corp. Lines: 29  In article <1qnn7b$>  (Marcus J Ranum)...",
          "Greenbelt, MD USA Lines: 25 NNTP-Posting-Host: access.digex.net  Okay, let's suppose that the NSA/NI...",
          "etap chip) Lines: 16  : At the company I worked for previously, I received a file that was des encry...",
          "on: ClariNet Communications Corp. Distribution: na Lines: 37  The stragegy of the government is inte...",
          "-Posting-Host: sunspot.ece.clarkson.edu Cc: tuinstra   Q:   Who was consulted?  The Congress?  Indus...",
          " Texas - Austin Lines: 53 NNTP-Posting-Host: tramp.cc.utexas.edu Originator:    In article <>,  (Phi...",
          " would be to make PGP available : in some form on EBCDIC machines.  Don't encourage them.  Let EBCDI...",
          "e Design Automation Lines: 17       Notwithstanding all the legitimate fuss about this proposal, how...",
          "reader: TIN [version 1.1 PL7] Lines: 41  Charles Kincy () wrote: :  : All I have to say is...yeah, r...",
          "s:  >But do we really believe that the various governments >(including ours) won't have the full lis...",
          " Performance Group, Austin, TX X-Newsreader: rusnews v1.01 Lines: 17   (Steve Brinich) writes:  >  >...",
          "u by the numbers 2, 3, and 7 In-Reply-To: 's message of 19 Apr 93 18:23:27 -0400 Nntp-Posting-Host: ...",
          "ribution: world NNTP-Posting-Host: jfenton.kaleida.com X-UserAgent: Nuntius v1.1.1d12 X-XXMessage-ID...",
          "desparately* prefer it if we didn't rehash the same arguments that went on ad infinitum last time.  ...",
          "ganization: NASA Science Internet Project Office Lines: 24    |>    The Attorney General will procur...",
          "(Brad Templeton)  \tLet's assume, for the moment, that the system really is secure unless \tyou get bo...",
          "an old posting about CELP speech compression:  \tIn case you'd like to experiment with CELP, you can ...",
          " 29  In <>  (John R. Levine) writes: (quoting someone else here)  >>The cryptographic protocol, thou...",
          "orm the voice compression/expansion.  They can't : be expensive, because they exist in many phones c...",
          "ganization: University of Colorado, Boulder Distribution: na Lines: 11  I change login passwords eve...",
          "rsity of Colorado, Boulder Distribution: na Lines: 32  In article <>  (Marc Anderson) writes: [...] ...",
          "lt, MD USA Lines: 10 NNTP-Posting-Host: access.digex.net    I suspect that the decisive element in t...",
          "ns, Greenbelt, MD USA Lines: 7 NNTP-Posting-Host: access.digex.net   > er, excuse me but since the e...",
          "ost: qualcom.qualcomm.com Organization: Qualcomm, Inc., San Diego, CA Distribution: na Lines: 8   (J...",
          "ilink Corporation, Petaluma, CA Lines: 19  In article <>,  (David Sternlight) writes: >  > Chances a...",
          ". - Genetics Lines: 30  In article <>,  (Vesselin Bontchev) wrote: >  >  (Andrew Haley) writes: >  >...",
          "tion: na Lines: 13  >>\tWith E-Mail, if they can't break your PGP encryption, they'll just >>call up ...",
          "t. of Math, Harvard Univ. Nntp-Posting-Host: zariski.harvard.edu Lines: 33  In article <1ppg02$>   (...",
          "tap chip) In-Reply-To: 's message of Wed, 21 Apr 1993 13:23:18 GMT Nntp-Posting-Host: epcot.harlequi...",
          "IN [version 1.1 PL6] Lines: 35  I guess the cryptowranglers read this group too.  But of course I kn...",
          "20  In article <>,  (D. J. Bernstein) writes: > Short summary of what Bellovin says Hellman says the...",
          "g-Host: beethoven.cs.colostate.edu Organization: Colorado State University, Computer Science Departm...",
          "st: pizzabox.demon.co.uk Reply-To: Graham Toal <> Organization: Cuddlehogs Anonymous Lines: 9  In ar...",
          "nstruments, Inc. Nntp-Posting-Host: dsg4.dse.beckman.com Lines: 22  In <>  (Jonathan Eifrig) writes:...",
          "Fairfax VA Distribution: na Lines: 65   (Timothy C. May) writes:  >Brad Templeton () wrote: >: It oc...",
          "al Sciences Lines: 29 Distribution: inet NNTP-Posting-Host: moink.nmsu.edu  In article <>  (1016/2EF...",
          " Systems Corporation - Herndon, VA  USA Lines: 30 Distribution: world Reply-To:  (Amanda Walker) NNT...",
          "ogy (ETH), Zurich, CH Lines: 28  In article <1qv83m$>  (Jim McCoy) writes: >\tI set up a bbs that use...",
          "Nntp-Posting-Host: zariski.harvard.edu Lines: 55  In article <>   (D. J. Bernstein) writes: > >I wan...",
          "TP server at csrc.ncsl.nist.gov no longer \trecognizes the 'expn' and 'vrfy' commands...  \t   telnet ...",
          " chip) Organization: CSRI, University of Toronto Lines: 31  In article <>  (John Kelsey) writes: >  ...",
          "Access UNIX/Internet Project Lines: 16  In article <>  (Peter Gutmann) writes: [article deleted] > >...",
          "ation - Herndon, VA  USA Lines: 68 Distribution: world Reply-To:  (Amanda Walker) NNTP-Posting-Host:...",
          "WPI; Marlboro Ma Lines: 35  In article <1qn1ic$>  (Peter Wayner) writes: >Okay, let's suppose that t...",
          "thoughts Lines: 7  The cryptographic algorythm MUST be kept secret, or private individuals could mak...",
          "mino theory was right... Organization: Chinet - Public Access UNIX Distribution: na Lines: 8  In art...",
          "mputing of WPI; Marlboro Ma Distribution: na Lines: 26  In article <> Graham Toal <> writes: >In art...",
          "Laboratories, Inc., San Diego, California Lines: 15  In article <> Graham Toal <> writes: >I am *com...",
          "ap, clipper, key-escrow, Mykotronx Organization: Banzai Institute Lines: 19 Nntp-Posting-Host: mycro...",
          "Center, University of Hamburg Lines: 23   (David Sternlight) writes:  > I will provide one hint: it ...",
          "ity Lines: 22  In article <> Rick Miller <> writes: > (Jurgen Botz) writes: >> (Marc Horowitz N1NZU)...",
          "  Here is a disturbing thought.  Now, we no longer live in the days of big filing cabinets. We live ...",
          ": 27 NNTP-Posting-Host: nuustak.csir.co.za X-Disclaimer: None of the opions expressed herein are the...",
          "rtin University of Technology  In article <>,  (Steve Johnson) writes: >  (Brad Templeton) writes: >...",
          " capriccioso X-Newsreader: TIN [version 1.1 PL6] Distribution: na Lines: 54  I am eager to hear the ...",
          "le <1r0nov$>  (Steve Brinich) writes:   > > 1. American manufacturers peddling Cripple Chips with a ...",
          "presents the poster's views, not necessarily those of IBM. Nntp-Posting-Host: kingbee.watson.ibm.com...",
          "etap chip) Organization: Computing Research Lab Lines: 36 \t<> \t<> <> NNTP-Posting-Host: lole.nmsu.ed...",
          "t Omaha Distribution: na Lines: 18   (Geoffrey Kuenning) writes:  >It always amazes me how quick peo...",
          " chips for phones, not computer-bound station)_ Article-I.D.: agora.C5qy3M.DE3 Organization: Open Co...",
          "of Math, Harvard Univ. Nntp-Posting-Host: zariski.harvard.edu Lines: 27  In article <>  (Paul Crowle...",
          "! Nntp-Posting-Host: qualcom.qualcomm.com Organization: Qualcomm, Inc., San Diego, CA Distribution: ...",
          "bistromath.mitre.org Organization: The MITRE Corporation Lines: 41  In article <>  (David Sternlight...",
          "Communications, Greenbelt, MD USA Lines: 6 Distribution: na NNTP-Posting-Host: access.digex.net    F...",
          "-Mailer: Simple NEWS 1.90 (ka9q DIS 1.19) Lines: 23  In article <>  writes:  >since the price of 1.4...",
          "e conservation of momentum Distribution: na Lines: 65  In article <>  (Jerry Han) writes: >In articl...",
          "ribution: na Lines: 47   (Jerry Han) writes: > The point of the matter is that; yes this is a seriou...",
          "istribution: inet Reply-To:  NNTP-Posting-Host: minerva.cis.yale.edu X-Newsreader: TIN [version 1.1 ...",
          "ut a box that you plug your phone into, which would allow \t>encrypted voice communications with some...",
          " wiretap chip) Organization: AT&T Bell Laboratories Lines: 28  In article <>,  (James R Ebright) wri...",
          "ost: beethoven.cs.colostate.edu Organization: Colorado State University, Computer Science Department...",
          " I am testing IDEA block cipher implementations for correctness and needs some golden test vectors. ...",
          ", wiretap, clipper, key-escrow, Mykotronx Nntp-Posting-Host: top.magnus.acs.ohio-state.edu Organizat...",
          "ed Systems Architecture   \tI have a bunch of questions about the encryption scheme referenced in the...",
          "Communications, Greenbelt, MD USA Lines: 5 Distribution: na NNTP-Posting-Host: access.digex.net   > ...",
          "edu Organization: University of Missouri - Rolla, Rolla, MO Lines: 19  In article <>  (Bob Cain) wri...",
          "ting-Host: eff.org Organization: The Electronic Frontier Foundation Lines: 26  Clipper might be a go...",
          "a.edu Organization: UCLA, Computer Science Department Distribution: na Lines: 18  In article <>  (Pa...",
          "ion: Engineering Computer Network Distribution: na Lines: 27  In article <>,  (Brad Templeton) write...",
          "y-To:  Organization: Design Automaton Div., Texas Instruments, Inc. Lines: 36  > (Andrew Molitor) wr...",
          "r, Minneapolis, MN Lines: 18  I agree that notifying your elected officials of your feelings on this...",
          "41-9760 guest) X-Newsreader: Tin 1.1 PL5 Lines: 41  Perry E. Metzger () wrote: : Here is a disturbin...",
          "N [version 1.1 PL6] Lines: 84  *** SOURCE code to Macintosh PGP 2.2 now available via anonymous FTP ...",
          " DSI/USCRPAC Lines: 39  In article <>  (Derek Atkins) writes:   > >The point here is not the specifi...",
          "41     Organization: Mission Operations and Data Systems Distribution: na Lines: 44  In article <1qn...",
          " The MITRE Corporation Lines: 67  In article <>  (Carl M Kadie) writes: > (Andrew S Hall) writes: > ...",
          "Thu, 20 May 1993 00:00:00 GMT Organization: Computer Science, Indiana University Lines: 163 Content-...",
          ": 21 NNTP-Posting-Host: scss3.cl.msu.edu X-Newsreader: TIN [version 1.1 PL8]  For those of you looki...",
          "ration - Herndon, VA  USA Lines: 35 Distribution: world Reply-To:  (Amanda Walker) NNTP-Posting-Host...",
          "s! Organization: Kubota Pacific Computer, Inc. Lines: 46   (Brad Yearwood) writes: | If Clipper come...",
          "13  In article <>  (Phil Karn) writes: >It looks like Dorothy Denning's wrong-headed ideas have gott...",
          " 139  The following document summarizes the Clipper Chip, how it is used, how programming of the chi...",
          "tion: Partnership for an America Free Drug Distribution: na Lines: 104   (Robert Ward) writes: >In a...",
          " In article <:  (Peter Trei) writes: :Judge: \"I grant you immunity from whatever may be learned from...",
          "ll Square Research Corp. Lines: 20   (Steve Johnson) writes: >>-Tim May, whose sig block may get him...",
          "anization: Beckman Instruments, Inc. Nntp-Posting-Host: dsg4.dse.beckman.com Lines: 15  In <>  (Jame...",
          "993 04:00:07 GMT Reply-To:  NNTP-Posting-Host: pad-thai.aktis.com Summary: Part 3 of 10 of the sci.c...",
          " IA, USA Lines: 43   (Philip Zimmermann) writes:  Philip, I think your ideas are well taken and cons...",
          "ines: 23  In article <>  (Kenneth Ng) writes: >In article <:  (Peter Trei) writes: >:Judge: \"I grant...",
          "ganization: Thibault & Friends Lines: 10  In article <>  (The Jester) writes:   > Proof Windows is a...",
          "g read the various \"Clipper\" announcements on the net over the last few  days and a LOT of uninforme...",
          "tap chip) Organization: Harvey Mudd College, Claremont, CA 91711 Lines: 15  In article <>  (Steven B...",
          "f Comp. Sci., Urbana, IL Lines: 18   (Tal Kubo) writes:  [...] >The EFF has been associated with eff...",
          "04:00:07 GMT Reply-To:  NNTP-Posting-Host: pad-thai.aktis.com Summary: Part 2 of 10 of the sci.crypt...",
          "7:40:17 GMT Nntp-Posting-Host: l-b-johnson.eff.org Organization: Electronic Frontier Foundation X-Us...",
          "te of Technology (ETH), Zurich, CH Lines: 19  In article <>  (Graham Toal) writes: >Can someone tell...",
          "ution: na Lines: 26  In article <>  (Karl Barrus) writes:  > >Would you trust a black-box from the N...",
          "Inc. Lines: 38 Nntp-Posting-Host: signal.ece.clarkson.edu  [Apologies for not posting to alt.clipper...",
          "0:07 GMT Reply-To:  NNTP-Posting-Host: pad-thai.aktis.com Summary: Part 1 of 10 of the sci.crypt FAQ...",
          "urgh University Distribution: inet Lines: 12  Quoting  in article <>: >Perhaps these encryption-only...",
          ". Sci., Urbana, IL Lines: 42   (Andrew S Hall) writes:  >I am postive someone will correct me if I a...",
          "nes: 27 Distribution: na \t<> NNTP-Posting-Host: menudo.uh.edu In-reply-to: 's message of Sun, 18 Apr...",
          "a Organization: Totally Unorganized Lines: 17  In article <1r21t1$>  (Steve Brinich) writes: < < > I...",
          "Universitaetsrechenzentrum, Heinrich-Heine-Universitaet, Duesseldorf Lines: 40 NNTP-Posting-Host: la...",
          "nication Services (408 241-9760 guest) Lines: 61  In article <>  (Robin Hanson) writes: >I'm attempt...",
          "e <>  writes: < (David Sternlight) writes: < <> Here's a simple way to convert the Clipper proposal ...",
          "ni-kl.de Organization: University of Kaiserslautern, Germany Lines: 39   (Stephan Neuhaus (HiWi Matt...",
          ".citicorp.com X-Newsreader: TIN [version 1.1 PL6]  As of yet, there has been no description of the g...",
          "n: GeoQuest System, Inc. Houston Lines: 17  In article <>  (Perry E. Metzger) writes: > >each of the...",
          "In article <>,  (Vernon Schryver) writes: > In article <>,  (David Sternlight) writes: >>           ...",
          " Systems Corporation - Herndon, VA  USA Lines: 34 Distribution: world Reply-To:  (Amanda Walker) NNT...",
          "ngland Lines: 25  -----BEGIN PGP SIGNED MESSAGE-----  Hi all..  Does anyone know of a UNIX utility a...",
          "8 NNTP-Posting-Host: ellisun.sw.stratus.com Keywords: cooperation  In article <>  writes: >say, can ..."
         ],
         "type": "scatter",
         "x": [
          -6.371471881866455,
          7.281039237976074,
          3.87052059173584,
          -3.7672550678253174,
          -7.497377395629883,
          -4.0819597244262695,
          -12.185263633728027,
          1.0549371242523193,
          -3.7142584323883057,
          -10.16545295715332,
          -0.4114636182785034,
          4.5736775398254395,
          3.0583550930023193,
          4.1934661865234375,
          -0.3388836979866028,
          -3.7109529972076416,
          -9.967942237854004,
          -13.034006118774414,
          -5.0183305740356445,
          -6.18639612197876,
          -1.3223072290420532,
          0.10812966525554657,
          -6.911438941955566,
          22.42654800415039,
          -8.831414222717285,
          -7.648533344268799,
          -9.722661018371582,
          -6.109527587890625,
          -6.484235763549805,
          -1.4610651731491089,
          -12.66378116607666,
          12.7269868850708,
          -1.5805248022079468,
          -1.0348161458969116,
          -7.757784366607666,
          -6.338698863983154,
          -0.3793156147003174,
          3.2597439289093018,
          1.8041882514953613,
          -2.7368412017822266,
          -12.198254585266113,
          0.9299647808074951,
          -7.739593982696533,
          -5.334108352661133,
          13.046191215515137,
          -9.102371215820312,
          -8.22145938873291,
          0.30587247014045715,
          -4.607553005218506,
          3.101412534713745,
          1.4943501949310303,
          -3.8702383041381836,
          -0.7029210329055786,
          -2.3155593872070312,
          -2.0445687770843506,
          -3.1963467597961426,
          -7.631380558013916,
          -0.3443469703197479,
          -4.337052822113037,
          3.0227060317993164,
          0.2669681906700134,
          -1.0669779777526855,
          -5.515500545501709,
          -3.379166603088379,
          -2.792722702026367,
          -5.537734031677246,
          -0.4016663730144501,
          1.6491957902908325,
          1.6596324443817139,
          -7.6365132331848145,
          -2.538630723953247,
          -4.0876688957214355,
          -1.6714245080947876,
          -0.5137396454811096,
          -0.22751829028129578,
          -6.285348892211914,
          1.0551644563674927,
          3.710299253463745,
          -13.109651565551758,
          -1.1272950172424316,
          -1.342060923576355,
          -7.76733922958374,
          -3.0278427600860596,
          5.2156548500061035,
          -2.9227192401885986,
          -7.336704730987549,
          -7.196025848388672,
          -1.681473970413208,
          -4.298457622528076,
          -6.961170673370361,
          -0.373368501663208,
          3.118140935897827,
          -7.587332248687744,
          -6.1929497718811035,
          1.8936395645141602,
          -9.461932182312012,
          -3.4348955154418945,
          -5.050510883331299,
          -0.6486369371414185,
          -0.01210366003215313,
          0.9763660430908203,
          -0.20289888978004456,
          -2.2347731590270996,
          -3.9109904766082764,
          -6.45688009262085,
          1.0369809865951538,
          -7.945915222167969,
          -2.0275185108184814,
          0.35822027921676636,
          5.364563941955566,
          -7.200321197509766,
          -4.016526222229004,
          -4.264945030212402,
          -8.234502792358398,
          -0.9872980117797852,
          -4.98200798034668,
          -0.9254946112632751,
          -4.130032062530518,
          -4.09965181350708,
          -6.9076313972473145,
          -1.670092225074768,
          -4.698272705078125,
          8.011744499206543,
          -5.970942974090576,
          0.3630628287792206,
          2.3274786472320557,
          3.9960317611694336,
          -5.0663533210754395,
          0.5464945435523987,
          3.3135979175567627,
          -7.762921333312988,
          -6.376988410949707,
          -1.4721522331237793,
          -8.101387023925781,
          21.94000244140625,
          -1.4492112398147583,
          2.6008858680725098,
          -7.408199310302734,
          9.394124031066895,
          2.7545058727264404,
          -3.3199307918548584,
          -1.960975170135498,
          -1.369097352027893,
          -7.898217678070068,
          -6.029395580291748,
          -7.143913269042969,
          2.1012485027313232,
          -2.5881779193878174,
          5.043267726898193,
          -0.2774733006954193
         ],
         "y": [
          4.241275310516357,
          -6.4791998863220215,
          -2.4178686141967773,
          -0.520358681678772,
          3.873356342315674,
          3.3056528568267822,
          3.0730254650115967,
          -3.0050148963928223,
          1.347589373588562,
          4.043189525604248,
          -0.7843165993690491,
          -3.9052414894104004,
          -0.9318462610244751,
          -2.3195908069610596,
          -4.667749881744385,
          1.7957731485366821,
          1.3317511081695557,
          2.9710853099823,
          0.28018394112586975,
          -0.21452520787715912,
          1.1047568321228027,
          6.25054931640625,
          1.3853346109390259,
          3.350360631942749,
          2.1692967414855957,
          2.2967753410339355,
          2.969189167022705,
          0.4072231948375702,
          -0.36206746101379395,
          -2.026139259338379,
          2.9081015586853027,
          11.932870864868164,
          2.635000228881836,
          -0.8052237033843994,
          -0.3214537799358368,
          1.4047554731369019,
          -0.8532528877258301,
          0.07262984663248062,
          -0.7198522686958313,
          1.2669047117233276,
          3.245802164077759,
          -1.052882194519043,
          -0.32153621315956116,
          -0.5293679237365723,
          10.739977836608887,
          2.120285987854004,
          1.0879966020584106,
          0.8920220136642456,
          -2.40969181060791,
          -3.090266704559326,
          -2.5400688648223877,
          1.710273265838623,
          1.3033145666122437,
          3.5641324520111084,
          2.3580732345581055,
          2.7752742767333984,
          1.722640037536621,
          1.765371322631836,
          4.932469367980957,
          1.5189162492752075,
          0.49110478162765503,
          1.9086400270462036,
          3.44037127494812,
          -0.4833226501941681,
          1.9366832971572876,
          0.6439566016197205,
          -1.1522513628005981,
          2.540710687637329,
          -0.33423367142677307,
          3.55450177192688,
          4.079376220703125,
          0.7182453870773315,
          -0.8870573043823242,
          -0.09643611311912537,
          -0.7716542482376099,
          1.0996125936508179,
          -2.1800284385681152,
          2.2962887287139893,
          2.9738504886627197,
          2.4550206661224365,
          1.7615212202072144,
          0.7239574790000916,
          -0.8223751783370972,
          -2.591557025909424,
          0.7923298478126526,
          1.4423178434371948,
          1.2439162731170654,
          1.1671857833862305,
          -1.1831762790679932,
          3.4075515270233154,
          -2.116112232208252,
          -0.5652284026145935,
          3.7599449157714844,
          2.320085287094116,
          -0.9925952553749084,
          2.7082438468933105,
          1.172257900238037,
          5.115876197814941,
          -0.25759729743003845,
          0.4871048331260681,
          -1.147080898284912,
          1.036515474319458,
          2.2072291374206543,
          1.0721242427825928,
          2.2446963787078857,
          -1.333542823791504,
          0.5077610015869141,
          -2.5537772178649902,
          -3.1149861812591553,
          -3.0742781162261963,
          2.9645273685455322,
          0.5260750651359558,
          3.178273916244507,
          1.173448085784912,
          -2.0439462661743164,
          2.1922597885131836,
          1.1573715209960938,
          0.007193352095782757,
          -0.6910797953605652,
          -1.5580109357833862,
          -1.129557490348816,
          -0.17881566286087036,
          0.07747562974691391,
          0.6190196871757507,
          8.649669647216797,
          -1.4293732643127441,
          -0.5065128207206726,
          -0.42003655433654785,
          -0.218951016664505,
          -3.2469847202301025,
          1.7066171169281006,
          2.755178689956665,
          2.0985798835754395,
          2.010249614715576,
          18.184757232666016,
          1.1440465450286865,
          -0.4458378255367279,
          3.1817049980163574,
          -3.47509765625,
          1.7255561351776123,
          0.971498429775238,
          2.481043815612793,
          3.989464044570923,
          3.5472161769866943,
          0.6634467244148254,
          2.361989974975586,
          -1.582230567932129,
          -1.186413049697876,
          -2.751586437225342,
          0.3901008367538452
         ]
        },
        {
         "hoverinfo": "text",
         "marker": {
          "line": {
           "color": "white",
           "width": 0.5
          },
          "size": 15
         },
         "mode": "markers",
         "name": "Class sci.electronics",
         "opacity": 0.7,
         "text": [
          "ity of Minnesota, Duluth Lines: 28 NNTP-Posting-Host: ua.d.umn.edu  In article <>  (Bijan Mobasseri)...",
          "tern Reserve University, Cleveland, Ohio (USA) Lines: 45 NNTP-Posting-Host: slc10.ins.cwru.edu     A...",
          "8-241-9760 login: guest) Lines: 25   (Neal Patrick Howland) writes: > >From what I understand about ...",
          " of Illinois at Urbana Lines: 14  As the subject says - Can I use a 4052 for digital signals?  I don...",
          "17    I would like to be able to amplify a voltage signal which is output from a thermocouple, prefe...",
          "rt Collins Site X-Newsreader: TIN [version 1.1 PL8.5] Lines: 5  Has anyone ever heard of FET-TRONS (...",
          "mulation Organization: Harris Controls Lines: 18   I recently ftp'd Al's Circuit Simulator (ACS) and...",
          "zation: Medical Informatics, Pittsburgh, PA USA Lines: 33   \tGreetings. I've been seeing the word \"s...",
          "ceiver system Organization: National Hospitals, Iceland Lines: 19   Dear Netters I want to send EMG-...",
          "ology Hatley & Pirbhai ? I am a British final year real-time degree student, and as a project I am c...",
          "t Imag, Grenoble, France Lines: 38  In article <>,  (Ketil Albertsen,TIH) writes: |> In article <>, ...",
          " 8 News-Software: VAX/VMS VNEWS 1.41 Nntp-Posting-Host: ubvmsb.cc.buffalo.edu   \tHow does the radio ...",
          "echnological University X-Newsreader: TIN [version 1.1 PL8] Lines: 21  Charlie Brett () wrote: : You...",
          "ersity, St. Louis MO Lines: 88  In article <>  (Stan Burton) writes: > >-- > >I would like to be abl...",
          ". Keywords: pattern Summary: MDA/EGA/VGA pat. gen. Lines: 15  I repair a lot of monitors here, and I...",
          "tion, Huntsville AL Lines: 25  In article <>,  (Michael DeAddio) writes:  |> |> The 'beam' is split ...",
          " We have a setup with with 13 polaroid transducers and rangefinders. We would like to fire these thr...",
          " 12   (Ronald W. Butts, Jr.) writes:  >I am looking for suppliers of 900MHz spread spectrum radio mo...",
          "Hz, problems (FPU exception) Nntp-Posting-Host: prawn.sp.ph Organization: Imperial College of Scienc...",
          " In article <>  writes: >In article <>,  (Russ Crisp) writes: >> I'm considering modernizing some ol...",
          "s: 10   In article <>, Joseph Chiu writes:  > The Ohmite company was the first to characterize resis...",
          "es (408-241-9760 login: guest) Lines: 32  Sci.E(E) netters:  I am setting out to build and market a ...",
          "edu Organization: Michigan Technological University Lines: 32  In article <>,  (Russ Crisp) wrote: >...",
          ": TIN [version 1.1 PL8] Lines: 15   Hi there  Does anyone know how to get hold of data as well as st...",
          "4  Can anybody recommend a good, application-oriented beginner's reference to RF circuits?    I am p...",
          "0  Does any one know if the 6551 is timing/pin compatible with the 6551..  It seems the 6551 has in ...",
          "MM> (Martin McCormick) MM>Organization: Oklahoma State University, Stillwater, OK MM>\tWhat sort of l...",
          "rganization: Chalmers University of Technology, Gothenburg Sweden Lines: 10  Does anybody know anyth...",
          " Hewlett-Packard X-Newsreader: TIN [version 1.1 PL8.9] Lines: 8  While driving through the middle of...",
          "ple that are interested in every aspect of the 2600 try the zine:  2600 connection $1 cash to : Timo...",
          "niversity  Lines: 12  Since I have seen various different numbers to dial to get your number read ba...",
          "rticle <>  (Billy Quinn) writes: >I built a little project using the radio shack 5vdc relays to swit...",
          "anization: SDSU - LARC Lines: 16 NNTP-Posting-Host: larc.sdsu.edu  In article <>,  (Scott Townsend) ...",
          "nto Zoology Lines: 13  In article <>  (Michael Golan) writes: >The board itself is also identical, w...",
          ": na Organization: APG-Edgewood, MD, USA Lines: 26   PLease take these and use them.  Take advantage...",
          "atik Nntp-Posting-Host: schroeder.ifi.unibas.ch Lines: 11  Great, the first advantage of cheap coax,...",
          "y-To:  Organization: New York University Lines: 13  I'm looking to build a microphone preamp that ha...",
          "Lines: 12  Any info on modern 20MHZ or better dual trace scopes would be appreciated. Should I buy a...",
          "cation Services (408 241-9760 guest) Lines: 25   I had a similar idea, for a fax/answering machine s...",
          "derbyl) Organization: MPR Teltech Ltd. Lines: 30   writes: >Initial symptoms: >-no picture or sound ...",
          "In article <>  (Stephe Lewis Foskett) writes: > >I'm doing sound for a couple of bands around here a...",
          "Organization: Utah State Univ. EE Nntp-Posting-Host: sol.ee.usu.edu Lines: 32  In article <>,  (Robe...",
          "Services (408 241-9760 guest) Distribution: usa Lines: 19   I bought this chip from Suncoast Technol...",
          "ton University, St. Louis MO Lines: 32  In article <>  (J. Babb) writes: >Fellow Info-junkies, >  I ...",
          "AI Programs, University of Georgia, Athens Lines: 13  You can get a *little* UV by putting a heavy U...",
          " University In-Reply-To: 's message of Mon, 19 Apr 93 00:38:00 GMT X-News-Reader: VMS NEWS 1.24 Line...",
          "g-Host: hpctdkz.col.hp.com  >   Does anybody out there have one of those food dehydrators I've been ...",
          "is  In <>  (Ketil Albertsen,TIH) writes:  >May we interpret this as an offer to volunteer as editor ...",
          "e-Hulman Lines: 14 NNTP-Posting-Host: g222-26.nextwork.rose-hulman.edu Keywords: 68hc16  In article ...",
          "truments Inc. Nntp-Posting-Host: 134.217.245.87 Lines: 11  Does anyone know of an FTP site where I m...",
          "ut how to build a cheap, low resolution (or high :-) video projector...   (example: a LCD and an sli...",
          "on: University of Wales, Aberystwyth Lines: 23  I have a Fujitsu M2322K which has been removed (I be...",
          "tion: Reed College, Portland, Oregon Lines: 36  In article <>  (Babak Sehari) writes: >--- > >I was ...",
          "nter, Chandler Arizona Lines: 17  In article <>,  (Brad Kepley) writes: |> I just heard an unbelieva...",
          "zation: Geophysical Institute, Fairbanks, AK Lines: 21   I would be interested in hearing from anyon...",
          " Technology, Pasadena Lines: 8 NNTP-Posting-Host: fleming.caltech.edu  I was wondering if anyone kno...",
          "untsville AL Lines: 41  In article <>,  (Mark Zenier) writes: |> Zack Lau () wrote: |> : In sci.elec...",
          "rds: JUMPER SETTINGS DIP-SWITCH SETTINGS, HELP, COMPUTER 386SX Organization: National Federation of ...",
          "-Host: grv.grace.cri.nz Lines: 37  From:\tMX%\"\"  6-APR-1993 06:48:34.96 To:\tSRGXNBS CC:\t Subj:\tRe: I^...",
          "tion: Rhodes University, Grahamstown, South Africa Lines: 44 X-Newsreader: TIN [version 1.1 PL8]  : ...",
          "sche Nachrichtentechnik Lines: 41  This is for a friend of mine. Please send answers directly to him...",
          "nes: 54   Yes, I know it's nowhere near Christmas time, but I'm gonna loose Net access in a few days...",
          "ganization: University of Washington, Seattle Lines: 18 NNTP-Posting-Host: carson.u.washington.edu  ...",
          "o:  Organization: Univ. of Lowell CS Dept. Lines: 6  I suggest that misc.consumer.house is a better ...",
          "le <>  (Wayne Smith) writes: >>No restriction was placed >>on receiving RADAR (or, curiously, cordle...",
          "d Reptile Farm Lines: 20 NNTP-Posting-Host: grissom.larc.nasa.gov  In article <>  (C.M. Hicks) write...",
          "a Organization: University of Calgary Lines: 13  Last week I asked for help in getting an old homema...",
          "erve University, Cleveland, Ohio (USA) Lines: 25 NNTP-Posting-Host: slc10.ins.cwru.edu   I recently ...",
          "f Technology Lines: 11  In article <>  (Sean Oliver) writes: >> Joseph Mich Krzeszewsk writes: >>   ...",
          "ld Organization: University of Washington, Seattle Lines: 25 NNTP-Posting-Host: carson.u.washington....",
          "opy of \"8088 Assembler Language Programming: The IBM PC\" by Willen and Krantz, 2nd ed. pub. by Sams,...",
          "stralia Lines: 14 NNTP-Posting-Host: mackerel.gu.uwa.edu.au  Well here in Australia you dial  11544 ...",
          "Thomson) writes: > Joseph Chiu () wrote: >  > : And the measure of current, Amp, is actually named a...",
          "Laboratory Lines: 15 NNTP-Posting-Host: travis.llnl.gov  In article <>,  (David Glen Jacobowitz) wri...",
          "ation: Hewlett-Packard Lines: 31 X-Newsreader: TIN [version 1.1.4 PL6]  william burchill () wrote: :...",
          "A Lines: 8  In article <>  (David F. Newman) writes: >Subject: arcade style buttons and joysticks >C...",
          "chnology, Finland Lines: 17 \t<> \t<1ptolq$> NNTP-Posting-Host: lk-hp-11.hut.fi In-reply-to: 's messag...",
          "ogical University - Singapore   currently I am using the 8051 microcontroller with external eprom.. ...",
          "leans, France. Lines: 9      Hi All!     I would like to know what are the popular ICs of the type, ...",
          "-1607 Lines: 43   (Bob Myers) writes:  > > I am looking for any info I can get on the NEC 3D monitor...",
          "etNews abusers - Beltway Annex Lines: 19 Reply-To:  (David Lesher) NNTP-Posting-Host: skybridge.scl....",
          "ion: SLAMDANZ CYBRNETX Lines: 13  Anyone know a reasonable circuit for programming PALs?  I am inter...",
          "US), U of Stuttgart, FRG Lines: 38 NNTP-Posting-Host: pc8.izfm.uni-stuttgart.de  Hi! In article <>  ...",
          "puter Group, Tempe, Az. Distribution: usa Lines: 9    Does anybody out there have one of those food ...",
          "on: usa Organization: Triacus Inc. Lines: 26 Nntp-Posting-Host: mars.calstatela.edu  Recently, my vi...",
          " grade science report Distribution: usa Organization: Boeing Computer Services (ESP), Seattle, WA Li...",
          "Host: wu2.wl.aecl.ca Organization: AECL Research, Whiteshell Laboratories Distribution: na Lines: 25...",
          "anization: CSIR Lines: 15 NNTP-Posting-Host: 146.64.23.16 X-Disclaimer: None of the opions expressed...",
          "Annex Lines: 24 Reply-To:  (David Lesher) NNTP-Posting-Host: skybridge.scl.cwru.edu  Others said: {e...",
          "According to my TI databook, the pinouts for the TIL311 display are as follows:    Pin 1 - LED suppl...",
          "andy.com!pauls    Apr 21 09:31:00 1993 Lines: 6   Motorola has a good app note on a 10 band equalize...",
          "onto Distribution: na Lines: 11  The subject line says it all. I'm working on a project that will us...",
          "&ROMs with ALE latches (for 8051's) Lines: 28   (Steve Pope) writes:  >In article <>  (j. pethybridg...",
          "p-Posting-Host: cimill  In article <>,  (Peter Tryndoch) writes... >AllThe Devil ReincarnateSWR mete...",
          "ege of Medicine Lines: 19  If the set is direct line powered, try checking the [likely to be there] ...",
          "ticle <>  (G. Stewart Beal) writes: >In article <>  (Jason Haines) writes: >> >>\tI was wondering if ...",
          ": 19  Hi, I've got a PACE MODEM , Series Four 2400s ( made in England by PACE Micro Technology ) wit...",
          " S. Williamson) Organization: NCR E&M Columbia, SC Lines: 17  In article <>  (Robert Canright) write...",
          "ization:  Colorado Concert Sound Lines: 25  In article <>  (TOM WAGNER, Wizzard of old Audio/Visual ...",
          "ch Lines: 15  Hi !!!  Is there somebody using a 56001 DSP from Motorola ??? I am searching for progr...",
          "se-Hulman Lines: 11 NNTP-Posting-Host: g222-26.nextwork.rose-hulman.edu  In article <>  (Jason   Hai...",
          "Australia. Lines: 19 Distribution: world NNTP-Posting-Host: macadam.mpce.mq.edu.au Originator:    We...",
          "stribution: na NNTP-Posting-Host: hardy.u.washington.edu Summary: Address or phone number for subscr...",
          "ion: The Northern Lights BBS, Portland, ME  * 207-761-4782 * Lines: 7 X-Newsreader: ZipNews Reader/M...",
          "r and Reptile Farm Lines: 16 NNTP-Posting-Host: grissom.larc.nasa.gov  In article <>  writes: > >Gre...",
          "oration Wichita, KS Lines: 14   (Victor Laking) writes:  )Do you know what frequencies chanels 17 to...",
          "21            On an A/D board I've got, I'm using the A/D lines.  It measures  the voltages properly...",
          ": University Of Alberta, Edmonton Canada Lines: 28   (Daniel J Rubin) writes:  >How hard would it be...",
          "1   (Joel Kolstad) writes:  > In article <>  > > > >If you are going to use one where it counts (eg:...",
          "26 X-Newsreader: TIN [version 1.1 PL8]  Frank Hielscher () wrote: : The PADS*.ZIP files contain subd...",
          "y of Minnesota Lines: 18  I have a stereo compressor-limiter by  Audio Logic (Model MT-66).  The gat...",
          "-9760 guest) Lines: 20  In article <>  (Brian Day) writes: > (COLE) writes: > >>I would like to expe...",
          "ege, Hanover, NH Lines: 12  We are Dartmouth engineering students.We are looking for documented data...",
          "9 Distribution: world NNTP-Posting-Host: grissom.larc.nasa.gov  I have a MOSFET pulled out of a Tryg...",
          "stribution: world NNTP-Posting-Host: rosie.uh.edu Keywords: Motorola, FPU, 68882, 68030, 33/50 MHz, ...",
          "es: 9  Could someone please tell me if a 1/4 decoder is the same as a 1 to 4 demultiplexer. I know h...",
          " UNIX Society, Austin, Tx Lines: 15    I understand that the new GPS boxes now have an option known ...",
          "ix system run by the University \tof Denver for the Denver community.  The University has neither \tco...",
          "om Organization: Mentor Graphics Keywords:  Lines: 33  In article <>,  (Wayne Smith) writes: |> In a...",
          ".gov Organization: Fermilab Computing Division Lines: 22  In article <>,  (John Whitmore) writes: > ...",
          "anybody know if there is a mailing list or newsgroup for Power Systems and related areas?  Thanks,  ...",
          "exaco Lines: 16  I had a catalog with membrane keypads, but I dunno what happened to it, and it was ...",
          "e if this would be the right place to post this, but anyway, here goes:  I was just noticing that so...",
          "t: turbo_f.seas.smu.edu Organization: SMU - School of Engineering & Applied Science - Dallas Lines: ...",
          "-Posting-Host: dialup-slip-1-88.gw.umn.edu Organization: persian cat & carpet co. X-Useragent: Nunti...",
          "24 Distribution: world NNTP-Posting-Host: reg.triumf.ca News-Software: VAX/VMS VNEWS 1.41      In ar...",
          "ile Farm Lines: 9 NNTP-Posting-Host: grissom.larc.nasa.gov  In article <>  (Jason Waterman) writes: ...",
          "om Online Communications Services (408-241-9760 login: guest) Lines: 1  The Bmw speedo is triggered ...",
          " AI Programs, University of Georgia, Athens Lines: 9  There is or was a microwave tower next to Flor...",
          "MA Lines: 27   (Mike Donahue) writes:   >I do NOT know much about Adcom Mobil Audio products, but I ...",
          " Technological University X-Newsreader: TIN [version 1.1 PL8] Lines: 19  Bill Willis () wrote: : I h...",
          "osting-Host: macadam.mpce.mq.edu.au  In article <>,  (Ogawa / Taro Stephen (ISE)) writes: |> Could s...",
          "ost: elan.princeton.edu Organization: Princeton University Lines: 29  I was looking at the amps diag...",
          ": 6  Sounds like the picture tube lost vacuum.  This would cause the filament to ignite and could ac...",
          "orld Reply-To:  NNTP-Posting-Host: sparc28.hri.com  I just got an IBM-PC XT with no documents. Its a...",
          "nization: JPL Pasadena CA Lines: 25 Nntp-Posting-Host: neuron6.jpl.nasa.gov  In article <>  (Dale Nu...",
          "Host: wpi.wpi.edu  Hey everyone, I'm new to this  newsgroup so please excuse me if this is a  dumb q...",
          "ost: aisun3.ai.uga.edu Organization: AI Programs, University of Georgia, Athens Lines: 22  In articl...",
          " There are also a couple or three places on West 45th between Fifth and Sixth.    Harvey   --  -----...",
          ".com Organization: NCR Corp., Columbia SC Lines: 30  In article <>  writes: > >Greetings! >       > ...",
          "ing1.cc.utexas.edu  It is illegal to use anything you eavedropped on for a business  or for an illeg...",
          "Organization: University of Oulu, Dept. of EE, Finland  In article <>  (Stephe Lewis Foskett) writes...",
          "ntially amplify holes instead of electrons? Keywords: holes electrons semi-conductors mobility Nntp-...",
          "relays ??? Organization: Malaspina College Lines: 63  In article <>,  (Aaron Lung) writes: > In arti...",
          "lator operating in the detector. Saw a story about their use in Canada. Now don't go putting oscilla...",
          ": 33  Thanks for the resposes as they were all good ideas and I am looking at using a couple of the ...",
          "ation: Monash University, Melb., Australia. Lines: 23  Hi people..  OK heres my problem....  I keep ...",
          "m21.eng.stratus.com  In article <>  (Roger A Williams) wrote:   > (Mike Donahue) writes:  >  >  >>I ...",
          ", Quincy, IL Lines: 22   Intel also makes some neat memory and peripheral chips:  Old technology (ea...",
          "c. - New Orleans, LA Reply-To:  (Gerald Belton)  Lines: 24  AL>>        Question:   Is there a certa..."
         ],
         "type": "scatter",
         "x": [
          14.756916999816895,
          11.091837882995605,
          17.508663177490234,
          16.757551193237305,
          -6.843396186828613,
          8.256104469299316,
          -0.3428201973438263,
          -2.8145363330841064,
          -7.056636333465576,
          -6.6088128089904785,
          2.6996138095855713,
          2.7056820392608643,
          -3.508711576461792,
          7.5066447257995605,
          -1.7690194845199585,
          11.803327560424805,
          -2.71724009513855,
          2.909280300140381,
          -1.2785533666610718,
          2.357208251953125,
          5.052272796630859,
          -4.999518394470215,
          -2.7722439765930176,
          3.649395227432251,
          -1.7825978994369507,
          5.604950904846191,
          -3.7792201042175293,
          7.589865684509277,
          1.7824369668960571,
          4.701849937438965,
          -10.790972709655762,
          -2.520402431488037,
          0.5046488046646118,
          3.3429062366485596,
          -0.413796991109848,
          13.113774299621582,
          3.8572325706481934,
          1.3702762126922607,
          -5.447854995727539,
          1.1161912679672241,
          -4.431582450866699,
          4.384445667266846,
          4.055732250213623,
          13.6383056640625,
          10.632453918457031,
          3.2856361865997314,
          -6.02592658996582,
          -8.087346076965332,
          6.650808811187744,
          11.188577651977539,
          4.57466983795166,
          6.87481689453125,
          -8.145564079284668,
          0.8119471073150635,
          -1.6516488790512085,
          -1.9176470041275024,
          12.958560943603516,
          -9.123434066772461,
          10.387786865234375,
          5.709959030151367,
          4.9029083251953125,
          -3.5585250854492188,
          3.680161952972412,
          5.634294033050537,
          4.363584995269775,
          6.817723274230957,
          3.3578336238861084,
          -3.7076330184936523,
          2.767270088195801,
          6.629439830780029,
          -4.04897928237915,
          21.9386043548584,
          3.7273216247558594,
          4.773253917694092,
          9.010172843933105,
          5.979356288909912,
          4.9945878982543945,
          -3.1271636486053467,
          1.794248342514038,
          -2.9982705116271973,
          -0.972125768661499,
          10.257308959960938,
          5.377966403961182,
          -7.696625232696533,
          -4.759378910064697,
          3.933913469314575,
          -0.4776609539985657,
          3.600867986679077,
          -1.2183369398117065,
          8.30757999420166,
          6.027102470397949,
          9.391955375671387,
          3.737297296524048,
          3.5863451957702637,
          -4.181234359741211,
          1.4152336120605469,
          7.001298427581787,
          3.475914478302002,
          2.8106751441955566,
          -1.119242787361145,
          1.1270617246627808,
          -0.033312901854515076,
          6.6113457679748535,
          24.41719627380371,
          -4.5192108154296875,
          8.623481750488281,
          6.306774616241455,
          -6.401727199554443,
          -3.29879093170166,
          -0.6260179877281189,
          -4.0162434577941895,
          16.188825607299805,
          -3.2963802814483643,
          -5.978865623474121,
          -1.0437895059585571,
          -5.398055553436279,
          0.4684927463531494,
          -1.6093310117721558,
          3.064042806625366,
          40.806156158447266,
          6.712312698364258,
          -7.15093469619751,
          -8.935892105102539,
          -0.0514502115547657,
          0.31786659359931946,
          -2.634788751602173,
          1.662348747253418,
          7.573194980621338,
          13.755778312683105,
          0.11102555692195892,
          0.9598293304443359,
          1.73916494846344,
          7.085093021392822,
          -0.5231472253799438,
          6.010869026184082,
          -3.787691593170166,
          -8.127138137817383,
          7.8287858963012695,
          7.905917167663574,
          1.8091342449188232,
          -9.2746000289917,
          1.2268785238265991,
          -2.154090166091919,
          15.261016845703125,
          -2.0073952674865723,
          -7.409580230712891,
          -8.861465454101562,
          3.457885265350342,
          0.8492631912231445,
          1.2325011491775513
         ],
         "y": [
          7.707218170166016,
          -4.280704021453857,
          -6.985254764556885,
          -5.684021472930908,
          2.804164171218872,
          -5.781023979187012,
          -3.237718343734741,
          -0.25950726866722107,
          1.3902021646499634,
          0.9368478059768677,
          4.5285186767578125,
          -2.978986978530884,
          -1.4062048196792603,
          -1.4631950855255127,
          1.158370018005371,
          -0.9718355536460876,
          -0.4289608299732208,
          -3.7633090019226074,
          -2.036630153656006,
          1.838436245918274,
          -3.845615863800049,
          0.28882405161857605,
          0.4309506118297577,
          -3.5713582038879395,
          -2.4838693141937256,
          -1.9115828275680542,
          0.7891166806221008,
          -5.5536041259765625,
          -3.642838954925537,
          -4.9735798835754395,
          1.1923657655715942,
          5.629343032836914,
          0.746326208114624,
          -0.3269563615322113,
          -1.125238060951233,
          -7.940403461456299,
          -1.9986159801483154,
          -4.0201897621154785,
          -0.6277793645858765,
          0.2720319926738739,
          2.8930845260620117,
          0.91939377784729,
          -2.062026023864746,
          -2.687459707260132,
          -0.24544134736061096,
          -0.02018829993903637,
          3.058492660522461,
          3.878912925720215,
          -0.09619288146495819,
          -6.936338901519775,
          -3.4439425468444824,
          -3.2860374450683594,
          2.493502140045166,
          1.2432564496994019,
          -2.115471839904785,
          -1.8350194692611694,
          1.526492953300476,
          2.541649341583252,
          -4.541284084320068,
          8.538626670837402,
          -0.9951967597007751,
          0.967486560344696,
          -3.5518910884857178,
          -4.90080451965332,
          -0.08507630228996277,
          1.1206943988800049,
          -5.752461910247803,
          -0.2162071019411087,
          1.0396456718444824,
          0.050687648355960846,
          -0.9633796215057373,
          10.058320999145508,
          -1.1213761568069458,
          -0.5903418064117432,
          6.404723167419434,
          -1.7644580602645874,
          0.9165797233581543,
          0.04253850132226944,
          -4.311107158660889,
          5.737146377563477,
          -1.6888132095336914,
          7.195497512817383,
          -1.0892999172210693,
          0.45067062973976135,
          -1.9825295209884644,
          -3.5281639099121094,
          -1.1510862112045288,
          -1.7842626571655273,
          -3.046745538711548,
          -4.34760046005249,
          -4.261486530303955,
          7.332910060882568,
          0.8826895356178284,
          0.3181743323802948,
          -1.3080213069915771,
          6.058257102966309,
          -3.825554847717285,
          -5.044734954833984,
          2.996328830718994,
          0.6038845777511597,
          3.336534261703491,
          -3.34358286857605,
          -4.953271389007568,
          7.998190879821777,
          4.1302266120910645,
          -7.682312965393066,
          0.3544912338256836,
          3.0408291816711426,
          2.2525863647460938,
          -0.564864993095398,
          -1.4394601583480835,
          -2.5617549419403076,
          -3.023228406906128,
          -1.0462114810943604,
          -2.1488993167877197,
          1.9712401628494263,
          -4.09613037109375,
          -1.4034901857376099,
          0.22733177244663239,
          26.51297378540039,
          -5.93992280960083,
          0.5012449026107788,
          1.8905950784683228,
          -2.382988452911377,
          0.6016831398010254,
          0.008235658518970013,
          -1.9291043281555176,
          -5.685985088348389,
          -0.9021226167678833,
          -2.948493480682373,
          -3.5489437580108643,
          0.2047949582338333,
          -3.3144075870513916,
          -3.75411057472229,
          -5.430955410003662,
          1.332199215888977,
          2.884817361831665,
          2.5997397899627686,
          -6.467528343200684,
          2.1333467960357666,
          1.3412500619888306,
          -0.1248173639178276,
          0.09308626502752304,
          15.369012832641602,
          -2.5406785011291504,
          0.9363618493080139,
          3.3052587509155273,
          -0.2598663866519928,
          -3.2477290630340576,
          2.314218521118164
         ]
        },
        {
         "hoverinfo": "text",
         "marker": {
          "line": {
           "color": "white",
           "width": 0.5
          },
          "size": 15
         },
         "mode": "markers",
         "name": "Class sci.med",
         "opacity": 0.7,
         "text": [
          "ganization: Colonial Mutual Life Australia X-Newsreader: FTPNuz (DOS) v1.0 Lines: 24  Hi, I am not s...",
          "y, NY - 212-274-8298v.32bis Reply-To:  (Jim Zisfein)  Lines: 19  > (Anthony Anello) >Can anyone tell...",
          "bution: usa Lines: 18   In article <>  (Evan Hunt) writes:   >In article <>  (Sharen A. Rund) writes...",
          "ortland Rain Forest Lines: 34  In article <>  (Beth Mazur) writes: >In <>  (Chuck Forsberg WA7KGX) w...",
          " Ca. Lines: 18 Distribution: world Reply-To:  (Jim Jones) NNTP-Posting-Host: contractor.ebay.sun.com...",
          "ines: 17 NNTP-Posting-Host: saltillo.cs.utexas.edu Summary: Lousy idea.  -*---- Cross-posted and wit...",
          "Consulting, Cambridge MA Lines: 30  In article <>  (*Heather*) writes: >Nutrasweet is a synthetic sw...",
          "s: 41  A person posted certain stuff to this newsgroup, which were highly selected quotes stripped o...",
          " Systems, Inc., Palo Alto, CA Lines: 11   My insurance company encourages annual physicals, and at m...",
          "rsity of Wisconsin - Milwaukee Lines: 19 NNTP-Posting-Host: 129.89.7.4  In article <>  (Sheryl Coppe...",
          "s., USA Lines: 11 NNTP-Posting-Host: enterprise.bih.harvard.edu  In article <>  (Fiberman) writes: >...",
          "In article <>  (Steve Heffner) writes: >A bit more than a year ago, a hernia in my right groin was >...",
          "c3t Distribution: na Organization: Oakland University, Rochester MI. Lines: 9 NNTP-Posting-Host: ouc...",
          ":57 GMT Nntp-Posting-Host: crux3.cit.cornell.edu Organization: Department of Chemistry, Cornell Univ...",
          "y - Univ. of Alabama Distribution: usa Lines: 36  In article <>,  (John Eyles) wrote: >  >  > A frie...",
          "Earth Observatory Lines: 50  In article <>,  (Gordon Banks) writes: > In article <>  (carl brenner) ...",
          "d Silver) writes: > > > >Is there a right-eye dominance (eyedness?) as there is an > >overall right-...",
          "7G Organization: Prentice Centre, University of Queensland Lines: 45   (Steve Dyer) writes: >Snort. ...",
          "nes: 28  In article <>  (Steve Dyer) writes: >In article <>  writes: >>Can someone tell me whether o...",
          "ing Lines: 11  My girlfriend is in pain from kidney stones. She says that because she has no medical...",
          "who has just been diagnosed with Lupus, and I know nothing about this disease. The only thing I do k...",
          " methodology.   Organization: University of Hawaii (Mathematics Dept) Expires: Sat, 1 May 1993 10:00...",
          "-line Communication Services (408 241-9760 guest) Lines: 15 X-Newsreader: TIN [version 1.1 PL8]  I'd...",
          "ons Public Access.  The Mouth of the South. Lines: 28  E.J. Draper <> writes:  >If it were my wife, ...",
          ": 27 NNTP-Posting-Host: carina.unm.edu   Gordon Banks:  >a lot to keep from going back to morbid obe...",
          "rsion 1.1 PL9] Lines: 45  kathleen richards () wrote: > My nearly-13 year old Pomeranian had a nasty...",
          ", USA Lines: 26 NNTP-Posting-Host: enterprise.bih.harvard.edu  In article <>   (Alexis Perry) writes...",
          "ibution: world NNTP-Posting-Host: zion.berkeley.edu  | article <>  writes: || Now, if instead of usi...",
          "rganization: NASA Dryden, Edwards, Cal. Lines: 33 In-Reply-To: 's message of 5 Apr 93 23:27:26 GMT  ...",
          "uter Science Lines: 28  In article <>  (David Nye) writes:  >  >I believe it is illegal for a reside...",
          "e Federale de Lausanne Lines: 41 NNTP-Posting-Host: liasun1.epfl.ch  Dear Netters,  I am not sure wh...",
          ".ohio-state.edu Organization: The Ohio State University Lines: 50  In article <>  (Jim Fare) writes:...",
          "Freenet Lines: 18   I have between 15 and 25 nosebleeds each week, as a result of a genetic predispo...",
          " at Urbana Lines: 6  Also remember that most people map the sanguine/choleric/melencholic/phlegmatic...",
          " Science Lines: 17  In article <>  (Ken Mitchum) writes: > >I found out that tuberculosis appears to...",
          "ganization: Bell Communications Research Lines: 31  In article <>,  (Mary E. Allison) writes: |>  |>...",
          " Programs, University of Georgia, Athens Lines: 12  I'm told that corn allergy is fairly common.  My...",
          "tchum) Organization: Univ. of Pittsburgh Computer Science Lines: 36  In article <>  writes: >Can any...",
          "Iowa Lines: 22  In article <>,  (Ken Mitchum) writes: > As a physician, I almost never get sick: usu...",
          ": naples.med.unc.edu Organization: UNC-CH School of Medicine Lines: 7  Thanks to Tarl Neustaedter of...",
          "rformance Computing, University of Illinois at Urbana-Champaign Lines: 66 Distribution: world NNTP-P...",
          "ngws5.ic.sunysb.edu Organization: State University of New York at Stony Brook Lines: 54  In article ...",
          "ing X-Newsreader: NNR/VM S_1.3.2 Lines: 53  In article <>  (Brian M. Huey) writes:   >In article <>,...",
          ") writes:  >\t >\tI have seen a couple of postings refering to an SRI called paxil.  I >have been on P...",
          "TX 214/436-3281 Lines: 27  In article <>  (Andrew Rogers) writes: >In article <>  writes: >>Chinese,...",
          ".14717 Distribution: sci.med Organization: Lockheed Engineering & Sciences Co. Lines: 17  In article...",
          "on: Univ. of Pittsburgh Computer Science Lines: 26  In article <>  (Rayaz Jagani) writes:  > >From M...",
          ": 25  In article <>  (Robert Allison) writes: >Does anyone know of any method to reduce this frequen...",
          "s) Organization: Univ. of Pittsburgh Computer Science Lines: 23  In article <>  (MD) writes: > >If a...",
          ": 19  [reply to  (MD)]   >After many metabolic tests, body structure tests, and infection/virus >tes...",
          "es: 29 NNTP-Posting-Host: venus.iteb.serpukhov.su  I am very interested in investigations of starvat...",
          "   There is this newsgroup sci.med.physics and there has been quite a lot discussion in this group a...",
          "es: 9   \tI was kind of half watching Street Stories last night \tand one of the segments was about th...",
          "ia Inc, Toronto, Ontario. Lines: 23  L(>   (Joel B Levin) writes: L(>  John Badanes wrote: L(>  |JB>...",
          "  Organization: Clinical Diagnostics Division, Eastman Kodak Company Lines: 24  In article <>  (Rich...",
          "E, Sandia Park, NM Lines: 31  In article <>  (Vida Morkunas) writes: >I live at sea-level, and am ca...",
          "k Division, NSWC, Bethesda, MD Lines: 30  In rec.food.cooking,  (Charles Packer) writes: >Is there s...",
          "anization: Univ. of Pittsburgh Computer Science Lines: 21  In article <>  (Lindy Foster) writes: >I'...",
          "he tollfree hotline for the Epilepsy Foundation of America - 1-800-EFA-1000.  They will be able to a...",
          "tion: usa Lines: 13  I am 35 and am recovering from a case of Chicken Pox which I contracted from my...",
          "tion on the effects/origin of oxaprozin? It's marketed under the name \"DAYpro\", and appears to be an...",
          "onsin Eau Claire Lines: 29  [reply to  (Jacquelin Aldridge)]   >Medicine is not a totally scientific...",
          "nes: 41 Nntp-Posting-Host: aquarius   (Richard Ottolini) writes:  : Living things maintain small ele...",
          "nes: 27  One thing that I haven't seen in this thread is a discussion of the relation between IBD in...",
          "nes: 67 Distribution: inet NNTP-Posting-Host: im4u.cs.utexas.edu  -*---- In article <>  (Lee Lady) w...",
          "g-Host: theseus.unx.sas.com Organization: SAS Institute Inc. Lines: 15   In article <>,  (Tom B. Car...",
          "ment Corporation Lines: 45 NNTP-Posting-Host: DWOVAX   In article <>,  () writes... >I recently hear...",
          "niv. of Pittsburgh Computer Science Lines: 48  In article <>  (Ruth Ginzberg) writes:  >Hmmmm... her...",
          "ion: world NNTP-Posting-Host: coyoacan.sw.stratus.com  In article <>,  (Brian M. Huey) writes: > I t...",
          "g-Host: theseus.unx.sas.com Organization: SAS Institute Inc. Lines: 55   In article <>,  (Mark Fulk)...",
          " Rochester  In article <>  (Gary Merrill) writes: > >In article <>,  (Mark Fulk) writes: > >|> I don...",
          "uter Science Lines: 22  In article <>  (daniel federman) writes: > >A friend of mine took appoximate...",
          "Urbana Lines: 26   (Steve Dyer) writes:  >In article <1qnns0$>  (Steve Pope) writes: >>The mass of a...",
          "o Lines: 12  There were a few people who responded to my request for info on treatment for astrocyto...",
          "geles, California Distribution: usa Lines: 12   Hi All,  Would anyone out there in 'net-land' happen...",
          " Univ. of Pittsburgh Computer Science Lines: 19  >In article  (John Joseph Deltuvia) writes: > >>The...",
          "le scraps of paper, mostly Lines: 10   I think he means Girlie Photography.  A good place to find it...",
          "nes: 3  Can anyone help me find any information on the drug Prozac?  I am writing a report on the in...",
          "rsion 1.1 PL9] Lines: 13  kathleen richards () wrote:  > If you have time to type it in I'd love to ...",
          " Lines: 29   \tA friend has the following symptoms which have occurred periodically every few months ...",
          "on, VA Lines: 28 Reply-To: Jason C. Austin <> NNTP-Posting-Host: ab20.larc.nasa.gov In-reply-to: 's ...",
          "tion: na  Am I justified in being pissed off at this doctor?  Last Saturday evening my 6 year old so...",
          " Univ of Alabama Lines: 19  In article <>,  (Ho Leung Ng) wrote: >  >  >    When I was a kid in prim...",
          "? Lines: 8  What resources and services are available on Internet/BITNET which would be of interest ...",
          "he usual teenage spotty chin and greasy nose.  I bought him Clearasil face wash and ointment.  I thi...",
          "e here because I am kind of desperate. For about six weeks, I've been suffering on pains in my left ...",
          "mputer Science Lines: 16  In article <>  (Daniel Prince) writes:  >I only have lunulas on my thumbs....",
          "Univ. of Pittsburgh Computer Science Lines: 23  In article <>  (Paul Schmidt) writes: >I think it is...",
          "to  (Gordon Banks)]   >>I believe it is illegal for a residency to discriminate against FMGs.   >Is ...",
          "idge MA Lines: 14  In article <1qnns0$>  (Steve Pope) writes: >The mass of anectdotal evidence, comb...",
          "anization: Univ. of Pittsburgh Computer Science Lines: 24  In article <>  (John Setel O'Donnell) wri...",
          "es: 5 Distribution: na NNTP-Posting-Host: hpcspe17.col.hp.com   Report them to your local BBB (Bette...",
          "ortland Rain Forest Lines: 33  In article <>  (Gordon Banks) writes: > >In article <>  (Chuck Forsbe...",
          "ver what? I would be most interested in seeing you >>provide peer-reviewed non-food-industry-funded ...",
          "em (TM) Lines: 36  > Probably within 50 years, a new type of eugenics will be possible. > Maybe even...",
          "er Science Lines: 12  In article <>  (John E. Rodway) writes: >Any comments on the use of the drug P...",
          "  Following a series of miscarriages, my wife was given a transfusion of my white cells. (The theory...",
          "nization: Univ. of Pittsburgh Computer Science Lines: 22  In article <>  (Herman Rubin) writes: >In ...",
          "ping-injury-faq/> Organization: University of California, Berkeley Lines: 51 Expires: 22 May 1993 04...",
          "ttsburgh Lines: 21  In article <1r1t1a$>  writes: :I recently attended an allery seminar.  Steroid N...",
          "g.magnus.acs.ohio-state.edu Organization: The Ohio State University Lines: 45  In article <>  (Jon N...",
          "w York City, NY - 212-274-8298v.32bis Reply-To:  (Jim Zisfein)  Lines: 17  A(>  () A(> A woman I kno...",
          "m Lines: 20  A bit more than a year ago, a hernia in my right groin was discovered.  It had produced...",
          "zation: AT&T Lines: 15  In article <>,  writes: > How long does it take a smoker's lungs to clear of...",
          " PL8]  David Nye () wrote: : [reply to  (ron roth)] :   : >While you're right that the S vertebrae a...",
          "rganization: OSU College of Osteopathic Medicine  In article <>,  (Gordon Banks) writes: > In articl...",
          "said that, i might add, that in MHO, MSG does not enhance  AM> flavor enoughf for me to miss it.  Wh...",
          "Bates method Summary: Proven a hoax long ago Lines: 15  Dr. willian Horatio Bates born 1860 and grad...",
          "osed with cystic breast disease -- a big relief, as it was a lump that could have been cancer.  Her ...",
          " 14 Distribution: world NNTP-Posting-Host: adcs01.fnal.gov Keywords: 40 BLOODCOUNT DANGEROUS?   Can ...",
          "ical School, Boston Mass., USA Lines: 15 NNTP-Posting-Host: enterprise.bih.harvard.edu  In article <...",
          "rdon Banks) writes: >In article <>  (Richard Silver) writes: >> >>Is there a right-eye dominance (ey...",
          ".D.: pegasus.1993Apr22.221508.10196 Organization: Pegasus,  Honolulu Lines: 14  In article <> <> wri...",
          "ing 4 addresses are on the LymeNet mailing list, but are rejecting mail.  Since the list server orig...",
          "ge of Osteopathic Medicine Distribution: usa  In article <>,  (John Eyles) writes: >  > A friend has...",
          "NTP-Posting-Host: 141.214.86.38 X-UserAgent: Nuntius v1.1.1d9 X-XXDate: Tue, 20 Apr 93 16:46:24 GMT ...",
          "on: The Information Deli - via Netcom / San Jose, California  In <>  (Steven W Orr) writes:  >I look...",
          "ne, MA Lines: 10   Some recent postings remind me that I had read about risks  associated with the b...",
          "ivision Lines: 16 NNTP-Posting-Host: duca.hi.com  In article <>  (Gordon Banks) writes: |In article ...",
          "t -- Division of EMBA Computer Facility Lines: 21  Nutrasweet is a synthetic sweetener a couple thou...",
          " Corporation Lines: 13   What does a lack of taste of foods, or a sense of taste that seems \"off\" wh...",
          ": 44  In article <>  (Gong Tong) writes: >In article <>  (OPIRG) writes: >> >>For cites on MSG, look...",
          "words: volvulus Nntp-Posting-Host: berfert.csd.uwo.ca Lines: 35      Recurrent Volvulus     --------...",
          ": Invention Factory's BBS - New York City, NY - 212-274-8298v.32bis Reply-To:  (Jim Zisfein)  Lines:...",
          "world Organization: University of Oregon Lines: 14 NNTP-Posting-Host: oregon.uoregon.edu News-Softwa...",
          " (ron roth)]   >While you're right that the S vertebrae are attached to each other, >the sacrum, to ...",
          "cience Lines: 18  In article <>  (John Werner) writes: >In article <>,  (Gordon Banks) wrote: >>  >>...",
          " In article <>  (Fiberman) writes: :Is erythromycin effective in treating pneumonia? : :-fm   Not on...",
          "ution: world NNTP-Posting-Host: q5020598.mdc.com  My girlfriend just started taking Imitrex for her ...",
          "-To:  (Ken Mitchum) Organization: Univ. of Pittsburgh Computer Science Lines: 15  In article <>  (Jo...",
          "ote: :  {much deleted] :  :  : The fact that this happened while eating two sugar coated cereals mad...",
          " Summary: thanx for the comeback Lines: 7  Hello , I think you are probaly right, in spite of the mo...",
          "osting-Host: kyanite Organization: Telesciences CO Systems, Inc. Lines: 24  In article <>  (Richard ...",
          "tion: Univ. of Pittsburgh Computer Science Lines: 31  In article <>  (Andrea M Free-Kwiatkowski) wri...",
          "dford) Lines: 13  Thanks for all your assistance. I'll see if he can try a different brand of patche...",
          "USA Lines: 48 \t<> <> NNTP-Posting-Host: cmb00.larc.nasa.gov In-reply-to: 's message of Fri, 23 Apr 1...",
          "anyone give me more information regarding endometriosis?   i heard it's a very common disease among ...",
          "any one heard of a sedative called \"Rhoepnol\"? Made by LaRouche, I believe. Any info as to side effe...",
          "t: ysub.ysu.edu  Does the Proventil inhaler for asthma relief fall into the steroid or nonsteroid ca...",
          " |JB>   (Ella I Baff) writes: |JB>   |JB>    Ron Roth recommends: \"Once you have your hypoglycemia C...",
          "Lines: 7  In article <>  (Gordon Banks) writes: >we do this?  Should we make a race of disease-free,...",
          "<>  (Craig MacDonald) writes: >>  It may be extremely >>common, something like 5% of the population....",
          "1111.9678 Organization: Pegasus,  Honolulu Lines: 11  In article <>  (Melissa N. Matusevich) writes:...",
          "USA Lines: 52 \t<> NNTP-Posting-Host: cmb00.larc.nasa.gov In-reply-to: 's message of Sat, 17 Apr 1993...",
          "n: SAS Institute Inc. Lines: 16  In article <>,  (MD) writes:   > >        The reason I'm posting th...",
          ": 43  In article <>  (David Thomas) writes:  >>In article <>,  (Charles Packer) writes: >>>Is there ...",
          "UNIX, Greenbelt, Maryland USA Lines: 58 NNTP-Posting-Host: access.digex.net  In article <>  (Gordon ...",
          "USA Lines: 53 NNTP-Posting-Host: cmb00.larc.nasa.gov In-reply-to: 's message of 21 Apr 93 16:18:19 G...",
          "s maintain small electric fields to (1) enhance certain chemical reactions, (2) promote communicatio...",
          "ick King) writes: > >I recall reading somewhere, during my youth, in some science popularization >bo..."
         ],
         "type": "scatter",
         "x": [
          2.0289430618286133,
          0.5838109254837036,
          5.140671730041504,
          0.4368968605995178,
          -7.043025970458984,
          2.1270694732666016,
          -6.1079020500183105,
          -6.992769241333008,
          -4.7416887283325195,
          -4.187521457672119,
          6.228898048400879,
          2.6034038066864014,
          0.6791901588439941,
          5.439441680908203,
          -2.126120090484619,
          -4.687358856201172,
          10.579875946044922,
          -5.933006763458252,
          -0.06604044139385223,
          -3.857673406600952,
          -9.280399322509766,
          -5.568459987640381,
          -6.544255256652832,
          -1.9810224771499634,
          -7.658015251159668,
          -5.502752304077148,
          -1.6850584745407104,
          -0.4522229731082916,
          -2.069322109222412,
          -3.6784050464630127,
          -1.5594401359558105,
          -8.84970474243164,
          -2.7918033599853516,
          12.31652545928955,
          2.6050467491149902,
          -2.121340036392212,
          8.241704940795898,
          -6.1402974128723145,
          -8.852996826171875,
          7.905250072479248,
          -4.229677200317383,
          -4.974209785461426,
          -0.8017657399177551,
          4.251835823059082,
          -0.22178968787193298,
          -2.5826821327209473,
          -1.098000407218933,
          -7.255483627319336,
          -2.437432050704956,
          -4.56136417388916,
          -3.9291090965270996,
          1.9287315607070923,
          -3.6446046829223633,
          7.565217018127441,
          0.695947527885437,
          -5.749693870544434,
          -1.4760112762451172,
          -2.999228000640869,
          -2.8575284481048584,
          3.3165507316589355,
          0.5315937995910645,
          -6.414041042327881,
          2.241560935974121,
          -3.503594398498535,
          -9.189016342163086,
          10.921156883239746,
          0.5488685369491577,
          -12.191705703735352,
          3.8586814403533936,
          -2.5941104888916016,
          -5.40376091003418,
          0.15699885785579681,
          0.4906507730484009,
          -0.9733778238296509,
          6.9567694664001465,
          -0.31241554021835327,
          0.6509168744087219,
          -1.1495128870010376,
          8.340394973754883,
          -5.626998424530029,
          -5.719650745391846,
          -11.957106590270996,
          1.1887266635894775,
          -3.9577841758728027,
          -9.16891860961914,
          -10.333420753479004,
          1.6994324922561646,
          -3.8576037883758545,
          -5.37445592880249,
          3.0784573554992676,
          -0.7133287787437439,
          10.9227933883667,
          6.190024375915527,
          -7.947483539581299,
          -7.54116153717041,
          6.340479373931885,
          -7.599550247192383,
          -2.325080394744873,
          30.81927490234375,
          0.9680726528167725,
          -2.063633441925049,
          2.820732355117798,
          -7.047914981842041,
          -4.76047420501709,
          2.0265419483184814,
          8.507749557495117,
          -2.5074641704559326,
          2.620596408843994,
          -10.694973945617676,
          0.929816484451294,
          4.991477012634277,
          6.172226905822754,
          0.4659889340400696,
          -3.6900928020477295,
          -4.832884788513184,
          -2.4714674949645996,
          0.16579769551753998,
          -6.502659320831299,
          2.4328300952911377,
          -9.986838340759277,
          -3.222047805786133,
          1.2507975101470947,
          -8.173712730407715,
          3.141629934310913,
          -2.363077402114868,
          -5.290266036987305,
          3.8673181533813477,
          14.145605087280273,
          -6.494846820831299,
          -2.1451640129089355,
          -0.19546419382095337,
          12.523781776428223,
          -0.20886065065860748,
          -6.363997459411621,
          -7.053173065185547,
          10.82374095916748,
          2.5808029174804688,
          -1.2182084321975708,
          4.801028728485107,
          1.8730506896972656,
          6.139640808105469,
          6.047239303588867,
          0.888096034526825,
          -2.020066022872925,
          1.1459134817123413,
          -1.6499965190887451,
          -8.028756141662598,
          0.3791027367115021,
          -7.114121913909912,
          -2.4432780742645264
         ],
         "y": [
          -4.007546901702881,
          -0.9931920170783997,
          -1.3793503046035767,
          1.457488775253296,
          -0.1172671690583229,
          -1.8539737462997437,
          1.6688950061798096,
          1.594544768333435,
          0.45323464274406433,
          5.00053071975708,
          -5.4721455574035645,
          8.472282409667969,
          -4.094865322113037,
          -1.605897068977356,
          1.4806921482086182,
          4.872049808502197,
          -1.611025094985962,
          4.510857582092285,
          3.534907102584839,
          -1.2466198205947876,
          1.6317938566207886,
          3.724180221557617,
          0.9849779009819031,
          0.919432520866394,
          2.997389078140259,
          0.2741815447807312,
          0.9799845814704895,
          -0.43198639154434204,
          -0.627909779548645,
          -1.9905972480773926,
          -2.114776134490967,
          2.9144845008850098,
          -1.8549460172653198,
          -7.480691909790039,
          -1.5733784437179565,
          2.5486767292022705,
          0.7631016373634338,
          0.23007622361183167,
          3.598684310913086,
          -7.25191068649292,
          1.2954920530319214,
          2.375112295150757,
          2.550982713699341,
          -2.9070568084716797,
          1.9974586963653564,
          3.652031421661377,
          -0.9639120101928711,
          0.7925622463226318,
          2.866781711578369,
          1.9765409231185913,
          -2.16007924079895,
          -5.154172897338867,
          -1.9058340787887573,
          0.35878536105155945,
          -1.357237696647644,
          2.3453056812286377,
          -0.4858187437057495,
          2.8862204551696777,
          -1.8720015287399292,
          -3.1647231578826904,
          -3.1554994583129883,
          1.6151607036590576,
          -3.2580270767211914,
          -0.9148150086402893,
          3.252026319503784,
          -5.364769458770752,
          -1.1413809061050415,
          4.277650356292725,
          -4.8249897956848145,
          0.7317916750907898,
          1.4353444576263428,
          0.3753722310066223,
          1.8146222829818726,
          -2.9759669303894043,
          -2.8691928386688232,
          -1.242846965789795,
          -4.915846824645996,
          -2.2168331146240234,
          -5.093009948730469,
          -0.8748825788497925,
          1.808577299118042,
          -0.04764562100172043,
          0.37531203031539917,
          0.666056752204895,
          -0.08611132204532623,
          1.3750691413879395,
          -0.1710616797208786,
          1.908583164215088,
          1.682607889175415,
          -1.3161295652389526,
          0.7373898029327393,
          -7.36076021194458,
          0.30647537112236023,
          4.024474620819092,
          1.4324839115142822,
          -3.9230194091796875,
          -0.8907539248466492,
          3.178461790084839,
          20.275802612304688,
          -0.935600996017456,
          2.52585768699646,
          -2.023766040802002,
          -1.3899734020233154,
          2.3248703479766846,
          1.5609633922576904,
          9.49879264831543,
          2.0456345081329346,
          -6.759565353393555,
          1.2555413246154785,
          -4.015838146209717,
          -2.928147077560425,
          2.5457489490509033,
          0.33485299348831177,
          -1.3654811382293701,
          1.8656052350997925,
          3.054908037185669,
          3.97452449798584,
          0.64597088098526,
          -2.9371485710144043,
          2.1493420600891113,
          -2.2509446144104004,
          3.0313804149627686,
          -0.1640906035900116,
          -2.3086702823638916,
          -2.2365591526031494,
          1.8408992290496826,
          0.6032546162605286,
          -1.2806041240692139,
          -2.9745781421661377,
          -0.1630198359489441,
          -3.3732099533081055,
          -9.002458572387695,
          0.07233989983797073,
          0.8112307190895081,
          0.15580253303050995,
          -0.5048661231994629,
          -2.2438628673553467,
          -2.253898859024048,
          -5.672627925872803,
          -0.13052533566951752,
          -1.3783257007598877,
          2.1329402923583984,
          -1.4231466054916382,
          -0.7698193192481995,
          2.4457170963287354,
          3.0333235263824463,
          3.17274808883667,
          -3.7831926345825195,
          0.3845846951007843,
          2.7199819087982178
         ]
        },
        {
         "hoverinfo": "text",
         "marker": {
          "line": {
           "color": "white",
           "width": 0.5
          },
          "size": 15
         },
         "mode": "markers",
         "name": "Class sci.space",
         "opacity": 0.7,
         "text": [
          "ibution: world Reply-To:  (CLAUDIO OLIVEIRA EGALON) NNTP-Posting-Host: tahiti.larc.nasa.gov  There i...",
          " In <>  (Dillon Pyron) writes:   >There are actually only two of us.  I do Henry, Fred, Tommy and Ma...",
          "tsville, AL Lines: 22  In reference to the limits of acceleration with guns launching solid rockets ...",
          "sting-Host: stein2.u.washington.edu   (Doug Loss) writes: >Besides the mechanical problems of moving...",
          "1-9760 guest) Lines: 23  In article <>  (kevin marcus) writes: >Are there any public domain or share...",
          "  (G. Patrick Molloy) Organization: NASA/MSFC Lines: 40  In article <>,   writes: > Here is a way to...",
          "15:55 GMT Nntp-Posting-Host: leo-gw Organization: Burdett, Buckeridge & Young, Melbourne, Australia ...",
          "ave before me a pertinent report from the United States General Accounting Office:  National Aero-Sp...",
          "world NNTP-Posting-Host: beach.cis.ufl.edu   Is anybody out there willing to discuss with me careers...",
          "ology Lines: 17  In article <>  (Alan Carter) writes: >|> ... a NO-OP command was sent to reset the ...",
          ": Texas Instruments Inc Lines: 22  In <>  (Allen W. Sherzer) writes:  >Depends. If you assume the ex...",
          "station, constellation Article-I.D.: techbook.C51z6E.CL1 Organization: TECHbooks --- Public Access U...",
          "rticle <>,  (Layne Cook) writes: > All of this talk about a COMMERCIAL space race (i.e. $1G to the f...",
          "Lewis Research Center / Cleveland, Ohio Lines: 30 Distribution: world NNTP-Posting-Host: tm0006.lerc...",
          " Ontario, London Nntp-Posting-Host: prism.engrg.uwo.ca Lines: 9  \tHmmm. I seem to recall that the at...",
          "on: world NNTP-Posting-Host: kelvin.jpl.nasa.gov News-Software: VAX/VMS VNEWS 1.41      In article <...",
          "siana Lines: 43   (Brian Yamauchi) writes:  >Any comments on the absorbtion of the Office of Explora...",
          "NTP-Posting-Host: access.digex.net  In article <>  (Henry Spencer) writes: >In article <1ppm7j$>  (P...",
          "ons, Greenbelt, MD USA Lines: 33 Distribution: world NNTP-Posting-Host: access.digex.net Keywords: M...",
          "ne know how to size cold gas roll control thruster tanks for sounding rockets?  Thanks in advance, J...",
          "BM, Federal Systems Co. Software Services Disclaimer: This posting represents the poster's views, no...",
          "tional Space University] Original-Sender:  Distribution: sci Lines: 124   McDonnell Douglas rolls ou...",
          "ing-Host: tm0006.lerc.nasa.gov Organization: NASA Lewis Research Center / Cleveland, Ohio Lines: 71 ...",
          "n, VA 22090 Lines: 16  In article <>  writes: >This might a real wierd idea or maybe not.. > > >Why ...",
          " LLNL Lines: 96 Distribution: world NNTP-Posting-Host: s1.gov   (Brian Yamauchi) writes: > (Enzo Lig...",
          "s USA Lines: 23 Distribution: world NNTP-Posting-Host: access.digex.net  In article <>  (Ron Baalke)...",
          " 26  <>  writes:  >So some of my ideas are a bit odd, off the wall and such, but so was Wilbur and >...",
          "du Organization: Northwestern University, Evanston Illinois. Lines: 45  In article <>  (James Thomas...",
          "State University, San Luis Obispo Lines: 51  Why do spacecraft have to be shut off after funding cut...",
          "7 GMT Organization: Simon Fraser University X-Useragent: Nuntius v1.1.1d17 Lines: 15  In article <> ...",
          "ines: 15 Distribution: world NNTP-Posting-Host: kelvin.jpl.nasa.gov News-Software: VAX/VMS VNEWS 1.4...",
          "nic State University, San Luis Obispo Lines: 31  >In article <>  (Victor Laking) writes: >> (Victor ...",
          "Lines: 42 \t<> \t<> NNTP-Posting-Host: topaz.ucsc.edu In-reply-to: 's message of 20 Apr 93 22:38:07 GM...",
          "ines: 44   (Craig Keithley) writes: > > All in all, I'm not certain that the single goal/prize of st...",
          "nization: Netcom Online Communications Services (408-241-9760 login: guest) Lines: 9     I might sug...",
          "tion: Fermi National Accelerator Laboratory Lines: 25 Distribution: na NNTP-Posting-Host: fnalf.fnal...",
          "tsville, AL Lines: 72   Okay, lets get the record straight on the Livermore gas gun.   The project m...",
          "world NNTP-Posting-Host: kelvin.jpl.nasa.gov News-Software: VAX/VMS VNEWS 1.41      Forwarded from J...",
          "Research Center Lines: 14 Distribution: world Reply-To:  (CLAUDIO OLIVEIRA EGALON) NNTP-Posting-Host...",
          "banks Lines: 11 Nntp-Posting-Host: acad3.alaska.edu  Is there a few Grasp pictures of space related ...",
          "ci Lines: 10  The Apollo astronauts also trained at (in) Meteor Crater in the Flagstaff area (Arizon...",
          "-Posting-Host: access.digex.net  In article <>  (George F. Krumins) writes: >It is so typical that t...",
          "-408-734-2289 Lines: 20   (Doug Mohney) writes:  > Allen, sometimes I think you're OK.  And sometime...",
          "ting-Host: access.digex.net Keywords: food  dillon comments that Space Food Sticks may have bad dige...",
          "h Carolina, Chapel Hill Lines: 95 Distribution: world Expires: 6 May 1993 19:57:55 GMT NNTP-Posting-...",
          "Lines: 25 NNTP-Posting-Host: access.digex.net  In article <>  (fred j mccall 575-3539) writes: | |I ...",
          "celerator Laboratory Lines: 24 NNTP-Posting-Host: fnalf.fnal.gov  In article <>,  (Charles J. Divine...",
          "eplerian Nntp-Posting-Host: scgraph.afit.af.mil Organization: Air Force Institute of Technology Line...",
          "ines: 8  If all of these things have been detected in space, has anyone looked into possible problem...",
          ".1 Organization: University of Alaska Fairbanks Lines: 21 Nntp-Posting-Host: acad3.alaska.edu  In ar...",
          "Lines: 31  In article <> Callec Dradja <> writes: >I am a bit nervous about posting this beacause it...",
          "ne Communications, Greenbelt MD USA Lines: 9 Distribution: na NNTP-Posting-Host: access.digex.net   ...",
          "t) writes: >what ever happened to the hypothesis  that the shuttle flight software >was a major fact...",
          "munications USA Lines: 20 NNTP-Posting-Host: access.digex.net Keywords: Galileo, JPL    INteresting ...",
          ".1 Organization: University of Alaska Fairbanks Lines: 33 Nntp-Posting-Host: acad3.alaska.edu  In ar...",
          "n Schiewer) writes: >What is the deal with life on Mars?  I save the \"face\" and heard  >associated t...",
          "oratory Lines: 22 Distribution: world NNTP-Posting-Host: kelvin.jpl.nasa.gov Keywords: Galileo, JPL ...",
          "ganization: Univ. of Southwestern Louisiana Lines: 22   (Rob Unverzagt) writes:  >In article <>  (Ro...",
          "Organization: [via International Space University] Original-Sender:  Distribution: sci Lines: 28   \t...",
          "on: Fermi National Accelerator Laboratory Lines: 22 Distribution: world NNTP-Posting-Host: fnalf.fna...",
          "rganization?  You must be kidding. Lines: 35 NNTP-Posting-Host: aerospace.aero.org  In article <1pr5...",
          " Lines: 114    ARIANESPACE FLIGHT 56  (Flight V.56 was originally intended to carry the Hughes HS-60...",
          "Reply-To:  Organization: TI/DSEG VAX Support   In article <>,  (John Elson) writes: >Has anyone ever...",
          "mes Research Center Distribution: na Lines: 14   (Pat) writes:   >AW&ST  had a brief blurb on a Mann...",
          " MA 01609-2280 Lines: 11 NNTP-Posting-Host: wpi.wpi.edu   \tI am looking for any information about th...",
          "n: stanford Lines: 38  In article <>,  (Brian Yamauchi) writes: |> >NASA would provide contractual l...",
          "Sci. Lines: 22   And one of my profs is the chief engineer for the project (Dr. Ron Humble, Univ. Co...",
          "st?  <> <>  <> <>  <> <> Lines: 38  In article <>,  (Gary Coffman) says: >In article <> Graydon ><> ...",
          "call 575-3539) writes: >>>(given that I've heard the Shuttle software rated as Level 5 ... >>Level 5...",
          "on: [via International Space University] Original-Sender:  Distribution: sci Lines: 21  on Date: Sat...",
          "kn6rINNett Reply-To:  Distribution: world Organization: Computer Aided Design Lab, U. of Maryland Co...",
          "n article <>  writes: >Here is a way to get the commericial companies into space and mineral >explor...",
          "ization: University of Illinois at Urbana Lines: 18   (Pat) writes:  >AW&ST  had a brief blurb on a ...",
          "University of Alaska Fairbanks  In article <>,  (Doug Mohney) writes: > In article <>,  (Henry Spenc...",
          "] Original-Sender:  Distribution: sci Lines: 14   >If all the ecomomists in the world were laid end ...",
          "na Lines: 35  In <>  (Elijah Millgram) writes:   >A friend of mine and I were wondering where the ex...",
          "Lines: 26 \t<>\t<>\t<>,<> \t<> NNTP-Posting-Host: topaz.ucsc.edu In-reply-to: 's message of 21 Apr 1993 ...",
          "s: 17       I've been following discussions about the Delta Clipper program, and I have one small qu...",
          "nes: 25 NNTP-Posting-Host: access.digex.net  In article <>  writes: >In article <1r6b7v$>,  (Pat) wr...",
          "4  In article <>,  (Henry Spencer) wrote: >  > The major component of any realistic plan to go to th...",
          ">  (Steve Collins) writes: >The difficulties of a high Isp OTV include... >If you go solar, you have...",
          "ace University] Original-Sender:  Distribution: sci Lines: 189  >>Nick sez; I'm not very impressed b...",
          "ada Lines: 20   > > > Also, peri[jove]s of Gehrels3 were: > > >  > > > April  1973     83 jupiter ra...",
          "<>  (CLAUDIO OLIVEIRA EGALON) writes: >> there is no such thing as a stable lunar orbit > >Is it rig...",
          " Flight Center - Robotics Lab Lines: 26 News-Software: VAX/VMS VNEWS 1.4-b1  In article <>,  (Garret...",
          "GMT Organization: National Radio Astronomy Observatory Lines: 32  It is usually possible to reach pe...",
          " Space University] Original-Sender:  Distribution: sci Lines: 58      Joint Press release ESA/UN No ...",
          "6.14123 Organization: Evil Geniuses for a Better Tomorrow Lines: 22  In article <>  (Josh Hopkins) w...",
          "sted this over in sci.astro, but it didn't make it here. Thought you all would like my wonderful pit...",
          "Shuttle Program Office  X-Newsreader: TIN [version 1.1 PL8] Lines: 40   (Hey, that's me!) wrote: : I...",
          "ity of North Carolina, Chapel Hill Lines: 36 Distribution: world Expires: 7 May 1993 17:25:40 GMT NN...",
          "ience Computer Network, Denver, Co. Lines: 5  The Apollo program cost something like $25 billion at ...",
          "ines: 20 Distribution: world NNTP-Posting-Host: gargravarr.cc.utexas.edu X-UserAgent: Nuntius v1.1.1...",
          " 'Lectronic Link Lines: 29   The difficulties of a high Isp OTV include: Long transfer times (radiat...",
          "Mathematics, University of Adelaide Lines: 25  In article <1pfkf5$>  (Pat) writes:  >Only one proble...",
          "tion: Dynamic Graphics Inc. Lines: 10 Distribution: usa NNTP-Posting-Host: opus.dgi.com  Sorry but I...",
          " 15 NNTP-Posting-Host: bigwpi.wpi.edu    Hello everyone,  \tI was hoping someone could help me out.  ...",
          "(David M. Palmer) writes: >>orbiting billboard... > >I would just like to point out that it is much ...",
          "on: Destructive Testing Systems Lines: 63  In article <> Graydon <> writes: >In article <>,  (Gary C...",
          "tp-Posting-Host: prism.engrg.uwo.ca Lines: 15  In article <>  (Nick Haines) writes: > >Would they bu...",
          "s at Urbana Lines: 42   (Keith Mancus) writes:  > (Layne Cook) writes: >> All of this talk about a C...",
          "on: world NNTP-Posting-Host: kelvin.jpl.nasa.gov Keywords: Galileo, JPL News-Software: VAX/VMS VNEWS...",
          "Louisiana Lines: 28   (Mark Brader) writes:   >Thanks again.  One final question.  The name Gehrels ...",
          "P-Posting-Host: access.digex.net  In article <1r6f3a$>  (Rouben Rostamian) writes: >how the length o...",
          "zation: [via International Space University] Original-Sender:  Distribution: sci Lines: 55  Apologie...",
          "8  In article <>  (Gary Coffman) writes:   > be the site of major commercial activity. As far as we ...",
          " 13  A brief political/cultural item.  Radio station WGMS in Washington is a classical music station...",
          " Lines: 13 Reply-To:  NNTP-Posting-Host: queen.eng.umd.edu  In article <>,  (Henry Spencer) writes: ...",
          "or in original version of preceding line at VACATION.VENARI.CS.CMU.EDU Organization: [via Internatio...",
          "x, Inc., Beaverton,  OR. Lines: 31   ----- News saved at 23 Apr 93 22:22:40 GMT In article <>  (Davi...",
          "e Communications USA Lines: 19 NNTP-Posting-Host: access.digex.net  In article <>  (Achurist) writes...",
          "ronto Zoology Lines: 15  In article <>  (Allen W. Sherzer) writes: >This prize isn't big enough to w...",
          "-Posting-Host: 145.1.146.43 Lines: 59  I am posting this for a friend without internet access. Pleas...",
          "ization: University of Alaska Fairbanks Lines: 55 Nntp-Posting-Host: acad3.alaska.edu  In article <>...",
          " University of Alaska Fairbanks Lines: 28 Nntp-Posting-Host: acad3.alaska.edu  That is an idea.. The...",
          " Organization: TI/DSEG VAX Support   In article <>,  (John F. Woods) writes: > (Norman Anderson) wri...",
          "stribution: world NNTP-Posting-Host: kelvin.jpl.nasa.gov Keywords: HST, Pluto, Uranus News-Software:...",
          " Institute Lines: 42  In article <>,   (Victor Laking) writes: > Does anyone have any info on the ap...",
          "ust one step further: >How has the word \"Clementine\" been associated with mining?    Old pioneer son...",
          "y of Alaska Fairbanks Lines: 21 Nntp-Posting-Host: acad3.alaska.edu  In article <>,  (Henry Spencer)...",
          "n: sci NNTP-Posting-Host: access.digex.net    I am sure  Mary or Henry can describe this more aptly ...",
          "-Posting-Host: cs.utexas.edu  In article <1raee7$>  (Pat) writes: >In article <>  (Ron Baalke) write...",
          "es: 14  In <>  writes:  >Since the DC-X is to take off horizontal, why not land that way?? >Why do t...",
          "h Center Lines: 16 Distribution: world Reply-To:  (CLAUDIO OLIVEIRA EGALON) NNTP-Posting-Host: tahit...",
          "ines: 35  In article <1rd1g0$>  (Pat) writes: >How will said re-boost be done? >Grapple, HST,  stow ...",
          " Lines: 56 NNTP-Posting-Host: fnalf.fnal.gov  In article <>,  (Frank J. Snyder) writes: > I am looki...",
          "sh Hopkins) writes: > (Keith Mancus) writes: >> (Layne Cook) writes: >>> The $25k Orteig prize helpe...",
          "lina State University, Project Eos Lines: 21   Hi all,      I'm trying to get mailing addresses for ...",
          "5-7155 v.32/v.42bis Lines: 27  In article <> mwm+@cs.cmu.edu (Mark Maimone) writes: >In article <>  ...",
          "IO OLIVEIRA EGALON) Distribution: world Organization: NASA Langley Research Center, Hampton, VA  USA...",
          "ding orbital billboards...] >And does anyone have any more details other than what was in the WN >ne...",
          "ion: Muppet Labs Lines: 27  In article <>  (fred j mccall 575-3539) writes: >In <>  (David McAloon) ...",
          "s: 13 Distribution: world Reply-To:  (CLAUDIO OLIVEIRA EGALON) NNTP-Posting-Host: tahiti.larc.nasa.g...",
          "ator:  Nntp-Posting-Host: snow.fox.cs.cmu.edu Organization: School of Computer Science, Carnegie Mel...",
          "NTP-Posting-Host: access.digex.net  In article <>  (fred j mccall 575-3539) writes: >isn't my real n...",
          "ines: 13  In article <1r6aqr$>  (Pat) writes: #The better question  should be. #Why not transfer  O&...",
          "Lines: 39 NNTP-Posting-Host: alumni.caltech.edu   (Matthew DeLuca) writes:  >In article <>  (David \"...",
          " Lines: 22 Reply-To:  NNTP-Posting-Host: queen.eng.umd.edu  In article <>,  (Allen W. Sherzer) write...",
          "Baltimore MD Lines: 14  Another fish to check out is Richard Rast -- he works for Lockheed Missiles,...",
          "e Centaur is controlled technology.. State Dept will not allow it to be used outside of US. Sorry. >...",
          "ept. of Energy, Mines, and Resources, Ottawa Lines: 15  As for SF and advertising in space. There is...",
          "ty of Victoria, Victoria, BC, Canada Lines: 33  In article <1qjs1j$>  (Pat) writes: > > >In the old ...",
          "s: 111        Ethnocentric USian that I am, I've assumed that we and the xUSSR were the only countri...",
          "lorado State University -=- Computer Science Dept. Lines: 11  Is the film from the \"putt-putt\" test ...",
          "osting-Host: pa881a Nntp-Posting-User: schiewer Lines: 9  What is the deal with life on Mars?  I sav...",
          "ing-Host: access.digex.net   Well thank you dennis for your as usual highly detailed and informative...",
          "sity of California, Irvine Lines: 30  Actually, they are legal! I not familiar with the ad you are s...",
          "Riverside Lines: 82 Nntp-Posting-Host: guitar.ucr.edu  There is an interesting opinion piece in the ...",
          " I need as much information about Cosmos 2238 and its rocket fragment (1993- 018B) as possible. Both...",
          "Greenbelt Maryland Lines: 23  Reported yesterday in the Washington Post (Kathy Sawyer, writer):  The..."
         ],
         "type": "scatter",
         "x": [
          2.930025577545166,
          -6.289919376373291,
          -2.155513286590576,
          -6.869485855102539,
          -0.660656750202179,
          -5.973841190338135,
          -2.644901990890503,
          14.407155990600586,
          -5.6928391456604,
          -1.9842151403427124,
          -7.929288387298584,
          -4.457640647888184,
          -4.169009208679199,
          0.011255556717514992,
          -2.519056558609009,
          14.048261642456055,
          -8.51694393157959,
          -1.8907923698425293,
          -8.641565322875977,
          -0.3133941888809204,
          8.270689964294434,
          -5.978481769561768,
          1.925119161605835,
          -0.746113657951355,
          -3.456085681915283,
          -5.763066291809082,
          -3.973784923553467,
          -2.26039719581604,
          -7.877051830291748,
          -1.312264323234558,
          14.513450622558594,
          3.864546775817871,
          0.09769101440906525,
          -2.61401629447937,
          -4.048614501953125,
          -0.9543794989585876,
          -4.939295768737793,
          3.6024091243743896,
          2.5356192588806152,
          -4.12581729888916,
          13.291865348815918,
          -5.758565902709961,
          1.5693367719650269,
          -3.847830057144165,
          8.824045181274414,
          -7.385105609893799,
          17.023088455200195,
          7.797791481018066,
          -1.8079960346221924,
          1.468732476234436,
          -5.979022979736328,
          2.8924508094787598,
          -0.6637566685676575,
          -1.5341371297836304,
          4.044212818145752,
          -4.711995601654053,
          14.766144752502441,
          1.3324425220489502,
          20.406476974487305,
          5.098977565765381,
          -0.3183048963546753,
          3.907012462615967,
          0.967074990272522,
          5.287843227386475,
          -1.8459402322769165,
          3.173783779144287,
          36.150177001953125,
          -4.71250057220459,
          -3.178579807281494,
          1.3958274126052856,
          7.881724834442139,
          -9.066583633422852,
          -2.319953441619873,
          -1.2946445941925049,
          4.899599075317383,
          -5.16434907913208,
          1.5404844284057617,
          2.2496402263641357,
          -2.8991737365722656,
          -7.924545764923096,
          0.1162465512752533,
          -8.905219078063965,
          6.128661155700684,
          -3.833519220352173,
          3.4251012802124023,
          32.496543884277344,
          -2.82222580909729,
          1.7778019905090332,
          -4.387149333953857,
          9.65095329284668,
          1.1974096298217773,
          3.4091784954071045,
          11.532354354858398,
          -5.495730400085449,
          -4.706672191619873,
          -1.1320152282714844,
          -4.6346540451049805,
          0.3232439458370209,
          -6.739843845367432,
          1.6667582988739014,
          -3.0607540607452393,
          9.128766059875488,
          -1.7227702140808105,
          3.4872846603393555,
          0.869453489780426,
          -2.011500835418701,
          1.7363532781600952,
          0.5309368968009949,
          11.87116813659668,
          -1.0865463018417358,
          -4.181977272033691,
          -3.769932985305786,
          -0.24433547258377075,
          -9.647480964660645,
          -8.236607551574707,
          3.8475513458251953,
          11.696281433105469,
          -6.100045204162598,
          -1.2534141540527344,
          3.326160430908203,
          -4.860138893127441,
          4.171212673187256,
          -1.8949986696243286,
          -2.8228070735931396,
          -5.258460521697998,
          3.330904960632324,
          -3.133497476577759,
          2.511441707611084,
          4.762814044952393,
          8.115453720092773,
          -5.084383487701416,
          2.278989553451538,
          -2.81351900100708,
          -4.479272842407227,
          3.998002052307129,
          1.3405805826187134,
          -2.8048720359802246,
          -0.26059386134147644,
          1.4316052198410034,
          0.5072619915008545,
          -1.2352012395858765,
          0.49488869309425354,
          0.12337728589773178,
          44.668701171875,
          6.415200233459473,
          -5.254078388214111,
          -6.213073253631592,
          -6.856870174407959,
          10.871858596801758,
          -2.2887988090515137
         ],
         "y": [
          -3.8773293495178223,
          2.046353578567505,
          -2.323491334915161,
          2.2911524772644043,
          -1.7998731136322021,
          4.3496317863464355,
          -1.131408929824829,
          -9.38206672668457,
          2.2099385261535645,
          0.21618342399597168,
          3.9322152137756348,
          -1.0147931575775146,
          0.8367645740509033,
          -5.129666805267334,
          -4.2882466316223145,
          -4.448991775512695,
          1.8184289932250977,
          -2.626875162124634,
          0.6175286769866943,
          -3.615227460861206,
          7.507946491241455,
          -2.9201650619506836,
          -8.72037124633789,
          3.6356360912323,
          3.405277729034424,
          -0.23905688524246216,
          0.7226617336273193,
          0.6964348554611206,
          0.5623181462287903,
          -1.5057382583618164,
          -2.295426607131958,
          0.23195570707321167,
          0.5499302744865417,
          3.505962371826172,
          0.10001958161592484,
          -1.4186898469924927,
          -2.0539493560791016,
          -3.0834896564483643,
          -3.6339619159698486,
          2.4561617374420166,
          -5.302315711975098,
          -0.13765849173069,
          -1.6097676753997803,
          0.6078497171401978,
          -7.940847873687744,
          1.116366982460022,
          -3.2905311584472656,
          -6.372209072113037,
          1.455991506576538,
          3.230344295501709,
          5.042112350463867,
          -6.961975574493408,
          -1.3020471334457397,
          -2.805939197540283,
          4.5451250076293945,
          -0.40724021196365356,
          -3.024595260620117,
          0.6867588758468628,
          -5.620196342468262,
          -2.7589833736419678,
          -0.18628989160060883,
          -5.943325042724609,
          -1.3648980855941772,
          -4.915830135345459,
          -3.538036346435547,
          -0.48115602135658264,
          25.896137237548828,
          7.886263370513916,
          0.7878763675689697,
          -4.0121002197265625,
          -1.398299217224121,
          2.872627019882202,
          -2.118351936340332,
          2.2235233783721924,
          -2.7698802947998047,
          0.11271997541189194,
          2.09755277633667,
          -3.1554510593414307,
          1.3912816047668457,
          2.9426605701446533,
          0.5493373870849609,
          5.510383129119873,
          -0.25252705812454224,
          1.7686100006103516,
          1.8942967653274536,
          19.039031982421875,
          -5.371103286743164,
          -1.648651123046875,
          -2.2311995029449463,
          -3.736797571182251,
          -2.046212673187256,
          -5.038589000701904,
          -4.555510997772217,
          0.6967750191688538,
          -0.9968547821044922,
          -1.1829326152801514,
          -1.979748010635376,
          1.6041616201400757,
          2.816744565963745,
          -0.24031855165958405,
          1.4593145847320557,
          -6.436051845550537,
          -1.9752259254455566,
          -1.4949995279312134,
          -6.322685718536377,
          -0.5637322068214417,
          -5.297388076782227,
          -1.2615481615066528,
          5.51151704788208,
          0.6314641833305359,
          0.1009725034236908,
          2.4006283283233643,
          -5.450651168823242,
          4.284196853637695,
          2.9419643878936768,
          1.2748589515686035,
          -4.329238414764404,
          -1.8036879301071167,
          -3.3553061485290527,
          2.170226573944092,
          -0.7492015361785889,
          -4.224978923797607,
          1.4688639640808105,
          -3.0084636211395264,
          0.6428337097167969,
          -4.604016304016113,
          1.4329131841659546,
          -2.023430585861206,
          0.7409499287605286,
          -3.5728418827056885,
          -3.187302589416504,
          1.4503631591796875,
          -0.6014029383659363,
          -0.0940745398402214,
          -1.129101037979126,
          -2.5544004440307617,
          0.9222739338874817,
          2.7319769859313965,
          -7.84970760345459,
          2.37971568107605,
          -5.363986968994141,
          1.4365652799606323,
          -3.4473254680633545,
          1.7197370529174805,
          -5.7176737785339355,
          0.8618060350418091,
          0.25575411319732666,
          -1.3173978328704834,
          -7.785650730133057,
          -4.257023811340332
         ]
        }
       ],
       "layout": {
        "height": 800,
        "hovermode": "closest",
        "template": {
         "data": {
          "bar": [
           {
            "error_x": {
             "color": "#2a3f5f"
            },
            "error_y": {
             "color": "#2a3f5f"
            },
            "marker": {
             "line": {
              "color": "#E5ECF6",
              "width": 0.5
             },
             "pattern": {
              "fillmode": "overlay",
              "size": 10,
              "solidity": 0.2
             }
            },
            "type": "bar"
           }
          ],
          "barpolar": [
           {
            "marker": {
             "line": {
              "color": "#E5ECF6",
              "width": 0.5
             },
             "pattern": {
              "fillmode": "overlay",
              "size": 10,
              "solidity": 0.2
             }
            },
            "type": "barpolar"
           }
          ],
          "carpet": [
           {
            "aaxis": {
             "endlinecolor": "#2a3f5f",
             "gridcolor": "white",
             "linecolor": "white",
             "minorgridcolor": "white",
             "startlinecolor": "#2a3f5f"
            },
            "baxis": {
             "endlinecolor": "#2a3f5f",
             "gridcolor": "white",
             "linecolor": "white",
             "minorgridcolor": "white",
             "startlinecolor": "#2a3f5f"
            },
            "type": "carpet"
           }
          ],
          "choropleth": [
           {
            "colorbar": {
             "outlinewidth": 0,
             "ticks": ""
            },
            "type": "choropleth"
           }
          ],
          "contour": [
           {
            "colorbar": {
             "outlinewidth": 0,
             "ticks": ""
            },
            "colorscale": [
             [
              0,
              "#0d0887"
             ],
             [
              0.1111111111111111,
              "#46039f"
             ],
             [
              0.2222222222222222,
              "#7201a8"
             ],
             [
              0.3333333333333333,
              "#9c179e"
             ],
             [
              0.4444444444444444,
              "#bd3786"
             ],
             [
              0.5555555555555556,
              "#d8576b"
             ],
             [
              0.6666666666666666,
              "#ed7953"
             ],
             [
              0.7777777777777778,
              "#fb9f3a"
             ],
             [
              0.8888888888888888,
              "#fdca26"
             ],
             [
              1,
              "#f0f921"
             ]
            ],
            "type": "contour"
           }
          ],
          "contourcarpet": [
           {
            "colorbar": {
             "outlinewidth": 0,
             "ticks": ""
            },
            "type": "contourcarpet"
           }
          ],
          "heatmap": [
           {
            "colorbar": {
             "outlinewidth": 0,
             "ticks": ""
            },
            "colorscale": [
             [
              0,
              "#0d0887"
             ],
             [
              0.1111111111111111,
              "#46039f"
             ],
             [
              0.2222222222222222,
              "#7201a8"
             ],
             [
              0.3333333333333333,
              "#9c179e"
             ],
             [
              0.4444444444444444,
              "#bd3786"
             ],
             [
              0.5555555555555556,
              "#d8576b"
             ],
             [
              0.6666666666666666,
              "#ed7953"
             ],
             [
              0.7777777777777778,
              "#fb9f3a"
             ],
             [
              0.8888888888888888,
              "#fdca26"
             ],
             [
              1,
              "#f0f921"
             ]
            ],
            "type": "heatmap"
           }
          ],
          "heatmapgl": [
           {
            "colorbar": {
             "outlinewidth": 0,
             "ticks": ""
            },
            "colorscale": [
             [
              0,
              "#0d0887"
             ],
             [
              0.1111111111111111,
              "#46039f"
             ],
             [
              0.2222222222222222,
              "#7201a8"
             ],
             [
              0.3333333333333333,
              "#9c179e"
             ],
             [
              0.4444444444444444,
              "#bd3786"
             ],
             [
              0.5555555555555556,
              "#d8576b"
             ],
             [
              0.6666666666666666,
              "#ed7953"
             ],
             [
              0.7777777777777778,
              "#fb9f3a"
             ],
             [
              0.8888888888888888,
              "#fdca26"
             ],
             [
              1,
              "#f0f921"
             ]
            ],
            "type": "heatmapgl"
           }
          ],
          "histogram": [
           {
            "marker": {
             "pattern": {
              "fillmode": "overlay",
              "size": 10,
              "solidity": 0.2
             }
            },
            "type": "histogram"
           }
          ],
          "histogram2d": [
           {
            "colorbar": {
             "outlinewidth": 0,
             "ticks": ""
            },
            "colorscale": [
             [
              0,
              "#0d0887"
             ],
             [
              0.1111111111111111,
              "#46039f"
             ],
             [
              0.2222222222222222,
              "#7201a8"
             ],
             [
              0.3333333333333333,
              "#9c179e"
             ],
             [
              0.4444444444444444,
              "#bd3786"
             ],
             [
              0.5555555555555556,
              "#d8576b"
             ],
             [
              0.6666666666666666,
              "#ed7953"
             ],
             [
              0.7777777777777778,
              "#fb9f3a"
             ],
             [
              0.8888888888888888,
              "#fdca26"
             ],
             [
              1,
              "#f0f921"
             ]
            ],
            "type": "histogram2d"
           }
          ],
          "histogram2dcontour": [
           {
            "colorbar": {
             "outlinewidth": 0,
             "ticks": ""
            },
            "colorscale": [
             [
              0,
              "#0d0887"
             ],
             [
              0.1111111111111111,
              "#46039f"
             ],
             [
              0.2222222222222222,
              "#7201a8"
             ],
             [
              0.3333333333333333,
              "#9c179e"
             ],
             [
              0.4444444444444444,
              "#bd3786"
             ],
             [
              0.5555555555555556,
              "#d8576b"
             ],
             [
              0.6666666666666666,
              "#ed7953"
             ],
             [
              0.7777777777777778,
              "#fb9f3a"
             ],
             [
              0.8888888888888888,
              "#fdca26"
             ],
             [
              1,
              "#f0f921"
             ]
            ],
            "type": "histogram2dcontour"
           }
          ],
          "mesh3d": [
           {
            "colorbar": {
             "outlinewidth": 0,
             "ticks": ""
            },
            "type": "mesh3d"
           }
          ],
          "parcoords": [
           {
            "line": {
             "colorbar": {
              "outlinewidth": 0,
              "ticks": ""
             }
            },
            "type": "parcoords"
           }
          ],
          "pie": [
           {
            "automargin": true,
            "type": "pie"
           }
          ],
          "scatter": [
           {
            "fillpattern": {
             "fillmode": "overlay",
             "size": 10,
             "solidity": 0.2
            },
            "type": "scatter"
           }
          ],
          "scatter3d": [
           {
            "line": {
             "colorbar": {
              "outlinewidth": 0,
              "ticks": ""
             }
            },
            "marker": {
             "colorbar": {
              "outlinewidth": 0,
              "ticks": ""
             }
            },
            "type": "scatter3d"
           }
          ],
          "scattercarpet": [
           {
            "marker": {
             "colorbar": {
              "outlinewidth": 0,
              "ticks": ""
             }
            },
            "type": "scattercarpet"
           }
          ],
          "scattergeo": [
           {
            "marker": {
             "colorbar": {
              "outlinewidth": 0,
              "ticks": ""
             }
            },
            "type": "scattergeo"
           }
          ],
          "scattergl": [
           {
            "marker": {
             "colorbar": {
              "outlinewidth": 0,
              "ticks": ""
             }
            },
            "type": "scattergl"
           }
          ],
          "scattermapbox": [
           {
            "marker": {
             "colorbar": {
              "outlinewidth": 0,
              "ticks": ""
             }
            },
            "type": "scattermapbox"
           }
          ],
          "scatterpolar": [
           {
            "marker": {
             "colorbar": {
              "outlinewidth": 0,
              "ticks": ""
             }
            },
            "type": "scatterpolar"
           }
          ],
          "scatterpolargl": [
           {
            "marker": {
             "colorbar": {
              "outlinewidth": 0,
              "ticks": ""
             }
            },
            "type": "scatterpolargl"
           }
          ],
          "scatterternary": [
           {
            "marker": {
             "colorbar": {
              "outlinewidth": 0,
              "ticks": ""
             }
            },
            "type": "scatterternary"
           }
          ],
          "surface": [
           {
            "colorbar": {
             "outlinewidth": 0,
             "ticks": ""
            },
            "colorscale": [
             [
              0,
              "#0d0887"
             ],
             [
              0.1111111111111111,
              "#46039f"
             ],
             [
              0.2222222222222222,
              "#7201a8"
             ],
             [
              0.3333333333333333,
              "#9c179e"
             ],
             [
              0.4444444444444444,
              "#bd3786"
             ],
             [
              0.5555555555555556,
              "#d8576b"
             ],
             [
              0.6666666666666666,
              "#ed7953"
             ],
             [
              0.7777777777777778,
              "#fb9f3a"
             ],
             [
              0.8888888888888888,
              "#fdca26"
             ],
             [
              1,
              "#f0f921"
             ]
            ],
            "type": "surface"
           }
          ],
          "table": [
           {
            "cells": {
             "fill": {
              "color": "#EBF0F8"
             },
             "line": {
              "color": "white"
             }
            },
            "header": {
             "fill": {
              "color": "#C8D4E3"
             },
             "line": {
              "color": "white"
             }
            },
            "type": "table"
           }
          ]
         },
         "layout": {
          "annotationdefaults": {
           "arrowcolor": "#2a3f5f",
           "arrowhead": 0,
           "arrowwidth": 1
          },
          "autotypenumbers": "strict",
          "coloraxis": {
           "colorbar": {
            "outlinewidth": 0,
            "ticks": ""
           }
          },
          "colorscale": {
           "diverging": [
            [
             0,
             "#8e0152"
            ],
            [
             0.1,
             "#c51b7d"
            ],
            [
             0.2,
             "#de77ae"
            ],
            [
             0.3,
             "#f1b6da"
            ],
            [
             0.4,
             "#fde0ef"
            ],
            [
             0.5,
             "#f7f7f7"
            ],
            [
             0.6,
             "#e6f5d0"
            ],
            [
             0.7,
             "#b8e186"
            ],
            [
             0.8,
             "#7fbc41"
            ],
            [
             0.9,
             "#4d9221"
            ],
            [
             1,
             "#276419"
            ]
           ],
           "sequential": [
            [
             0,
             "#0d0887"
            ],
            [
             0.1111111111111111,
             "#46039f"
            ],
            [
             0.2222222222222222,
             "#7201a8"
            ],
            [
             0.3333333333333333,
             "#9c179e"
            ],
            [
             0.4444444444444444,
             "#bd3786"
            ],
            [
             0.5555555555555556,
             "#d8576b"
            ],
            [
             0.6666666666666666,
             "#ed7953"
            ],
            [
             0.7777777777777778,
             "#fb9f3a"
            ],
            [
             0.8888888888888888,
             "#fdca26"
            ],
            [
             1,
             "#f0f921"
            ]
           ],
           "sequentialminus": [
            [
             0,
             "#0d0887"
            ],
            [
             0.1111111111111111,
             "#46039f"
            ],
            [
             0.2222222222222222,
             "#7201a8"
            ],
            [
             0.3333333333333333,
             "#9c179e"
            ],
            [
             0.4444444444444444,
             "#bd3786"
            ],
            [
             0.5555555555555556,
             "#d8576b"
            ],
            [
             0.6666666666666666,
             "#ed7953"
            ],
            [
             0.7777777777777778,
             "#fb9f3a"
            ],
            [
             0.8888888888888888,
             "#fdca26"
            ],
            [
             1,
             "#f0f921"
            ]
           ]
          },
          "colorway": [
           "#636efa",
           "#EF553B",
           "#00cc96",
           "#ab63fa",
           "#FFA15A",
           "#19d3f3",
           "#FF6692",
           "#B6E880",
           "#FF97FF",
           "#FECB52"
          ],
          "font": {
           "color": "#2a3f5f"
          },
          "geo": {
           "bgcolor": "white",
           "lakecolor": "white",
           "landcolor": "#E5ECF6",
           "showlakes": true,
           "showland": true,
           "subunitcolor": "white"
          },
          "hoverlabel": {
           "align": "left"
          },
          "hovermode": "closest",
          "mapbox": {
           "style": "light"
          },
          "paper_bgcolor": "white",
          "plot_bgcolor": "#E5ECF6",
          "polar": {
           "angularaxis": {
            "gridcolor": "white",
            "linecolor": "white",
            "ticks": ""
           },
           "bgcolor": "#E5ECF6",
           "radialaxis": {
            "gridcolor": "white",
            "linecolor": "white",
            "ticks": ""
           }
          },
          "scene": {
           "xaxis": {
            "backgroundcolor": "#E5ECF6",
            "gridcolor": "white",
            "gridwidth": 2,
            "linecolor": "white",
            "showbackground": true,
            "ticks": "",
            "zerolinecolor": "white"
           },
           "yaxis": {
            "backgroundcolor": "#E5ECF6",
            "gridcolor": "white",
            "gridwidth": 2,
            "linecolor": "white",
            "showbackground": true,
            "ticks": "",
            "zerolinecolor": "white"
           },
           "zaxis": {
            "backgroundcolor": "#E5ECF6",
            "gridcolor": "white",
            "gridwidth": 2,
            "linecolor": "white",
            "showbackground": true,
            "ticks": "",
            "zerolinecolor": "white"
           }
          },
          "shapedefaults": {
           "line": {
            "color": "#2a3f5f"
           }
          },
          "ternary": {
           "aaxis": {
            "gridcolor": "white",
            "linecolor": "white",
            "ticks": ""
           },
           "baxis": {
            "gridcolor": "white",
            "linecolor": "white",
            "ticks": ""
           },
           "bgcolor": "#E5ECF6",
           "caxis": {
            "gridcolor": "white",
            "linecolor": "white",
            "ticks": ""
           }
          },
          "title": {
           "x": 0.05
          },
          "xaxis": {
           "automargin": true,
           "gridcolor": "white",
           "linecolor": "white",
           "ticks": "",
           "title": {
            "standoff": 15
           },
           "zerolinecolor": "white",
           "zerolinewidth": 2
          },
          "yaxis": {
           "automargin": true,
           "gridcolor": "white",
           "linecolor": "white",
           "ticks": "",
           "title": {
            "standoff": 15
           },
           "zerolinecolor": "white",
           "zerolinewidth": 2
          }
         }
        },
        "title": {
         "text": "Embedding Plot with Class Labels"
        },
        "width": 1200,
        "xaxis": {
         "showgrid": false,
         "showticklabels": false,
         "zeroline": false
        },
        "yaxis": {
         "showgrid": false,
         "showticklabels": false,
         "zeroline": false
        }
       }
      },
      "text/html": [
       "<div>                            <div id=\"de2b8ac6-2029-424e-9728-85c6f0c92037\" class=\"plotly-graph-div\" style=\"height:800px; width:1200px;\"></div>            <script type=\"text/javascript\">                require([\"plotly\"], function(Plotly) {                    window.PLOTLYENV=window.PLOTLYENV || {};                                    if (document.getElementById(\"de2b8ac6-2029-424e-9728-85c6f0c92037\")) {                    Plotly.newPlot(                        \"de2b8ac6-2029-424e-9728-85c6f0c92037\",                        [{\"hoverinfo\":\"text\",\"marker\":{\"line\":{\"color\":\"white\",\"width\":0.5},\"size\":15},\"mode\":\"markers\",\"name\":\"Class sci.crypt\",\"opacity\":0.7,\"text\":[\"\\u003eIn the UK, it's impossible to get approval to attach any crypto device \\t\\u003eto the phone network.  (An...\",\"t of trawling through archives, I found the post I reproduce in full below.  Is it time to get toget...\",\"-Host: rac2.wam.umd.edu Organization: University of Maryland, College Park Lines: 11  In article \\u003c\\u003e ...\",\"est Center, University of Hamburg Distribution: na Lines: 33   (Marc Anderson) writes:  \\u003e methods.  ...\",\"rn Louisiana Lines: 52   (David Sternlight) writes:  \\u003eWhat follows is my opinion. It is not asserted...\",\"ion: Chaos Lines: 76 X-Newsreader: Archimedes ReadNews  -----BEGIN PGP SIGNED MESSAGE-----  In artic...\",\"Development, IBM Canada Lab. Disclaimer: This posting represents the poster's views, not those of IB...\",\".edu Organization: University of Texas at San Antonio Distribution: na Lines: 22  In article \\u003c\\u003e  (An...\",\"tes: \\u003eFor example, if I had a program on my disk which created totally random \\u003efiles looking like en...\",\" wiretap chip) Organization: AT&T Bell Laboratories Lines: 66  In article \\u003c\\u003e, Graham Toal \\u003c\\u003e writes:...\",\"13 NNTP-Posting-Host: access.digex.net   \\u003e Second question: Why!?!? Why is such a strange procedure ...\",\" 16: 47:03 GMT Organization: York U. Student Information Systems Project Lines: 18  Mark Riordan wri...\",\"es: 34  In article \\u003c1qg8m2$\\u003e  (Edward Vielmetti) writes:   \\u003e I would suggest that 50 attractive MIME...\",\" View, CA Lines: 20  In article \\u003c\\u003e,  (David Sternlight) writes: \\u003e ... \\u003e                             ...\",\"ication Services (408 241-9760 guest) X-Newsreader: Tin 1.1 PL5 Lines: 28  Besides being an infringe...\",\"rn Louisiana Distribution: na Lines: 25   (douglas craig holland) writes:   \\u003e\\tWith E-Mail, if they c...\",\" and Global Dynamics Division\\u002fNCAR, Boulder, CO Lines: 71  Here are some ideas for those of you who ...\",\"words: Hmm... Organization:  George Mason University, Fairfax Va. Distribution: world  Expires: 06\\u002f3...\",\"n: net Lines: 7  I am a PhD student. Can I get the sci.crypt group posted directly to me??? Also I w...\",\"zation: New Technology, Inc. Lines: 53  ( Below is my response to Dr. Denning's letter to Steven Bel...\",\"91711 Lines: 23  In article \\u003c\\u003e  (Robert Lewis Glendenning) writes: \\u003eFirst, what the fuck is NASA doi...\",\"il-Spec Computers Lines: 43  The M code stream  might be independently attacked based on knowledge o...\",\"H), Zurich, CH Lines: 120  Hmm, followup on my own posting... Well, who cares.  First let me try to ...\",\"s Gateway Lines: 171 NNTP-Posting-Host: cs.utexas.edu  Here are four pseudo-random character generat...\",\"lly -in- the chip, as \\topposed to what is allegedly programmed therein, raise yet another trust \\tiss...\",\".com Reply-To:  Organization: Qualcomm, Inc Lines: 37  In article \\u003c\\u003e,  (Vince Kub) writes: |\\u003e Now, |...\",\"Online Communication Services (408 241-9760 guest) Distribution: na Lines: 35  Clipper Chip is a res...\",\"on: na Organization: ClariNet Communications Corp. Lines: 29  In article \\u003c1qnn7b$\\u003e  (Marcus J Ranum)...\",\"Greenbelt, MD USA Lines: 25 NNTP-Posting-Host: access.digex.net  Okay, let's suppose that the NSA\\u002fNI...\",\"etap chip) Lines: 16  : At the company I worked for previously, I received a file that was des encry...\",\"on: ClariNet Communications Corp. Distribution: na Lines: 37  The stragegy of the government is inte...\",\"-Posting-Host: sunspot.ece.clarkson.edu Cc: tuinstra   Q:   Who was consulted?  The Congress?  Indus...\",\" Texas - Austin Lines: 53 NNTP-Posting-Host: tramp.cc.utexas.edu Originator:    In article \\u003c\\u003e,  (Phi...\",\" would be to make PGP available : in some form on EBCDIC machines.  Don't encourage them.  Let EBCDI...\",\"e Design Automation Lines: 17       Notwithstanding all the legitimate fuss about this proposal, how...\",\"reader: TIN [version 1.1 PL7] Lines: 41  Charles Kincy () wrote: :  : All I have to say is...yeah, r...\",\"s:  \\u003eBut do we really believe that the various governments \\u003e(including ours) won't have the full lis...\",\" Performance Group, Austin, TX X-Newsreader: rusnews v1.01 Lines: 17   (Steve Brinich) writes:  \\u003e  \\u003e...\",\"u by the numbers 2, 3, and 7 In-Reply-To: 's message of 19 Apr 93 18:23:27 -0400 Nntp-Posting-Host: ...\",\"ribution: world NNTP-Posting-Host: jfenton.kaleida.com X-UserAgent: Nuntius v1.1.1d12 X-XXMessage-ID...\",\"desparately* prefer it if we didn't rehash the same arguments that went on ad infinitum last time.  ...\",\"ganization: NASA Science Internet Project Office Lines: 24    |\\u003e    The Attorney General will procur...\",\"(Brad Templeton)  \\tLet's assume, for the moment, that the system really is secure unless \\tyou get bo...\",\"an old posting about CELP speech compression:  \\tIn case you'd like to experiment with CELP, you can ...\",\" 29  In \\u003c\\u003e  (John R. Levine) writes: (quoting someone else here)  \\u003e\\u003eThe cryptographic protocol, thou...\",\"orm the voice compression\\u002fexpansion.  They can't : be expensive, because they exist in many phones c...\",\"ganization: University of Colorado, Boulder Distribution: na Lines: 11  I change login passwords eve...\",\"rsity of Colorado, Boulder Distribution: na Lines: 32  In article \\u003c\\u003e  (Marc Anderson) writes: [...] ...\",\"lt, MD USA Lines: 10 NNTP-Posting-Host: access.digex.net    I suspect that the decisive element in t...\",\"ns, Greenbelt, MD USA Lines: 7 NNTP-Posting-Host: access.digex.net   \\u003e er, excuse me but since the e...\",\"ost: qualcom.qualcomm.com Organization: Qualcomm, Inc., San Diego, CA Distribution: na Lines: 8   (J...\",\"ilink Corporation, Petaluma, CA Lines: 19  In article \\u003c\\u003e,  (David Sternlight) writes: \\u003e  \\u003e Chances a...\",\". - Genetics Lines: 30  In article \\u003c\\u003e,  (Vesselin Bontchev) wrote: \\u003e  \\u003e  (Andrew Haley) writes: \\u003e  \\u003e...\",\"tion: na Lines: 13  \\u003e\\u003e\\tWith E-Mail, if they can't break your PGP encryption, they'll just \\u003e\\u003ecall up ...\",\"t. of Math, Harvard Univ. Nntp-Posting-Host: zariski.harvard.edu Lines: 33  In article \\u003c1ppg02$\\u003e   (...\",\"tap chip) In-Reply-To: 's message of Wed, 21 Apr 1993 13:23:18 GMT Nntp-Posting-Host: epcot.harlequi...\",\"IN [version 1.1 PL6] Lines: 35  I guess the cryptowranglers read this group too.  But of course I kn...\",\"20  In article \\u003c\\u003e,  (D. J. Bernstein) writes: \\u003e Short summary of what Bellovin says Hellman says the...\",\"g-Host: beethoven.cs.colostate.edu Organization: Colorado State University, Computer Science Departm...\",\"st: pizzabox.demon.co.uk Reply-To: Graham Toal \\u003c\\u003e Organization: Cuddlehogs Anonymous Lines: 9  In ar...\",\"nstruments, Inc. Nntp-Posting-Host: dsg4.dse.beckman.com Lines: 22  In \\u003c\\u003e  (Jonathan Eifrig) writes:...\",\"Fairfax VA Distribution: na Lines: 65   (Timothy C. May) writes:  \\u003eBrad Templeton () wrote: \\u003e: It oc...\",\"al Sciences Lines: 29 Distribution: inet NNTP-Posting-Host: moink.nmsu.edu  In article \\u003c\\u003e  (1016\\u002f2EF...\",\" Systems Corporation - Herndon, VA  USA Lines: 30 Distribution: world Reply-To:  (Amanda Walker) NNT...\",\"ogy (ETH), Zurich, CH Lines: 28  In article \\u003c1qv83m$\\u003e  (Jim McCoy) writes: \\u003e\\tI set up a bbs that use...\",\"Nntp-Posting-Host: zariski.harvard.edu Lines: 55  In article \\u003c\\u003e   (D. J. Bernstein) writes: \\u003e \\u003eI wan...\",\"TP server at csrc.ncsl.nist.gov no longer \\trecognizes the 'expn' and 'vrfy' commands...  \\t   telnet ...\",\" chip) Organization: CSRI, University of Toronto Lines: 31  In article \\u003c\\u003e  (John Kelsey) writes: \\u003e  ...\",\"Access UNIX\\u002fInternet Project Lines: 16  In article \\u003c\\u003e  (Peter Gutmann) writes: [article deleted] \\u003e \\u003e...\",\"ation - Herndon, VA  USA Lines: 68 Distribution: world Reply-To:  (Amanda Walker) NNTP-Posting-Host:...\",\"WPI; Marlboro Ma Lines: 35  In article \\u003c1qn1ic$\\u003e  (Peter Wayner) writes: \\u003eOkay, let's suppose that t...\",\"thoughts Lines: 7  The cryptographic algorythm MUST be kept secret, or private individuals could mak...\",\"mino theory was right... Organization: Chinet - Public Access UNIX Distribution: na Lines: 8  In art...\",\"mputing of WPI; Marlboro Ma Distribution: na Lines: 26  In article \\u003c\\u003e Graham Toal \\u003c\\u003e writes: \\u003eIn art...\",\"Laboratories, Inc., San Diego, California Lines: 15  In article \\u003c\\u003e Graham Toal \\u003c\\u003e writes: \\u003eI am *com...\",\"ap, clipper, key-escrow, Mykotronx Organization: Banzai Institute Lines: 19 Nntp-Posting-Host: mycro...\",\"Center, University of Hamburg Lines: 23   (David Sternlight) writes:  \\u003e I will provide one hint: it ...\",\"ity Lines: 22  In article \\u003c\\u003e Rick Miller \\u003c\\u003e writes: \\u003e (Jurgen Botz) writes: \\u003e\\u003e (Marc Horowitz N1NZU)...\",\"  Here is a disturbing thought.  Now, we no longer live in the days of big filing cabinets. We live ...\",\": 27 NNTP-Posting-Host: nuustak.csir.co.za X-Disclaimer: None of the opions expressed herein are the...\",\"rtin University of Technology  In article \\u003c\\u003e,  (Steve Johnson) writes: \\u003e  (Brad Templeton) writes: \\u003e...\",\" capriccioso X-Newsreader: TIN [version 1.1 PL6] Distribution: na Lines: 54  I am eager to hear the ...\",\"le \\u003c1r0nov$\\u003e  (Steve Brinich) writes:   \\u003e \\u003e 1. American manufacturers peddling Cripple Chips with a ...\",\"presents the poster's views, not necessarily those of IBM. Nntp-Posting-Host: kingbee.watson.ibm.com...\",\"etap chip) Organization: Computing Research Lab Lines: 36 \\t\\u003c\\u003e \\t\\u003c\\u003e \\u003c\\u003e NNTP-Posting-Host: lole.nmsu.ed...\",\"t Omaha Distribution: na Lines: 18   (Geoffrey Kuenning) writes:  \\u003eIt always amazes me how quick peo...\",\" chips for phones, not computer-bound station)_ Article-I.D.: agora.C5qy3M.DE3 Organization: Open Co...\",\"of Math, Harvard Univ. Nntp-Posting-Host: zariski.harvard.edu Lines: 27  In article \\u003c\\u003e  (Paul Crowle...\",\"! Nntp-Posting-Host: qualcom.qualcomm.com Organization: Qualcomm, Inc., San Diego, CA Distribution: ...\",\"bistromath.mitre.org Organization: The MITRE Corporation Lines: 41  In article \\u003c\\u003e  (David Sternlight...\",\"Communications, Greenbelt, MD USA Lines: 6 Distribution: na NNTP-Posting-Host: access.digex.net    F...\",\"-Mailer: Simple NEWS 1.90 (ka9q DIS 1.19) Lines: 23  In article \\u003c\\u003e  writes:  \\u003esince the price of 1.4...\",\"e conservation of momentum Distribution: na Lines: 65  In article \\u003c\\u003e  (Jerry Han) writes: \\u003eIn articl...\",\"ribution: na Lines: 47   (Jerry Han) writes: \\u003e The point of the matter is that; yes this is a seriou...\",\"istribution: inet Reply-To:  NNTP-Posting-Host: minerva.cis.yale.edu X-Newsreader: TIN [version 1.1 ...\",\"ut a box that you plug your phone into, which would allow \\t\\u003eencrypted voice communications with some...\",\" wiretap chip) Organization: AT&T Bell Laboratories Lines: 28  In article \\u003c\\u003e,  (James R Ebright) wri...\",\"ost: beethoven.cs.colostate.edu Organization: Colorado State University, Computer Science Department...\",\" I am testing IDEA block cipher implementations for correctness and needs some golden test vectors. ...\",\", wiretap, clipper, key-escrow, Mykotronx Nntp-Posting-Host: top.magnus.acs.ohio-state.edu Organizat...\",\"ed Systems Architecture   \\tI have a bunch of questions about the encryption scheme referenced in the...\",\"Communications, Greenbelt, MD USA Lines: 5 Distribution: na NNTP-Posting-Host: access.digex.net   \\u003e ...\",\"edu Organization: University of Missouri - Rolla, Rolla, MO Lines: 19  In article \\u003c\\u003e  (Bob Cain) wri...\",\"ting-Host: eff.org Organization: The Electronic Frontier Foundation Lines: 26  Clipper might be a go...\",\"a.edu Organization: UCLA, Computer Science Department Distribution: na Lines: 18  In article \\u003c\\u003e  (Pa...\",\"ion: Engineering Computer Network Distribution: na Lines: 27  In article \\u003c\\u003e,  (Brad Templeton) write...\",\"y-To:  Organization: Design Automaton Div., Texas Instruments, Inc. Lines: 36  \\u003e (Andrew Molitor) wr...\",\"r, Minneapolis, MN Lines: 18  I agree that notifying your elected officials of your feelings on this...\",\"41-9760 guest) X-Newsreader: Tin 1.1 PL5 Lines: 41  Perry E. Metzger () wrote: : Here is a disturbin...\",\"N [version 1.1 PL6] Lines: 84  *** SOURCE code to Macintosh PGP 2.2 now available via anonymous FTP ...\",\" DSI\\u002fUSCRPAC Lines: 39  In article \\u003c\\u003e  (Derek Atkins) writes:   \\u003e \\u003eThe point here is not the specifi...\",\"41     Organization: Mission Operations and Data Systems Distribution: na Lines: 44  In article \\u003c1qn...\",\" The MITRE Corporation Lines: 67  In article \\u003c\\u003e  (Carl M Kadie) writes: \\u003e (Andrew S Hall) writes: \\u003e ...\",\"Thu, 20 May 1993 00:00:00 GMT Organization: Computer Science, Indiana University Lines: 163 Content-...\",\": 21 NNTP-Posting-Host: scss3.cl.msu.edu X-Newsreader: TIN [version 1.1 PL8]  For those of you looki...\",\"ration - Herndon, VA  USA Lines: 35 Distribution: world Reply-To:  (Amanda Walker) NNTP-Posting-Host...\",\"s! Organization: Kubota Pacific Computer, Inc. Lines: 46   (Brad Yearwood) writes: | If Clipper come...\",\"13  In article \\u003c\\u003e  (Phil Karn) writes: \\u003eIt looks like Dorothy Denning's wrong-headed ideas have gott...\",\" 139  The following document summarizes the Clipper Chip, how it is used, how programming of the chi...\",\"tion: Partnership for an America Free Drug Distribution: na Lines: 104   (Robert Ward) writes: \\u003eIn a...\",\" In article \\u003c:  (Peter Trei) writes: :Judge: \\\"I grant you immunity from whatever may be learned from...\",\"ll Square Research Corp. Lines: 20   (Steve Johnson) writes: \\u003e\\u003e-Tim May, whose sig block may get him...\",\"anization: Beckman Instruments, Inc. Nntp-Posting-Host: dsg4.dse.beckman.com Lines: 15  In \\u003c\\u003e  (Jame...\",\"993 04:00:07 GMT Reply-To:  NNTP-Posting-Host: pad-thai.aktis.com Summary: Part 3 of 10 of the sci.c...\",\" IA, USA Lines: 43   (Philip Zimmermann) writes:  Philip, I think your ideas are well taken and cons...\",\"ines: 23  In article \\u003c\\u003e  (Kenneth Ng) writes: \\u003eIn article \\u003c:  (Peter Trei) writes: \\u003e:Judge: \\\"I grant...\",\"ganization: Thibault & Friends Lines: 10  In article \\u003c\\u003e  (The Jester) writes:   \\u003e Proof Windows is a...\",\"g read the various \\\"Clipper\\\" announcements on the net over the last few  days and a LOT of uninforme...\",\"tap chip) Organization: Harvey Mudd College, Claremont, CA 91711 Lines: 15  In article \\u003c\\u003e  (Steven B...\",\"f Comp. Sci., Urbana, IL Lines: 18   (Tal Kubo) writes:  [...] \\u003eThe EFF has been associated with eff...\",\"04:00:07 GMT Reply-To:  NNTP-Posting-Host: pad-thai.aktis.com Summary: Part 2 of 10 of the sci.crypt...\",\"7:40:17 GMT Nntp-Posting-Host: l-b-johnson.eff.org Organization: Electronic Frontier Foundation X-Us...\",\"te of Technology (ETH), Zurich, CH Lines: 19  In article \\u003c\\u003e  (Graham Toal) writes: \\u003eCan someone tell...\",\"ution: na Lines: 26  In article \\u003c\\u003e  (Karl Barrus) writes:  \\u003e \\u003eWould you trust a black-box from the N...\",\"Inc. Lines: 38 Nntp-Posting-Host: signal.ece.clarkson.edu  [Apologies for not posting to alt.clipper...\",\"0:07 GMT Reply-To:  NNTP-Posting-Host: pad-thai.aktis.com Summary: Part 1 of 10 of the sci.crypt FAQ...\",\"urgh University Distribution: inet Lines: 12  Quoting  in article \\u003c\\u003e: \\u003ePerhaps these encryption-only...\",\". Sci., Urbana, IL Lines: 42   (Andrew S Hall) writes:  \\u003eI am postive someone will correct me if I a...\",\"nes: 27 Distribution: na \\t\\u003c\\u003e NNTP-Posting-Host: menudo.uh.edu In-reply-to: 's message of Sun, 18 Apr...\",\"a Organization: Totally Unorganized Lines: 17  In article \\u003c1r21t1$\\u003e  (Steve Brinich) writes: \\u003c \\u003c \\u003e I...\",\"Universitaetsrechenzentrum, Heinrich-Heine-Universitaet, Duesseldorf Lines: 40 NNTP-Posting-Host: la...\",\"nication Services (408 241-9760 guest) Lines: 61  In article \\u003c\\u003e  (Robin Hanson) writes: \\u003eI'm attempt...\",\"e \\u003c\\u003e  writes: \\u003c (David Sternlight) writes: \\u003c \\u003c\\u003e Here's a simple way to convert the Clipper proposal ...\",\"ni-kl.de Organization: University of Kaiserslautern, Germany Lines: 39   (Stephan Neuhaus (HiWi Matt...\",\".citicorp.com X-Newsreader: TIN [version 1.1 PL6]  As of yet, there has been no description of the g...\",\"n: GeoQuest System, Inc. Houston Lines: 17  In article \\u003c\\u003e  (Perry E. Metzger) writes: \\u003e \\u003eeach of the...\",\"In article \\u003c\\u003e,  (Vernon Schryver) writes: \\u003e In article \\u003c\\u003e,  (David Sternlight) writes: \\u003e\\u003e           ...\",\" Systems Corporation - Herndon, VA  USA Lines: 34 Distribution: world Reply-To:  (Amanda Walker) NNT...\",\"ngland Lines: 25  -----BEGIN PGP SIGNED MESSAGE-----  Hi all..  Does anyone know of a UNIX utility a...\",\"8 NNTP-Posting-Host: ellisun.sw.stratus.com Keywords: cooperation  In article \\u003c\\u003e  writes: \\u003esay, can ...\"],\"x\":[-6.371471881866455,7.281039237976074,3.87052059173584,-3.7672550678253174,-7.497377395629883,-4.0819597244262695,-12.185263633728027,1.0549371242523193,-3.7142584323883057,-10.16545295715332,-0.4114636182785034,4.5736775398254395,3.0583550930023193,4.1934661865234375,-0.3388836979866028,-3.7109529972076416,-9.967942237854004,-13.034006118774414,-5.0183305740356445,-6.18639612197876,-1.3223072290420532,0.10812966525554657,-6.911438941955566,22.42654800415039,-8.831414222717285,-7.648533344268799,-9.722661018371582,-6.109527587890625,-6.484235763549805,-1.4610651731491089,-12.66378116607666,12.7269868850708,-1.5805248022079468,-1.0348161458969116,-7.757784366607666,-6.338698863983154,-0.3793156147003174,3.2597439289093018,1.8041882514953613,-2.7368412017822266,-12.198254585266113,0.9299647808074951,-7.739593982696533,-5.334108352661133,13.046191215515137,-9.102371215820312,-8.22145938873291,0.30587247014045715,-4.607553005218506,3.101412534713745,1.4943501949310303,-3.8702383041381836,-0.7029210329055786,-2.3155593872070312,-2.0445687770843506,-3.1963467597961426,-7.631380558013916,-0.3443469703197479,-4.337052822113037,3.0227060317993164,0.2669681906700134,-1.0669779777526855,-5.515500545501709,-3.379166603088379,-2.792722702026367,-5.537734031677246,-0.4016663730144501,1.6491957902908325,1.6596324443817139,-7.6365132331848145,-2.538630723953247,-4.0876688957214355,-1.6714245080947876,-0.5137396454811096,-0.22751829028129578,-6.285348892211914,1.0551644563674927,3.710299253463745,-13.109651565551758,-1.1272950172424316,-1.342060923576355,-7.76733922958374,-3.0278427600860596,5.2156548500061035,-2.9227192401885986,-7.336704730987549,-7.196025848388672,-1.681473970413208,-4.298457622528076,-6.961170673370361,-0.373368501663208,3.118140935897827,-7.587332248687744,-6.1929497718811035,1.8936395645141602,-9.461932182312012,-3.4348955154418945,-5.050510883331299,-0.6486369371414185,-0.01210366003215313,0.9763660430908203,-0.20289888978004456,-2.2347731590270996,-3.9109904766082764,-6.45688009262085,1.0369809865951538,-7.945915222167969,-2.0275185108184814,0.35822027921676636,5.364563941955566,-7.200321197509766,-4.016526222229004,-4.264945030212402,-8.234502792358398,-0.9872980117797852,-4.98200798034668,-0.9254946112632751,-4.130032062530518,-4.09965181350708,-6.9076313972473145,-1.670092225074768,-4.698272705078125,8.011744499206543,-5.970942974090576,0.3630628287792206,2.3274786472320557,3.9960317611694336,-5.0663533210754395,0.5464945435523987,3.3135979175567627,-7.762921333312988,-6.376988410949707,-1.4721522331237793,-8.101387023925781,21.94000244140625,-1.4492112398147583,2.6008858680725098,-7.408199310302734,9.394124031066895,2.7545058727264404,-3.3199307918548584,-1.960975170135498,-1.369097352027893,-7.898217678070068,-6.029395580291748,-7.143913269042969,2.1012485027313232,-2.5881779193878174,5.043267726898193,-0.2774733006954193],\"y\":[4.241275310516357,-6.4791998863220215,-2.4178686141967773,-0.520358681678772,3.873356342315674,3.3056528568267822,3.0730254650115967,-3.0050148963928223,1.347589373588562,4.043189525604248,-0.7843165993690491,-3.9052414894104004,-0.9318462610244751,-2.3195908069610596,-4.667749881744385,1.7957731485366821,1.3317511081695557,2.9710853099823,0.28018394112586975,-0.21452520787715912,1.1047568321228027,6.25054931640625,1.3853346109390259,3.350360631942749,2.1692967414855957,2.2967753410339355,2.969189167022705,0.4072231948375702,-0.36206746101379395,-2.026139259338379,2.9081015586853027,11.932870864868164,2.635000228881836,-0.8052237033843994,-0.3214537799358368,1.4047554731369019,-0.8532528877258301,0.07262984663248062,-0.7198522686958313,1.2669047117233276,3.245802164077759,-1.052882194519043,-0.32153621315956116,-0.5293679237365723,10.739977836608887,2.120285987854004,1.0879966020584106,0.8920220136642456,-2.40969181060791,-3.090266704559326,-2.5400688648223877,1.710273265838623,1.3033145666122437,3.5641324520111084,2.3580732345581055,2.7752742767333984,1.722640037536621,1.765371322631836,4.932469367980957,1.5189162492752075,0.49110478162765503,1.9086400270462036,3.44037127494812,-0.4833226501941681,1.9366832971572876,0.6439566016197205,-1.1522513628005981,2.540710687637329,-0.33423367142677307,3.55450177192688,4.079376220703125,0.7182453870773315,-0.8870573043823242,-0.09643611311912537,-0.7716542482376099,1.0996125936508179,-2.1800284385681152,2.2962887287139893,2.9738504886627197,2.4550206661224365,1.7615212202072144,0.7239574790000916,-0.8223751783370972,-2.591557025909424,0.7923298478126526,1.4423178434371948,1.2439162731170654,1.1671857833862305,-1.1831762790679932,3.4075515270233154,-2.116112232208252,-0.5652284026145935,3.7599449157714844,2.320085287094116,-0.9925952553749084,2.7082438468933105,1.172257900238037,5.115876197814941,-0.25759729743003845,0.4871048331260681,-1.147080898284912,1.036515474319458,2.2072291374206543,1.0721242427825928,2.2446963787078857,-1.333542823791504,0.5077610015869141,-2.5537772178649902,-3.1149861812591553,-3.0742781162261963,2.9645273685455322,0.5260750651359558,3.178273916244507,1.173448085784912,-2.0439462661743164,2.1922597885131836,1.1573715209960938,0.007193352095782757,-0.6910797953605652,-1.5580109357833862,-1.129557490348816,-0.17881566286087036,0.07747562974691391,0.6190196871757507,8.649669647216797,-1.4293732643127441,-0.5065128207206726,-0.42003655433654785,-0.218951016664505,-3.2469847202301025,1.7066171169281006,2.755178689956665,2.0985798835754395,2.010249614715576,18.184757232666016,1.1440465450286865,-0.4458378255367279,3.1817049980163574,-3.47509765625,1.7255561351776123,0.971498429775238,2.481043815612793,3.989464044570923,3.5472161769866943,0.6634467244148254,2.361989974975586,-1.582230567932129,-1.186413049697876,-2.751586437225342,0.3901008367538452],\"type\":\"scatter\"},{\"hoverinfo\":\"text\",\"marker\":{\"line\":{\"color\":\"white\",\"width\":0.5},\"size\":15},\"mode\":\"markers\",\"name\":\"Class sci.electronics\",\"opacity\":0.7,\"text\":[\"ity of Minnesota, Duluth Lines: 28 NNTP-Posting-Host: ua.d.umn.edu  In article \\u003c\\u003e  (Bijan Mobasseri)...\",\"tern Reserve University, Cleveland, Ohio (USA) Lines: 45 NNTP-Posting-Host: slc10.ins.cwru.edu     A...\",\"8-241-9760 login: guest) Lines: 25   (Neal Patrick Howland) writes: \\u003e \\u003eFrom what I understand about ...\",\" of Illinois at Urbana Lines: 14  As the subject says - Can I use a 4052 for digital signals?  I don...\",\"17    I would like to be able to amplify a voltage signal which is output from a thermocouple, prefe...\",\"rt Collins Site X-Newsreader: TIN [version 1.1 PL8.5] Lines: 5  Has anyone ever heard of FET-TRONS (...\",\"mulation Organization: Harris Controls Lines: 18   I recently ftp'd Al's Circuit Simulator (ACS) and...\",\"zation: Medical Informatics, Pittsburgh, PA USA Lines: 33   \\tGreetings. I've been seeing the word \\\"s...\",\"ceiver system Organization: National Hospitals, Iceland Lines: 19   Dear Netters I want to send EMG-...\",\"ology Hatley & Pirbhai ? I am a British final year real-time degree student, and as a project I am c...\",\"t Imag, Grenoble, France Lines: 38  In article \\u003c\\u003e,  (Ketil Albertsen,TIH) writes: |\\u003e In article \\u003c\\u003e, ...\",\" 8 News-Software: VAX\\u002fVMS VNEWS 1.41 Nntp-Posting-Host: ubvmsb.cc.buffalo.edu   \\tHow does the radio ...\",\"echnological University X-Newsreader: TIN [version 1.1 PL8] Lines: 21  Charlie Brett () wrote: : You...\",\"ersity, St. Louis MO Lines: 88  In article \\u003c\\u003e  (Stan Burton) writes: \\u003e \\u003e-- \\u003e \\u003eI would like to be abl...\",\". Keywords: pattern Summary: MDA\\u002fEGA\\u002fVGA pat. gen. Lines: 15  I repair a lot of monitors here, and I...\",\"tion, Huntsville AL Lines: 25  In article \\u003c\\u003e,  (Michael DeAddio) writes:  |\\u003e |\\u003e The 'beam' is split ...\",\" We have a setup with with 13 polaroid transducers and rangefinders. We would like to fire these thr...\",\" 12   (Ronald W. Butts, Jr.) writes:  \\u003eI am looking for suppliers of 900MHz spread spectrum radio mo...\",\"Hz, problems (FPU exception) Nntp-Posting-Host: prawn.sp.ph Organization: Imperial College of Scienc...\",\" In article \\u003c\\u003e  writes: \\u003eIn article \\u003c\\u003e,  (Russ Crisp) writes: \\u003e\\u003e I'm considering modernizing some ol...\",\"s: 10   In article \\u003c\\u003e, Joseph Chiu writes:  \\u003e The Ohmite company was the first to characterize resis...\",\"es (408-241-9760 login: guest) Lines: 32  Sci.E(E) netters:  I am setting out to build and market a ...\",\"edu Organization: Michigan Technological University Lines: 32  In article \\u003c\\u003e,  (Russ Crisp) wrote: \\u003e...\",\": TIN [version 1.1 PL8] Lines: 15   Hi there  Does anyone know how to get hold of data as well as st...\",\"4  Can anybody recommend a good, application-oriented beginner's reference to RF circuits?    I am p...\",\"0  Does any one know if the 6551 is timing\\u002fpin compatible with the 6551..  It seems the 6551 has in ...\",\"MM\\u003e (Martin McCormick) MM\\u003eOrganization: Oklahoma State University, Stillwater, OK MM\\u003e\\tWhat sort of l...\",\"rganization: Chalmers University of Technology, Gothenburg Sweden Lines: 10  Does anybody know anyth...\",\" Hewlett-Packard X-Newsreader: TIN [version 1.1 PL8.9] Lines: 8  While driving through the middle of...\",\"ple that are interested in every aspect of the 2600 try the zine:  2600 connection $1 cash to : Timo...\",\"niversity  Lines: 12  Since I have seen various different numbers to dial to get your number read ba...\",\"rticle \\u003c\\u003e  (Billy Quinn) writes: \\u003eI built a little project using the radio shack 5vdc relays to swit...\",\"anization: SDSU - LARC Lines: 16 NNTP-Posting-Host: larc.sdsu.edu  In article \\u003c\\u003e,  (Scott Townsend) ...\",\"nto Zoology Lines: 13  In article \\u003c\\u003e  (Michael Golan) writes: \\u003eThe board itself is also identical, w...\",\": na Organization: APG-Edgewood, MD, USA Lines: 26   PLease take these and use them.  Take advantage...\",\"atik Nntp-Posting-Host: schroeder.ifi.unibas.ch Lines: 11  Great, the first advantage of cheap coax,...\",\"y-To:  Organization: New York University Lines: 13  I'm looking to build a microphone preamp that ha...\",\"Lines: 12  Any info on modern 20MHZ or better dual trace scopes would be appreciated. Should I buy a...\",\"cation Services (408 241-9760 guest) Lines: 25   I had a similar idea, for a fax\\u002fanswering machine s...\",\"derbyl) Organization: MPR Teltech Ltd. Lines: 30   writes: \\u003eInitial symptoms: \\u003e-no picture or sound ...\",\"In article \\u003c\\u003e  (Stephe Lewis Foskett) writes: \\u003e \\u003eI'm doing sound for a couple of bands around here a...\",\"Organization: Utah State Univ. EE Nntp-Posting-Host: sol.ee.usu.edu Lines: 32  In article \\u003c\\u003e,  (Robe...\",\"Services (408 241-9760 guest) Distribution: usa Lines: 19   I bought this chip from Suncoast Technol...\",\"ton University, St. Louis MO Lines: 32  In article \\u003c\\u003e  (J. Babb) writes: \\u003eFellow Info-junkies, \\u003e  I ...\",\"AI Programs, University of Georgia, Athens Lines: 13  You can get a *little* UV by putting a heavy U...\",\" University In-Reply-To: 's message of Mon, 19 Apr 93 00:38:00 GMT X-News-Reader: VMS NEWS 1.24 Line...\",\"g-Host: hpctdkz.col.hp.com  \\u003e   Does anybody out there have one of those food dehydrators I've been ...\",\"is  In \\u003c\\u003e  (Ketil Albertsen,TIH) writes:  \\u003eMay we interpret this as an offer to volunteer as editor ...\",\"e-Hulman Lines: 14 NNTP-Posting-Host: g222-26.nextwork.rose-hulman.edu Keywords: 68hc16  In article ...\",\"truments Inc. Nntp-Posting-Host: 134.217.245.87 Lines: 11  Does anyone know of an FTP site where I m...\",\"ut how to build a cheap, low resolution (or high :-) video projector...   (example: a LCD and an sli...\",\"on: University of Wales, Aberystwyth Lines: 23  I have a Fujitsu M2322K which has been removed (I be...\",\"tion: Reed College, Portland, Oregon Lines: 36  In article \\u003c\\u003e  (Babak Sehari) writes: \\u003e--- \\u003e \\u003eI was ...\",\"nter, Chandler Arizona Lines: 17  In article \\u003c\\u003e,  (Brad Kepley) writes: |\\u003e I just heard an unbelieva...\",\"zation: Geophysical Institute, Fairbanks, AK Lines: 21   I would be interested in hearing from anyon...\",\" Technology, Pasadena Lines: 8 NNTP-Posting-Host: fleming.caltech.edu  I was wondering if anyone kno...\",\"untsville AL Lines: 41  In article \\u003c\\u003e,  (Mark Zenier) writes: |\\u003e Zack Lau () wrote: |\\u003e : In sci.elec...\",\"rds: JUMPER SETTINGS DIP-SWITCH SETTINGS, HELP, COMPUTER 386SX Organization: National Federation of ...\",\"-Host: grv.grace.cri.nz Lines: 37  From:\\tMX%\\\"\\\"  6-APR-1993 06:48:34.96 To:\\tSRGXNBS CC:\\t Subj:\\tRe: I^...\",\"tion: Rhodes University, Grahamstown, South Africa Lines: 44 X-Newsreader: TIN [version 1.1 PL8]  : ...\",\"sche Nachrichtentechnik Lines: 41  This is for a friend of mine. Please send answers directly to him...\",\"nes: 54   Yes, I know it's nowhere near Christmas time, but I'm gonna loose Net access in a few days...\",\"ganization: University of Washington, Seattle Lines: 18 NNTP-Posting-Host: carson.u.washington.edu  ...\",\"o:  Organization: Univ. of Lowell CS Dept. Lines: 6  I suggest that misc.consumer.house is a better ...\",\"le \\u003c\\u003e  (Wayne Smith) writes: \\u003e\\u003eNo restriction was placed \\u003e\\u003eon receiving RADAR (or, curiously, cordle...\",\"d Reptile Farm Lines: 20 NNTP-Posting-Host: grissom.larc.nasa.gov  In article \\u003c\\u003e  (C.M. Hicks) write...\",\"a Organization: University of Calgary Lines: 13  Last week I asked for help in getting an old homema...\",\"erve University, Cleveland, Ohio (USA) Lines: 25 NNTP-Posting-Host: slc10.ins.cwru.edu   I recently ...\",\"f Technology Lines: 11  In article \\u003c\\u003e  (Sean Oliver) writes: \\u003e\\u003e Joseph Mich Krzeszewsk writes: \\u003e\\u003e   ...\",\"ld Organization: University of Washington, Seattle Lines: 25 NNTP-Posting-Host: carson.u.washington....\",\"opy of \\\"8088 Assembler Language Programming: The IBM PC\\\" by Willen and Krantz, 2nd ed. pub. by Sams,...\",\"stralia Lines: 14 NNTP-Posting-Host: mackerel.gu.uwa.edu.au  Well here in Australia you dial  11544 ...\",\"Thomson) writes: \\u003e Joseph Chiu () wrote: \\u003e  \\u003e : And the measure of current, Amp, is actually named a...\",\"Laboratory Lines: 15 NNTP-Posting-Host: travis.llnl.gov  In article \\u003c\\u003e,  (David Glen Jacobowitz) wri...\",\"ation: Hewlett-Packard Lines: 31 X-Newsreader: TIN [version 1.1.4 PL6]  william burchill () wrote: :...\",\"A Lines: 8  In article \\u003c\\u003e  (David F. Newman) writes: \\u003eSubject: arcade style buttons and joysticks \\u003eC...\",\"chnology, Finland Lines: 17 \\t\\u003c\\u003e \\t\\u003c1ptolq$\\u003e NNTP-Posting-Host: lk-hp-11.hut.fi In-reply-to: 's messag...\",\"ogical University - Singapore   currently I am using the 8051 microcontroller with external eprom.. ...\",\"leans, France. Lines: 9      Hi All!     I would like to know what are the popular ICs of the type, ...\",\"-1607 Lines: 43   (Bob Myers) writes:  \\u003e \\u003e I am looking for any info I can get on the NEC 3D monitor...\",\"etNews abusers - Beltway Annex Lines: 19 Reply-To:  (David Lesher) NNTP-Posting-Host: skybridge.scl....\",\"ion: SLAMDANZ CYBRNETX Lines: 13  Anyone know a reasonable circuit for programming PALs?  I am inter...\",\"US), U of Stuttgart, FRG Lines: 38 NNTP-Posting-Host: pc8.izfm.uni-stuttgart.de  Hi! In article \\u003c\\u003e  ...\",\"puter Group, Tempe, Az. Distribution: usa Lines: 9    Does anybody out there have one of those food ...\",\"on: usa Organization: Triacus Inc. Lines: 26 Nntp-Posting-Host: mars.calstatela.edu  Recently, my vi...\",\" grade science report Distribution: usa Organization: Boeing Computer Services (ESP), Seattle, WA Li...\",\"Host: wu2.wl.aecl.ca Organization: AECL Research, Whiteshell Laboratories Distribution: na Lines: 25...\",\"anization: CSIR Lines: 15 NNTP-Posting-Host: 146.64.23.16 X-Disclaimer: None of the opions expressed...\",\"Annex Lines: 24 Reply-To:  (David Lesher) NNTP-Posting-Host: skybridge.scl.cwru.edu  Others said: {e...\",\"According to my TI databook, the pinouts for the TIL311 display are as follows:    Pin 1 - LED suppl...\",\"andy.com!pauls    Apr 21 09:31:00 1993 Lines: 6   Motorola has a good app note on a 10 band equalize...\",\"onto Distribution: na Lines: 11  The subject line says it all. I'm working on a project that will us...\",\"&ROMs with ALE latches (for 8051's) Lines: 28   (Steve Pope) writes:  \\u003eIn article \\u003c\\u003e  (j. pethybridg...\",\"p-Posting-Host: cimill  In article \\u003c\\u003e,  (Peter Tryndoch) writes... \\u003eAllThe Devil ReincarnateSWR mete...\",\"ege of Medicine Lines: 19  If the set is direct line powered, try checking the [likely to be there] ...\",\"ticle \\u003c\\u003e  (G. Stewart Beal) writes: \\u003eIn article \\u003c\\u003e  (Jason Haines) writes: \\u003e\\u003e \\u003e\\u003e\\tI was wondering if ...\",\": 19  Hi, I've got a PACE MODEM , Series Four 2400s ( made in England by PACE Micro Technology ) wit...\",\" S. Williamson) Organization: NCR E&M Columbia, SC Lines: 17  In article \\u003c\\u003e  (Robert Canright) write...\",\"ization:  Colorado Concert Sound Lines: 25  In article \\u003c\\u003e  (TOM WAGNER, Wizzard of old Audio\\u002fVisual ...\",\"ch Lines: 15  Hi !!!  Is there somebody using a 56001 DSP from Motorola ??? I am searching for progr...\",\"se-Hulman Lines: 11 NNTP-Posting-Host: g222-26.nextwork.rose-hulman.edu  In article \\u003c\\u003e  (Jason   Hai...\",\"Australia. Lines: 19 Distribution: world NNTP-Posting-Host: macadam.mpce.mq.edu.au Originator:    We...\",\"stribution: na NNTP-Posting-Host: hardy.u.washington.edu Summary: Address or phone number for subscr...\",\"ion: The Northern Lights BBS, Portland, ME  * 207-761-4782 * Lines: 7 X-Newsreader: ZipNews Reader\\u002fM...\",\"r and Reptile Farm Lines: 16 NNTP-Posting-Host: grissom.larc.nasa.gov  In article \\u003c\\u003e  writes: \\u003e \\u003eGre...\",\"oration Wichita, KS Lines: 14   (Victor Laking) writes:  )Do you know what frequencies chanels 17 to...\",\"21            On an A\\u002fD board I've got, I'm using the A\\u002fD lines.  It measures  the voltages properly...\",\": University Of Alberta, Edmonton Canada Lines: 28   (Daniel J Rubin) writes:  \\u003eHow hard would it be...\",\"1   (Joel Kolstad) writes:  \\u003e In article \\u003c\\u003e  \\u003e \\u003e \\u003e \\u003eIf you are going to use one where it counts (eg:...\",\"26 X-Newsreader: TIN [version 1.1 PL8]  Frank Hielscher () wrote: : The PADS*.ZIP files contain subd...\",\"y of Minnesota Lines: 18  I have a stereo compressor-limiter by  Audio Logic (Model MT-66).  The gat...\",\"-9760 guest) Lines: 20  In article \\u003c\\u003e  (Brian Day) writes: \\u003e (COLE) writes: \\u003e \\u003e\\u003eI would like to expe...\",\"ege, Hanover, NH Lines: 12  We are Dartmouth engineering students.We are looking for documented data...\",\"9 Distribution: world NNTP-Posting-Host: grissom.larc.nasa.gov  I have a MOSFET pulled out of a Tryg...\",\"stribution: world NNTP-Posting-Host: rosie.uh.edu Keywords: Motorola, FPU, 68882, 68030, 33\\u002f50 MHz, ...\",\"es: 9  Could someone please tell me if a 1\\u002f4 decoder is the same as a 1 to 4 demultiplexer. I know h...\",\" UNIX Society, Austin, Tx Lines: 15    I understand that the new GPS boxes now have an option known ...\",\"ix system run by the University \\tof Denver for the Denver community.  The University has neither \\tco...\",\"om Organization: Mentor Graphics Keywords:  Lines: 33  In article \\u003c\\u003e,  (Wayne Smith) writes: |\\u003e In a...\",\".gov Organization: Fermilab Computing Division Lines: 22  In article \\u003c\\u003e,  (John Whitmore) writes: \\u003e ...\",\"anybody know if there is a mailing list or newsgroup for Power Systems and related areas?  Thanks,  ...\",\"exaco Lines: 16  I had a catalog with membrane keypads, but I dunno what happened to it, and it was ...\",\"e if this would be the right place to post this, but anyway, here goes:  I was just noticing that so...\",\"t: turbo_f.seas.smu.edu Organization: SMU - School of Engineering & Applied Science - Dallas Lines: ...\",\"-Posting-Host: dialup-slip-1-88.gw.umn.edu Organization: persian cat & carpet co. X-Useragent: Nunti...\",\"24 Distribution: world NNTP-Posting-Host: reg.triumf.ca News-Software: VAX\\u002fVMS VNEWS 1.41      In ar...\",\"ile Farm Lines: 9 NNTP-Posting-Host: grissom.larc.nasa.gov  In article \\u003c\\u003e  (Jason Waterman) writes: ...\",\"om Online Communications Services (408-241-9760 login: guest) Lines: 1  The Bmw speedo is triggered ...\",\" AI Programs, University of Georgia, Athens Lines: 9  There is or was a microwave tower next to Flor...\",\"MA Lines: 27   (Mike Donahue) writes:   \\u003eI do NOT know much about Adcom Mobil Audio products, but I ...\",\" Technological University X-Newsreader: TIN [version 1.1 PL8] Lines: 19  Bill Willis () wrote: : I h...\",\"osting-Host: macadam.mpce.mq.edu.au  In article \\u003c\\u003e,  (Ogawa \\u002f Taro Stephen (ISE)) writes: |\\u003e Could s...\",\"ost: elan.princeton.edu Organization: Princeton University Lines: 29  I was looking at the amps diag...\",\": 6  Sounds like the picture tube lost vacuum.  This would cause the filament to ignite and could ac...\",\"orld Reply-To:  NNTP-Posting-Host: sparc28.hri.com  I just got an IBM-PC XT with no documents. Its a...\",\"nization: JPL Pasadena CA Lines: 25 Nntp-Posting-Host: neuron6.jpl.nasa.gov  In article \\u003c\\u003e  (Dale Nu...\",\"Host: wpi.wpi.edu  Hey everyone, I'm new to this  newsgroup so please excuse me if this is a  dumb q...\",\"ost: aisun3.ai.uga.edu Organization: AI Programs, University of Georgia, Athens Lines: 22  In articl...\",\" There are also a couple or three places on West 45th between Fifth and Sixth.    Harvey   --  -----...\",\".com Organization: NCR Corp., Columbia SC Lines: 30  In article \\u003c\\u003e  writes: \\u003e \\u003eGreetings! \\u003e       \\u003e ...\",\"ing1.cc.utexas.edu  It is illegal to use anything you eavedropped on for a business  or for an illeg...\",\"Organization: University of Oulu, Dept. of EE, Finland  In article \\u003c\\u003e  (Stephe Lewis Foskett) writes...\",\"ntially amplify holes instead of electrons? Keywords: holes electrons semi-conductors mobility Nntp-...\",\"relays ??? Organization: Malaspina College Lines: 63  In article \\u003c\\u003e,  (Aaron Lung) writes: \\u003e In arti...\",\"lator operating in the detector. Saw a story about their use in Canada. Now don't go putting oscilla...\",\": 33  Thanks for the resposes as they were all good ideas and I am looking at using a couple of the ...\",\"ation: Monash University, Melb., Australia. Lines: 23  Hi people..  OK heres my problem....  I keep ...\",\"m21.eng.stratus.com  In article \\u003c\\u003e  (Roger A Williams) wrote:   \\u003e (Mike Donahue) writes:  \\u003e  \\u003e  \\u003e\\u003eI ...\",\", Quincy, IL Lines: 22   Intel also makes some neat memory and peripheral chips:  Old technology (ea...\",\"c. - New Orleans, LA Reply-To:  (Gerald Belton)  Lines: 24  AL\\u003e\\u003e        Question:   Is there a certa...\"],\"x\":[14.756916999816895,11.091837882995605,17.508663177490234,16.757551193237305,-6.843396186828613,8.256104469299316,-0.3428201973438263,-2.8145363330841064,-7.056636333465576,-6.6088128089904785,2.6996138095855713,2.7056820392608643,-3.508711576461792,7.5066447257995605,-1.7690194845199585,11.803327560424805,-2.71724009513855,2.909280300140381,-1.2785533666610718,2.357208251953125,5.052272796630859,-4.999518394470215,-2.7722439765930176,3.649395227432251,-1.7825978994369507,5.604950904846191,-3.7792201042175293,7.589865684509277,1.7824369668960571,4.701849937438965,-10.790972709655762,-2.520402431488037,0.5046488046646118,3.3429062366485596,-0.413796991109848,13.113774299621582,3.8572325706481934,1.3702762126922607,-5.447854995727539,1.1161912679672241,-4.431582450866699,4.384445667266846,4.055732250213623,13.6383056640625,10.632453918457031,3.2856361865997314,-6.02592658996582,-8.087346076965332,6.650808811187744,11.188577651977539,4.57466983795166,6.87481689453125,-8.145564079284668,0.8119471073150635,-1.6516488790512085,-1.9176470041275024,12.958560943603516,-9.123434066772461,10.387786865234375,5.709959030151367,4.9029083251953125,-3.5585250854492188,3.680161952972412,5.634294033050537,4.363584995269775,6.817723274230957,3.3578336238861084,-3.7076330184936523,2.767270088195801,6.629439830780029,-4.04897928237915,21.9386043548584,3.7273216247558594,4.773253917694092,9.010172843933105,5.979356288909912,4.9945878982543945,-3.1271636486053467,1.794248342514038,-2.9982705116271973,-0.972125768661499,10.257308959960938,5.377966403961182,-7.696625232696533,-4.759378910064697,3.933913469314575,-0.4776609539985657,3.600867986679077,-1.2183369398117065,8.30757999420166,6.027102470397949,9.391955375671387,3.737297296524048,3.5863451957702637,-4.181234359741211,1.4152336120605469,7.001298427581787,3.475914478302002,2.8106751441955566,-1.119242787361145,1.1270617246627808,-0.033312901854515076,6.6113457679748535,24.41719627380371,-4.5192108154296875,8.623481750488281,6.306774616241455,-6.401727199554443,-3.29879093170166,-0.6260179877281189,-4.0162434577941895,16.188825607299805,-3.2963802814483643,-5.978865623474121,-1.0437895059585571,-5.398055553436279,0.4684927463531494,-1.6093310117721558,3.064042806625366,40.806156158447266,6.712312698364258,-7.15093469619751,-8.935892105102539,-0.0514502115547657,0.31786659359931946,-2.634788751602173,1.662348747253418,7.573194980621338,13.755778312683105,0.11102555692195892,0.9598293304443359,1.73916494846344,7.085093021392822,-0.5231472253799438,6.010869026184082,-3.787691593170166,-8.127138137817383,7.8287858963012695,7.905917167663574,1.8091342449188232,-9.2746000289917,1.2268785238265991,-2.154090166091919,15.261016845703125,-2.0073952674865723,-7.409580230712891,-8.861465454101562,3.457885265350342,0.8492631912231445,1.2325011491775513],\"y\":[7.707218170166016,-4.280704021453857,-6.985254764556885,-5.684021472930908,2.804164171218872,-5.781023979187012,-3.237718343734741,-0.25950726866722107,1.3902021646499634,0.9368478059768677,4.5285186767578125,-2.978986978530884,-1.4062048196792603,-1.4631950855255127,1.158370018005371,-0.9718355536460876,-0.4289608299732208,-3.7633090019226074,-2.036630153656006,1.838436245918274,-3.845615863800049,0.28882405161857605,0.4309506118297577,-3.5713582038879395,-2.4838693141937256,-1.9115828275680542,0.7891166806221008,-5.5536041259765625,-3.642838954925537,-4.9735798835754395,1.1923657655715942,5.629343032836914,0.746326208114624,-0.3269563615322113,-1.125238060951233,-7.940403461456299,-1.9986159801483154,-4.0201897621154785,-0.6277793645858765,0.2720319926738739,2.8930845260620117,0.91939377784729,-2.062026023864746,-2.687459707260132,-0.24544134736061096,-0.02018829993903637,3.058492660522461,3.878912925720215,-0.09619288146495819,-6.936338901519775,-3.4439425468444824,-3.2860374450683594,2.493502140045166,1.2432564496994019,-2.115471839904785,-1.8350194692611694,1.526492953300476,2.541649341583252,-4.541284084320068,8.538626670837402,-0.9951967597007751,0.967486560344696,-3.5518910884857178,-4.90080451965332,-0.08507630228996277,1.1206943988800049,-5.752461910247803,-0.2162071019411087,1.0396456718444824,0.050687648355960846,-0.9633796215057373,10.058320999145508,-1.1213761568069458,-0.5903418064117432,6.404723167419434,-1.7644580602645874,0.9165797233581543,0.04253850132226944,-4.311107158660889,5.737146377563477,-1.6888132095336914,7.195497512817383,-1.0892999172210693,0.45067062973976135,-1.9825295209884644,-3.5281639099121094,-1.1510862112045288,-1.7842626571655273,-3.046745538711548,-4.34760046005249,-4.261486530303955,7.332910060882568,0.8826895356178284,0.3181743323802948,-1.3080213069915771,6.058257102966309,-3.825554847717285,-5.044734954833984,2.996328830718994,0.6038845777511597,3.336534261703491,-3.34358286857605,-4.953271389007568,7.998190879821777,4.1302266120910645,-7.682312965393066,0.3544912338256836,3.0408291816711426,2.2525863647460938,-0.564864993095398,-1.4394601583480835,-2.5617549419403076,-3.023228406906128,-1.0462114810943604,-2.1488993167877197,1.9712401628494263,-4.09613037109375,-1.4034901857376099,0.22733177244663239,26.51297378540039,-5.93992280960083,0.5012449026107788,1.8905950784683228,-2.382988452911377,0.6016831398010254,0.008235658518970013,-1.9291043281555176,-5.685985088348389,-0.9021226167678833,-2.948493480682373,-3.5489437580108643,0.2047949582338333,-3.3144075870513916,-3.75411057472229,-5.430955410003662,1.332199215888977,2.884817361831665,2.5997397899627686,-6.467528343200684,2.1333467960357666,1.3412500619888306,-0.1248173639178276,0.09308626502752304,15.369012832641602,-2.5406785011291504,0.9363618493080139,3.3052587509155273,-0.2598663866519928,-3.2477290630340576,2.314218521118164],\"type\":\"scatter\"},{\"hoverinfo\":\"text\",\"marker\":{\"line\":{\"color\":\"white\",\"width\":0.5},\"size\":15},\"mode\":\"markers\",\"name\":\"Class sci.med\",\"opacity\":0.7,\"text\":[\"ganization: Colonial Mutual Life Australia X-Newsreader: FTPNuz (DOS) v1.0 Lines: 24  Hi, I am not s...\",\"y, NY - 212-274-8298v.32bis Reply-To:  (Jim Zisfein)  Lines: 19  \\u003e (Anthony Anello) \\u003eCan anyone tell...\",\"bution: usa Lines: 18   In article \\u003c\\u003e  (Evan Hunt) writes:   \\u003eIn article \\u003c\\u003e  (Sharen A. Rund) writes...\",\"ortland Rain Forest Lines: 34  In article \\u003c\\u003e  (Beth Mazur) writes: \\u003eIn \\u003c\\u003e  (Chuck Forsberg WA7KGX) w...\",\" Ca. Lines: 18 Distribution: world Reply-To:  (Jim Jones) NNTP-Posting-Host: contractor.ebay.sun.com...\",\"ines: 17 NNTP-Posting-Host: saltillo.cs.utexas.edu Summary: Lousy idea.  -*---- Cross-posted and wit...\",\"Consulting, Cambridge MA Lines: 30  In article \\u003c\\u003e  (*Heather*) writes: \\u003eNutrasweet is a synthetic sw...\",\"s: 41  A person posted certain stuff to this newsgroup, which were highly selected quotes stripped o...\",\" Systems, Inc., Palo Alto, CA Lines: 11   My insurance company encourages annual physicals, and at m...\",\"rsity of Wisconsin - Milwaukee Lines: 19 NNTP-Posting-Host: 129.89.7.4  In article \\u003c\\u003e  (Sheryl Coppe...\",\"s., USA Lines: 11 NNTP-Posting-Host: enterprise.bih.harvard.edu  In article \\u003c\\u003e  (Fiberman) writes: \\u003e...\",\"In article \\u003c\\u003e  (Steve Heffner) writes: \\u003eA bit more than a year ago, a hernia in my right groin was \\u003e...\",\"c3t Distribution: na Organization: Oakland University, Rochester MI. Lines: 9 NNTP-Posting-Host: ouc...\",\":57 GMT Nntp-Posting-Host: crux3.cit.cornell.edu Organization: Department of Chemistry, Cornell Univ...\",\"y - Univ. of Alabama Distribution: usa Lines: 36  In article \\u003c\\u003e,  (John Eyles) wrote: \\u003e  \\u003e  \\u003e A frie...\",\"Earth Observatory Lines: 50  In article \\u003c\\u003e,  (Gordon Banks) writes: \\u003e In article \\u003c\\u003e  (carl brenner) ...\",\"d Silver) writes: \\u003e \\u003e \\u003e \\u003eIs there a right-eye dominance (eyedness?) as there is an \\u003e \\u003eoverall right-...\",\"7G Organization: Prentice Centre, University of Queensland Lines: 45   (Steve Dyer) writes: \\u003eSnort. ...\",\"nes: 28  In article \\u003c\\u003e  (Steve Dyer) writes: \\u003eIn article \\u003c\\u003e  writes: \\u003e\\u003eCan someone tell me whether o...\",\"ing Lines: 11  My girlfriend is in pain from kidney stones. She says that because she has no medical...\",\"who has just been diagnosed with Lupus, and I know nothing about this disease. The only thing I do k...\",\" methodology.   Organization: University of Hawaii (Mathematics Dept) Expires: Sat, 1 May 1993 10:00...\",\"-line Communication Services (408 241-9760 guest) Lines: 15 X-Newsreader: TIN [version 1.1 PL8]  I'd...\",\"ons Public Access.  The Mouth of the South. Lines: 28  E.J. Draper \\u003c\\u003e writes:  \\u003eIf it were my wife, ...\",\": 27 NNTP-Posting-Host: carina.unm.edu   Gordon Banks:  \\u003ea lot to keep from going back to morbid obe...\",\"rsion 1.1 PL9] Lines: 45  kathleen richards () wrote: \\u003e My nearly-13 year old Pomeranian had a nasty...\",\", USA Lines: 26 NNTP-Posting-Host: enterprise.bih.harvard.edu  In article \\u003c\\u003e   (Alexis Perry) writes...\",\"ibution: world NNTP-Posting-Host: zion.berkeley.edu  | article \\u003c\\u003e  writes: || Now, if instead of usi...\",\"rganization: NASA Dryden, Edwards, Cal. Lines: 33 In-Reply-To: 's message of 5 Apr 93 23:27:26 GMT  ...\",\"uter Science Lines: 28  In article \\u003c\\u003e  (David Nye) writes:  \\u003e  \\u003eI believe it is illegal for a reside...\",\"e Federale de Lausanne Lines: 41 NNTP-Posting-Host: liasun1.epfl.ch  Dear Netters,  I am not sure wh...\",\".ohio-state.edu Organization: The Ohio State University Lines: 50  In article \\u003c\\u003e  (Jim Fare) writes:...\",\"Freenet Lines: 18   I have between 15 and 25 nosebleeds each week, as a result of a genetic predispo...\",\" at Urbana Lines: 6  Also remember that most people map the sanguine\\u002fcholeric\\u002fmelencholic\\u002fphlegmatic...\",\" Science Lines: 17  In article \\u003c\\u003e  (Ken Mitchum) writes: \\u003e \\u003eI found out that tuberculosis appears to...\",\"ganization: Bell Communications Research Lines: 31  In article \\u003c\\u003e,  (Mary E. Allison) writes: |\\u003e  |\\u003e...\",\" Programs, University of Georgia, Athens Lines: 12  I'm told that corn allergy is fairly common.  My...\",\"tchum) Organization: Univ. of Pittsburgh Computer Science Lines: 36  In article \\u003c\\u003e  writes: \\u003eCan any...\",\"Iowa Lines: 22  In article \\u003c\\u003e,  (Ken Mitchum) writes: \\u003e As a physician, I almost never get sick: usu...\",\": naples.med.unc.edu Organization: UNC-CH School of Medicine Lines: 7  Thanks to Tarl Neustaedter of...\",\"rformance Computing, University of Illinois at Urbana-Champaign Lines: 66 Distribution: world NNTP-P...\",\"ngws5.ic.sunysb.edu Organization: State University of New York at Stony Brook Lines: 54  In article ...\",\"ing X-Newsreader: NNR\\u002fVM S_1.3.2 Lines: 53  In article \\u003c\\u003e  (Brian M. Huey) writes:   \\u003eIn article \\u003c\\u003e,...\",\") writes:  \\u003e\\t \\u003e\\tI have seen a couple of postings refering to an SRI called paxil.  I \\u003ehave been on P...\",\"TX 214\\u002f436-3281 Lines: 27  In article \\u003c\\u003e  (Andrew Rogers) writes: \\u003eIn article \\u003c\\u003e  writes: \\u003e\\u003eChinese,...\",\".14717 Distribution: sci.med Organization: Lockheed Engineering & Sciences Co. Lines: 17  In article...\",\"on: Univ. of Pittsburgh Computer Science Lines: 26  In article \\u003c\\u003e  (Rayaz Jagani) writes:  \\u003e \\u003eFrom M...\",\": 25  In article \\u003c\\u003e  (Robert Allison) writes: \\u003eDoes anyone know of any method to reduce this frequen...\",\"s) Organization: Univ. of Pittsburgh Computer Science Lines: 23  In article \\u003c\\u003e  (MD) writes: \\u003e \\u003eIf a...\",\": 19  [reply to  (MD)]   \\u003eAfter many metabolic tests, body structure tests, and infection\\u002fvirus \\u003etes...\",\"es: 29 NNTP-Posting-Host: venus.iteb.serpukhov.su  I am very interested in investigations of starvat...\",\"   There is this newsgroup sci.med.physics and there has been quite a lot discussion in this group a...\",\"es: 9   \\tI was kind of half watching Street Stories last night \\tand one of the segments was about th...\",\"ia Inc, Toronto, Ontario. Lines: 23  L(\\u003e   (Joel B Levin) writes: L(\\u003e  John Badanes wrote: L(\\u003e  |JB\\u003e...\",\"  Organization: Clinical Diagnostics Division, Eastman Kodak Company Lines: 24  In article \\u003c\\u003e  (Rich...\",\"E, Sandia Park, NM Lines: 31  In article \\u003c\\u003e  (Vida Morkunas) writes: \\u003eI live at sea-level, and am ca...\",\"k Division, NSWC, Bethesda, MD Lines: 30  In rec.food.cooking,  (Charles Packer) writes: \\u003eIs there s...\",\"anization: Univ. of Pittsburgh Computer Science Lines: 21  In article \\u003c\\u003e  (Lindy Foster) writes: \\u003eI'...\",\"he tollfree hotline for the Epilepsy Foundation of America - 1-800-EFA-1000.  They will be able to a...\",\"tion: usa Lines: 13  I am 35 and am recovering from a case of Chicken Pox which I contracted from my...\",\"tion on the effects\\u002forigin of oxaprozin? It's marketed under the name \\\"DAYpro\\\", and appears to be an...\",\"onsin Eau Claire Lines: 29  [reply to  (Jacquelin Aldridge)]   \\u003eMedicine is not a totally scientific...\",\"nes: 41 Nntp-Posting-Host: aquarius   (Richard Ottolini) writes:  : Living things maintain small ele...\",\"nes: 27  One thing that I haven't seen in this thread is a discussion of the relation between IBD in...\",\"nes: 67 Distribution: inet NNTP-Posting-Host: im4u.cs.utexas.edu  -*---- In article \\u003c\\u003e  (Lee Lady) w...\",\"g-Host: theseus.unx.sas.com Organization: SAS Institute Inc. Lines: 15   In article \\u003c\\u003e,  (Tom B. Car...\",\"ment Corporation Lines: 45 NNTP-Posting-Host: DWOVAX   In article \\u003c\\u003e,  () writes... \\u003eI recently hear...\",\"niv. of Pittsburgh Computer Science Lines: 48  In article \\u003c\\u003e  (Ruth Ginzberg) writes:  \\u003eHmmmm... her...\",\"ion: world NNTP-Posting-Host: coyoacan.sw.stratus.com  In article \\u003c\\u003e,  (Brian M. Huey) writes: \\u003e I t...\",\"g-Host: theseus.unx.sas.com Organization: SAS Institute Inc. Lines: 55   In article \\u003c\\u003e,  (Mark Fulk)...\",\" Rochester  In article \\u003c\\u003e  (Gary Merrill) writes: \\u003e \\u003eIn article \\u003c\\u003e,  (Mark Fulk) writes: \\u003e \\u003e|\\u003e I don...\",\"uter Science Lines: 22  In article \\u003c\\u003e  (daniel federman) writes: \\u003e \\u003eA friend of mine took appoximate...\",\"Urbana Lines: 26   (Steve Dyer) writes:  \\u003eIn article \\u003c1qnns0$\\u003e  (Steve Pope) writes: \\u003e\\u003eThe mass of a...\",\"o Lines: 12  There were a few people who responded to my request for info on treatment for astrocyto...\",\"geles, California Distribution: usa Lines: 12   Hi All,  Would anyone out there in 'net-land' happen...\",\" Univ. of Pittsburgh Computer Science Lines: 19  \\u003eIn article  (John Joseph Deltuvia) writes: \\u003e \\u003e\\u003eThe...\",\"le scraps of paper, mostly Lines: 10   I think he means Girlie Photography.  A good place to find it...\",\"nes: 3  Can anyone help me find any information on the drug Prozac?  I am writing a report on the in...\",\"rsion 1.1 PL9] Lines: 13  kathleen richards () wrote:  \\u003e If you have time to type it in I'd love to ...\",\" Lines: 29   \\tA friend has the following symptoms which have occurred periodically every few months ...\",\"on, VA Lines: 28 Reply-To: Jason C. Austin \\u003c\\u003e NNTP-Posting-Host: ab20.larc.nasa.gov In-reply-to: 's ...\",\"tion: na  Am I justified in being pissed off at this doctor?  Last Saturday evening my 6 year old so...\",\" Univ of Alabama Lines: 19  In article \\u003c\\u003e,  (Ho Leung Ng) wrote: \\u003e  \\u003e  \\u003e    When I was a kid in prim...\",\"? Lines: 8  What resources and services are available on Internet\\u002fBITNET which would be of interest ...\",\"he usual teenage spotty chin and greasy nose.  I bought him Clearasil face wash and ointment.  I thi...\",\"e here because I am kind of desperate. For about six weeks, I've been suffering on pains in my left ...\",\"mputer Science Lines: 16  In article \\u003c\\u003e  (Daniel Prince) writes:  \\u003eI only have lunulas on my thumbs....\",\"Univ. of Pittsburgh Computer Science Lines: 23  In article \\u003c\\u003e  (Paul Schmidt) writes: \\u003eI think it is...\",\"to  (Gordon Banks)]   \\u003e\\u003eI believe it is illegal for a residency to discriminate against FMGs.   \\u003eIs ...\",\"idge MA Lines: 14  In article \\u003c1qnns0$\\u003e  (Steve Pope) writes: \\u003eThe mass of anectdotal evidence, comb...\",\"anization: Univ. of Pittsburgh Computer Science Lines: 24  In article \\u003c\\u003e  (John Setel O'Donnell) wri...\",\"es: 5 Distribution: na NNTP-Posting-Host: hpcspe17.col.hp.com   Report them to your local BBB (Bette...\",\"ortland Rain Forest Lines: 33  In article \\u003c\\u003e  (Gordon Banks) writes: \\u003e \\u003eIn article \\u003c\\u003e  (Chuck Forsbe...\",\"ver what? I would be most interested in seeing you \\u003e\\u003eprovide peer-reviewed non-food-industry-funded ...\",\"em (TM) Lines: 36  \\u003e Probably within 50 years, a new type of eugenics will be possible. \\u003e Maybe even...\",\"er Science Lines: 12  In article \\u003c\\u003e  (John E. Rodway) writes: \\u003eAny comments on the use of the drug P...\",\"  Following a series of miscarriages, my wife was given a transfusion of my white cells. (The theory...\",\"nization: Univ. of Pittsburgh Computer Science Lines: 22  In article \\u003c\\u003e  (Herman Rubin) writes: \\u003eIn ...\",\"ping-injury-faq\\u002f\\u003e Organization: University of California, Berkeley Lines: 51 Expires: 22 May 1993 04...\",\"ttsburgh Lines: 21  In article \\u003c1r1t1a$\\u003e  writes: :I recently attended an allery seminar.  Steroid N...\",\"g.magnus.acs.ohio-state.edu Organization: The Ohio State University Lines: 45  In article \\u003c\\u003e  (Jon N...\",\"w York City, NY - 212-274-8298v.32bis Reply-To:  (Jim Zisfein)  Lines: 17  A(\\u003e  () A(\\u003e A woman I kno...\",\"m Lines: 20  A bit more than a year ago, a hernia in my right groin was discovered.  It had produced...\",\"zation: AT&T Lines: 15  In article \\u003c\\u003e,  writes: \\u003e How long does it take a smoker's lungs to clear of...\",\" PL8]  David Nye () wrote: : [reply to  (ron roth)] :   : \\u003eWhile you're right that the S vertebrae a...\",\"rganization: OSU College of Osteopathic Medicine  In article \\u003c\\u003e,  (Gordon Banks) writes: \\u003e In articl...\",\"said that, i might add, that in MHO, MSG does not enhance  AM\\u003e flavor enoughf for me to miss it.  Wh...\",\"Bates method Summary: Proven a hoax long ago Lines: 15  Dr. willian Horatio Bates born 1860 and grad...\",\"osed with cystic breast disease -- a big relief, as it was a lump that could have been cancer.  Her ...\",\" 14 Distribution: world NNTP-Posting-Host: adcs01.fnal.gov Keywords: 40 BLOODCOUNT DANGEROUS?   Can ...\",\"ical School, Boston Mass., USA Lines: 15 NNTP-Posting-Host: enterprise.bih.harvard.edu  In article \\u003c...\",\"rdon Banks) writes: \\u003eIn article \\u003c\\u003e  (Richard Silver) writes: \\u003e\\u003e \\u003e\\u003eIs there a right-eye dominance (ey...\",\".D.: pegasus.1993Apr22.221508.10196 Organization: Pegasus,  Honolulu Lines: 14  In article \\u003c\\u003e \\u003c\\u003e wri...\",\"ing 4 addresses are on the LymeNet mailing list, but are rejecting mail.  Since the list server orig...\",\"ge of Osteopathic Medicine Distribution: usa  In article \\u003c\\u003e,  (John Eyles) writes: \\u003e  \\u003e A friend has...\",\"NTP-Posting-Host: 141.214.86.38 X-UserAgent: Nuntius v1.1.1d9 X-XXDate: Tue, 20 Apr 93 16:46:24 GMT ...\",\"on: The Information Deli - via Netcom \\u002f San Jose, California  In \\u003c\\u003e  (Steven W Orr) writes:  \\u003eI look...\",\"ne, MA Lines: 10   Some recent postings remind me that I had read about risks  associated with the b...\",\"ivision Lines: 16 NNTP-Posting-Host: duca.hi.com  In article \\u003c\\u003e  (Gordon Banks) writes: |In article ...\",\"t -- Division of EMBA Computer Facility Lines: 21  Nutrasweet is a synthetic sweetener a couple thou...\",\" Corporation Lines: 13   What does a lack of taste of foods, or a sense of taste that seems \\\"off\\\" wh...\",\": 44  In article \\u003c\\u003e  (Gong Tong) writes: \\u003eIn article \\u003c\\u003e  (OPIRG) writes: \\u003e\\u003e \\u003e\\u003eFor cites on MSG, look...\",\"words: volvulus Nntp-Posting-Host: berfert.csd.uwo.ca Lines: 35      Recurrent Volvulus     --------...\",\": Invention Factory's BBS - New York City, NY - 212-274-8298v.32bis Reply-To:  (Jim Zisfein)  Lines:...\",\"world Organization: University of Oregon Lines: 14 NNTP-Posting-Host: oregon.uoregon.edu News-Softwa...\",\" (ron roth)]   \\u003eWhile you're right that the S vertebrae are attached to each other, \\u003ethe sacrum, to ...\",\"cience Lines: 18  In article \\u003c\\u003e  (John Werner) writes: \\u003eIn article \\u003c\\u003e,  (Gordon Banks) wrote: \\u003e\\u003e  \\u003e\\u003e...\",\" In article \\u003c\\u003e  (Fiberman) writes: :Is erythromycin effective in treating pneumonia? : :-fm   Not on...\",\"ution: world NNTP-Posting-Host: q5020598.mdc.com  My girlfriend just started taking Imitrex for her ...\",\"-To:  (Ken Mitchum) Organization: Univ. of Pittsburgh Computer Science Lines: 15  In article \\u003c\\u003e  (Jo...\",\"ote: :  {much deleted] :  :  : The fact that this happened while eating two sugar coated cereals mad...\",\" Summary: thanx for the comeback Lines: 7  Hello , I think you are probaly right, in spite of the mo...\",\"osting-Host: kyanite Organization: Telesciences CO Systems, Inc. Lines: 24  In article \\u003c\\u003e  (Richard ...\",\"tion: Univ. of Pittsburgh Computer Science Lines: 31  In article \\u003c\\u003e  (Andrea M Free-Kwiatkowski) wri...\",\"dford) Lines: 13  Thanks for all your assistance. I'll see if he can try a different brand of patche...\",\"USA Lines: 48 \\t\\u003c\\u003e \\u003c\\u003e NNTP-Posting-Host: cmb00.larc.nasa.gov In-reply-to: 's message of Fri, 23 Apr 1...\",\"anyone give me more information regarding endometriosis?   i heard it's a very common disease among ...\",\"any one heard of a sedative called \\\"Rhoepnol\\\"? Made by LaRouche, I believe. Any info as to side effe...\",\"t: ysub.ysu.edu  Does the Proventil inhaler for asthma relief fall into the steroid or nonsteroid ca...\",\" |JB\\u003e   (Ella I Baff) writes: |JB\\u003e   |JB\\u003e    Ron Roth recommends: \\\"Once you have your hypoglycemia C...\",\"Lines: 7  In article \\u003c\\u003e  (Gordon Banks) writes: \\u003ewe do this?  Should we make a race of disease-free,...\",\"\\u003c\\u003e  (Craig MacDonald) writes: \\u003e\\u003e  It may be extremely \\u003e\\u003ecommon, something like 5% of the population....\",\"1111.9678 Organization: Pegasus,  Honolulu Lines: 11  In article \\u003c\\u003e  (Melissa N. Matusevich) writes:...\",\"USA Lines: 52 \\t\\u003c\\u003e NNTP-Posting-Host: cmb00.larc.nasa.gov In-reply-to: 's message of Sat, 17 Apr 1993...\",\"n: SAS Institute Inc. Lines: 16  In article \\u003c\\u003e,  (MD) writes:   \\u003e \\u003e        The reason I'm posting th...\",\": 43  In article \\u003c\\u003e  (David Thomas) writes:  \\u003e\\u003eIn article \\u003c\\u003e,  (Charles Packer) writes: \\u003e\\u003e\\u003eIs there ...\",\"UNIX, Greenbelt, Maryland USA Lines: 58 NNTP-Posting-Host: access.digex.net  In article \\u003c\\u003e  (Gordon ...\",\"USA Lines: 53 NNTP-Posting-Host: cmb00.larc.nasa.gov In-reply-to: 's message of 21 Apr 93 16:18:19 G...\",\"s maintain small electric fields to (1) enhance certain chemical reactions, (2) promote communicatio...\",\"ick King) writes: \\u003e \\u003eI recall reading somewhere, during my youth, in some science popularization \\u003ebo...\"],\"x\":[2.0289430618286133,0.5838109254837036,5.140671730041504,0.4368968605995178,-7.043025970458984,2.1270694732666016,-6.1079020500183105,-6.992769241333008,-4.7416887283325195,-4.187521457672119,6.228898048400879,2.6034038066864014,0.6791901588439941,5.439441680908203,-2.126120090484619,-4.687358856201172,10.579875946044922,-5.933006763458252,-0.06604044139385223,-3.857673406600952,-9.280399322509766,-5.568459987640381,-6.544255256652832,-1.9810224771499634,-7.658015251159668,-5.502752304077148,-1.6850584745407104,-0.4522229731082916,-2.069322109222412,-3.6784050464630127,-1.5594401359558105,-8.84970474243164,-2.7918033599853516,12.31652545928955,2.6050467491149902,-2.121340036392212,8.241704940795898,-6.1402974128723145,-8.852996826171875,7.905250072479248,-4.229677200317383,-4.974209785461426,-0.8017657399177551,4.251835823059082,-0.22178968787193298,-2.5826821327209473,-1.098000407218933,-7.255483627319336,-2.437432050704956,-4.56136417388916,-3.9291090965270996,1.9287315607070923,-3.6446046829223633,7.565217018127441,0.695947527885437,-5.749693870544434,-1.4760112762451172,-2.999228000640869,-2.8575284481048584,3.3165507316589355,0.5315937995910645,-6.414041042327881,2.241560935974121,-3.503594398498535,-9.189016342163086,10.921156883239746,0.5488685369491577,-12.191705703735352,3.8586814403533936,-2.5941104888916016,-5.40376091003418,0.15699885785579681,0.4906507730484009,-0.9733778238296509,6.9567694664001465,-0.31241554021835327,0.6509168744087219,-1.1495128870010376,8.340394973754883,-5.626998424530029,-5.719650745391846,-11.957106590270996,1.1887266635894775,-3.9577841758728027,-9.16891860961914,-10.333420753479004,1.6994324922561646,-3.8576037883758545,-5.37445592880249,3.0784573554992676,-0.7133287787437439,10.9227933883667,6.190024375915527,-7.947483539581299,-7.54116153717041,6.340479373931885,-7.599550247192383,-2.325080394744873,30.81927490234375,0.9680726528167725,-2.063633441925049,2.820732355117798,-7.047914981842041,-4.76047420501709,2.0265419483184814,8.507749557495117,-2.5074641704559326,2.620596408843994,-10.694973945617676,0.929816484451294,4.991477012634277,6.172226905822754,0.4659889340400696,-3.6900928020477295,-4.832884788513184,-2.4714674949645996,0.16579769551753998,-6.502659320831299,2.4328300952911377,-9.986838340759277,-3.222047805786133,1.2507975101470947,-8.173712730407715,3.141629934310913,-2.363077402114868,-5.290266036987305,3.8673181533813477,14.145605087280273,-6.494846820831299,-2.1451640129089355,-0.19546419382095337,12.523781776428223,-0.20886065065860748,-6.363997459411621,-7.053173065185547,10.82374095916748,2.5808029174804688,-1.2182084321975708,4.801028728485107,1.8730506896972656,6.139640808105469,6.047239303588867,0.888096034526825,-2.020066022872925,1.1459134817123413,-1.6499965190887451,-8.028756141662598,0.3791027367115021,-7.114121913909912,-2.4432780742645264],\"y\":[-4.007546901702881,-0.9931920170783997,-1.3793503046035767,1.457488775253296,-0.1172671690583229,-1.8539737462997437,1.6688950061798096,1.594544768333435,0.45323464274406433,5.00053071975708,-5.4721455574035645,8.472282409667969,-4.094865322113037,-1.605897068977356,1.4806921482086182,4.872049808502197,-1.611025094985962,4.510857582092285,3.534907102584839,-1.2466198205947876,1.6317938566207886,3.724180221557617,0.9849779009819031,0.919432520866394,2.997389078140259,0.2741815447807312,0.9799845814704895,-0.43198639154434204,-0.627909779548645,-1.9905972480773926,-2.114776134490967,2.9144845008850098,-1.8549460172653198,-7.480691909790039,-1.5733784437179565,2.5486767292022705,0.7631016373634338,0.23007622361183167,3.598684310913086,-7.25191068649292,1.2954920530319214,2.375112295150757,2.550982713699341,-2.9070568084716797,1.9974586963653564,3.652031421661377,-0.9639120101928711,0.7925622463226318,2.866781711578369,1.9765409231185913,-2.16007924079895,-5.154172897338867,-1.9058340787887573,0.35878536105155945,-1.357237696647644,2.3453056812286377,-0.4858187437057495,2.8862204551696777,-1.8720015287399292,-3.1647231578826904,-3.1554994583129883,1.6151607036590576,-3.2580270767211914,-0.9148150086402893,3.252026319503784,-5.364769458770752,-1.1413809061050415,4.277650356292725,-4.8249897956848145,0.7317916750907898,1.4353444576263428,0.3753722310066223,1.8146222829818726,-2.9759669303894043,-2.8691928386688232,-1.242846965789795,-4.915846824645996,-2.2168331146240234,-5.093009948730469,-0.8748825788497925,1.808577299118042,-0.04764562100172043,0.37531203031539917,0.666056752204895,-0.08611132204532623,1.3750691413879395,-0.1710616797208786,1.908583164215088,1.682607889175415,-1.3161295652389526,0.7373898029327393,-7.36076021194458,0.30647537112236023,4.024474620819092,1.4324839115142822,-3.9230194091796875,-0.8907539248466492,3.178461790084839,20.275802612304688,-0.935600996017456,2.52585768699646,-2.023766040802002,-1.3899734020233154,2.3248703479766846,1.5609633922576904,9.49879264831543,2.0456345081329346,-6.759565353393555,1.2555413246154785,-4.015838146209717,-2.928147077560425,2.5457489490509033,0.33485299348831177,-1.3654811382293701,1.8656052350997925,3.054908037185669,3.97452449798584,0.64597088098526,-2.9371485710144043,2.1493420600891113,-2.2509446144104004,3.0313804149627686,-0.1640906035900116,-2.3086702823638916,-2.2365591526031494,1.8408992290496826,0.6032546162605286,-1.2806041240692139,-2.9745781421661377,-0.1630198359489441,-3.3732099533081055,-9.002458572387695,0.07233989983797073,0.8112307190895081,0.15580253303050995,-0.5048661231994629,-2.2438628673553467,-2.253898859024048,-5.672627925872803,-0.13052533566951752,-1.3783257007598877,2.1329402923583984,-1.4231466054916382,-0.7698193192481995,2.4457170963287354,3.0333235263824463,3.17274808883667,-3.7831926345825195,0.3845846951007843,2.7199819087982178],\"type\":\"scatter\"},{\"hoverinfo\":\"text\",\"marker\":{\"line\":{\"color\":\"white\",\"width\":0.5},\"size\":15},\"mode\":\"markers\",\"name\":\"Class sci.space\",\"opacity\":0.7,\"text\":[\"ibution: world Reply-To:  (CLAUDIO OLIVEIRA EGALON) NNTP-Posting-Host: tahiti.larc.nasa.gov  There i...\",\" In \\u003c\\u003e  (Dillon Pyron) writes:   \\u003eThere are actually only two of us.  I do Henry, Fred, Tommy and Ma...\",\"tsville, AL Lines: 22  In reference to the limits of acceleration with guns launching solid rockets ...\",\"sting-Host: stein2.u.washington.edu   (Doug Loss) writes: \\u003eBesides the mechanical problems of moving...\",\"1-9760 guest) Lines: 23  In article \\u003c\\u003e  (kevin marcus) writes: \\u003eAre there any public domain or share...\",\"  (G. Patrick Molloy) Organization: NASA\\u002fMSFC Lines: 40  In article \\u003c\\u003e,   writes: \\u003e Here is a way to...\",\"15:55 GMT Nntp-Posting-Host: leo-gw Organization: Burdett, Buckeridge & Young, Melbourne, Australia ...\",\"ave before me a pertinent report from the United States General Accounting Office:  National Aero-Sp...\",\"world NNTP-Posting-Host: beach.cis.ufl.edu   Is anybody out there willing to discuss with me careers...\",\"ology Lines: 17  In article \\u003c\\u003e  (Alan Carter) writes: \\u003e|\\u003e ... a NO-OP command was sent to reset the ...\",\": Texas Instruments Inc Lines: 22  In \\u003c\\u003e  (Allen W. Sherzer) writes:  \\u003eDepends. If you assume the ex...\",\"station, constellation Article-I.D.: techbook.C51z6E.CL1 Organization: TECHbooks --- Public Access U...\",\"rticle \\u003c\\u003e,  (Layne Cook) writes: \\u003e All of this talk about a COMMERCIAL space race (i.e. $1G to the f...\",\"Lewis Research Center \\u002f Cleveland, Ohio Lines: 30 Distribution: world NNTP-Posting-Host: tm0006.lerc...\",\" Ontario, London Nntp-Posting-Host: prism.engrg.uwo.ca Lines: 9  \\tHmmm. I seem to recall that the at...\",\"on: world NNTP-Posting-Host: kelvin.jpl.nasa.gov News-Software: VAX\\u002fVMS VNEWS 1.41      In article \\u003c...\",\"siana Lines: 43   (Brian Yamauchi) writes:  \\u003eAny comments on the absorbtion of the Office of Explora...\",\"NTP-Posting-Host: access.digex.net  In article \\u003c\\u003e  (Henry Spencer) writes: \\u003eIn article \\u003c1ppm7j$\\u003e  (P...\",\"ons, Greenbelt, MD USA Lines: 33 Distribution: world NNTP-Posting-Host: access.digex.net Keywords: M...\",\"ne know how to size cold gas roll control thruster tanks for sounding rockets?  Thanks in advance, J...\",\"BM, Federal Systems Co. Software Services Disclaimer: This posting represents the poster's views, no...\",\"tional Space University] Original-Sender:  Distribution: sci Lines: 124   McDonnell Douglas rolls ou...\",\"ing-Host: tm0006.lerc.nasa.gov Organization: NASA Lewis Research Center \\u002f Cleveland, Ohio Lines: 71 ...\",\"n, VA 22090 Lines: 16  In article \\u003c\\u003e  writes: \\u003eThis might a real wierd idea or maybe not.. \\u003e \\u003e \\u003eWhy ...\",\" LLNL Lines: 96 Distribution: world NNTP-Posting-Host: s1.gov   (Brian Yamauchi) writes: \\u003e (Enzo Lig...\",\"s USA Lines: 23 Distribution: world NNTP-Posting-Host: access.digex.net  In article \\u003c\\u003e  (Ron Baalke)...\",\" 26  \\u003c\\u003e  writes:  \\u003eSo some of my ideas are a bit odd, off the wall and such, but so was Wilbur and \\u003e...\",\"du Organization: Northwestern University, Evanston Illinois. Lines: 45  In article \\u003c\\u003e  (James Thomas...\",\"State University, San Luis Obispo Lines: 51  Why do spacecraft have to be shut off after funding cut...\",\"7 GMT Organization: Simon Fraser University X-Useragent: Nuntius v1.1.1d17 Lines: 15  In article \\u003c\\u003e ...\",\"ines: 15 Distribution: world NNTP-Posting-Host: kelvin.jpl.nasa.gov News-Software: VAX\\u002fVMS VNEWS 1.4...\",\"nic State University, San Luis Obispo Lines: 31  \\u003eIn article \\u003c\\u003e  (Victor Laking) writes: \\u003e\\u003e (Victor ...\",\"Lines: 42 \\t\\u003c\\u003e \\t\\u003c\\u003e NNTP-Posting-Host: topaz.ucsc.edu In-reply-to: 's message of 20 Apr 93 22:38:07 GM...\",\"ines: 44   (Craig Keithley) writes: \\u003e \\u003e All in all, I'm not certain that the single goal\\u002fprize of st...\",\"nization: Netcom Online Communications Services (408-241-9760 login: guest) Lines: 9     I might sug...\",\"tion: Fermi National Accelerator Laboratory Lines: 25 Distribution: na NNTP-Posting-Host: fnalf.fnal...\",\"tsville, AL Lines: 72   Okay, lets get the record straight on the Livermore gas gun.   The project m...\",\"world NNTP-Posting-Host: kelvin.jpl.nasa.gov News-Software: VAX\\u002fVMS VNEWS 1.41      Forwarded from J...\",\"Research Center Lines: 14 Distribution: world Reply-To:  (CLAUDIO OLIVEIRA EGALON) NNTP-Posting-Host...\",\"banks Lines: 11 Nntp-Posting-Host: acad3.alaska.edu  Is there a few Grasp pictures of space related ...\",\"ci Lines: 10  The Apollo astronauts also trained at (in) Meteor Crater in the Flagstaff area (Arizon...\",\"-Posting-Host: access.digex.net  In article \\u003c\\u003e  (George F. Krumins) writes: \\u003eIt is so typical that t...\",\"-408-734-2289 Lines: 20   (Doug Mohney) writes:  \\u003e Allen, sometimes I think you're OK.  And sometime...\",\"ting-Host: access.digex.net Keywords: food  dillon comments that Space Food Sticks may have bad dige...\",\"h Carolina, Chapel Hill Lines: 95 Distribution: world Expires: 6 May 1993 19:57:55 GMT NNTP-Posting-...\",\"Lines: 25 NNTP-Posting-Host: access.digex.net  In article \\u003c\\u003e  (fred j mccall 575-3539) writes: | |I ...\",\"celerator Laboratory Lines: 24 NNTP-Posting-Host: fnalf.fnal.gov  In article \\u003c\\u003e,  (Charles J. Divine...\",\"eplerian Nntp-Posting-Host: scgraph.afit.af.mil Organization: Air Force Institute of Technology Line...\",\"ines: 8  If all of these things have been detected in space, has anyone looked into possible problem...\",\".1 Organization: University of Alaska Fairbanks Lines: 21 Nntp-Posting-Host: acad3.alaska.edu  In ar...\",\"Lines: 31  In article \\u003c\\u003e Callec Dradja \\u003c\\u003e writes: \\u003eI am a bit nervous about posting this beacause it...\",\"ne Communications, Greenbelt MD USA Lines: 9 Distribution: na NNTP-Posting-Host: access.digex.net   ...\",\"t) writes: \\u003ewhat ever happened to the hypothesis  that the shuttle flight software \\u003ewas a major fact...\",\"munications USA Lines: 20 NNTP-Posting-Host: access.digex.net Keywords: Galileo, JPL    INteresting ...\",\".1 Organization: University of Alaska Fairbanks Lines: 33 Nntp-Posting-Host: acad3.alaska.edu  In ar...\",\"n Schiewer) writes: \\u003eWhat is the deal with life on Mars?  I save the \\\"face\\\" and heard  \\u003eassociated t...\",\"oratory Lines: 22 Distribution: world NNTP-Posting-Host: kelvin.jpl.nasa.gov Keywords: Galileo, JPL ...\",\"ganization: Univ. of Southwestern Louisiana Lines: 22   (Rob Unverzagt) writes:  \\u003eIn article \\u003c\\u003e  (Ro...\",\"Organization: [via International Space University] Original-Sender:  Distribution: sci Lines: 28   \\t...\",\"on: Fermi National Accelerator Laboratory Lines: 22 Distribution: world NNTP-Posting-Host: fnalf.fna...\",\"rganization?  You must be kidding. Lines: 35 NNTP-Posting-Host: aerospace.aero.org  In article \\u003c1pr5...\",\" Lines: 114    ARIANESPACE FLIGHT 56  (Flight V.56 was originally intended to carry the Hughes HS-60...\",\"Reply-To:  Organization: TI\\u002fDSEG VAX Support   In article \\u003c\\u003e,  (John Elson) writes: \\u003eHas anyone ever...\",\"mes Research Center Distribution: na Lines: 14   (Pat) writes:   \\u003eAW&ST  had a brief blurb on a Mann...\",\" MA 01609-2280 Lines: 11 NNTP-Posting-Host: wpi.wpi.edu   \\tI am looking for any information about th...\",\"n: stanford Lines: 38  In article \\u003c\\u003e,  (Brian Yamauchi) writes: |\\u003e \\u003eNASA would provide contractual l...\",\"Sci. Lines: 22   And one of my profs is the chief engineer for the project (Dr. Ron Humble, Univ. Co...\",\"st?  \\u003c\\u003e \\u003c\\u003e  \\u003c\\u003e \\u003c\\u003e  \\u003c\\u003e \\u003c\\u003e Lines: 38  In article \\u003c\\u003e,  (Gary Coffman) says: \\u003eIn article \\u003c\\u003e Graydon \\u003e\\u003c\\u003e ...\",\"call 575-3539) writes: \\u003e\\u003e\\u003e(given that I've heard the Shuttle software rated as Level 5 ... \\u003e\\u003eLevel 5...\",\"on: [via International Space University] Original-Sender:  Distribution: sci Lines: 21  on Date: Sat...\",\"kn6rINNett Reply-To:  Distribution: world Organization: Computer Aided Design Lab, U. of Maryland Co...\",\"n article \\u003c\\u003e  writes: \\u003eHere is a way to get the commericial companies into space and mineral \\u003eexplor...\",\"ization: University of Illinois at Urbana Lines: 18   (Pat) writes:  \\u003eAW&ST  had a brief blurb on a ...\",\"University of Alaska Fairbanks  In article \\u003c\\u003e,  (Doug Mohney) writes: \\u003e In article \\u003c\\u003e,  (Henry Spenc...\",\"] Original-Sender:  Distribution: sci Lines: 14   \\u003eIf all the ecomomists in the world were laid end ...\",\"na Lines: 35  In \\u003c\\u003e  (Elijah Millgram) writes:   \\u003eA friend of mine and I were wondering where the ex...\",\"Lines: 26 \\t\\u003c\\u003e\\t\\u003c\\u003e\\t\\u003c\\u003e,\\u003c\\u003e \\t\\u003c\\u003e NNTP-Posting-Host: topaz.ucsc.edu In-reply-to: 's message of 21 Apr 1993 ...\",\"s: 17       I've been following discussions about the Delta Clipper program, and I have one small qu...\",\"nes: 25 NNTP-Posting-Host: access.digex.net  In article \\u003c\\u003e  writes: \\u003eIn article \\u003c1r6b7v$\\u003e,  (Pat) wr...\",\"4  In article \\u003c\\u003e,  (Henry Spencer) wrote: \\u003e  \\u003e The major component of any realistic plan to go to th...\",\"\\u003e  (Steve Collins) writes: \\u003eThe difficulties of a high Isp OTV include... \\u003eIf you go solar, you have...\",\"ace University] Original-Sender:  Distribution: sci Lines: 189  \\u003e\\u003eNick sez; I'm not very impressed b...\",\"ada Lines: 20   \\u003e \\u003e \\u003e Also, peri[jove]s of Gehrels3 were: \\u003e \\u003e \\u003e  \\u003e \\u003e \\u003e April  1973     83 jupiter ra...\",\"\\u003c\\u003e  (CLAUDIO OLIVEIRA EGALON) writes: \\u003e\\u003e there is no such thing as a stable lunar orbit \\u003e \\u003eIs it rig...\",\" Flight Center - Robotics Lab Lines: 26 News-Software: VAX\\u002fVMS VNEWS 1.4-b1  In article \\u003c\\u003e,  (Garret...\",\"GMT Organization: National Radio Astronomy Observatory Lines: 32  It is usually possible to reach pe...\",\" Space University] Original-Sender:  Distribution: sci Lines: 58      Joint Press release ESA\\u002fUN No ...\",\"6.14123 Organization: Evil Geniuses for a Better Tomorrow Lines: 22  In article \\u003c\\u003e  (Josh Hopkins) w...\",\"sted this over in sci.astro, but it didn't make it here. Thought you all would like my wonderful pit...\",\"Shuttle Program Office  X-Newsreader: TIN [version 1.1 PL8] Lines: 40   (Hey, that's me!) wrote: : I...\",\"ity of North Carolina, Chapel Hill Lines: 36 Distribution: world Expires: 7 May 1993 17:25:40 GMT NN...\",\"ience Computer Network, Denver, Co. Lines: 5  The Apollo program cost something like $25 billion at ...\",\"ines: 20 Distribution: world NNTP-Posting-Host: gargravarr.cc.utexas.edu X-UserAgent: Nuntius v1.1.1...\",\" 'Lectronic Link Lines: 29   The difficulties of a high Isp OTV include: Long transfer times (radiat...\",\"Mathematics, University of Adelaide Lines: 25  In article \\u003c1pfkf5$\\u003e  (Pat) writes:  \\u003eOnly one proble...\",\"tion: Dynamic Graphics Inc. Lines: 10 Distribution: usa NNTP-Posting-Host: opus.dgi.com  Sorry but I...\",\" 15 NNTP-Posting-Host: bigwpi.wpi.edu    Hello everyone,  \\tI was hoping someone could help me out.  ...\",\"(David M. Palmer) writes: \\u003e\\u003eorbiting billboard... \\u003e \\u003eI would just like to point out that it is much ...\",\"on: Destructive Testing Systems Lines: 63  In article \\u003c\\u003e Graydon \\u003c\\u003e writes: \\u003eIn article \\u003c\\u003e,  (Gary C...\",\"tp-Posting-Host: prism.engrg.uwo.ca Lines: 15  In article \\u003c\\u003e  (Nick Haines) writes: \\u003e \\u003eWould they bu...\",\"s at Urbana Lines: 42   (Keith Mancus) writes:  \\u003e (Layne Cook) writes: \\u003e\\u003e All of this talk about a C...\",\"on: world NNTP-Posting-Host: kelvin.jpl.nasa.gov Keywords: Galileo, JPL News-Software: VAX\\u002fVMS VNEWS...\",\"Louisiana Lines: 28   (Mark Brader) writes:   \\u003eThanks again.  One final question.  The name Gehrels ...\",\"P-Posting-Host: access.digex.net  In article \\u003c1r6f3a$\\u003e  (Rouben Rostamian) writes: \\u003ehow the length o...\",\"zation: [via International Space University] Original-Sender:  Distribution: sci Lines: 55  Apologie...\",\"8  In article \\u003c\\u003e  (Gary Coffman) writes:   \\u003e be the site of major commercial activity. As far as we ...\",\" 13  A brief political\\u002fcultural item.  Radio station WGMS in Washington is a classical music station...\",\" Lines: 13 Reply-To:  NNTP-Posting-Host: queen.eng.umd.edu  In article \\u003c\\u003e,  (Henry Spencer) writes: ...\",\"or in original version of preceding line at VACATION.VENARI.CS.CMU.EDU Organization: [via Internatio...\",\"x, Inc., Beaverton,  OR. Lines: 31   ----- News saved at 23 Apr 93 22:22:40 GMT In article \\u003c\\u003e  (Davi...\",\"e Communications USA Lines: 19 NNTP-Posting-Host: access.digex.net  In article \\u003c\\u003e  (Achurist) writes...\",\"ronto Zoology Lines: 15  In article \\u003c\\u003e  (Allen W. Sherzer) writes: \\u003eThis prize isn't big enough to w...\",\"-Posting-Host: 145.1.146.43 Lines: 59  I am posting this for a friend without internet access. Pleas...\",\"ization: University of Alaska Fairbanks Lines: 55 Nntp-Posting-Host: acad3.alaska.edu  In article \\u003c\\u003e...\",\" University of Alaska Fairbanks Lines: 28 Nntp-Posting-Host: acad3.alaska.edu  That is an idea.. The...\",\" Organization: TI\\u002fDSEG VAX Support   In article \\u003c\\u003e,  (John F. Woods) writes: \\u003e (Norman Anderson) wri...\",\"stribution: world NNTP-Posting-Host: kelvin.jpl.nasa.gov Keywords: HST, Pluto, Uranus News-Software:...\",\" Institute Lines: 42  In article \\u003c\\u003e,   (Victor Laking) writes: \\u003e Does anyone have any info on the ap...\",\"ust one step further: \\u003eHow has the word \\\"Clementine\\\" been associated with mining?    Old pioneer son...\",\"y of Alaska Fairbanks Lines: 21 Nntp-Posting-Host: acad3.alaska.edu  In article \\u003c\\u003e,  (Henry Spencer)...\",\"n: sci NNTP-Posting-Host: access.digex.net    I am sure  Mary or Henry can describe this more aptly ...\",\"-Posting-Host: cs.utexas.edu  In article \\u003c1raee7$\\u003e  (Pat) writes: \\u003eIn article \\u003c\\u003e  (Ron Baalke) write...\",\"es: 14  In \\u003c\\u003e  writes:  \\u003eSince the DC-X is to take off horizontal, why not land that way?? \\u003eWhy do t...\",\"h Center Lines: 16 Distribution: world Reply-To:  (CLAUDIO OLIVEIRA EGALON) NNTP-Posting-Host: tahit...\",\"ines: 35  In article \\u003c1rd1g0$\\u003e  (Pat) writes: \\u003eHow will said re-boost be done? \\u003eGrapple, HST,  stow ...\",\" Lines: 56 NNTP-Posting-Host: fnalf.fnal.gov  In article \\u003c\\u003e,  (Frank J. Snyder) writes: \\u003e I am looki...\",\"sh Hopkins) writes: \\u003e (Keith Mancus) writes: \\u003e\\u003e (Layne Cook) writes: \\u003e\\u003e\\u003e The $25k Orteig prize helpe...\",\"lina State University, Project Eos Lines: 21   Hi all,      I'm trying to get mailing addresses for ...\",\"5-7155 v.32\\u002fv.42bis Lines: 27  In article \\u003c\\u003e mwm+@cs.cmu.edu (Mark Maimone) writes: \\u003eIn article \\u003c\\u003e  ...\",\"IO OLIVEIRA EGALON) Distribution: world Organization: NASA Langley Research Center, Hampton, VA  USA...\",\"ding orbital billboards...] \\u003eAnd does anyone have any more details other than what was in the WN \\u003ene...\",\"ion: Muppet Labs Lines: 27  In article \\u003c\\u003e  (fred j mccall 575-3539) writes: \\u003eIn \\u003c\\u003e  (David McAloon) ...\",\"s: 13 Distribution: world Reply-To:  (CLAUDIO OLIVEIRA EGALON) NNTP-Posting-Host: tahiti.larc.nasa.g...\",\"ator:  Nntp-Posting-Host: snow.fox.cs.cmu.edu Organization: School of Computer Science, Carnegie Mel...\",\"NTP-Posting-Host: access.digex.net  In article \\u003c\\u003e  (fred j mccall 575-3539) writes: \\u003eisn't my real n...\",\"ines: 13  In article \\u003c1r6aqr$\\u003e  (Pat) writes: #The better question  should be. #Why not transfer  O&...\",\"Lines: 39 NNTP-Posting-Host: alumni.caltech.edu   (Matthew DeLuca) writes:  \\u003eIn article \\u003c\\u003e  (David \\\"...\",\" Lines: 22 Reply-To:  NNTP-Posting-Host: queen.eng.umd.edu  In article \\u003c\\u003e,  (Allen W. Sherzer) write...\",\"Baltimore MD Lines: 14  Another fish to check out is Richard Rast -- he works for Lockheed Missiles,...\",\"e Centaur is controlled technology.. State Dept will not allow it to be used outside of US. Sorry. \\u003e...\",\"ept. of Energy, Mines, and Resources, Ottawa Lines: 15  As for SF and advertising in space. There is...\",\"ty of Victoria, Victoria, BC, Canada Lines: 33  In article \\u003c1qjs1j$\\u003e  (Pat) writes: \\u003e \\u003e \\u003eIn the old ...\",\"s: 111        Ethnocentric USian that I am, I've assumed that we and the xUSSR were the only countri...\",\"lorado State University -=- Computer Science Dept. Lines: 11  Is the film from the \\\"putt-putt\\\" test ...\",\"osting-Host: pa881a Nntp-Posting-User: schiewer Lines: 9  What is the deal with life on Mars?  I sav...\",\"ing-Host: access.digex.net   Well thank you dennis for your as usual highly detailed and informative...\",\"sity of California, Irvine Lines: 30  Actually, they are legal! I not familiar with the ad you are s...\",\"Riverside Lines: 82 Nntp-Posting-Host: guitar.ucr.edu  There is an interesting opinion piece in the ...\",\" I need as much information about Cosmos 2238 and its rocket fragment (1993- 018B) as possible. Both...\",\"Greenbelt Maryland Lines: 23  Reported yesterday in the Washington Post (Kathy Sawyer, writer):  The...\"],\"x\":[2.930025577545166,-6.289919376373291,-2.155513286590576,-6.869485855102539,-0.660656750202179,-5.973841190338135,-2.644901990890503,14.407155990600586,-5.6928391456604,-1.9842151403427124,-7.929288387298584,-4.457640647888184,-4.169009208679199,0.011255556717514992,-2.519056558609009,14.048261642456055,-8.51694393157959,-1.8907923698425293,-8.641565322875977,-0.3133941888809204,8.270689964294434,-5.978481769561768,1.925119161605835,-0.746113657951355,-3.456085681915283,-5.763066291809082,-3.973784923553467,-2.26039719581604,-7.877051830291748,-1.312264323234558,14.513450622558594,3.864546775817871,0.09769101440906525,-2.61401629447937,-4.048614501953125,-0.9543794989585876,-4.939295768737793,3.6024091243743896,2.5356192588806152,-4.12581729888916,13.291865348815918,-5.758565902709961,1.5693367719650269,-3.847830057144165,8.824045181274414,-7.385105609893799,17.023088455200195,7.797791481018066,-1.8079960346221924,1.468732476234436,-5.979022979736328,2.8924508094787598,-0.6637566685676575,-1.5341371297836304,4.044212818145752,-4.711995601654053,14.766144752502441,1.3324425220489502,20.406476974487305,5.098977565765381,-0.3183048963546753,3.907012462615967,0.967074990272522,5.287843227386475,-1.8459402322769165,3.173783779144287,36.150177001953125,-4.71250057220459,-3.178579807281494,1.3958274126052856,7.881724834442139,-9.066583633422852,-2.319953441619873,-1.2946445941925049,4.899599075317383,-5.16434907913208,1.5404844284057617,2.2496402263641357,-2.8991737365722656,-7.924545764923096,0.1162465512752533,-8.905219078063965,6.128661155700684,-3.833519220352173,3.4251012802124023,32.496543884277344,-2.82222580909729,1.7778019905090332,-4.387149333953857,9.65095329284668,1.1974096298217773,3.4091784954071045,11.532354354858398,-5.495730400085449,-4.706672191619873,-1.1320152282714844,-4.6346540451049805,0.3232439458370209,-6.739843845367432,1.6667582988739014,-3.0607540607452393,9.128766059875488,-1.7227702140808105,3.4872846603393555,0.869453489780426,-2.011500835418701,1.7363532781600952,0.5309368968009949,11.87116813659668,-1.0865463018417358,-4.181977272033691,-3.769932985305786,-0.24433547258377075,-9.647480964660645,-8.236607551574707,3.8475513458251953,11.696281433105469,-6.100045204162598,-1.2534141540527344,3.326160430908203,-4.860138893127441,4.171212673187256,-1.8949986696243286,-2.8228070735931396,-5.258460521697998,3.330904960632324,-3.133497476577759,2.511441707611084,4.762814044952393,8.115453720092773,-5.084383487701416,2.278989553451538,-2.81351900100708,-4.479272842407227,3.998002052307129,1.3405805826187134,-2.8048720359802246,-0.26059386134147644,1.4316052198410034,0.5072619915008545,-1.2352012395858765,0.49488869309425354,0.12337728589773178,44.668701171875,6.415200233459473,-5.254078388214111,-6.213073253631592,-6.856870174407959,10.871858596801758,-2.2887988090515137],\"y\":[-3.8773293495178223,2.046353578567505,-2.323491334915161,2.2911524772644043,-1.7998731136322021,4.3496317863464355,-1.131408929824829,-9.38206672668457,2.2099385261535645,0.21618342399597168,3.9322152137756348,-1.0147931575775146,0.8367645740509033,-5.129666805267334,-4.2882466316223145,-4.448991775512695,1.8184289932250977,-2.626875162124634,0.6175286769866943,-3.615227460861206,7.507946491241455,-2.9201650619506836,-8.72037124633789,3.6356360912323,3.405277729034424,-0.23905688524246216,0.7226617336273193,0.6964348554611206,0.5623181462287903,-1.5057382583618164,-2.295426607131958,0.23195570707321167,0.5499302744865417,3.505962371826172,0.10001958161592484,-1.4186898469924927,-2.0539493560791016,-3.0834896564483643,-3.6339619159698486,2.4561617374420166,-5.302315711975098,-0.13765849173069,-1.6097676753997803,0.6078497171401978,-7.940847873687744,1.116366982460022,-3.2905311584472656,-6.372209072113037,1.455991506576538,3.230344295501709,5.042112350463867,-6.961975574493408,-1.3020471334457397,-2.805939197540283,4.5451250076293945,-0.40724021196365356,-3.024595260620117,0.6867588758468628,-5.620196342468262,-2.7589833736419678,-0.18628989160060883,-5.943325042724609,-1.3648980855941772,-4.915830135345459,-3.538036346435547,-0.48115602135658264,25.896137237548828,7.886263370513916,0.7878763675689697,-4.0121002197265625,-1.398299217224121,2.872627019882202,-2.118351936340332,2.2235233783721924,-2.7698802947998047,0.11271997541189194,2.09755277633667,-3.1554510593414307,1.3912816047668457,2.9426605701446533,0.5493373870849609,5.510383129119873,-0.25252705812454224,1.7686100006103516,1.8942967653274536,19.039031982421875,-5.371103286743164,-1.648651123046875,-2.2311995029449463,-3.736797571182251,-2.046212673187256,-5.038589000701904,-4.555510997772217,0.6967750191688538,-0.9968547821044922,-1.1829326152801514,-1.979748010635376,1.6041616201400757,2.816744565963745,-0.24031855165958405,1.4593145847320557,-6.436051845550537,-1.9752259254455566,-1.4949995279312134,-6.322685718536377,-0.5637322068214417,-5.297388076782227,-1.2615481615066528,5.51151704788208,0.6314641833305359,0.1009725034236908,2.4006283283233643,-5.450651168823242,4.284196853637695,2.9419643878936768,1.2748589515686035,-4.329238414764404,-1.8036879301071167,-3.3553061485290527,2.170226573944092,-0.7492015361785889,-4.224978923797607,1.4688639640808105,-3.0084636211395264,0.6428337097167969,-4.604016304016113,1.4329131841659546,-2.023430585861206,0.7409499287605286,-3.5728418827056885,-3.187302589416504,1.4503631591796875,-0.6014029383659363,-0.0940745398402214,-1.129101037979126,-2.5544004440307617,0.9222739338874817,2.7319769859313965,-7.84970760345459,2.37971568107605,-5.363986968994141,1.4365652799606323,-3.4473254680633545,1.7197370529174805,-5.7176737785339355,0.8618060350418091,0.25575411319732666,-1.3173978328704834,-7.785650730133057,-4.257023811340332],\"type\":\"scatter\"}],                        {\"height\":800,\"hovermode\":\"closest\",\"template\":{\"data\":{\"barpolar\":[{\"marker\":{\"line\":{\"color\":\"#E5ECF6\",\"width\":0.5},\"pattern\":{\"fillmode\":\"overlay\",\"size\":10,\"solidity\":0.2}},\"type\":\"barpolar\"}],\"bar\":[{\"error_x\":{\"color\":\"#2a3f5f\"},\"error_y\":{\"color\":\"#2a3f5f\"},\"marker\":{\"line\":{\"color\":\"#E5ECF6\",\"width\":0.5},\"pattern\":{\"fillmode\":\"overlay\",\"size\":10,\"solidity\":0.2}},\"type\":\"bar\"}],\"carpet\":[{\"aaxis\":{\"endlinecolor\":\"#2a3f5f\",\"gridcolor\":\"white\",\"linecolor\":\"white\",\"minorgridcolor\":\"white\",\"startlinecolor\":\"#2a3f5f\"},\"baxis\":{\"endlinecolor\":\"#2a3f5f\",\"gridcolor\":\"white\",\"linecolor\":\"white\",\"minorgridcolor\":\"white\",\"startlinecolor\":\"#2a3f5f\"},\"type\":\"carpet\"}],\"choropleth\":[{\"colorbar\":{\"outlinewidth\":0,\"ticks\":\"\"},\"type\":\"choropleth\"}],\"contourcarpet\":[{\"colorbar\":{\"outlinewidth\":0,\"ticks\":\"\"},\"type\":\"contourcarpet\"}],\"contour\":[{\"colorbar\":{\"outlinewidth\":0,\"ticks\":\"\"},\"colorscale\":[[0.0,\"#0d0887\"],[0.1111111111111111,\"#46039f\"],[0.2222222222222222,\"#7201a8\"],[0.3333333333333333,\"#9c179e\"],[0.4444444444444444,\"#bd3786\"],[0.5555555555555556,\"#d8576b\"],[0.6666666666666666,\"#ed7953\"],[0.7777777777777778,\"#fb9f3a\"],[0.8888888888888888,\"#fdca26\"],[1.0,\"#f0f921\"]],\"type\":\"contour\"}],\"heatmapgl\":[{\"colorbar\":{\"outlinewidth\":0,\"ticks\":\"\"},\"colorscale\":[[0.0,\"#0d0887\"],[0.1111111111111111,\"#46039f\"],[0.2222222222222222,\"#7201a8\"],[0.3333333333333333,\"#9c179e\"],[0.4444444444444444,\"#bd3786\"],[0.5555555555555556,\"#d8576b\"],[0.6666666666666666,\"#ed7953\"],[0.7777777777777778,\"#fb9f3a\"],[0.8888888888888888,\"#fdca26\"],[1.0,\"#f0f921\"]],\"type\":\"heatmapgl\"}],\"heatmap\":[{\"colorbar\":{\"outlinewidth\":0,\"ticks\":\"\"},\"colorscale\":[[0.0,\"#0d0887\"],[0.1111111111111111,\"#46039f\"],[0.2222222222222222,\"#7201a8\"],[0.3333333333333333,\"#9c179e\"],[0.4444444444444444,\"#bd3786\"],[0.5555555555555556,\"#d8576b\"],[0.6666666666666666,\"#ed7953\"],[0.7777777777777778,\"#fb9f3a\"],[0.8888888888888888,\"#fdca26\"],[1.0,\"#f0f921\"]],\"type\":\"heatmap\"}],\"histogram2dcontour\":[{\"colorbar\":{\"outlinewidth\":0,\"ticks\":\"\"},\"colorscale\":[[0.0,\"#0d0887\"],[0.1111111111111111,\"#46039f\"],[0.2222222222222222,\"#7201a8\"],[0.3333333333333333,\"#9c179e\"],[0.4444444444444444,\"#bd3786\"],[0.5555555555555556,\"#d8576b\"],[0.6666666666666666,\"#ed7953\"],[0.7777777777777778,\"#fb9f3a\"],[0.8888888888888888,\"#fdca26\"],[1.0,\"#f0f921\"]],\"type\":\"histogram2dcontour\"}],\"histogram2d\":[{\"colorbar\":{\"outlinewidth\":0,\"ticks\":\"\"},\"colorscale\":[[0.0,\"#0d0887\"],[0.1111111111111111,\"#46039f\"],[0.2222222222222222,\"#7201a8\"],[0.3333333333333333,\"#9c179e\"],[0.4444444444444444,\"#bd3786\"],[0.5555555555555556,\"#d8576b\"],[0.6666666666666666,\"#ed7953\"],[0.7777777777777778,\"#fb9f3a\"],[0.8888888888888888,\"#fdca26\"],[1.0,\"#f0f921\"]],\"type\":\"histogram2d\"}],\"histogram\":[{\"marker\":{\"pattern\":{\"fillmode\":\"overlay\",\"size\":10,\"solidity\":0.2}},\"type\":\"histogram\"}],\"mesh3d\":[{\"colorbar\":{\"outlinewidth\":0,\"ticks\":\"\"},\"type\":\"mesh3d\"}],\"parcoords\":[{\"line\":{\"colorbar\":{\"outlinewidth\":0,\"ticks\":\"\"}},\"type\":\"parcoords\"}],\"pie\":[{\"automargin\":true,\"type\":\"pie\"}],\"scatter3d\":[{\"line\":{\"colorbar\":{\"outlinewidth\":0,\"ticks\":\"\"}},\"marker\":{\"colorbar\":{\"outlinewidth\":0,\"ticks\":\"\"}},\"type\":\"scatter3d\"}],\"scattercarpet\":[{\"marker\":{\"colorbar\":{\"outlinewidth\":0,\"ticks\":\"\"}},\"type\":\"scattercarpet\"}],\"scattergeo\":[{\"marker\":{\"colorbar\":{\"outlinewidth\":0,\"ticks\":\"\"}},\"type\":\"scattergeo\"}],\"scattergl\":[{\"marker\":{\"colorbar\":{\"outlinewidth\":0,\"ticks\":\"\"}},\"type\":\"scattergl\"}],\"scattermapbox\":[{\"marker\":{\"colorbar\":{\"outlinewidth\":0,\"ticks\":\"\"}},\"type\":\"scattermapbox\"}],\"scatterpolargl\":[{\"marker\":{\"colorbar\":{\"outlinewidth\":0,\"ticks\":\"\"}},\"type\":\"scatterpolargl\"}],\"scatterpolar\":[{\"marker\":{\"colorbar\":{\"outlinewidth\":0,\"ticks\":\"\"}},\"type\":\"scatterpolar\"}],\"scatter\":[{\"fillpattern\":{\"fillmode\":\"overlay\",\"size\":10,\"solidity\":0.2},\"type\":\"scatter\"}],\"scatterternary\":[{\"marker\":{\"colorbar\":{\"outlinewidth\":0,\"ticks\":\"\"}},\"type\":\"scatterternary\"}],\"surface\":[{\"colorbar\":{\"outlinewidth\":0,\"ticks\":\"\"},\"colorscale\":[[0.0,\"#0d0887\"],[0.1111111111111111,\"#46039f\"],[0.2222222222222222,\"#7201a8\"],[0.3333333333333333,\"#9c179e\"],[0.4444444444444444,\"#bd3786\"],[0.5555555555555556,\"#d8576b\"],[0.6666666666666666,\"#ed7953\"],[0.7777777777777778,\"#fb9f3a\"],[0.8888888888888888,\"#fdca26\"],[1.0,\"#f0f921\"]],\"type\":\"surface\"}],\"table\":[{\"cells\":{\"fill\":{\"color\":\"#EBF0F8\"},\"line\":{\"color\":\"white\"}},\"header\":{\"fill\":{\"color\":\"#C8D4E3\"},\"line\":{\"color\":\"white\"}},\"type\":\"table\"}]},\"layout\":{\"annotationdefaults\":{\"arrowcolor\":\"#2a3f5f\",\"arrowhead\":0,\"arrowwidth\":1},\"autotypenumbers\":\"strict\",\"coloraxis\":{\"colorbar\":{\"outlinewidth\":0,\"ticks\":\"\"}},\"colorscale\":{\"diverging\":[[0,\"#8e0152\"],[0.1,\"#c51b7d\"],[0.2,\"#de77ae\"],[0.3,\"#f1b6da\"],[0.4,\"#fde0ef\"],[0.5,\"#f7f7f7\"],[0.6,\"#e6f5d0\"],[0.7,\"#b8e186\"],[0.8,\"#7fbc41\"],[0.9,\"#4d9221\"],[1,\"#276419\"]],\"sequential\":[[0.0,\"#0d0887\"],[0.1111111111111111,\"#46039f\"],[0.2222222222222222,\"#7201a8\"],[0.3333333333333333,\"#9c179e\"],[0.4444444444444444,\"#bd3786\"],[0.5555555555555556,\"#d8576b\"],[0.6666666666666666,\"#ed7953\"],[0.7777777777777778,\"#fb9f3a\"],[0.8888888888888888,\"#fdca26\"],[1.0,\"#f0f921\"]],\"sequentialminus\":[[0.0,\"#0d0887\"],[0.1111111111111111,\"#46039f\"],[0.2222222222222222,\"#7201a8\"],[0.3333333333333333,\"#9c179e\"],[0.4444444444444444,\"#bd3786\"],[0.5555555555555556,\"#d8576b\"],[0.6666666666666666,\"#ed7953\"],[0.7777777777777778,\"#fb9f3a\"],[0.8888888888888888,\"#fdca26\"],[1.0,\"#f0f921\"]]},\"colorway\":[\"#636efa\",\"#EF553B\",\"#00cc96\",\"#ab63fa\",\"#FFA15A\",\"#19d3f3\",\"#FF6692\",\"#B6E880\",\"#FF97FF\",\"#FECB52\"],\"font\":{\"color\":\"#2a3f5f\"},\"geo\":{\"bgcolor\":\"white\",\"lakecolor\":\"white\",\"landcolor\":\"#E5ECF6\",\"showlakes\":true,\"showland\":true,\"subunitcolor\":\"white\"},\"hoverlabel\":{\"align\":\"left\"},\"hovermode\":\"closest\",\"mapbox\":{\"style\":\"light\"},\"paper_bgcolor\":\"white\",\"plot_bgcolor\":\"#E5ECF6\",\"polar\":{\"angularaxis\":{\"gridcolor\":\"white\",\"linecolor\":\"white\",\"ticks\":\"\"},\"bgcolor\":\"#E5ECF6\",\"radialaxis\":{\"gridcolor\":\"white\",\"linecolor\":\"white\",\"ticks\":\"\"}},\"scene\":{\"xaxis\":{\"backgroundcolor\":\"#E5ECF6\",\"gridcolor\":\"white\",\"gridwidth\":2,\"linecolor\":\"white\",\"showbackground\":true,\"ticks\":\"\",\"zerolinecolor\":\"white\"},\"yaxis\":{\"backgroundcolor\":\"#E5ECF6\",\"gridcolor\":\"white\",\"gridwidth\":2,\"linecolor\":\"white\",\"showbackground\":true,\"ticks\":\"\",\"zerolinecolor\":\"white\"},\"zaxis\":{\"backgroundcolor\":\"#E5ECF6\",\"gridcolor\":\"white\",\"gridwidth\":2,\"linecolor\":\"white\",\"showbackground\":true,\"ticks\":\"\",\"zerolinecolor\":\"white\"}},\"shapedefaults\":{\"line\":{\"color\":\"#2a3f5f\"}},\"ternary\":{\"aaxis\":{\"gridcolor\":\"white\",\"linecolor\":\"white\",\"ticks\":\"\"},\"baxis\":{\"gridcolor\":\"white\",\"linecolor\":\"white\",\"ticks\":\"\"},\"bgcolor\":\"#E5ECF6\",\"caxis\":{\"gridcolor\":\"white\",\"linecolor\":\"white\",\"ticks\":\"\"}},\"title\":{\"x\":0.05},\"xaxis\":{\"automargin\":true,\"gridcolor\":\"white\",\"linecolor\":\"white\",\"ticks\":\"\",\"title\":{\"standoff\":15},\"zerolinecolor\":\"white\",\"zerolinewidth\":2},\"yaxis\":{\"automargin\":true,\"gridcolor\":\"white\",\"linecolor\":\"white\",\"ticks\":\"\",\"title\":{\"standoff\":15},\"zerolinecolor\":\"white\",\"zerolinewidth\":2}}},\"title\":{\"text\":\"Embedding Plot with Class Labels\"},\"width\":1200,\"xaxis\":{\"showgrid\":false,\"showticklabels\":false,\"zeroline\":false},\"yaxis\":{\"showgrid\":false,\"showticklabels\":false,\"zeroline\":false}},                        {\"displayModeBar\": false, \"responsive\": true}                    ).then(function(){\n",
       "                            \n",
       "var gd = document.getElementById('de2b8ac6-2029-424e-9728-85c6f0c92037');\n",
       "var x = new MutationObserver(function (mutations, observer) {{\n",
       "        var display = window.getComputedStyle(gd).display;\n",
       "        if (!display || display === 'none') {{\n",
       "            console.log([gd, 'removed!']);\n",
       "            Plotly.purge(gd);\n",
       "            observer.disconnect();\n",
       "        }}\n",
       "}});\n",
       "\n",
       "// Listen for the removal of the full notebook cells\n",
       "var notebookContainer = gd.closest('#notebook-container');\n",
       "if (notebookContainer) {{\n",
       "    x.observe(notebookContainer, {childList: true});\n",
       "}}\n",
       "\n",
       "// Listen for the clearing of the current output cell\n",
       "var outputEl = gd.closest('.output');\n",
       "if (outputEl) {{\n",
       "    x.observe(outputEl, {childList: true});\n",
       "}}\n",
       "\n",
       "                        })                };                });            </script>        </div>"
      ]
     },
     "metadata": {},
     "output_type": "display_data"
    }
   ],
   "source": [
    "init_notebook_mode(connected=True)\n",
    "\n",
    "X = np.vstack(df['glove_embedding'].values)\n",
    "pca = PCA(n_components=2)\n",
    "X_pca = pca.fit_transform(X)\n",
    "\n",
    "hover_plot(X_pca, df)"
   ]
  },
  {
   "cell_type": "markdown",
   "metadata": {},
   "source": [
    "We see poor separation, why? Can we change something?"
   ]
  },
  {
   "cell_type": "code",
   "execution_count": 7,
   "metadata": {},
   "outputs": [],
   "source": [
    "df['SBERT_embedding'] = df['Text'].apply(get_embedding_SBERT)"
   ]
  },
  {
   "cell_type": "code",
   "execution_count": 8,
   "metadata": {},
   "outputs": [
    {
     "data": {
      "application/vnd.plotly.v1+json": {
       "config": {
        "displayModeBar": false,
        "linkText": "Export to plot.ly",
        "plotlyServerURL": "https://plot.ly",
        "showLink": false
       },
       "data": [
        {
         "hoverinfo": "text",
         "marker": {
          "line": {
           "color": "white",
           "width": 0.5
          },
          "size": 15
         },
         "mode": "markers",
         "name": "Class sci.crypt",
         "opacity": 0.7,
         "text": [
          ">In the UK, it's impossible to get approval to attach any crypto device \t>to the phone network.  (An...",
          "t of trawling through archives, I found the post I reproduce in full below.  Is it time to get toget...",
          "-Host: rac2.wam.umd.edu Organization: University of Maryland, College Park Lines: 11  In article <> ...",
          "est Center, University of Hamburg Distribution: na Lines: 33   (Marc Anderson) writes:  > methods.  ...",
          "rn Louisiana Lines: 52   (David Sternlight) writes:  >What follows is my opinion. It is not asserted...",
          "ion: Chaos Lines: 76 X-Newsreader: Archimedes ReadNews  -----BEGIN PGP SIGNED MESSAGE-----  In artic...",
          "Development, IBM Canada Lab. Disclaimer: This posting represents the poster's views, not those of IB...",
          ".edu Organization: University of Texas at San Antonio Distribution: na Lines: 22  In article <>  (An...",
          "tes: >For example, if I had a program on my disk which created totally random >files looking like en...",
          " wiretap chip) Organization: AT&T Bell Laboratories Lines: 66  In article <>, Graham Toal <> writes:...",
          "13 NNTP-Posting-Host: access.digex.net   > Second question: Why!?!? Why is such a strange procedure ...",
          " 16: 47:03 GMT Organization: York U. Student Information Systems Project Lines: 18  Mark Riordan wri...",
          "es: 34  In article <1qg8m2$>  (Edward Vielmetti) writes:   > I would suggest that 50 attractive MIME...",
          " View, CA Lines: 20  In article <>,  (David Sternlight) writes: > ... >                             ...",
          "ication Services (408 241-9760 guest) X-Newsreader: Tin 1.1 PL5 Lines: 28  Besides being an infringe...",
          "rn Louisiana Distribution: na Lines: 25   (douglas craig holland) writes:   >\tWith E-Mail, if they c...",
          " and Global Dynamics Division/NCAR, Boulder, CO Lines: 71  Here are some ideas for those of you who ...",
          "words: Hmm... Organization:  George Mason University, Fairfax Va. Distribution: world  Expires: 06/3...",
          "n: net Lines: 7  I am a PhD student. Can I get the sci.crypt group posted directly to me??? Also I w...",
          "zation: New Technology, Inc. Lines: 53  ( Below is my response to Dr. Denning's letter to Steven Bel...",
          "91711 Lines: 23  In article <>  (Robert Lewis Glendenning) writes: >First, what the fuck is NASA doi...",
          "il-Spec Computers Lines: 43  The M code stream  might be independently attacked based on knowledge o...",
          "H), Zurich, CH Lines: 120  Hmm, followup on my own posting... Well, who cares.  First let me try to ...",
          "s Gateway Lines: 171 NNTP-Posting-Host: cs.utexas.edu  Here are four pseudo-random character generat...",
          "lly -in- the chip, as \topposed to what is allegedly programmed therein, raise yet another trust \tiss...",
          ".com Reply-To:  Organization: Qualcomm, Inc Lines: 37  In article <>,  (Vince Kub) writes: |> Now, |...",
          "Online Communication Services (408 241-9760 guest) Distribution: na Lines: 35  Clipper Chip is a res...",
          "on: na Organization: ClariNet Communications Corp. Lines: 29  In article <1qnn7b$>  (Marcus J Ranum)...",
          "Greenbelt, MD USA Lines: 25 NNTP-Posting-Host: access.digex.net  Okay, let's suppose that the NSA/NI...",
          "etap chip) Lines: 16  : At the company I worked for previously, I received a file that was des encry...",
          "on: ClariNet Communications Corp. Distribution: na Lines: 37  The stragegy of the government is inte...",
          "-Posting-Host: sunspot.ece.clarkson.edu Cc: tuinstra   Q:   Who was consulted?  The Congress?  Indus...",
          " Texas - Austin Lines: 53 NNTP-Posting-Host: tramp.cc.utexas.edu Originator:    In article <>,  (Phi...",
          " would be to make PGP available : in some form on EBCDIC machines.  Don't encourage them.  Let EBCDI...",
          "e Design Automation Lines: 17       Notwithstanding all the legitimate fuss about this proposal, how...",
          "reader: TIN [version 1.1 PL7] Lines: 41  Charles Kincy () wrote: :  : All I have to say is...yeah, r...",
          "s:  >But do we really believe that the various governments >(including ours) won't have the full lis...",
          " Performance Group, Austin, TX X-Newsreader: rusnews v1.01 Lines: 17   (Steve Brinich) writes:  >  >...",
          "u by the numbers 2, 3, and 7 In-Reply-To: 's message of 19 Apr 93 18:23:27 -0400 Nntp-Posting-Host: ...",
          "ribution: world NNTP-Posting-Host: jfenton.kaleida.com X-UserAgent: Nuntius v1.1.1d12 X-XXMessage-ID...",
          "desparately* prefer it if we didn't rehash the same arguments that went on ad infinitum last time.  ...",
          "ganization: NASA Science Internet Project Office Lines: 24    |>    The Attorney General will procur...",
          "(Brad Templeton)  \tLet's assume, for the moment, that the system really is secure unless \tyou get bo...",
          "an old posting about CELP speech compression:  \tIn case you'd like to experiment with CELP, you can ...",
          " 29  In <>  (John R. Levine) writes: (quoting someone else here)  >>The cryptographic protocol, thou...",
          "orm the voice compression/expansion.  They can't : be expensive, because they exist in many phones c...",
          "ganization: University of Colorado, Boulder Distribution: na Lines: 11  I change login passwords eve...",
          "rsity of Colorado, Boulder Distribution: na Lines: 32  In article <>  (Marc Anderson) writes: [...] ...",
          "lt, MD USA Lines: 10 NNTP-Posting-Host: access.digex.net    I suspect that the decisive element in t...",
          "ns, Greenbelt, MD USA Lines: 7 NNTP-Posting-Host: access.digex.net   > er, excuse me but since the e...",
          "ost: qualcom.qualcomm.com Organization: Qualcomm, Inc., San Diego, CA Distribution: na Lines: 8   (J...",
          "ilink Corporation, Petaluma, CA Lines: 19  In article <>,  (David Sternlight) writes: >  > Chances a...",
          ". - Genetics Lines: 30  In article <>,  (Vesselin Bontchev) wrote: >  >  (Andrew Haley) writes: >  >...",
          "tion: na Lines: 13  >>\tWith E-Mail, if they can't break your PGP encryption, they'll just >>call up ...",
          "t. of Math, Harvard Univ. Nntp-Posting-Host: zariski.harvard.edu Lines: 33  In article <1ppg02$>   (...",
          "tap chip) In-Reply-To: 's message of Wed, 21 Apr 1993 13:23:18 GMT Nntp-Posting-Host: epcot.harlequi...",
          "IN [version 1.1 PL6] Lines: 35  I guess the cryptowranglers read this group too.  But of course I kn...",
          "20  In article <>,  (D. J. Bernstein) writes: > Short summary of what Bellovin says Hellman says the...",
          "g-Host: beethoven.cs.colostate.edu Organization: Colorado State University, Computer Science Departm...",
          "st: pizzabox.demon.co.uk Reply-To: Graham Toal <> Organization: Cuddlehogs Anonymous Lines: 9  In ar...",
          "nstruments, Inc. Nntp-Posting-Host: dsg4.dse.beckman.com Lines: 22  In <>  (Jonathan Eifrig) writes:...",
          "Fairfax VA Distribution: na Lines: 65   (Timothy C. May) writes:  >Brad Templeton () wrote: >: It oc...",
          "al Sciences Lines: 29 Distribution: inet NNTP-Posting-Host: moink.nmsu.edu  In article <>  (1016/2EF...",
          " Systems Corporation - Herndon, VA  USA Lines: 30 Distribution: world Reply-To:  (Amanda Walker) NNT...",
          "ogy (ETH), Zurich, CH Lines: 28  In article <1qv83m$>  (Jim McCoy) writes: >\tI set up a bbs that use...",
          "Nntp-Posting-Host: zariski.harvard.edu Lines: 55  In article <>   (D. J. Bernstein) writes: > >I wan...",
          "TP server at csrc.ncsl.nist.gov no longer \trecognizes the 'expn' and 'vrfy' commands...  \t   telnet ...",
          " chip) Organization: CSRI, University of Toronto Lines: 31  In article <>  (John Kelsey) writes: >  ...",
          "Access UNIX/Internet Project Lines: 16  In article <>  (Peter Gutmann) writes: [article deleted] > >...",
          "ation - Herndon, VA  USA Lines: 68 Distribution: world Reply-To:  (Amanda Walker) NNTP-Posting-Host:...",
          "WPI; Marlboro Ma Lines: 35  In article <1qn1ic$>  (Peter Wayner) writes: >Okay, let's suppose that t...",
          "thoughts Lines: 7  The cryptographic algorythm MUST be kept secret, or private individuals could mak...",
          "mino theory was right... Organization: Chinet - Public Access UNIX Distribution: na Lines: 8  In art...",
          "mputing of WPI; Marlboro Ma Distribution: na Lines: 26  In article <> Graham Toal <> writes: >In art...",
          "Laboratories, Inc., San Diego, California Lines: 15  In article <> Graham Toal <> writes: >I am *com...",
          "ap, clipper, key-escrow, Mykotronx Organization: Banzai Institute Lines: 19 Nntp-Posting-Host: mycro...",
          "Center, University of Hamburg Lines: 23   (David Sternlight) writes:  > I will provide one hint: it ...",
          "ity Lines: 22  In article <> Rick Miller <> writes: > (Jurgen Botz) writes: >> (Marc Horowitz N1NZU)...",
          "  Here is a disturbing thought.  Now, we no longer live in the days of big filing cabinets. We live ...",
          ": 27 NNTP-Posting-Host: nuustak.csir.co.za X-Disclaimer: None of the opions expressed herein are the...",
          "rtin University of Technology  In article <>,  (Steve Johnson) writes: >  (Brad Templeton) writes: >...",
          " capriccioso X-Newsreader: TIN [version 1.1 PL6] Distribution: na Lines: 54  I am eager to hear the ...",
          "le <1r0nov$>  (Steve Brinich) writes:   > > 1. American manufacturers peddling Cripple Chips with a ...",
          "presents the poster's views, not necessarily those of IBM. Nntp-Posting-Host: kingbee.watson.ibm.com...",
          "etap chip) Organization: Computing Research Lab Lines: 36 \t<> \t<> <> NNTP-Posting-Host: lole.nmsu.ed...",
          "t Omaha Distribution: na Lines: 18   (Geoffrey Kuenning) writes:  >It always amazes me how quick peo...",
          " chips for phones, not computer-bound station)_ Article-I.D.: agora.C5qy3M.DE3 Organization: Open Co...",
          "of Math, Harvard Univ. Nntp-Posting-Host: zariski.harvard.edu Lines: 27  In article <>  (Paul Crowle...",
          "! Nntp-Posting-Host: qualcom.qualcomm.com Organization: Qualcomm, Inc., San Diego, CA Distribution: ...",
          "bistromath.mitre.org Organization: The MITRE Corporation Lines: 41  In article <>  (David Sternlight...",
          "Communications, Greenbelt, MD USA Lines: 6 Distribution: na NNTP-Posting-Host: access.digex.net    F...",
          "-Mailer: Simple NEWS 1.90 (ka9q DIS 1.19) Lines: 23  In article <>  writes:  >since the price of 1.4...",
          "e conservation of momentum Distribution: na Lines: 65  In article <>  (Jerry Han) writes: >In articl...",
          "ribution: na Lines: 47   (Jerry Han) writes: > The point of the matter is that; yes this is a seriou...",
          "istribution: inet Reply-To:  NNTP-Posting-Host: minerva.cis.yale.edu X-Newsreader: TIN [version 1.1 ...",
          "ut a box that you plug your phone into, which would allow \t>encrypted voice communications with some...",
          " wiretap chip) Organization: AT&T Bell Laboratories Lines: 28  In article <>,  (James R Ebright) wri...",
          "ost: beethoven.cs.colostate.edu Organization: Colorado State University, Computer Science Department...",
          " I am testing IDEA block cipher implementations for correctness and needs some golden test vectors. ...",
          ", wiretap, clipper, key-escrow, Mykotronx Nntp-Posting-Host: top.magnus.acs.ohio-state.edu Organizat...",
          "ed Systems Architecture   \tI have a bunch of questions about the encryption scheme referenced in the...",
          "Communications, Greenbelt, MD USA Lines: 5 Distribution: na NNTP-Posting-Host: access.digex.net   > ...",
          "edu Organization: University of Missouri - Rolla, Rolla, MO Lines: 19  In article <>  (Bob Cain) wri...",
          "ting-Host: eff.org Organization: The Electronic Frontier Foundation Lines: 26  Clipper might be a go...",
          "a.edu Organization: UCLA, Computer Science Department Distribution: na Lines: 18  In article <>  (Pa...",
          "ion: Engineering Computer Network Distribution: na Lines: 27  In article <>,  (Brad Templeton) write...",
          "y-To:  Organization: Design Automaton Div., Texas Instruments, Inc. Lines: 36  > (Andrew Molitor) wr...",
          "r, Minneapolis, MN Lines: 18  I agree that notifying your elected officials of your feelings on this...",
          "41-9760 guest) X-Newsreader: Tin 1.1 PL5 Lines: 41  Perry E. Metzger () wrote: : Here is a disturbin...",
          "N [version 1.1 PL6] Lines: 84  *** SOURCE code to Macintosh PGP 2.2 now available via anonymous FTP ...",
          " DSI/USCRPAC Lines: 39  In article <>  (Derek Atkins) writes:   > >The point here is not the specifi...",
          "41     Organization: Mission Operations and Data Systems Distribution: na Lines: 44  In article <1qn...",
          " The MITRE Corporation Lines: 67  In article <>  (Carl M Kadie) writes: > (Andrew S Hall) writes: > ...",
          "Thu, 20 May 1993 00:00:00 GMT Organization: Computer Science, Indiana University Lines: 163 Content-...",
          ": 21 NNTP-Posting-Host: scss3.cl.msu.edu X-Newsreader: TIN [version 1.1 PL8]  For those of you looki...",
          "ration - Herndon, VA  USA Lines: 35 Distribution: world Reply-To:  (Amanda Walker) NNTP-Posting-Host...",
          "s! Organization: Kubota Pacific Computer, Inc. Lines: 46   (Brad Yearwood) writes: | If Clipper come...",
          "13  In article <>  (Phil Karn) writes: >It looks like Dorothy Denning's wrong-headed ideas have gott...",
          " 139  The following document summarizes the Clipper Chip, how it is used, how programming of the chi...",
          "tion: Partnership for an America Free Drug Distribution: na Lines: 104   (Robert Ward) writes: >In a...",
          " In article <:  (Peter Trei) writes: :Judge: \"I grant you immunity from whatever may be learned from...",
          "ll Square Research Corp. Lines: 20   (Steve Johnson) writes: >>-Tim May, whose sig block may get him...",
          "anization: Beckman Instruments, Inc. Nntp-Posting-Host: dsg4.dse.beckman.com Lines: 15  In <>  (Jame...",
          "993 04:00:07 GMT Reply-To:  NNTP-Posting-Host: pad-thai.aktis.com Summary: Part 3 of 10 of the sci.c...",
          " IA, USA Lines: 43   (Philip Zimmermann) writes:  Philip, I think your ideas are well taken and cons...",
          "ines: 23  In article <>  (Kenneth Ng) writes: >In article <:  (Peter Trei) writes: >:Judge: \"I grant...",
          "ganization: Thibault & Friends Lines: 10  In article <>  (The Jester) writes:   > Proof Windows is a...",
          "g read the various \"Clipper\" announcements on the net over the last few  days and a LOT of uninforme...",
          "tap chip) Organization: Harvey Mudd College, Claremont, CA 91711 Lines: 15  In article <>  (Steven B...",
          "f Comp. Sci., Urbana, IL Lines: 18   (Tal Kubo) writes:  [...] >The EFF has been associated with eff...",
          "04:00:07 GMT Reply-To:  NNTP-Posting-Host: pad-thai.aktis.com Summary: Part 2 of 10 of the sci.crypt...",
          "7:40:17 GMT Nntp-Posting-Host: l-b-johnson.eff.org Organization: Electronic Frontier Foundation X-Us...",
          "te of Technology (ETH), Zurich, CH Lines: 19  In article <>  (Graham Toal) writes: >Can someone tell...",
          "ution: na Lines: 26  In article <>  (Karl Barrus) writes:  > >Would you trust a black-box from the N...",
          "Inc. Lines: 38 Nntp-Posting-Host: signal.ece.clarkson.edu  [Apologies for not posting to alt.clipper...",
          "0:07 GMT Reply-To:  NNTP-Posting-Host: pad-thai.aktis.com Summary: Part 1 of 10 of the sci.crypt FAQ...",
          "urgh University Distribution: inet Lines: 12  Quoting  in article <>: >Perhaps these encryption-only...",
          ". Sci., Urbana, IL Lines: 42   (Andrew S Hall) writes:  >I am postive someone will correct me if I a...",
          "nes: 27 Distribution: na \t<> NNTP-Posting-Host: menudo.uh.edu In-reply-to: 's message of Sun, 18 Apr...",
          "a Organization: Totally Unorganized Lines: 17  In article <1r21t1$>  (Steve Brinich) writes: < < > I...",
          "Universitaetsrechenzentrum, Heinrich-Heine-Universitaet, Duesseldorf Lines: 40 NNTP-Posting-Host: la...",
          "nication Services (408 241-9760 guest) Lines: 61  In article <>  (Robin Hanson) writes: >I'm attempt...",
          "e <>  writes: < (David Sternlight) writes: < <> Here's a simple way to convert the Clipper proposal ...",
          "ni-kl.de Organization: University of Kaiserslautern, Germany Lines: 39   (Stephan Neuhaus (HiWi Matt...",
          ".citicorp.com X-Newsreader: TIN [version 1.1 PL6]  As of yet, there has been no description of the g...",
          "n: GeoQuest System, Inc. Houston Lines: 17  In article <>  (Perry E. Metzger) writes: > >each of the...",
          "In article <>,  (Vernon Schryver) writes: > In article <>,  (David Sternlight) writes: >>           ...",
          " Systems Corporation - Herndon, VA  USA Lines: 34 Distribution: world Reply-To:  (Amanda Walker) NNT...",
          "ngland Lines: 25  -----BEGIN PGP SIGNED MESSAGE-----  Hi all..  Does anyone know of a UNIX utility a...",
          "8 NNTP-Posting-Host: ellisun.sw.stratus.com Keywords: cooperation  In article <>  writes: >say, can ..."
         ],
         "type": "scatter",
         "x": [
          0.3619895279407501,
          0.29611989855766296,
          0.3798675239086151,
          0.43690308928489685,
          0.5080193281173706,
          0.4112434685230255,
          0.5548969507217407,
          0.2886313498020172,
          0.2085956484079361,
          0.3853326141834259,
          0.1870744675397873,
          0.0068153394386172295,
          0.033251598477363586,
          0.14878614246845245,
          0.3655679523944855,
          0.4049310088157654,
          0.3578945994377136,
          0.5839844346046448,
          0.1944308578968048,
          0.2538604140281677,
          0.27731892466545105,
          0.4570673406124115,
          0.45059338212013245,
          0.012788054533302784,
          0.3812672197818756,
          0.3374846577644348,
          0.5158757567405701,
          0.5359349250793457,
          0.45430588722229004,
          0.29275593161582947,
          0.5701317191123962,
          0.43308717012405396,
          0.12982021272182465,
          0.04146270826458931,
          0.48002707958221436,
          0.2824181616306305,
          0.5739378929138184,
          0.13564974069595337,
          0.3574618101119995,
          0.367592453956604,
          0.39785194396972656,
          0.5319212079048157,
          0.5433924794197083,
          0.19771167635917664,
          0.5141030550003052,
          0.3358733355998993,
          0.3480771481990814,
          0.1614539474248886,
          0.4087317883968353,
          0.3305850327014923,
          0.22812071442604065,
          0.48391279578208923,
          -0.01919655315577984,
          0.216249480843544,
          0.3247372806072235,
          0.3448055684566498,
          0.23971720039844513,
          0.41523274779319763,
          0.4530714154243469,
          0.15168863534927368,
          0.2706272602081299,
          0.5103638768196106,
          0.40849941968917847,
          0.5546751022338867,
          0.35160574316978455,
          0.3219372630119324,
          0.18725043535232544,
          0.5458387136459351,
          0.08115321397781372,
          0.43409493565559387,
          0.5372514128684998,
          0.5240863561630249,
          0.11398983001708984,
          0.3758038282394409,
          0.08406820148229599,
          0.5408084988594055,
          0.27132299542427063,
          0.08421048521995544,
          0.35412898659706116,
          0.2869574725627899,
          0.46121254563331604,
          0.4336051940917969,
          0.3559516966342926,
          0.32420045137405396,
          0.3074243366718292,
          0.3570694327354431,
          0.5901880264282227,
          0.33653444051742554,
          0.22904114425182343,
          0.4523997902870178,
          0.09169212728738785,
          0.1664128601551056,
          0.04752988740801811,
          0.10907584428787231,
          0.3121201992034912,
          0.4238399863243103,
          0.39190343022346497,
          0.6183822751045227,
          0.027081746608018875,
          0.45062077045440674,
          0.20360349118709564,
          0.2484927922487259,
          0.2597392797470093,
          0.4102106988430023,
          0.25756749510765076,
          0.5053077340126038,
          0.2580731213092804,
          0.18092241883277893,
          0.393198698759079,
          0.07220630347728729,
          0.5503166317939758,
          0.46519917249679565,
          0.3369132876396179,
          0.2020740807056427,
          -0.021254461258649826,
          0.5612450242042542,
          0.5494554042816162,
          0.07614076882600784,
          0.5792850852012634,
          0.18425340950489044,
          0.32450157403945923,
          0.33705803751945496,
          0.36173439025878906,
          0.1542380452156067,
          0.35069990158081055,
          0.2529226243495941,
          0.11778812110424042,
          0.49624067544937134,
          0.47986844182014465,
          0.1963614821434021,
          0.21685460209846497,
          0.1921217292547226,
          0.24327753484249115,
          0.39556342363357544,
          0.5066112875938416,
          0.3013162612915039,
          0.31250038743019104,
          0.37701326608657837,
          0.3473871052265167,
          0.28869959712028503,
          0.3559902608394623,
          0.38765692710876465,
          0.5262153744697571,
          0.17608223855495453,
          0.3851146101951599,
          0.3982657790184021,
          0.4004369378089905,
          0.35218867659568787,
          0.2152498960494995,
          0.35923299193382263
         ],
         "y": [
          0.021218599751591682,
          0.06609833985567093,
          -0.21539776027202606,
          -0.2776796817779541,
          -0.1456919014453888,
          -0.17482182383537292,
          -0.18691407144069672,
          -0.11299307644367218,
          -0.1298842877149582,
          -0.04289902746677399,
          -0.04525081440806389,
          0.18531692028045654,
          -0.022959526628255844,
          -0.10786167532205582,
          -0.05258304253220558,
          -0.05044211819767952,
          -0.05472796410322189,
          -0.23480264842510223,
          0.11809271574020386,
          -0.1327686458826065,
          0.11390648782253265,
          -0.08195535093545914,
          -0.033244285732507706,
          0.04497647285461426,
          -0.1941913515329361,
          -0.15658949315547943,
          -0.12529979646205902,
          -0.23141837120056152,
          -0.1803385317325592,
          -0.021667880937457085,
          -0.15600712597370148,
          -0.07097476720809937,
          -0.37845465540885925,
          0.11995413154363632,
          -0.08359681069850922,
          -0.017104586586356163,
          -0.144870787858963,
          0.01535931695252657,
          -0.0047697522677481174,
          -0.2597179710865021,
          -0.056727807968854904,
          -0.1364172399044037,
          -0.20824512839317322,
          0.1237710565328598,
          -0.11117848753929138,
          0.08744844049215317,
          -0.09413246810436249,
          -0.32991862297058105,
          -0.20029538869857788,
          -0.11258652806282043,
          -0.06718973815441132,
          -0.16998717188835144,
          -0.11987236887216568,
          0.059181854128837585,
          -0.1315087527036667,
          0.0034554891753941774,
          -0.16073037683963776,
          -0.11823943257331848,
          -0.22555600106716156,
          0.0315178781747818,
          -0.0895027369260788,
          -0.16543015837669373,
          -0.12024594843387604,
          -0.15911664068698883,
          -0.19753870368003845,
          -0.08913682401180267,
          -0.09910757094621658,
          -0.1434294730424881,
          -0.09294629096984863,
          0.007213747128844261,
          -0.17853185534477234,
          -0.13915657997131348,
          -0.03620166331529617,
          -0.07523855566978455,
          -0.09805135428905487,
          -0.10261937975883484,
          -0.08800152689218521,
          -0.037061907351017,
          -0.0966847762465477,
          0.06941895186901093,
          -0.16735902428627014,
          -0.21841885149478912,
          -0.16129346191883087,
          -0.12391918152570724,
          -0.09036688506603241,
          -0.127074733376503,
          -0.20406359434127808,
          -0.23785564303398132,
          -0.25050973892211914,
          -0.250286728143692,
          0.0881555899977684,
          0.09295958280563354,
          -0.13667388260364532,
          -0.09772851318120956,
          -0.20006884634494781,
          -0.05701865628361702,
          -0.004849905613809824,
          -0.0996798649430275,
          0.07925477623939514,
          -0.18787305057048798,
          -0.04757535085082054,
          -0.07632371038198471,
          -0.18165065348148346,
          -0.2204878330230713,
          -0.10036004334688187,
          -0.27029693126678467,
          -0.07876406610012054,
          0.02506815455853939,
          -0.18129941821098328,
          0.05436663702130318,
          -0.24562561511993408,
          -0.13337630033493042,
          -0.32043835520744324,
          -0.062230873852968216,
          0.10715378075838089,
          -0.15589694678783417,
          -0.2159135490655899,
          -0.12163709849119186,
          -0.08044279366731644,
          -0.15645968914031982,
          -0.2950279414653778,
          -0.21589933335781097,
          -0.05209210887551308,
          0.047524288296699524,
          -0.12709061801433563,
          -0.26795461773872375,
          -0.07093320786952972,
          -0.05053303390741348,
          -0.03567555546760559,
          -0.19271515309810638,
          0.020118599757552147,
          0.028085606172680855,
          0.10306340456008911,
          -0.1186923086643219,
          -0.1465279757976532,
          0.04091964289546013,
          -0.16471731662750244,
          -0.3788893222808838,
          -0.09550313651561737,
          -0.13529744744300842,
          0.03835488110780716,
          0.003537180367857218,
          -0.18132545053958893,
          -0.16304077208042145,
          -0.03768689185380936,
          0.06977081298828125,
          -0.05307913199067116,
          0.016898922622203827,
          -0.139584481716156,
          -0.18288125097751617
         ]
        },
        {
         "hoverinfo": "text",
         "marker": {
          "line": {
           "color": "white",
           "width": 0.5
          },
          "size": 15
         },
         "mode": "markers",
         "name": "Class sci.electronics",
         "opacity": 0.7,
         "text": [
          "ity of Minnesota, Duluth Lines: 28 NNTP-Posting-Host: ua.d.umn.edu  In article <>  (Bijan Mobasseri)...",
          "tern Reserve University, Cleveland, Ohio (USA) Lines: 45 NNTP-Posting-Host: slc10.ins.cwru.edu     A...",
          "8-241-9760 login: guest) Lines: 25   (Neal Patrick Howland) writes: > >From what I understand about ...",
          " of Illinois at Urbana Lines: 14  As the subject says - Can I use a 4052 for digital signals?  I don...",
          "17    I would like to be able to amplify a voltage signal which is output from a thermocouple, prefe...",
          "rt Collins Site X-Newsreader: TIN [version 1.1 PL8.5] Lines: 5  Has anyone ever heard of FET-TRONS (...",
          "mulation Organization: Harris Controls Lines: 18   I recently ftp'd Al's Circuit Simulator (ACS) and...",
          "zation: Medical Informatics, Pittsburgh, PA USA Lines: 33   \tGreetings. I've been seeing the word \"s...",
          "ceiver system Organization: National Hospitals, Iceland Lines: 19   Dear Netters I want to send EMG-...",
          "ology Hatley & Pirbhai ? I am a British final year real-time degree student, and as a project I am c...",
          "t Imag, Grenoble, France Lines: 38  In article <>,  (Ketil Albertsen,TIH) writes: |> In article <>, ...",
          " 8 News-Software: VAX/VMS VNEWS 1.41 Nntp-Posting-Host: ubvmsb.cc.buffalo.edu   \tHow does the radio ...",
          "echnological University X-Newsreader: TIN [version 1.1 PL8] Lines: 21  Charlie Brett () wrote: : You...",
          "ersity, St. Louis MO Lines: 88  In article <>  (Stan Burton) writes: > >-- > >I would like to be abl...",
          ". Keywords: pattern Summary: MDA/EGA/VGA pat. gen. Lines: 15  I repair a lot of monitors here, and I...",
          "tion, Huntsville AL Lines: 25  In article <>,  (Michael DeAddio) writes:  |> |> The 'beam' is split ...",
          " We have a setup with with 13 polaroid transducers and rangefinders. We would like to fire these thr...",
          " 12   (Ronald W. Butts, Jr.) writes:  >I am looking for suppliers of 900MHz spread spectrum radio mo...",
          "Hz, problems (FPU exception) Nntp-Posting-Host: prawn.sp.ph Organization: Imperial College of Scienc...",
          " In article <>  writes: >In article <>,  (Russ Crisp) writes: >> I'm considering modernizing some ol...",
          "s: 10   In article <>, Joseph Chiu writes:  > The Ohmite company was the first to characterize resis...",
          "es (408-241-9760 login: guest) Lines: 32  Sci.E(E) netters:  I am setting out to build and market a ...",
          "edu Organization: Michigan Technological University Lines: 32  In article <>,  (Russ Crisp) wrote: >...",
          ": TIN [version 1.1 PL8] Lines: 15   Hi there  Does anyone know how to get hold of data as well as st...",
          "4  Can anybody recommend a good, application-oriented beginner's reference to RF circuits?    I am p...",
          "0  Does any one know if the 6551 is timing/pin compatible with the 6551..  It seems the 6551 has in ...",
          "MM> (Martin McCormick) MM>Organization: Oklahoma State University, Stillwater, OK MM>\tWhat sort of l...",
          "rganization: Chalmers University of Technology, Gothenburg Sweden Lines: 10  Does anybody know anyth...",
          " Hewlett-Packard X-Newsreader: TIN [version 1.1 PL8.9] Lines: 8  While driving through the middle of...",
          "ple that are interested in every aspect of the 2600 try the zine:  2600 connection $1 cash to : Timo...",
          "niversity  Lines: 12  Since I have seen various different numbers to dial to get your number read ba...",
          "rticle <>  (Billy Quinn) writes: >I built a little project using the radio shack 5vdc relays to swit...",
          "anization: SDSU - LARC Lines: 16 NNTP-Posting-Host: larc.sdsu.edu  In article <>,  (Scott Townsend) ...",
          "nto Zoology Lines: 13  In article <>  (Michael Golan) writes: >The board itself is also identical, w...",
          ": na Organization: APG-Edgewood, MD, USA Lines: 26   PLease take these and use them.  Take advantage...",
          "atik Nntp-Posting-Host: schroeder.ifi.unibas.ch Lines: 11  Great, the first advantage of cheap coax,...",
          "y-To:  Organization: New York University Lines: 13  I'm looking to build a microphone preamp that ha...",
          "Lines: 12  Any info on modern 20MHZ or better dual trace scopes would be appreciated. Should I buy a...",
          "cation Services (408 241-9760 guest) Lines: 25   I had a similar idea, for a fax/answering machine s...",
          "derbyl) Organization: MPR Teltech Ltd. Lines: 30   writes: >Initial symptoms: >-no picture or sound ...",
          "In article <>  (Stephe Lewis Foskett) writes: > >I'm doing sound for a couple of bands around here a...",
          "Organization: Utah State Univ. EE Nntp-Posting-Host: sol.ee.usu.edu Lines: 32  In article <>,  (Robe...",
          "Services (408 241-9760 guest) Distribution: usa Lines: 19   I bought this chip from Suncoast Technol...",
          "ton University, St. Louis MO Lines: 32  In article <>  (J. Babb) writes: >Fellow Info-junkies, >  I ...",
          "AI Programs, University of Georgia, Athens Lines: 13  You can get a *little* UV by putting a heavy U...",
          " University In-Reply-To: 's message of Mon, 19 Apr 93 00:38:00 GMT X-News-Reader: VMS NEWS 1.24 Line...",
          "g-Host: hpctdkz.col.hp.com  >   Does anybody out there have one of those food dehydrators I've been ...",
          "is  In <>  (Ketil Albertsen,TIH) writes:  >May we interpret this as an offer to volunteer as editor ...",
          "e-Hulman Lines: 14 NNTP-Posting-Host: g222-26.nextwork.rose-hulman.edu Keywords: 68hc16  In article ...",
          "truments Inc. Nntp-Posting-Host: 134.217.245.87 Lines: 11  Does anyone know of an FTP site where I m...",
          "ut how to build a cheap, low resolution (or high :-) video projector...   (example: a LCD and an sli...",
          "on: University of Wales, Aberystwyth Lines: 23  I have a Fujitsu M2322K which has been removed (I be...",
          "tion: Reed College, Portland, Oregon Lines: 36  In article <>  (Babak Sehari) writes: >--- > >I was ...",
          "nter, Chandler Arizona Lines: 17  In article <>,  (Brad Kepley) writes: |> I just heard an unbelieva...",
          "zation: Geophysical Institute, Fairbanks, AK Lines: 21   I would be interested in hearing from anyon...",
          " Technology, Pasadena Lines: 8 NNTP-Posting-Host: fleming.caltech.edu  I was wondering if anyone kno...",
          "untsville AL Lines: 41  In article <>,  (Mark Zenier) writes: |> Zack Lau () wrote: |> : In sci.elec...",
          "rds: JUMPER SETTINGS DIP-SWITCH SETTINGS, HELP, COMPUTER 386SX Organization: National Federation of ...",
          "-Host: grv.grace.cri.nz Lines: 37  From:\tMX%\"\"  6-APR-1993 06:48:34.96 To:\tSRGXNBS CC:\t Subj:\tRe: I^...",
          "tion: Rhodes University, Grahamstown, South Africa Lines: 44 X-Newsreader: TIN [version 1.1 PL8]  : ...",
          "sche Nachrichtentechnik Lines: 41  This is for a friend of mine. Please send answers directly to him...",
          "nes: 54   Yes, I know it's nowhere near Christmas time, but I'm gonna loose Net access in a few days...",
          "ganization: University of Washington, Seattle Lines: 18 NNTP-Posting-Host: carson.u.washington.edu  ...",
          "o:  Organization: Univ. of Lowell CS Dept. Lines: 6  I suggest that misc.consumer.house is a better ...",
          "le <>  (Wayne Smith) writes: >>No restriction was placed >>on receiving RADAR (or, curiously, cordle...",
          "d Reptile Farm Lines: 20 NNTP-Posting-Host: grissom.larc.nasa.gov  In article <>  (C.M. Hicks) write...",
          "a Organization: University of Calgary Lines: 13  Last week I asked for help in getting an old homema...",
          "erve University, Cleveland, Ohio (USA) Lines: 25 NNTP-Posting-Host: slc10.ins.cwru.edu   I recently ...",
          "f Technology Lines: 11  In article <>  (Sean Oliver) writes: >> Joseph Mich Krzeszewsk writes: >>   ...",
          "ld Organization: University of Washington, Seattle Lines: 25 NNTP-Posting-Host: carson.u.washington....",
          "opy of \"8088 Assembler Language Programming: The IBM PC\" by Willen and Krantz, 2nd ed. pub. by Sams,...",
          "stralia Lines: 14 NNTP-Posting-Host: mackerel.gu.uwa.edu.au  Well here in Australia you dial  11544 ...",
          "Thomson) writes: > Joseph Chiu () wrote: >  > : And the measure of current, Amp, is actually named a...",
          "Laboratory Lines: 15 NNTP-Posting-Host: travis.llnl.gov  In article <>,  (David Glen Jacobowitz) wri...",
          "ation: Hewlett-Packard Lines: 31 X-Newsreader: TIN [version 1.1.4 PL6]  william burchill () wrote: :...",
          "A Lines: 8  In article <>  (David F. Newman) writes: >Subject: arcade style buttons and joysticks >C...",
          "chnology, Finland Lines: 17 \t<> \t<1ptolq$> NNTP-Posting-Host: lk-hp-11.hut.fi In-reply-to: 's messag...",
          "ogical University - Singapore   currently I am using the 8051 microcontroller with external eprom.. ...",
          "leans, France. Lines: 9      Hi All!     I would like to know what are the popular ICs of the type, ...",
          "-1607 Lines: 43   (Bob Myers) writes:  > > I am looking for any info I can get on the NEC 3D monitor...",
          "etNews abusers - Beltway Annex Lines: 19 Reply-To:  (David Lesher) NNTP-Posting-Host: skybridge.scl....",
          "ion: SLAMDANZ CYBRNETX Lines: 13  Anyone know a reasonable circuit for programming PALs?  I am inter...",
          "US), U of Stuttgart, FRG Lines: 38 NNTP-Posting-Host: pc8.izfm.uni-stuttgart.de  Hi! In article <>  ...",
          "puter Group, Tempe, Az. Distribution: usa Lines: 9    Does anybody out there have one of those food ...",
          "on: usa Organization: Triacus Inc. Lines: 26 Nntp-Posting-Host: mars.calstatela.edu  Recently, my vi...",
          " grade science report Distribution: usa Organization: Boeing Computer Services (ESP), Seattle, WA Li...",
          "Host: wu2.wl.aecl.ca Organization: AECL Research, Whiteshell Laboratories Distribution: na Lines: 25...",
          "anization: CSIR Lines: 15 NNTP-Posting-Host: 146.64.23.16 X-Disclaimer: None of the opions expressed...",
          "Annex Lines: 24 Reply-To:  (David Lesher) NNTP-Posting-Host: skybridge.scl.cwru.edu  Others said: {e...",
          "According to my TI databook, the pinouts for the TIL311 display are as follows:    Pin 1 - LED suppl...",
          "andy.com!pauls    Apr 21 09:31:00 1993 Lines: 6   Motorola has a good app note on a 10 band equalize...",
          "onto Distribution: na Lines: 11  The subject line says it all. I'm working on a project that will us...",
          "&ROMs with ALE latches (for 8051's) Lines: 28   (Steve Pope) writes:  >In article <>  (j. pethybridg...",
          "p-Posting-Host: cimill  In article <>,  (Peter Tryndoch) writes... >AllThe Devil ReincarnateSWR mete...",
          "ege of Medicine Lines: 19  If the set is direct line powered, try checking the [likely to be there] ...",
          "ticle <>  (G. Stewart Beal) writes: >In article <>  (Jason Haines) writes: >> >>\tI was wondering if ...",
          ": 19  Hi, I've got a PACE MODEM , Series Four 2400s ( made in England by PACE Micro Technology ) wit...",
          " S. Williamson) Organization: NCR E&M Columbia, SC Lines: 17  In article <>  (Robert Canright) write...",
          "ization:  Colorado Concert Sound Lines: 25  In article <>  (TOM WAGNER, Wizzard of old Audio/Visual ...",
          "ch Lines: 15  Hi !!!  Is there somebody using a 56001 DSP from Motorola ??? I am searching for progr...",
          "se-Hulman Lines: 11 NNTP-Posting-Host: g222-26.nextwork.rose-hulman.edu  In article <>  (Jason   Hai...",
          "Australia. Lines: 19 Distribution: world NNTP-Posting-Host: macadam.mpce.mq.edu.au Originator:    We...",
          "stribution: na NNTP-Posting-Host: hardy.u.washington.edu Summary: Address or phone number for subscr...",
          "ion: The Northern Lights BBS, Portland, ME  * 207-761-4782 * Lines: 7 X-Newsreader: ZipNews Reader/M...",
          "r and Reptile Farm Lines: 16 NNTP-Posting-Host: grissom.larc.nasa.gov  In article <>  writes: > >Gre...",
          "oration Wichita, KS Lines: 14   (Victor Laking) writes:  )Do you know what frequencies chanels 17 to...",
          "21            On an A/D board I've got, I'm using the A/D lines.  It measures  the voltages properly...",
          ": University Of Alberta, Edmonton Canada Lines: 28   (Daniel J Rubin) writes:  >How hard would it be...",
          "1   (Joel Kolstad) writes:  > In article <>  > > > >If you are going to use one where it counts (eg:...",
          "26 X-Newsreader: TIN [version 1.1 PL8]  Frank Hielscher () wrote: : The PADS*.ZIP files contain subd...",
          "y of Minnesota Lines: 18  I have a stereo compressor-limiter by  Audio Logic (Model MT-66).  The gat...",
          "-9760 guest) Lines: 20  In article <>  (Brian Day) writes: > (COLE) writes: > >>I would like to expe...",
          "ege, Hanover, NH Lines: 12  We are Dartmouth engineering students.We are looking for documented data...",
          "9 Distribution: world NNTP-Posting-Host: grissom.larc.nasa.gov  I have a MOSFET pulled out of a Tryg...",
          "stribution: world NNTP-Posting-Host: rosie.uh.edu Keywords: Motorola, FPU, 68882, 68030, 33/50 MHz, ...",
          "es: 9  Could someone please tell me if a 1/4 decoder is the same as a 1 to 4 demultiplexer. I know h...",
          " UNIX Society, Austin, Tx Lines: 15    I understand that the new GPS boxes now have an option known ...",
          "ix system run by the University \tof Denver for the Denver community.  The University has neither \tco...",
          "om Organization: Mentor Graphics Keywords:  Lines: 33  In article <>,  (Wayne Smith) writes: |> In a...",
          ".gov Organization: Fermilab Computing Division Lines: 22  In article <>,  (John Whitmore) writes: > ...",
          "anybody know if there is a mailing list or newsgroup for Power Systems and related areas?  Thanks,  ...",
          "exaco Lines: 16  I had a catalog with membrane keypads, but I dunno what happened to it, and it was ...",
          "e if this would be the right place to post this, but anyway, here goes:  I was just noticing that so...",
          "t: turbo_f.seas.smu.edu Organization: SMU - School of Engineering & Applied Science - Dallas Lines: ...",
          "-Posting-Host: dialup-slip-1-88.gw.umn.edu Organization: persian cat & carpet co. X-Useragent: Nunti...",
          "24 Distribution: world NNTP-Posting-Host: reg.triumf.ca News-Software: VAX/VMS VNEWS 1.41      In ar...",
          "ile Farm Lines: 9 NNTP-Posting-Host: grissom.larc.nasa.gov  In article <>  (Jason Waterman) writes: ...",
          "om Online Communications Services (408-241-9760 login: guest) Lines: 1  The Bmw speedo is triggered ...",
          " AI Programs, University of Georgia, Athens Lines: 9  There is or was a microwave tower next to Flor...",
          "MA Lines: 27   (Mike Donahue) writes:   >I do NOT know much about Adcom Mobil Audio products, but I ...",
          " Technological University X-Newsreader: TIN [version 1.1 PL8] Lines: 19  Bill Willis () wrote: : I h...",
          "osting-Host: macadam.mpce.mq.edu.au  In article <>,  (Ogawa / Taro Stephen (ISE)) writes: |> Could s...",
          "ost: elan.princeton.edu Organization: Princeton University Lines: 29  I was looking at the amps diag...",
          ": 6  Sounds like the picture tube lost vacuum.  This would cause the filament to ignite and could ac...",
          "orld Reply-To:  NNTP-Posting-Host: sparc28.hri.com  I just got an IBM-PC XT with no documents. Its a...",
          "nization: JPL Pasadena CA Lines: 25 Nntp-Posting-Host: neuron6.jpl.nasa.gov  In article <>  (Dale Nu...",
          "Host: wpi.wpi.edu  Hey everyone, I'm new to this  newsgroup so please excuse me if this is a  dumb q...",
          "ost: aisun3.ai.uga.edu Organization: AI Programs, University of Georgia, Athens Lines: 22  In articl...",
          " There are also a couple or three places on West 45th between Fifth and Sixth.    Harvey   --  -----...",
          ".com Organization: NCR Corp., Columbia SC Lines: 30  In article <>  writes: > >Greetings! >       > ...",
          "ing1.cc.utexas.edu  It is illegal to use anything you eavedropped on for a business  or for an illeg...",
          "Organization: University of Oulu, Dept. of EE, Finland  In article <>  (Stephe Lewis Foskett) writes...",
          "ntially amplify holes instead of electrons? Keywords: holes electrons semi-conductors mobility Nntp-...",
          "relays ??? Organization: Malaspina College Lines: 63  In article <>,  (Aaron Lung) writes: > In arti...",
          "lator operating in the detector. Saw a story about their use in Canada. Now don't go putting oscilla...",
          ": 33  Thanks for the resposes as they were all good ideas and I am looking at using a couple of the ...",
          "ation: Monash University, Melb., Australia. Lines: 23  Hi people..  OK heres my problem....  I keep ...",
          "m21.eng.stratus.com  In article <>  (Roger A Williams) wrote:   > (Mike Donahue) writes:  >  >  >>I ...",
          ", Quincy, IL Lines: 22   Intel also makes some neat memory and peripheral chips:  Old technology (ea...",
          "c. - New Orleans, LA Reply-To:  (Gerald Belton)  Lines: 24  AL>>        Question:   Is there a certa..."
         ],
         "type": "scatter",
         "x": [
          -0.12169637531042099,
          0.05482620373368263,
          0.08179864287376404,
          -0.010897286236286163,
          -0.07056446373462677,
          -0.0704340860247612,
          -0.11036604642868042,
          -0.07480382174253464,
          -0.04294702038168907,
          -0.09608270972967148,
          0.2625460624694824,
          0.06574320793151855,
          0.06771129369735718,
          -0.08497971296310425,
          -0.05735941603779793,
          -0.020788466557860374,
          -0.1141231432557106,
          0.011764036491513252,
          -0.05302959680557251,
          -0.08444777131080627,
          -0.07932150363922119,
          -0.018102163448929787,
          -0.05755872279405594,
          -0.07382500916719437,
          0.004903416149318218,
          -0.02435421012341976,
          -0.08199755102396011,
          0.14529551565647125,
          0.08510041236877441,
          0.023430917412042618,
          0.1379309743642807,
          -0.04942280054092407,
          -0.11769730597734451,
          -0.11090956628322601,
          0.029883872717618942,
          0.04435203969478607,
          -0.1217886433005333,
          -0.09005401283502579,
          0.15591418743133545,
          -0.13654829561710358,
          0.06261201202869415,
          0.055986400693655014,
          0.03773593530058861,
          0.04759715124964714,
          0.02857581153512001,
          -0.05216667801141739,
          -0.1764020025730133,
          0.23983711004257202,
          -0.0021375955548137426,
          -0.022853653877973557,
          -0.049630969762802124,
          -0.11053398251533508,
          0.3303028643131256,
          0.09905445575714111,
          -0.040291283279657364,
          -0.053589049726724625,
          -0.05457238107919693,
          -0.08315785974264145,
          -0.058309804648160934,
          -0.08367141336202621,
          -0.022690342739224434,
          -0.07005094736814499,
          0.09166650474071503,
          -0.06807001680135727,
          0.22263693809509277,
          -0.1396375447511673,
          -0.017029283568263054,
          -0.03812373802065849,
          0.025049937888979912,
          -0.1033349484205246,
          -0.10057912766933441,
          0.01815919764339924,
          -0.122127965092659,
          -0.09477180242538452,
          -0.0050246817991137505,
          -0.10265198349952698,
          0.08619166165590286,
          -0.11578279733657837,
          -0.01826922968029976,
          -0.022144602611660957,
          -0.05434804409742355,
          0.06240318343043327,
          -0.07222901284694672,
          -0.16453394293785095,
          -0.11820954084396362,
          -0.052304815500974655,
          -0.009261037223041058,
          -0.021517636254429817,
          -0.01544005423784256,
          -0.02326253429055214,
          0.015903213992714882,
          -0.04272199422121048,
          0.024560755118727684,
          -0.06982262432575226,
          -0.10218951106071472,
          0.09937932342290878,
          -0.12095572799444199,
          -0.12041817605495453,
          -0.05906972661614418,
          -0.12908774614334106,
          0.07899817079305649,
          -0.06855368614196777,
          -0.012496608309447765,
          0.04094349220395088,
          0.13219763338565826,
          0.04893430694937706,
          -0.08277856558561325,
          0.10861971229314804,
          -0.16940708458423615,
          0.028690487146377563,
          -0.033563949167728424,
          0.015584063716232777,
          -0.11866898089647293,
          -0.012533451430499554,
          -0.11789564788341522,
          -0.02535106986761093,
          -0.06627205014228821,
          0.05174737051129341,
          0.26291993260383606,
          -0.027194928377866745,
          -0.08683520555496216,
          0.048189058899879456,
          -0.12390943616628647,
          -0.1830088496208191,
          0.06779763102531433,
          0.1395147144794464,
          -0.13244815170764923,
          -0.0887933149933815,
          0.14177659153938293,
          -0.06472258269786835,
          0.02558690495789051,
          -0.029825888574123383,
          -0.05500444397330284,
          -0.09934897720813751,
          -0.1915106624364853,
          -0.06304394453763962,
          -0.19799171388149261,
          -0.08360075950622559,
          0.05597298964858055,
          0.1638639271259308,
          0.16315510869026184,
          0.031111465767025948,
          -0.04929719492793083,
          -0.09287577867507935,
          -0.002240439411252737,
          -0.002118493663147092,
          0.03115760162472725,
          -0.018826985731720924,
          0.08006882667541504,
          0.051889143884181976
         ],
         "y": [
          0.09418004751205444,
          0.2563253343105316,
          0.018947558477520943,
          0.14196810126304626,
          0.07365654408931732,
          0.1743547022342682,
          0.1663276106119156,
          0.13717225193977356,
          0.17328158020973206,
          -0.012437285855412483,
          -0.010517487302422523,
          0.22266457974910736,
          0.01829451322555542,
          0.13057005405426025,
          0.18943533301353455,
          0.03404669463634491,
          0.10705071687698364,
          0.15433107316493988,
          0.03721574321389198,
          0.005411405581980944,
          0.09635736793279648,
          0.22539402544498444,
          -0.0111240828409791,
          0.23108205199241638,
          0.17001870274543762,
          0.05312342569231987,
          0.011248113587498665,
          0.20035456120967865,
          0.11578895151615143,
          0.23149345815181732,
          0.10906270146369934,
          0.08699855208396912,
          0.10237729549407959,
          0.025000857189297676,
          0.12738440930843353,
          0.28980281949043274,
          0.1606641411781311,
          0.32094937562942505,
          0.01576586253941059,
          0.0321548692882061,
          0.18517960608005524,
          0.262085497379303,
          0.22484013438224792,
          0.17220446467399597,
          0.15120306611061096,
          0.2055549919605255,
          0.006600155960768461,
          -0.15510091185569763,
          0.1815810650587082,
          0.2283380627632141,
          0.2828262448310852,
          0.13522468507289886,
          -0.09208471328020096,
          0.07157914340496063,
          0.24910801649093628,
          0.13896894454956055,
          -0.0021250112913548946,
          0.14298458397388458,
          0.10423403978347778,
          0.1417393684387207,
          0.17384034395217896,
          0.1249900758266449,
          -0.03816680982708931,
          0.014857016503810883,
          -0.05898827314376831,
          0.18311817944049835,
          0.1732242852449417,
          0.14257177710533142,
          0.07820304483175278,
          0.011516008526086807,
          0.17166663706302643,
          0.14369283616542816,
          0.06685537844896317,
          0.13158607482910156,
          -0.17555616796016693,
          0.12506261467933655,
          0.00859542191028595,
          0.03127864748239517,
          0.20191921293735504,
          0.19249799847602844,
          0.09847415238618851,
          0.19219622015953064,
          0.09843515604734421,
          0.03252122178673744,
          0.10822971165180206,
          -0.0008749719709157944,
          0.07035250961780548,
          0.20602506399154663,
          0.10491891950368881,
          0.056322723627090454,
          0.2919904887676239,
          0.1451607644557953,
          0.10114980489015579,
          0.13853804767131805,
          -0.01689157262444496,
          0.1756262332201004,
          0.06423758715391159,
          0.0469902828335762,
          0.09375414997339249,
          0.17872485518455505,
          0.16362453997135162,
          0.19757704436779022,
          0.19633455574512482,
          0.1589840203523636,
          0.10635637491941452,
          0.16939014196395874,
          0.01199695747345686,
          0.12193477898836136,
          0.21287326514720917,
          0.1254315972328186,
          0.07406127452850342,
          0.25071263313293457,
          -0.012015208601951599,
          0.13859601318836212,
          0.0864885225892067,
          0.19184233248233795,
          0.09613551944494247,
          -0.11417566239833832,
          -0.0543811172246933,
          0.07872776687145233,
          0.30111557245254517,
          0.03611375018954277,
          0.12560540437698364,
          0.007517928723245859,
          0.1244051605463028,
          -0.04683719947934151,
          0.009193623438477516,
          0.09838888794183731,
          0.19254392385482788,
          0.1835288405418396,
          0.1754966527223587,
          0.16199705004692078,
          0.19141848385334015,
          0.03434175252914429,
          0.18784673511981964,
          0.10166160017251968,
          0.19917622208595276,
          -0.014744236133992672,
          0.13463564217090607,
          0.025696435943245888,
          -0.09986403584480286,
          0.12049096077680588,
          -0.027149595320224762,
          0.08478602766990662,
          0.08954720199108124,
          0.1291918307542801,
          0.12449595332145691,
          0.23181572556495667,
          0.1092139184474945,
          0.1339116394519806
         ]
        },
        {
         "hoverinfo": "text",
         "marker": {
          "line": {
           "color": "white",
           "width": 0.5
          },
          "size": 15
         },
         "mode": "markers",
         "name": "Class sci.med",
         "opacity": 0.7,
         "text": [
          "ganization: Colonial Mutual Life Australia X-Newsreader: FTPNuz (DOS) v1.0 Lines: 24  Hi, I am not s...",
          "y, NY - 212-274-8298v.32bis Reply-To:  (Jim Zisfein)  Lines: 19  > (Anthony Anello) >Can anyone tell...",
          "bution: usa Lines: 18   In article <>  (Evan Hunt) writes:   >In article <>  (Sharen A. Rund) writes...",
          "ortland Rain Forest Lines: 34  In article <>  (Beth Mazur) writes: >In <>  (Chuck Forsberg WA7KGX) w...",
          " Ca. Lines: 18 Distribution: world Reply-To:  (Jim Jones) NNTP-Posting-Host: contractor.ebay.sun.com...",
          "ines: 17 NNTP-Posting-Host: saltillo.cs.utexas.edu Summary: Lousy idea.  -*---- Cross-posted and wit...",
          "Consulting, Cambridge MA Lines: 30  In article <>  (*Heather*) writes: >Nutrasweet is a synthetic sw...",
          "s: 41  A person posted certain stuff to this newsgroup, which were highly selected quotes stripped o...",
          " Systems, Inc., Palo Alto, CA Lines: 11   My insurance company encourages annual physicals, and at m...",
          "rsity of Wisconsin - Milwaukee Lines: 19 NNTP-Posting-Host: 129.89.7.4  In article <>  (Sheryl Coppe...",
          "s., USA Lines: 11 NNTP-Posting-Host: enterprise.bih.harvard.edu  In article <>  (Fiberman) writes: >...",
          "In article <>  (Steve Heffner) writes: >A bit more than a year ago, a hernia in my right groin was >...",
          "c3t Distribution: na Organization: Oakland University, Rochester MI. Lines: 9 NNTP-Posting-Host: ouc...",
          ":57 GMT Nntp-Posting-Host: crux3.cit.cornell.edu Organization: Department of Chemistry, Cornell Univ...",
          "y - Univ. of Alabama Distribution: usa Lines: 36  In article <>,  (John Eyles) wrote: >  >  > A frie...",
          "Earth Observatory Lines: 50  In article <>,  (Gordon Banks) writes: > In article <>  (carl brenner) ...",
          "d Silver) writes: > > > >Is there a right-eye dominance (eyedness?) as there is an > >overall right-...",
          "7G Organization: Prentice Centre, University of Queensland Lines: 45   (Steve Dyer) writes: >Snort. ...",
          "nes: 28  In article <>  (Steve Dyer) writes: >In article <>  writes: >>Can someone tell me whether o...",
          "ing Lines: 11  My girlfriend is in pain from kidney stones. She says that because she has no medical...",
          "who has just been diagnosed with Lupus, and I know nothing about this disease. The only thing I do k...",
          " methodology.   Organization: University of Hawaii (Mathematics Dept) Expires: Sat, 1 May 1993 10:00...",
          "-line Communication Services (408 241-9760 guest) Lines: 15 X-Newsreader: TIN [version 1.1 PL8]  I'd...",
          "ons Public Access.  The Mouth of the South. Lines: 28  E.J. Draper <> writes:  >If it were my wife, ...",
          ": 27 NNTP-Posting-Host: carina.unm.edu   Gordon Banks:  >a lot to keep from going back to morbid obe...",
          "rsion 1.1 PL9] Lines: 45  kathleen richards () wrote: > My nearly-13 year old Pomeranian had a nasty...",
          ", USA Lines: 26 NNTP-Posting-Host: enterprise.bih.harvard.edu  In article <>   (Alexis Perry) writes...",
          "ibution: world NNTP-Posting-Host: zion.berkeley.edu  | article <>  writes: || Now, if instead of usi...",
          "rganization: NASA Dryden, Edwards, Cal. Lines: 33 In-Reply-To: 's message of 5 Apr 93 23:27:26 GMT  ...",
          "uter Science Lines: 28  In article <>  (David Nye) writes:  >  >I believe it is illegal for a reside...",
          "e Federale de Lausanne Lines: 41 NNTP-Posting-Host: liasun1.epfl.ch  Dear Netters,  I am not sure wh...",
          ".ohio-state.edu Organization: The Ohio State University Lines: 50  In article <>  (Jim Fare) writes:...",
          "Freenet Lines: 18   I have between 15 and 25 nosebleeds each week, as a result of a genetic predispo...",
          " at Urbana Lines: 6  Also remember that most people map the sanguine/choleric/melencholic/phlegmatic...",
          " Science Lines: 17  In article <>  (Ken Mitchum) writes: > >I found out that tuberculosis appears to...",
          "ganization: Bell Communications Research Lines: 31  In article <>,  (Mary E. Allison) writes: |>  |>...",
          " Programs, University of Georgia, Athens Lines: 12  I'm told that corn allergy is fairly common.  My...",
          "tchum) Organization: Univ. of Pittsburgh Computer Science Lines: 36  In article <>  writes: >Can any...",
          "Iowa Lines: 22  In article <>,  (Ken Mitchum) writes: > As a physician, I almost never get sick: usu...",
          ": naples.med.unc.edu Organization: UNC-CH School of Medicine Lines: 7  Thanks to Tarl Neustaedter of...",
          "rformance Computing, University of Illinois at Urbana-Champaign Lines: 66 Distribution: world NNTP-P...",
          "ngws5.ic.sunysb.edu Organization: State University of New York at Stony Brook Lines: 54  In article ...",
          "ing X-Newsreader: NNR/VM S_1.3.2 Lines: 53  In article <>  (Brian M. Huey) writes:   >In article <>,...",
          ") writes:  >\t >\tI have seen a couple of postings refering to an SRI called paxil.  I >have been on P...",
          "TX 214/436-3281 Lines: 27  In article <>  (Andrew Rogers) writes: >In article <>  writes: >>Chinese,...",
          ".14717 Distribution: sci.med Organization: Lockheed Engineering & Sciences Co. Lines: 17  In article...",
          "on: Univ. of Pittsburgh Computer Science Lines: 26  In article <>  (Rayaz Jagani) writes:  > >From M...",
          ": 25  In article <>  (Robert Allison) writes: >Does anyone know of any method to reduce this frequen...",
          "s) Organization: Univ. of Pittsburgh Computer Science Lines: 23  In article <>  (MD) writes: > >If a...",
          ": 19  [reply to  (MD)]   >After many metabolic tests, body structure tests, and infection/virus >tes...",
          "es: 29 NNTP-Posting-Host: venus.iteb.serpukhov.su  I am very interested in investigations of starvat...",
          "   There is this newsgroup sci.med.physics and there has been quite a lot discussion in this group a...",
          "es: 9   \tI was kind of half watching Street Stories last night \tand one of the segments was about th...",
          "ia Inc, Toronto, Ontario. Lines: 23  L(>   (Joel B Levin) writes: L(>  John Badanes wrote: L(>  |JB>...",
          "  Organization: Clinical Diagnostics Division, Eastman Kodak Company Lines: 24  In article <>  (Rich...",
          "E, Sandia Park, NM Lines: 31  In article <>  (Vida Morkunas) writes: >I live at sea-level, and am ca...",
          "k Division, NSWC, Bethesda, MD Lines: 30  In rec.food.cooking,  (Charles Packer) writes: >Is there s...",
          "anization: Univ. of Pittsburgh Computer Science Lines: 21  In article <>  (Lindy Foster) writes: >I'...",
          "he tollfree hotline for the Epilepsy Foundation of America - 1-800-EFA-1000.  They will be able to a...",
          "tion: usa Lines: 13  I am 35 and am recovering from a case of Chicken Pox which I contracted from my...",
          "tion on the effects/origin of oxaprozin? It's marketed under the name \"DAYpro\", and appears to be an...",
          "onsin Eau Claire Lines: 29  [reply to  (Jacquelin Aldridge)]   >Medicine is not a totally scientific...",
          "nes: 41 Nntp-Posting-Host: aquarius   (Richard Ottolini) writes:  : Living things maintain small ele...",
          "nes: 27  One thing that I haven't seen in this thread is a discussion of the relation between IBD in...",
          "nes: 67 Distribution: inet NNTP-Posting-Host: im4u.cs.utexas.edu  -*---- In article <>  (Lee Lady) w...",
          "g-Host: theseus.unx.sas.com Organization: SAS Institute Inc. Lines: 15   In article <>,  (Tom B. Car...",
          "ment Corporation Lines: 45 NNTP-Posting-Host: DWOVAX   In article <>,  () writes... >I recently hear...",
          "niv. of Pittsburgh Computer Science Lines: 48  In article <>  (Ruth Ginzberg) writes:  >Hmmmm... her...",
          "ion: world NNTP-Posting-Host: coyoacan.sw.stratus.com  In article <>,  (Brian M. Huey) writes: > I t...",
          "g-Host: theseus.unx.sas.com Organization: SAS Institute Inc. Lines: 55   In article <>,  (Mark Fulk)...",
          " Rochester  In article <>  (Gary Merrill) writes: > >In article <>,  (Mark Fulk) writes: > >|> I don...",
          "uter Science Lines: 22  In article <>  (daniel federman) writes: > >A friend of mine took appoximate...",
          "Urbana Lines: 26   (Steve Dyer) writes:  >In article <1qnns0$>  (Steve Pope) writes: >>The mass of a...",
          "o Lines: 12  There were a few people who responded to my request for info on treatment for astrocyto...",
          "geles, California Distribution: usa Lines: 12   Hi All,  Would anyone out there in 'net-land' happen...",
          " Univ. of Pittsburgh Computer Science Lines: 19  >In article  (John Joseph Deltuvia) writes: > >>The...",
          "le scraps of paper, mostly Lines: 10   I think he means Girlie Photography.  A good place to find it...",
          "nes: 3  Can anyone help me find any information on the drug Prozac?  I am writing a report on the in...",
          "rsion 1.1 PL9] Lines: 13  kathleen richards () wrote:  > If you have time to type it in I'd love to ...",
          " Lines: 29   \tA friend has the following symptoms which have occurred periodically every few months ...",
          "on, VA Lines: 28 Reply-To: Jason C. Austin <> NNTP-Posting-Host: ab20.larc.nasa.gov In-reply-to: 's ...",
          "tion: na  Am I justified in being pissed off at this doctor?  Last Saturday evening my 6 year old so...",
          " Univ of Alabama Lines: 19  In article <>,  (Ho Leung Ng) wrote: >  >  >    When I was a kid in prim...",
          "? Lines: 8  What resources and services are available on Internet/BITNET which would be of interest ...",
          "he usual teenage spotty chin and greasy nose.  I bought him Clearasil face wash and ointment.  I thi...",
          "e here because I am kind of desperate. For about six weeks, I've been suffering on pains in my left ...",
          "mputer Science Lines: 16  In article <>  (Daniel Prince) writes:  >I only have lunulas on my thumbs....",
          "Univ. of Pittsburgh Computer Science Lines: 23  In article <>  (Paul Schmidt) writes: >I think it is...",
          "to  (Gordon Banks)]   >>I believe it is illegal for a residency to discriminate against FMGs.   >Is ...",
          "idge MA Lines: 14  In article <1qnns0$>  (Steve Pope) writes: >The mass of anectdotal evidence, comb...",
          "anization: Univ. of Pittsburgh Computer Science Lines: 24  In article <>  (John Setel O'Donnell) wri...",
          "es: 5 Distribution: na NNTP-Posting-Host: hpcspe17.col.hp.com   Report them to your local BBB (Bette...",
          "ortland Rain Forest Lines: 33  In article <>  (Gordon Banks) writes: > >In article <>  (Chuck Forsbe...",
          "ver what? I would be most interested in seeing you >>provide peer-reviewed non-food-industry-funded ...",
          "em (TM) Lines: 36  > Probably within 50 years, a new type of eugenics will be possible. > Maybe even...",
          "er Science Lines: 12  In article <>  (John E. Rodway) writes: >Any comments on the use of the drug P...",
          "  Following a series of miscarriages, my wife was given a transfusion of my white cells. (The theory...",
          "nization: Univ. of Pittsburgh Computer Science Lines: 22  In article <>  (Herman Rubin) writes: >In ...",
          "ping-injury-faq/> Organization: University of California, Berkeley Lines: 51 Expires: 22 May 1993 04...",
          "ttsburgh Lines: 21  In article <1r1t1a$>  writes: :I recently attended an allery seminar.  Steroid N...",
          "g.magnus.acs.ohio-state.edu Organization: The Ohio State University Lines: 45  In article <>  (Jon N...",
          "w York City, NY - 212-274-8298v.32bis Reply-To:  (Jim Zisfein)  Lines: 17  A(>  () A(> A woman I kno...",
          "m Lines: 20  A bit more than a year ago, a hernia in my right groin was discovered.  It had produced...",
          "zation: AT&T Lines: 15  In article <>,  writes: > How long does it take a smoker's lungs to clear of...",
          " PL8]  David Nye () wrote: : [reply to  (ron roth)] :   : >While you're right that the S vertebrae a...",
          "rganization: OSU College of Osteopathic Medicine  In article <>,  (Gordon Banks) writes: > In articl...",
          "said that, i might add, that in MHO, MSG does not enhance  AM> flavor enoughf for me to miss it.  Wh...",
          "Bates method Summary: Proven a hoax long ago Lines: 15  Dr. willian Horatio Bates born 1860 and grad...",
          "osed with cystic breast disease -- a big relief, as it was a lump that could have been cancer.  Her ...",
          " 14 Distribution: world NNTP-Posting-Host: adcs01.fnal.gov Keywords: 40 BLOODCOUNT DANGEROUS?   Can ...",
          "ical School, Boston Mass., USA Lines: 15 NNTP-Posting-Host: enterprise.bih.harvard.edu  In article <...",
          "rdon Banks) writes: >In article <>  (Richard Silver) writes: >> >>Is there a right-eye dominance (ey...",
          ".D.: pegasus.1993Apr22.221508.10196 Organization: Pegasus,  Honolulu Lines: 14  In article <> <> wri...",
          "ing 4 addresses are on the LymeNet mailing list, but are rejecting mail.  Since the list server orig...",
          "ge of Osteopathic Medicine Distribution: usa  In article <>,  (John Eyles) writes: >  > A friend has...",
          "NTP-Posting-Host: 141.214.86.38 X-UserAgent: Nuntius v1.1.1d9 X-XXDate: Tue, 20 Apr 93 16:46:24 GMT ...",
          "on: The Information Deli - via Netcom / San Jose, California  In <>  (Steven W Orr) writes:  >I look...",
          "ne, MA Lines: 10   Some recent postings remind me that I had read about risks  associated with the b...",
          "ivision Lines: 16 NNTP-Posting-Host: duca.hi.com  In article <>  (Gordon Banks) writes: |In article ...",
          "t -- Division of EMBA Computer Facility Lines: 21  Nutrasweet is a synthetic sweetener a couple thou...",
          " Corporation Lines: 13   What does a lack of taste of foods, or a sense of taste that seems \"off\" wh...",
          ": 44  In article <>  (Gong Tong) writes: >In article <>  (OPIRG) writes: >> >>For cites on MSG, look...",
          "words: volvulus Nntp-Posting-Host: berfert.csd.uwo.ca Lines: 35      Recurrent Volvulus     --------...",
          ": Invention Factory's BBS - New York City, NY - 212-274-8298v.32bis Reply-To:  (Jim Zisfein)  Lines:...",
          "world Organization: University of Oregon Lines: 14 NNTP-Posting-Host: oregon.uoregon.edu News-Softwa...",
          " (ron roth)]   >While you're right that the S vertebrae are attached to each other, >the sacrum, to ...",
          "cience Lines: 18  In article <>  (John Werner) writes: >In article <>,  (Gordon Banks) wrote: >>  >>...",
          " In article <>  (Fiberman) writes: :Is erythromycin effective in treating pneumonia? : :-fm   Not on...",
          "ution: world NNTP-Posting-Host: q5020598.mdc.com  My girlfriend just started taking Imitrex for her ...",
          "-To:  (Ken Mitchum) Organization: Univ. of Pittsburgh Computer Science Lines: 15  In article <>  (Jo...",
          "ote: :  {much deleted] :  :  : The fact that this happened while eating two sugar coated cereals mad...",
          " Summary: thanx for the comeback Lines: 7  Hello , I think you are probaly right, in spite of the mo...",
          "osting-Host: kyanite Organization: Telesciences CO Systems, Inc. Lines: 24  In article <>  (Richard ...",
          "tion: Univ. of Pittsburgh Computer Science Lines: 31  In article <>  (Andrea M Free-Kwiatkowski) wri...",
          "dford) Lines: 13  Thanks for all your assistance. I'll see if he can try a different brand of patche...",
          "USA Lines: 48 \t<> <> NNTP-Posting-Host: cmb00.larc.nasa.gov In-reply-to: 's message of Fri, 23 Apr 1...",
          "anyone give me more information regarding endometriosis?   i heard it's a very common disease among ...",
          "any one heard of a sedative called \"Rhoepnol\"? Made by LaRouche, I believe. Any info as to side effe...",
          "t: ysub.ysu.edu  Does the Proventil inhaler for asthma relief fall into the steroid or nonsteroid ca...",
          " |JB>   (Ella I Baff) writes: |JB>   |JB>    Ron Roth recommends: \"Once you have your hypoglycemia C...",
          "Lines: 7  In article <>  (Gordon Banks) writes: >we do this?  Should we make a race of disease-free,...",
          "<>  (Craig MacDonald) writes: >>  It may be extremely >>common, something like 5% of the population....",
          "1111.9678 Organization: Pegasus,  Honolulu Lines: 11  In article <>  (Melissa N. Matusevich) writes:...",
          "USA Lines: 52 \t<> NNTP-Posting-Host: cmb00.larc.nasa.gov In-reply-to: 's message of Sat, 17 Apr 1993...",
          "n: SAS Institute Inc. Lines: 16  In article <>,  (MD) writes:   > >        The reason I'm posting th...",
          ": 43  In article <>  (David Thomas) writes:  >>In article <>,  (Charles Packer) writes: >>>Is there ...",
          "UNIX, Greenbelt, Maryland USA Lines: 58 NNTP-Posting-Host: access.digex.net  In article <>  (Gordon ...",
          "USA Lines: 53 NNTP-Posting-Host: cmb00.larc.nasa.gov In-reply-to: 's message of 21 Apr 93 16:18:19 G...",
          "s maintain small electric fields to (1) enhance certain chemical reactions, (2) promote communicatio...",
          "ick King) writes: > >I recall reading somewhere, during my youth, in some science popularization >bo..."
         ],
         "type": "scatter",
         "x": [
          -0.2562209665775299,
          -0.3117435872554779,
          -0.10852253437042236,
          -0.15819114446640015,
          -0.3593311011791229,
          -0.05822053924202919,
          -0.2437739074230194,
          0.029497841373085976,
          -0.19977779686450958,
          -0.39246654510498047,
          -0.2823031544685364,
          -0.20313501358032227,
          -0.2289639115333557,
          -0.2887292802333832,
          -0.2952641546726227,
          -0.23703497648239136,
          -0.19263170659542084,
          -0.30381208658218384,
          -0.4132838547229767,
          -0.22066044807434082,
          -0.3765561580657959,
          -0.16488781571388245,
          -0.2288455218076706,
          -0.16453196108341217,
          -0.1924515813589096,
          -0.2965066432952881,
          -0.2767718434333801,
          -0.31700968742370605,
          -0.19199101626873016,
          -0.12795472145080566,
          -0.23212434351444244,
          -0.2574074864387512,
          -0.28868386149406433,
          -0.23271547257900238,
          -0.1923827826976776,
          -0.2659125030040741,
          -0.3012106120586395,
          -0.2622354328632355,
          -0.39536720514297485,
          -0.18203233182430267,
          -0.338874876499176,
          -0.18093451857566833,
          -0.16586820781230927,
          -0.3355144262313843,
          -0.25051915645599365,
          -0.2959142327308655,
          -0.3167928457260132,
          -0.3403756320476532,
          -0.34085825085639954,
          -0.39408209919929504,
          -0.303212970495224,
          -0.3112959563732147,
          -0.20195713639259338,
          -0.02757626213133335,
          -0.2785266935825348,
          -0.392093688249588,
          -0.37159088253974915,
          -0.326153963804245,
          -0.18090951442718506,
          -0.2559867203235626,
          -0.25503620505332947,
          -0.25993403792381287,
          -0.17151722311973572,
          -0.22788339853286743,
          -0.16822126507759094,
          -0.27450641989707947,
          -0.1716659516096115,
          -0.07035129517316818,
          -0.21577315032482147,
          -0.12466998398303986,
          -0.12875226140022278,
          -0.3185121417045593,
          -0.11298593878746033,
          -0.29429060220718384,
          -0.06616459786891937,
          -0.23800553381443024,
          -0.09075067192316055,
          -0.17384958267211914,
          -0.31037676334381104,
          -0.4184996485710144,
          -0.2776414453983307,
          -0.16239093244075775,
          -0.36449193954467773,
          -0.07475990056991577,
          -0.3069390058517456,
          -0.4171949326992035,
          -0.1418898105621338,
          -0.21522997319698334,
          -0.18749865889549255,
          -0.17014789581298828,
          -0.2966573238372803,
          -0.16694167256355286,
          -0.27566084265708923,
          -0.20013427734375,
          0.04753413423895836,
          -0.15963606536388397,
          -0.140606090426445,
          -0.2509395480155945,
          -0.08713937550783157,
          -0.3444291353225708,
          -0.33495795726776123,
          -0.19339963793754578,
          -0.2102690041065216,
          -0.25764861702919006,
          -0.18311911821365356,
          -0.3040720224380493,
          -0.24319705367088318,
          -0.12026315927505493,
          -0.37737974524497986,
          -0.24672533571720123,
          -0.30397358536720276,
          -0.2514050304889679,
          -0.18438595533370972,
          -0.08352190256118774,
          -0.3267391622066498,
          -0.08812523633241653,
          -0.27726390957832336,
          -0.29153403639793396,
          -0.22095462679862976,
          -0.2720925807952881,
          -0.37531203031539917,
          -0.2893036901950836,
          -0.3661867082118988,
          -0.15862087905406952,
          -0.18165689706802368,
          -0.1928742229938507,
          -0.11487303674221039,
          -0.26750725507736206,
          -0.3805694282054901,
          -0.2315215766429901,
          -0.30485716462135315,
          -0.2641140818595886,
          -0.15889371931552887,
          -0.2827491760253906,
          -0.2993174195289612,
          -0.289870947599411,
          -0.2275799810886383,
          -0.15393933653831482,
          -0.24390991032123566,
          -0.20127946138381958,
          -0.04635661095380783,
          -0.3224148154258728,
          -0.07179862260818481,
          -0.3233712613582611,
          -0.30721449851989746,
          -0.26431190967559814,
          -0.1272123008966446,
          -0.3893240988254547,
          -0.21486471593379974,
          -0.2741137742996216
         ],
         "y": [
          -0.18905606865882874,
          -0.2825819253921509,
          -0.27194052934646606,
          -0.1946457177400589,
          -0.16714993119239807,
          -0.2672899067401886,
          -0.3023376762866974,
          -0.12050117552280426,
          -0.01574709638953209,
          -0.3319557309150696,
          -0.18743351101875305,
          -0.21175456047058105,
          -0.13315622508525848,
          -0.2881694436073303,
          -0.3224278688430786,
          -0.23813603818416595,
          -0.09850918501615524,
          -0.39172640442848206,
          -0.32970133423805237,
          -0.18747356534004211,
          -0.21896350383758545,
          -0.1849338561296463,
          -0.16133058071136475,
          -0.04753275588154793,
          -0.18460866808891296,
          -0.28844010829925537,
          -0.26409319043159485,
          -0.3346977233886719,
          -0.08479174971580505,
          -0.22526243329048157,
          -0.0029288206715136766,
          -0.20825503766536713,
          -0.24571730196475983,
          -0.12175548821687698,
          -0.3946276903152466,
          -0.39146095514297485,
          -0.39032354950904846,
          -0.3105320930480957,
          -0.4004940688610077,
          -0.11178912222385406,
          -0.3898014724254608,
          -0.2606416642665863,
          0.13500258326530457,
          -0.22031089663505554,
          -0.27012866735458374,
          -0.18736229836940765,
          -0.2697620689868927,
          -0.2656698524951935,
          -0.23338094353675842,
          -0.3658045530319214,
          -0.07685331255197525,
          -0.07011988013982773,
          -0.05510823056101799,
          -0.07247467339038849,
          -0.2952831983566284,
          -0.19305087625980377,
          -0.4207268953323364,
          -0.1691541075706482,
          -0.1927953064441681,
          -0.26114264130592346,
          -0.1777164191007614,
          -0.3120095133781433,
          0.0357675701379776,
          -0.29359427094459534,
          -0.0769181177020073,
          -0.09466962516307831,
          -0.21386809647083282,
          -0.2839967906475067,
          0.08154527097940445,
          -0.20993295311927795,
          -0.18276327848434448,
          -0.3254787027835846,
          -0.2877788245677948,
          -0.11714775860309601,
          0.0452774353325367,
          -0.25907954573631287,
          0.13804307579994202,
          -0.11738097667694092,
          -0.16546665132045746,
          -0.24476639926433563,
          -0.19087016582489014,
          -0.2564535140991211,
          -0.20042701065540314,
          -0.017262019217014313,
          -0.24708382785320282,
          -0.21701769530773163,
          -0.2968633472919464,
          -0.29434332251548767,
          -0.2236584722995758,
          -0.26593539118766785,
          -0.1787477284669876,
          -0.15132112801074982,
          -0.1488766074180603,
          -0.414842426776886,
          -0.16573144495487213,
          -0.38328301906585693,
          -0.25883743166923523,
          -0.23870186507701874,
          -0.028041845187544823,
          -0.240984708070755,
          -0.34168121218681335,
          -0.33470407128334045,
          -0.21283109486103058,
          -0.1763840615749359,
          -0.1876385509967804,
          -0.2637723684310913,
          -0.2929608225822449,
          -0.23192758858203888,
          -0.3015173673629761,
          -0.2638442814350128,
          -0.29125872254371643,
          -0.12981519103050232,
          -0.04918638616800308,
          -0.023854484781622887,
          -0.28767919540405273,
          -0.1105155423283577,
          -0.13963501155376434,
          -0.2518423795700073,
          -0.18963272869586945,
          -0.30726924538612366,
          -0.27274495363235474,
          -0.41489318013191223,
          -0.2630816102027893,
          -0.21400654315948486,
          -0.07197866588830948,
          -0.20324617624282837,
          -0.1522751897573471,
          -0.28688231110572815,
          -0.29852381348609924,
          -0.3260885775089264,
          -0.4160081744194031,
          -0.07735611498355865,
          -0.09032247960567474,
          -0.3064557909965515,
          -0.26219263672828674,
          -0.2811923325061798,
          -0.08697903156280518,
          -0.25929129123687744,
          -0.11251281946897507,
          -0.18935593962669373,
          -0.12329071015119553,
          -0.28130868077278137,
          -0.12346819043159485,
          -0.42083823680877686,
          -0.2512127757072449,
          -0.4029046595096588,
          -0.23554068803787231,
          -0.43542245030403137,
          -0.06940774619579315,
          -0.21996791660785675
         ]
        },
        {
         "hoverinfo": "text",
         "marker": {
          "line": {
           "color": "white",
           "width": 0.5
          },
          "size": 15
         },
         "mode": "markers",
         "name": "Class sci.space",
         "opacity": 0.7,
         "text": [
          "ibution: world Reply-To:  (CLAUDIO OLIVEIRA EGALON) NNTP-Posting-Host: tahiti.larc.nasa.gov  There i...",
          " In <>  (Dillon Pyron) writes:   >There are actually only two of us.  I do Henry, Fred, Tommy and Ma...",
          "tsville, AL Lines: 22  In reference to the limits of acceleration with guns launching solid rockets ...",
          "sting-Host: stein2.u.washington.edu   (Doug Loss) writes: >Besides the mechanical problems of moving...",
          "1-9760 guest) Lines: 23  In article <>  (kevin marcus) writes: >Are there any public domain or share...",
          "  (G. Patrick Molloy) Organization: NASA/MSFC Lines: 40  In article <>,   writes: > Here is a way to...",
          "15:55 GMT Nntp-Posting-Host: leo-gw Organization: Burdett, Buckeridge & Young, Melbourne, Australia ...",
          "ave before me a pertinent report from the United States General Accounting Office:  National Aero-Sp...",
          "world NNTP-Posting-Host: beach.cis.ufl.edu   Is anybody out there willing to discuss with me careers...",
          "ology Lines: 17  In article <>  (Alan Carter) writes: >|> ... a NO-OP command was sent to reset the ...",
          ": Texas Instruments Inc Lines: 22  In <>  (Allen W. Sherzer) writes:  >Depends. If you assume the ex...",
          "station, constellation Article-I.D.: techbook.C51z6E.CL1 Organization: TECHbooks --- Public Access U...",
          "rticle <>,  (Layne Cook) writes: > All of this talk about a COMMERCIAL space race (i.e. $1G to the f...",
          "Lewis Research Center / Cleveland, Ohio Lines: 30 Distribution: world NNTP-Posting-Host: tm0006.lerc...",
          " Ontario, London Nntp-Posting-Host: prism.engrg.uwo.ca Lines: 9  \tHmmm. I seem to recall that the at...",
          "on: world NNTP-Posting-Host: kelvin.jpl.nasa.gov News-Software: VAX/VMS VNEWS 1.41      In article <...",
          "siana Lines: 43   (Brian Yamauchi) writes:  >Any comments on the absorbtion of the Office of Explora...",
          "NTP-Posting-Host: access.digex.net  In article <>  (Henry Spencer) writes: >In article <1ppm7j$>  (P...",
          "ons, Greenbelt, MD USA Lines: 33 Distribution: world NNTP-Posting-Host: access.digex.net Keywords: M...",
          "ne know how to size cold gas roll control thruster tanks for sounding rockets?  Thanks in advance, J...",
          "BM, Federal Systems Co. Software Services Disclaimer: This posting represents the poster's views, no...",
          "tional Space University] Original-Sender:  Distribution: sci Lines: 124   McDonnell Douglas rolls ou...",
          "ing-Host: tm0006.lerc.nasa.gov Organization: NASA Lewis Research Center / Cleveland, Ohio Lines: 71 ...",
          "n, VA 22090 Lines: 16  In article <>  writes: >This might a real wierd idea or maybe not.. > > >Why ...",
          " LLNL Lines: 96 Distribution: world NNTP-Posting-Host: s1.gov   (Brian Yamauchi) writes: > (Enzo Lig...",
          "s USA Lines: 23 Distribution: world NNTP-Posting-Host: access.digex.net  In article <>  (Ron Baalke)...",
          " 26  <>  writes:  >So some of my ideas are a bit odd, off the wall and such, but so was Wilbur and >...",
          "du Organization: Northwestern University, Evanston Illinois. Lines: 45  In article <>  (James Thomas...",
          "State University, San Luis Obispo Lines: 51  Why do spacecraft have to be shut off after funding cut...",
          "7 GMT Organization: Simon Fraser University X-Useragent: Nuntius v1.1.1d17 Lines: 15  In article <> ...",
          "ines: 15 Distribution: world NNTP-Posting-Host: kelvin.jpl.nasa.gov News-Software: VAX/VMS VNEWS 1.4...",
          "nic State University, San Luis Obispo Lines: 31  >In article <>  (Victor Laking) writes: >> (Victor ...",
          "Lines: 42 \t<> \t<> NNTP-Posting-Host: topaz.ucsc.edu In-reply-to: 's message of 20 Apr 93 22:38:07 GM...",
          "ines: 44   (Craig Keithley) writes: > > All in all, I'm not certain that the single goal/prize of st...",
          "nization: Netcom Online Communications Services (408-241-9760 login: guest) Lines: 9     I might sug...",
          "tion: Fermi National Accelerator Laboratory Lines: 25 Distribution: na NNTP-Posting-Host: fnalf.fnal...",
          "tsville, AL Lines: 72   Okay, lets get the record straight on the Livermore gas gun.   The project m...",
          "world NNTP-Posting-Host: kelvin.jpl.nasa.gov News-Software: VAX/VMS VNEWS 1.41      Forwarded from J...",
          "Research Center Lines: 14 Distribution: world Reply-To:  (CLAUDIO OLIVEIRA EGALON) NNTP-Posting-Host...",
          "banks Lines: 11 Nntp-Posting-Host: acad3.alaska.edu  Is there a few Grasp pictures of space related ...",
          "ci Lines: 10  The Apollo astronauts also trained at (in) Meteor Crater in the Flagstaff area (Arizon...",
          "-Posting-Host: access.digex.net  In article <>  (George F. Krumins) writes: >It is so typical that t...",
          "-408-734-2289 Lines: 20   (Doug Mohney) writes:  > Allen, sometimes I think you're OK.  And sometime...",
          "ting-Host: access.digex.net Keywords: food  dillon comments that Space Food Sticks may have bad dige...",
          "h Carolina, Chapel Hill Lines: 95 Distribution: world Expires: 6 May 1993 19:57:55 GMT NNTP-Posting-...",
          "Lines: 25 NNTP-Posting-Host: access.digex.net  In article <>  (fred j mccall 575-3539) writes: | |I ...",
          "celerator Laboratory Lines: 24 NNTP-Posting-Host: fnalf.fnal.gov  In article <>,  (Charles J. Divine...",
          "eplerian Nntp-Posting-Host: scgraph.afit.af.mil Organization: Air Force Institute of Technology Line...",
          "ines: 8  If all of these things have been detected in space, has anyone looked into possible problem...",
          ".1 Organization: University of Alaska Fairbanks Lines: 21 Nntp-Posting-Host: acad3.alaska.edu  In ar...",
          "Lines: 31  In article <> Callec Dradja <> writes: >I am a bit nervous about posting this beacause it...",
          "ne Communications, Greenbelt MD USA Lines: 9 Distribution: na NNTP-Posting-Host: access.digex.net   ...",
          "t) writes: >what ever happened to the hypothesis  that the shuttle flight software >was a major fact...",
          "munications USA Lines: 20 NNTP-Posting-Host: access.digex.net Keywords: Galileo, JPL    INteresting ...",
          ".1 Organization: University of Alaska Fairbanks Lines: 33 Nntp-Posting-Host: acad3.alaska.edu  In ar...",
          "n Schiewer) writes: >What is the deal with life on Mars?  I save the \"face\" and heard  >associated t...",
          "oratory Lines: 22 Distribution: world NNTP-Posting-Host: kelvin.jpl.nasa.gov Keywords: Galileo, JPL ...",
          "ganization: Univ. of Southwestern Louisiana Lines: 22   (Rob Unverzagt) writes:  >In article <>  (Ro...",
          "Organization: [via International Space University] Original-Sender:  Distribution: sci Lines: 28   \t...",
          "on: Fermi National Accelerator Laboratory Lines: 22 Distribution: world NNTP-Posting-Host: fnalf.fna...",
          "rganization?  You must be kidding. Lines: 35 NNTP-Posting-Host: aerospace.aero.org  In article <1pr5...",
          " Lines: 114    ARIANESPACE FLIGHT 56  (Flight V.56 was originally intended to carry the Hughes HS-60...",
          "Reply-To:  Organization: TI/DSEG VAX Support   In article <>,  (John Elson) writes: >Has anyone ever...",
          "mes Research Center Distribution: na Lines: 14   (Pat) writes:   >AW&ST  had a brief blurb on a Mann...",
          " MA 01609-2280 Lines: 11 NNTP-Posting-Host: wpi.wpi.edu   \tI am looking for any information about th...",
          "n: stanford Lines: 38  In article <>,  (Brian Yamauchi) writes: |> >NASA would provide contractual l...",
          "Sci. Lines: 22   And one of my profs is the chief engineer for the project (Dr. Ron Humble, Univ. Co...",
          "st?  <> <>  <> <>  <> <> Lines: 38  In article <>,  (Gary Coffman) says: >In article <> Graydon ><> ...",
          "call 575-3539) writes: >>>(given that I've heard the Shuttle software rated as Level 5 ... >>Level 5...",
          "on: [via International Space University] Original-Sender:  Distribution: sci Lines: 21  on Date: Sat...",
          "kn6rINNett Reply-To:  Distribution: world Organization: Computer Aided Design Lab, U. of Maryland Co...",
          "n article <>  writes: >Here is a way to get the commericial companies into space and mineral >explor...",
          "ization: University of Illinois at Urbana Lines: 18   (Pat) writes:  >AW&ST  had a brief blurb on a ...",
          "University of Alaska Fairbanks  In article <>,  (Doug Mohney) writes: > In article <>,  (Henry Spenc...",
          "] Original-Sender:  Distribution: sci Lines: 14   >If all the ecomomists in the world were laid end ...",
          "na Lines: 35  In <>  (Elijah Millgram) writes:   >A friend of mine and I were wondering where the ex...",
          "Lines: 26 \t<>\t<>\t<>,<> \t<> NNTP-Posting-Host: topaz.ucsc.edu In-reply-to: 's message of 21 Apr 1993 ...",
          "s: 17       I've been following discussions about the Delta Clipper program, and I have one small qu...",
          "nes: 25 NNTP-Posting-Host: access.digex.net  In article <>  writes: >In article <1r6b7v$>,  (Pat) wr...",
          "4  In article <>,  (Henry Spencer) wrote: >  > The major component of any realistic plan to go to th...",
          ">  (Steve Collins) writes: >The difficulties of a high Isp OTV include... >If you go solar, you have...",
          "ace University] Original-Sender:  Distribution: sci Lines: 189  >>Nick sez; I'm not very impressed b...",
          "ada Lines: 20   > > > Also, peri[jove]s of Gehrels3 were: > > >  > > > April  1973     83 jupiter ra...",
          "<>  (CLAUDIO OLIVEIRA EGALON) writes: >> there is no such thing as a stable lunar orbit > >Is it rig...",
          " Flight Center - Robotics Lab Lines: 26 News-Software: VAX/VMS VNEWS 1.4-b1  In article <>,  (Garret...",
          "GMT Organization: National Radio Astronomy Observatory Lines: 32  It is usually possible to reach pe...",
          " Space University] Original-Sender:  Distribution: sci Lines: 58      Joint Press release ESA/UN No ...",
          "6.14123 Organization: Evil Geniuses for a Better Tomorrow Lines: 22  In article <>  (Josh Hopkins) w...",
          "sted this over in sci.astro, but it didn't make it here. Thought you all would like my wonderful pit...",
          "Shuttle Program Office  X-Newsreader: TIN [version 1.1 PL8] Lines: 40   (Hey, that's me!) wrote: : I...",
          "ity of North Carolina, Chapel Hill Lines: 36 Distribution: world Expires: 7 May 1993 17:25:40 GMT NN...",
          "ience Computer Network, Denver, Co. Lines: 5  The Apollo program cost something like $25 billion at ...",
          "ines: 20 Distribution: world NNTP-Posting-Host: gargravarr.cc.utexas.edu X-UserAgent: Nuntius v1.1.1...",
          " 'Lectronic Link Lines: 29   The difficulties of a high Isp OTV include: Long transfer times (radiat...",
          "Mathematics, University of Adelaide Lines: 25  In article <1pfkf5$>  (Pat) writes:  >Only one proble...",
          "tion: Dynamic Graphics Inc. Lines: 10 Distribution: usa NNTP-Posting-Host: opus.dgi.com  Sorry but I...",
          " 15 NNTP-Posting-Host: bigwpi.wpi.edu    Hello everyone,  \tI was hoping someone could help me out.  ...",
          "(David M. Palmer) writes: >>orbiting billboard... > >I would just like to point out that it is much ...",
          "on: Destructive Testing Systems Lines: 63  In article <> Graydon <> writes: >In article <>,  (Gary C...",
          "tp-Posting-Host: prism.engrg.uwo.ca Lines: 15  In article <>  (Nick Haines) writes: > >Would they bu...",
          "s at Urbana Lines: 42   (Keith Mancus) writes:  > (Layne Cook) writes: >> All of this talk about a C...",
          "on: world NNTP-Posting-Host: kelvin.jpl.nasa.gov Keywords: Galileo, JPL News-Software: VAX/VMS VNEWS...",
          "Louisiana Lines: 28   (Mark Brader) writes:   >Thanks again.  One final question.  The name Gehrels ...",
          "P-Posting-Host: access.digex.net  In article <1r6f3a$>  (Rouben Rostamian) writes: >how the length o...",
          "zation: [via International Space University] Original-Sender:  Distribution: sci Lines: 55  Apologie...",
          "8  In article <>  (Gary Coffman) writes:   > be the site of major commercial activity. As far as we ...",
          " 13  A brief political/cultural item.  Radio station WGMS in Washington is a classical music station...",
          " Lines: 13 Reply-To:  NNTP-Posting-Host: queen.eng.umd.edu  In article <>,  (Henry Spencer) writes: ...",
          "or in original version of preceding line at VACATION.VENARI.CS.CMU.EDU Organization: [via Internatio...",
          "x, Inc., Beaverton,  OR. Lines: 31   ----- News saved at 23 Apr 93 22:22:40 GMT In article <>  (Davi...",
          "e Communications USA Lines: 19 NNTP-Posting-Host: access.digex.net  In article <>  (Achurist) writes...",
          "ronto Zoology Lines: 15  In article <>  (Allen W. Sherzer) writes: >This prize isn't big enough to w...",
          "-Posting-Host: 145.1.146.43 Lines: 59  I am posting this for a friend without internet access. Pleas...",
          "ization: University of Alaska Fairbanks Lines: 55 Nntp-Posting-Host: acad3.alaska.edu  In article <>...",
          " University of Alaska Fairbanks Lines: 28 Nntp-Posting-Host: acad3.alaska.edu  That is an idea.. The...",
          " Organization: TI/DSEG VAX Support   In article <>,  (John F. Woods) writes: > (Norman Anderson) wri...",
          "stribution: world NNTP-Posting-Host: kelvin.jpl.nasa.gov Keywords: HST, Pluto, Uranus News-Software:...",
          " Institute Lines: 42  In article <>,   (Victor Laking) writes: > Does anyone have any info on the ap...",
          "ust one step further: >How has the word \"Clementine\" been associated with mining?    Old pioneer son...",
          "y of Alaska Fairbanks Lines: 21 Nntp-Posting-Host: acad3.alaska.edu  In article <>,  (Henry Spencer)...",
          "n: sci NNTP-Posting-Host: access.digex.net    I am sure  Mary or Henry can describe this more aptly ...",
          "-Posting-Host: cs.utexas.edu  In article <1raee7$>  (Pat) writes: >In article <>  (Ron Baalke) write...",
          "es: 14  In <>  writes:  >Since the DC-X is to take off horizontal, why not land that way?? >Why do t...",
          "h Center Lines: 16 Distribution: world Reply-To:  (CLAUDIO OLIVEIRA EGALON) NNTP-Posting-Host: tahit...",
          "ines: 35  In article <1rd1g0$>  (Pat) writes: >How will said re-boost be done? >Grapple, HST,  stow ...",
          " Lines: 56 NNTP-Posting-Host: fnalf.fnal.gov  In article <>,  (Frank J. Snyder) writes: > I am looki...",
          "sh Hopkins) writes: > (Keith Mancus) writes: >> (Layne Cook) writes: >>> The $25k Orteig prize helpe...",
          "lina State University, Project Eos Lines: 21   Hi all,      I'm trying to get mailing addresses for ...",
          "5-7155 v.32/v.42bis Lines: 27  In article <> mwm+@cs.cmu.edu (Mark Maimone) writes: >In article <>  ...",
          "IO OLIVEIRA EGALON) Distribution: world Organization: NASA Langley Research Center, Hampton, VA  USA...",
          "ding orbital billboards...] >And does anyone have any more details other than what was in the WN >ne...",
          "ion: Muppet Labs Lines: 27  In article <>  (fred j mccall 575-3539) writes: >In <>  (David McAloon) ...",
          "s: 13 Distribution: world Reply-To:  (CLAUDIO OLIVEIRA EGALON) NNTP-Posting-Host: tahiti.larc.nasa.g...",
          "ator:  Nntp-Posting-Host: snow.fox.cs.cmu.edu Organization: School of Computer Science, Carnegie Mel...",
          "NTP-Posting-Host: access.digex.net  In article <>  (fred j mccall 575-3539) writes: >isn't my real n...",
          "ines: 13  In article <1r6aqr$>  (Pat) writes: #The better question  should be. #Why not transfer  O&...",
          "Lines: 39 NNTP-Posting-Host: alumni.caltech.edu   (Matthew DeLuca) writes:  >In article <>  (David \"...",
          " Lines: 22 Reply-To:  NNTP-Posting-Host: queen.eng.umd.edu  In article <>,  (Allen W. Sherzer) write...",
          "Baltimore MD Lines: 14  Another fish to check out is Richard Rast -- he works for Lockheed Missiles,...",
          "e Centaur is controlled technology.. State Dept will not allow it to be used outside of US. Sorry. >...",
          "ept. of Energy, Mines, and Resources, Ottawa Lines: 15  As for SF and advertising in space. There is...",
          "ty of Victoria, Victoria, BC, Canada Lines: 33  In article <1qjs1j$>  (Pat) writes: > > >In the old ...",
          "s: 111        Ethnocentric USian that I am, I've assumed that we and the xUSSR were the only countri...",
          "lorado State University -=- Computer Science Dept. Lines: 11  Is the film from the \"putt-putt\" test ...",
          "osting-Host: pa881a Nntp-Posting-User: schiewer Lines: 9  What is the deal with life on Mars?  I sav...",
          "ing-Host: access.digex.net   Well thank you dennis for your as usual highly detailed and informative...",
          "sity of California, Irvine Lines: 30  Actually, they are legal! I not familiar with the ad you are s...",
          "Riverside Lines: 82 Nntp-Posting-Host: guitar.ucr.edu  There is an interesting opinion piece in the ...",
          " I need as much information about Cosmos 2238 and its rocket fragment (1993- 018B) as possible. Both...",
          "Greenbelt Maryland Lines: 23  Reported yesterday in the Washington Post (Kathy Sawyer, writer):  The..."
         ],
         "type": "scatter",
         "x": [
          -0.1146664172410965,
          -0.09074202179908752,
          -0.14320145547389984,
          -0.16492962837219238,
          -0.08804279565811157,
          -0.015819652006030083,
          -0.037550076842308044,
          -0.011833296157419682,
          -0.044426798820495605,
          -0.08046294748783112,
          0.09545888751745224,
          -0.012442328035831451,
          -0.02538631483912468,
          -0.17651426792144775,
          -0.06670645624399185,
          -0.2243507355451584,
          0.06841633468866348,
          0.049433883279561996,
          0.019884461537003517,
          -0.13481956720352173,
          0.006206393241882324,
          -0.01423353236168623,
          -0.07115943729877472,
          0.03345676511526108,
          -0.06584375351667404,
          -0.2066127210855484,
          -0.08906328678131104,
          -0.06320197880268097,
          0.024101128801703453,
          -0.1267978698015213,
          -0.02362377755343914,
          -0.21164600551128387,
          -0.012637571431696415,
          0.011368143372237682,
          -0.011671395972371101,
          -0.10909571498632431,
          -0.020031921565532684,
          -0.1386384218931198,
          -0.1706388145685196,
          -0.12235905975103378,
          -0.17545954883098602,
          0.17006176710128784,
          0.0001225692976731807,
          -0.1595686674118042,
          -0.1998366415500641,
          0.24253402650356293,
          0.03308017551898956,
          -0.03409392014145851,
          -0.0939224511384964,
          0.025292206555604935,
          -0.16612431406974792,
          -0.14852246642112732,
          -0.30744439363479614,
          -0.2017531543970108,
          0.05176052451133728,
          -0.19689969718456268,
          -0.1436813920736313,
          -0.21779456734657288,
          -0.141521155834198,
          -0.15856170654296875,
          -0.2426573932170868,
          -0.09575460851192474,
          -0.27051588892936707,
          -0.1573997437953949,
          -0.19594259560108185,
          -0.050378911197185516,
          -0.07229764759540558,
          -0.006239823065698147,
          -0.0726463794708252,
          -0.11769608408212662,
          -0.028093043714761734,
          -0.07192769646644592,
          -0.1715022325515747,
          0.1493184119462967,
          -0.0894148126244545,
          0.010755300521850586,
          -0.029036741703748703,
          -0.0618726909160614,
          0.024447953328490257,
          -0.02979205548763275,
          -0.08225058019161224,
          -0.08197097480297089,
          -0.10794254392385483,
          -0.18340972065925598,
          -0.00835745595395565,
          0.0008305269875563681,
          -0.06839082390069962,
          -0.0124519569799304,
          -0.08533309400081635,
          -0.04667814448475838,
          -0.1133558452129364,
          -0.04826190322637558,
          -0.005998118314892054,
          -0.03171037510037422,
          -0.2727125287055969,
          -0.1162361204624176,
          -0.1855984628200531,
          -0.11968283355236053,
          0.008374875411391258,
          0.05282273888587952,
          -0.03317107632756233,
          -0.1651569902896881,
          -0.12885820865631104,
          -0.15636806190013885,
          -0.09561748802661896,
          -0.1300681233406067,
          -0.049694426357746124,
          0.12153497338294983,
          0.008671846240758896,
          -0.12698855996131897,
          -0.19171589612960815,
          -0.01963087171316147,
          -0.10404273867607117,
          0.06117065250873566,
          -0.019299136474728584,
          0.0020224791951477528,
          -0.2144990712404251,
          -0.22152933478355408,
          -0.13884341716766357,
          -0.09397277981042862,
          -0.09942854940891266,
          -0.10849996656179428,
          -0.07913700491189957,
          -0.22674347460269928,
          -0.20587040483951569,
          -0.1351769119501114,
          -0.06303523480892181,
          -0.037561677396297455,
          0.020552173256874084,
          -0.11480218917131424,
          -0.009005982428789139,
          -0.0880872905254364,
          -0.18390539288520813,
          0.04137629270553589,
          -0.009905699640512466,
          -0.017953619360923767,
          -0.06474196165800095,
          0.14781126379966736,
          -0.006256293971091509,
          -0.13241004943847656,
          -0.10959974676370621,
          -0.0515284426510334,
          0.12987644970417023,
          -0.025740107521414757,
          -0.15551036596298218,
          0.005544920917600393,
          -0.035187266767024994,
          -0.11203689128160477,
          -0.09337298572063446,
          -0.011518965475261211
         ],
         "y": [
          0.23220936954021454,
          -0.016840754076838493,
          0.09892691671848297,
          -0.09838179498910904,
          0.29719310998916626,
          0.14026299118995667,
          0.18344780802726746,
          0.3361339569091797,
          0.34428900480270386,
          0.08789951354265213,
          0.26385852694511414,
          0.37290897965431213,
          0.29725825786590576,
          0.011492995545268059,
          0.1993170529603958,
          0.2519335448741913,
          0.1734112799167633,
          0.1451864242553711,
          0.1950850933790207,
          0.28615880012512207,
          0.1614837497472763,
          0.32922080159187317,
          0.222381129860878,
          0.23718172311782837,
          0.2548781633377075,
          0.1988200545310974,
          -0.041999273002147675,
          0.22616997361183167,
          0.1013135313987732,
          0.2781626880168915,
          0.2140531688928604,
          0.09403244405984879,
          -0.019063791260123253,
          0.3105138838291168,
          0.28066137433052063,
          0.302028089761734,
          0.07960350066423416,
          0.26112276315689087,
          0.24437396228313446,
          0.30986374616622925,
          0.4525616466999054,
          -0.001611362211406231,
          0.4020071029663086,
          -0.0495038665831089,
          0.04251318797469139,
          0.15579752624034882,
          0.15787847340106964,
          0.3784065544605255,
          0.0961994007229805,
          0.3441537320613861,
          -0.15208597481250763,
          0.3760116398334503,
          0.024822628125548363,
          0.2047039419412613,
          0.3329406976699829,
          0.052167072892189026,
          0.1499449461698532,
          0.15757597982883453,
          0.2565906345844269,
          0.2985842525959015,
          -0.036297306418418884,
          0.320609986782074,
          -0.06522586196660995,
          0.3862270712852478,
          0.3337104022502899,
          0.22367540001869202,
          0.08766094595193863,
          0.2646368741989136,
          0.15469689667224884,
          0.05044713616371155,
          0.33506059646606445,
          0.14831045269966125,
          0.3398180902004242,
          0.391632080078125,
          0.12471706420183182,
          0.05937438830733299,
          0.2095438838005066,
          0.13478337228298187,
          0.05135772377252579,
          0.3343732953071594,
          0.2091771811246872,
          0.1718113273382187,
          0.15476186573505402,
          0.18143600225448608,
          0.35284364223480225,
          0.2320508062839508,
          0.3023630976676941,
          0.24493582546710968,
          0.23177747428417206,
          0.20660606026649475,
          0.30726948380470276,
          0.29507890343666077,
          0.16569025814533234,
          0.2682410478591919,
          0.24861577153205872,
          0.20325838029384613,
          0.3211863338947296,
          0.25533807277679443,
          0.34453848004341125,
          0.2175656110048294,
          0.3291313052177429,
          0.3076421022415161,
          0.1696028709411621,
          0.19683514535427094,
          0.36497384309768677,
          0.18352524936199188,
          0.24409794807434082,
          0.36387014389038086,
          0.29755815863609314,
          0.08073443174362183,
          -0.030464015901088715,
          0.26453259587287903,
          0.35545995831489563,
          0.14268188178539276,
          0.3363112807273865,
          0.01071030180901289,
          0.21548567712306976,
          0.09239967912435532,
          0.12105170637369156,
          0.35008013248443604,
          0.008246807381510735,
          0.145603746175766,
          0.1262221336364746,
          0.06391958892345428,
          0.22825616598129272,
          0.37649697065353394,
          0.25648441910743713,
          0.30732402205467224,
          0.22846433520317078,
          0.20429323613643646,
          0.23698659241199493,
          0.09932246804237366,
          0.19439955055713654,
          0.17336280643939972,
          0.11515256017446518,
          0.25763648748397827,
          0.25916650891304016,
          0.37716102600097656,
          0.20935998857021332,
          0.16978685557842255,
          0.27945712208747864,
          0.05384226515889168,
          0.06454186141490936,
          0.08728766441345215,
          0.15086695551872253,
          0.2238255888223648,
          0.1836860477924347,
          0.20469413697719574,
          0.39948880672454834,
          0.19476492702960968
         ]
        }
       ],
       "layout": {
        "height": 800,
        "hovermode": "closest",
        "template": {
         "data": {
          "bar": [
           {
            "error_x": {
             "color": "#2a3f5f"
            },
            "error_y": {
             "color": "#2a3f5f"
            },
            "marker": {
             "line": {
              "color": "#E5ECF6",
              "width": 0.5
             },
             "pattern": {
              "fillmode": "overlay",
              "size": 10,
              "solidity": 0.2
             }
            },
            "type": "bar"
           }
          ],
          "barpolar": [
           {
            "marker": {
             "line": {
              "color": "#E5ECF6",
              "width": 0.5
             },
             "pattern": {
              "fillmode": "overlay",
              "size": 10,
              "solidity": 0.2
             }
            },
            "type": "barpolar"
           }
          ],
          "carpet": [
           {
            "aaxis": {
             "endlinecolor": "#2a3f5f",
             "gridcolor": "white",
             "linecolor": "white",
             "minorgridcolor": "white",
             "startlinecolor": "#2a3f5f"
            },
            "baxis": {
             "endlinecolor": "#2a3f5f",
             "gridcolor": "white",
             "linecolor": "white",
             "minorgridcolor": "white",
             "startlinecolor": "#2a3f5f"
            },
            "type": "carpet"
           }
          ],
          "choropleth": [
           {
            "colorbar": {
             "outlinewidth": 0,
             "ticks": ""
            },
            "type": "choropleth"
           }
          ],
          "contour": [
           {
            "colorbar": {
             "outlinewidth": 0,
             "ticks": ""
            },
            "colorscale": [
             [
              0,
              "#0d0887"
             ],
             [
              0.1111111111111111,
              "#46039f"
             ],
             [
              0.2222222222222222,
              "#7201a8"
             ],
             [
              0.3333333333333333,
              "#9c179e"
             ],
             [
              0.4444444444444444,
              "#bd3786"
             ],
             [
              0.5555555555555556,
              "#d8576b"
             ],
             [
              0.6666666666666666,
              "#ed7953"
             ],
             [
              0.7777777777777778,
              "#fb9f3a"
             ],
             [
              0.8888888888888888,
              "#fdca26"
             ],
             [
              1,
              "#f0f921"
             ]
            ],
            "type": "contour"
           }
          ],
          "contourcarpet": [
           {
            "colorbar": {
             "outlinewidth": 0,
             "ticks": ""
            },
            "type": "contourcarpet"
           }
          ],
          "heatmap": [
           {
            "colorbar": {
             "outlinewidth": 0,
             "ticks": ""
            },
            "colorscale": [
             [
              0,
              "#0d0887"
             ],
             [
              0.1111111111111111,
              "#46039f"
             ],
             [
              0.2222222222222222,
              "#7201a8"
             ],
             [
              0.3333333333333333,
              "#9c179e"
             ],
             [
              0.4444444444444444,
              "#bd3786"
             ],
             [
              0.5555555555555556,
              "#d8576b"
             ],
             [
              0.6666666666666666,
              "#ed7953"
             ],
             [
              0.7777777777777778,
              "#fb9f3a"
             ],
             [
              0.8888888888888888,
              "#fdca26"
             ],
             [
              1,
              "#f0f921"
             ]
            ],
            "type": "heatmap"
           }
          ],
          "heatmapgl": [
           {
            "colorbar": {
             "outlinewidth": 0,
             "ticks": ""
            },
            "colorscale": [
             [
              0,
              "#0d0887"
             ],
             [
              0.1111111111111111,
              "#46039f"
             ],
             [
              0.2222222222222222,
              "#7201a8"
             ],
             [
              0.3333333333333333,
              "#9c179e"
             ],
             [
              0.4444444444444444,
              "#bd3786"
             ],
             [
              0.5555555555555556,
              "#d8576b"
             ],
             [
              0.6666666666666666,
              "#ed7953"
             ],
             [
              0.7777777777777778,
              "#fb9f3a"
             ],
             [
              0.8888888888888888,
              "#fdca26"
             ],
             [
              1,
              "#f0f921"
             ]
            ],
            "type": "heatmapgl"
           }
          ],
          "histogram": [
           {
            "marker": {
             "pattern": {
              "fillmode": "overlay",
              "size": 10,
              "solidity": 0.2
             }
            },
            "type": "histogram"
           }
          ],
          "histogram2d": [
           {
            "colorbar": {
             "outlinewidth": 0,
             "ticks": ""
            },
            "colorscale": [
             [
              0,
              "#0d0887"
             ],
             [
              0.1111111111111111,
              "#46039f"
             ],
             [
              0.2222222222222222,
              "#7201a8"
             ],
             [
              0.3333333333333333,
              "#9c179e"
             ],
             [
              0.4444444444444444,
              "#bd3786"
             ],
             [
              0.5555555555555556,
              "#d8576b"
             ],
             [
              0.6666666666666666,
              "#ed7953"
             ],
             [
              0.7777777777777778,
              "#fb9f3a"
             ],
             [
              0.8888888888888888,
              "#fdca26"
             ],
             [
              1,
              "#f0f921"
             ]
            ],
            "type": "histogram2d"
           }
          ],
          "histogram2dcontour": [
           {
            "colorbar": {
             "outlinewidth": 0,
             "ticks": ""
            },
            "colorscale": [
             [
              0,
              "#0d0887"
             ],
             [
              0.1111111111111111,
              "#46039f"
             ],
             [
              0.2222222222222222,
              "#7201a8"
             ],
             [
              0.3333333333333333,
              "#9c179e"
             ],
             [
              0.4444444444444444,
              "#bd3786"
             ],
             [
              0.5555555555555556,
              "#d8576b"
             ],
             [
              0.6666666666666666,
              "#ed7953"
             ],
             [
              0.7777777777777778,
              "#fb9f3a"
             ],
             [
              0.8888888888888888,
              "#fdca26"
             ],
             [
              1,
              "#f0f921"
             ]
            ],
            "type": "histogram2dcontour"
           }
          ],
          "mesh3d": [
           {
            "colorbar": {
             "outlinewidth": 0,
             "ticks": ""
            },
            "type": "mesh3d"
           }
          ],
          "parcoords": [
           {
            "line": {
             "colorbar": {
              "outlinewidth": 0,
              "ticks": ""
             }
            },
            "type": "parcoords"
           }
          ],
          "pie": [
           {
            "automargin": true,
            "type": "pie"
           }
          ],
          "scatter": [
           {
            "fillpattern": {
             "fillmode": "overlay",
             "size": 10,
             "solidity": 0.2
            },
            "type": "scatter"
           }
          ],
          "scatter3d": [
           {
            "line": {
             "colorbar": {
              "outlinewidth": 0,
              "ticks": ""
             }
            },
            "marker": {
             "colorbar": {
              "outlinewidth": 0,
              "ticks": ""
             }
            },
            "type": "scatter3d"
           }
          ],
          "scattercarpet": [
           {
            "marker": {
             "colorbar": {
              "outlinewidth": 0,
              "ticks": ""
             }
            },
            "type": "scattercarpet"
           }
          ],
          "scattergeo": [
           {
            "marker": {
             "colorbar": {
              "outlinewidth": 0,
              "ticks": ""
             }
            },
            "type": "scattergeo"
           }
          ],
          "scattergl": [
           {
            "marker": {
             "colorbar": {
              "outlinewidth": 0,
              "ticks": ""
             }
            },
            "type": "scattergl"
           }
          ],
          "scattermapbox": [
           {
            "marker": {
             "colorbar": {
              "outlinewidth": 0,
              "ticks": ""
             }
            },
            "type": "scattermapbox"
           }
          ],
          "scatterpolar": [
           {
            "marker": {
             "colorbar": {
              "outlinewidth": 0,
              "ticks": ""
             }
            },
            "type": "scatterpolar"
           }
          ],
          "scatterpolargl": [
           {
            "marker": {
             "colorbar": {
              "outlinewidth": 0,
              "ticks": ""
             }
            },
            "type": "scatterpolargl"
           }
          ],
          "scatterternary": [
           {
            "marker": {
             "colorbar": {
              "outlinewidth": 0,
              "ticks": ""
             }
            },
            "type": "scatterternary"
           }
          ],
          "surface": [
           {
            "colorbar": {
             "outlinewidth": 0,
             "ticks": ""
            },
            "colorscale": [
             [
              0,
              "#0d0887"
             ],
             [
              0.1111111111111111,
              "#46039f"
             ],
             [
              0.2222222222222222,
              "#7201a8"
             ],
             [
              0.3333333333333333,
              "#9c179e"
             ],
             [
              0.4444444444444444,
              "#bd3786"
             ],
             [
              0.5555555555555556,
              "#d8576b"
             ],
             [
              0.6666666666666666,
              "#ed7953"
             ],
             [
              0.7777777777777778,
              "#fb9f3a"
             ],
             [
              0.8888888888888888,
              "#fdca26"
             ],
             [
              1,
              "#f0f921"
             ]
            ],
            "type": "surface"
           }
          ],
          "table": [
           {
            "cells": {
             "fill": {
              "color": "#EBF0F8"
             },
             "line": {
              "color": "white"
             }
            },
            "header": {
             "fill": {
              "color": "#C8D4E3"
             },
             "line": {
              "color": "white"
             }
            },
            "type": "table"
           }
          ]
         },
         "layout": {
          "annotationdefaults": {
           "arrowcolor": "#2a3f5f",
           "arrowhead": 0,
           "arrowwidth": 1
          },
          "autotypenumbers": "strict",
          "coloraxis": {
           "colorbar": {
            "outlinewidth": 0,
            "ticks": ""
           }
          },
          "colorscale": {
           "diverging": [
            [
             0,
             "#8e0152"
            ],
            [
             0.1,
             "#c51b7d"
            ],
            [
             0.2,
             "#de77ae"
            ],
            [
             0.3,
             "#f1b6da"
            ],
            [
             0.4,
             "#fde0ef"
            ],
            [
             0.5,
             "#f7f7f7"
            ],
            [
             0.6,
             "#e6f5d0"
            ],
            [
             0.7,
             "#b8e186"
            ],
            [
             0.8,
             "#7fbc41"
            ],
            [
             0.9,
             "#4d9221"
            ],
            [
             1,
             "#276419"
            ]
           ],
           "sequential": [
            [
             0,
             "#0d0887"
            ],
            [
             0.1111111111111111,
             "#46039f"
            ],
            [
             0.2222222222222222,
             "#7201a8"
            ],
            [
             0.3333333333333333,
             "#9c179e"
            ],
            [
             0.4444444444444444,
             "#bd3786"
            ],
            [
             0.5555555555555556,
             "#d8576b"
            ],
            [
             0.6666666666666666,
             "#ed7953"
            ],
            [
             0.7777777777777778,
             "#fb9f3a"
            ],
            [
             0.8888888888888888,
             "#fdca26"
            ],
            [
             1,
             "#f0f921"
            ]
           ],
           "sequentialminus": [
            [
             0,
             "#0d0887"
            ],
            [
             0.1111111111111111,
             "#46039f"
            ],
            [
             0.2222222222222222,
             "#7201a8"
            ],
            [
             0.3333333333333333,
             "#9c179e"
            ],
            [
             0.4444444444444444,
             "#bd3786"
            ],
            [
             0.5555555555555556,
             "#d8576b"
            ],
            [
             0.6666666666666666,
             "#ed7953"
            ],
            [
             0.7777777777777778,
             "#fb9f3a"
            ],
            [
             0.8888888888888888,
             "#fdca26"
            ],
            [
             1,
             "#f0f921"
            ]
           ]
          },
          "colorway": [
           "#636efa",
           "#EF553B",
           "#00cc96",
           "#ab63fa",
           "#FFA15A",
           "#19d3f3",
           "#FF6692",
           "#B6E880",
           "#FF97FF",
           "#FECB52"
          ],
          "font": {
           "color": "#2a3f5f"
          },
          "geo": {
           "bgcolor": "white",
           "lakecolor": "white",
           "landcolor": "#E5ECF6",
           "showlakes": true,
           "showland": true,
           "subunitcolor": "white"
          },
          "hoverlabel": {
           "align": "left"
          },
          "hovermode": "closest",
          "mapbox": {
           "style": "light"
          },
          "paper_bgcolor": "white",
          "plot_bgcolor": "#E5ECF6",
          "polar": {
           "angularaxis": {
            "gridcolor": "white",
            "linecolor": "white",
            "ticks": ""
           },
           "bgcolor": "#E5ECF6",
           "radialaxis": {
            "gridcolor": "white",
            "linecolor": "white",
            "ticks": ""
           }
          },
          "scene": {
           "xaxis": {
            "backgroundcolor": "#E5ECF6",
            "gridcolor": "white",
            "gridwidth": 2,
            "linecolor": "white",
            "showbackground": true,
            "ticks": "",
            "zerolinecolor": "white"
           },
           "yaxis": {
            "backgroundcolor": "#E5ECF6",
            "gridcolor": "white",
            "gridwidth": 2,
            "linecolor": "white",
            "showbackground": true,
            "ticks": "",
            "zerolinecolor": "white"
           },
           "zaxis": {
            "backgroundcolor": "#E5ECF6",
            "gridcolor": "white",
            "gridwidth": 2,
            "linecolor": "white",
            "showbackground": true,
            "ticks": "",
            "zerolinecolor": "white"
           }
          },
          "shapedefaults": {
           "line": {
            "color": "#2a3f5f"
           }
          },
          "ternary": {
           "aaxis": {
            "gridcolor": "white",
            "linecolor": "white",
            "ticks": ""
           },
           "baxis": {
            "gridcolor": "white",
            "linecolor": "white",
            "ticks": ""
           },
           "bgcolor": "#E5ECF6",
           "caxis": {
            "gridcolor": "white",
            "linecolor": "white",
            "ticks": ""
           }
          },
          "title": {
           "x": 0.05
          },
          "xaxis": {
           "automargin": true,
           "gridcolor": "white",
           "linecolor": "white",
           "ticks": "",
           "title": {
            "standoff": 15
           },
           "zerolinecolor": "white",
           "zerolinewidth": 2
          },
          "yaxis": {
           "automargin": true,
           "gridcolor": "white",
           "linecolor": "white",
           "ticks": "",
           "title": {
            "standoff": 15
           },
           "zerolinecolor": "white",
           "zerolinewidth": 2
          }
         }
        },
        "title": {
         "text": "Embedding Plot with Class Labels"
        },
        "width": 1200,
        "xaxis": {
         "showgrid": false,
         "showticklabels": false,
         "zeroline": false
        },
        "yaxis": {
         "showgrid": false,
         "showticklabels": false,
         "zeroline": false
        }
       }
      },
      "text/html": [
       "<div>                            <div id=\"fdd5b446-9b12-4711-bb34-481981f13f28\" class=\"plotly-graph-div\" style=\"height:800px; width:1200px;\"></div>            <script type=\"text/javascript\">                require([\"plotly\"], function(Plotly) {                    window.PLOTLYENV=window.PLOTLYENV || {};                                    if (document.getElementById(\"fdd5b446-9b12-4711-bb34-481981f13f28\")) {                    Plotly.newPlot(                        \"fdd5b446-9b12-4711-bb34-481981f13f28\",                        [{\"hoverinfo\":\"text\",\"marker\":{\"line\":{\"color\":\"white\",\"width\":0.5},\"size\":15},\"mode\":\"markers\",\"name\":\"Class sci.crypt\",\"opacity\":0.7,\"text\":[\"\\u003eIn the UK, it's impossible to get approval to attach any crypto device \\t\\u003eto the phone network.  (An...\",\"t of trawling through archives, I found the post I reproduce in full below.  Is it time to get toget...\",\"-Host: rac2.wam.umd.edu Organization: University of Maryland, College Park Lines: 11  In article \\u003c\\u003e ...\",\"est Center, University of Hamburg Distribution: na Lines: 33   (Marc Anderson) writes:  \\u003e methods.  ...\",\"rn Louisiana Lines: 52   (David Sternlight) writes:  \\u003eWhat follows is my opinion. It is not asserted...\",\"ion: Chaos Lines: 76 X-Newsreader: Archimedes ReadNews  -----BEGIN PGP SIGNED MESSAGE-----  In artic...\",\"Development, IBM Canada Lab. Disclaimer: This posting represents the poster's views, not those of IB...\",\".edu Organization: University of Texas at San Antonio Distribution: na Lines: 22  In article \\u003c\\u003e  (An...\",\"tes: \\u003eFor example, if I had a program on my disk which created totally random \\u003efiles looking like en...\",\" wiretap chip) Organization: AT&T Bell Laboratories Lines: 66  In article \\u003c\\u003e, Graham Toal \\u003c\\u003e writes:...\",\"13 NNTP-Posting-Host: access.digex.net   \\u003e Second question: Why!?!? Why is such a strange procedure ...\",\" 16: 47:03 GMT Organization: York U. Student Information Systems Project Lines: 18  Mark Riordan wri...\",\"es: 34  In article \\u003c1qg8m2$\\u003e  (Edward Vielmetti) writes:   \\u003e I would suggest that 50 attractive MIME...\",\" View, CA Lines: 20  In article \\u003c\\u003e,  (David Sternlight) writes: \\u003e ... \\u003e                             ...\",\"ication Services (408 241-9760 guest) X-Newsreader: Tin 1.1 PL5 Lines: 28  Besides being an infringe...\",\"rn Louisiana Distribution: na Lines: 25   (douglas craig holland) writes:   \\u003e\\tWith E-Mail, if they c...\",\" and Global Dynamics Division\\u002fNCAR, Boulder, CO Lines: 71  Here are some ideas for those of you who ...\",\"words: Hmm... Organization:  George Mason University, Fairfax Va. Distribution: world  Expires: 06\\u002f3...\",\"n: net Lines: 7  I am a PhD student. Can I get the sci.crypt group posted directly to me??? Also I w...\",\"zation: New Technology, Inc. Lines: 53  ( Below is my response to Dr. Denning's letter to Steven Bel...\",\"91711 Lines: 23  In article \\u003c\\u003e  (Robert Lewis Glendenning) writes: \\u003eFirst, what the fuck is NASA doi...\",\"il-Spec Computers Lines: 43  The M code stream  might be independently attacked based on knowledge o...\",\"H), Zurich, CH Lines: 120  Hmm, followup on my own posting... Well, who cares.  First let me try to ...\",\"s Gateway Lines: 171 NNTP-Posting-Host: cs.utexas.edu  Here are four pseudo-random character generat...\",\"lly -in- the chip, as \\topposed to what is allegedly programmed therein, raise yet another trust \\tiss...\",\".com Reply-To:  Organization: Qualcomm, Inc Lines: 37  In article \\u003c\\u003e,  (Vince Kub) writes: |\\u003e Now, |...\",\"Online Communication Services (408 241-9760 guest) Distribution: na Lines: 35  Clipper Chip is a res...\",\"on: na Organization: ClariNet Communications Corp. Lines: 29  In article \\u003c1qnn7b$\\u003e  (Marcus J Ranum)...\",\"Greenbelt, MD USA Lines: 25 NNTP-Posting-Host: access.digex.net  Okay, let's suppose that the NSA\\u002fNI...\",\"etap chip) Lines: 16  : At the company I worked for previously, I received a file that was des encry...\",\"on: ClariNet Communications Corp. Distribution: na Lines: 37  The stragegy of the government is inte...\",\"-Posting-Host: sunspot.ece.clarkson.edu Cc: tuinstra   Q:   Who was consulted?  The Congress?  Indus...\",\" Texas - Austin Lines: 53 NNTP-Posting-Host: tramp.cc.utexas.edu Originator:    In article \\u003c\\u003e,  (Phi...\",\" would be to make PGP available : in some form on EBCDIC machines.  Don't encourage them.  Let EBCDI...\",\"e Design Automation Lines: 17       Notwithstanding all the legitimate fuss about this proposal, how...\",\"reader: TIN [version 1.1 PL7] Lines: 41  Charles Kincy () wrote: :  : All I have to say is...yeah, r...\",\"s:  \\u003eBut do we really believe that the various governments \\u003e(including ours) won't have the full lis...\",\" Performance Group, Austin, TX X-Newsreader: rusnews v1.01 Lines: 17   (Steve Brinich) writes:  \\u003e  \\u003e...\",\"u by the numbers 2, 3, and 7 In-Reply-To: 's message of 19 Apr 93 18:23:27 -0400 Nntp-Posting-Host: ...\",\"ribution: world NNTP-Posting-Host: jfenton.kaleida.com X-UserAgent: Nuntius v1.1.1d12 X-XXMessage-ID...\",\"desparately* prefer it if we didn't rehash the same arguments that went on ad infinitum last time.  ...\",\"ganization: NASA Science Internet Project Office Lines: 24    |\\u003e    The Attorney General will procur...\",\"(Brad Templeton)  \\tLet's assume, for the moment, that the system really is secure unless \\tyou get bo...\",\"an old posting about CELP speech compression:  \\tIn case you'd like to experiment with CELP, you can ...\",\" 29  In \\u003c\\u003e  (John R. Levine) writes: (quoting someone else here)  \\u003e\\u003eThe cryptographic protocol, thou...\",\"orm the voice compression\\u002fexpansion.  They can't : be expensive, because they exist in many phones c...\",\"ganization: University of Colorado, Boulder Distribution: na Lines: 11  I change login passwords eve...\",\"rsity of Colorado, Boulder Distribution: na Lines: 32  In article \\u003c\\u003e  (Marc Anderson) writes: [...] ...\",\"lt, MD USA Lines: 10 NNTP-Posting-Host: access.digex.net    I suspect that the decisive element in t...\",\"ns, Greenbelt, MD USA Lines: 7 NNTP-Posting-Host: access.digex.net   \\u003e er, excuse me but since the e...\",\"ost: qualcom.qualcomm.com Organization: Qualcomm, Inc., San Diego, CA Distribution: na Lines: 8   (J...\",\"ilink Corporation, Petaluma, CA Lines: 19  In article \\u003c\\u003e,  (David Sternlight) writes: \\u003e  \\u003e Chances a...\",\". - Genetics Lines: 30  In article \\u003c\\u003e,  (Vesselin Bontchev) wrote: \\u003e  \\u003e  (Andrew Haley) writes: \\u003e  \\u003e...\",\"tion: na Lines: 13  \\u003e\\u003e\\tWith E-Mail, if they can't break your PGP encryption, they'll just \\u003e\\u003ecall up ...\",\"t. of Math, Harvard Univ. Nntp-Posting-Host: zariski.harvard.edu Lines: 33  In article \\u003c1ppg02$\\u003e   (...\",\"tap chip) In-Reply-To: 's message of Wed, 21 Apr 1993 13:23:18 GMT Nntp-Posting-Host: epcot.harlequi...\",\"IN [version 1.1 PL6] Lines: 35  I guess the cryptowranglers read this group too.  But of course I kn...\",\"20  In article \\u003c\\u003e,  (D. J. Bernstein) writes: \\u003e Short summary of what Bellovin says Hellman says the...\",\"g-Host: beethoven.cs.colostate.edu Organization: Colorado State University, Computer Science Departm...\",\"st: pizzabox.demon.co.uk Reply-To: Graham Toal \\u003c\\u003e Organization: Cuddlehogs Anonymous Lines: 9  In ar...\",\"nstruments, Inc. Nntp-Posting-Host: dsg4.dse.beckman.com Lines: 22  In \\u003c\\u003e  (Jonathan Eifrig) writes:...\",\"Fairfax VA Distribution: na Lines: 65   (Timothy C. May) writes:  \\u003eBrad Templeton () wrote: \\u003e: It oc...\",\"al Sciences Lines: 29 Distribution: inet NNTP-Posting-Host: moink.nmsu.edu  In article \\u003c\\u003e  (1016\\u002f2EF...\",\" Systems Corporation - Herndon, VA  USA Lines: 30 Distribution: world Reply-To:  (Amanda Walker) NNT...\",\"ogy (ETH), Zurich, CH Lines: 28  In article \\u003c1qv83m$\\u003e  (Jim McCoy) writes: \\u003e\\tI set up a bbs that use...\",\"Nntp-Posting-Host: zariski.harvard.edu Lines: 55  In article \\u003c\\u003e   (D. J. Bernstein) writes: \\u003e \\u003eI wan...\",\"TP server at csrc.ncsl.nist.gov no longer \\trecognizes the 'expn' and 'vrfy' commands...  \\t   telnet ...\",\" chip) Organization: CSRI, University of Toronto Lines: 31  In article \\u003c\\u003e  (John Kelsey) writes: \\u003e  ...\",\"Access UNIX\\u002fInternet Project Lines: 16  In article \\u003c\\u003e  (Peter Gutmann) writes: [article deleted] \\u003e \\u003e...\",\"ation - Herndon, VA  USA Lines: 68 Distribution: world Reply-To:  (Amanda Walker) NNTP-Posting-Host:...\",\"WPI; Marlboro Ma Lines: 35  In article \\u003c1qn1ic$\\u003e  (Peter Wayner) writes: \\u003eOkay, let's suppose that t...\",\"thoughts Lines: 7  The cryptographic algorythm MUST be kept secret, or private individuals could mak...\",\"mino theory was right... Organization: Chinet - Public Access UNIX Distribution: na Lines: 8  In art...\",\"mputing of WPI; Marlboro Ma Distribution: na Lines: 26  In article \\u003c\\u003e Graham Toal \\u003c\\u003e writes: \\u003eIn art...\",\"Laboratories, Inc., San Diego, California Lines: 15  In article \\u003c\\u003e Graham Toal \\u003c\\u003e writes: \\u003eI am *com...\",\"ap, clipper, key-escrow, Mykotronx Organization: Banzai Institute Lines: 19 Nntp-Posting-Host: mycro...\",\"Center, University of Hamburg Lines: 23   (David Sternlight) writes:  \\u003e I will provide one hint: it ...\",\"ity Lines: 22  In article \\u003c\\u003e Rick Miller \\u003c\\u003e writes: \\u003e (Jurgen Botz) writes: \\u003e\\u003e (Marc Horowitz N1NZU)...\",\"  Here is a disturbing thought.  Now, we no longer live in the days of big filing cabinets. We live ...\",\": 27 NNTP-Posting-Host: nuustak.csir.co.za X-Disclaimer: None of the opions expressed herein are the...\",\"rtin University of Technology  In article \\u003c\\u003e,  (Steve Johnson) writes: \\u003e  (Brad Templeton) writes: \\u003e...\",\" capriccioso X-Newsreader: TIN [version 1.1 PL6] Distribution: na Lines: 54  I am eager to hear the ...\",\"le \\u003c1r0nov$\\u003e  (Steve Brinich) writes:   \\u003e \\u003e 1. American manufacturers peddling Cripple Chips with a ...\",\"presents the poster's views, not necessarily those of IBM. Nntp-Posting-Host: kingbee.watson.ibm.com...\",\"etap chip) Organization: Computing Research Lab Lines: 36 \\t\\u003c\\u003e \\t\\u003c\\u003e \\u003c\\u003e NNTP-Posting-Host: lole.nmsu.ed...\",\"t Omaha Distribution: na Lines: 18   (Geoffrey Kuenning) writes:  \\u003eIt always amazes me how quick peo...\",\" chips for phones, not computer-bound station)_ Article-I.D.: agora.C5qy3M.DE3 Organization: Open Co...\",\"of Math, Harvard Univ. Nntp-Posting-Host: zariski.harvard.edu Lines: 27  In article \\u003c\\u003e  (Paul Crowle...\",\"! Nntp-Posting-Host: qualcom.qualcomm.com Organization: Qualcomm, Inc., San Diego, CA Distribution: ...\",\"bistromath.mitre.org Organization: The MITRE Corporation Lines: 41  In article \\u003c\\u003e  (David Sternlight...\",\"Communications, Greenbelt, MD USA Lines: 6 Distribution: na NNTP-Posting-Host: access.digex.net    F...\",\"-Mailer: Simple NEWS 1.90 (ka9q DIS 1.19) Lines: 23  In article \\u003c\\u003e  writes:  \\u003esince the price of 1.4...\",\"e conservation of momentum Distribution: na Lines: 65  In article \\u003c\\u003e  (Jerry Han) writes: \\u003eIn articl...\",\"ribution: na Lines: 47   (Jerry Han) writes: \\u003e The point of the matter is that; yes this is a seriou...\",\"istribution: inet Reply-To:  NNTP-Posting-Host: minerva.cis.yale.edu X-Newsreader: TIN [version 1.1 ...\",\"ut a box that you plug your phone into, which would allow \\t\\u003eencrypted voice communications with some...\",\" wiretap chip) Organization: AT&T Bell Laboratories Lines: 28  In article \\u003c\\u003e,  (James R Ebright) wri...\",\"ost: beethoven.cs.colostate.edu Organization: Colorado State University, Computer Science Department...\",\" I am testing IDEA block cipher implementations for correctness and needs some golden test vectors. ...\",\", wiretap, clipper, key-escrow, Mykotronx Nntp-Posting-Host: top.magnus.acs.ohio-state.edu Organizat...\",\"ed Systems Architecture   \\tI have a bunch of questions about the encryption scheme referenced in the...\",\"Communications, Greenbelt, MD USA Lines: 5 Distribution: na NNTP-Posting-Host: access.digex.net   \\u003e ...\",\"edu Organization: University of Missouri - Rolla, Rolla, MO Lines: 19  In article \\u003c\\u003e  (Bob Cain) wri...\",\"ting-Host: eff.org Organization: The Electronic Frontier Foundation Lines: 26  Clipper might be a go...\",\"a.edu Organization: UCLA, Computer Science Department Distribution: na Lines: 18  In article \\u003c\\u003e  (Pa...\",\"ion: Engineering Computer Network Distribution: na Lines: 27  In article \\u003c\\u003e,  (Brad Templeton) write...\",\"y-To:  Organization: Design Automaton Div., Texas Instruments, Inc. Lines: 36  \\u003e (Andrew Molitor) wr...\",\"r, Minneapolis, MN Lines: 18  I agree that notifying your elected officials of your feelings on this...\",\"41-9760 guest) X-Newsreader: Tin 1.1 PL5 Lines: 41  Perry E. Metzger () wrote: : Here is a disturbin...\",\"N [version 1.1 PL6] Lines: 84  *** SOURCE code to Macintosh PGP 2.2 now available via anonymous FTP ...\",\" DSI\\u002fUSCRPAC Lines: 39  In article \\u003c\\u003e  (Derek Atkins) writes:   \\u003e \\u003eThe point here is not the specifi...\",\"41     Organization: Mission Operations and Data Systems Distribution: na Lines: 44  In article \\u003c1qn...\",\" The MITRE Corporation Lines: 67  In article \\u003c\\u003e  (Carl M Kadie) writes: \\u003e (Andrew S Hall) writes: \\u003e ...\",\"Thu, 20 May 1993 00:00:00 GMT Organization: Computer Science, Indiana University Lines: 163 Content-...\",\": 21 NNTP-Posting-Host: scss3.cl.msu.edu X-Newsreader: TIN [version 1.1 PL8]  For those of you looki...\",\"ration - Herndon, VA  USA Lines: 35 Distribution: world Reply-To:  (Amanda Walker) NNTP-Posting-Host...\",\"s! Organization: Kubota Pacific Computer, Inc. Lines: 46   (Brad Yearwood) writes: | If Clipper come...\",\"13  In article \\u003c\\u003e  (Phil Karn) writes: \\u003eIt looks like Dorothy Denning's wrong-headed ideas have gott...\",\" 139  The following document summarizes the Clipper Chip, how it is used, how programming of the chi...\",\"tion: Partnership for an America Free Drug Distribution: na Lines: 104   (Robert Ward) writes: \\u003eIn a...\",\" In article \\u003c:  (Peter Trei) writes: :Judge: \\\"I grant you immunity from whatever may be learned from...\",\"ll Square Research Corp. Lines: 20   (Steve Johnson) writes: \\u003e\\u003e-Tim May, whose sig block may get him...\",\"anization: Beckman Instruments, Inc. Nntp-Posting-Host: dsg4.dse.beckman.com Lines: 15  In \\u003c\\u003e  (Jame...\",\"993 04:00:07 GMT Reply-To:  NNTP-Posting-Host: pad-thai.aktis.com Summary: Part 3 of 10 of the sci.c...\",\" IA, USA Lines: 43   (Philip Zimmermann) writes:  Philip, I think your ideas are well taken and cons...\",\"ines: 23  In article \\u003c\\u003e  (Kenneth Ng) writes: \\u003eIn article \\u003c:  (Peter Trei) writes: \\u003e:Judge: \\\"I grant...\",\"ganization: Thibault & Friends Lines: 10  In article \\u003c\\u003e  (The Jester) writes:   \\u003e Proof Windows is a...\",\"g read the various \\\"Clipper\\\" announcements on the net over the last few  days and a LOT of uninforme...\",\"tap chip) Organization: Harvey Mudd College, Claremont, CA 91711 Lines: 15  In article \\u003c\\u003e  (Steven B...\",\"f Comp. Sci., Urbana, IL Lines: 18   (Tal Kubo) writes:  [...] \\u003eThe EFF has been associated with eff...\",\"04:00:07 GMT Reply-To:  NNTP-Posting-Host: pad-thai.aktis.com Summary: Part 2 of 10 of the sci.crypt...\",\"7:40:17 GMT Nntp-Posting-Host: l-b-johnson.eff.org Organization: Electronic Frontier Foundation X-Us...\",\"te of Technology (ETH), Zurich, CH Lines: 19  In article \\u003c\\u003e  (Graham Toal) writes: \\u003eCan someone tell...\",\"ution: na Lines: 26  In article \\u003c\\u003e  (Karl Barrus) writes:  \\u003e \\u003eWould you trust a black-box from the N...\",\"Inc. Lines: 38 Nntp-Posting-Host: signal.ece.clarkson.edu  [Apologies for not posting to alt.clipper...\",\"0:07 GMT Reply-To:  NNTP-Posting-Host: pad-thai.aktis.com Summary: Part 1 of 10 of the sci.crypt FAQ...\",\"urgh University Distribution: inet Lines: 12  Quoting  in article \\u003c\\u003e: \\u003ePerhaps these encryption-only...\",\". Sci., Urbana, IL Lines: 42   (Andrew S Hall) writes:  \\u003eI am postive someone will correct me if I a...\",\"nes: 27 Distribution: na \\t\\u003c\\u003e NNTP-Posting-Host: menudo.uh.edu In-reply-to: 's message of Sun, 18 Apr...\",\"a Organization: Totally Unorganized Lines: 17  In article \\u003c1r21t1$\\u003e  (Steve Brinich) writes: \\u003c \\u003c \\u003e I...\",\"Universitaetsrechenzentrum, Heinrich-Heine-Universitaet, Duesseldorf Lines: 40 NNTP-Posting-Host: la...\",\"nication Services (408 241-9760 guest) Lines: 61  In article \\u003c\\u003e  (Robin Hanson) writes: \\u003eI'm attempt...\",\"e \\u003c\\u003e  writes: \\u003c (David Sternlight) writes: \\u003c \\u003c\\u003e Here's a simple way to convert the Clipper proposal ...\",\"ni-kl.de Organization: University of Kaiserslautern, Germany Lines: 39   (Stephan Neuhaus (HiWi Matt...\",\".citicorp.com X-Newsreader: TIN [version 1.1 PL6]  As of yet, there has been no description of the g...\",\"n: GeoQuest System, Inc. Houston Lines: 17  In article \\u003c\\u003e  (Perry E. Metzger) writes: \\u003e \\u003eeach of the...\",\"In article \\u003c\\u003e,  (Vernon Schryver) writes: \\u003e In article \\u003c\\u003e,  (David Sternlight) writes: \\u003e\\u003e           ...\",\" Systems Corporation - Herndon, VA  USA Lines: 34 Distribution: world Reply-To:  (Amanda Walker) NNT...\",\"ngland Lines: 25  -----BEGIN PGP SIGNED MESSAGE-----  Hi all..  Does anyone know of a UNIX utility a...\",\"8 NNTP-Posting-Host: ellisun.sw.stratus.com Keywords: cooperation  In article \\u003c\\u003e  writes: \\u003esay, can ...\"],\"x\":[0.3619895279407501,0.29611989855766296,0.3798675239086151,0.43690308928489685,0.5080193281173706,0.4112434685230255,0.5548969507217407,0.2886313498020172,0.2085956484079361,0.3853326141834259,0.1870744675397873,0.0068153394386172295,0.033251598477363586,0.14878614246845245,0.3655679523944855,0.4049310088157654,0.3578945994377136,0.5839844346046448,0.1944308578968048,0.2538604140281677,0.27731892466545105,0.4570673406124115,0.45059338212013245,0.012788054533302784,0.3812672197818756,0.3374846577644348,0.5158757567405701,0.5359349250793457,0.45430588722229004,0.29275593161582947,0.5701317191123962,0.43308717012405396,0.12982021272182465,0.04146270826458931,0.48002707958221436,0.2824181616306305,0.5739378929138184,0.13564974069595337,0.3574618101119995,0.367592453956604,0.39785194396972656,0.5319212079048157,0.5433924794197083,0.19771167635917664,0.5141030550003052,0.3358733355998993,0.3480771481990814,0.1614539474248886,0.4087317883968353,0.3305850327014923,0.22812071442604065,0.48391279578208923,-0.01919655315577984,0.216249480843544,0.3247372806072235,0.3448055684566498,0.23971720039844513,0.41523274779319763,0.4530714154243469,0.15168863534927368,0.2706272602081299,0.5103638768196106,0.40849941968917847,0.5546751022338867,0.35160574316978455,0.3219372630119324,0.18725043535232544,0.5458387136459351,0.08115321397781372,0.43409493565559387,0.5372514128684998,0.5240863561630249,0.11398983001708984,0.3758038282394409,0.08406820148229599,0.5408084988594055,0.27132299542427063,0.08421048521995544,0.35412898659706116,0.2869574725627899,0.46121254563331604,0.4336051940917969,0.3559516966342926,0.32420045137405396,0.3074243366718292,0.3570694327354431,0.5901880264282227,0.33653444051742554,0.22904114425182343,0.4523997902870178,0.09169212728738785,0.1664128601551056,0.04752988740801811,0.10907584428787231,0.3121201992034912,0.4238399863243103,0.39190343022346497,0.6183822751045227,0.027081746608018875,0.45062077045440674,0.20360349118709564,0.2484927922487259,0.2597392797470093,0.4102106988430023,0.25756749510765076,0.5053077340126038,0.2580731213092804,0.18092241883277893,0.393198698759079,0.07220630347728729,0.5503166317939758,0.46519917249679565,0.3369132876396179,0.2020740807056427,-0.021254461258649826,0.5612450242042542,0.5494554042816162,0.07614076882600784,0.5792850852012634,0.18425340950489044,0.32450157403945923,0.33705803751945496,0.36173439025878906,0.1542380452156067,0.35069990158081055,0.2529226243495941,0.11778812110424042,0.49624067544937134,0.47986844182014465,0.1963614821434021,0.21685460209846497,0.1921217292547226,0.24327753484249115,0.39556342363357544,0.5066112875938416,0.3013162612915039,0.31250038743019104,0.37701326608657837,0.3473871052265167,0.28869959712028503,0.3559902608394623,0.38765692710876465,0.5262153744697571,0.17608223855495453,0.3851146101951599,0.3982657790184021,0.4004369378089905,0.35218867659568787,0.2152498960494995,0.35923299193382263],\"y\":[0.021218599751591682,0.06609833985567093,-0.21539776027202606,-0.2776796817779541,-0.1456919014453888,-0.17482182383537292,-0.18691407144069672,-0.11299307644367218,-0.1298842877149582,-0.04289902746677399,-0.04525081440806389,0.18531692028045654,-0.022959526628255844,-0.10786167532205582,-0.05258304253220558,-0.05044211819767952,-0.05472796410322189,-0.23480264842510223,0.11809271574020386,-0.1327686458826065,0.11390648782253265,-0.08195535093545914,-0.033244285732507706,0.04497647285461426,-0.1941913515329361,-0.15658949315547943,-0.12529979646205902,-0.23141837120056152,-0.1803385317325592,-0.021667880937457085,-0.15600712597370148,-0.07097476720809937,-0.37845465540885925,0.11995413154363632,-0.08359681069850922,-0.017104586586356163,-0.144870787858963,0.01535931695252657,-0.0047697522677481174,-0.2597179710865021,-0.056727807968854904,-0.1364172399044037,-0.20824512839317322,0.1237710565328598,-0.11117848753929138,0.08744844049215317,-0.09413246810436249,-0.32991862297058105,-0.20029538869857788,-0.11258652806282043,-0.06718973815441132,-0.16998717188835144,-0.11987236887216568,0.059181854128837585,-0.1315087527036667,0.0034554891753941774,-0.16073037683963776,-0.11823943257331848,-0.22555600106716156,0.0315178781747818,-0.0895027369260788,-0.16543015837669373,-0.12024594843387604,-0.15911664068698883,-0.19753870368003845,-0.08913682401180267,-0.09910757094621658,-0.1434294730424881,-0.09294629096984863,0.007213747128844261,-0.17853185534477234,-0.13915657997131348,-0.03620166331529617,-0.07523855566978455,-0.09805135428905487,-0.10261937975883484,-0.08800152689218521,-0.037061907351017,-0.0966847762465477,0.06941895186901093,-0.16735902428627014,-0.21841885149478912,-0.16129346191883087,-0.12391918152570724,-0.09036688506603241,-0.127074733376503,-0.20406359434127808,-0.23785564303398132,-0.25050973892211914,-0.250286728143692,0.0881555899977684,0.09295958280563354,-0.13667388260364532,-0.09772851318120956,-0.20006884634494781,-0.05701865628361702,-0.004849905613809824,-0.0996798649430275,0.07925477623939514,-0.18787305057048798,-0.04757535085082054,-0.07632371038198471,-0.18165065348148346,-0.2204878330230713,-0.10036004334688187,-0.27029693126678467,-0.07876406610012054,0.02506815455853939,-0.18129941821098328,0.05436663702130318,-0.24562561511993408,-0.13337630033493042,-0.32043835520744324,-0.062230873852968216,0.10715378075838089,-0.15589694678783417,-0.2159135490655899,-0.12163709849119186,-0.08044279366731644,-0.15645968914031982,-0.2950279414653778,-0.21589933335781097,-0.05209210887551308,0.047524288296699524,-0.12709061801433563,-0.26795461773872375,-0.07093320786952972,-0.05053303390741348,-0.03567555546760559,-0.19271515309810638,0.020118599757552147,0.028085606172680855,0.10306340456008911,-0.1186923086643219,-0.1465279757976532,0.04091964289546013,-0.16471731662750244,-0.3788893222808838,-0.09550313651561737,-0.13529744744300842,0.03835488110780716,0.003537180367857218,-0.18132545053958893,-0.16304077208042145,-0.03768689185380936,0.06977081298828125,-0.05307913199067116,0.016898922622203827,-0.139584481716156,-0.18288125097751617],\"type\":\"scatter\"},{\"hoverinfo\":\"text\",\"marker\":{\"line\":{\"color\":\"white\",\"width\":0.5},\"size\":15},\"mode\":\"markers\",\"name\":\"Class sci.electronics\",\"opacity\":0.7,\"text\":[\"ity of Minnesota, Duluth Lines: 28 NNTP-Posting-Host: ua.d.umn.edu  In article \\u003c\\u003e  (Bijan Mobasseri)...\",\"tern Reserve University, Cleveland, Ohio (USA) Lines: 45 NNTP-Posting-Host: slc10.ins.cwru.edu     A...\",\"8-241-9760 login: guest) Lines: 25   (Neal Patrick Howland) writes: \\u003e \\u003eFrom what I understand about ...\",\" of Illinois at Urbana Lines: 14  As the subject says - Can I use a 4052 for digital signals?  I don...\",\"17    I would like to be able to amplify a voltage signal which is output from a thermocouple, prefe...\",\"rt Collins Site X-Newsreader: TIN [version 1.1 PL8.5] Lines: 5  Has anyone ever heard of FET-TRONS (...\",\"mulation Organization: Harris Controls Lines: 18   I recently ftp'd Al's Circuit Simulator (ACS) and...\",\"zation: Medical Informatics, Pittsburgh, PA USA Lines: 33   \\tGreetings. I've been seeing the word \\\"s...\",\"ceiver system Organization: National Hospitals, Iceland Lines: 19   Dear Netters I want to send EMG-...\",\"ology Hatley & Pirbhai ? I am a British final year real-time degree student, and as a project I am c...\",\"t Imag, Grenoble, France Lines: 38  In article \\u003c\\u003e,  (Ketil Albertsen,TIH) writes: |\\u003e In article \\u003c\\u003e, ...\",\" 8 News-Software: VAX\\u002fVMS VNEWS 1.41 Nntp-Posting-Host: ubvmsb.cc.buffalo.edu   \\tHow does the radio ...\",\"echnological University X-Newsreader: TIN [version 1.1 PL8] Lines: 21  Charlie Brett () wrote: : You...\",\"ersity, St. Louis MO Lines: 88  In article \\u003c\\u003e  (Stan Burton) writes: \\u003e \\u003e-- \\u003e \\u003eI would like to be abl...\",\". Keywords: pattern Summary: MDA\\u002fEGA\\u002fVGA pat. gen. Lines: 15  I repair a lot of monitors here, and I...\",\"tion, Huntsville AL Lines: 25  In article \\u003c\\u003e,  (Michael DeAddio) writes:  |\\u003e |\\u003e The 'beam' is split ...\",\" We have a setup with with 13 polaroid transducers and rangefinders. We would like to fire these thr...\",\" 12   (Ronald W. Butts, Jr.) writes:  \\u003eI am looking for suppliers of 900MHz spread spectrum radio mo...\",\"Hz, problems (FPU exception) Nntp-Posting-Host: prawn.sp.ph Organization: Imperial College of Scienc...\",\" In article \\u003c\\u003e  writes: \\u003eIn article \\u003c\\u003e,  (Russ Crisp) writes: \\u003e\\u003e I'm considering modernizing some ol...\",\"s: 10   In article \\u003c\\u003e, Joseph Chiu writes:  \\u003e The Ohmite company was the first to characterize resis...\",\"es (408-241-9760 login: guest) Lines: 32  Sci.E(E) netters:  I am setting out to build and market a ...\",\"edu Organization: Michigan Technological University Lines: 32  In article \\u003c\\u003e,  (Russ Crisp) wrote: \\u003e...\",\": TIN [version 1.1 PL8] Lines: 15   Hi there  Does anyone know how to get hold of data as well as st...\",\"4  Can anybody recommend a good, application-oriented beginner's reference to RF circuits?    I am p...\",\"0  Does any one know if the 6551 is timing\\u002fpin compatible with the 6551..  It seems the 6551 has in ...\",\"MM\\u003e (Martin McCormick) MM\\u003eOrganization: Oklahoma State University, Stillwater, OK MM\\u003e\\tWhat sort of l...\",\"rganization: Chalmers University of Technology, Gothenburg Sweden Lines: 10  Does anybody know anyth...\",\" Hewlett-Packard X-Newsreader: TIN [version 1.1 PL8.9] Lines: 8  While driving through the middle of...\",\"ple that are interested in every aspect of the 2600 try the zine:  2600 connection $1 cash to : Timo...\",\"niversity  Lines: 12  Since I have seen various different numbers to dial to get your number read ba...\",\"rticle \\u003c\\u003e  (Billy Quinn) writes: \\u003eI built a little project using the radio shack 5vdc relays to swit...\",\"anization: SDSU - LARC Lines: 16 NNTP-Posting-Host: larc.sdsu.edu  In article \\u003c\\u003e,  (Scott Townsend) ...\",\"nto Zoology Lines: 13  In article \\u003c\\u003e  (Michael Golan) writes: \\u003eThe board itself is also identical, w...\",\": na Organization: APG-Edgewood, MD, USA Lines: 26   PLease take these and use them.  Take advantage...\",\"atik Nntp-Posting-Host: schroeder.ifi.unibas.ch Lines: 11  Great, the first advantage of cheap coax,...\",\"y-To:  Organization: New York University Lines: 13  I'm looking to build a microphone preamp that ha...\",\"Lines: 12  Any info on modern 20MHZ or better dual trace scopes would be appreciated. Should I buy a...\",\"cation Services (408 241-9760 guest) Lines: 25   I had a similar idea, for a fax\\u002fanswering machine s...\",\"derbyl) Organization: MPR Teltech Ltd. Lines: 30   writes: \\u003eInitial symptoms: \\u003e-no picture or sound ...\",\"In article \\u003c\\u003e  (Stephe Lewis Foskett) writes: \\u003e \\u003eI'm doing sound for a couple of bands around here a...\",\"Organization: Utah State Univ. EE Nntp-Posting-Host: sol.ee.usu.edu Lines: 32  In article \\u003c\\u003e,  (Robe...\",\"Services (408 241-9760 guest) Distribution: usa Lines: 19   I bought this chip from Suncoast Technol...\",\"ton University, St. Louis MO Lines: 32  In article \\u003c\\u003e  (J. Babb) writes: \\u003eFellow Info-junkies, \\u003e  I ...\",\"AI Programs, University of Georgia, Athens Lines: 13  You can get a *little* UV by putting a heavy U...\",\" University In-Reply-To: 's message of Mon, 19 Apr 93 00:38:00 GMT X-News-Reader: VMS NEWS 1.24 Line...\",\"g-Host: hpctdkz.col.hp.com  \\u003e   Does anybody out there have one of those food dehydrators I've been ...\",\"is  In \\u003c\\u003e  (Ketil Albertsen,TIH) writes:  \\u003eMay we interpret this as an offer to volunteer as editor ...\",\"e-Hulman Lines: 14 NNTP-Posting-Host: g222-26.nextwork.rose-hulman.edu Keywords: 68hc16  In article ...\",\"truments Inc. Nntp-Posting-Host: 134.217.245.87 Lines: 11  Does anyone know of an FTP site where I m...\",\"ut how to build a cheap, low resolution (or high :-) video projector...   (example: a LCD and an sli...\",\"on: University of Wales, Aberystwyth Lines: 23  I have a Fujitsu M2322K which has been removed (I be...\",\"tion: Reed College, Portland, Oregon Lines: 36  In article \\u003c\\u003e  (Babak Sehari) writes: \\u003e--- \\u003e \\u003eI was ...\",\"nter, Chandler Arizona Lines: 17  In article \\u003c\\u003e,  (Brad Kepley) writes: |\\u003e I just heard an unbelieva...\",\"zation: Geophysical Institute, Fairbanks, AK Lines: 21   I would be interested in hearing from anyon...\",\" Technology, Pasadena Lines: 8 NNTP-Posting-Host: fleming.caltech.edu  I was wondering if anyone kno...\",\"untsville AL Lines: 41  In article \\u003c\\u003e,  (Mark Zenier) writes: |\\u003e Zack Lau () wrote: |\\u003e : In sci.elec...\",\"rds: JUMPER SETTINGS DIP-SWITCH SETTINGS, HELP, COMPUTER 386SX Organization: National Federation of ...\",\"-Host: grv.grace.cri.nz Lines: 37  From:\\tMX%\\\"\\\"  6-APR-1993 06:48:34.96 To:\\tSRGXNBS CC:\\t Subj:\\tRe: I^...\",\"tion: Rhodes University, Grahamstown, South Africa Lines: 44 X-Newsreader: TIN [version 1.1 PL8]  : ...\",\"sche Nachrichtentechnik Lines: 41  This is for a friend of mine. Please send answers directly to him...\",\"nes: 54   Yes, I know it's nowhere near Christmas time, but I'm gonna loose Net access in a few days...\",\"ganization: University of Washington, Seattle Lines: 18 NNTP-Posting-Host: carson.u.washington.edu  ...\",\"o:  Organization: Univ. of Lowell CS Dept. Lines: 6  I suggest that misc.consumer.house is a better ...\",\"le \\u003c\\u003e  (Wayne Smith) writes: \\u003e\\u003eNo restriction was placed \\u003e\\u003eon receiving RADAR (or, curiously, cordle...\",\"d Reptile Farm Lines: 20 NNTP-Posting-Host: grissom.larc.nasa.gov  In article \\u003c\\u003e  (C.M. Hicks) write...\",\"a Organization: University of Calgary Lines: 13  Last week I asked for help in getting an old homema...\",\"erve University, Cleveland, Ohio (USA) Lines: 25 NNTP-Posting-Host: slc10.ins.cwru.edu   I recently ...\",\"f Technology Lines: 11  In article \\u003c\\u003e  (Sean Oliver) writes: \\u003e\\u003e Joseph Mich Krzeszewsk writes: \\u003e\\u003e   ...\",\"ld Organization: University of Washington, Seattle Lines: 25 NNTP-Posting-Host: carson.u.washington....\",\"opy of \\\"8088 Assembler Language Programming: The IBM PC\\\" by Willen and Krantz, 2nd ed. pub. by Sams,...\",\"stralia Lines: 14 NNTP-Posting-Host: mackerel.gu.uwa.edu.au  Well here in Australia you dial  11544 ...\",\"Thomson) writes: \\u003e Joseph Chiu () wrote: \\u003e  \\u003e : And the measure of current, Amp, is actually named a...\",\"Laboratory Lines: 15 NNTP-Posting-Host: travis.llnl.gov  In article \\u003c\\u003e,  (David Glen Jacobowitz) wri...\",\"ation: Hewlett-Packard Lines: 31 X-Newsreader: TIN [version 1.1.4 PL6]  william burchill () wrote: :...\",\"A Lines: 8  In article \\u003c\\u003e  (David F. Newman) writes: \\u003eSubject: arcade style buttons and joysticks \\u003eC...\",\"chnology, Finland Lines: 17 \\t\\u003c\\u003e \\t\\u003c1ptolq$\\u003e NNTP-Posting-Host: lk-hp-11.hut.fi In-reply-to: 's messag...\",\"ogical University - Singapore   currently I am using the 8051 microcontroller with external eprom.. ...\",\"leans, France. Lines: 9      Hi All!     I would like to know what are the popular ICs of the type, ...\",\"-1607 Lines: 43   (Bob Myers) writes:  \\u003e \\u003e I am looking for any info I can get on the NEC 3D monitor...\",\"etNews abusers - Beltway Annex Lines: 19 Reply-To:  (David Lesher) NNTP-Posting-Host: skybridge.scl....\",\"ion: SLAMDANZ CYBRNETX Lines: 13  Anyone know a reasonable circuit for programming PALs?  I am inter...\",\"US), U of Stuttgart, FRG Lines: 38 NNTP-Posting-Host: pc8.izfm.uni-stuttgart.de  Hi! In article \\u003c\\u003e  ...\",\"puter Group, Tempe, Az. Distribution: usa Lines: 9    Does anybody out there have one of those food ...\",\"on: usa Organization: Triacus Inc. Lines: 26 Nntp-Posting-Host: mars.calstatela.edu  Recently, my vi...\",\" grade science report Distribution: usa Organization: Boeing Computer Services (ESP), Seattle, WA Li...\",\"Host: wu2.wl.aecl.ca Organization: AECL Research, Whiteshell Laboratories Distribution: na Lines: 25...\",\"anization: CSIR Lines: 15 NNTP-Posting-Host: 146.64.23.16 X-Disclaimer: None of the opions expressed...\",\"Annex Lines: 24 Reply-To:  (David Lesher) NNTP-Posting-Host: skybridge.scl.cwru.edu  Others said: {e...\",\"According to my TI databook, the pinouts for the TIL311 display are as follows:    Pin 1 - LED suppl...\",\"andy.com!pauls    Apr 21 09:31:00 1993 Lines: 6   Motorola has a good app note on a 10 band equalize...\",\"onto Distribution: na Lines: 11  The subject line says it all. I'm working on a project that will us...\",\"&ROMs with ALE latches (for 8051's) Lines: 28   (Steve Pope) writes:  \\u003eIn article \\u003c\\u003e  (j. pethybridg...\",\"p-Posting-Host: cimill  In article \\u003c\\u003e,  (Peter Tryndoch) writes... \\u003eAllThe Devil ReincarnateSWR mete...\",\"ege of Medicine Lines: 19  If the set is direct line powered, try checking the [likely to be there] ...\",\"ticle \\u003c\\u003e  (G. Stewart Beal) writes: \\u003eIn article \\u003c\\u003e  (Jason Haines) writes: \\u003e\\u003e \\u003e\\u003e\\tI was wondering if ...\",\": 19  Hi, I've got a PACE MODEM , Series Four 2400s ( made in England by PACE Micro Technology ) wit...\",\" S. Williamson) Organization: NCR E&M Columbia, SC Lines: 17  In article \\u003c\\u003e  (Robert Canright) write...\",\"ization:  Colorado Concert Sound Lines: 25  In article \\u003c\\u003e  (TOM WAGNER, Wizzard of old Audio\\u002fVisual ...\",\"ch Lines: 15  Hi !!!  Is there somebody using a 56001 DSP from Motorola ??? I am searching for progr...\",\"se-Hulman Lines: 11 NNTP-Posting-Host: g222-26.nextwork.rose-hulman.edu  In article \\u003c\\u003e  (Jason   Hai...\",\"Australia. Lines: 19 Distribution: world NNTP-Posting-Host: macadam.mpce.mq.edu.au Originator:    We...\",\"stribution: na NNTP-Posting-Host: hardy.u.washington.edu Summary: Address or phone number for subscr...\",\"ion: The Northern Lights BBS, Portland, ME  * 207-761-4782 * Lines: 7 X-Newsreader: ZipNews Reader\\u002fM...\",\"r and Reptile Farm Lines: 16 NNTP-Posting-Host: grissom.larc.nasa.gov  In article \\u003c\\u003e  writes: \\u003e \\u003eGre...\",\"oration Wichita, KS Lines: 14   (Victor Laking) writes:  )Do you know what frequencies chanels 17 to...\",\"21            On an A\\u002fD board I've got, I'm using the A\\u002fD lines.  It measures  the voltages properly...\",\": University Of Alberta, Edmonton Canada Lines: 28   (Daniel J Rubin) writes:  \\u003eHow hard would it be...\",\"1   (Joel Kolstad) writes:  \\u003e In article \\u003c\\u003e  \\u003e \\u003e \\u003e \\u003eIf you are going to use one where it counts (eg:...\",\"26 X-Newsreader: TIN [version 1.1 PL8]  Frank Hielscher () wrote: : The PADS*.ZIP files contain subd...\",\"y of Minnesota Lines: 18  I have a stereo compressor-limiter by  Audio Logic (Model MT-66).  The gat...\",\"-9760 guest) Lines: 20  In article \\u003c\\u003e  (Brian Day) writes: \\u003e (COLE) writes: \\u003e \\u003e\\u003eI would like to expe...\",\"ege, Hanover, NH Lines: 12  We are Dartmouth engineering students.We are looking for documented data...\",\"9 Distribution: world NNTP-Posting-Host: grissom.larc.nasa.gov  I have a MOSFET pulled out of a Tryg...\",\"stribution: world NNTP-Posting-Host: rosie.uh.edu Keywords: Motorola, FPU, 68882, 68030, 33\\u002f50 MHz, ...\",\"es: 9  Could someone please tell me if a 1\\u002f4 decoder is the same as a 1 to 4 demultiplexer. I know h...\",\" UNIX Society, Austin, Tx Lines: 15    I understand that the new GPS boxes now have an option known ...\",\"ix system run by the University \\tof Denver for the Denver community.  The University has neither \\tco...\",\"om Organization: Mentor Graphics Keywords:  Lines: 33  In article \\u003c\\u003e,  (Wayne Smith) writes: |\\u003e In a...\",\".gov Organization: Fermilab Computing Division Lines: 22  In article \\u003c\\u003e,  (John Whitmore) writes: \\u003e ...\",\"anybody know if there is a mailing list or newsgroup for Power Systems and related areas?  Thanks,  ...\",\"exaco Lines: 16  I had a catalog with membrane keypads, but I dunno what happened to it, and it was ...\",\"e if this would be the right place to post this, but anyway, here goes:  I was just noticing that so...\",\"t: turbo_f.seas.smu.edu Organization: SMU - School of Engineering & Applied Science - Dallas Lines: ...\",\"-Posting-Host: dialup-slip-1-88.gw.umn.edu Organization: persian cat & carpet co. X-Useragent: Nunti...\",\"24 Distribution: world NNTP-Posting-Host: reg.triumf.ca News-Software: VAX\\u002fVMS VNEWS 1.41      In ar...\",\"ile Farm Lines: 9 NNTP-Posting-Host: grissom.larc.nasa.gov  In article \\u003c\\u003e  (Jason Waterman) writes: ...\",\"om Online Communications Services (408-241-9760 login: guest) Lines: 1  The Bmw speedo is triggered ...\",\" AI Programs, University of Georgia, Athens Lines: 9  There is or was a microwave tower next to Flor...\",\"MA Lines: 27   (Mike Donahue) writes:   \\u003eI do NOT know much about Adcom Mobil Audio products, but I ...\",\" Technological University X-Newsreader: TIN [version 1.1 PL8] Lines: 19  Bill Willis () wrote: : I h...\",\"osting-Host: macadam.mpce.mq.edu.au  In article \\u003c\\u003e,  (Ogawa \\u002f Taro Stephen (ISE)) writes: |\\u003e Could s...\",\"ost: elan.princeton.edu Organization: Princeton University Lines: 29  I was looking at the amps diag...\",\": 6  Sounds like the picture tube lost vacuum.  This would cause the filament to ignite and could ac...\",\"orld Reply-To:  NNTP-Posting-Host: sparc28.hri.com  I just got an IBM-PC XT with no documents. Its a...\",\"nization: JPL Pasadena CA Lines: 25 Nntp-Posting-Host: neuron6.jpl.nasa.gov  In article \\u003c\\u003e  (Dale Nu...\",\"Host: wpi.wpi.edu  Hey everyone, I'm new to this  newsgroup so please excuse me if this is a  dumb q...\",\"ost: aisun3.ai.uga.edu Organization: AI Programs, University of Georgia, Athens Lines: 22  In articl...\",\" There are also a couple or three places on West 45th between Fifth and Sixth.    Harvey   --  -----...\",\".com Organization: NCR Corp., Columbia SC Lines: 30  In article \\u003c\\u003e  writes: \\u003e \\u003eGreetings! \\u003e       \\u003e ...\",\"ing1.cc.utexas.edu  It is illegal to use anything you eavedropped on for a business  or for an illeg...\",\"Organization: University of Oulu, Dept. of EE, Finland  In article \\u003c\\u003e  (Stephe Lewis Foskett) writes...\",\"ntially amplify holes instead of electrons? Keywords: holes electrons semi-conductors mobility Nntp-...\",\"relays ??? Organization: Malaspina College Lines: 63  In article \\u003c\\u003e,  (Aaron Lung) writes: \\u003e In arti...\",\"lator operating in the detector. Saw a story about their use in Canada. Now don't go putting oscilla...\",\": 33  Thanks for the resposes as they were all good ideas and I am looking at using a couple of the ...\",\"ation: Monash University, Melb., Australia. Lines: 23  Hi people..  OK heres my problem....  I keep ...\",\"m21.eng.stratus.com  In article \\u003c\\u003e  (Roger A Williams) wrote:   \\u003e (Mike Donahue) writes:  \\u003e  \\u003e  \\u003e\\u003eI ...\",\", Quincy, IL Lines: 22   Intel also makes some neat memory and peripheral chips:  Old technology (ea...\",\"c. - New Orleans, LA Reply-To:  (Gerald Belton)  Lines: 24  AL\\u003e\\u003e        Question:   Is there a certa...\"],\"x\":[-0.12169637531042099,0.05482620373368263,0.08179864287376404,-0.010897286236286163,-0.07056446373462677,-0.0704340860247612,-0.11036604642868042,-0.07480382174253464,-0.04294702038168907,-0.09608270972967148,0.2625460624694824,0.06574320793151855,0.06771129369735718,-0.08497971296310425,-0.05735941603779793,-0.020788466557860374,-0.1141231432557106,0.011764036491513252,-0.05302959680557251,-0.08444777131080627,-0.07932150363922119,-0.018102163448929787,-0.05755872279405594,-0.07382500916719437,0.004903416149318218,-0.02435421012341976,-0.08199755102396011,0.14529551565647125,0.08510041236877441,0.023430917412042618,0.1379309743642807,-0.04942280054092407,-0.11769730597734451,-0.11090956628322601,0.029883872717618942,0.04435203969478607,-0.1217886433005333,-0.09005401283502579,0.15591418743133545,-0.13654829561710358,0.06261201202869415,0.055986400693655014,0.03773593530058861,0.04759715124964714,0.02857581153512001,-0.05216667801141739,-0.1764020025730133,0.23983711004257202,-0.0021375955548137426,-0.022853653877973557,-0.049630969762802124,-0.11053398251533508,0.3303028643131256,0.09905445575714111,-0.040291283279657364,-0.053589049726724625,-0.05457238107919693,-0.08315785974264145,-0.058309804648160934,-0.08367141336202621,-0.022690342739224434,-0.07005094736814499,0.09166650474071503,-0.06807001680135727,0.22263693809509277,-0.1396375447511673,-0.017029283568263054,-0.03812373802065849,0.025049937888979912,-0.1033349484205246,-0.10057912766933441,0.01815919764339924,-0.122127965092659,-0.09477180242538452,-0.0050246817991137505,-0.10265198349952698,0.08619166165590286,-0.11578279733657837,-0.01826922968029976,-0.022144602611660957,-0.05434804409742355,0.06240318343043327,-0.07222901284694672,-0.16453394293785095,-0.11820954084396362,-0.052304815500974655,-0.009261037223041058,-0.021517636254429817,-0.01544005423784256,-0.02326253429055214,0.015903213992714882,-0.04272199422121048,0.024560755118727684,-0.06982262432575226,-0.10218951106071472,0.09937932342290878,-0.12095572799444199,-0.12041817605495453,-0.05906972661614418,-0.12908774614334106,0.07899817079305649,-0.06855368614196777,-0.012496608309447765,0.04094349220395088,0.13219763338565826,0.04893430694937706,-0.08277856558561325,0.10861971229314804,-0.16940708458423615,0.028690487146377563,-0.033563949167728424,0.015584063716232777,-0.11866898089647293,-0.012533451430499554,-0.11789564788341522,-0.02535106986761093,-0.06627205014228821,0.05174737051129341,0.26291993260383606,-0.027194928377866745,-0.08683520555496216,0.048189058899879456,-0.12390943616628647,-0.1830088496208191,0.06779763102531433,0.1395147144794464,-0.13244815170764923,-0.0887933149933815,0.14177659153938293,-0.06472258269786835,0.02558690495789051,-0.029825888574123383,-0.05500444397330284,-0.09934897720813751,-0.1915106624364853,-0.06304394453763962,-0.19799171388149261,-0.08360075950622559,0.05597298964858055,0.1638639271259308,0.16315510869026184,0.031111465767025948,-0.04929719492793083,-0.09287577867507935,-0.002240439411252737,-0.002118493663147092,0.03115760162472725,-0.018826985731720924,0.08006882667541504,0.051889143884181976],\"y\":[0.09418004751205444,0.2563253343105316,0.018947558477520943,0.14196810126304626,0.07365654408931732,0.1743547022342682,0.1663276106119156,0.13717225193977356,0.17328158020973206,-0.012437285855412483,-0.010517487302422523,0.22266457974910736,0.01829451322555542,0.13057005405426025,0.18943533301353455,0.03404669463634491,0.10705071687698364,0.15433107316493988,0.03721574321389198,0.005411405581980944,0.09635736793279648,0.22539402544498444,-0.0111240828409791,0.23108205199241638,0.17001870274543762,0.05312342569231987,0.011248113587498665,0.20035456120967865,0.11578895151615143,0.23149345815181732,0.10906270146369934,0.08699855208396912,0.10237729549407959,0.025000857189297676,0.12738440930843353,0.28980281949043274,0.1606641411781311,0.32094937562942505,0.01576586253941059,0.0321548692882061,0.18517960608005524,0.262085497379303,0.22484013438224792,0.17220446467399597,0.15120306611061096,0.2055549919605255,0.006600155960768461,-0.15510091185569763,0.1815810650587082,0.2283380627632141,0.2828262448310852,0.13522468507289886,-0.09208471328020096,0.07157914340496063,0.24910801649093628,0.13896894454956055,-0.0021250112913548946,0.14298458397388458,0.10423403978347778,0.1417393684387207,0.17384034395217896,0.1249900758266449,-0.03816680982708931,0.014857016503810883,-0.05898827314376831,0.18311817944049835,0.1732242852449417,0.14257177710533142,0.07820304483175278,0.011516008526086807,0.17166663706302643,0.14369283616542816,0.06685537844896317,0.13158607482910156,-0.17555616796016693,0.12506261467933655,0.00859542191028595,0.03127864748239517,0.20191921293735504,0.19249799847602844,0.09847415238618851,0.19219622015953064,0.09843515604734421,0.03252122178673744,0.10822971165180206,-0.0008749719709157944,0.07035250961780548,0.20602506399154663,0.10491891950368881,0.056322723627090454,0.2919904887676239,0.1451607644557953,0.10114980489015579,0.13853804767131805,-0.01689157262444496,0.1756262332201004,0.06423758715391159,0.0469902828335762,0.09375414997339249,0.17872485518455505,0.16362453997135162,0.19757704436779022,0.19633455574512482,0.1589840203523636,0.10635637491941452,0.16939014196395874,0.01199695747345686,0.12193477898836136,0.21287326514720917,0.1254315972328186,0.07406127452850342,0.25071263313293457,-0.012015208601951599,0.13859601318836212,0.0864885225892067,0.19184233248233795,0.09613551944494247,-0.11417566239833832,-0.0543811172246933,0.07872776687145233,0.30111557245254517,0.03611375018954277,0.12560540437698364,0.007517928723245859,0.1244051605463028,-0.04683719947934151,0.009193623438477516,0.09838888794183731,0.19254392385482788,0.1835288405418396,0.1754966527223587,0.16199705004692078,0.19141848385334015,0.03434175252914429,0.18784673511981964,0.10166160017251968,0.19917622208595276,-0.014744236133992672,0.13463564217090607,0.025696435943245888,-0.09986403584480286,0.12049096077680588,-0.027149595320224762,0.08478602766990662,0.08954720199108124,0.1291918307542801,0.12449595332145691,0.23181572556495667,0.1092139184474945,0.1339116394519806],\"type\":\"scatter\"},{\"hoverinfo\":\"text\",\"marker\":{\"line\":{\"color\":\"white\",\"width\":0.5},\"size\":15},\"mode\":\"markers\",\"name\":\"Class sci.med\",\"opacity\":0.7,\"text\":[\"ganization: Colonial Mutual Life Australia X-Newsreader: FTPNuz (DOS) v1.0 Lines: 24  Hi, I am not s...\",\"y, NY - 212-274-8298v.32bis Reply-To:  (Jim Zisfein)  Lines: 19  \\u003e (Anthony Anello) \\u003eCan anyone tell...\",\"bution: usa Lines: 18   In article \\u003c\\u003e  (Evan Hunt) writes:   \\u003eIn article \\u003c\\u003e  (Sharen A. Rund) writes...\",\"ortland Rain Forest Lines: 34  In article \\u003c\\u003e  (Beth Mazur) writes: \\u003eIn \\u003c\\u003e  (Chuck Forsberg WA7KGX) w...\",\" Ca. Lines: 18 Distribution: world Reply-To:  (Jim Jones) NNTP-Posting-Host: contractor.ebay.sun.com...\",\"ines: 17 NNTP-Posting-Host: saltillo.cs.utexas.edu Summary: Lousy idea.  -*---- Cross-posted and wit...\",\"Consulting, Cambridge MA Lines: 30  In article \\u003c\\u003e  (*Heather*) writes: \\u003eNutrasweet is a synthetic sw...\",\"s: 41  A person posted certain stuff to this newsgroup, which were highly selected quotes stripped o...\",\" Systems, Inc., Palo Alto, CA Lines: 11   My insurance company encourages annual physicals, and at m...\",\"rsity of Wisconsin - Milwaukee Lines: 19 NNTP-Posting-Host: 129.89.7.4  In article \\u003c\\u003e  (Sheryl Coppe...\",\"s., USA Lines: 11 NNTP-Posting-Host: enterprise.bih.harvard.edu  In article \\u003c\\u003e  (Fiberman) writes: \\u003e...\",\"In article \\u003c\\u003e  (Steve Heffner) writes: \\u003eA bit more than a year ago, a hernia in my right groin was \\u003e...\",\"c3t Distribution: na Organization: Oakland University, Rochester MI. Lines: 9 NNTP-Posting-Host: ouc...\",\":57 GMT Nntp-Posting-Host: crux3.cit.cornell.edu Organization: Department of Chemistry, Cornell Univ...\",\"y - Univ. of Alabama Distribution: usa Lines: 36  In article \\u003c\\u003e,  (John Eyles) wrote: \\u003e  \\u003e  \\u003e A frie...\",\"Earth Observatory Lines: 50  In article \\u003c\\u003e,  (Gordon Banks) writes: \\u003e In article \\u003c\\u003e  (carl brenner) ...\",\"d Silver) writes: \\u003e \\u003e \\u003e \\u003eIs there a right-eye dominance (eyedness?) as there is an \\u003e \\u003eoverall right-...\",\"7G Organization: Prentice Centre, University of Queensland Lines: 45   (Steve Dyer) writes: \\u003eSnort. ...\",\"nes: 28  In article \\u003c\\u003e  (Steve Dyer) writes: \\u003eIn article \\u003c\\u003e  writes: \\u003e\\u003eCan someone tell me whether o...\",\"ing Lines: 11  My girlfriend is in pain from kidney stones. She says that because she has no medical...\",\"who has just been diagnosed with Lupus, and I know nothing about this disease. The only thing I do k...\",\" methodology.   Organization: University of Hawaii (Mathematics Dept) Expires: Sat, 1 May 1993 10:00...\",\"-line Communication Services (408 241-9760 guest) Lines: 15 X-Newsreader: TIN [version 1.1 PL8]  I'd...\",\"ons Public Access.  The Mouth of the South. Lines: 28  E.J. Draper \\u003c\\u003e writes:  \\u003eIf it were my wife, ...\",\": 27 NNTP-Posting-Host: carina.unm.edu   Gordon Banks:  \\u003ea lot to keep from going back to morbid obe...\",\"rsion 1.1 PL9] Lines: 45  kathleen richards () wrote: \\u003e My nearly-13 year old Pomeranian had a nasty...\",\", USA Lines: 26 NNTP-Posting-Host: enterprise.bih.harvard.edu  In article \\u003c\\u003e   (Alexis Perry) writes...\",\"ibution: world NNTP-Posting-Host: zion.berkeley.edu  | article \\u003c\\u003e  writes: || Now, if instead of usi...\",\"rganization: NASA Dryden, Edwards, Cal. Lines: 33 In-Reply-To: 's message of 5 Apr 93 23:27:26 GMT  ...\",\"uter Science Lines: 28  In article \\u003c\\u003e  (David Nye) writes:  \\u003e  \\u003eI believe it is illegal for a reside...\",\"e Federale de Lausanne Lines: 41 NNTP-Posting-Host: liasun1.epfl.ch  Dear Netters,  I am not sure wh...\",\".ohio-state.edu Organization: The Ohio State University Lines: 50  In article \\u003c\\u003e  (Jim Fare) writes:...\",\"Freenet Lines: 18   I have between 15 and 25 nosebleeds each week, as a result of a genetic predispo...\",\" at Urbana Lines: 6  Also remember that most people map the sanguine\\u002fcholeric\\u002fmelencholic\\u002fphlegmatic...\",\" Science Lines: 17  In article \\u003c\\u003e  (Ken Mitchum) writes: \\u003e \\u003eI found out that tuberculosis appears to...\",\"ganization: Bell Communications Research Lines: 31  In article \\u003c\\u003e,  (Mary E. Allison) writes: |\\u003e  |\\u003e...\",\" Programs, University of Georgia, Athens Lines: 12  I'm told that corn allergy is fairly common.  My...\",\"tchum) Organization: Univ. of Pittsburgh Computer Science Lines: 36  In article \\u003c\\u003e  writes: \\u003eCan any...\",\"Iowa Lines: 22  In article \\u003c\\u003e,  (Ken Mitchum) writes: \\u003e As a physician, I almost never get sick: usu...\",\": naples.med.unc.edu Organization: UNC-CH School of Medicine Lines: 7  Thanks to Tarl Neustaedter of...\",\"rformance Computing, University of Illinois at Urbana-Champaign Lines: 66 Distribution: world NNTP-P...\",\"ngws5.ic.sunysb.edu Organization: State University of New York at Stony Brook Lines: 54  In article ...\",\"ing X-Newsreader: NNR\\u002fVM S_1.3.2 Lines: 53  In article \\u003c\\u003e  (Brian M. Huey) writes:   \\u003eIn article \\u003c\\u003e,...\",\") writes:  \\u003e\\t \\u003e\\tI have seen a couple of postings refering to an SRI called paxil.  I \\u003ehave been on P...\",\"TX 214\\u002f436-3281 Lines: 27  In article \\u003c\\u003e  (Andrew Rogers) writes: \\u003eIn article \\u003c\\u003e  writes: \\u003e\\u003eChinese,...\",\".14717 Distribution: sci.med Organization: Lockheed Engineering & Sciences Co. Lines: 17  In article...\",\"on: Univ. of Pittsburgh Computer Science Lines: 26  In article \\u003c\\u003e  (Rayaz Jagani) writes:  \\u003e \\u003eFrom M...\",\": 25  In article \\u003c\\u003e  (Robert Allison) writes: \\u003eDoes anyone know of any method to reduce this frequen...\",\"s) Organization: Univ. of Pittsburgh Computer Science Lines: 23  In article \\u003c\\u003e  (MD) writes: \\u003e \\u003eIf a...\",\": 19  [reply to  (MD)]   \\u003eAfter many metabolic tests, body structure tests, and infection\\u002fvirus \\u003etes...\",\"es: 29 NNTP-Posting-Host: venus.iteb.serpukhov.su  I am very interested in investigations of starvat...\",\"   There is this newsgroup sci.med.physics and there has been quite a lot discussion in this group a...\",\"es: 9   \\tI was kind of half watching Street Stories last night \\tand one of the segments was about th...\",\"ia Inc, Toronto, Ontario. Lines: 23  L(\\u003e   (Joel B Levin) writes: L(\\u003e  John Badanes wrote: L(\\u003e  |JB\\u003e...\",\"  Organization: Clinical Diagnostics Division, Eastman Kodak Company Lines: 24  In article \\u003c\\u003e  (Rich...\",\"E, Sandia Park, NM Lines: 31  In article \\u003c\\u003e  (Vida Morkunas) writes: \\u003eI live at sea-level, and am ca...\",\"k Division, NSWC, Bethesda, MD Lines: 30  In rec.food.cooking,  (Charles Packer) writes: \\u003eIs there s...\",\"anization: Univ. of Pittsburgh Computer Science Lines: 21  In article \\u003c\\u003e  (Lindy Foster) writes: \\u003eI'...\",\"he tollfree hotline for the Epilepsy Foundation of America - 1-800-EFA-1000.  They will be able to a...\",\"tion: usa Lines: 13  I am 35 and am recovering from a case of Chicken Pox which I contracted from my...\",\"tion on the effects\\u002forigin of oxaprozin? It's marketed under the name \\\"DAYpro\\\", and appears to be an...\",\"onsin Eau Claire Lines: 29  [reply to  (Jacquelin Aldridge)]   \\u003eMedicine is not a totally scientific...\",\"nes: 41 Nntp-Posting-Host: aquarius   (Richard Ottolini) writes:  : Living things maintain small ele...\",\"nes: 27  One thing that I haven't seen in this thread is a discussion of the relation between IBD in...\",\"nes: 67 Distribution: inet NNTP-Posting-Host: im4u.cs.utexas.edu  -*---- In article \\u003c\\u003e  (Lee Lady) w...\",\"g-Host: theseus.unx.sas.com Organization: SAS Institute Inc. Lines: 15   In article \\u003c\\u003e,  (Tom B. Car...\",\"ment Corporation Lines: 45 NNTP-Posting-Host: DWOVAX   In article \\u003c\\u003e,  () writes... \\u003eI recently hear...\",\"niv. of Pittsburgh Computer Science Lines: 48  In article \\u003c\\u003e  (Ruth Ginzberg) writes:  \\u003eHmmmm... her...\",\"ion: world NNTP-Posting-Host: coyoacan.sw.stratus.com  In article \\u003c\\u003e,  (Brian M. Huey) writes: \\u003e I t...\",\"g-Host: theseus.unx.sas.com Organization: SAS Institute Inc. Lines: 55   In article \\u003c\\u003e,  (Mark Fulk)...\",\" Rochester  In article \\u003c\\u003e  (Gary Merrill) writes: \\u003e \\u003eIn article \\u003c\\u003e,  (Mark Fulk) writes: \\u003e \\u003e|\\u003e I don...\",\"uter Science Lines: 22  In article \\u003c\\u003e  (daniel federman) writes: \\u003e \\u003eA friend of mine took appoximate...\",\"Urbana Lines: 26   (Steve Dyer) writes:  \\u003eIn article \\u003c1qnns0$\\u003e  (Steve Pope) writes: \\u003e\\u003eThe mass of a...\",\"o Lines: 12  There were a few people who responded to my request for info on treatment for astrocyto...\",\"geles, California Distribution: usa Lines: 12   Hi All,  Would anyone out there in 'net-land' happen...\",\" Univ. of Pittsburgh Computer Science Lines: 19  \\u003eIn article  (John Joseph Deltuvia) writes: \\u003e \\u003e\\u003eThe...\",\"le scraps of paper, mostly Lines: 10   I think he means Girlie Photography.  A good place to find it...\",\"nes: 3  Can anyone help me find any information on the drug Prozac?  I am writing a report on the in...\",\"rsion 1.1 PL9] Lines: 13  kathleen richards () wrote:  \\u003e If you have time to type it in I'd love to ...\",\" Lines: 29   \\tA friend has the following symptoms which have occurred periodically every few months ...\",\"on, VA Lines: 28 Reply-To: Jason C. Austin \\u003c\\u003e NNTP-Posting-Host: ab20.larc.nasa.gov In-reply-to: 's ...\",\"tion: na  Am I justified in being pissed off at this doctor?  Last Saturday evening my 6 year old so...\",\" Univ of Alabama Lines: 19  In article \\u003c\\u003e,  (Ho Leung Ng) wrote: \\u003e  \\u003e  \\u003e    When I was a kid in prim...\",\"? Lines: 8  What resources and services are available on Internet\\u002fBITNET which would be of interest ...\",\"he usual teenage spotty chin and greasy nose.  I bought him Clearasil face wash and ointment.  I thi...\",\"e here because I am kind of desperate. For about six weeks, I've been suffering on pains in my left ...\",\"mputer Science Lines: 16  In article \\u003c\\u003e  (Daniel Prince) writes:  \\u003eI only have lunulas on my thumbs....\",\"Univ. of Pittsburgh Computer Science Lines: 23  In article \\u003c\\u003e  (Paul Schmidt) writes: \\u003eI think it is...\",\"to  (Gordon Banks)]   \\u003e\\u003eI believe it is illegal for a residency to discriminate against FMGs.   \\u003eIs ...\",\"idge MA Lines: 14  In article \\u003c1qnns0$\\u003e  (Steve Pope) writes: \\u003eThe mass of anectdotal evidence, comb...\",\"anization: Univ. of Pittsburgh Computer Science Lines: 24  In article \\u003c\\u003e  (John Setel O'Donnell) wri...\",\"es: 5 Distribution: na NNTP-Posting-Host: hpcspe17.col.hp.com   Report them to your local BBB (Bette...\",\"ortland Rain Forest Lines: 33  In article \\u003c\\u003e  (Gordon Banks) writes: \\u003e \\u003eIn article \\u003c\\u003e  (Chuck Forsbe...\",\"ver what? I would be most interested in seeing you \\u003e\\u003eprovide peer-reviewed non-food-industry-funded ...\",\"em (TM) Lines: 36  \\u003e Probably within 50 years, a new type of eugenics will be possible. \\u003e Maybe even...\",\"er Science Lines: 12  In article \\u003c\\u003e  (John E. Rodway) writes: \\u003eAny comments on the use of the drug P...\",\"  Following a series of miscarriages, my wife was given a transfusion of my white cells. (The theory...\",\"nization: Univ. of Pittsburgh Computer Science Lines: 22  In article \\u003c\\u003e  (Herman Rubin) writes: \\u003eIn ...\",\"ping-injury-faq\\u002f\\u003e Organization: University of California, Berkeley Lines: 51 Expires: 22 May 1993 04...\",\"ttsburgh Lines: 21  In article \\u003c1r1t1a$\\u003e  writes: :I recently attended an allery seminar.  Steroid N...\",\"g.magnus.acs.ohio-state.edu Organization: The Ohio State University Lines: 45  In article \\u003c\\u003e  (Jon N...\",\"w York City, NY - 212-274-8298v.32bis Reply-To:  (Jim Zisfein)  Lines: 17  A(\\u003e  () A(\\u003e A woman I kno...\",\"m Lines: 20  A bit more than a year ago, a hernia in my right groin was discovered.  It had produced...\",\"zation: AT&T Lines: 15  In article \\u003c\\u003e,  writes: \\u003e How long does it take a smoker's lungs to clear of...\",\" PL8]  David Nye () wrote: : [reply to  (ron roth)] :   : \\u003eWhile you're right that the S vertebrae a...\",\"rganization: OSU College of Osteopathic Medicine  In article \\u003c\\u003e,  (Gordon Banks) writes: \\u003e In articl...\",\"said that, i might add, that in MHO, MSG does not enhance  AM\\u003e flavor enoughf for me to miss it.  Wh...\",\"Bates method Summary: Proven a hoax long ago Lines: 15  Dr. willian Horatio Bates born 1860 and grad...\",\"osed with cystic breast disease -- a big relief, as it was a lump that could have been cancer.  Her ...\",\" 14 Distribution: world NNTP-Posting-Host: adcs01.fnal.gov Keywords: 40 BLOODCOUNT DANGEROUS?   Can ...\",\"ical School, Boston Mass., USA Lines: 15 NNTP-Posting-Host: enterprise.bih.harvard.edu  In article \\u003c...\",\"rdon Banks) writes: \\u003eIn article \\u003c\\u003e  (Richard Silver) writes: \\u003e\\u003e \\u003e\\u003eIs there a right-eye dominance (ey...\",\".D.: pegasus.1993Apr22.221508.10196 Organization: Pegasus,  Honolulu Lines: 14  In article \\u003c\\u003e \\u003c\\u003e wri...\",\"ing 4 addresses are on the LymeNet mailing list, but are rejecting mail.  Since the list server orig...\",\"ge of Osteopathic Medicine Distribution: usa  In article \\u003c\\u003e,  (John Eyles) writes: \\u003e  \\u003e A friend has...\",\"NTP-Posting-Host: 141.214.86.38 X-UserAgent: Nuntius v1.1.1d9 X-XXDate: Tue, 20 Apr 93 16:46:24 GMT ...\",\"on: The Information Deli - via Netcom \\u002f San Jose, California  In \\u003c\\u003e  (Steven W Orr) writes:  \\u003eI look...\",\"ne, MA Lines: 10   Some recent postings remind me that I had read about risks  associated with the b...\",\"ivision Lines: 16 NNTP-Posting-Host: duca.hi.com  In article \\u003c\\u003e  (Gordon Banks) writes: |In article ...\",\"t -- Division of EMBA Computer Facility Lines: 21  Nutrasweet is a synthetic sweetener a couple thou...\",\" Corporation Lines: 13   What does a lack of taste of foods, or a sense of taste that seems \\\"off\\\" wh...\",\": 44  In article \\u003c\\u003e  (Gong Tong) writes: \\u003eIn article \\u003c\\u003e  (OPIRG) writes: \\u003e\\u003e \\u003e\\u003eFor cites on MSG, look...\",\"words: volvulus Nntp-Posting-Host: berfert.csd.uwo.ca Lines: 35      Recurrent Volvulus     --------...\",\": Invention Factory's BBS - New York City, NY - 212-274-8298v.32bis Reply-To:  (Jim Zisfein)  Lines:...\",\"world Organization: University of Oregon Lines: 14 NNTP-Posting-Host: oregon.uoregon.edu News-Softwa...\",\" (ron roth)]   \\u003eWhile you're right that the S vertebrae are attached to each other, \\u003ethe sacrum, to ...\",\"cience Lines: 18  In article \\u003c\\u003e  (John Werner) writes: \\u003eIn article \\u003c\\u003e,  (Gordon Banks) wrote: \\u003e\\u003e  \\u003e\\u003e...\",\" In article \\u003c\\u003e  (Fiberman) writes: :Is erythromycin effective in treating pneumonia? : :-fm   Not on...\",\"ution: world NNTP-Posting-Host: q5020598.mdc.com  My girlfriend just started taking Imitrex for her ...\",\"-To:  (Ken Mitchum) Organization: Univ. of Pittsburgh Computer Science Lines: 15  In article \\u003c\\u003e  (Jo...\",\"ote: :  {much deleted] :  :  : The fact that this happened while eating two sugar coated cereals mad...\",\" Summary: thanx for the comeback Lines: 7  Hello , I think you are probaly right, in spite of the mo...\",\"osting-Host: kyanite Organization: Telesciences CO Systems, Inc. Lines: 24  In article \\u003c\\u003e  (Richard ...\",\"tion: Univ. of Pittsburgh Computer Science Lines: 31  In article \\u003c\\u003e  (Andrea M Free-Kwiatkowski) wri...\",\"dford) Lines: 13  Thanks for all your assistance. I'll see if he can try a different brand of patche...\",\"USA Lines: 48 \\t\\u003c\\u003e \\u003c\\u003e NNTP-Posting-Host: cmb00.larc.nasa.gov In-reply-to: 's message of Fri, 23 Apr 1...\",\"anyone give me more information regarding endometriosis?   i heard it's a very common disease among ...\",\"any one heard of a sedative called \\\"Rhoepnol\\\"? Made by LaRouche, I believe. Any info as to side effe...\",\"t: ysub.ysu.edu  Does the Proventil inhaler for asthma relief fall into the steroid or nonsteroid ca...\",\" |JB\\u003e   (Ella I Baff) writes: |JB\\u003e   |JB\\u003e    Ron Roth recommends: \\\"Once you have your hypoglycemia C...\",\"Lines: 7  In article \\u003c\\u003e  (Gordon Banks) writes: \\u003ewe do this?  Should we make a race of disease-free,...\",\"\\u003c\\u003e  (Craig MacDonald) writes: \\u003e\\u003e  It may be extremely \\u003e\\u003ecommon, something like 5% of the population....\",\"1111.9678 Organization: Pegasus,  Honolulu Lines: 11  In article \\u003c\\u003e  (Melissa N. Matusevich) writes:...\",\"USA Lines: 52 \\t\\u003c\\u003e NNTP-Posting-Host: cmb00.larc.nasa.gov In-reply-to: 's message of Sat, 17 Apr 1993...\",\"n: SAS Institute Inc. Lines: 16  In article \\u003c\\u003e,  (MD) writes:   \\u003e \\u003e        The reason I'm posting th...\",\": 43  In article \\u003c\\u003e  (David Thomas) writes:  \\u003e\\u003eIn article \\u003c\\u003e,  (Charles Packer) writes: \\u003e\\u003e\\u003eIs there ...\",\"UNIX, Greenbelt, Maryland USA Lines: 58 NNTP-Posting-Host: access.digex.net  In article \\u003c\\u003e  (Gordon ...\",\"USA Lines: 53 NNTP-Posting-Host: cmb00.larc.nasa.gov In-reply-to: 's message of 21 Apr 93 16:18:19 G...\",\"s maintain small electric fields to (1) enhance certain chemical reactions, (2) promote communicatio...\",\"ick King) writes: \\u003e \\u003eI recall reading somewhere, during my youth, in some science popularization \\u003ebo...\"],\"x\":[-0.2562209665775299,-0.3117435872554779,-0.10852253437042236,-0.15819114446640015,-0.3593311011791229,-0.05822053924202919,-0.2437739074230194,0.029497841373085976,-0.19977779686450958,-0.39246654510498047,-0.2823031544685364,-0.20313501358032227,-0.2289639115333557,-0.2887292802333832,-0.2952641546726227,-0.23703497648239136,-0.19263170659542084,-0.30381208658218384,-0.4132838547229767,-0.22066044807434082,-0.3765561580657959,-0.16488781571388245,-0.2288455218076706,-0.16453196108341217,-0.1924515813589096,-0.2965066432952881,-0.2767718434333801,-0.31700968742370605,-0.19199101626873016,-0.12795472145080566,-0.23212434351444244,-0.2574074864387512,-0.28868386149406433,-0.23271547257900238,-0.1923827826976776,-0.2659125030040741,-0.3012106120586395,-0.2622354328632355,-0.39536720514297485,-0.18203233182430267,-0.338874876499176,-0.18093451857566833,-0.16586820781230927,-0.3355144262313843,-0.25051915645599365,-0.2959142327308655,-0.3167928457260132,-0.3403756320476532,-0.34085825085639954,-0.39408209919929504,-0.303212970495224,-0.3112959563732147,-0.20195713639259338,-0.02757626213133335,-0.2785266935825348,-0.392093688249588,-0.37159088253974915,-0.326153963804245,-0.18090951442718506,-0.2559867203235626,-0.25503620505332947,-0.25993403792381287,-0.17151722311973572,-0.22788339853286743,-0.16822126507759094,-0.27450641989707947,-0.1716659516096115,-0.07035129517316818,-0.21577315032482147,-0.12466998398303986,-0.12875226140022278,-0.3185121417045593,-0.11298593878746033,-0.29429060220718384,-0.06616459786891937,-0.23800553381443024,-0.09075067192316055,-0.17384958267211914,-0.31037676334381104,-0.4184996485710144,-0.2776414453983307,-0.16239093244075775,-0.36449193954467773,-0.07475990056991577,-0.3069390058517456,-0.4171949326992035,-0.1418898105621338,-0.21522997319698334,-0.18749865889549255,-0.17014789581298828,-0.2966573238372803,-0.16694167256355286,-0.27566084265708923,-0.20013427734375,0.04753413423895836,-0.15963606536388397,-0.140606090426445,-0.2509395480155945,-0.08713937550783157,-0.3444291353225708,-0.33495795726776123,-0.19339963793754578,-0.2102690041065216,-0.25764861702919006,-0.18311911821365356,-0.3040720224380493,-0.24319705367088318,-0.12026315927505493,-0.37737974524497986,-0.24672533571720123,-0.30397358536720276,-0.2514050304889679,-0.18438595533370972,-0.08352190256118774,-0.3267391622066498,-0.08812523633241653,-0.27726390957832336,-0.29153403639793396,-0.22095462679862976,-0.2720925807952881,-0.37531203031539917,-0.2893036901950836,-0.3661867082118988,-0.15862087905406952,-0.18165689706802368,-0.1928742229938507,-0.11487303674221039,-0.26750725507736206,-0.3805694282054901,-0.2315215766429901,-0.30485716462135315,-0.2641140818595886,-0.15889371931552887,-0.2827491760253906,-0.2993174195289612,-0.289870947599411,-0.2275799810886383,-0.15393933653831482,-0.24390991032123566,-0.20127946138381958,-0.04635661095380783,-0.3224148154258728,-0.07179862260818481,-0.3233712613582611,-0.30721449851989746,-0.26431190967559814,-0.1272123008966446,-0.3893240988254547,-0.21486471593379974,-0.2741137742996216],\"y\":[-0.18905606865882874,-0.2825819253921509,-0.27194052934646606,-0.1946457177400589,-0.16714993119239807,-0.2672899067401886,-0.3023376762866974,-0.12050117552280426,-0.01574709638953209,-0.3319557309150696,-0.18743351101875305,-0.21175456047058105,-0.13315622508525848,-0.2881694436073303,-0.3224278688430786,-0.23813603818416595,-0.09850918501615524,-0.39172640442848206,-0.32970133423805237,-0.18747356534004211,-0.21896350383758545,-0.1849338561296463,-0.16133058071136475,-0.04753275588154793,-0.18460866808891296,-0.28844010829925537,-0.26409319043159485,-0.3346977233886719,-0.08479174971580505,-0.22526243329048157,-0.0029288206715136766,-0.20825503766536713,-0.24571730196475983,-0.12175548821687698,-0.3946276903152466,-0.39146095514297485,-0.39032354950904846,-0.3105320930480957,-0.4004940688610077,-0.11178912222385406,-0.3898014724254608,-0.2606416642665863,0.13500258326530457,-0.22031089663505554,-0.27012866735458374,-0.18736229836940765,-0.2697620689868927,-0.2656698524951935,-0.23338094353675842,-0.3658045530319214,-0.07685331255197525,-0.07011988013982773,-0.05510823056101799,-0.07247467339038849,-0.2952831983566284,-0.19305087625980377,-0.4207268953323364,-0.1691541075706482,-0.1927953064441681,-0.26114264130592346,-0.1777164191007614,-0.3120095133781433,0.0357675701379776,-0.29359427094459534,-0.0769181177020073,-0.09466962516307831,-0.21386809647083282,-0.2839967906475067,0.08154527097940445,-0.20993295311927795,-0.18276327848434448,-0.3254787027835846,-0.2877788245677948,-0.11714775860309601,0.0452774353325367,-0.25907954573631287,0.13804307579994202,-0.11738097667694092,-0.16546665132045746,-0.24476639926433563,-0.19087016582489014,-0.2564535140991211,-0.20042701065540314,-0.017262019217014313,-0.24708382785320282,-0.21701769530773163,-0.2968633472919464,-0.29434332251548767,-0.2236584722995758,-0.26593539118766785,-0.1787477284669876,-0.15132112801074982,-0.1488766074180603,-0.414842426776886,-0.16573144495487213,-0.38328301906585693,-0.25883743166923523,-0.23870186507701874,-0.028041845187544823,-0.240984708070755,-0.34168121218681335,-0.33470407128334045,-0.21283109486103058,-0.1763840615749359,-0.1876385509967804,-0.2637723684310913,-0.2929608225822449,-0.23192758858203888,-0.3015173673629761,-0.2638442814350128,-0.29125872254371643,-0.12981519103050232,-0.04918638616800308,-0.023854484781622887,-0.28767919540405273,-0.1105155423283577,-0.13963501155376434,-0.2518423795700073,-0.18963272869586945,-0.30726924538612366,-0.27274495363235474,-0.41489318013191223,-0.2630816102027893,-0.21400654315948486,-0.07197866588830948,-0.20324617624282837,-0.1522751897573471,-0.28688231110572815,-0.29852381348609924,-0.3260885775089264,-0.4160081744194031,-0.07735611498355865,-0.09032247960567474,-0.3064557909965515,-0.26219263672828674,-0.2811923325061798,-0.08697903156280518,-0.25929129123687744,-0.11251281946897507,-0.18935593962669373,-0.12329071015119553,-0.28130868077278137,-0.12346819043159485,-0.42083823680877686,-0.2512127757072449,-0.4029046595096588,-0.23554068803787231,-0.43542245030403137,-0.06940774619579315,-0.21996791660785675],\"type\":\"scatter\"},{\"hoverinfo\":\"text\",\"marker\":{\"line\":{\"color\":\"white\",\"width\":0.5},\"size\":15},\"mode\":\"markers\",\"name\":\"Class sci.space\",\"opacity\":0.7,\"text\":[\"ibution: world Reply-To:  (CLAUDIO OLIVEIRA EGALON) NNTP-Posting-Host: tahiti.larc.nasa.gov  There i...\",\" In \\u003c\\u003e  (Dillon Pyron) writes:   \\u003eThere are actually only two of us.  I do Henry, Fred, Tommy and Ma...\",\"tsville, AL Lines: 22  In reference to the limits of acceleration with guns launching solid rockets ...\",\"sting-Host: stein2.u.washington.edu   (Doug Loss) writes: \\u003eBesides the mechanical problems of moving...\",\"1-9760 guest) Lines: 23  In article \\u003c\\u003e  (kevin marcus) writes: \\u003eAre there any public domain or share...\",\"  (G. Patrick Molloy) Organization: NASA\\u002fMSFC Lines: 40  In article \\u003c\\u003e,   writes: \\u003e Here is a way to...\",\"15:55 GMT Nntp-Posting-Host: leo-gw Organization: Burdett, Buckeridge & Young, Melbourne, Australia ...\",\"ave before me a pertinent report from the United States General Accounting Office:  National Aero-Sp...\",\"world NNTP-Posting-Host: beach.cis.ufl.edu   Is anybody out there willing to discuss with me careers...\",\"ology Lines: 17  In article \\u003c\\u003e  (Alan Carter) writes: \\u003e|\\u003e ... a NO-OP command was sent to reset the ...\",\": Texas Instruments Inc Lines: 22  In \\u003c\\u003e  (Allen W. Sherzer) writes:  \\u003eDepends. If you assume the ex...\",\"station, constellation Article-I.D.: techbook.C51z6E.CL1 Organization: TECHbooks --- Public Access U...\",\"rticle \\u003c\\u003e,  (Layne Cook) writes: \\u003e All of this talk about a COMMERCIAL space race (i.e. $1G to the f...\",\"Lewis Research Center \\u002f Cleveland, Ohio Lines: 30 Distribution: world NNTP-Posting-Host: tm0006.lerc...\",\" Ontario, London Nntp-Posting-Host: prism.engrg.uwo.ca Lines: 9  \\tHmmm. I seem to recall that the at...\",\"on: world NNTP-Posting-Host: kelvin.jpl.nasa.gov News-Software: VAX\\u002fVMS VNEWS 1.41      In article \\u003c...\",\"siana Lines: 43   (Brian Yamauchi) writes:  \\u003eAny comments on the absorbtion of the Office of Explora...\",\"NTP-Posting-Host: access.digex.net  In article \\u003c\\u003e  (Henry Spencer) writes: \\u003eIn article \\u003c1ppm7j$\\u003e  (P...\",\"ons, Greenbelt, MD USA Lines: 33 Distribution: world NNTP-Posting-Host: access.digex.net Keywords: M...\",\"ne know how to size cold gas roll control thruster tanks for sounding rockets?  Thanks in advance, J...\",\"BM, Federal Systems Co. Software Services Disclaimer: This posting represents the poster's views, no...\",\"tional Space University] Original-Sender:  Distribution: sci Lines: 124   McDonnell Douglas rolls ou...\",\"ing-Host: tm0006.lerc.nasa.gov Organization: NASA Lewis Research Center \\u002f Cleveland, Ohio Lines: 71 ...\",\"n, VA 22090 Lines: 16  In article \\u003c\\u003e  writes: \\u003eThis might a real wierd idea or maybe not.. \\u003e \\u003e \\u003eWhy ...\",\" LLNL Lines: 96 Distribution: world NNTP-Posting-Host: s1.gov   (Brian Yamauchi) writes: \\u003e (Enzo Lig...\",\"s USA Lines: 23 Distribution: world NNTP-Posting-Host: access.digex.net  In article \\u003c\\u003e  (Ron Baalke)...\",\" 26  \\u003c\\u003e  writes:  \\u003eSo some of my ideas are a bit odd, off the wall and such, but so was Wilbur and \\u003e...\",\"du Organization: Northwestern University, Evanston Illinois. Lines: 45  In article \\u003c\\u003e  (James Thomas...\",\"State University, San Luis Obispo Lines: 51  Why do spacecraft have to be shut off after funding cut...\",\"7 GMT Organization: Simon Fraser University X-Useragent: Nuntius v1.1.1d17 Lines: 15  In article \\u003c\\u003e ...\",\"ines: 15 Distribution: world NNTP-Posting-Host: kelvin.jpl.nasa.gov News-Software: VAX\\u002fVMS VNEWS 1.4...\",\"nic State University, San Luis Obispo Lines: 31  \\u003eIn article \\u003c\\u003e  (Victor Laking) writes: \\u003e\\u003e (Victor ...\",\"Lines: 42 \\t\\u003c\\u003e \\t\\u003c\\u003e NNTP-Posting-Host: topaz.ucsc.edu In-reply-to: 's message of 20 Apr 93 22:38:07 GM...\",\"ines: 44   (Craig Keithley) writes: \\u003e \\u003e All in all, I'm not certain that the single goal\\u002fprize of st...\",\"nization: Netcom Online Communications Services (408-241-9760 login: guest) Lines: 9     I might sug...\",\"tion: Fermi National Accelerator Laboratory Lines: 25 Distribution: na NNTP-Posting-Host: fnalf.fnal...\",\"tsville, AL Lines: 72   Okay, lets get the record straight on the Livermore gas gun.   The project m...\",\"world NNTP-Posting-Host: kelvin.jpl.nasa.gov News-Software: VAX\\u002fVMS VNEWS 1.41      Forwarded from J...\",\"Research Center Lines: 14 Distribution: world Reply-To:  (CLAUDIO OLIVEIRA EGALON) NNTP-Posting-Host...\",\"banks Lines: 11 Nntp-Posting-Host: acad3.alaska.edu  Is there a few Grasp pictures of space related ...\",\"ci Lines: 10  The Apollo astronauts also trained at (in) Meteor Crater in the Flagstaff area (Arizon...\",\"-Posting-Host: access.digex.net  In article \\u003c\\u003e  (George F. Krumins) writes: \\u003eIt is so typical that t...\",\"-408-734-2289 Lines: 20   (Doug Mohney) writes:  \\u003e Allen, sometimes I think you're OK.  And sometime...\",\"ting-Host: access.digex.net Keywords: food  dillon comments that Space Food Sticks may have bad dige...\",\"h Carolina, Chapel Hill Lines: 95 Distribution: world Expires: 6 May 1993 19:57:55 GMT NNTP-Posting-...\",\"Lines: 25 NNTP-Posting-Host: access.digex.net  In article \\u003c\\u003e  (fred j mccall 575-3539) writes: | |I ...\",\"celerator Laboratory Lines: 24 NNTP-Posting-Host: fnalf.fnal.gov  In article \\u003c\\u003e,  (Charles J. Divine...\",\"eplerian Nntp-Posting-Host: scgraph.afit.af.mil Organization: Air Force Institute of Technology Line...\",\"ines: 8  If all of these things have been detected in space, has anyone looked into possible problem...\",\".1 Organization: University of Alaska Fairbanks Lines: 21 Nntp-Posting-Host: acad3.alaska.edu  In ar...\",\"Lines: 31  In article \\u003c\\u003e Callec Dradja \\u003c\\u003e writes: \\u003eI am a bit nervous about posting this beacause it...\",\"ne Communications, Greenbelt MD USA Lines: 9 Distribution: na NNTP-Posting-Host: access.digex.net   ...\",\"t) writes: \\u003ewhat ever happened to the hypothesis  that the shuttle flight software \\u003ewas a major fact...\",\"munications USA Lines: 20 NNTP-Posting-Host: access.digex.net Keywords: Galileo, JPL    INteresting ...\",\".1 Organization: University of Alaska Fairbanks Lines: 33 Nntp-Posting-Host: acad3.alaska.edu  In ar...\",\"n Schiewer) writes: \\u003eWhat is the deal with life on Mars?  I save the \\\"face\\\" and heard  \\u003eassociated t...\",\"oratory Lines: 22 Distribution: world NNTP-Posting-Host: kelvin.jpl.nasa.gov Keywords: Galileo, JPL ...\",\"ganization: Univ. of Southwestern Louisiana Lines: 22   (Rob Unverzagt) writes:  \\u003eIn article \\u003c\\u003e  (Ro...\",\"Organization: [via International Space University] Original-Sender:  Distribution: sci Lines: 28   \\t...\",\"on: Fermi National Accelerator Laboratory Lines: 22 Distribution: world NNTP-Posting-Host: fnalf.fna...\",\"rganization?  You must be kidding. Lines: 35 NNTP-Posting-Host: aerospace.aero.org  In article \\u003c1pr5...\",\" Lines: 114    ARIANESPACE FLIGHT 56  (Flight V.56 was originally intended to carry the Hughes HS-60...\",\"Reply-To:  Organization: TI\\u002fDSEG VAX Support   In article \\u003c\\u003e,  (John Elson) writes: \\u003eHas anyone ever...\",\"mes Research Center Distribution: na Lines: 14   (Pat) writes:   \\u003eAW&ST  had a brief blurb on a Mann...\",\" MA 01609-2280 Lines: 11 NNTP-Posting-Host: wpi.wpi.edu   \\tI am looking for any information about th...\",\"n: stanford Lines: 38  In article \\u003c\\u003e,  (Brian Yamauchi) writes: |\\u003e \\u003eNASA would provide contractual l...\",\"Sci. Lines: 22   And one of my profs is the chief engineer for the project (Dr. Ron Humble, Univ. Co...\",\"st?  \\u003c\\u003e \\u003c\\u003e  \\u003c\\u003e \\u003c\\u003e  \\u003c\\u003e \\u003c\\u003e Lines: 38  In article \\u003c\\u003e,  (Gary Coffman) says: \\u003eIn article \\u003c\\u003e Graydon \\u003e\\u003c\\u003e ...\",\"call 575-3539) writes: \\u003e\\u003e\\u003e(given that I've heard the Shuttle software rated as Level 5 ... \\u003e\\u003eLevel 5...\",\"on: [via International Space University] Original-Sender:  Distribution: sci Lines: 21  on Date: Sat...\",\"kn6rINNett Reply-To:  Distribution: world Organization: Computer Aided Design Lab, U. of Maryland Co...\",\"n article \\u003c\\u003e  writes: \\u003eHere is a way to get the commericial companies into space and mineral \\u003eexplor...\",\"ization: University of Illinois at Urbana Lines: 18   (Pat) writes:  \\u003eAW&ST  had a brief blurb on a ...\",\"University of Alaska Fairbanks  In article \\u003c\\u003e,  (Doug Mohney) writes: \\u003e In article \\u003c\\u003e,  (Henry Spenc...\",\"] Original-Sender:  Distribution: sci Lines: 14   \\u003eIf all the ecomomists in the world were laid end ...\",\"na Lines: 35  In \\u003c\\u003e  (Elijah Millgram) writes:   \\u003eA friend of mine and I were wondering where the ex...\",\"Lines: 26 \\t\\u003c\\u003e\\t\\u003c\\u003e\\t\\u003c\\u003e,\\u003c\\u003e \\t\\u003c\\u003e NNTP-Posting-Host: topaz.ucsc.edu In-reply-to: 's message of 21 Apr 1993 ...\",\"s: 17       I've been following discussions about the Delta Clipper program, and I have one small qu...\",\"nes: 25 NNTP-Posting-Host: access.digex.net  In article \\u003c\\u003e  writes: \\u003eIn article \\u003c1r6b7v$\\u003e,  (Pat) wr...\",\"4  In article \\u003c\\u003e,  (Henry Spencer) wrote: \\u003e  \\u003e The major component of any realistic plan to go to th...\",\"\\u003e  (Steve Collins) writes: \\u003eThe difficulties of a high Isp OTV include... \\u003eIf you go solar, you have...\",\"ace University] Original-Sender:  Distribution: sci Lines: 189  \\u003e\\u003eNick sez; I'm not very impressed b...\",\"ada Lines: 20   \\u003e \\u003e \\u003e Also, peri[jove]s of Gehrels3 were: \\u003e \\u003e \\u003e  \\u003e \\u003e \\u003e April  1973     83 jupiter ra...\",\"\\u003c\\u003e  (CLAUDIO OLIVEIRA EGALON) writes: \\u003e\\u003e there is no such thing as a stable lunar orbit \\u003e \\u003eIs it rig...\",\" Flight Center - Robotics Lab Lines: 26 News-Software: VAX\\u002fVMS VNEWS 1.4-b1  In article \\u003c\\u003e,  (Garret...\",\"GMT Organization: National Radio Astronomy Observatory Lines: 32  It is usually possible to reach pe...\",\" Space University] Original-Sender:  Distribution: sci Lines: 58      Joint Press release ESA\\u002fUN No ...\",\"6.14123 Organization: Evil Geniuses for a Better Tomorrow Lines: 22  In article \\u003c\\u003e  (Josh Hopkins) w...\",\"sted this over in sci.astro, but it didn't make it here. Thought you all would like my wonderful pit...\",\"Shuttle Program Office  X-Newsreader: TIN [version 1.1 PL8] Lines: 40   (Hey, that's me!) wrote: : I...\",\"ity of North Carolina, Chapel Hill Lines: 36 Distribution: world Expires: 7 May 1993 17:25:40 GMT NN...\",\"ience Computer Network, Denver, Co. Lines: 5  The Apollo program cost something like $25 billion at ...\",\"ines: 20 Distribution: world NNTP-Posting-Host: gargravarr.cc.utexas.edu X-UserAgent: Nuntius v1.1.1...\",\" 'Lectronic Link Lines: 29   The difficulties of a high Isp OTV include: Long transfer times (radiat...\",\"Mathematics, University of Adelaide Lines: 25  In article \\u003c1pfkf5$\\u003e  (Pat) writes:  \\u003eOnly one proble...\",\"tion: Dynamic Graphics Inc. Lines: 10 Distribution: usa NNTP-Posting-Host: opus.dgi.com  Sorry but I...\",\" 15 NNTP-Posting-Host: bigwpi.wpi.edu    Hello everyone,  \\tI was hoping someone could help me out.  ...\",\"(David M. Palmer) writes: \\u003e\\u003eorbiting billboard... \\u003e \\u003eI would just like to point out that it is much ...\",\"on: Destructive Testing Systems Lines: 63  In article \\u003c\\u003e Graydon \\u003c\\u003e writes: \\u003eIn article \\u003c\\u003e,  (Gary C...\",\"tp-Posting-Host: prism.engrg.uwo.ca Lines: 15  In article \\u003c\\u003e  (Nick Haines) writes: \\u003e \\u003eWould they bu...\",\"s at Urbana Lines: 42   (Keith Mancus) writes:  \\u003e (Layne Cook) writes: \\u003e\\u003e All of this talk about a C...\",\"on: world NNTP-Posting-Host: kelvin.jpl.nasa.gov Keywords: Galileo, JPL News-Software: VAX\\u002fVMS VNEWS...\",\"Louisiana Lines: 28   (Mark Brader) writes:   \\u003eThanks again.  One final question.  The name Gehrels ...\",\"P-Posting-Host: access.digex.net  In article \\u003c1r6f3a$\\u003e  (Rouben Rostamian) writes: \\u003ehow the length o...\",\"zation: [via International Space University] Original-Sender:  Distribution: sci Lines: 55  Apologie...\",\"8  In article \\u003c\\u003e  (Gary Coffman) writes:   \\u003e be the site of major commercial activity. As far as we ...\",\" 13  A brief political\\u002fcultural item.  Radio station WGMS in Washington is a classical music station...\",\" Lines: 13 Reply-To:  NNTP-Posting-Host: queen.eng.umd.edu  In article \\u003c\\u003e,  (Henry Spencer) writes: ...\",\"or in original version of preceding line at VACATION.VENARI.CS.CMU.EDU Organization: [via Internatio...\",\"x, Inc., Beaverton,  OR. Lines: 31   ----- News saved at 23 Apr 93 22:22:40 GMT In article \\u003c\\u003e  (Davi...\",\"e Communications USA Lines: 19 NNTP-Posting-Host: access.digex.net  In article \\u003c\\u003e  (Achurist) writes...\",\"ronto Zoology Lines: 15  In article \\u003c\\u003e  (Allen W. Sherzer) writes: \\u003eThis prize isn't big enough to w...\",\"-Posting-Host: 145.1.146.43 Lines: 59  I am posting this for a friend without internet access. Pleas...\",\"ization: University of Alaska Fairbanks Lines: 55 Nntp-Posting-Host: acad3.alaska.edu  In article \\u003c\\u003e...\",\" University of Alaska Fairbanks Lines: 28 Nntp-Posting-Host: acad3.alaska.edu  That is an idea.. The...\",\" Organization: TI\\u002fDSEG VAX Support   In article \\u003c\\u003e,  (John F. Woods) writes: \\u003e (Norman Anderson) wri...\",\"stribution: world NNTP-Posting-Host: kelvin.jpl.nasa.gov Keywords: HST, Pluto, Uranus News-Software:...\",\" Institute Lines: 42  In article \\u003c\\u003e,   (Victor Laking) writes: \\u003e Does anyone have any info on the ap...\",\"ust one step further: \\u003eHow has the word \\\"Clementine\\\" been associated with mining?    Old pioneer son...\",\"y of Alaska Fairbanks Lines: 21 Nntp-Posting-Host: acad3.alaska.edu  In article \\u003c\\u003e,  (Henry Spencer)...\",\"n: sci NNTP-Posting-Host: access.digex.net    I am sure  Mary or Henry can describe this more aptly ...\",\"-Posting-Host: cs.utexas.edu  In article \\u003c1raee7$\\u003e  (Pat) writes: \\u003eIn article \\u003c\\u003e  (Ron Baalke) write...\",\"es: 14  In \\u003c\\u003e  writes:  \\u003eSince the DC-X is to take off horizontal, why not land that way?? \\u003eWhy do t...\",\"h Center Lines: 16 Distribution: world Reply-To:  (CLAUDIO OLIVEIRA EGALON) NNTP-Posting-Host: tahit...\",\"ines: 35  In article \\u003c1rd1g0$\\u003e  (Pat) writes: \\u003eHow will said re-boost be done? \\u003eGrapple, HST,  stow ...\",\" Lines: 56 NNTP-Posting-Host: fnalf.fnal.gov  In article \\u003c\\u003e,  (Frank J. Snyder) writes: \\u003e I am looki...\",\"sh Hopkins) writes: \\u003e (Keith Mancus) writes: \\u003e\\u003e (Layne Cook) writes: \\u003e\\u003e\\u003e The $25k Orteig prize helpe...\",\"lina State University, Project Eos Lines: 21   Hi all,      I'm trying to get mailing addresses for ...\",\"5-7155 v.32\\u002fv.42bis Lines: 27  In article \\u003c\\u003e mwm+@cs.cmu.edu (Mark Maimone) writes: \\u003eIn article \\u003c\\u003e  ...\",\"IO OLIVEIRA EGALON) Distribution: world Organization: NASA Langley Research Center, Hampton, VA  USA...\",\"ding orbital billboards...] \\u003eAnd does anyone have any more details other than what was in the WN \\u003ene...\",\"ion: Muppet Labs Lines: 27  In article \\u003c\\u003e  (fred j mccall 575-3539) writes: \\u003eIn \\u003c\\u003e  (David McAloon) ...\",\"s: 13 Distribution: world Reply-To:  (CLAUDIO OLIVEIRA EGALON) NNTP-Posting-Host: tahiti.larc.nasa.g...\",\"ator:  Nntp-Posting-Host: snow.fox.cs.cmu.edu Organization: School of Computer Science, Carnegie Mel...\",\"NTP-Posting-Host: access.digex.net  In article \\u003c\\u003e  (fred j mccall 575-3539) writes: \\u003eisn't my real n...\",\"ines: 13  In article \\u003c1r6aqr$\\u003e  (Pat) writes: #The better question  should be. #Why not transfer  O&...\",\"Lines: 39 NNTP-Posting-Host: alumni.caltech.edu   (Matthew DeLuca) writes:  \\u003eIn article \\u003c\\u003e  (David \\\"...\",\" Lines: 22 Reply-To:  NNTP-Posting-Host: queen.eng.umd.edu  In article \\u003c\\u003e,  (Allen W. Sherzer) write...\",\"Baltimore MD Lines: 14  Another fish to check out is Richard Rast -- he works for Lockheed Missiles,...\",\"e Centaur is controlled technology.. State Dept will not allow it to be used outside of US. Sorry. \\u003e...\",\"ept. of Energy, Mines, and Resources, Ottawa Lines: 15  As for SF and advertising in space. There is...\",\"ty of Victoria, Victoria, BC, Canada Lines: 33  In article \\u003c1qjs1j$\\u003e  (Pat) writes: \\u003e \\u003e \\u003eIn the old ...\",\"s: 111        Ethnocentric USian that I am, I've assumed that we and the xUSSR were the only countri...\",\"lorado State University -=- Computer Science Dept. Lines: 11  Is the film from the \\\"putt-putt\\\" test ...\",\"osting-Host: pa881a Nntp-Posting-User: schiewer Lines: 9  What is the deal with life on Mars?  I sav...\",\"ing-Host: access.digex.net   Well thank you dennis for your as usual highly detailed and informative...\",\"sity of California, Irvine Lines: 30  Actually, they are legal! I not familiar with the ad you are s...\",\"Riverside Lines: 82 Nntp-Posting-Host: guitar.ucr.edu  There is an interesting opinion piece in the ...\",\" I need as much information about Cosmos 2238 and its rocket fragment (1993- 018B) as possible. Both...\",\"Greenbelt Maryland Lines: 23  Reported yesterday in the Washington Post (Kathy Sawyer, writer):  The...\"],\"x\":[-0.1146664172410965,-0.09074202179908752,-0.14320145547389984,-0.16492962837219238,-0.08804279565811157,-0.015819652006030083,-0.037550076842308044,-0.011833296157419682,-0.044426798820495605,-0.08046294748783112,0.09545888751745224,-0.012442328035831451,-0.02538631483912468,-0.17651426792144775,-0.06670645624399185,-0.2243507355451584,0.06841633468866348,0.049433883279561996,0.019884461537003517,-0.13481956720352173,0.006206393241882324,-0.01423353236168623,-0.07115943729877472,0.03345676511526108,-0.06584375351667404,-0.2066127210855484,-0.08906328678131104,-0.06320197880268097,0.024101128801703453,-0.1267978698015213,-0.02362377755343914,-0.21164600551128387,-0.012637571431696415,0.011368143372237682,-0.011671395972371101,-0.10909571498632431,-0.020031921565532684,-0.1386384218931198,-0.1706388145685196,-0.12235905975103378,-0.17545954883098602,0.17006176710128784,0.0001225692976731807,-0.1595686674118042,-0.1998366415500641,0.24253402650356293,0.03308017551898956,-0.03409392014145851,-0.0939224511384964,0.025292206555604935,-0.16612431406974792,-0.14852246642112732,-0.30744439363479614,-0.2017531543970108,0.05176052451133728,-0.19689969718456268,-0.1436813920736313,-0.21779456734657288,-0.141521155834198,-0.15856170654296875,-0.2426573932170868,-0.09575460851192474,-0.27051588892936707,-0.1573997437953949,-0.19594259560108185,-0.050378911197185516,-0.07229764759540558,-0.006239823065698147,-0.0726463794708252,-0.11769608408212662,-0.028093043714761734,-0.07192769646644592,-0.1715022325515747,0.1493184119462967,-0.0894148126244545,0.010755300521850586,-0.029036741703748703,-0.0618726909160614,0.024447953328490257,-0.02979205548763275,-0.08225058019161224,-0.08197097480297089,-0.10794254392385483,-0.18340972065925598,-0.00835745595395565,0.0008305269875563681,-0.06839082390069962,-0.0124519569799304,-0.08533309400081635,-0.04667814448475838,-0.1133558452129364,-0.04826190322637558,-0.005998118314892054,-0.03171037510037422,-0.2727125287055969,-0.1162361204624176,-0.1855984628200531,-0.11968283355236053,0.008374875411391258,0.05282273888587952,-0.03317107632756233,-0.1651569902896881,-0.12885820865631104,-0.15636806190013885,-0.09561748802661896,-0.1300681233406067,-0.049694426357746124,0.12153497338294983,0.008671846240758896,-0.12698855996131897,-0.19171589612960815,-0.01963087171316147,-0.10404273867607117,0.06117065250873566,-0.019299136474728584,0.0020224791951477528,-0.2144990712404251,-0.22152933478355408,-0.13884341716766357,-0.09397277981042862,-0.09942854940891266,-0.10849996656179428,-0.07913700491189957,-0.22674347460269928,-0.20587040483951569,-0.1351769119501114,-0.06303523480892181,-0.037561677396297455,0.020552173256874084,-0.11480218917131424,-0.009005982428789139,-0.0880872905254364,-0.18390539288520813,0.04137629270553589,-0.009905699640512466,-0.017953619360923767,-0.06474196165800095,0.14781126379966736,-0.006256293971091509,-0.13241004943847656,-0.10959974676370621,-0.0515284426510334,0.12987644970417023,-0.025740107521414757,-0.15551036596298218,0.005544920917600393,-0.035187266767024994,-0.11203689128160477,-0.09337298572063446,-0.011518965475261211],\"y\":[0.23220936954021454,-0.016840754076838493,0.09892691671848297,-0.09838179498910904,0.29719310998916626,0.14026299118995667,0.18344780802726746,0.3361339569091797,0.34428900480270386,0.08789951354265213,0.26385852694511414,0.37290897965431213,0.29725825786590576,0.011492995545268059,0.1993170529603958,0.2519335448741913,0.1734112799167633,0.1451864242553711,0.1950850933790207,0.28615880012512207,0.1614837497472763,0.32922080159187317,0.222381129860878,0.23718172311782837,0.2548781633377075,0.1988200545310974,-0.041999273002147675,0.22616997361183167,0.1013135313987732,0.2781626880168915,0.2140531688928604,0.09403244405984879,-0.019063791260123253,0.3105138838291168,0.28066137433052063,0.302028089761734,0.07960350066423416,0.26112276315689087,0.24437396228313446,0.30986374616622925,0.4525616466999054,-0.001611362211406231,0.4020071029663086,-0.0495038665831089,0.04251318797469139,0.15579752624034882,0.15787847340106964,0.3784065544605255,0.0961994007229805,0.3441537320613861,-0.15208597481250763,0.3760116398334503,0.024822628125548363,0.2047039419412613,0.3329406976699829,0.052167072892189026,0.1499449461698532,0.15757597982883453,0.2565906345844269,0.2985842525959015,-0.036297306418418884,0.320609986782074,-0.06522586196660995,0.3862270712852478,0.3337104022502899,0.22367540001869202,0.08766094595193863,0.2646368741989136,0.15469689667224884,0.05044713616371155,0.33506059646606445,0.14831045269966125,0.3398180902004242,0.391632080078125,0.12471706420183182,0.05937438830733299,0.2095438838005066,0.13478337228298187,0.05135772377252579,0.3343732953071594,0.2091771811246872,0.1718113273382187,0.15476186573505402,0.18143600225448608,0.35284364223480225,0.2320508062839508,0.3023630976676941,0.24493582546710968,0.23177747428417206,0.20660606026649475,0.30726948380470276,0.29507890343666077,0.16569025814533234,0.2682410478591919,0.24861577153205872,0.20325838029384613,0.3211863338947296,0.25533807277679443,0.34453848004341125,0.2175656110048294,0.3291313052177429,0.3076421022415161,0.1696028709411621,0.19683514535427094,0.36497384309768677,0.18352524936199188,0.24409794807434082,0.36387014389038086,0.29755815863609314,0.08073443174362183,-0.030464015901088715,0.26453259587287903,0.35545995831489563,0.14268188178539276,0.3363112807273865,0.01071030180901289,0.21548567712306976,0.09239967912435532,0.12105170637369156,0.35008013248443604,0.008246807381510735,0.145603746175766,0.1262221336364746,0.06391958892345428,0.22825616598129272,0.37649697065353394,0.25648441910743713,0.30732402205467224,0.22846433520317078,0.20429323613643646,0.23698659241199493,0.09932246804237366,0.19439955055713654,0.17336280643939972,0.11515256017446518,0.25763648748397827,0.25916650891304016,0.37716102600097656,0.20935998857021332,0.16978685557842255,0.27945712208747864,0.05384226515889168,0.06454186141490936,0.08728766441345215,0.15086695551872253,0.2238255888223648,0.1836860477924347,0.20469413697719574,0.39948880672454834,0.19476492702960968],\"type\":\"scatter\"}],                        {\"height\":800,\"hovermode\":\"closest\",\"template\":{\"data\":{\"barpolar\":[{\"marker\":{\"line\":{\"color\":\"#E5ECF6\",\"width\":0.5},\"pattern\":{\"fillmode\":\"overlay\",\"size\":10,\"solidity\":0.2}},\"type\":\"barpolar\"}],\"bar\":[{\"error_x\":{\"color\":\"#2a3f5f\"},\"error_y\":{\"color\":\"#2a3f5f\"},\"marker\":{\"line\":{\"color\":\"#E5ECF6\",\"width\":0.5},\"pattern\":{\"fillmode\":\"overlay\",\"size\":10,\"solidity\":0.2}},\"type\":\"bar\"}],\"carpet\":[{\"aaxis\":{\"endlinecolor\":\"#2a3f5f\",\"gridcolor\":\"white\",\"linecolor\":\"white\",\"minorgridcolor\":\"white\",\"startlinecolor\":\"#2a3f5f\"},\"baxis\":{\"endlinecolor\":\"#2a3f5f\",\"gridcolor\":\"white\",\"linecolor\":\"white\",\"minorgridcolor\":\"white\",\"startlinecolor\":\"#2a3f5f\"},\"type\":\"carpet\"}],\"choropleth\":[{\"colorbar\":{\"outlinewidth\":0,\"ticks\":\"\"},\"type\":\"choropleth\"}],\"contourcarpet\":[{\"colorbar\":{\"outlinewidth\":0,\"ticks\":\"\"},\"type\":\"contourcarpet\"}],\"contour\":[{\"colorbar\":{\"outlinewidth\":0,\"ticks\":\"\"},\"colorscale\":[[0.0,\"#0d0887\"],[0.1111111111111111,\"#46039f\"],[0.2222222222222222,\"#7201a8\"],[0.3333333333333333,\"#9c179e\"],[0.4444444444444444,\"#bd3786\"],[0.5555555555555556,\"#d8576b\"],[0.6666666666666666,\"#ed7953\"],[0.7777777777777778,\"#fb9f3a\"],[0.8888888888888888,\"#fdca26\"],[1.0,\"#f0f921\"]],\"type\":\"contour\"}],\"heatmapgl\":[{\"colorbar\":{\"outlinewidth\":0,\"ticks\":\"\"},\"colorscale\":[[0.0,\"#0d0887\"],[0.1111111111111111,\"#46039f\"],[0.2222222222222222,\"#7201a8\"],[0.3333333333333333,\"#9c179e\"],[0.4444444444444444,\"#bd3786\"],[0.5555555555555556,\"#d8576b\"],[0.6666666666666666,\"#ed7953\"],[0.7777777777777778,\"#fb9f3a\"],[0.8888888888888888,\"#fdca26\"],[1.0,\"#f0f921\"]],\"type\":\"heatmapgl\"}],\"heatmap\":[{\"colorbar\":{\"outlinewidth\":0,\"ticks\":\"\"},\"colorscale\":[[0.0,\"#0d0887\"],[0.1111111111111111,\"#46039f\"],[0.2222222222222222,\"#7201a8\"],[0.3333333333333333,\"#9c179e\"],[0.4444444444444444,\"#bd3786\"],[0.5555555555555556,\"#d8576b\"],[0.6666666666666666,\"#ed7953\"],[0.7777777777777778,\"#fb9f3a\"],[0.8888888888888888,\"#fdca26\"],[1.0,\"#f0f921\"]],\"type\":\"heatmap\"}],\"histogram2dcontour\":[{\"colorbar\":{\"outlinewidth\":0,\"ticks\":\"\"},\"colorscale\":[[0.0,\"#0d0887\"],[0.1111111111111111,\"#46039f\"],[0.2222222222222222,\"#7201a8\"],[0.3333333333333333,\"#9c179e\"],[0.4444444444444444,\"#bd3786\"],[0.5555555555555556,\"#d8576b\"],[0.6666666666666666,\"#ed7953\"],[0.7777777777777778,\"#fb9f3a\"],[0.8888888888888888,\"#fdca26\"],[1.0,\"#f0f921\"]],\"type\":\"histogram2dcontour\"}],\"histogram2d\":[{\"colorbar\":{\"outlinewidth\":0,\"ticks\":\"\"},\"colorscale\":[[0.0,\"#0d0887\"],[0.1111111111111111,\"#46039f\"],[0.2222222222222222,\"#7201a8\"],[0.3333333333333333,\"#9c179e\"],[0.4444444444444444,\"#bd3786\"],[0.5555555555555556,\"#d8576b\"],[0.6666666666666666,\"#ed7953\"],[0.7777777777777778,\"#fb9f3a\"],[0.8888888888888888,\"#fdca26\"],[1.0,\"#f0f921\"]],\"type\":\"histogram2d\"}],\"histogram\":[{\"marker\":{\"pattern\":{\"fillmode\":\"overlay\",\"size\":10,\"solidity\":0.2}},\"type\":\"histogram\"}],\"mesh3d\":[{\"colorbar\":{\"outlinewidth\":0,\"ticks\":\"\"},\"type\":\"mesh3d\"}],\"parcoords\":[{\"line\":{\"colorbar\":{\"outlinewidth\":0,\"ticks\":\"\"}},\"type\":\"parcoords\"}],\"pie\":[{\"automargin\":true,\"type\":\"pie\"}],\"scatter3d\":[{\"line\":{\"colorbar\":{\"outlinewidth\":0,\"ticks\":\"\"}},\"marker\":{\"colorbar\":{\"outlinewidth\":0,\"ticks\":\"\"}},\"type\":\"scatter3d\"}],\"scattercarpet\":[{\"marker\":{\"colorbar\":{\"outlinewidth\":0,\"ticks\":\"\"}},\"type\":\"scattercarpet\"}],\"scattergeo\":[{\"marker\":{\"colorbar\":{\"outlinewidth\":0,\"ticks\":\"\"}},\"type\":\"scattergeo\"}],\"scattergl\":[{\"marker\":{\"colorbar\":{\"outlinewidth\":0,\"ticks\":\"\"}},\"type\":\"scattergl\"}],\"scattermapbox\":[{\"marker\":{\"colorbar\":{\"outlinewidth\":0,\"ticks\":\"\"}},\"type\":\"scattermapbox\"}],\"scatterpolargl\":[{\"marker\":{\"colorbar\":{\"outlinewidth\":0,\"ticks\":\"\"}},\"type\":\"scatterpolargl\"}],\"scatterpolar\":[{\"marker\":{\"colorbar\":{\"outlinewidth\":0,\"ticks\":\"\"}},\"type\":\"scatterpolar\"}],\"scatter\":[{\"fillpattern\":{\"fillmode\":\"overlay\",\"size\":10,\"solidity\":0.2},\"type\":\"scatter\"}],\"scatterternary\":[{\"marker\":{\"colorbar\":{\"outlinewidth\":0,\"ticks\":\"\"}},\"type\":\"scatterternary\"}],\"surface\":[{\"colorbar\":{\"outlinewidth\":0,\"ticks\":\"\"},\"colorscale\":[[0.0,\"#0d0887\"],[0.1111111111111111,\"#46039f\"],[0.2222222222222222,\"#7201a8\"],[0.3333333333333333,\"#9c179e\"],[0.4444444444444444,\"#bd3786\"],[0.5555555555555556,\"#d8576b\"],[0.6666666666666666,\"#ed7953\"],[0.7777777777777778,\"#fb9f3a\"],[0.8888888888888888,\"#fdca26\"],[1.0,\"#f0f921\"]],\"type\":\"surface\"}],\"table\":[{\"cells\":{\"fill\":{\"color\":\"#EBF0F8\"},\"line\":{\"color\":\"white\"}},\"header\":{\"fill\":{\"color\":\"#C8D4E3\"},\"line\":{\"color\":\"white\"}},\"type\":\"table\"}]},\"layout\":{\"annotationdefaults\":{\"arrowcolor\":\"#2a3f5f\",\"arrowhead\":0,\"arrowwidth\":1},\"autotypenumbers\":\"strict\",\"coloraxis\":{\"colorbar\":{\"outlinewidth\":0,\"ticks\":\"\"}},\"colorscale\":{\"diverging\":[[0,\"#8e0152\"],[0.1,\"#c51b7d\"],[0.2,\"#de77ae\"],[0.3,\"#f1b6da\"],[0.4,\"#fde0ef\"],[0.5,\"#f7f7f7\"],[0.6,\"#e6f5d0\"],[0.7,\"#b8e186\"],[0.8,\"#7fbc41\"],[0.9,\"#4d9221\"],[1,\"#276419\"]],\"sequential\":[[0.0,\"#0d0887\"],[0.1111111111111111,\"#46039f\"],[0.2222222222222222,\"#7201a8\"],[0.3333333333333333,\"#9c179e\"],[0.4444444444444444,\"#bd3786\"],[0.5555555555555556,\"#d8576b\"],[0.6666666666666666,\"#ed7953\"],[0.7777777777777778,\"#fb9f3a\"],[0.8888888888888888,\"#fdca26\"],[1.0,\"#f0f921\"]],\"sequentialminus\":[[0.0,\"#0d0887\"],[0.1111111111111111,\"#46039f\"],[0.2222222222222222,\"#7201a8\"],[0.3333333333333333,\"#9c179e\"],[0.4444444444444444,\"#bd3786\"],[0.5555555555555556,\"#d8576b\"],[0.6666666666666666,\"#ed7953\"],[0.7777777777777778,\"#fb9f3a\"],[0.8888888888888888,\"#fdca26\"],[1.0,\"#f0f921\"]]},\"colorway\":[\"#636efa\",\"#EF553B\",\"#00cc96\",\"#ab63fa\",\"#FFA15A\",\"#19d3f3\",\"#FF6692\",\"#B6E880\",\"#FF97FF\",\"#FECB52\"],\"font\":{\"color\":\"#2a3f5f\"},\"geo\":{\"bgcolor\":\"white\",\"lakecolor\":\"white\",\"landcolor\":\"#E5ECF6\",\"showlakes\":true,\"showland\":true,\"subunitcolor\":\"white\"},\"hoverlabel\":{\"align\":\"left\"},\"hovermode\":\"closest\",\"mapbox\":{\"style\":\"light\"},\"paper_bgcolor\":\"white\",\"plot_bgcolor\":\"#E5ECF6\",\"polar\":{\"angularaxis\":{\"gridcolor\":\"white\",\"linecolor\":\"white\",\"ticks\":\"\"},\"bgcolor\":\"#E5ECF6\",\"radialaxis\":{\"gridcolor\":\"white\",\"linecolor\":\"white\",\"ticks\":\"\"}},\"scene\":{\"xaxis\":{\"backgroundcolor\":\"#E5ECF6\",\"gridcolor\":\"white\",\"gridwidth\":2,\"linecolor\":\"white\",\"showbackground\":true,\"ticks\":\"\",\"zerolinecolor\":\"white\"},\"yaxis\":{\"backgroundcolor\":\"#E5ECF6\",\"gridcolor\":\"white\",\"gridwidth\":2,\"linecolor\":\"white\",\"showbackground\":true,\"ticks\":\"\",\"zerolinecolor\":\"white\"},\"zaxis\":{\"backgroundcolor\":\"#E5ECF6\",\"gridcolor\":\"white\",\"gridwidth\":2,\"linecolor\":\"white\",\"showbackground\":true,\"ticks\":\"\",\"zerolinecolor\":\"white\"}},\"shapedefaults\":{\"line\":{\"color\":\"#2a3f5f\"}},\"ternary\":{\"aaxis\":{\"gridcolor\":\"white\",\"linecolor\":\"white\",\"ticks\":\"\"},\"baxis\":{\"gridcolor\":\"white\",\"linecolor\":\"white\",\"ticks\":\"\"},\"bgcolor\":\"#E5ECF6\",\"caxis\":{\"gridcolor\":\"white\",\"linecolor\":\"white\",\"ticks\":\"\"}},\"title\":{\"x\":0.05},\"xaxis\":{\"automargin\":true,\"gridcolor\":\"white\",\"linecolor\":\"white\",\"ticks\":\"\",\"title\":{\"standoff\":15},\"zerolinecolor\":\"white\",\"zerolinewidth\":2},\"yaxis\":{\"automargin\":true,\"gridcolor\":\"white\",\"linecolor\":\"white\",\"ticks\":\"\",\"title\":{\"standoff\":15},\"zerolinecolor\":\"white\",\"zerolinewidth\":2}}},\"title\":{\"text\":\"Embedding Plot with Class Labels\"},\"width\":1200,\"xaxis\":{\"showgrid\":false,\"showticklabels\":false,\"zeroline\":false},\"yaxis\":{\"showgrid\":false,\"showticklabels\":false,\"zeroline\":false}},                        {\"displayModeBar\": false, \"responsive\": true}                    ).then(function(){\n",
       "                            \n",
       "var gd = document.getElementById('fdd5b446-9b12-4711-bb34-481981f13f28');\n",
       "var x = new MutationObserver(function (mutations, observer) {{\n",
       "        var display = window.getComputedStyle(gd).display;\n",
       "        if (!display || display === 'none') {{\n",
       "            console.log([gd, 'removed!']);\n",
       "            Plotly.purge(gd);\n",
       "            observer.disconnect();\n",
       "        }}\n",
       "}});\n",
       "\n",
       "// Listen for the removal of the full notebook cells\n",
       "var notebookContainer = gd.closest('#notebook-container');\n",
       "if (notebookContainer) {{\n",
       "    x.observe(notebookContainer, {childList: true});\n",
       "}}\n",
       "\n",
       "// Listen for the clearing of the current output cell\n",
       "var outputEl = gd.closest('.output');\n",
       "if (outputEl) {{\n",
       "    x.observe(outputEl, {childList: true});\n",
       "}}\n",
       "\n",
       "                        })                };                });            </script>        </div>"
      ]
     },
     "metadata": {},
     "output_type": "display_data"
    }
   ],
   "source": [
    "X = np.vstack(df['SBERT_embedding'].values)\n",
    "\n",
    "pca = PCA(n_components=2)\n",
    "X_pca = pca.fit_transform(X)\n",
    "\n",
    "hover_plot(X_pca, df)"
   ]
  },
  {
   "cell_type": "markdown",
   "metadata": {},
   "source": [
    "We are now starting to see true separation, but, can we do better? What else can we change?"
   ]
  },
  {
   "cell_type": "markdown",
   "metadata": {},
   "source": [
    "## Exercise:\n",
    "\n",
    "Change the dimensionality reduction technique. Try t-sne."
   ]
  },
  {
   "cell_type": "code",
   "execution_count": 9,
   "metadata": {},
   "outputs": [
    {
     "name": "stderr",
     "output_type": "stream",
     "text": [
      "huggingface/tokenizers: The current process just got forked, after parallelism has already been used. Disabling parallelism to avoid deadlocks...\n",
      "To disable this warning, you can either:\n",
      "\t- Avoid using `tokenizers` before the fork if possible\n",
      "\t- Explicitly set the environment variable TOKENIZERS_PARALLELISM=(true | false)\n"
     ]
    },
    {
     "data": {
      "application/vnd.plotly.v1+json": {
       "config": {
        "displayModeBar": false,
        "linkText": "Export to plot.ly",
        "plotlyServerURL": "https://plot.ly",
        "showLink": false
       },
       "data": [
        {
         "hoverinfo": "text",
         "marker": {
          "line": {
           "color": "white",
           "width": 0.5
          },
          "size": 15
         },
         "mode": "markers",
         "name": "Class sci.crypt",
         "opacity": 0.7,
         "text": [
          ">In the UK, it's impossible to get approval to attach any crypto device \t>to the phone network.  (An...",
          "t of trawling through archives, I found the post I reproduce in full below.  Is it time to get toget...",
          "-Host: rac2.wam.umd.edu Organization: University of Maryland, College Park Lines: 11  In article <> ...",
          "est Center, University of Hamburg Distribution: na Lines: 33   (Marc Anderson) writes:  > methods.  ...",
          "rn Louisiana Lines: 52   (David Sternlight) writes:  >What follows is my opinion. It is not asserted...",
          "ion: Chaos Lines: 76 X-Newsreader: Archimedes ReadNews  -----BEGIN PGP SIGNED MESSAGE-----  In artic...",
          "Development, IBM Canada Lab. Disclaimer: This posting represents the poster's views, not those of IB...",
          ".edu Organization: University of Texas at San Antonio Distribution: na Lines: 22  In article <>  (An...",
          "tes: >For example, if I had a program on my disk which created totally random >files looking like en...",
          " wiretap chip) Organization: AT&T Bell Laboratories Lines: 66  In article <>, Graham Toal <> writes:...",
          "13 NNTP-Posting-Host: access.digex.net   > Second question: Why!?!? Why is such a strange procedure ...",
          " 16: 47:03 GMT Organization: York U. Student Information Systems Project Lines: 18  Mark Riordan wri...",
          "es: 34  In article <1qg8m2$>  (Edward Vielmetti) writes:   > I would suggest that 50 attractive MIME...",
          " View, CA Lines: 20  In article <>,  (David Sternlight) writes: > ... >                             ...",
          "ication Services (408 241-9760 guest) X-Newsreader: Tin 1.1 PL5 Lines: 28  Besides being an infringe...",
          "rn Louisiana Distribution: na Lines: 25   (douglas craig holland) writes:   >\tWith E-Mail, if they c...",
          " and Global Dynamics Division/NCAR, Boulder, CO Lines: 71  Here are some ideas for those of you who ...",
          "words: Hmm... Organization:  George Mason University, Fairfax Va. Distribution: world  Expires: 06/3...",
          "n: net Lines: 7  I am a PhD student. Can I get the sci.crypt group posted directly to me??? Also I w...",
          "zation: New Technology, Inc. Lines: 53  ( Below is my response to Dr. Denning's letter to Steven Bel...",
          "91711 Lines: 23  In article <>  (Robert Lewis Glendenning) writes: >First, what the fuck is NASA doi...",
          "il-Spec Computers Lines: 43  The M code stream  might be independently attacked based on knowledge o...",
          "H), Zurich, CH Lines: 120  Hmm, followup on my own posting... Well, who cares.  First let me try to ...",
          "s Gateway Lines: 171 NNTP-Posting-Host: cs.utexas.edu  Here are four pseudo-random character generat...",
          "lly -in- the chip, as \topposed to what is allegedly programmed therein, raise yet another trust \tiss...",
          ".com Reply-To:  Organization: Qualcomm, Inc Lines: 37  In article <>,  (Vince Kub) writes: |> Now, |...",
          "Online Communication Services (408 241-9760 guest) Distribution: na Lines: 35  Clipper Chip is a res...",
          "on: na Organization: ClariNet Communications Corp. Lines: 29  In article <1qnn7b$>  (Marcus J Ranum)...",
          "Greenbelt, MD USA Lines: 25 NNTP-Posting-Host: access.digex.net  Okay, let's suppose that the NSA/NI...",
          "etap chip) Lines: 16  : At the company I worked for previously, I received a file that was des encry...",
          "on: ClariNet Communications Corp. Distribution: na Lines: 37  The stragegy of the government is inte...",
          "-Posting-Host: sunspot.ece.clarkson.edu Cc: tuinstra   Q:   Who was consulted?  The Congress?  Indus...",
          " Texas - Austin Lines: 53 NNTP-Posting-Host: tramp.cc.utexas.edu Originator:    In article <>,  (Phi...",
          " would be to make PGP available : in some form on EBCDIC machines.  Don't encourage them.  Let EBCDI...",
          "e Design Automation Lines: 17       Notwithstanding all the legitimate fuss about this proposal, how...",
          "reader: TIN [version 1.1 PL7] Lines: 41  Charles Kincy () wrote: :  : All I have to say is...yeah, r...",
          "s:  >But do we really believe that the various governments >(including ours) won't have the full lis...",
          " Performance Group, Austin, TX X-Newsreader: rusnews v1.01 Lines: 17   (Steve Brinich) writes:  >  >...",
          "u by the numbers 2, 3, and 7 In-Reply-To: 's message of 19 Apr 93 18:23:27 -0400 Nntp-Posting-Host: ...",
          "ribution: world NNTP-Posting-Host: jfenton.kaleida.com X-UserAgent: Nuntius v1.1.1d12 X-XXMessage-ID...",
          "desparately* prefer it if we didn't rehash the same arguments that went on ad infinitum last time.  ...",
          "ganization: NASA Science Internet Project Office Lines: 24    |>    The Attorney General will procur...",
          "(Brad Templeton)  \tLet's assume, for the moment, that the system really is secure unless \tyou get bo...",
          "an old posting about CELP speech compression:  \tIn case you'd like to experiment with CELP, you can ...",
          " 29  In <>  (John R. Levine) writes: (quoting someone else here)  >>The cryptographic protocol, thou...",
          "orm the voice compression/expansion.  They can't : be expensive, because they exist in many phones c...",
          "ganization: University of Colorado, Boulder Distribution: na Lines: 11  I change login passwords eve...",
          "rsity of Colorado, Boulder Distribution: na Lines: 32  In article <>  (Marc Anderson) writes: [...] ...",
          "lt, MD USA Lines: 10 NNTP-Posting-Host: access.digex.net    I suspect that the decisive element in t...",
          "ns, Greenbelt, MD USA Lines: 7 NNTP-Posting-Host: access.digex.net   > er, excuse me but since the e...",
          "ost: qualcom.qualcomm.com Organization: Qualcomm, Inc., San Diego, CA Distribution: na Lines: 8   (J...",
          "ilink Corporation, Petaluma, CA Lines: 19  In article <>,  (David Sternlight) writes: >  > Chances a...",
          ". - Genetics Lines: 30  In article <>,  (Vesselin Bontchev) wrote: >  >  (Andrew Haley) writes: >  >...",
          "tion: na Lines: 13  >>\tWith E-Mail, if they can't break your PGP encryption, they'll just >>call up ...",
          "t. of Math, Harvard Univ. Nntp-Posting-Host: zariski.harvard.edu Lines: 33  In article <1ppg02$>   (...",
          "tap chip) In-Reply-To: 's message of Wed, 21 Apr 1993 13:23:18 GMT Nntp-Posting-Host: epcot.harlequi...",
          "IN [version 1.1 PL6] Lines: 35  I guess the cryptowranglers read this group too.  But of course I kn...",
          "20  In article <>,  (D. J. Bernstein) writes: > Short summary of what Bellovin says Hellman says the...",
          "g-Host: beethoven.cs.colostate.edu Organization: Colorado State University, Computer Science Departm...",
          "st: pizzabox.demon.co.uk Reply-To: Graham Toal <> Organization: Cuddlehogs Anonymous Lines: 9  In ar...",
          "nstruments, Inc. Nntp-Posting-Host: dsg4.dse.beckman.com Lines: 22  In <>  (Jonathan Eifrig) writes:...",
          "Fairfax VA Distribution: na Lines: 65   (Timothy C. May) writes:  >Brad Templeton () wrote: >: It oc...",
          "al Sciences Lines: 29 Distribution: inet NNTP-Posting-Host: moink.nmsu.edu  In article <>  (1016/2EF...",
          " Systems Corporation - Herndon, VA  USA Lines: 30 Distribution: world Reply-To:  (Amanda Walker) NNT...",
          "ogy (ETH), Zurich, CH Lines: 28  In article <1qv83m$>  (Jim McCoy) writes: >\tI set up a bbs that use...",
          "Nntp-Posting-Host: zariski.harvard.edu Lines: 55  In article <>   (D. J. Bernstein) writes: > >I wan...",
          "TP server at csrc.ncsl.nist.gov no longer \trecognizes the 'expn' and 'vrfy' commands...  \t   telnet ...",
          " chip) Organization: CSRI, University of Toronto Lines: 31  In article <>  (John Kelsey) writes: >  ...",
          "Access UNIX/Internet Project Lines: 16  In article <>  (Peter Gutmann) writes: [article deleted] > >...",
          "ation - Herndon, VA  USA Lines: 68 Distribution: world Reply-To:  (Amanda Walker) NNTP-Posting-Host:...",
          "WPI; Marlboro Ma Lines: 35  In article <1qn1ic$>  (Peter Wayner) writes: >Okay, let's suppose that t...",
          "thoughts Lines: 7  The cryptographic algorythm MUST be kept secret, or private individuals could mak...",
          "mino theory was right... Organization: Chinet - Public Access UNIX Distribution: na Lines: 8  In art...",
          "mputing of WPI; Marlboro Ma Distribution: na Lines: 26  In article <> Graham Toal <> writes: >In art...",
          "Laboratories, Inc., San Diego, California Lines: 15  In article <> Graham Toal <> writes: >I am *com...",
          "ap, clipper, key-escrow, Mykotronx Organization: Banzai Institute Lines: 19 Nntp-Posting-Host: mycro...",
          "Center, University of Hamburg Lines: 23   (David Sternlight) writes:  > I will provide one hint: it ...",
          "ity Lines: 22  In article <> Rick Miller <> writes: > (Jurgen Botz) writes: >> (Marc Horowitz N1NZU)...",
          "  Here is a disturbing thought.  Now, we no longer live in the days of big filing cabinets. We live ...",
          ": 27 NNTP-Posting-Host: nuustak.csir.co.za X-Disclaimer: None of the opions expressed herein are the...",
          "rtin University of Technology  In article <>,  (Steve Johnson) writes: >  (Brad Templeton) writes: >...",
          " capriccioso X-Newsreader: TIN [version 1.1 PL6] Distribution: na Lines: 54  I am eager to hear the ...",
          "le <1r0nov$>  (Steve Brinich) writes:   > > 1. American manufacturers peddling Cripple Chips with a ...",
          "presents the poster's views, not necessarily those of IBM. Nntp-Posting-Host: kingbee.watson.ibm.com...",
          "etap chip) Organization: Computing Research Lab Lines: 36 \t<> \t<> <> NNTP-Posting-Host: lole.nmsu.ed...",
          "t Omaha Distribution: na Lines: 18   (Geoffrey Kuenning) writes:  >It always amazes me how quick peo...",
          " chips for phones, not computer-bound station)_ Article-I.D.: agora.C5qy3M.DE3 Organization: Open Co...",
          "of Math, Harvard Univ. Nntp-Posting-Host: zariski.harvard.edu Lines: 27  In article <>  (Paul Crowle...",
          "! Nntp-Posting-Host: qualcom.qualcomm.com Organization: Qualcomm, Inc., San Diego, CA Distribution: ...",
          "bistromath.mitre.org Organization: The MITRE Corporation Lines: 41  In article <>  (David Sternlight...",
          "Communications, Greenbelt, MD USA Lines: 6 Distribution: na NNTP-Posting-Host: access.digex.net    F...",
          "-Mailer: Simple NEWS 1.90 (ka9q DIS 1.19) Lines: 23  In article <>  writes:  >since the price of 1.4...",
          "e conservation of momentum Distribution: na Lines: 65  In article <>  (Jerry Han) writes: >In articl...",
          "ribution: na Lines: 47   (Jerry Han) writes: > The point of the matter is that; yes this is a seriou...",
          "istribution: inet Reply-To:  NNTP-Posting-Host: minerva.cis.yale.edu X-Newsreader: TIN [version 1.1 ...",
          "ut a box that you plug your phone into, which would allow \t>encrypted voice communications with some...",
          " wiretap chip) Organization: AT&T Bell Laboratories Lines: 28  In article <>,  (James R Ebright) wri...",
          "ost: beethoven.cs.colostate.edu Organization: Colorado State University, Computer Science Department...",
          " I am testing IDEA block cipher implementations for correctness and needs some golden test vectors. ...",
          ", wiretap, clipper, key-escrow, Mykotronx Nntp-Posting-Host: top.magnus.acs.ohio-state.edu Organizat...",
          "ed Systems Architecture   \tI have a bunch of questions about the encryption scheme referenced in the...",
          "Communications, Greenbelt, MD USA Lines: 5 Distribution: na NNTP-Posting-Host: access.digex.net   > ...",
          "edu Organization: University of Missouri - Rolla, Rolla, MO Lines: 19  In article <>  (Bob Cain) wri...",
          "ting-Host: eff.org Organization: The Electronic Frontier Foundation Lines: 26  Clipper might be a go...",
          "a.edu Organization: UCLA, Computer Science Department Distribution: na Lines: 18  In article <>  (Pa...",
          "ion: Engineering Computer Network Distribution: na Lines: 27  In article <>,  (Brad Templeton) write...",
          "y-To:  Organization: Design Automaton Div., Texas Instruments, Inc. Lines: 36  > (Andrew Molitor) wr...",
          "r, Minneapolis, MN Lines: 18  I agree that notifying your elected officials of your feelings on this...",
          "41-9760 guest) X-Newsreader: Tin 1.1 PL5 Lines: 41  Perry E. Metzger () wrote: : Here is a disturbin...",
          "N [version 1.1 PL6] Lines: 84  *** SOURCE code to Macintosh PGP 2.2 now available via anonymous FTP ...",
          " DSI/USCRPAC Lines: 39  In article <>  (Derek Atkins) writes:   > >The point here is not the specifi...",
          "41     Organization: Mission Operations and Data Systems Distribution: na Lines: 44  In article <1qn...",
          " The MITRE Corporation Lines: 67  In article <>  (Carl M Kadie) writes: > (Andrew S Hall) writes: > ...",
          "Thu, 20 May 1993 00:00:00 GMT Organization: Computer Science, Indiana University Lines: 163 Content-...",
          ": 21 NNTP-Posting-Host: scss3.cl.msu.edu X-Newsreader: TIN [version 1.1 PL8]  For those of you looki...",
          "ration - Herndon, VA  USA Lines: 35 Distribution: world Reply-To:  (Amanda Walker) NNTP-Posting-Host...",
          "s! Organization: Kubota Pacific Computer, Inc. Lines: 46   (Brad Yearwood) writes: | If Clipper come...",
          "13  In article <>  (Phil Karn) writes: >It looks like Dorothy Denning's wrong-headed ideas have gott...",
          " 139  The following document summarizes the Clipper Chip, how it is used, how programming of the chi...",
          "tion: Partnership for an America Free Drug Distribution: na Lines: 104   (Robert Ward) writes: >In a...",
          " In article <:  (Peter Trei) writes: :Judge: \"I grant you immunity from whatever may be learned from...",
          "ll Square Research Corp. Lines: 20   (Steve Johnson) writes: >>-Tim May, whose sig block may get him...",
          "anization: Beckman Instruments, Inc. Nntp-Posting-Host: dsg4.dse.beckman.com Lines: 15  In <>  (Jame...",
          "993 04:00:07 GMT Reply-To:  NNTP-Posting-Host: pad-thai.aktis.com Summary: Part 3 of 10 of the sci.c...",
          " IA, USA Lines: 43   (Philip Zimmermann) writes:  Philip, I think your ideas are well taken and cons...",
          "ines: 23  In article <>  (Kenneth Ng) writes: >In article <:  (Peter Trei) writes: >:Judge: \"I grant...",
          "ganization: Thibault & Friends Lines: 10  In article <>  (The Jester) writes:   > Proof Windows is a...",
          "g read the various \"Clipper\" announcements on the net over the last few  days and a LOT of uninforme...",
          "tap chip) Organization: Harvey Mudd College, Claremont, CA 91711 Lines: 15  In article <>  (Steven B...",
          "f Comp. Sci., Urbana, IL Lines: 18   (Tal Kubo) writes:  [...] >The EFF has been associated with eff...",
          "04:00:07 GMT Reply-To:  NNTP-Posting-Host: pad-thai.aktis.com Summary: Part 2 of 10 of the sci.crypt...",
          "7:40:17 GMT Nntp-Posting-Host: l-b-johnson.eff.org Organization: Electronic Frontier Foundation X-Us...",
          "te of Technology (ETH), Zurich, CH Lines: 19  In article <>  (Graham Toal) writes: >Can someone tell...",
          "ution: na Lines: 26  In article <>  (Karl Barrus) writes:  > >Would you trust a black-box from the N...",
          "Inc. Lines: 38 Nntp-Posting-Host: signal.ece.clarkson.edu  [Apologies for not posting to alt.clipper...",
          "0:07 GMT Reply-To:  NNTP-Posting-Host: pad-thai.aktis.com Summary: Part 1 of 10 of the sci.crypt FAQ...",
          "urgh University Distribution: inet Lines: 12  Quoting  in article <>: >Perhaps these encryption-only...",
          ". Sci., Urbana, IL Lines: 42   (Andrew S Hall) writes:  >I am postive someone will correct me if I a...",
          "nes: 27 Distribution: na \t<> NNTP-Posting-Host: menudo.uh.edu In-reply-to: 's message of Sun, 18 Apr...",
          "a Organization: Totally Unorganized Lines: 17  In article <1r21t1$>  (Steve Brinich) writes: < < > I...",
          "Universitaetsrechenzentrum, Heinrich-Heine-Universitaet, Duesseldorf Lines: 40 NNTP-Posting-Host: la...",
          "nication Services (408 241-9760 guest) Lines: 61  In article <>  (Robin Hanson) writes: >I'm attempt...",
          "e <>  writes: < (David Sternlight) writes: < <> Here's a simple way to convert the Clipper proposal ...",
          "ni-kl.de Organization: University of Kaiserslautern, Germany Lines: 39   (Stephan Neuhaus (HiWi Matt...",
          ".citicorp.com X-Newsreader: TIN [version 1.1 PL6]  As of yet, there has been no description of the g...",
          "n: GeoQuest System, Inc. Houston Lines: 17  In article <>  (Perry E. Metzger) writes: > >each of the...",
          "In article <>,  (Vernon Schryver) writes: > In article <>,  (David Sternlight) writes: >>           ...",
          " Systems Corporation - Herndon, VA  USA Lines: 34 Distribution: world Reply-To:  (Amanda Walker) NNT...",
          "ngland Lines: 25  -----BEGIN PGP SIGNED MESSAGE-----  Hi all..  Does anyone know of a UNIX utility a...",
          "8 NNTP-Posting-Host: ellisun.sw.stratus.com Keywords: cooperation  In article <>  writes: >say, can ..."
         ],
         "type": "scatter",
         "x": [
          -36.6137809753418,
          -35.69673538208008,
          -32.74794387817383,
          -17.020761489868164,
          -22.730022430419922,
          -19.800527572631836,
          -25.899267196655273,
          -18.755464553833008,
          -19.019527435302734,
          -30.616865158081055,
          -29.52638816833496,
          -26.33232307434082,
          -10.399541854858398,
          -24.6094913482666,
          -34.874900817871094,
          -15.923227310180664,
          -27.59429359436035,
          -27.398193359375,
          -13.61640453338623,
          -22.100872039794922,
          -10.313456535339355,
          -30.206974029541016,
          -32.76493453979492,
          -25.69017219543457,
          -28.170541763305664,
          -24.481077194213867,
          -28.985734939575195,
          -22.83772087097168,
          -25.724803924560547,
          -31.4919490814209,
          -27.538671493530273,
          -20.068632125854492,
          -18.426294326782227,
          -28.269229888916016,
          -28.113351821899414,
          -10.458423614501953,
          -28.8963680267334,
          -27.55242919921875,
          -33.54197692871094,
          -21.130664825439453,
          -32.19085693359375,
          -21.755420684814453,
          -23.559335708618164,
          -35.630828857421875,
          -29.42422866821289,
          -35.491127014160156,
          -26.76668930053711,
          -15.482626914978027,
          -19.52757453918457,
          -23.41720199584961,
          -35.076656341552734,
          -27.323223114013672,
          15.593358039855957,
          -15.809767723083496,
          -23.05074119567871,
          -30.66988754272461,
          -14.747967720031738,
          -31.933574676513672,
          -16.42933464050293,
          -19.73088264465332,
          -10.341097831726074,
          -23.962860107421875,
          -17.26344871520996,
          -26.119592666625977,
          -20.894989013671875,
          -13.558514595031738,
          -4.054986000061035,
          -28.933691024780273,
          -13.671590805053711,
          -28.108110427856445,
          -25.427534103393555,
          -31.018327713012695,
          -14.49229621887207,
          -29.844919204711914,
          -30.966726303100586,
          -28.511465072631836,
          -25.42331314086914,
          -3.7584357261657715,
          -24.22344207763672,
          -36.272823333740234,
          -24.15549087524414,
          -18.665788650512695,
          -23.539657592773438,
          -22.081520080566406,
          -31.18609619140625,
          -17.057270050048828,
          -25.084550857543945,
          -14.84191608428955,
          -15.806922912597656,
          -23.48906135559082,
          -16.35177993774414,
          -21.953548431396484,
          -0.5544456839561462,
          -0.7063499093055725,
          -15.427458763122559,
          -28.791589736938477,
          -29.597827911376953,
          -26.119243621826172,
          -25.49372673034668,
          -24.723539352416992,
          -34.18790817260742,
          -18.163286209106445,
          -11.21190071105957,
          -33.07136535644531,
          -16.75788116455078,
          -22.249797821044922,
          -14.842604637145996,
          -10.583128929138184,
          -24.9122371673584,
          -24.23110580444336,
          -23.62255096435547,
          -21.121150970458984,
          -19.8704776763916,
          -12.97236442565918,
          -24.708717346191406,
          -26.780750274658203,
          -27.152692794799805,
          -15.682462692260742,
          -30.069198608398438,
          -18.184343338012695,
          -17.887908935546875,
          -17.47537612915039,
          -19.90517234802246,
          -12.077422142028809,
          -27.72492218017578,
          -17.647085189819336,
          -36.012508392333984,
          -30.837783813476562,
          -28.437192916870117,
          -14.064491271972656,
          -12.276076316833496,
          -12.058029174804688,
          -36.23121643066406,
          -20.415788650512695,
          -29.791208267211914,
          -12.17751693725586,
          -15.817279815673828,
          -19.485193252563477,
          -20.783620834350586,
          -18.22224998474121,
          -28.706037521362305,
          -10.421168327331543,
          -28.460134506225586,
          -12.285274505615234,
          -32.815643310546875,
          -24.44943618774414,
          -23.6868953704834,
          -26.707717895507812,
          -24.982166290283203,
          -20.163288116455078
         ],
         "y": [
          7.745445251464844,
          3.9432759284973145,
          18.449817657470703,
          17.379907608032227,
          16.495450973510742,
          16.713773727416992,
          15.602927207946777,
          19.121767044067383,
          2.811476707458496,
          4.7946553230285645,
          1.7685123682022095,
          -1.7994009256362915,
          2.584601402282715,
          22.060035705566406,
          15.258554458618164,
          0.4945068061351776,
          19.98925018310547,
          15.022855758666992,
          6.122585296630859,
          17.796955108642578,
          23.097314834594727,
          10.743255615234375,
          12.739862442016602,
          -18.200529098510742,
          2.929213762283325,
          5.815000057220459,
          12.479084968566895,
          14.522262573242188,
          7.153618335723877,
          6.550734996795654,
          12.401731491088867,
          13.892775535583496,
          8.271851539611816,
          -5.443709373474121,
          12.081361770629883,
          16.318313598632812,
          14.51058578491211,
          21.728307723999023,
          12.291659355163574,
          10.430216789245605,
          15.551702499389648,
          12.283001899719238,
          15.432588577270508,
          3.7644155025482178,
          16.188261032104492,
          7.840127468109131,
          5.8637919425964355,
          18.998821258544922,
          14.584189414978027,
          20.445232391357422,
          15.566509246826172,
          16.641172409057617,
          -14.81684684753418,
          -0.07748457044363022,
          7.727268695831299,
          4.312878131866455,
          8.275986671447754,
          11.767991065979004,
          16.24427604675293,
          1.6077306270599365,
          16.635557174682617,
          9.133323669433594,
          14.12271499633789,
          10.856057167053223,
          7.032510280609131,
          11.365612030029297,
          -24.6068172454834,
          6.655936241149902,
          17.509553909301758,
          10.315558433532715,
          7.330267429351807,
          16.684642791748047,
          15.818685531616211,
          18.61606216430664,
          21.382631301879883,
          15.689168930053711,
          -1.142069935798645,
          -24.32094383239746,
          17.66130256652832,
          6.927985191345215,
          8.157940864562988,
          12.446206092834473,
          20.739490509033203,
          23.424531936645508,
          6.648862361907959,
          20.217254638671875,
          12.176054954528809,
          11.271005630493164,
          20.127883911132812,
          10.63754653930664,
          -2.2670950889587402,
          0.6555403470993042,
          -4.640660285949707,
          -4.401125907897949,
          10.766693115234375,
          8.797165870666504,
          5.109299659729004,
          12.487543106079102,
          -17.809593200683594,
          14.802635192871094,
          5.346243858337402,
          23.847427368164062,
          15.07603645324707,
          18.42420768737793,
          20.638065338134766,
          14.884716033935547,
          16.308902740478516,
          -23.98179054260254,
          16.7950439453125,
          -3.1082334518432617,
          11.381803512573242,
          12.485963821411133,
          7.872190475463867,
          3.035879135131836,
          -5.528244972229004,
          10.761369705200195,
          13.4208345413208,
          21.803665161132812,
          14.402325630187988,
          11.559686660766602,
          6.47232723236084,
          19.135704040527344,
          21.648338317871094,
          5.895724296569824,
          20.32736587524414,
          6.436710357666016,
          14.012981414794922,
          13.896042823791504,
          5.934563636779785,
          12.217967987060547,
          5.612318992614746,
          12.052201271057129,
          6.484182834625244,
          22.055814743041992,
          15.831097602844238,
          6.587714672088623,
          10.83995246887207,
          8.098694801330566,
          22.709047317504883,
          23.570730209350586,
          2.1386070251464844,
          23.106082916259766,
          17.506515502929688,
          8.556354522705078,
          14.254112243652344,
          18.174612045288086,
          13.288054466247559,
          9.460685729980469,
          3.949702739715576,
          3.636604070663452
         ]
        },
        {
         "hoverinfo": "text",
         "marker": {
          "line": {
           "color": "white",
           "width": 0.5
          },
          "size": 15
         },
         "mode": "markers",
         "name": "Class sci.electronics",
         "opacity": 0.7,
         "text": [
          "ity of Minnesota, Duluth Lines: 28 NNTP-Posting-Host: ua.d.umn.edu  In article <>  (Bijan Mobasseri)...",
          "tern Reserve University, Cleveland, Ohio (USA) Lines: 45 NNTP-Posting-Host: slc10.ins.cwru.edu     A...",
          "8-241-9760 login: guest) Lines: 25   (Neal Patrick Howland) writes: > >From what I understand about ...",
          " of Illinois at Urbana Lines: 14  As the subject says - Can I use a 4052 for digital signals?  I don...",
          "17    I would like to be able to amplify a voltage signal which is output from a thermocouple, prefe...",
          "rt Collins Site X-Newsreader: TIN [version 1.1 PL8.5] Lines: 5  Has anyone ever heard of FET-TRONS (...",
          "mulation Organization: Harris Controls Lines: 18   I recently ftp'd Al's Circuit Simulator (ACS) and...",
          "zation: Medical Informatics, Pittsburgh, PA USA Lines: 33   \tGreetings. I've been seeing the word \"s...",
          "ceiver system Organization: National Hospitals, Iceland Lines: 19   Dear Netters I want to send EMG-...",
          "ology Hatley & Pirbhai ? I am a British final year real-time degree student, and as a project I am c...",
          "t Imag, Grenoble, France Lines: 38  In article <>,  (Ketil Albertsen,TIH) writes: |> In article <>, ...",
          " 8 News-Software: VAX/VMS VNEWS 1.41 Nntp-Posting-Host: ubvmsb.cc.buffalo.edu   \tHow does the radio ...",
          "echnological University X-Newsreader: TIN [version 1.1 PL8] Lines: 21  Charlie Brett () wrote: : You...",
          "ersity, St. Louis MO Lines: 88  In article <>  (Stan Burton) writes: > >-- > >I would like to be abl...",
          ". Keywords: pattern Summary: MDA/EGA/VGA pat. gen. Lines: 15  I repair a lot of monitors here, and I...",
          "tion, Huntsville AL Lines: 25  In article <>,  (Michael DeAddio) writes:  |> |> The 'beam' is split ...",
          " We have a setup with with 13 polaroid transducers and rangefinders. We would like to fire these thr...",
          " 12   (Ronald W. Butts, Jr.) writes:  >I am looking for suppliers of 900MHz spread spectrum radio mo...",
          "Hz, problems (FPU exception) Nntp-Posting-Host: prawn.sp.ph Organization: Imperial College of Scienc...",
          " In article <>  writes: >In article <>,  (Russ Crisp) writes: >> I'm considering modernizing some ol...",
          "s: 10   In article <>, Joseph Chiu writes:  > The Ohmite company was the first to characterize resis...",
          "es (408-241-9760 login: guest) Lines: 32  Sci.E(E) netters:  I am setting out to build and market a ...",
          "edu Organization: Michigan Technological University Lines: 32  In article <>,  (Russ Crisp) wrote: >...",
          ": TIN [version 1.1 PL8] Lines: 15   Hi there  Does anyone know how to get hold of data as well as st...",
          "4  Can anybody recommend a good, application-oriented beginner's reference to RF circuits?    I am p...",
          "0  Does any one know if the 6551 is timing/pin compatible with the 6551..  It seems the 6551 has in ...",
          "MM> (Martin McCormick) MM>Organization: Oklahoma State University, Stillwater, OK MM>\tWhat sort of l...",
          "rganization: Chalmers University of Technology, Gothenburg Sweden Lines: 10  Does anybody know anyth...",
          " Hewlett-Packard X-Newsreader: TIN [version 1.1 PL8.9] Lines: 8  While driving through the middle of...",
          "ple that are interested in every aspect of the 2600 try the zine:  2600 connection $1 cash to : Timo...",
          "niversity  Lines: 12  Since I have seen various different numbers to dial to get your number read ba...",
          "rticle <>  (Billy Quinn) writes: >I built a little project using the radio shack 5vdc relays to swit...",
          "anization: SDSU - LARC Lines: 16 NNTP-Posting-Host: larc.sdsu.edu  In article <>,  (Scott Townsend) ...",
          "nto Zoology Lines: 13  In article <>  (Michael Golan) writes: >The board itself is also identical, w...",
          ": na Organization: APG-Edgewood, MD, USA Lines: 26   PLease take these and use them.  Take advantage...",
          "atik Nntp-Posting-Host: schroeder.ifi.unibas.ch Lines: 11  Great, the first advantage of cheap coax,...",
          "y-To:  Organization: New York University Lines: 13  I'm looking to build a microphone preamp that ha...",
          "Lines: 12  Any info on modern 20MHZ or better dual trace scopes would be appreciated. Should I buy a...",
          "cation Services (408 241-9760 guest) Lines: 25   I had a similar idea, for a fax/answering machine s...",
          "derbyl) Organization: MPR Teltech Ltd. Lines: 30   writes: >Initial symptoms: >-no picture or sound ...",
          "In article <>  (Stephe Lewis Foskett) writes: > >I'm doing sound for a couple of bands around here a...",
          "Organization: Utah State Univ. EE Nntp-Posting-Host: sol.ee.usu.edu Lines: 32  In article <>,  (Robe...",
          "Services (408 241-9760 guest) Distribution: usa Lines: 19   I bought this chip from Suncoast Technol...",
          "ton University, St. Louis MO Lines: 32  In article <>  (J. Babb) writes: >Fellow Info-junkies, >  I ...",
          "AI Programs, University of Georgia, Athens Lines: 13  You can get a *little* UV by putting a heavy U...",
          " University In-Reply-To: 's message of Mon, 19 Apr 93 00:38:00 GMT X-News-Reader: VMS NEWS 1.24 Line...",
          "g-Host: hpctdkz.col.hp.com  >   Does anybody out there have one of those food dehydrators I've been ...",
          "is  In <>  (Ketil Albertsen,TIH) writes:  >May we interpret this as an offer to volunteer as editor ...",
          "e-Hulman Lines: 14 NNTP-Posting-Host: g222-26.nextwork.rose-hulman.edu Keywords: 68hc16  In article ...",
          "truments Inc. Nntp-Posting-Host: 134.217.245.87 Lines: 11  Does anyone know of an FTP site where I m...",
          "ut how to build a cheap, low resolution (or high :-) video projector...   (example: a LCD and an sli...",
          "on: University of Wales, Aberystwyth Lines: 23  I have a Fujitsu M2322K which has been removed (I be...",
          "tion: Reed College, Portland, Oregon Lines: 36  In article <>  (Babak Sehari) writes: >--- > >I was ...",
          "nter, Chandler Arizona Lines: 17  In article <>,  (Brad Kepley) writes: |> I just heard an unbelieva...",
          "zation: Geophysical Institute, Fairbanks, AK Lines: 21   I would be interested in hearing from anyon...",
          " Technology, Pasadena Lines: 8 NNTP-Posting-Host: fleming.caltech.edu  I was wondering if anyone kno...",
          "untsville AL Lines: 41  In article <>,  (Mark Zenier) writes: |> Zack Lau () wrote: |> : In sci.elec...",
          "rds: JUMPER SETTINGS DIP-SWITCH SETTINGS, HELP, COMPUTER 386SX Organization: National Federation of ...",
          "-Host: grv.grace.cri.nz Lines: 37  From:\tMX%\"\"  6-APR-1993 06:48:34.96 To:\tSRGXNBS CC:\t Subj:\tRe: I^...",
          "tion: Rhodes University, Grahamstown, South Africa Lines: 44 X-Newsreader: TIN [version 1.1 PL8]  : ...",
          "sche Nachrichtentechnik Lines: 41  This is for a friend of mine. Please send answers directly to him...",
          "nes: 54   Yes, I know it's nowhere near Christmas time, but I'm gonna loose Net access in a few days...",
          "ganization: University of Washington, Seattle Lines: 18 NNTP-Posting-Host: carson.u.washington.edu  ...",
          "o:  Organization: Univ. of Lowell CS Dept. Lines: 6  I suggest that misc.consumer.house is a better ...",
          "le <>  (Wayne Smith) writes: >>No restriction was placed >>on receiving RADAR (or, curiously, cordle...",
          "d Reptile Farm Lines: 20 NNTP-Posting-Host: grissom.larc.nasa.gov  In article <>  (C.M. Hicks) write...",
          "a Organization: University of Calgary Lines: 13  Last week I asked for help in getting an old homema...",
          "erve University, Cleveland, Ohio (USA) Lines: 25 NNTP-Posting-Host: slc10.ins.cwru.edu   I recently ...",
          "f Technology Lines: 11  In article <>  (Sean Oliver) writes: >> Joseph Mich Krzeszewsk writes: >>   ...",
          "ld Organization: University of Washington, Seattle Lines: 25 NNTP-Posting-Host: carson.u.washington....",
          "opy of \"8088 Assembler Language Programming: The IBM PC\" by Willen and Krantz, 2nd ed. pub. by Sams,...",
          "stralia Lines: 14 NNTP-Posting-Host: mackerel.gu.uwa.edu.au  Well here in Australia you dial  11544 ...",
          "Thomson) writes: > Joseph Chiu () wrote: >  > : And the measure of current, Amp, is actually named a...",
          "Laboratory Lines: 15 NNTP-Posting-Host: travis.llnl.gov  In article <>,  (David Glen Jacobowitz) wri...",
          "ation: Hewlett-Packard Lines: 31 X-Newsreader: TIN [version 1.1.4 PL6]  william burchill () wrote: :...",
          "A Lines: 8  In article <>  (David F. Newman) writes: >Subject: arcade style buttons and joysticks >C...",
          "chnology, Finland Lines: 17 \t<> \t<1ptolq$> NNTP-Posting-Host: lk-hp-11.hut.fi In-reply-to: 's messag...",
          "ogical University - Singapore   currently I am using the 8051 microcontroller with external eprom.. ...",
          "leans, France. Lines: 9      Hi All!     I would like to know what are the popular ICs of the type, ...",
          "-1607 Lines: 43   (Bob Myers) writes:  > > I am looking for any info I can get on the NEC 3D monitor...",
          "etNews abusers - Beltway Annex Lines: 19 Reply-To:  (David Lesher) NNTP-Posting-Host: skybridge.scl....",
          "ion: SLAMDANZ CYBRNETX Lines: 13  Anyone know a reasonable circuit for programming PALs?  I am inter...",
          "US), U of Stuttgart, FRG Lines: 38 NNTP-Posting-Host: pc8.izfm.uni-stuttgart.de  Hi! In article <>  ...",
          "puter Group, Tempe, Az. Distribution: usa Lines: 9    Does anybody out there have one of those food ...",
          "on: usa Organization: Triacus Inc. Lines: 26 Nntp-Posting-Host: mars.calstatela.edu  Recently, my vi...",
          " grade science report Distribution: usa Organization: Boeing Computer Services (ESP), Seattle, WA Li...",
          "Host: wu2.wl.aecl.ca Organization: AECL Research, Whiteshell Laboratories Distribution: na Lines: 25...",
          "anization: CSIR Lines: 15 NNTP-Posting-Host: 146.64.23.16 X-Disclaimer: None of the opions expressed...",
          "Annex Lines: 24 Reply-To:  (David Lesher) NNTP-Posting-Host: skybridge.scl.cwru.edu  Others said: {e...",
          "According to my TI databook, the pinouts for the TIL311 display are as follows:    Pin 1 - LED suppl...",
          "andy.com!pauls    Apr 21 09:31:00 1993 Lines: 6   Motorola has a good app note on a 10 band equalize...",
          "onto Distribution: na Lines: 11  The subject line says it all. I'm working on a project that will us...",
          "&ROMs with ALE latches (for 8051's) Lines: 28   (Steve Pope) writes:  >In article <>  (j. pethybridg...",
          "p-Posting-Host: cimill  In article <>,  (Peter Tryndoch) writes... >AllThe Devil ReincarnateSWR mete...",
          "ege of Medicine Lines: 19  If the set is direct line powered, try checking the [likely to be there] ...",
          "ticle <>  (G. Stewart Beal) writes: >In article <>  (Jason Haines) writes: >> >>\tI was wondering if ...",
          ": 19  Hi, I've got a PACE MODEM , Series Four 2400s ( made in England by PACE Micro Technology ) wit...",
          " S. Williamson) Organization: NCR E&M Columbia, SC Lines: 17  In article <>  (Robert Canright) write...",
          "ization:  Colorado Concert Sound Lines: 25  In article <>  (TOM WAGNER, Wizzard of old Audio/Visual ...",
          "ch Lines: 15  Hi !!!  Is there somebody using a 56001 DSP from Motorola ??? I am searching for progr...",
          "se-Hulman Lines: 11 NNTP-Posting-Host: g222-26.nextwork.rose-hulman.edu  In article <>  (Jason   Hai...",
          "Australia. Lines: 19 Distribution: world NNTP-Posting-Host: macadam.mpce.mq.edu.au Originator:    We...",
          "stribution: na NNTP-Posting-Host: hardy.u.washington.edu Summary: Address or phone number for subscr...",
          "ion: The Northern Lights BBS, Portland, ME  * 207-761-4782 * Lines: 7 X-Newsreader: ZipNews Reader/M...",
          "r and Reptile Farm Lines: 16 NNTP-Posting-Host: grissom.larc.nasa.gov  In article <>  writes: > >Gre...",
          "oration Wichita, KS Lines: 14   (Victor Laking) writes:  )Do you know what frequencies chanels 17 to...",
          "21            On an A/D board I've got, I'm using the A/D lines.  It measures  the voltages properly...",
          ": University Of Alberta, Edmonton Canada Lines: 28   (Daniel J Rubin) writes:  >How hard would it be...",
          "1   (Joel Kolstad) writes:  > In article <>  > > > >If you are going to use one where it counts (eg:...",
          "26 X-Newsreader: TIN [version 1.1 PL8]  Frank Hielscher () wrote: : The PADS*.ZIP files contain subd...",
          "y of Minnesota Lines: 18  I have a stereo compressor-limiter by  Audio Logic (Model MT-66).  The gat...",
          "-9760 guest) Lines: 20  In article <>  (Brian Day) writes: > (COLE) writes: > >>I would like to expe...",
          "ege, Hanover, NH Lines: 12  We are Dartmouth engineering students.We are looking for documented data...",
          "9 Distribution: world NNTP-Posting-Host: grissom.larc.nasa.gov  I have a MOSFET pulled out of a Tryg...",
          "stribution: world NNTP-Posting-Host: rosie.uh.edu Keywords: Motorola, FPU, 68882, 68030, 33/50 MHz, ...",
          "es: 9  Could someone please tell me if a 1/4 decoder is the same as a 1 to 4 demultiplexer. I know h...",
          " UNIX Society, Austin, Tx Lines: 15    I understand that the new GPS boxes now have an option known ...",
          "ix system run by the University \tof Denver for the Denver community.  The University has neither \tco...",
          "om Organization: Mentor Graphics Keywords:  Lines: 33  In article <>,  (Wayne Smith) writes: |> In a...",
          ".gov Organization: Fermilab Computing Division Lines: 22  In article <>,  (John Whitmore) writes: > ...",
          "anybody know if there is a mailing list or newsgroup for Power Systems and related areas?  Thanks,  ...",
          "exaco Lines: 16  I had a catalog with membrane keypads, but I dunno what happened to it, and it was ...",
          "e if this would be the right place to post this, but anyway, here goes:  I was just noticing that so...",
          "t: turbo_f.seas.smu.edu Organization: SMU - School of Engineering & Applied Science - Dallas Lines: ...",
          "-Posting-Host: dialup-slip-1-88.gw.umn.edu Organization: persian cat & carpet co. X-Useragent: Nunti...",
          "24 Distribution: world NNTP-Posting-Host: reg.triumf.ca News-Software: VAX/VMS VNEWS 1.41      In ar...",
          "ile Farm Lines: 9 NNTP-Posting-Host: grissom.larc.nasa.gov  In article <>  (Jason Waterman) writes: ...",
          "om Online Communications Services (408-241-9760 login: guest) Lines: 1  The Bmw speedo is triggered ...",
          " AI Programs, University of Georgia, Athens Lines: 9  There is or was a microwave tower next to Flor...",
          "MA Lines: 27   (Mike Donahue) writes:   >I do NOT know much about Adcom Mobil Audio products, but I ...",
          " Technological University X-Newsreader: TIN [version 1.1 PL8] Lines: 19  Bill Willis () wrote: : I h...",
          "osting-Host: macadam.mpce.mq.edu.au  In article <>,  (Ogawa / Taro Stephen (ISE)) writes: |> Could s...",
          "ost: elan.princeton.edu Organization: Princeton University Lines: 29  I was looking at the amps diag...",
          ": 6  Sounds like the picture tube lost vacuum.  This would cause the filament to ignite and could ac...",
          "orld Reply-To:  NNTP-Posting-Host: sparc28.hri.com  I just got an IBM-PC XT with no documents. Its a...",
          "nization: JPL Pasadena CA Lines: 25 Nntp-Posting-Host: neuron6.jpl.nasa.gov  In article <>  (Dale Nu...",
          "Host: wpi.wpi.edu  Hey everyone, I'm new to this  newsgroup so please excuse me if this is a  dumb q...",
          "ost: aisun3.ai.uga.edu Organization: AI Programs, University of Georgia, Athens Lines: 22  In articl...",
          " There are also a couple or three places on West 45th between Fifth and Sixth.    Harvey   --  -----...",
          ".com Organization: NCR Corp., Columbia SC Lines: 30  In article <>  writes: > >Greetings! >       > ...",
          "ing1.cc.utexas.edu  It is illegal to use anything you eavedropped on for a business  or for an illeg...",
          "Organization: University of Oulu, Dept. of EE, Finland  In article <>  (Stephe Lewis Foskett) writes...",
          "ntially amplify holes instead of electrons? Keywords: holes electrons semi-conductors mobility Nntp-...",
          "relays ??? Organization: Malaspina College Lines: 63  In article <>,  (Aaron Lung) writes: > In arti...",
          "lator operating in the detector. Saw a story about their use in Canada. Now don't go putting oscilla...",
          ": 33  Thanks for the resposes as they were all good ideas and I am looking at using a couple of the ...",
          "ation: Monash University, Melb., Australia. Lines: 23  Hi people..  OK heres my problem....  I keep ...",
          "m21.eng.stratus.com  In article <>  (Roger A Williams) wrote:   > (Mike Donahue) writes:  >  >  >>I ...",
          ", Quincy, IL Lines: 22   Intel also makes some neat memory and peripheral chips:  Old technology (ea...",
          "c. - New Orleans, LA Reply-To:  (Gerald Belton)  Lines: 24  AL>>        Question:   Is there a certa..."
         ],
         "type": "scatter",
         "x": [
          -11.616528511047363,
          -14.993507385253906,
          -7.050268650054932,
          -20.38357925415039,
          -18.7443790435791,
          -4.58743143081665,
          -24.556743621826172,
          -13.654333114624023,
          -12.159497261047363,
          26.31026268005371,
          -21.255720138549805,
          -7.978476524353027,
          -5.464807510375977,
          -8.564166069030762,
          -17.456153869628906,
          -3.913153886795044,
          -8.474732398986816,
          -15.329131126403809,
          -35.16407775878906,
          2.636025905609131,
          1.4198870658874512,
          -16.54006576538086,
          2.8807373046875,
          -17.489608764648438,
          -11.66641616821289,
          -28.751480102539062,
          2.493727445602417,
          -25.350427627563477,
          -5.578868865966797,
          -28.7981014251709,
          -8.96822738647461,
          -17.995010375976562,
          -2.5045740604400635,
          1.9867022037506104,
          -24.846965789794922,
          -10.471633911132812,
          -18.496318817138672,
          -14.109052658081055,
          -11.773387908935547,
          3.7358689308166504,
          -17.298620223999023,
          -11.422321319580078,
          -26.406185150146484,
          -7.368492126464844,
          -6.6365885734558105,
          -6.493348121643066,
          10.17158317565918,
          -21.817270278930664,
          -25.167158126831055,
          -25.211780548095703,
          -16.968290328979492,
          -27.964813232421875,
          -21.797107696533203,
          -5.2080864906311035,
          -12.000288009643555,
          -34.85040283203125,
          12.414213180541992,
          -29.767667770385742,
          -5.532619953155518,
          -20.892906188964844,
          -20.094310760498047,
          -5.810043811798096,
          -6.13298225402832,
          1.6565866470336914,
          -6.6883544921875,
          -18.33854103088379,
          -23.13984489440918,
          -30.95668601989746,
          -9.450325965881348,
          -1.1344494819641113,
          -30.811595916748047,
          -7.883360862731934,
          1.5179519653320312,
          -15.137239456176758,
          14.996731758117676,
          -32.413055419921875,
          -12.687850952148438,
          -33.59931564331055,
          -13.332734107971191,
          -18.513490676879883,
          6.998043060302734,
          -25.357290267944336,
          -27.566434860229492,
          10.15507698059082,
          0.5206578969955444,
          12.16680908203125,
          -32.34748840332031,
          -26.35770606994629,
          -20.37411117553711,
          -31.288944244384766,
          -22.97732925415039,
          -2.346386671066284,
          -31.276611328125,
          -8.770242691040039,
          3.021343469619751,
          -31.281736373901367,
          -25.2847843170166,
          -24.211894989013672,
          -17.981491088867188,
          -22.855432510375977,
          -31.267393112182617,
          -29.094877243041992,
          -6.6207685470581055,
          -8.010143280029297,
          -10.74510383605957,
          -10.247457504272461,
          -20.261587142944336,
          -31.940670013427734,
          -1.1349934339523315,
          -27.78409767150879,
          -21.19976806640625,
          -27.331777572631836,
          -18.839487075805664,
          -5.445353031158447,
          -35.1827507019043,
          -29.127803802490234,
          -9.918828964233398,
          -3.691093921661377,
          -6.320094585418701,
          7.045282363891602,
          -4.3339457511901855,
          -20.12103843688965,
          4.856391429901123,
          2.6351401805877686,
          -31.594213485717773,
          -6.068423748016357,
          12.015192031860352,
          -11.639387130737305,
          -6.861766815185547,
          -21.286449432373047,
          -11.183298110961914,
          -29.1572265625,
          1.9355005025863647,
          4.182592868804932,
          -29.418514251708984,
          -2.476219892501831,
          -15.570246696472168,
          3.630765914916992,
          -10.016491889953613,
          -10.972442626953125,
          -4.986398696899414,
          -17.360363006591797,
          2.8179492950439453,
          -18.314985275268555,
          -5.666240215301514,
          -34.52500534057617,
          -7.513455867767334,
          -21.17749786376953,
          -30.827312469482422,
          -10.382322311401367
         ],
         "y": [
          -2.3752822875976562,
          -9.16754150390625,
          -7.578037738800049,
          -10.991440773010254,
          -20.65245246887207,
          11.019163131713867,
          -23.591920852661133,
          -10.905664443969727,
          -9.707660675048828,
          8.806547164916992,
          2.3343758583068848,
          -14.650038719177246,
          -12.53264331817627,
          -4.307773113250732,
          -12.004035949707031,
          -9.759434700012207,
          -6.192378997802734,
          -14.241486549377441,
          -13.095576286315918,
          -28.40056610107422,
          -11.804583549499512,
          -8.708564758300781,
          -28.505088806152344,
          -7.4963507652282715,
          -15.605600357055664,
          -9.883829116821289,
          -14.988164901733398,
          -12.126688003540039,
          -12.814805030822754,
          -7.458672046661377,
          -20.183149337768555,
          -24.58987045288086,
          -17.184349060058594,
          -23.428939819335938,
          -13.449078559875488,
          -12.983956336975098,
          -19.314241409301758,
          -10.746984481811523,
          -23.226591110229492,
          -18.755640029907227,
          -15.881284713745117,
          -8.753377914428711,
          -11.580887794494629,
          -16.619396209716797,
          -3.4887912273406982,
          -19.75043487548828,
          -19.200895309448242,
          2.9424257278442383,
          -7.085674285888672,
          -7.38811731338501,
          -9.235879898071289,
          -13.287086486816406,
          2.219041347503662,
          15.231239318847656,
          -12.89944839477539,
          -8.294626235961914,
          -10.961071014404297,
          -13.557110786437988,
          -25.22809410095215,
          -19.96623992919922,
          -11.442448616027832,
          -2.2226486206054688,
          -8.493936538696289,
          -28.1414852142334,
          -9.473421096801758,
          -18.667125701904297,
          -14.139585494995117,
          -13.478385925292969,
          -21.741212844848633,
          -20.192089080810547,
          -16.42725944519043,
          -20.603288650512695,
          -11.739518165588379,
          -17.777559280395508,
          -12.667961120605469,
          -16.648344039916992,
          -21.616199493408203,
          -9.683357238769531,
          -15.3186674118042,
          -10.307548522949219,
          -13.401529312133789,
          -9.22105598449707,
          -22.340730667114258,
          -19.20068359375,
          -18.48763084411621,
          -12.75619125366211,
          -6.47857666015625,
          -8.463096618652344,
          -16.273935317993164,
          -11.088920593261719,
          -10.880269050598145,
          19.725767135620117,
          -8.91861343383789,
          -10.817276000976562,
          -18.95149803161621,
          -4.29048490524292,
          -14.3728609085083,
          -23.737873077392578,
          -23.891569137573242,
          -10.793991088867188,
          -4.452953815460205,
          -12.850414276123047,
          -16.680862426757812,
          -21.451560974121094,
          -21.72213363647461,
          -13.050518035888672,
          -13.16264820098877,
          -5.7155046463012695,
          -12.566695213317871,
          -22.093563079833984,
          -15.77571964263916,
          -10.192630767822266,
          -7.779636383056641,
          15.051119804382324,
          -13.117444038391113,
          -17.74480438232422,
          -8.428159713745117,
          -8.892779350280762,
          -9.285482406616211,
          -13.329277038574219,
          -17.149015426635742,
          -4.559906482696533,
          26.467329025268555,
          -15.002166748046875,
          -8.977524757385254,
          -7.485556125640869,
          -13.065604209899902,
          -2.457357883453369,
          -6.331323623657227,
          -18.955650329589844,
          -16.28291893005371,
          -17.764986038208008,
          -23.44182586669922,
          -18.622425079345703,
          -14.48509693145752,
          18.973833084106445,
          -17.45696258544922,
          -29.136404037475586,
          -18.31092643737793,
          -22.050668716430664,
          -8.340299606323242,
          -15.900710105895996,
          -10.034852027893066,
          -24.329130172729492,
          -6.561081409454346,
          -8.591639518737793,
          -3.9813568592071533,
          -18.900737762451172,
          -8.032598495483398,
          -20.612369537353516
         ]
        },
        {
         "hoverinfo": "text",
         "marker": {
          "line": {
           "color": "white",
           "width": 0.5
          },
          "size": 15
         },
         "mode": "markers",
         "name": "Class sci.med",
         "opacity": 0.7,
         "text": [
          "ganization: Colonial Mutual Life Australia X-Newsreader: FTPNuz (DOS) v1.0 Lines: 24  Hi, I am not s...",
          "y, NY - 212-274-8298v.32bis Reply-To:  (Jim Zisfein)  Lines: 19  > (Anthony Anello) >Can anyone tell...",
          "bution: usa Lines: 18   In article <>  (Evan Hunt) writes:   >In article <>  (Sharen A. Rund) writes...",
          "ortland Rain Forest Lines: 34  In article <>  (Beth Mazur) writes: >In <>  (Chuck Forsberg WA7KGX) w...",
          " Ca. Lines: 18 Distribution: world Reply-To:  (Jim Jones) NNTP-Posting-Host: contractor.ebay.sun.com...",
          "ines: 17 NNTP-Posting-Host: saltillo.cs.utexas.edu Summary: Lousy idea.  -*---- Cross-posted and wit...",
          "Consulting, Cambridge MA Lines: 30  In article <>  (*Heather*) writes: >Nutrasweet is a synthetic sw...",
          "s: 41  A person posted certain stuff to this newsgroup, which were highly selected quotes stripped o...",
          " Systems, Inc., Palo Alto, CA Lines: 11   My insurance company encourages annual physicals, and at m...",
          "rsity of Wisconsin - Milwaukee Lines: 19 NNTP-Posting-Host: 129.89.7.4  In article <>  (Sheryl Coppe...",
          "s., USA Lines: 11 NNTP-Posting-Host: enterprise.bih.harvard.edu  In article <>  (Fiberman) writes: >...",
          "In article <>  (Steve Heffner) writes: >A bit more than a year ago, a hernia in my right groin was >...",
          "c3t Distribution: na Organization: Oakland University, Rochester MI. Lines: 9 NNTP-Posting-Host: ouc...",
          ":57 GMT Nntp-Posting-Host: crux3.cit.cornell.edu Organization: Department of Chemistry, Cornell Univ...",
          "y - Univ. of Alabama Distribution: usa Lines: 36  In article <>,  (John Eyles) wrote: >  >  > A frie...",
          "Earth Observatory Lines: 50  In article <>,  (Gordon Banks) writes: > In article <>  (carl brenner) ...",
          "d Silver) writes: > > > >Is there a right-eye dominance (eyedness?) as there is an > >overall right-...",
          "7G Organization: Prentice Centre, University of Queensland Lines: 45   (Steve Dyer) writes: >Snort. ...",
          "nes: 28  In article <>  (Steve Dyer) writes: >In article <>  writes: >>Can someone tell me whether o...",
          "ing Lines: 11  My girlfriend is in pain from kidney stones. She says that because she has no medical...",
          "who has just been diagnosed with Lupus, and I know nothing about this disease. The only thing I do k...",
          " methodology.   Organization: University of Hawaii (Mathematics Dept) Expires: Sat, 1 May 1993 10:00...",
          "-line Communication Services (408 241-9760 guest) Lines: 15 X-Newsreader: TIN [version 1.1 PL8]  I'd...",
          "ons Public Access.  The Mouth of the South. Lines: 28  E.J. Draper <> writes:  >If it were my wife, ...",
          ": 27 NNTP-Posting-Host: carina.unm.edu   Gordon Banks:  >a lot to keep from going back to morbid obe...",
          "rsion 1.1 PL9] Lines: 45  kathleen richards () wrote: > My nearly-13 year old Pomeranian had a nasty...",
          ", USA Lines: 26 NNTP-Posting-Host: enterprise.bih.harvard.edu  In article <>   (Alexis Perry) writes...",
          "ibution: world NNTP-Posting-Host: zion.berkeley.edu  | article <>  writes: || Now, if instead of usi...",
          "rganization: NASA Dryden, Edwards, Cal. Lines: 33 In-Reply-To: 's message of 5 Apr 93 23:27:26 GMT  ...",
          "uter Science Lines: 28  In article <>  (David Nye) writes:  >  >I believe it is illegal for a reside...",
          "e Federale de Lausanne Lines: 41 NNTP-Posting-Host: liasun1.epfl.ch  Dear Netters,  I am not sure wh...",
          ".ohio-state.edu Organization: The Ohio State University Lines: 50  In article <>  (Jim Fare) writes:...",
          "Freenet Lines: 18   I have between 15 and 25 nosebleeds each week, as a result of a genetic predispo...",
          " at Urbana Lines: 6  Also remember that most people map the sanguine/choleric/melencholic/phlegmatic...",
          " Science Lines: 17  In article <>  (Ken Mitchum) writes: > >I found out that tuberculosis appears to...",
          "ganization: Bell Communications Research Lines: 31  In article <>,  (Mary E. Allison) writes: |>  |>...",
          " Programs, University of Georgia, Athens Lines: 12  I'm told that corn allergy is fairly common.  My...",
          "tchum) Organization: Univ. of Pittsburgh Computer Science Lines: 36  In article <>  writes: >Can any...",
          "Iowa Lines: 22  In article <>,  (Ken Mitchum) writes: > As a physician, I almost never get sick: usu...",
          ": naples.med.unc.edu Organization: UNC-CH School of Medicine Lines: 7  Thanks to Tarl Neustaedter of...",
          "rformance Computing, University of Illinois at Urbana-Champaign Lines: 66 Distribution: world NNTP-P...",
          "ngws5.ic.sunysb.edu Organization: State University of New York at Stony Brook Lines: 54  In article ...",
          "ing X-Newsreader: NNR/VM S_1.3.2 Lines: 53  In article <>  (Brian M. Huey) writes:   >In article <>,...",
          ") writes:  >\t >\tI have seen a couple of postings refering to an SRI called paxil.  I >have been on P...",
          "TX 214/436-3281 Lines: 27  In article <>  (Andrew Rogers) writes: >In article <>  writes: >>Chinese,...",
          ".14717 Distribution: sci.med Organization: Lockheed Engineering & Sciences Co. Lines: 17  In article...",
          "on: Univ. of Pittsburgh Computer Science Lines: 26  In article <>  (Rayaz Jagani) writes:  > >From M...",
          ": 25  In article <>  (Robert Allison) writes: >Does anyone know of any method to reduce this frequen...",
          "s) Organization: Univ. of Pittsburgh Computer Science Lines: 23  In article <>  (MD) writes: > >If a...",
          ": 19  [reply to  (MD)]   >After many metabolic tests, body structure tests, and infection/virus >tes...",
          "es: 29 NNTP-Posting-Host: venus.iteb.serpukhov.su  I am very interested in investigations of starvat...",
          "   There is this newsgroup sci.med.physics and there has been quite a lot discussion in this group a...",
          "es: 9   \tI was kind of half watching Street Stories last night \tand one of the segments was about th...",
          "ia Inc, Toronto, Ontario. Lines: 23  L(>   (Joel B Levin) writes: L(>  John Badanes wrote: L(>  |JB>...",
          "  Organization: Clinical Diagnostics Division, Eastman Kodak Company Lines: 24  In article <>  (Rich...",
          "E, Sandia Park, NM Lines: 31  In article <>  (Vida Morkunas) writes: >I live at sea-level, and am ca...",
          "k Division, NSWC, Bethesda, MD Lines: 30  In rec.food.cooking,  (Charles Packer) writes: >Is there s...",
          "anization: Univ. of Pittsburgh Computer Science Lines: 21  In article <>  (Lindy Foster) writes: >I'...",
          "he tollfree hotline for the Epilepsy Foundation of America - 1-800-EFA-1000.  They will be able to a...",
          "tion: usa Lines: 13  I am 35 and am recovering from a case of Chicken Pox which I contracted from my...",
          "tion on the effects/origin of oxaprozin? It's marketed under the name \"DAYpro\", and appears to be an...",
          "onsin Eau Claire Lines: 29  [reply to  (Jacquelin Aldridge)]   >Medicine is not a totally scientific...",
          "nes: 41 Nntp-Posting-Host: aquarius   (Richard Ottolini) writes:  : Living things maintain small ele...",
          "nes: 27  One thing that I haven't seen in this thread is a discussion of the relation between IBD in...",
          "nes: 67 Distribution: inet NNTP-Posting-Host: im4u.cs.utexas.edu  -*---- In article <>  (Lee Lady) w...",
          "g-Host: theseus.unx.sas.com Organization: SAS Institute Inc. Lines: 15   In article <>,  (Tom B. Car...",
          "ment Corporation Lines: 45 NNTP-Posting-Host: DWOVAX   In article <>,  () writes... >I recently hear...",
          "niv. of Pittsburgh Computer Science Lines: 48  In article <>  (Ruth Ginzberg) writes:  >Hmmmm... her...",
          "ion: world NNTP-Posting-Host: coyoacan.sw.stratus.com  In article <>,  (Brian M. Huey) writes: > I t...",
          "g-Host: theseus.unx.sas.com Organization: SAS Institute Inc. Lines: 55   In article <>,  (Mark Fulk)...",
          " Rochester  In article <>  (Gary Merrill) writes: > >In article <>,  (Mark Fulk) writes: > >|> I don...",
          "uter Science Lines: 22  In article <>  (daniel federman) writes: > >A friend of mine took appoximate...",
          "Urbana Lines: 26   (Steve Dyer) writes:  >In article <1qnns0$>  (Steve Pope) writes: >>The mass of a...",
          "o Lines: 12  There were a few people who responded to my request for info on treatment for astrocyto...",
          "geles, California Distribution: usa Lines: 12   Hi All,  Would anyone out there in 'net-land' happen...",
          " Univ. of Pittsburgh Computer Science Lines: 19  >In article  (John Joseph Deltuvia) writes: > >>The...",
          "le scraps of paper, mostly Lines: 10   I think he means Girlie Photography.  A good place to find it...",
          "nes: 3  Can anyone help me find any information on the drug Prozac?  I am writing a report on the in...",
          "rsion 1.1 PL9] Lines: 13  kathleen richards () wrote:  > If you have time to type it in I'd love to ...",
          " Lines: 29   \tA friend has the following symptoms which have occurred periodically every few months ...",
          "on, VA Lines: 28 Reply-To: Jason C. Austin <> NNTP-Posting-Host: ab20.larc.nasa.gov In-reply-to: 's ...",
          "tion: na  Am I justified in being pissed off at this doctor?  Last Saturday evening my 6 year old so...",
          " Univ of Alabama Lines: 19  In article <>,  (Ho Leung Ng) wrote: >  >  >    When I was a kid in prim...",
          "? Lines: 8  What resources and services are available on Internet/BITNET which would be of interest ...",
          "he usual teenage spotty chin and greasy nose.  I bought him Clearasil face wash and ointment.  I thi...",
          "e here because I am kind of desperate. For about six weeks, I've been suffering on pains in my left ...",
          "mputer Science Lines: 16  In article <>  (Daniel Prince) writes:  >I only have lunulas on my thumbs....",
          "Univ. of Pittsburgh Computer Science Lines: 23  In article <>  (Paul Schmidt) writes: >I think it is...",
          "to  (Gordon Banks)]   >>I believe it is illegal for a residency to discriminate against FMGs.   >Is ...",
          "idge MA Lines: 14  In article <1qnns0$>  (Steve Pope) writes: >The mass of anectdotal evidence, comb...",
          "anization: Univ. of Pittsburgh Computer Science Lines: 24  In article <>  (John Setel O'Donnell) wri...",
          "es: 5 Distribution: na NNTP-Posting-Host: hpcspe17.col.hp.com   Report them to your local BBB (Bette...",
          "ortland Rain Forest Lines: 33  In article <>  (Gordon Banks) writes: > >In article <>  (Chuck Forsbe...",
          "ver what? I would be most interested in seeing you >>provide peer-reviewed non-food-industry-funded ...",
          "em (TM) Lines: 36  > Probably within 50 years, a new type of eugenics will be possible. > Maybe even...",
          "er Science Lines: 12  In article <>  (John E. Rodway) writes: >Any comments on the use of the drug P...",
          "  Following a series of miscarriages, my wife was given a transfusion of my white cells. (The theory...",
          "nization: Univ. of Pittsburgh Computer Science Lines: 22  In article <>  (Herman Rubin) writes: >In ...",
          "ping-injury-faq/> Organization: University of California, Berkeley Lines: 51 Expires: 22 May 1993 04...",
          "ttsburgh Lines: 21  In article <1r1t1a$>  writes: :I recently attended an allery seminar.  Steroid N...",
          "g.magnus.acs.ohio-state.edu Organization: The Ohio State University Lines: 45  In article <>  (Jon N...",
          "w York City, NY - 212-274-8298v.32bis Reply-To:  (Jim Zisfein)  Lines: 17  A(>  () A(> A woman I kno...",
          "m Lines: 20  A bit more than a year ago, a hernia in my right groin was discovered.  It had produced...",
          "zation: AT&T Lines: 15  In article <>,  writes: > How long does it take a smoker's lungs to clear of...",
          " PL8]  David Nye () wrote: : [reply to  (ron roth)] :   : >While you're right that the S vertebrae a...",
          "rganization: OSU College of Osteopathic Medicine  In article <>,  (Gordon Banks) writes: > In articl...",
          "said that, i might add, that in MHO, MSG does not enhance  AM> flavor enoughf for me to miss it.  Wh...",
          "Bates method Summary: Proven a hoax long ago Lines: 15  Dr. willian Horatio Bates born 1860 and grad...",
          "osed with cystic breast disease -- a big relief, as it was a lump that could have been cancer.  Her ...",
          " 14 Distribution: world NNTP-Posting-Host: adcs01.fnal.gov Keywords: 40 BLOODCOUNT DANGEROUS?   Can ...",
          "ical School, Boston Mass., USA Lines: 15 NNTP-Posting-Host: enterprise.bih.harvard.edu  In article <...",
          "rdon Banks) writes: >In article <>  (Richard Silver) writes: >> >>Is there a right-eye dominance (ey...",
          ".D.: pegasus.1993Apr22.221508.10196 Organization: Pegasus,  Honolulu Lines: 14  In article <> <> wri...",
          "ing 4 addresses are on the LymeNet mailing list, but are rejecting mail.  Since the list server orig...",
          "ge of Osteopathic Medicine Distribution: usa  In article <>,  (John Eyles) writes: >  > A friend has...",
          "NTP-Posting-Host: 141.214.86.38 X-UserAgent: Nuntius v1.1.1d9 X-XXDate: Tue, 20 Apr 93 16:46:24 GMT ...",
          "on: The Information Deli - via Netcom / San Jose, California  In <>  (Steven W Orr) writes:  >I look...",
          "ne, MA Lines: 10   Some recent postings remind me that I had read about risks  associated with the b...",
          "ivision Lines: 16 NNTP-Posting-Host: duca.hi.com  In article <>  (Gordon Banks) writes: |In article ...",
          "t -- Division of EMBA Computer Facility Lines: 21  Nutrasweet is a synthetic sweetener a couple thou...",
          " Corporation Lines: 13   What does a lack of taste of foods, or a sense of taste that seems \"off\" wh...",
          ": 44  In article <>  (Gong Tong) writes: >In article <>  (OPIRG) writes: >> >>For cites on MSG, look...",
          "words: volvulus Nntp-Posting-Host: berfert.csd.uwo.ca Lines: 35      Recurrent Volvulus     --------...",
          ": Invention Factory's BBS - New York City, NY - 212-274-8298v.32bis Reply-To:  (Jim Zisfein)  Lines:...",
          "world Organization: University of Oregon Lines: 14 NNTP-Posting-Host: oregon.uoregon.edu News-Softwa...",
          " (ron roth)]   >While you're right that the S vertebrae are attached to each other, >the sacrum, to ...",
          "cience Lines: 18  In article <>  (John Werner) writes: >In article <>,  (Gordon Banks) wrote: >>  >>...",
          " In article <>  (Fiberman) writes: :Is erythromycin effective in treating pneumonia? : :-fm   Not on...",
          "ution: world NNTP-Posting-Host: q5020598.mdc.com  My girlfriend just started taking Imitrex for her ...",
          "-To:  (Ken Mitchum) Organization: Univ. of Pittsburgh Computer Science Lines: 15  In article <>  (Jo...",
          "ote: :  {much deleted] :  :  : The fact that this happened while eating two sugar coated cereals mad...",
          " Summary: thanx for the comeback Lines: 7  Hello , I think you are probaly right, in spite of the mo...",
          "osting-Host: kyanite Organization: Telesciences CO Systems, Inc. Lines: 24  In article <>  (Richard ...",
          "tion: Univ. of Pittsburgh Computer Science Lines: 31  In article <>  (Andrea M Free-Kwiatkowski) wri...",
          "dford) Lines: 13  Thanks for all your assistance. I'll see if he can try a different brand of patche...",
          "USA Lines: 48 \t<> <> NNTP-Posting-Host: cmb00.larc.nasa.gov In-reply-to: 's message of Fri, 23 Apr 1...",
          "anyone give me more information regarding endometriosis?   i heard it's a very common disease among ...",
          "any one heard of a sedative called \"Rhoepnol\"? Made by LaRouche, I believe. Any info as to side effe...",
          "t: ysub.ysu.edu  Does the Proventil inhaler for asthma relief fall into the steroid or nonsteroid ca...",
          " |JB>   (Ella I Baff) writes: |JB>   |JB>    Ron Roth recommends: \"Once you have your hypoglycemia C...",
          "Lines: 7  In article <>  (Gordon Banks) writes: >we do this?  Should we make a race of disease-free,...",
          "<>  (Craig MacDonald) writes: >>  It may be extremely >>common, something like 5% of the population....",
          "1111.9678 Organization: Pegasus,  Honolulu Lines: 11  In article <>  (Melissa N. Matusevich) writes:...",
          "USA Lines: 52 \t<> NNTP-Posting-Host: cmb00.larc.nasa.gov In-reply-to: 's message of Sat, 17 Apr 1993...",
          "n: SAS Institute Inc. Lines: 16  In article <>,  (MD) writes:   > >        The reason I'm posting th...",
          ": 43  In article <>  (David Thomas) writes:  >>In article <>,  (Charles Packer) writes: >>>Is there ...",
          "UNIX, Greenbelt, Maryland USA Lines: 58 NNTP-Posting-Host: access.digex.net  In article <>  (Gordon ...",
          "USA Lines: 53 NNTP-Posting-Host: cmb00.larc.nasa.gov In-reply-to: 's message of 21 Apr 93 16:18:19 G...",
          "s maintain small electric fields to (1) enhance certain chemical reactions, (2) promote communicatio...",
          "ick King) writes: > >I recall reading somewhere, during my youth, in some science popularization >bo..."
         ],
         "type": "scatter",
         "x": [
          37.97530746459961,
          46.751888275146484,
          37.827064514160156,
          45.85851287841797,
          43.46519088745117,
          23.789628982543945,
          42.480045318603516,
          24.40101432800293,
          33.7801628112793,
          47.40443420410156,
          45.01899719238281,
          42.431514739990234,
          50.88984298706055,
          49.18050003051758,
          45.888423919677734,
          39.067474365234375,
          21.957366943359375,
          43.47922134399414,
          47.496185302734375,
          35.859981536865234,
          44.71419143676758,
          29.12965202331543,
          36.124141693115234,
          32.856597900390625,
          46.55412673950195,
          41.758453369140625,
          49.42325973510742,
          37.814884185791016,
          30.452836990356445,
          32.19942855834961,
          31.72872543334961,
          49.929866790771484,
          49.16905212402344,
          22.19581413269043,
          40.075950622558594,
          37.70073699951172,
          41.33045196533203,
          33.13185119628906,
          42.56622314453125,
          26.00883674621582,
          38.87306213378906,
          25.434757232666016,
          17.18219757080078,
          45.2632942199707,
          38.72736740112305,
          46.37113952636719,
          35.55131530761719,
          49.495540618896484,
          40.359127044677734,
          41.196441650390625,
          30.8206787109375,
          32.67268371582031,
          35.50577926635742,
          26.513774871826172,
          34.32483673095703,
          47.41973876953125,
          39.21098327636719,
          48.70081329345703,
          40.03295135498047,
          44.67937088012695,
          49.24345779418945,
          31.10999298095703,
          19.5693302154541,
          46.85417938232422,
          29.013587951660156,
          25.654296875,
          38.31252670288086,
          37.484169006347656,
          16.963708877563477,
          25.955841064453125,
          29.010000228881836,
          45.895896911621094,
          34.81052780151367,
          39.13042449951172,
          12.712803840637207,
          41.43278884887695,
          18.966245651245117,
          45.3330078125,
          41.74134063720703,
          49.33543014526367,
          34.356075286865234,
          37.06990432739258,
          44.103965759277344,
          32.42230224609375,
          47.25625991821289,
          49.150611877441406,
          33.91703414916992,
          31.494766235351562,
          31.604114532470703,
          35.23991775512695,
          39.80546569824219,
          36.284000396728516,
          45.55943298339844,
          36.588504791259766,
          24.360618591308594,
          44.55072784423828,
          41.369041442871094,
          37.890995025634766,
          1.7047736644744873,
          48.80867004394531,
          42.52952194213867,
          42.92156982421875,
          42.480255126953125,
          33.497230529785156,
          31.142974853515625,
          35.506690979003906,
          37.505027770996094,
          22.634212493896484,
          36.70658874511719,
          46.65021896362305,
          44.75589370727539,
          22.577255249023438,
          34.3721923828125,
          -5.018307685852051,
          45.854461669921875,
          31.778982162475586,
          32.90565490722656,
          34.783470153808594,
          37.25481033325195,
          42.5750617980957,
          41.179256439208984,
          40.143245697021484,
          40.9240608215332,
          36.34284591674805,
          19.552478790283203,
          31.26422119140625,
          22.954219818115234,
          44.89765548706055,
          50.05907440185547,
          38.55634689331055,
          41.91936492919922,
          2.1425821781158447,
          22.450782775878906,
          40.2896614074707,
          47.78189468383789,
          40.307456970214844,
          38.40115737915039,
          47.26848602294922,
          49.31566619873047,
          26.6281795501709,
          24.850812911987305,
          47.182411193847656,
          43.2668571472168,
          40.51747131347656,
          40.11994171142578,
          38.45158386230469,
          45.6877326965332,
          41.860477447509766,
          19.777429580688477,
          36.474971771240234
         ],
         "y": [
          -12.269532203674316,
          -1.4468220472335815,
          3.557784080505371,
          6.458423614501953,
          -11.393421173095703,
          -17.133386611938477,
          3.612558603286743,
          -19.032493591308594,
          -18.13714599609375,
          -5.952881813049316,
          -15.642635345458984,
          -23.50377082824707,
          -7.47055196762085,
          -8.577127456665039,
          2.5605578422546387,
          -16.893779754638672,
          -12.463022232055664,
          -13.525314331054688,
          -5.90435266494751,
          -10.336007118225098,
          -11.170184135437012,
          -4.671075820922852,
          -19.610149383544922,
          -20.062458038330078,
          6.455708980560303,
          -18.085615158081055,
          -1.8300158977508545,
          -0.1939781904220581,
          2.6864819526672363,
          -22.42824363708496,
          -17.576400756835938,
          -5.492518424987793,
          -14.507046699523926,
          1.965915322303772,
          -14.372535705566406,
          1.0114089250564575,
          -3.9612278938293457,
          -9.877768516540527,
          -10.830791473388672,
          -18.84858512878418,
          0.2940329611301422,
          -4.128540515899658,
          -6.2994208335876465,
          -8.36484146118164,
          2.4971470832824707,
          -12.987886428833008,
          -12.682955741882324,
          -14.445183753967285,
          -6.925444602966309,
          -6.798886775970459,
          -13.7322359085083,
          -15.034262657165527,
          -16.738544464111328,
          -8.778910636901855,
          5.294508457183838,
          -2.9148406982421875,
          1.3374820947647095,
          -7.525566577911377,
          -6.01939582824707,
          -18.937240600585938,
          -10.351122856140137,
          -6.02935791015625,
          -7.501700401306152,
          2.798518180847168,
          -3.9065611362457275,
          -2.221440315246582,
          -6.388537883758545,
          -19.023693084716797,
          -6.294912815093994,
          -4.017202377319336,
          -5.209899425506592,
          -5.780207633972168,
          -0.04558189585804939,
          -12.85725212097168,
          -19.437740325927734,
          -12.742098808288574,
          -5.113214015960693,
          -8.523294448852539,
          -18.071937561035156,
          -4.514492034912109,
          5.8582844734191895,
          -20.333982467651367,
          1.9504809379577637,
          -17.730424880981445,
          -13.179020881652832,
          -3.4155821800231934,
          -2.3978710174560547,
          -5.757508754730225,
          -22.0695858001709,
          -0.39230120182037354,
          -17.538311004638672,
          -17.546106338500977,
          7.5235981941223145,
          0.88950514793396,
          -19.091751098632812,
          -5.34904146194458,
          -10.17962646484375,
          -15.340347290039062,
          -0.9421499371528625,
          -12.595582962036133,
          -14.011123657226562,
          -6.993930816650391,
          -23.560396194458008,
          -5.7950053215026855,
          -9.921425819396973,
          -12.721878051757812,
          2.257427453994751,
          -5.6782755851745605,
          -8.852036476135254,
          -1.3441672325134277,
          -18.91695785522461,
          -11.950225830078125,
          -15.782013893127441,
          -26.022268295288086,
          2.5198171138763428,
          -22.716449737548828,
          -14.563708305358887,
          5.308905124664307,
          -15.272677421569824,
          3.551621198654175,
          -0.2727448046207428,
          1.4588491916656494,
          -8.386748313903809,
          -18.885347366333008,
          -5.8254313468933105,
          -9.9334077835083,
          -9.772675514221191,
          -15.385910034179688,
          -6.83272123336792,
          -17.155723571777344,
          -3.7115390300750732,
          -2.120081901550293,
          -12.43647575378418,
          -9.1786470413208,
          -14.700535774230957,
          -3.0259456634521484,
          -10.695140838623047,
          -10.064172744750977,
          -12.091588020324707,
          -8.735515594482422,
          -18.13133430480957,
          -8.107397079467773,
          -24.522785186767578,
          -1.896010160446167,
          -7.205349922180176,
          1.4532500505447388,
          5.6886515617370605,
          -3.0708847045898438,
          -7.7018938064575195,
          -2.540282726287842
         ]
        },
        {
         "hoverinfo": "text",
         "marker": {
          "line": {
           "color": "white",
           "width": 0.5
          },
          "size": 15
         },
         "mode": "markers",
         "name": "Class sci.space",
         "opacity": 0.7,
         "text": [
          "ibution: world Reply-To:  (CLAUDIO OLIVEIRA EGALON) NNTP-Posting-Host: tahiti.larc.nasa.gov  There i...",
          " In <>  (Dillon Pyron) writes:   >There are actually only two of us.  I do Henry, Fred, Tommy and Ma...",
          "tsville, AL Lines: 22  In reference to the limits of acceleration with guns launching solid rockets ...",
          "sting-Host: stein2.u.washington.edu   (Doug Loss) writes: >Besides the mechanical problems of moving...",
          "1-9760 guest) Lines: 23  In article <>  (kevin marcus) writes: >Are there any public domain or share...",
          "  (G. Patrick Molloy) Organization: NASA/MSFC Lines: 40  In article <>,   writes: > Here is a way to...",
          "15:55 GMT Nntp-Posting-Host: leo-gw Organization: Burdett, Buckeridge & Young, Melbourne, Australia ...",
          "ave before me a pertinent report from the United States General Accounting Office:  National Aero-Sp...",
          "world NNTP-Posting-Host: beach.cis.ufl.edu   Is anybody out there willing to discuss with me careers...",
          "ology Lines: 17  In article <>  (Alan Carter) writes: >|> ... a NO-OP command was sent to reset the ...",
          ": Texas Instruments Inc Lines: 22  In <>  (Allen W. Sherzer) writes:  >Depends. If you assume the ex...",
          "station, constellation Article-I.D.: techbook.C51z6E.CL1 Organization: TECHbooks --- Public Access U...",
          "rticle <>,  (Layne Cook) writes: > All of this talk about a COMMERCIAL space race (i.e. $1G to the f...",
          "Lewis Research Center / Cleveland, Ohio Lines: 30 Distribution: world NNTP-Posting-Host: tm0006.lerc...",
          " Ontario, London Nntp-Posting-Host: prism.engrg.uwo.ca Lines: 9  \tHmmm. I seem to recall that the at...",
          "on: world NNTP-Posting-Host: kelvin.jpl.nasa.gov News-Software: VAX/VMS VNEWS 1.41      In article <...",
          "siana Lines: 43   (Brian Yamauchi) writes:  >Any comments on the absorbtion of the Office of Explora...",
          "NTP-Posting-Host: access.digex.net  In article <>  (Henry Spencer) writes: >In article <1ppm7j$>  (P...",
          "ons, Greenbelt, MD USA Lines: 33 Distribution: world NNTP-Posting-Host: access.digex.net Keywords: M...",
          "ne know how to size cold gas roll control thruster tanks for sounding rockets?  Thanks in advance, J...",
          "BM, Federal Systems Co. Software Services Disclaimer: This posting represents the poster's views, no...",
          "tional Space University] Original-Sender:  Distribution: sci Lines: 124   McDonnell Douglas rolls ou...",
          "ing-Host: tm0006.lerc.nasa.gov Organization: NASA Lewis Research Center / Cleveland, Ohio Lines: 71 ...",
          "n, VA 22090 Lines: 16  In article <>  writes: >This might a real wierd idea or maybe not.. > > >Why ...",
          " LLNL Lines: 96 Distribution: world NNTP-Posting-Host: s1.gov   (Brian Yamauchi) writes: > (Enzo Lig...",
          "s USA Lines: 23 Distribution: world NNTP-Posting-Host: access.digex.net  In article <>  (Ron Baalke)...",
          " 26  <>  writes:  >So some of my ideas are a bit odd, off the wall and such, but so was Wilbur and >...",
          "du Organization: Northwestern University, Evanston Illinois. Lines: 45  In article <>  (James Thomas...",
          "State University, San Luis Obispo Lines: 51  Why do spacecraft have to be shut off after funding cut...",
          "7 GMT Organization: Simon Fraser University X-Useragent: Nuntius v1.1.1d17 Lines: 15  In article <> ...",
          "ines: 15 Distribution: world NNTP-Posting-Host: kelvin.jpl.nasa.gov News-Software: VAX/VMS VNEWS 1.4...",
          "nic State University, San Luis Obispo Lines: 31  >In article <>  (Victor Laking) writes: >> (Victor ...",
          "Lines: 42 \t<> \t<> NNTP-Posting-Host: topaz.ucsc.edu In-reply-to: 's message of 20 Apr 93 22:38:07 GM...",
          "ines: 44   (Craig Keithley) writes: > > All in all, I'm not certain that the single goal/prize of st...",
          "nization: Netcom Online Communications Services (408-241-9760 login: guest) Lines: 9     I might sug...",
          "tion: Fermi National Accelerator Laboratory Lines: 25 Distribution: na NNTP-Posting-Host: fnalf.fnal...",
          "tsville, AL Lines: 72   Okay, lets get the record straight on the Livermore gas gun.   The project m...",
          "world NNTP-Posting-Host: kelvin.jpl.nasa.gov News-Software: VAX/VMS VNEWS 1.41      Forwarded from J...",
          "Research Center Lines: 14 Distribution: world Reply-To:  (CLAUDIO OLIVEIRA EGALON) NNTP-Posting-Host...",
          "banks Lines: 11 Nntp-Posting-Host: acad3.alaska.edu  Is there a few Grasp pictures of space related ...",
          "ci Lines: 10  The Apollo astronauts also trained at (in) Meteor Crater in the Flagstaff area (Arizon...",
          "-Posting-Host: access.digex.net  In article <>  (George F. Krumins) writes: >It is so typical that t...",
          "-408-734-2289 Lines: 20   (Doug Mohney) writes:  > Allen, sometimes I think you're OK.  And sometime...",
          "ting-Host: access.digex.net Keywords: food  dillon comments that Space Food Sticks may have bad dige...",
          "h Carolina, Chapel Hill Lines: 95 Distribution: world Expires: 6 May 1993 19:57:55 GMT NNTP-Posting-...",
          "Lines: 25 NNTP-Posting-Host: access.digex.net  In article <>  (fred j mccall 575-3539) writes: | |I ...",
          "celerator Laboratory Lines: 24 NNTP-Posting-Host: fnalf.fnal.gov  In article <>,  (Charles J. Divine...",
          "eplerian Nntp-Posting-Host: scgraph.afit.af.mil Organization: Air Force Institute of Technology Line...",
          "ines: 8  If all of these things have been detected in space, has anyone looked into possible problem...",
          ".1 Organization: University of Alaska Fairbanks Lines: 21 Nntp-Posting-Host: acad3.alaska.edu  In ar...",
          "Lines: 31  In article <> Callec Dradja <> writes: >I am a bit nervous about posting this beacause it...",
          "ne Communications, Greenbelt MD USA Lines: 9 Distribution: na NNTP-Posting-Host: access.digex.net   ...",
          "t) writes: >what ever happened to the hypothesis  that the shuttle flight software >was a major fact...",
          "munications USA Lines: 20 NNTP-Posting-Host: access.digex.net Keywords: Galileo, JPL    INteresting ...",
          ".1 Organization: University of Alaska Fairbanks Lines: 33 Nntp-Posting-Host: acad3.alaska.edu  In ar...",
          "n Schiewer) writes: >What is the deal with life on Mars?  I save the \"face\" and heard  >associated t...",
          "oratory Lines: 22 Distribution: world NNTP-Posting-Host: kelvin.jpl.nasa.gov Keywords: Galileo, JPL ...",
          "ganization: Univ. of Southwestern Louisiana Lines: 22   (Rob Unverzagt) writes:  >In article <>  (Ro...",
          "Organization: [via International Space University] Original-Sender:  Distribution: sci Lines: 28   \t...",
          "on: Fermi National Accelerator Laboratory Lines: 22 Distribution: world NNTP-Posting-Host: fnalf.fna...",
          "rganization?  You must be kidding. Lines: 35 NNTP-Posting-Host: aerospace.aero.org  In article <1pr5...",
          " Lines: 114    ARIANESPACE FLIGHT 56  (Flight V.56 was originally intended to carry the Hughes HS-60...",
          "Reply-To:  Organization: TI/DSEG VAX Support   In article <>,  (John Elson) writes: >Has anyone ever...",
          "mes Research Center Distribution: na Lines: 14   (Pat) writes:   >AW&ST  had a brief blurb on a Mann...",
          " MA 01609-2280 Lines: 11 NNTP-Posting-Host: wpi.wpi.edu   \tI am looking for any information about th...",
          "n: stanford Lines: 38  In article <>,  (Brian Yamauchi) writes: |> >NASA would provide contractual l...",
          "Sci. Lines: 22   And one of my profs is the chief engineer for the project (Dr. Ron Humble, Univ. Co...",
          "st?  <> <>  <> <>  <> <> Lines: 38  In article <>,  (Gary Coffman) says: >In article <> Graydon ><> ...",
          "call 575-3539) writes: >>>(given that I've heard the Shuttle software rated as Level 5 ... >>Level 5...",
          "on: [via International Space University] Original-Sender:  Distribution: sci Lines: 21  on Date: Sat...",
          "kn6rINNett Reply-To:  Distribution: world Organization: Computer Aided Design Lab, U. of Maryland Co...",
          "n article <>  writes: >Here is a way to get the commericial companies into space and mineral >explor...",
          "ization: University of Illinois at Urbana Lines: 18   (Pat) writes:  >AW&ST  had a brief blurb on a ...",
          "University of Alaska Fairbanks  In article <>,  (Doug Mohney) writes: > In article <>,  (Henry Spenc...",
          "] Original-Sender:  Distribution: sci Lines: 14   >If all the ecomomists in the world were laid end ...",
          "na Lines: 35  In <>  (Elijah Millgram) writes:   >A friend of mine and I were wondering where the ex...",
          "Lines: 26 \t<>\t<>\t<>,<> \t<> NNTP-Posting-Host: topaz.ucsc.edu In-reply-to: 's message of 21 Apr 1993 ...",
          "s: 17       I've been following discussions about the Delta Clipper program, and I have one small qu...",
          "nes: 25 NNTP-Posting-Host: access.digex.net  In article <>  writes: >In article <1r6b7v$>,  (Pat) wr...",
          "4  In article <>,  (Henry Spencer) wrote: >  > The major component of any realistic plan to go to th...",
          ">  (Steve Collins) writes: >The difficulties of a high Isp OTV include... >If you go solar, you have...",
          "ace University] Original-Sender:  Distribution: sci Lines: 189  >>Nick sez; I'm not very impressed b...",
          "ada Lines: 20   > > > Also, peri[jove]s of Gehrels3 were: > > >  > > > April  1973     83 jupiter ra...",
          "<>  (CLAUDIO OLIVEIRA EGALON) writes: >> there is no such thing as a stable lunar orbit > >Is it rig...",
          " Flight Center - Robotics Lab Lines: 26 News-Software: VAX/VMS VNEWS 1.4-b1  In article <>,  (Garret...",
          "GMT Organization: National Radio Astronomy Observatory Lines: 32  It is usually possible to reach pe...",
          " Space University] Original-Sender:  Distribution: sci Lines: 58      Joint Press release ESA/UN No ...",
          "6.14123 Organization: Evil Geniuses for a Better Tomorrow Lines: 22  In article <>  (Josh Hopkins) w...",
          "sted this over in sci.astro, but it didn't make it here. Thought you all would like my wonderful pit...",
          "Shuttle Program Office  X-Newsreader: TIN [version 1.1 PL8] Lines: 40   (Hey, that's me!) wrote: : I...",
          "ity of North Carolina, Chapel Hill Lines: 36 Distribution: world Expires: 7 May 1993 17:25:40 GMT NN...",
          "ience Computer Network, Denver, Co. Lines: 5  The Apollo program cost something like $25 billion at ...",
          "ines: 20 Distribution: world NNTP-Posting-Host: gargravarr.cc.utexas.edu X-UserAgent: Nuntius v1.1.1...",
          " 'Lectronic Link Lines: 29   The difficulties of a high Isp OTV include: Long transfer times (radiat...",
          "Mathematics, University of Adelaide Lines: 25  In article <1pfkf5$>  (Pat) writes:  >Only one proble...",
          "tion: Dynamic Graphics Inc. Lines: 10 Distribution: usa NNTP-Posting-Host: opus.dgi.com  Sorry but I...",
          " 15 NNTP-Posting-Host: bigwpi.wpi.edu    Hello everyone,  \tI was hoping someone could help me out.  ...",
          "(David M. Palmer) writes: >>orbiting billboard... > >I would just like to point out that it is much ...",
          "on: Destructive Testing Systems Lines: 63  In article <> Graydon <> writes: >In article <>,  (Gary C...",
          "tp-Posting-Host: prism.engrg.uwo.ca Lines: 15  In article <>  (Nick Haines) writes: > >Would they bu...",
          "s at Urbana Lines: 42   (Keith Mancus) writes:  > (Layne Cook) writes: >> All of this talk about a C...",
          "on: world NNTP-Posting-Host: kelvin.jpl.nasa.gov Keywords: Galileo, JPL News-Software: VAX/VMS VNEWS...",
          "Louisiana Lines: 28   (Mark Brader) writes:   >Thanks again.  One final question.  The name Gehrels ...",
          "P-Posting-Host: access.digex.net  In article <1r6f3a$>  (Rouben Rostamian) writes: >how the length o...",
          "zation: [via International Space University] Original-Sender:  Distribution: sci Lines: 55  Apologie...",
          "8  In article <>  (Gary Coffman) writes:   > be the site of major commercial activity. As far as we ...",
          " 13  A brief political/cultural item.  Radio station WGMS in Washington is a classical music station...",
          " Lines: 13 Reply-To:  NNTP-Posting-Host: queen.eng.umd.edu  In article <>,  (Henry Spencer) writes: ...",
          "or in original version of preceding line at VACATION.VENARI.CS.CMU.EDU Organization: [via Internatio...",
          "x, Inc., Beaverton,  OR. Lines: 31   ----- News saved at 23 Apr 93 22:22:40 GMT In article <>  (Davi...",
          "e Communications USA Lines: 19 NNTP-Posting-Host: access.digex.net  In article <>  (Achurist) writes...",
          "ronto Zoology Lines: 15  In article <>  (Allen W. Sherzer) writes: >This prize isn't big enough to w...",
          "-Posting-Host: 145.1.146.43 Lines: 59  I am posting this for a friend without internet access. Pleas...",
          "ization: University of Alaska Fairbanks Lines: 55 Nntp-Posting-Host: acad3.alaska.edu  In article <>...",
          " University of Alaska Fairbanks Lines: 28 Nntp-Posting-Host: acad3.alaska.edu  That is an idea.. The...",
          " Organization: TI/DSEG VAX Support   In article <>,  (John F. Woods) writes: > (Norman Anderson) wri...",
          "stribution: world NNTP-Posting-Host: kelvin.jpl.nasa.gov Keywords: HST, Pluto, Uranus News-Software:...",
          " Institute Lines: 42  In article <>,   (Victor Laking) writes: > Does anyone have any info on the ap...",
          "ust one step further: >How has the word \"Clementine\" been associated with mining?    Old pioneer son...",
          "y of Alaska Fairbanks Lines: 21 Nntp-Posting-Host: acad3.alaska.edu  In article <>,  (Henry Spencer)...",
          "n: sci NNTP-Posting-Host: access.digex.net    I am sure  Mary or Henry can describe this more aptly ...",
          "-Posting-Host: cs.utexas.edu  In article <1raee7$>  (Pat) writes: >In article <>  (Ron Baalke) write...",
          "es: 14  In <>  writes:  >Since the DC-X is to take off horizontal, why not land that way?? >Why do t...",
          "h Center Lines: 16 Distribution: world Reply-To:  (CLAUDIO OLIVEIRA EGALON) NNTP-Posting-Host: tahit...",
          "ines: 35  In article <1rd1g0$>  (Pat) writes: >How will said re-boost be done? >Grapple, HST,  stow ...",
          " Lines: 56 NNTP-Posting-Host: fnalf.fnal.gov  In article <>,  (Frank J. Snyder) writes: > I am looki...",
          "sh Hopkins) writes: > (Keith Mancus) writes: >> (Layne Cook) writes: >>> The $25k Orteig prize helpe...",
          "lina State University, Project Eos Lines: 21   Hi all,      I'm trying to get mailing addresses for ...",
          "5-7155 v.32/v.42bis Lines: 27  In article <> mwm+@cs.cmu.edu (Mark Maimone) writes: >In article <>  ...",
          "IO OLIVEIRA EGALON) Distribution: world Organization: NASA Langley Research Center, Hampton, VA  USA...",
          "ding orbital billboards...] >And does anyone have any more details other than what was in the WN >ne...",
          "ion: Muppet Labs Lines: 27  In article <>  (fred j mccall 575-3539) writes: >In <>  (David McAloon) ...",
          "s: 13 Distribution: world Reply-To:  (CLAUDIO OLIVEIRA EGALON) NNTP-Posting-Host: tahiti.larc.nasa.g...",
          "ator:  Nntp-Posting-Host: snow.fox.cs.cmu.edu Organization: School of Computer Science, Carnegie Mel...",
          "NTP-Posting-Host: access.digex.net  In article <>  (fred j mccall 575-3539) writes: >isn't my real n...",
          "ines: 13  In article <1r6aqr$>  (Pat) writes: #The better question  should be. #Why not transfer  O&...",
          "Lines: 39 NNTP-Posting-Host: alumni.caltech.edu   (Matthew DeLuca) writes:  >In article <>  (David \"...",
          " Lines: 22 Reply-To:  NNTP-Posting-Host: queen.eng.umd.edu  In article <>,  (Allen W. Sherzer) write...",
          "Baltimore MD Lines: 14  Another fish to check out is Richard Rast -- he works for Lockheed Missiles,...",
          "e Centaur is controlled technology.. State Dept will not allow it to be used outside of US. Sorry. >...",
          "ept. of Energy, Mines, and Resources, Ottawa Lines: 15  As for SF and advertising in space. There is...",
          "ty of Victoria, Victoria, BC, Canada Lines: 33  In article <1qjs1j$>  (Pat) writes: > > >In the old ...",
          "s: 111        Ethnocentric USian that I am, I've assumed that we and the xUSSR were the only countri...",
          "lorado State University -=- Computer Science Dept. Lines: 11  Is the film from the \"putt-putt\" test ...",
          "osting-Host: pa881a Nntp-Posting-User: schiewer Lines: 9  What is the deal with life on Mars?  I sav...",
          "ing-Host: access.digex.net   Well thank you dennis for your as usual highly detailed and informative...",
          "sity of California, Irvine Lines: 30  Actually, they are legal! I not familiar with the ad you are s...",
          "Riverside Lines: 82 Nntp-Posting-Host: guitar.ucr.edu  There is an interesting opinion piece in the ...",
          " I need as much information about Cosmos 2238 and its rocket fragment (1993- 018B) as possible. Both...",
          "Greenbelt Maryland Lines: 23  Reported yesterday in the Washington Post (Kathy Sawyer, writer):  The..."
         ],
         "type": "scatter",
         "x": [
          8.924629211425781,
          19.38276481628418,
          9.322131156921387,
          27.072656631469727,
          7.568774223327637,
          17.394315719604492,
          -10.579792022705078,
          0.8704469203948975,
          4.4454569816589355,
          -0.08724676072597504,
          10.607649803161621,
          3.518026113510132,
          13.69349193572998,
          4.32415246963501,
          1.968246579170227,
          17.917713165283203,
          -7.628927707672119,
          -1.8179675340652466,
          9.317440032958984,
          -2.05015230178833,
          -3.7485878467559814,
          1.2667763233184814,
          4.620522499084473,
          5.356750011444092,
          9.294563293457031,
          9.88971996307373,
          24.669689178466797,
          15.235170364379883,
          5.966286659240723,
          9.033047676086426,
          6.177697658538818,
          15.363109588623047,
          14.379913330078125,
          12.942867279052734,
          3.3639261722564697,
          12.949378967285156,
          6.822941780090332,
          11.929876327514648,
          16.652029037475586,
          6.814701557159424,
          10.639251708984375,
          -8.856253623962402,
          7.765524864196777,
          38.3849983215332,
          20.798906326293945,
          5.630993366241455,
          -3.5362632274627686,
          0.2337937206029892,
          10.809782981872559,
          11.509387016296387,
          27.34156036376953,
          11.098601341247559,
          11.938467025756836,
          1.4442169666290283,
          11.267267227172852,
          20.88181495666504,
          -0.0698334276676178,
          10.233863830566406,
          12.925688743591309,
          14.110637664794922,
          38.3110466003418,
          2.112149953842163,
          38.33547592163086,
          11.432433128356934,
          4.8165740966796875,
          9.550028800964355,
          12.55795669555664,
          13.565593719482422,
          -3.597073793411255,
          7.785804748535156,
          13.768328666687012,
          17.57814598083496,
          12.163954734802246,
          7.349108695983887,
          17.077119827270508,
          -5.188958168029785,
          11.968339920043945,
          0.7127082943916321,
          17.926610946655273,
          10.298870086669922,
          -0.8098896145820618,
          13.911514282226562,
          10.614641189575195,
          17.77826690673828,
          3.3089449405670166,
          4.111782073974609,
          6.367437362670898,
          8.115649223327637,
          11.333478927612305,
          3.702608823776245,
          1.6498172283172607,
          11.827613830566406,
          3.7167270183563232,
          -0.6191856861114502,
          16.89834213256836,
          -17.581083297729492,
          -0.028586968779563904,
          2.9802157878875732,
          13.86106014251709,
          9.802470207214355,
          13.296334266662598,
          1.1415221691131592,
          10.473615646362305,
          -4.492855548858643,
          12.912357330322266,
          14.180505752563477,
          7.265223979949951,
          8.291714668273926,
          5.304527282714844,
          18.835851669311523,
          27.854846954345703,
          10.088323593139648,
          5.9428300857543945,
          16.611927032470703,
          12.498137474060059,
          -5.297482490539551,
          12.25625228881836,
          15.38351058959961,
          14.125213623046875,
          -11.31494140625,
          -5.683033466339111,
          7.805397987365723,
          0.4814207851886749,
          15.34673023223877,
          1.3240059614181519,
          7.20348596572876,
          13.953082084655762,
          4.179352760314941,
          5.319637775421143,
          -4.335583209991455,
          8.517046928405762,
          18.116601943969727,
          17.872764587402344,
          11.99914836883545,
          19.294591903686523,
          7.249661922454834,
          3.1210381984710693,
          7.543888092041016,
          8.7191801071167,
          -2.057807207107544,
          9.058935165405273,
          17.602510452270508,
          -3.8986570835113525,
          9.3037691116333,
          20.835081100463867,
          -1.9166816473007202,
          8.792875289916992,
          19.253496170043945,
          3.3265275955200195,
          4.609063148498535
         ],
         "y": [
          4.715587139129639,
          -1.0016359090805054,
          -8.265027046203613,
          1.3330808877944946,
          0.9109266400337219,
          15.705530166625977,
          -6.944913864135742,
          3.804215908050537,
          6.197879791259766,
          7.733730316162109,
          18.61107635498047,
          12.15966510772705,
          16.398971557617188,
          9.473772048950195,
          24.178508758544922,
          20.200345993041992,
          13.117926597595215,
          4.1120524406433105,
          16.361268997192383,
          -0.16991491615772247,
          7.590060710906982,
          14.10861873626709,
          10.011889457702637,
          11.107544898986816,
          11.938898086547852,
          2.2429802417755127,
          -4.28653621673584,
          19.690113067626953,
          15.292646408081055,
          -2.881056308746338,
          15.235750198364258,
          1.439706802368164,
          23.111600875854492,
          18.2442684173584,
          13.201140403747559,
          9.136178016662598,
          -8.963701248168945,
          4.288180828094482,
          9.967647552490234,
          7.711087226867676,
          6.348700046539307,
          9.907930374145508,
          21.479442596435547,
          6.4512810707092285,
          2.4111928939819336,
          19.750703811645508,
          11.169820785522461,
          1.6890230178833008,
          -1.2399466037750244,
          17.040485382080078,
          0.9048881530761719,
          7.788590431213379,
          -3.086604356765747,
          8.316343307495117,
          18.23765754699707,
          7.541909217834473,
          7.605975151062012,
          2.3176093101501465,
          2.3482377529144287,
          -0.9420121908187866,
          7.495421409606934,
          15.926390647888184,
          7.107682704925537,
          7.790228843688965,
          5.287709712982178,
          12.447479248046875,
          -7.410820484161377,
          19.999191284179688,
          7.508932113647461,
          -8.804536819458008,
          -1.0328298807144165,
          14.384398460388184,
          8.317693710327148,
          19.24726676940918,
          4.8437957763671875,
          3.6238248348236084,
          21.250242233276367,
          23.059473037719727,
          15.197698593139648,
          20.35167694091797,
          17.776674270629883,
          10.225197792053223,
          0.733068585395813,
          21.34842872619629,
          4.165994644165039,
          1.3433820009231567,
          3.4662492275238037,
          22.2570743560791,
          12.283212661743164,
          -5.509305953979492,
          0.033995307981967926,
          19.13119888305664,
          -5.59385871887207,
          17.564266204833984,
          10.0179443359375,
          -6.420655727386475,
          0.9729253053665161,
          17.883525848388672,
          19.81138038635254,
          13.68602180480957,
          15.908207893371582,
          7.237858295440674,
          0.2851317524909973,
          -1.2254163026809692,
          6.431445121765137,
          22.265518188476562,
          10.49588680267334,
          19.20277214050293,
          3.038642406463623,
          2.6418235301971436,
          0.9170122146606445,
          18.190706253051758,
          6.005573749542236,
          16.325008392333984,
          17.313928604125977,
          8.12782096862793,
          1.6232558488845825,
          1.4847217798233032,
          4.4015021324157715,
          -7.731706142425537,
          3.116011381149292,
          -2.925043821334839,
          22.757869720458984,
          -0.24461618065834045,
          11.555282592773438,
          0.02177266962826252,
          15.782451629638672,
          0.2555782198905945,
          1.696406364440918,
          4.232666969299316,
          11.034467697143555,
          3.393789529800415,
          21.559457778930664,
          13.991938591003418,
          -0.9929686784744263,
          15.17389965057373,
          17.95751190185547,
          19.9636173248291,
          4.8926215171813965,
          12.574857711791992,
          10.595087051391602,
          3.650846481323242,
          -6.817643165588379,
          -3.687602996826172,
          7.6196608543396,
          12.831859588623047,
          -8.244339942932129,
          4.591770648956299,
          3.3290059566497803,
          11.652563095092773
         ]
        }
       ],
       "layout": {
        "height": 800,
        "hovermode": "closest",
        "template": {
         "data": {
          "bar": [
           {
            "error_x": {
             "color": "#2a3f5f"
            },
            "error_y": {
             "color": "#2a3f5f"
            },
            "marker": {
             "line": {
              "color": "#E5ECF6",
              "width": 0.5
             },
             "pattern": {
              "fillmode": "overlay",
              "size": 10,
              "solidity": 0.2
             }
            },
            "type": "bar"
           }
          ],
          "barpolar": [
           {
            "marker": {
             "line": {
              "color": "#E5ECF6",
              "width": 0.5
             },
             "pattern": {
              "fillmode": "overlay",
              "size": 10,
              "solidity": 0.2
             }
            },
            "type": "barpolar"
           }
          ],
          "carpet": [
           {
            "aaxis": {
             "endlinecolor": "#2a3f5f",
             "gridcolor": "white",
             "linecolor": "white",
             "minorgridcolor": "white",
             "startlinecolor": "#2a3f5f"
            },
            "baxis": {
             "endlinecolor": "#2a3f5f",
             "gridcolor": "white",
             "linecolor": "white",
             "minorgridcolor": "white",
             "startlinecolor": "#2a3f5f"
            },
            "type": "carpet"
           }
          ],
          "choropleth": [
           {
            "colorbar": {
             "outlinewidth": 0,
             "ticks": ""
            },
            "type": "choropleth"
           }
          ],
          "contour": [
           {
            "colorbar": {
             "outlinewidth": 0,
             "ticks": ""
            },
            "colorscale": [
             [
              0,
              "#0d0887"
             ],
             [
              0.1111111111111111,
              "#46039f"
             ],
             [
              0.2222222222222222,
              "#7201a8"
             ],
             [
              0.3333333333333333,
              "#9c179e"
             ],
             [
              0.4444444444444444,
              "#bd3786"
             ],
             [
              0.5555555555555556,
              "#d8576b"
             ],
             [
              0.6666666666666666,
              "#ed7953"
             ],
             [
              0.7777777777777778,
              "#fb9f3a"
             ],
             [
              0.8888888888888888,
              "#fdca26"
             ],
             [
              1,
              "#f0f921"
             ]
            ],
            "type": "contour"
           }
          ],
          "contourcarpet": [
           {
            "colorbar": {
             "outlinewidth": 0,
             "ticks": ""
            },
            "type": "contourcarpet"
           }
          ],
          "heatmap": [
           {
            "colorbar": {
             "outlinewidth": 0,
             "ticks": ""
            },
            "colorscale": [
             [
              0,
              "#0d0887"
             ],
             [
              0.1111111111111111,
              "#46039f"
             ],
             [
              0.2222222222222222,
              "#7201a8"
             ],
             [
              0.3333333333333333,
              "#9c179e"
             ],
             [
              0.4444444444444444,
              "#bd3786"
             ],
             [
              0.5555555555555556,
              "#d8576b"
             ],
             [
              0.6666666666666666,
              "#ed7953"
             ],
             [
              0.7777777777777778,
              "#fb9f3a"
             ],
             [
              0.8888888888888888,
              "#fdca26"
             ],
             [
              1,
              "#f0f921"
             ]
            ],
            "type": "heatmap"
           }
          ],
          "heatmapgl": [
           {
            "colorbar": {
             "outlinewidth": 0,
             "ticks": ""
            },
            "colorscale": [
             [
              0,
              "#0d0887"
             ],
             [
              0.1111111111111111,
              "#46039f"
             ],
             [
              0.2222222222222222,
              "#7201a8"
             ],
             [
              0.3333333333333333,
              "#9c179e"
             ],
             [
              0.4444444444444444,
              "#bd3786"
             ],
             [
              0.5555555555555556,
              "#d8576b"
             ],
             [
              0.6666666666666666,
              "#ed7953"
             ],
             [
              0.7777777777777778,
              "#fb9f3a"
             ],
             [
              0.8888888888888888,
              "#fdca26"
             ],
             [
              1,
              "#f0f921"
             ]
            ],
            "type": "heatmapgl"
           }
          ],
          "histogram": [
           {
            "marker": {
             "pattern": {
              "fillmode": "overlay",
              "size": 10,
              "solidity": 0.2
             }
            },
            "type": "histogram"
           }
          ],
          "histogram2d": [
           {
            "colorbar": {
             "outlinewidth": 0,
             "ticks": ""
            },
            "colorscale": [
             [
              0,
              "#0d0887"
             ],
             [
              0.1111111111111111,
              "#46039f"
             ],
             [
              0.2222222222222222,
              "#7201a8"
             ],
             [
              0.3333333333333333,
              "#9c179e"
             ],
             [
              0.4444444444444444,
              "#bd3786"
             ],
             [
              0.5555555555555556,
              "#d8576b"
             ],
             [
              0.6666666666666666,
              "#ed7953"
             ],
             [
              0.7777777777777778,
              "#fb9f3a"
             ],
             [
              0.8888888888888888,
              "#fdca26"
             ],
             [
              1,
              "#f0f921"
             ]
            ],
            "type": "histogram2d"
           }
          ],
          "histogram2dcontour": [
           {
            "colorbar": {
             "outlinewidth": 0,
             "ticks": ""
            },
            "colorscale": [
             [
              0,
              "#0d0887"
             ],
             [
              0.1111111111111111,
              "#46039f"
             ],
             [
              0.2222222222222222,
              "#7201a8"
             ],
             [
              0.3333333333333333,
              "#9c179e"
             ],
             [
              0.4444444444444444,
              "#bd3786"
             ],
             [
              0.5555555555555556,
              "#d8576b"
             ],
             [
              0.6666666666666666,
              "#ed7953"
             ],
             [
              0.7777777777777778,
              "#fb9f3a"
             ],
             [
              0.8888888888888888,
              "#fdca26"
             ],
             [
              1,
              "#f0f921"
             ]
            ],
            "type": "histogram2dcontour"
           }
          ],
          "mesh3d": [
           {
            "colorbar": {
             "outlinewidth": 0,
             "ticks": ""
            },
            "type": "mesh3d"
           }
          ],
          "parcoords": [
           {
            "line": {
             "colorbar": {
              "outlinewidth": 0,
              "ticks": ""
             }
            },
            "type": "parcoords"
           }
          ],
          "pie": [
           {
            "automargin": true,
            "type": "pie"
           }
          ],
          "scatter": [
           {
            "fillpattern": {
             "fillmode": "overlay",
             "size": 10,
             "solidity": 0.2
            },
            "type": "scatter"
           }
          ],
          "scatter3d": [
           {
            "line": {
             "colorbar": {
              "outlinewidth": 0,
              "ticks": ""
             }
            },
            "marker": {
             "colorbar": {
              "outlinewidth": 0,
              "ticks": ""
             }
            },
            "type": "scatter3d"
           }
          ],
          "scattercarpet": [
           {
            "marker": {
             "colorbar": {
              "outlinewidth": 0,
              "ticks": ""
             }
            },
            "type": "scattercarpet"
           }
          ],
          "scattergeo": [
           {
            "marker": {
             "colorbar": {
              "outlinewidth": 0,
              "ticks": ""
             }
            },
            "type": "scattergeo"
           }
          ],
          "scattergl": [
           {
            "marker": {
             "colorbar": {
              "outlinewidth": 0,
              "ticks": ""
             }
            },
            "type": "scattergl"
           }
          ],
          "scattermapbox": [
           {
            "marker": {
             "colorbar": {
              "outlinewidth": 0,
              "ticks": ""
             }
            },
            "type": "scattermapbox"
           }
          ],
          "scatterpolar": [
           {
            "marker": {
             "colorbar": {
              "outlinewidth": 0,
              "ticks": ""
             }
            },
            "type": "scatterpolar"
           }
          ],
          "scatterpolargl": [
           {
            "marker": {
             "colorbar": {
              "outlinewidth": 0,
              "ticks": ""
             }
            },
            "type": "scatterpolargl"
           }
          ],
          "scatterternary": [
           {
            "marker": {
             "colorbar": {
              "outlinewidth": 0,
              "ticks": ""
             }
            },
            "type": "scatterternary"
           }
          ],
          "surface": [
           {
            "colorbar": {
             "outlinewidth": 0,
             "ticks": ""
            },
            "colorscale": [
             [
              0,
              "#0d0887"
             ],
             [
              0.1111111111111111,
              "#46039f"
             ],
             [
              0.2222222222222222,
              "#7201a8"
             ],
             [
              0.3333333333333333,
              "#9c179e"
             ],
             [
              0.4444444444444444,
              "#bd3786"
             ],
             [
              0.5555555555555556,
              "#d8576b"
             ],
             [
              0.6666666666666666,
              "#ed7953"
             ],
             [
              0.7777777777777778,
              "#fb9f3a"
             ],
             [
              0.8888888888888888,
              "#fdca26"
             ],
             [
              1,
              "#f0f921"
             ]
            ],
            "type": "surface"
           }
          ],
          "table": [
           {
            "cells": {
             "fill": {
              "color": "#EBF0F8"
             },
             "line": {
              "color": "white"
             }
            },
            "header": {
             "fill": {
              "color": "#C8D4E3"
             },
             "line": {
              "color": "white"
             }
            },
            "type": "table"
           }
          ]
         },
         "layout": {
          "annotationdefaults": {
           "arrowcolor": "#2a3f5f",
           "arrowhead": 0,
           "arrowwidth": 1
          },
          "autotypenumbers": "strict",
          "coloraxis": {
           "colorbar": {
            "outlinewidth": 0,
            "ticks": ""
           }
          },
          "colorscale": {
           "diverging": [
            [
             0,
             "#8e0152"
            ],
            [
             0.1,
             "#c51b7d"
            ],
            [
             0.2,
             "#de77ae"
            ],
            [
             0.3,
             "#f1b6da"
            ],
            [
             0.4,
             "#fde0ef"
            ],
            [
             0.5,
             "#f7f7f7"
            ],
            [
             0.6,
             "#e6f5d0"
            ],
            [
             0.7,
             "#b8e186"
            ],
            [
             0.8,
             "#7fbc41"
            ],
            [
             0.9,
             "#4d9221"
            ],
            [
             1,
             "#276419"
            ]
           ],
           "sequential": [
            [
             0,
             "#0d0887"
            ],
            [
             0.1111111111111111,
             "#46039f"
            ],
            [
             0.2222222222222222,
             "#7201a8"
            ],
            [
             0.3333333333333333,
             "#9c179e"
            ],
            [
             0.4444444444444444,
             "#bd3786"
            ],
            [
             0.5555555555555556,
             "#d8576b"
            ],
            [
             0.6666666666666666,
             "#ed7953"
            ],
            [
             0.7777777777777778,
             "#fb9f3a"
            ],
            [
             0.8888888888888888,
             "#fdca26"
            ],
            [
             1,
             "#f0f921"
            ]
           ],
           "sequentialminus": [
            [
             0,
             "#0d0887"
            ],
            [
             0.1111111111111111,
             "#46039f"
            ],
            [
             0.2222222222222222,
             "#7201a8"
            ],
            [
             0.3333333333333333,
             "#9c179e"
            ],
            [
             0.4444444444444444,
             "#bd3786"
            ],
            [
             0.5555555555555556,
             "#d8576b"
            ],
            [
             0.6666666666666666,
             "#ed7953"
            ],
            [
             0.7777777777777778,
             "#fb9f3a"
            ],
            [
             0.8888888888888888,
             "#fdca26"
            ],
            [
             1,
             "#f0f921"
            ]
           ]
          },
          "colorway": [
           "#636efa",
           "#EF553B",
           "#00cc96",
           "#ab63fa",
           "#FFA15A",
           "#19d3f3",
           "#FF6692",
           "#B6E880",
           "#FF97FF",
           "#FECB52"
          ],
          "font": {
           "color": "#2a3f5f"
          },
          "geo": {
           "bgcolor": "white",
           "lakecolor": "white",
           "landcolor": "#E5ECF6",
           "showlakes": true,
           "showland": true,
           "subunitcolor": "white"
          },
          "hoverlabel": {
           "align": "left"
          },
          "hovermode": "closest",
          "mapbox": {
           "style": "light"
          },
          "paper_bgcolor": "white",
          "plot_bgcolor": "#E5ECF6",
          "polar": {
           "angularaxis": {
            "gridcolor": "white",
            "linecolor": "white",
            "ticks": ""
           },
           "bgcolor": "#E5ECF6",
           "radialaxis": {
            "gridcolor": "white",
            "linecolor": "white",
            "ticks": ""
           }
          },
          "scene": {
           "xaxis": {
            "backgroundcolor": "#E5ECF6",
            "gridcolor": "white",
            "gridwidth": 2,
            "linecolor": "white",
            "showbackground": true,
            "ticks": "",
            "zerolinecolor": "white"
           },
           "yaxis": {
            "backgroundcolor": "#E5ECF6",
            "gridcolor": "white",
            "gridwidth": 2,
            "linecolor": "white",
            "showbackground": true,
            "ticks": "",
            "zerolinecolor": "white"
           },
           "zaxis": {
            "backgroundcolor": "#E5ECF6",
            "gridcolor": "white",
            "gridwidth": 2,
            "linecolor": "white",
            "showbackground": true,
            "ticks": "",
            "zerolinecolor": "white"
           }
          },
          "shapedefaults": {
           "line": {
            "color": "#2a3f5f"
           }
          },
          "ternary": {
           "aaxis": {
            "gridcolor": "white",
            "linecolor": "white",
            "ticks": ""
           },
           "baxis": {
            "gridcolor": "white",
            "linecolor": "white",
            "ticks": ""
           },
           "bgcolor": "#E5ECF6",
           "caxis": {
            "gridcolor": "white",
            "linecolor": "white",
            "ticks": ""
           }
          },
          "title": {
           "x": 0.05
          },
          "xaxis": {
           "automargin": true,
           "gridcolor": "white",
           "linecolor": "white",
           "ticks": "",
           "title": {
            "standoff": 15
           },
           "zerolinecolor": "white",
           "zerolinewidth": 2
          },
          "yaxis": {
           "automargin": true,
           "gridcolor": "white",
           "linecolor": "white",
           "ticks": "",
           "title": {
            "standoff": 15
           },
           "zerolinecolor": "white",
           "zerolinewidth": 2
          }
         }
        },
        "title": {
         "text": "Embedding Plot with Class Labels"
        },
        "width": 1200,
        "xaxis": {
         "showgrid": false,
         "showticklabels": false,
         "zeroline": false
        },
        "yaxis": {
         "showgrid": false,
         "showticklabels": false,
         "zeroline": false
        }
       }
      },
      "text/html": [
       "<div>                            <div id=\"e73c947b-e00d-4688-850e-9e2b76a46bbd\" class=\"plotly-graph-div\" style=\"height:800px; width:1200px;\"></div>            <script type=\"text/javascript\">                require([\"plotly\"], function(Plotly) {                    window.PLOTLYENV=window.PLOTLYENV || {};                                    if (document.getElementById(\"e73c947b-e00d-4688-850e-9e2b76a46bbd\")) {                    Plotly.newPlot(                        \"e73c947b-e00d-4688-850e-9e2b76a46bbd\",                        [{\"hoverinfo\":\"text\",\"marker\":{\"line\":{\"color\":\"white\",\"width\":0.5},\"size\":15},\"mode\":\"markers\",\"name\":\"Class sci.crypt\",\"opacity\":0.7,\"text\":[\"\\u003eIn the UK, it's impossible to get approval to attach any crypto device \\t\\u003eto the phone network.  (An...\",\"t of trawling through archives, I found the post I reproduce in full below.  Is it time to get toget...\",\"-Host: rac2.wam.umd.edu Organization: University of Maryland, College Park Lines: 11  In article \\u003c\\u003e ...\",\"est Center, University of Hamburg Distribution: na Lines: 33   (Marc Anderson) writes:  \\u003e methods.  ...\",\"rn Louisiana Lines: 52   (David Sternlight) writes:  \\u003eWhat follows is my opinion. It is not asserted...\",\"ion: Chaos Lines: 76 X-Newsreader: Archimedes ReadNews  -----BEGIN PGP SIGNED MESSAGE-----  In artic...\",\"Development, IBM Canada Lab. Disclaimer: This posting represents the poster's views, not those of IB...\",\".edu Organization: University of Texas at San Antonio Distribution: na Lines: 22  In article \\u003c\\u003e  (An...\",\"tes: \\u003eFor example, if I had a program on my disk which created totally random \\u003efiles looking like en...\",\" wiretap chip) Organization: AT&T Bell Laboratories Lines: 66  In article \\u003c\\u003e, Graham Toal \\u003c\\u003e writes:...\",\"13 NNTP-Posting-Host: access.digex.net   \\u003e Second question: Why!?!? Why is such a strange procedure ...\",\" 16: 47:03 GMT Organization: York U. Student Information Systems Project Lines: 18  Mark Riordan wri...\",\"es: 34  In article \\u003c1qg8m2$\\u003e  (Edward Vielmetti) writes:   \\u003e I would suggest that 50 attractive MIME...\",\" View, CA Lines: 20  In article \\u003c\\u003e,  (David Sternlight) writes: \\u003e ... \\u003e                             ...\",\"ication Services (408 241-9760 guest) X-Newsreader: Tin 1.1 PL5 Lines: 28  Besides being an infringe...\",\"rn Louisiana Distribution: na Lines: 25   (douglas craig holland) writes:   \\u003e\\tWith E-Mail, if they c...\",\" and Global Dynamics Division\\u002fNCAR, Boulder, CO Lines: 71  Here are some ideas for those of you who ...\",\"words: Hmm... Organization:  George Mason University, Fairfax Va. Distribution: world  Expires: 06\\u002f3...\",\"n: net Lines: 7  I am a PhD student. Can I get the sci.crypt group posted directly to me??? Also I w...\",\"zation: New Technology, Inc. Lines: 53  ( Below is my response to Dr. Denning's letter to Steven Bel...\",\"91711 Lines: 23  In article \\u003c\\u003e  (Robert Lewis Glendenning) writes: \\u003eFirst, what the fuck is NASA doi...\",\"il-Spec Computers Lines: 43  The M code stream  might be independently attacked based on knowledge o...\",\"H), Zurich, CH Lines: 120  Hmm, followup on my own posting... Well, who cares.  First let me try to ...\",\"s Gateway Lines: 171 NNTP-Posting-Host: cs.utexas.edu  Here are four pseudo-random character generat...\",\"lly -in- the chip, as \\topposed to what is allegedly programmed therein, raise yet another trust \\tiss...\",\".com Reply-To:  Organization: Qualcomm, Inc Lines: 37  In article \\u003c\\u003e,  (Vince Kub) writes: |\\u003e Now, |...\",\"Online Communication Services (408 241-9760 guest) Distribution: na Lines: 35  Clipper Chip is a res...\",\"on: na Organization: ClariNet Communications Corp. Lines: 29  In article \\u003c1qnn7b$\\u003e  (Marcus J Ranum)...\",\"Greenbelt, MD USA Lines: 25 NNTP-Posting-Host: access.digex.net  Okay, let's suppose that the NSA\\u002fNI...\",\"etap chip) Lines: 16  : At the company I worked for previously, I received a file that was des encry...\",\"on: ClariNet Communications Corp. Distribution: na Lines: 37  The stragegy of the government is inte...\",\"-Posting-Host: sunspot.ece.clarkson.edu Cc: tuinstra   Q:   Who was consulted?  The Congress?  Indus...\",\" Texas - Austin Lines: 53 NNTP-Posting-Host: tramp.cc.utexas.edu Originator:    In article \\u003c\\u003e,  (Phi...\",\" would be to make PGP available : in some form on EBCDIC machines.  Don't encourage them.  Let EBCDI...\",\"e Design Automation Lines: 17       Notwithstanding all the legitimate fuss about this proposal, how...\",\"reader: TIN [version 1.1 PL7] Lines: 41  Charles Kincy () wrote: :  : All I have to say is...yeah, r...\",\"s:  \\u003eBut do we really believe that the various governments \\u003e(including ours) won't have the full lis...\",\" Performance Group, Austin, TX X-Newsreader: rusnews v1.01 Lines: 17   (Steve Brinich) writes:  \\u003e  \\u003e...\",\"u by the numbers 2, 3, and 7 In-Reply-To: 's message of 19 Apr 93 18:23:27 -0400 Nntp-Posting-Host: ...\",\"ribution: world NNTP-Posting-Host: jfenton.kaleida.com X-UserAgent: Nuntius v1.1.1d12 X-XXMessage-ID...\",\"desparately* prefer it if we didn't rehash the same arguments that went on ad infinitum last time.  ...\",\"ganization: NASA Science Internet Project Office Lines: 24    |\\u003e    The Attorney General will procur...\",\"(Brad Templeton)  \\tLet's assume, for the moment, that the system really is secure unless \\tyou get bo...\",\"an old posting about CELP speech compression:  \\tIn case you'd like to experiment with CELP, you can ...\",\" 29  In \\u003c\\u003e  (John R. Levine) writes: (quoting someone else here)  \\u003e\\u003eThe cryptographic protocol, thou...\",\"orm the voice compression\\u002fexpansion.  They can't : be expensive, because they exist in many phones c...\",\"ganization: University of Colorado, Boulder Distribution: na Lines: 11  I change login passwords eve...\",\"rsity of Colorado, Boulder Distribution: na Lines: 32  In article \\u003c\\u003e  (Marc Anderson) writes: [...] ...\",\"lt, MD USA Lines: 10 NNTP-Posting-Host: access.digex.net    I suspect that the decisive element in t...\",\"ns, Greenbelt, MD USA Lines: 7 NNTP-Posting-Host: access.digex.net   \\u003e er, excuse me but since the e...\",\"ost: qualcom.qualcomm.com Organization: Qualcomm, Inc., San Diego, CA Distribution: na Lines: 8   (J...\",\"ilink Corporation, Petaluma, CA Lines: 19  In article \\u003c\\u003e,  (David Sternlight) writes: \\u003e  \\u003e Chances a...\",\". - Genetics Lines: 30  In article \\u003c\\u003e,  (Vesselin Bontchev) wrote: \\u003e  \\u003e  (Andrew Haley) writes: \\u003e  \\u003e...\",\"tion: na Lines: 13  \\u003e\\u003e\\tWith E-Mail, if they can't break your PGP encryption, they'll just \\u003e\\u003ecall up ...\",\"t. of Math, Harvard Univ. Nntp-Posting-Host: zariski.harvard.edu Lines: 33  In article \\u003c1ppg02$\\u003e   (...\",\"tap chip) In-Reply-To: 's message of Wed, 21 Apr 1993 13:23:18 GMT Nntp-Posting-Host: epcot.harlequi...\",\"IN [version 1.1 PL6] Lines: 35  I guess the cryptowranglers read this group too.  But of course I kn...\",\"20  In article \\u003c\\u003e,  (D. J. Bernstein) writes: \\u003e Short summary of what Bellovin says Hellman says the...\",\"g-Host: beethoven.cs.colostate.edu Organization: Colorado State University, Computer Science Departm...\",\"st: pizzabox.demon.co.uk Reply-To: Graham Toal \\u003c\\u003e Organization: Cuddlehogs Anonymous Lines: 9  In ar...\",\"nstruments, Inc. Nntp-Posting-Host: dsg4.dse.beckman.com Lines: 22  In \\u003c\\u003e  (Jonathan Eifrig) writes:...\",\"Fairfax VA Distribution: na Lines: 65   (Timothy C. May) writes:  \\u003eBrad Templeton () wrote: \\u003e: It oc...\",\"al Sciences Lines: 29 Distribution: inet NNTP-Posting-Host: moink.nmsu.edu  In article \\u003c\\u003e  (1016\\u002f2EF...\",\" Systems Corporation - Herndon, VA  USA Lines: 30 Distribution: world Reply-To:  (Amanda Walker) NNT...\",\"ogy (ETH), Zurich, CH Lines: 28  In article \\u003c1qv83m$\\u003e  (Jim McCoy) writes: \\u003e\\tI set up a bbs that use...\",\"Nntp-Posting-Host: zariski.harvard.edu Lines: 55  In article \\u003c\\u003e   (D. J. Bernstein) writes: \\u003e \\u003eI wan...\",\"TP server at csrc.ncsl.nist.gov no longer \\trecognizes the 'expn' and 'vrfy' commands...  \\t   telnet ...\",\" chip) Organization: CSRI, University of Toronto Lines: 31  In article \\u003c\\u003e  (John Kelsey) writes: \\u003e  ...\",\"Access UNIX\\u002fInternet Project Lines: 16  In article \\u003c\\u003e  (Peter Gutmann) writes: [article deleted] \\u003e \\u003e...\",\"ation - Herndon, VA  USA Lines: 68 Distribution: world Reply-To:  (Amanda Walker) NNTP-Posting-Host:...\",\"WPI; Marlboro Ma Lines: 35  In article \\u003c1qn1ic$\\u003e  (Peter Wayner) writes: \\u003eOkay, let's suppose that t...\",\"thoughts Lines: 7  The cryptographic algorythm MUST be kept secret, or private individuals could mak...\",\"mino theory was right... Organization: Chinet - Public Access UNIX Distribution: na Lines: 8  In art...\",\"mputing of WPI; Marlboro Ma Distribution: na Lines: 26  In article \\u003c\\u003e Graham Toal \\u003c\\u003e writes: \\u003eIn art...\",\"Laboratories, Inc., San Diego, California Lines: 15  In article \\u003c\\u003e Graham Toal \\u003c\\u003e writes: \\u003eI am *com...\",\"ap, clipper, key-escrow, Mykotronx Organization: Banzai Institute Lines: 19 Nntp-Posting-Host: mycro...\",\"Center, University of Hamburg Lines: 23   (David Sternlight) writes:  \\u003e I will provide one hint: it ...\",\"ity Lines: 22  In article \\u003c\\u003e Rick Miller \\u003c\\u003e writes: \\u003e (Jurgen Botz) writes: \\u003e\\u003e (Marc Horowitz N1NZU)...\",\"  Here is a disturbing thought.  Now, we no longer live in the days of big filing cabinets. We live ...\",\": 27 NNTP-Posting-Host: nuustak.csir.co.za X-Disclaimer: None of the opions expressed herein are the...\",\"rtin University of Technology  In article \\u003c\\u003e,  (Steve Johnson) writes: \\u003e  (Brad Templeton) writes: \\u003e...\",\" capriccioso X-Newsreader: TIN [version 1.1 PL6] Distribution: na Lines: 54  I am eager to hear the ...\",\"le \\u003c1r0nov$\\u003e  (Steve Brinich) writes:   \\u003e \\u003e 1. American manufacturers peddling Cripple Chips with a ...\",\"presents the poster's views, not necessarily those of IBM. Nntp-Posting-Host: kingbee.watson.ibm.com...\",\"etap chip) Organization: Computing Research Lab Lines: 36 \\t\\u003c\\u003e \\t\\u003c\\u003e \\u003c\\u003e NNTP-Posting-Host: lole.nmsu.ed...\",\"t Omaha Distribution: na Lines: 18   (Geoffrey Kuenning) writes:  \\u003eIt always amazes me how quick peo...\",\" chips for phones, not computer-bound station)_ Article-I.D.: agora.C5qy3M.DE3 Organization: Open Co...\",\"of Math, Harvard Univ. Nntp-Posting-Host: zariski.harvard.edu Lines: 27  In article \\u003c\\u003e  (Paul Crowle...\",\"! Nntp-Posting-Host: qualcom.qualcomm.com Organization: Qualcomm, Inc., San Diego, CA Distribution: ...\",\"bistromath.mitre.org Organization: The MITRE Corporation Lines: 41  In article \\u003c\\u003e  (David Sternlight...\",\"Communications, Greenbelt, MD USA Lines: 6 Distribution: na NNTP-Posting-Host: access.digex.net    F...\",\"-Mailer: Simple NEWS 1.90 (ka9q DIS 1.19) Lines: 23  In article \\u003c\\u003e  writes:  \\u003esince the price of 1.4...\",\"e conservation of momentum Distribution: na Lines: 65  In article \\u003c\\u003e  (Jerry Han) writes: \\u003eIn articl...\",\"ribution: na Lines: 47   (Jerry Han) writes: \\u003e The point of the matter is that; yes this is a seriou...\",\"istribution: inet Reply-To:  NNTP-Posting-Host: minerva.cis.yale.edu X-Newsreader: TIN [version 1.1 ...\",\"ut a box that you plug your phone into, which would allow \\t\\u003eencrypted voice communications with some...\",\" wiretap chip) Organization: AT&T Bell Laboratories Lines: 28  In article \\u003c\\u003e,  (James R Ebright) wri...\",\"ost: beethoven.cs.colostate.edu Organization: Colorado State University, Computer Science Department...\",\" I am testing IDEA block cipher implementations for correctness and needs some golden test vectors. ...\",\", wiretap, clipper, key-escrow, Mykotronx Nntp-Posting-Host: top.magnus.acs.ohio-state.edu Organizat...\",\"ed Systems Architecture   \\tI have a bunch of questions about the encryption scheme referenced in the...\",\"Communications, Greenbelt, MD USA Lines: 5 Distribution: na NNTP-Posting-Host: access.digex.net   \\u003e ...\",\"edu Organization: University of Missouri - Rolla, Rolla, MO Lines: 19  In article \\u003c\\u003e  (Bob Cain) wri...\",\"ting-Host: eff.org Organization: The Electronic Frontier Foundation Lines: 26  Clipper might be a go...\",\"a.edu Organization: UCLA, Computer Science Department Distribution: na Lines: 18  In article \\u003c\\u003e  (Pa...\",\"ion: Engineering Computer Network Distribution: na Lines: 27  In article \\u003c\\u003e,  (Brad Templeton) write...\",\"y-To:  Organization: Design Automaton Div., Texas Instruments, Inc. Lines: 36  \\u003e (Andrew Molitor) wr...\",\"r, Minneapolis, MN Lines: 18  I agree that notifying your elected officials of your feelings on this...\",\"41-9760 guest) X-Newsreader: Tin 1.1 PL5 Lines: 41  Perry E. Metzger () wrote: : Here is a disturbin...\",\"N [version 1.1 PL6] Lines: 84  *** SOURCE code to Macintosh PGP 2.2 now available via anonymous FTP ...\",\" DSI\\u002fUSCRPAC Lines: 39  In article \\u003c\\u003e  (Derek Atkins) writes:   \\u003e \\u003eThe point here is not the specifi...\",\"41     Organization: Mission Operations and Data Systems Distribution: na Lines: 44  In article \\u003c1qn...\",\" The MITRE Corporation Lines: 67  In article \\u003c\\u003e  (Carl M Kadie) writes: \\u003e (Andrew S Hall) writes: \\u003e ...\",\"Thu, 20 May 1993 00:00:00 GMT Organization: Computer Science, Indiana University Lines: 163 Content-...\",\": 21 NNTP-Posting-Host: scss3.cl.msu.edu X-Newsreader: TIN [version 1.1 PL8]  For those of you looki...\",\"ration - Herndon, VA  USA Lines: 35 Distribution: world Reply-To:  (Amanda Walker) NNTP-Posting-Host...\",\"s! Organization: Kubota Pacific Computer, Inc. Lines: 46   (Brad Yearwood) writes: | If Clipper come...\",\"13  In article \\u003c\\u003e  (Phil Karn) writes: \\u003eIt looks like Dorothy Denning's wrong-headed ideas have gott...\",\" 139  The following document summarizes the Clipper Chip, how it is used, how programming of the chi...\",\"tion: Partnership for an America Free Drug Distribution: na Lines: 104   (Robert Ward) writes: \\u003eIn a...\",\" In article \\u003c:  (Peter Trei) writes: :Judge: \\\"I grant you immunity from whatever may be learned from...\",\"ll Square Research Corp. Lines: 20   (Steve Johnson) writes: \\u003e\\u003e-Tim May, whose sig block may get him...\",\"anization: Beckman Instruments, Inc. Nntp-Posting-Host: dsg4.dse.beckman.com Lines: 15  In \\u003c\\u003e  (Jame...\",\"993 04:00:07 GMT Reply-To:  NNTP-Posting-Host: pad-thai.aktis.com Summary: Part 3 of 10 of the sci.c...\",\" IA, USA Lines: 43   (Philip Zimmermann) writes:  Philip, I think your ideas are well taken and cons...\",\"ines: 23  In article \\u003c\\u003e  (Kenneth Ng) writes: \\u003eIn article \\u003c:  (Peter Trei) writes: \\u003e:Judge: \\\"I grant...\",\"ganization: Thibault & Friends Lines: 10  In article \\u003c\\u003e  (The Jester) writes:   \\u003e Proof Windows is a...\",\"g read the various \\\"Clipper\\\" announcements on the net over the last few  days and a LOT of uninforme...\",\"tap chip) Organization: Harvey Mudd College, Claremont, CA 91711 Lines: 15  In article \\u003c\\u003e  (Steven B...\",\"f Comp. Sci., Urbana, IL Lines: 18   (Tal Kubo) writes:  [...] \\u003eThe EFF has been associated with eff...\",\"04:00:07 GMT Reply-To:  NNTP-Posting-Host: pad-thai.aktis.com Summary: Part 2 of 10 of the sci.crypt...\",\"7:40:17 GMT Nntp-Posting-Host: l-b-johnson.eff.org Organization: Electronic Frontier Foundation X-Us...\",\"te of Technology (ETH), Zurich, CH Lines: 19  In article \\u003c\\u003e  (Graham Toal) writes: \\u003eCan someone tell...\",\"ution: na Lines: 26  In article \\u003c\\u003e  (Karl Barrus) writes:  \\u003e \\u003eWould you trust a black-box from the N...\",\"Inc. Lines: 38 Nntp-Posting-Host: signal.ece.clarkson.edu  [Apologies for not posting to alt.clipper...\",\"0:07 GMT Reply-To:  NNTP-Posting-Host: pad-thai.aktis.com Summary: Part 1 of 10 of the sci.crypt FAQ...\",\"urgh University Distribution: inet Lines: 12  Quoting  in article \\u003c\\u003e: \\u003ePerhaps these encryption-only...\",\". Sci., Urbana, IL Lines: 42   (Andrew S Hall) writes:  \\u003eI am postive someone will correct me if I a...\",\"nes: 27 Distribution: na \\t\\u003c\\u003e NNTP-Posting-Host: menudo.uh.edu In-reply-to: 's message of Sun, 18 Apr...\",\"a Organization: Totally Unorganized Lines: 17  In article \\u003c1r21t1$\\u003e  (Steve Brinich) writes: \\u003c \\u003c \\u003e I...\",\"Universitaetsrechenzentrum, Heinrich-Heine-Universitaet, Duesseldorf Lines: 40 NNTP-Posting-Host: la...\",\"nication Services (408 241-9760 guest) Lines: 61  In article \\u003c\\u003e  (Robin Hanson) writes: \\u003eI'm attempt...\",\"e \\u003c\\u003e  writes: \\u003c (David Sternlight) writes: \\u003c \\u003c\\u003e Here's a simple way to convert the Clipper proposal ...\",\"ni-kl.de Organization: University of Kaiserslautern, Germany Lines: 39   (Stephan Neuhaus (HiWi Matt...\",\".citicorp.com X-Newsreader: TIN [version 1.1 PL6]  As of yet, there has been no description of the g...\",\"n: GeoQuest System, Inc. Houston Lines: 17  In article \\u003c\\u003e  (Perry E. Metzger) writes: \\u003e \\u003eeach of the...\",\"In article \\u003c\\u003e,  (Vernon Schryver) writes: \\u003e In article \\u003c\\u003e,  (David Sternlight) writes: \\u003e\\u003e           ...\",\" Systems Corporation - Herndon, VA  USA Lines: 34 Distribution: world Reply-To:  (Amanda Walker) NNT...\",\"ngland Lines: 25  -----BEGIN PGP SIGNED MESSAGE-----  Hi all..  Does anyone know of a UNIX utility a...\",\"8 NNTP-Posting-Host: ellisun.sw.stratus.com Keywords: cooperation  In article \\u003c\\u003e  writes: \\u003esay, can ...\"],\"x\":[-36.6137809753418,-35.69673538208008,-32.74794387817383,-17.020761489868164,-22.730022430419922,-19.800527572631836,-25.899267196655273,-18.755464553833008,-19.019527435302734,-30.616865158081055,-29.52638816833496,-26.33232307434082,-10.399541854858398,-24.6094913482666,-34.874900817871094,-15.923227310180664,-27.59429359436035,-27.398193359375,-13.61640453338623,-22.100872039794922,-10.313456535339355,-30.206974029541016,-32.76493453979492,-25.69017219543457,-28.170541763305664,-24.481077194213867,-28.985734939575195,-22.83772087097168,-25.724803924560547,-31.4919490814209,-27.538671493530273,-20.068632125854492,-18.426294326782227,-28.269229888916016,-28.113351821899414,-10.458423614501953,-28.8963680267334,-27.55242919921875,-33.54197692871094,-21.130664825439453,-32.19085693359375,-21.755420684814453,-23.559335708618164,-35.630828857421875,-29.42422866821289,-35.491127014160156,-26.76668930053711,-15.482626914978027,-19.52757453918457,-23.41720199584961,-35.076656341552734,-27.323223114013672,15.593358039855957,-15.809767723083496,-23.05074119567871,-30.66988754272461,-14.747967720031738,-31.933574676513672,-16.42933464050293,-19.73088264465332,-10.341097831726074,-23.962860107421875,-17.26344871520996,-26.119592666625977,-20.894989013671875,-13.558514595031738,-4.054986000061035,-28.933691024780273,-13.671590805053711,-28.108110427856445,-25.427534103393555,-31.018327713012695,-14.49229621887207,-29.844919204711914,-30.966726303100586,-28.511465072631836,-25.42331314086914,-3.7584357261657715,-24.22344207763672,-36.272823333740234,-24.15549087524414,-18.665788650512695,-23.539657592773438,-22.081520080566406,-31.18609619140625,-17.057270050048828,-25.084550857543945,-14.84191608428955,-15.806922912597656,-23.48906135559082,-16.35177993774414,-21.953548431396484,-0.5544456839561462,-0.7063499093055725,-15.427458763122559,-28.791589736938477,-29.597827911376953,-26.119243621826172,-25.49372673034668,-24.723539352416992,-34.18790817260742,-18.163286209106445,-11.21190071105957,-33.07136535644531,-16.75788116455078,-22.249797821044922,-14.842604637145996,-10.583128929138184,-24.9122371673584,-24.23110580444336,-23.62255096435547,-21.121150970458984,-19.8704776763916,-12.97236442565918,-24.708717346191406,-26.780750274658203,-27.152692794799805,-15.682462692260742,-30.069198608398438,-18.184343338012695,-17.887908935546875,-17.47537612915039,-19.90517234802246,-12.077422142028809,-27.72492218017578,-17.647085189819336,-36.012508392333984,-30.837783813476562,-28.437192916870117,-14.064491271972656,-12.276076316833496,-12.058029174804688,-36.23121643066406,-20.415788650512695,-29.791208267211914,-12.17751693725586,-15.817279815673828,-19.485193252563477,-20.783620834350586,-18.22224998474121,-28.706037521362305,-10.421168327331543,-28.460134506225586,-12.285274505615234,-32.815643310546875,-24.44943618774414,-23.6868953704834,-26.707717895507812,-24.982166290283203,-20.163288116455078],\"y\":[7.745445251464844,3.9432759284973145,18.449817657470703,17.379907608032227,16.495450973510742,16.713773727416992,15.602927207946777,19.121767044067383,2.811476707458496,4.7946553230285645,1.7685123682022095,-1.7994009256362915,2.584601402282715,22.060035705566406,15.258554458618164,0.4945068061351776,19.98925018310547,15.022855758666992,6.122585296630859,17.796955108642578,23.097314834594727,10.743255615234375,12.739862442016602,-18.200529098510742,2.929213762283325,5.815000057220459,12.479084968566895,14.522262573242188,7.153618335723877,6.550734996795654,12.401731491088867,13.892775535583496,8.271851539611816,-5.443709373474121,12.081361770629883,16.318313598632812,14.51058578491211,21.728307723999023,12.291659355163574,10.430216789245605,15.551702499389648,12.283001899719238,15.432588577270508,3.7644155025482178,16.188261032104492,7.840127468109131,5.8637919425964355,18.998821258544922,14.584189414978027,20.445232391357422,15.566509246826172,16.641172409057617,-14.81684684753418,-0.07748457044363022,7.727268695831299,4.312878131866455,8.275986671447754,11.767991065979004,16.24427604675293,1.6077306270599365,16.635557174682617,9.133323669433594,14.12271499633789,10.856057167053223,7.032510280609131,11.365612030029297,-24.6068172454834,6.655936241149902,17.509553909301758,10.315558433532715,7.330267429351807,16.684642791748047,15.818685531616211,18.61606216430664,21.382631301879883,15.689168930053711,-1.142069935798645,-24.32094383239746,17.66130256652832,6.927985191345215,8.157940864562988,12.446206092834473,20.739490509033203,23.424531936645508,6.648862361907959,20.217254638671875,12.176054954528809,11.271005630493164,20.127883911132812,10.63754653930664,-2.2670950889587402,0.6555403470993042,-4.640660285949707,-4.401125907897949,10.766693115234375,8.797165870666504,5.109299659729004,12.487543106079102,-17.809593200683594,14.802635192871094,5.346243858337402,23.847427368164062,15.07603645324707,18.42420768737793,20.638065338134766,14.884716033935547,16.308902740478516,-23.98179054260254,16.7950439453125,-3.1082334518432617,11.381803512573242,12.485963821411133,7.872190475463867,3.035879135131836,-5.528244972229004,10.761369705200195,13.4208345413208,21.803665161132812,14.402325630187988,11.559686660766602,6.47232723236084,19.135704040527344,21.648338317871094,5.895724296569824,20.32736587524414,6.436710357666016,14.012981414794922,13.896042823791504,5.934563636779785,12.217967987060547,5.612318992614746,12.052201271057129,6.484182834625244,22.055814743041992,15.831097602844238,6.587714672088623,10.83995246887207,8.098694801330566,22.709047317504883,23.570730209350586,2.1386070251464844,23.106082916259766,17.506515502929688,8.556354522705078,14.254112243652344,18.174612045288086,13.288054466247559,9.460685729980469,3.949702739715576,3.636604070663452],\"type\":\"scatter\"},{\"hoverinfo\":\"text\",\"marker\":{\"line\":{\"color\":\"white\",\"width\":0.5},\"size\":15},\"mode\":\"markers\",\"name\":\"Class sci.electronics\",\"opacity\":0.7,\"text\":[\"ity of Minnesota, Duluth Lines: 28 NNTP-Posting-Host: ua.d.umn.edu  In article \\u003c\\u003e  (Bijan Mobasseri)...\",\"tern Reserve University, Cleveland, Ohio (USA) Lines: 45 NNTP-Posting-Host: slc10.ins.cwru.edu     A...\",\"8-241-9760 login: guest) Lines: 25   (Neal Patrick Howland) writes: \\u003e \\u003eFrom what I understand about ...\",\" of Illinois at Urbana Lines: 14  As the subject says - Can I use a 4052 for digital signals?  I don...\",\"17    I would like to be able to amplify a voltage signal which is output from a thermocouple, prefe...\",\"rt Collins Site X-Newsreader: TIN [version 1.1 PL8.5] Lines: 5  Has anyone ever heard of FET-TRONS (...\",\"mulation Organization: Harris Controls Lines: 18   I recently ftp'd Al's Circuit Simulator (ACS) and...\",\"zation: Medical Informatics, Pittsburgh, PA USA Lines: 33   \\tGreetings. I've been seeing the word \\\"s...\",\"ceiver system Organization: National Hospitals, Iceland Lines: 19   Dear Netters I want to send EMG-...\",\"ology Hatley & Pirbhai ? I am a British final year real-time degree student, and as a project I am c...\",\"t Imag, Grenoble, France Lines: 38  In article \\u003c\\u003e,  (Ketil Albertsen,TIH) writes: |\\u003e In article \\u003c\\u003e, ...\",\" 8 News-Software: VAX\\u002fVMS VNEWS 1.41 Nntp-Posting-Host: ubvmsb.cc.buffalo.edu   \\tHow does the radio ...\",\"echnological University X-Newsreader: TIN [version 1.1 PL8] Lines: 21  Charlie Brett () wrote: : You...\",\"ersity, St. Louis MO Lines: 88  In article \\u003c\\u003e  (Stan Burton) writes: \\u003e \\u003e-- \\u003e \\u003eI would like to be abl...\",\". Keywords: pattern Summary: MDA\\u002fEGA\\u002fVGA pat. gen. Lines: 15  I repair a lot of monitors here, and I...\",\"tion, Huntsville AL Lines: 25  In article \\u003c\\u003e,  (Michael DeAddio) writes:  |\\u003e |\\u003e The 'beam' is split ...\",\" We have a setup with with 13 polaroid transducers and rangefinders. We would like to fire these thr...\",\" 12   (Ronald W. Butts, Jr.) writes:  \\u003eI am looking for suppliers of 900MHz spread spectrum radio mo...\",\"Hz, problems (FPU exception) Nntp-Posting-Host: prawn.sp.ph Organization: Imperial College of Scienc...\",\" In article \\u003c\\u003e  writes: \\u003eIn article \\u003c\\u003e,  (Russ Crisp) writes: \\u003e\\u003e I'm considering modernizing some ol...\",\"s: 10   In article \\u003c\\u003e, Joseph Chiu writes:  \\u003e The Ohmite company was the first to characterize resis...\",\"es (408-241-9760 login: guest) Lines: 32  Sci.E(E) netters:  I am setting out to build and market a ...\",\"edu Organization: Michigan Technological University Lines: 32  In article \\u003c\\u003e,  (Russ Crisp) wrote: \\u003e...\",\": TIN [version 1.1 PL8] Lines: 15   Hi there  Does anyone know how to get hold of data as well as st...\",\"4  Can anybody recommend a good, application-oriented beginner's reference to RF circuits?    I am p...\",\"0  Does any one know if the 6551 is timing\\u002fpin compatible with the 6551..  It seems the 6551 has in ...\",\"MM\\u003e (Martin McCormick) MM\\u003eOrganization: Oklahoma State University, Stillwater, OK MM\\u003e\\tWhat sort of l...\",\"rganization: Chalmers University of Technology, Gothenburg Sweden Lines: 10  Does anybody know anyth...\",\" Hewlett-Packard X-Newsreader: TIN [version 1.1 PL8.9] Lines: 8  While driving through the middle of...\",\"ple that are interested in every aspect of the 2600 try the zine:  2600 connection $1 cash to : Timo...\",\"niversity  Lines: 12  Since I have seen various different numbers to dial to get your number read ba...\",\"rticle \\u003c\\u003e  (Billy Quinn) writes: \\u003eI built a little project using the radio shack 5vdc relays to swit...\",\"anization: SDSU - LARC Lines: 16 NNTP-Posting-Host: larc.sdsu.edu  In article \\u003c\\u003e,  (Scott Townsend) ...\",\"nto Zoology Lines: 13  In article \\u003c\\u003e  (Michael Golan) writes: \\u003eThe board itself is also identical, w...\",\": na Organization: APG-Edgewood, MD, USA Lines: 26   PLease take these and use them.  Take advantage...\",\"atik Nntp-Posting-Host: schroeder.ifi.unibas.ch Lines: 11  Great, the first advantage of cheap coax,...\",\"y-To:  Organization: New York University Lines: 13  I'm looking to build a microphone preamp that ha...\",\"Lines: 12  Any info on modern 20MHZ or better dual trace scopes would be appreciated. Should I buy a...\",\"cation Services (408 241-9760 guest) Lines: 25   I had a similar idea, for a fax\\u002fanswering machine s...\",\"derbyl) Organization: MPR Teltech Ltd. Lines: 30   writes: \\u003eInitial symptoms: \\u003e-no picture or sound ...\",\"In article \\u003c\\u003e  (Stephe Lewis Foskett) writes: \\u003e \\u003eI'm doing sound for a couple of bands around here a...\",\"Organization: Utah State Univ. EE Nntp-Posting-Host: sol.ee.usu.edu Lines: 32  In article \\u003c\\u003e,  (Robe...\",\"Services (408 241-9760 guest) Distribution: usa Lines: 19   I bought this chip from Suncoast Technol...\",\"ton University, St. Louis MO Lines: 32  In article \\u003c\\u003e  (J. Babb) writes: \\u003eFellow Info-junkies, \\u003e  I ...\",\"AI Programs, University of Georgia, Athens Lines: 13  You can get a *little* UV by putting a heavy U...\",\" University In-Reply-To: 's message of Mon, 19 Apr 93 00:38:00 GMT X-News-Reader: VMS NEWS 1.24 Line...\",\"g-Host: hpctdkz.col.hp.com  \\u003e   Does anybody out there have one of those food dehydrators I've been ...\",\"is  In \\u003c\\u003e  (Ketil Albertsen,TIH) writes:  \\u003eMay we interpret this as an offer to volunteer as editor ...\",\"e-Hulman Lines: 14 NNTP-Posting-Host: g222-26.nextwork.rose-hulman.edu Keywords: 68hc16  In article ...\",\"truments Inc. Nntp-Posting-Host: 134.217.245.87 Lines: 11  Does anyone know of an FTP site where I m...\",\"ut how to build a cheap, low resolution (or high :-) video projector...   (example: a LCD and an sli...\",\"on: University of Wales, Aberystwyth Lines: 23  I have a Fujitsu M2322K which has been removed (I be...\",\"tion: Reed College, Portland, Oregon Lines: 36  In article \\u003c\\u003e  (Babak Sehari) writes: \\u003e--- \\u003e \\u003eI was ...\",\"nter, Chandler Arizona Lines: 17  In article \\u003c\\u003e,  (Brad Kepley) writes: |\\u003e I just heard an unbelieva...\",\"zation: Geophysical Institute, Fairbanks, AK Lines: 21   I would be interested in hearing from anyon...\",\" Technology, Pasadena Lines: 8 NNTP-Posting-Host: fleming.caltech.edu  I was wondering if anyone kno...\",\"untsville AL Lines: 41  In article \\u003c\\u003e,  (Mark Zenier) writes: |\\u003e Zack Lau () wrote: |\\u003e : In sci.elec...\",\"rds: JUMPER SETTINGS DIP-SWITCH SETTINGS, HELP, COMPUTER 386SX Organization: National Federation of ...\",\"-Host: grv.grace.cri.nz Lines: 37  From:\\tMX%\\\"\\\"  6-APR-1993 06:48:34.96 To:\\tSRGXNBS CC:\\t Subj:\\tRe: I^...\",\"tion: Rhodes University, Grahamstown, South Africa Lines: 44 X-Newsreader: TIN [version 1.1 PL8]  : ...\",\"sche Nachrichtentechnik Lines: 41  This is for a friend of mine. Please send answers directly to him...\",\"nes: 54   Yes, I know it's nowhere near Christmas time, but I'm gonna loose Net access in a few days...\",\"ganization: University of Washington, Seattle Lines: 18 NNTP-Posting-Host: carson.u.washington.edu  ...\",\"o:  Organization: Univ. of Lowell CS Dept. Lines: 6  I suggest that misc.consumer.house is a better ...\",\"le \\u003c\\u003e  (Wayne Smith) writes: \\u003e\\u003eNo restriction was placed \\u003e\\u003eon receiving RADAR (or, curiously, cordle...\",\"d Reptile Farm Lines: 20 NNTP-Posting-Host: grissom.larc.nasa.gov  In article \\u003c\\u003e  (C.M. Hicks) write...\",\"a Organization: University of Calgary Lines: 13  Last week I asked for help in getting an old homema...\",\"erve University, Cleveland, Ohio (USA) Lines: 25 NNTP-Posting-Host: slc10.ins.cwru.edu   I recently ...\",\"f Technology Lines: 11  In article \\u003c\\u003e  (Sean Oliver) writes: \\u003e\\u003e Joseph Mich Krzeszewsk writes: \\u003e\\u003e   ...\",\"ld Organization: University of Washington, Seattle Lines: 25 NNTP-Posting-Host: carson.u.washington....\",\"opy of \\\"8088 Assembler Language Programming: The IBM PC\\\" by Willen and Krantz, 2nd ed. pub. by Sams,...\",\"stralia Lines: 14 NNTP-Posting-Host: mackerel.gu.uwa.edu.au  Well here in Australia you dial  11544 ...\",\"Thomson) writes: \\u003e Joseph Chiu () wrote: \\u003e  \\u003e : And the measure of current, Amp, is actually named a...\",\"Laboratory Lines: 15 NNTP-Posting-Host: travis.llnl.gov  In article \\u003c\\u003e,  (David Glen Jacobowitz) wri...\",\"ation: Hewlett-Packard Lines: 31 X-Newsreader: TIN [version 1.1.4 PL6]  william burchill () wrote: :...\",\"A Lines: 8  In article \\u003c\\u003e  (David F. Newman) writes: \\u003eSubject: arcade style buttons and joysticks \\u003eC...\",\"chnology, Finland Lines: 17 \\t\\u003c\\u003e \\t\\u003c1ptolq$\\u003e NNTP-Posting-Host: lk-hp-11.hut.fi In-reply-to: 's messag...\",\"ogical University - Singapore   currently I am using the 8051 microcontroller with external eprom.. ...\",\"leans, France. Lines: 9      Hi All!     I would like to know what are the popular ICs of the type, ...\",\"-1607 Lines: 43   (Bob Myers) writes:  \\u003e \\u003e I am looking for any info I can get on the NEC 3D monitor...\",\"etNews abusers - Beltway Annex Lines: 19 Reply-To:  (David Lesher) NNTP-Posting-Host: skybridge.scl....\",\"ion: SLAMDANZ CYBRNETX Lines: 13  Anyone know a reasonable circuit for programming PALs?  I am inter...\",\"US), U of Stuttgart, FRG Lines: 38 NNTP-Posting-Host: pc8.izfm.uni-stuttgart.de  Hi! In article \\u003c\\u003e  ...\",\"puter Group, Tempe, Az. Distribution: usa Lines: 9    Does anybody out there have one of those food ...\",\"on: usa Organization: Triacus Inc. Lines: 26 Nntp-Posting-Host: mars.calstatela.edu  Recently, my vi...\",\" grade science report Distribution: usa Organization: Boeing Computer Services (ESP), Seattle, WA Li...\",\"Host: wu2.wl.aecl.ca Organization: AECL Research, Whiteshell Laboratories Distribution: na Lines: 25...\",\"anization: CSIR Lines: 15 NNTP-Posting-Host: 146.64.23.16 X-Disclaimer: None of the opions expressed...\",\"Annex Lines: 24 Reply-To:  (David Lesher) NNTP-Posting-Host: skybridge.scl.cwru.edu  Others said: {e...\",\"According to my TI databook, the pinouts for the TIL311 display are as follows:    Pin 1 - LED suppl...\",\"andy.com!pauls    Apr 21 09:31:00 1993 Lines: 6   Motorola has a good app note on a 10 band equalize...\",\"onto Distribution: na Lines: 11  The subject line says it all. I'm working on a project that will us...\",\"&ROMs with ALE latches (for 8051's) Lines: 28   (Steve Pope) writes:  \\u003eIn article \\u003c\\u003e  (j. pethybridg...\",\"p-Posting-Host: cimill  In article \\u003c\\u003e,  (Peter Tryndoch) writes... \\u003eAllThe Devil ReincarnateSWR mete...\",\"ege of Medicine Lines: 19  If the set is direct line powered, try checking the [likely to be there] ...\",\"ticle \\u003c\\u003e  (G. Stewart Beal) writes: \\u003eIn article \\u003c\\u003e  (Jason Haines) writes: \\u003e\\u003e \\u003e\\u003e\\tI was wondering if ...\",\": 19  Hi, I've got a PACE MODEM , Series Four 2400s ( made in England by PACE Micro Technology ) wit...\",\" S. Williamson) Organization: NCR E&M Columbia, SC Lines: 17  In article \\u003c\\u003e  (Robert Canright) write...\",\"ization:  Colorado Concert Sound Lines: 25  In article \\u003c\\u003e  (TOM WAGNER, Wizzard of old Audio\\u002fVisual ...\",\"ch Lines: 15  Hi !!!  Is there somebody using a 56001 DSP from Motorola ??? I am searching for progr...\",\"se-Hulman Lines: 11 NNTP-Posting-Host: g222-26.nextwork.rose-hulman.edu  In article \\u003c\\u003e  (Jason   Hai...\",\"Australia. Lines: 19 Distribution: world NNTP-Posting-Host: macadam.mpce.mq.edu.au Originator:    We...\",\"stribution: na NNTP-Posting-Host: hardy.u.washington.edu Summary: Address or phone number for subscr...\",\"ion: The Northern Lights BBS, Portland, ME  * 207-761-4782 * Lines: 7 X-Newsreader: ZipNews Reader\\u002fM...\",\"r and Reptile Farm Lines: 16 NNTP-Posting-Host: grissom.larc.nasa.gov  In article \\u003c\\u003e  writes: \\u003e \\u003eGre...\",\"oration Wichita, KS Lines: 14   (Victor Laking) writes:  )Do you know what frequencies chanels 17 to...\",\"21            On an A\\u002fD board I've got, I'm using the A\\u002fD lines.  It measures  the voltages properly...\",\": University Of Alberta, Edmonton Canada Lines: 28   (Daniel J Rubin) writes:  \\u003eHow hard would it be...\",\"1   (Joel Kolstad) writes:  \\u003e In article \\u003c\\u003e  \\u003e \\u003e \\u003e \\u003eIf you are going to use one where it counts (eg:...\",\"26 X-Newsreader: TIN [version 1.1 PL8]  Frank Hielscher () wrote: : The PADS*.ZIP files contain subd...\",\"y of Minnesota Lines: 18  I have a stereo compressor-limiter by  Audio Logic (Model MT-66).  The gat...\",\"-9760 guest) Lines: 20  In article \\u003c\\u003e  (Brian Day) writes: \\u003e (COLE) writes: \\u003e \\u003e\\u003eI would like to expe...\",\"ege, Hanover, NH Lines: 12  We are Dartmouth engineering students.We are looking for documented data...\",\"9 Distribution: world NNTP-Posting-Host: grissom.larc.nasa.gov  I have a MOSFET pulled out of a Tryg...\",\"stribution: world NNTP-Posting-Host: rosie.uh.edu Keywords: Motorola, FPU, 68882, 68030, 33\\u002f50 MHz, ...\",\"es: 9  Could someone please tell me if a 1\\u002f4 decoder is the same as a 1 to 4 demultiplexer. I know h...\",\" UNIX Society, Austin, Tx Lines: 15    I understand that the new GPS boxes now have an option known ...\",\"ix system run by the University \\tof Denver for the Denver community.  The University has neither \\tco...\",\"om Organization: Mentor Graphics Keywords:  Lines: 33  In article \\u003c\\u003e,  (Wayne Smith) writes: |\\u003e In a...\",\".gov Organization: Fermilab Computing Division Lines: 22  In article \\u003c\\u003e,  (John Whitmore) writes: \\u003e ...\",\"anybody know if there is a mailing list or newsgroup for Power Systems and related areas?  Thanks,  ...\",\"exaco Lines: 16  I had a catalog with membrane keypads, but I dunno what happened to it, and it was ...\",\"e if this would be the right place to post this, but anyway, here goes:  I was just noticing that so...\",\"t: turbo_f.seas.smu.edu Organization: SMU - School of Engineering & Applied Science - Dallas Lines: ...\",\"-Posting-Host: dialup-slip-1-88.gw.umn.edu Organization: persian cat & carpet co. X-Useragent: Nunti...\",\"24 Distribution: world NNTP-Posting-Host: reg.triumf.ca News-Software: VAX\\u002fVMS VNEWS 1.41      In ar...\",\"ile Farm Lines: 9 NNTP-Posting-Host: grissom.larc.nasa.gov  In article \\u003c\\u003e  (Jason Waterman) writes: ...\",\"om Online Communications Services (408-241-9760 login: guest) Lines: 1  The Bmw speedo is triggered ...\",\" AI Programs, University of Georgia, Athens Lines: 9  There is or was a microwave tower next to Flor...\",\"MA Lines: 27   (Mike Donahue) writes:   \\u003eI do NOT know much about Adcom Mobil Audio products, but I ...\",\" Technological University X-Newsreader: TIN [version 1.1 PL8] Lines: 19  Bill Willis () wrote: : I h...\",\"osting-Host: macadam.mpce.mq.edu.au  In article \\u003c\\u003e,  (Ogawa \\u002f Taro Stephen (ISE)) writes: |\\u003e Could s...\",\"ost: elan.princeton.edu Organization: Princeton University Lines: 29  I was looking at the amps diag...\",\": 6  Sounds like the picture tube lost vacuum.  This would cause the filament to ignite and could ac...\",\"orld Reply-To:  NNTP-Posting-Host: sparc28.hri.com  I just got an IBM-PC XT with no documents. Its a...\",\"nization: JPL Pasadena CA Lines: 25 Nntp-Posting-Host: neuron6.jpl.nasa.gov  In article \\u003c\\u003e  (Dale Nu...\",\"Host: wpi.wpi.edu  Hey everyone, I'm new to this  newsgroup so please excuse me if this is a  dumb q...\",\"ost: aisun3.ai.uga.edu Organization: AI Programs, University of Georgia, Athens Lines: 22  In articl...\",\" There are also a couple or three places on West 45th between Fifth and Sixth.    Harvey   --  -----...\",\".com Organization: NCR Corp., Columbia SC Lines: 30  In article \\u003c\\u003e  writes: \\u003e \\u003eGreetings! \\u003e       \\u003e ...\",\"ing1.cc.utexas.edu  It is illegal to use anything you eavedropped on for a business  or for an illeg...\",\"Organization: University of Oulu, Dept. of EE, Finland  In article \\u003c\\u003e  (Stephe Lewis Foskett) writes...\",\"ntially amplify holes instead of electrons? Keywords: holes electrons semi-conductors mobility Nntp-...\",\"relays ??? Organization: Malaspina College Lines: 63  In article \\u003c\\u003e,  (Aaron Lung) writes: \\u003e In arti...\",\"lator operating in the detector. Saw a story about their use in Canada. Now don't go putting oscilla...\",\": 33  Thanks for the resposes as they were all good ideas and I am looking at using a couple of the ...\",\"ation: Monash University, Melb., Australia. Lines: 23  Hi people..  OK heres my problem....  I keep ...\",\"m21.eng.stratus.com  In article \\u003c\\u003e  (Roger A Williams) wrote:   \\u003e (Mike Donahue) writes:  \\u003e  \\u003e  \\u003e\\u003eI ...\",\", Quincy, IL Lines: 22   Intel also makes some neat memory and peripheral chips:  Old technology (ea...\",\"c. - New Orleans, LA Reply-To:  (Gerald Belton)  Lines: 24  AL\\u003e\\u003e        Question:   Is there a certa...\"],\"x\":[-11.616528511047363,-14.993507385253906,-7.050268650054932,-20.38357925415039,-18.7443790435791,-4.58743143081665,-24.556743621826172,-13.654333114624023,-12.159497261047363,26.31026268005371,-21.255720138549805,-7.978476524353027,-5.464807510375977,-8.564166069030762,-17.456153869628906,-3.913153886795044,-8.474732398986816,-15.329131126403809,-35.16407775878906,2.636025905609131,1.4198870658874512,-16.54006576538086,2.8807373046875,-17.489608764648438,-11.66641616821289,-28.751480102539062,2.493727445602417,-25.350427627563477,-5.578868865966797,-28.7981014251709,-8.96822738647461,-17.995010375976562,-2.5045740604400635,1.9867022037506104,-24.846965789794922,-10.471633911132812,-18.496318817138672,-14.109052658081055,-11.773387908935547,3.7358689308166504,-17.298620223999023,-11.422321319580078,-26.406185150146484,-7.368492126464844,-6.6365885734558105,-6.493348121643066,10.17158317565918,-21.817270278930664,-25.167158126831055,-25.211780548095703,-16.968290328979492,-27.964813232421875,-21.797107696533203,-5.2080864906311035,-12.000288009643555,-34.85040283203125,12.414213180541992,-29.767667770385742,-5.532619953155518,-20.892906188964844,-20.094310760498047,-5.810043811798096,-6.13298225402832,1.6565866470336914,-6.6883544921875,-18.33854103088379,-23.13984489440918,-30.95668601989746,-9.450325965881348,-1.1344494819641113,-30.811595916748047,-7.883360862731934,1.5179519653320312,-15.137239456176758,14.996731758117676,-32.413055419921875,-12.687850952148438,-33.59931564331055,-13.332734107971191,-18.513490676879883,6.998043060302734,-25.357290267944336,-27.566434860229492,10.15507698059082,0.5206578969955444,12.16680908203125,-32.34748840332031,-26.35770606994629,-20.37411117553711,-31.288944244384766,-22.97732925415039,-2.346386671066284,-31.276611328125,-8.770242691040039,3.021343469619751,-31.281736373901367,-25.2847843170166,-24.211894989013672,-17.981491088867188,-22.855432510375977,-31.267393112182617,-29.094877243041992,-6.6207685470581055,-8.010143280029297,-10.74510383605957,-10.247457504272461,-20.261587142944336,-31.940670013427734,-1.1349934339523315,-27.78409767150879,-21.19976806640625,-27.331777572631836,-18.839487075805664,-5.445353031158447,-35.1827507019043,-29.127803802490234,-9.918828964233398,-3.691093921661377,-6.320094585418701,7.045282363891602,-4.3339457511901855,-20.12103843688965,4.856391429901123,2.6351401805877686,-31.594213485717773,-6.068423748016357,12.015192031860352,-11.639387130737305,-6.861766815185547,-21.286449432373047,-11.183298110961914,-29.1572265625,1.9355005025863647,4.182592868804932,-29.418514251708984,-2.476219892501831,-15.570246696472168,3.630765914916992,-10.016491889953613,-10.972442626953125,-4.986398696899414,-17.360363006591797,2.8179492950439453,-18.314985275268555,-5.666240215301514,-34.52500534057617,-7.513455867767334,-21.17749786376953,-30.827312469482422,-10.382322311401367],\"y\":[-2.3752822875976562,-9.16754150390625,-7.578037738800049,-10.991440773010254,-20.65245246887207,11.019163131713867,-23.591920852661133,-10.905664443969727,-9.707660675048828,8.806547164916992,2.3343758583068848,-14.650038719177246,-12.53264331817627,-4.307773113250732,-12.004035949707031,-9.759434700012207,-6.192378997802734,-14.241486549377441,-13.095576286315918,-28.40056610107422,-11.804583549499512,-8.708564758300781,-28.505088806152344,-7.4963507652282715,-15.605600357055664,-9.883829116821289,-14.988164901733398,-12.126688003540039,-12.814805030822754,-7.458672046661377,-20.183149337768555,-24.58987045288086,-17.184349060058594,-23.428939819335938,-13.449078559875488,-12.983956336975098,-19.314241409301758,-10.746984481811523,-23.226591110229492,-18.755640029907227,-15.881284713745117,-8.753377914428711,-11.580887794494629,-16.619396209716797,-3.4887912273406982,-19.75043487548828,-19.200895309448242,2.9424257278442383,-7.085674285888672,-7.38811731338501,-9.235879898071289,-13.287086486816406,2.219041347503662,15.231239318847656,-12.89944839477539,-8.294626235961914,-10.961071014404297,-13.557110786437988,-25.22809410095215,-19.96623992919922,-11.442448616027832,-2.2226486206054688,-8.493936538696289,-28.1414852142334,-9.473421096801758,-18.667125701904297,-14.139585494995117,-13.478385925292969,-21.741212844848633,-20.192089080810547,-16.42725944519043,-20.603288650512695,-11.739518165588379,-17.777559280395508,-12.667961120605469,-16.648344039916992,-21.616199493408203,-9.683357238769531,-15.3186674118042,-10.307548522949219,-13.401529312133789,-9.22105598449707,-22.340730667114258,-19.20068359375,-18.48763084411621,-12.75619125366211,-6.47857666015625,-8.463096618652344,-16.273935317993164,-11.088920593261719,-10.880269050598145,19.725767135620117,-8.91861343383789,-10.817276000976562,-18.95149803161621,-4.29048490524292,-14.3728609085083,-23.737873077392578,-23.891569137573242,-10.793991088867188,-4.452953815460205,-12.850414276123047,-16.680862426757812,-21.451560974121094,-21.72213363647461,-13.050518035888672,-13.16264820098877,-5.7155046463012695,-12.566695213317871,-22.093563079833984,-15.77571964263916,-10.192630767822266,-7.779636383056641,15.051119804382324,-13.117444038391113,-17.74480438232422,-8.428159713745117,-8.892779350280762,-9.285482406616211,-13.329277038574219,-17.149015426635742,-4.559906482696533,26.467329025268555,-15.002166748046875,-8.977524757385254,-7.485556125640869,-13.065604209899902,-2.457357883453369,-6.331323623657227,-18.955650329589844,-16.28291893005371,-17.764986038208008,-23.44182586669922,-18.622425079345703,-14.48509693145752,18.973833084106445,-17.45696258544922,-29.136404037475586,-18.31092643737793,-22.050668716430664,-8.340299606323242,-15.900710105895996,-10.034852027893066,-24.329130172729492,-6.561081409454346,-8.591639518737793,-3.9813568592071533,-18.900737762451172,-8.032598495483398,-20.612369537353516],\"type\":\"scatter\"},{\"hoverinfo\":\"text\",\"marker\":{\"line\":{\"color\":\"white\",\"width\":0.5},\"size\":15},\"mode\":\"markers\",\"name\":\"Class sci.med\",\"opacity\":0.7,\"text\":[\"ganization: Colonial Mutual Life Australia X-Newsreader: FTPNuz (DOS) v1.0 Lines: 24  Hi, I am not s...\",\"y, NY - 212-274-8298v.32bis Reply-To:  (Jim Zisfein)  Lines: 19  \\u003e (Anthony Anello) \\u003eCan anyone tell...\",\"bution: usa Lines: 18   In article \\u003c\\u003e  (Evan Hunt) writes:   \\u003eIn article \\u003c\\u003e  (Sharen A. Rund) writes...\",\"ortland Rain Forest Lines: 34  In article \\u003c\\u003e  (Beth Mazur) writes: \\u003eIn \\u003c\\u003e  (Chuck Forsberg WA7KGX) w...\",\" Ca. Lines: 18 Distribution: world Reply-To:  (Jim Jones) NNTP-Posting-Host: contractor.ebay.sun.com...\",\"ines: 17 NNTP-Posting-Host: saltillo.cs.utexas.edu Summary: Lousy idea.  -*---- Cross-posted and wit...\",\"Consulting, Cambridge MA Lines: 30  In article \\u003c\\u003e  (*Heather*) writes: \\u003eNutrasweet is a synthetic sw...\",\"s: 41  A person posted certain stuff to this newsgroup, which were highly selected quotes stripped o...\",\" Systems, Inc., Palo Alto, CA Lines: 11   My insurance company encourages annual physicals, and at m...\",\"rsity of Wisconsin - Milwaukee Lines: 19 NNTP-Posting-Host: 129.89.7.4  In article \\u003c\\u003e  (Sheryl Coppe...\",\"s., USA Lines: 11 NNTP-Posting-Host: enterprise.bih.harvard.edu  In article \\u003c\\u003e  (Fiberman) writes: \\u003e...\",\"In article \\u003c\\u003e  (Steve Heffner) writes: \\u003eA bit more than a year ago, a hernia in my right groin was \\u003e...\",\"c3t Distribution: na Organization: Oakland University, Rochester MI. Lines: 9 NNTP-Posting-Host: ouc...\",\":57 GMT Nntp-Posting-Host: crux3.cit.cornell.edu Organization: Department of Chemistry, Cornell Univ...\",\"y - Univ. of Alabama Distribution: usa Lines: 36  In article \\u003c\\u003e,  (John Eyles) wrote: \\u003e  \\u003e  \\u003e A frie...\",\"Earth Observatory Lines: 50  In article \\u003c\\u003e,  (Gordon Banks) writes: \\u003e In article \\u003c\\u003e  (carl brenner) ...\",\"d Silver) writes: \\u003e \\u003e \\u003e \\u003eIs there a right-eye dominance (eyedness?) as there is an \\u003e \\u003eoverall right-...\",\"7G Organization: Prentice Centre, University of Queensland Lines: 45   (Steve Dyer) writes: \\u003eSnort. ...\",\"nes: 28  In article \\u003c\\u003e  (Steve Dyer) writes: \\u003eIn article \\u003c\\u003e  writes: \\u003e\\u003eCan someone tell me whether o...\",\"ing Lines: 11  My girlfriend is in pain from kidney stones. She says that because she has no medical...\",\"who has just been diagnosed with Lupus, and I know nothing about this disease. The only thing I do k...\",\" methodology.   Organization: University of Hawaii (Mathematics Dept) Expires: Sat, 1 May 1993 10:00...\",\"-line Communication Services (408 241-9760 guest) Lines: 15 X-Newsreader: TIN [version 1.1 PL8]  I'd...\",\"ons Public Access.  The Mouth of the South. Lines: 28  E.J. Draper \\u003c\\u003e writes:  \\u003eIf it were my wife, ...\",\": 27 NNTP-Posting-Host: carina.unm.edu   Gordon Banks:  \\u003ea lot to keep from going back to morbid obe...\",\"rsion 1.1 PL9] Lines: 45  kathleen richards () wrote: \\u003e My nearly-13 year old Pomeranian had a nasty...\",\", USA Lines: 26 NNTP-Posting-Host: enterprise.bih.harvard.edu  In article \\u003c\\u003e   (Alexis Perry) writes...\",\"ibution: world NNTP-Posting-Host: zion.berkeley.edu  | article \\u003c\\u003e  writes: || Now, if instead of usi...\",\"rganization: NASA Dryden, Edwards, Cal. Lines: 33 In-Reply-To: 's message of 5 Apr 93 23:27:26 GMT  ...\",\"uter Science Lines: 28  In article \\u003c\\u003e  (David Nye) writes:  \\u003e  \\u003eI believe it is illegal for a reside...\",\"e Federale de Lausanne Lines: 41 NNTP-Posting-Host: liasun1.epfl.ch  Dear Netters,  I am not sure wh...\",\".ohio-state.edu Organization: The Ohio State University Lines: 50  In article \\u003c\\u003e  (Jim Fare) writes:...\",\"Freenet Lines: 18   I have between 15 and 25 nosebleeds each week, as a result of a genetic predispo...\",\" at Urbana Lines: 6  Also remember that most people map the sanguine\\u002fcholeric\\u002fmelencholic\\u002fphlegmatic...\",\" Science Lines: 17  In article \\u003c\\u003e  (Ken Mitchum) writes: \\u003e \\u003eI found out that tuberculosis appears to...\",\"ganization: Bell Communications Research Lines: 31  In article \\u003c\\u003e,  (Mary E. Allison) writes: |\\u003e  |\\u003e...\",\" Programs, University of Georgia, Athens Lines: 12  I'm told that corn allergy is fairly common.  My...\",\"tchum) Organization: Univ. of Pittsburgh Computer Science Lines: 36  In article \\u003c\\u003e  writes: \\u003eCan any...\",\"Iowa Lines: 22  In article \\u003c\\u003e,  (Ken Mitchum) writes: \\u003e As a physician, I almost never get sick: usu...\",\": naples.med.unc.edu Organization: UNC-CH School of Medicine Lines: 7  Thanks to Tarl Neustaedter of...\",\"rformance Computing, University of Illinois at Urbana-Champaign Lines: 66 Distribution: world NNTP-P...\",\"ngws5.ic.sunysb.edu Organization: State University of New York at Stony Brook Lines: 54  In article ...\",\"ing X-Newsreader: NNR\\u002fVM S_1.3.2 Lines: 53  In article \\u003c\\u003e  (Brian M. Huey) writes:   \\u003eIn article \\u003c\\u003e,...\",\") writes:  \\u003e\\t \\u003e\\tI have seen a couple of postings refering to an SRI called paxil.  I \\u003ehave been on P...\",\"TX 214\\u002f436-3281 Lines: 27  In article \\u003c\\u003e  (Andrew Rogers) writes: \\u003eIn article \\u003c\\u003e  writes: \\u003e\\u003eChinese,...\",\".14717 Distribution: sci.med Organization: Lockheed Engineering & Sciences Co. Lines: 17  In article...\",\"on: Univ. of Pittsburgh Computer Science Lines: 26  In article \\u003c\\u003e  (Rayaz Jagani) writes:  \\u003e \\u003eFrom M...\",\": 25  In article \\u003c\\u003e  (Robert Allison) writes: \\u003eDoes anyone know of any method to reduce this frequen...\",\"s) Organization: Univ. of Pittsburgh Computer Science Lines: 23  In article \\u003c\\u003e  (MD) writes: \\u003e \\u003eIf a...\",\": 19  [reply to  (MD)]   \\u003eAfter many metabolic tests, body structure tests, and infection\\u002fvirus \\u003etes...\",\"es: 29 NNTP-Posting-Host: venus.iteb.serpukhov.su  I am very interested in investigations of starvat...\",\"   There is this newsgroup sci.med.physics and there has been quite a lot discussion in this group a...\",\"es: 9   \\tI was kind of half watching Street Stories last night \\tand one of the segments was about th...\",\"ia Inc, Toronto, Ontario. Lines: 23  L(\\u003e   (Joel B Levin) writes: L(\\u003e  John Badanes wrote: L(\\u003e  |JB\\u003e...\",\"  Organization: Clinical Diagnostics Division, Eastman Kodak Company Lines: 24  In article \\u003c\\u003e  (Rich...\",\"E, Sandia Park, NM Lines: 31  In article \\u003c\\u003e  (Vida Morkunas) writes: \\u003eI live at sea-level, and am ca...\",\"k Division, NSWC, Bethesda, MD Lines: 30  In rec.food.cooking,  (Charles Packer) writes: \\u003eIs there s...\",\"anization: Univ. of Pittsburgh Computer Science Lines: 21  In article \\u003c\\u003e  (Lindy Foster) writes: \\u003eI'...\",\"he tollfree hotline for the Epilepsy Foundation of America - 1-800-EFA-1000.  They will be able to a...\",\"tion: usa Lines: 13  I am 35 and am recovering from a case of Chicken Pox which I contracted from my...\",\"tion on the effects\\u002forigin of oxaprozin? It's marketed under the name \\\"DAYpro\\\", and appears to be an...\",\"onsin Eau Claire Lines: 29  [reply to  (Jacquelin Aldridge)]   \\u003eMedicine is not a totally scientific...\",\"nes: 41 Nntp-Posting-Host: aquarius   (Richard Ottolini) writes:  : Living things maintain small ele...\",\"nes: 27  One thing that I haven't seen in this thread is a discussion of the relation between IBD in...\",\"nes: 67 Distribution: inet NNTP-Posting-Host: im4u.cs.utexas.edu  -*---- In article \\u003c\\u003e  (Lee Lady) w...\",\"g-Host: theseus.unx.sas.com Organization: SAS Institute Inc. Lines: 15   In article \\u003c\\u003e,  (Tom B. Car...\",\"ment Corporation Lines: 45 NNTP-Posting-Host: DWOVAX   In article \\u003c\\u003e,  () writes... \\u003eI recently hear...\",\"niv. of Pittsburgh Computer Science Lines: 48  In article \\u003c\\u003e  (Ruth Ginzberg) writes:  \\u003eHmmmm... her...\",\"ion: world NNTP-Posting-Host: coyoacan.sw.stratus.com  In article \\u003c\\u003e,  (Brian M. Huey) writes: \\u003e I t...\",\"g-Host: theseus.unx.sas.com Organization: SAS Institute Inc. Lines: 55   In article \\u003c\\u003e,  (Mark Fulk)...\",\" Rochester  In article \\u003c\\u003e  (Gary Merrill) writes: \\u003e \\u003eIn article \\u003c\\u003e,  (Mark Fulk) writes: \\u003e \\u003e|\\u003e I don...\",\"uter Science Lines: 22  In article \\u003c\\u003e  (daniel federman) writes: \\u003e \\u003eA friend of mine took appoximate...\",\"Urbana Lines: 26   (Steve Dyer) writes:  \\u003eIn article \\u003c1qnns0$\\u003e  (Steve Pope) writes: \\u003e\\u003eThe mass of a...\",\"o Lines: 12  There were a few people who responded to my request for info on treatment for astrocyto...\",\"geles, California Distribution: usa Lines: 12   Hi All,  Would anyone out there in 'net-land' happen...\",\" Univ. of Pittsburgh Computer Science Lines: 19  \\u003eIn article  (John Joseph Deltuvia) writes: \\u003e \\u003e\\u003eThe...\",\"le scraps of paper, mostly Lines: 10   I think he means Girlie Photography.  A good place to find it...\",\"nes: 3  Can anyone help me find any information on the drug Prozac?  I am writing a report on the in...\",\"rsion 1.1 PL9] Lines: 13  kathleen richards () wrote:  \\u003e If you have time to type it in I'd love to ...\",\" Lines: 29   \\tA friend has the following symptoms which have occurred periodically every few months ...\",\"on, VA Lines: 28 Reply-To: Jason C. Austin \\u003c\\u003e NNTP-Posting-Host: ab20.larc.nasa.gov In-reply-to: 's ...\",\"tion: na  Am I justified in being pissed off at this doctor?  Last Saturday evening my 6 year old so...\",\" Univ of Alabama Lines: 19  In article \\u003c\\u003e,  (Ho Leung Ng) wrote: \\u003e  \\u003e  \\u003e    When I was a kid in prim...\",\"? Lines: 8  What resources and services are available on Internet\\u002fBITNET which would be of interest ...\",\"he usual teenage spotty chin and greasy nose.  I bought him Clearasil face wash and ointment.  I thi...\",\"e here because I am kind of desperate. For about six weeks, I've been suffering on pains in my left ...\",\"mputer Science Lines: 16  In article \\u003c\\u003e  (Daniel Prince) writes:  \\u003eI only have lunulas on my thumbs....\",\"Univ. of Pittsburgh Computer Science Lines: 23  In article \\u003c\\u003e  (Paul Schmidt) writes: \\u003eI think it is...\",\"to  (Gordon Banks)]   \\u003e\\u003eI believe it is illegal for a residency to discriminate against FMGs.   \\u003eIs ...\",\"idge MA Lines: 14  In article \\u003c1qnns0$\\u003e  (Steve Pope) writes: \\u003eThe mass of anectdotal evidence, comb...\",\"anization: Univ. of Pittsburgh Computer Science Lines: 24  In article \\u003c\\u003e  (John Setel O'Donnell) wri...\",\"es: 5 Distribution: na NNTP-Posting-Host: hpcspe17.col.hp.com   Report them to your local BBB (Bette...\",\"ortland Rain Forest Lines: 33  In article \\u003c\\u003e  (Gordon Banks) writes: \\u003e \\u003eIn article \\u003c\\u003e  (Chuck Forsbe...\",\"ver what? I would be most interested in seeing you \\u003e\\u003eprovide peer-reviewed non-food-industry-funded ...\",\"em (TM) Lines: 36  \\u003e Probably within 50 years, a new type of eugenics will be possible. \\u003e Maybe even...\",\"er Science Lines: 12  In article \\u003c\\u003e  (John E. Rodway) writes: \\u003eAny comments on the use of the drug P...\",\"  Following a series of miscarriages, my wife was given a transfusion of my white cells. (The theory...\",\"nization: Univ. of Pittsburgh Computer Science Lines: 22  In article \\u003c\\u003e  (Herman Rubin) writes: \\u003eIn ...\",\"ping-injury-faq\\u002f\\u003e Organization: University of California, Berkeley Lines: 51 Expires: 22 May 1993 04...\",\"ttsburgh Lines: 21  In article \\u003c1r1t1a$\\u003e  writes: :I recently attended an allery seminar.  Steroid N...\",\"g.magnus.acs.ohio-state.edu Organization: The Ohio State University Lines: 45  In article \\u003c\\u003e  (Jon N...\",\"w York City, NY - 212-274-8298v.32bis Reply-To:  (Jim Zisfein)  Lines: 17  A(\\u003e  () A(\\u003e A woman I kno...\",\"m Lines: 20  A bit more than a year ago, a hernia in my right groin was discovered.  It had produced...\",\"zation: AT&T Lines: 15  In article \\u003c\\u003e,  writes: \\u003e How long does it take a smoker's lungs to clear of...\",\" PL8]  David Nye () wrote: : [reply to  (ron roth)] :   : \\u003eWhile you're right that the S vertebrae a...\",\"rganization: OSU College of Osteopathic Medicine  In article \\u003c\\u003e,  (Gordon Banks) writes: \\u003e In articl...\",\"said that, i might add, that in MHO, MSG does not enhance  AM\\u003e flavor enoughf for me to miss it.  Wh...\",\"Bates method Summary: Proven a hoax long ago Lines: 15  Dr. willian Horatio Bates born 1860 and grad...\",\"osed with cystic breast disease -- a big relief, as it was a lump that could have been cancer.  Her ...\",\" 14 Distribution: world NNTP-Posting-Host: adcs01.fnal.gov Keywords: 40 BLOODCOUNT DANGEROUS?   Can ...\",\"ical School, Boston Mass., USA Lines: 15 NNTP-Posting-Host: enterprise.bih.harvard.edu  In article \\u003c...\",\"rdon Banks) writes: \\u003eIn article \\u003c\\u003e  (Richard Silver) writes: \\u003e\\u003e \\u003e\\u003eIs there a right-eye dominance (ey...\",\".D.: pegasus.1993Apr22.221508.10196 Organization: Pegasus,  Honolulu Lines: 14  In article \\u003c\\u003e \\u003c\\u003e wri...\",\"ing 4 addresses are on the LymeNet mailing list, but are rejecting mail.  Since the list server orig...\",\"ge of Osteopathic Medicine Distribution: usa  In article \\u003c\\u003e,  (John Eyles) writes: \\u003e  \\u003e A friend has...\",\"NTP-Posting-Host: 141.214.86.38 X-UserAgent: Nuntius v1.1.1d9 X-XXDate: Tue, 20 Apr 93 16:46:24 GMT ...\",\"on: The Information Deli - via Netcom \\u002f San Jose, California  In \\u003c\\u003e  (Steven W Orr) writes:  \\u003eI look...\",\"ne, MA Lines: 10   Some recent postings remind me that I had read about risks  associated with the b...\",\"ivision Lines: 16 NNTP-Posting-Host: duca.hi.com  In article \\u003c\\u003e  (Gordon Banks) writes: |In article ...\",\"t -- Division of EMBA Computer Facility Lines: 21  Nutrasweet is a synthetic sweetener a couple thou...\",\" Corporation Lines: 13   What does a lack of taste of foods, or a sense of taste that seems \\\"off\\\" wh...\",\": 44  In article \\u003c\\u003e  (Gong Tong) writes: \\u003eIn article \\u003c\\u003e  (OPIRG) writes: \\u003e\\u003e \\u003e\\u003eFor cites on MSG, look...\",\"words: volvulus Nntp-Posting-Host: berfert.csd.uwo.ca Lines: 35      Recurrent Volvulus     --------...\",\": Invention Factory's BBS - New York City, NY - 212-274-8298v.32bis Reply-To:  (Jim Zisfein)  Lines:...\",\"world Organization: University of Oregon Lines: 14 NNTP-Posting-Host: oregon.uoregon.edu News-Softwa...\",\" (ron roth)]   \\u003eWhile you're right that the S vertebrae are attached to each other, \\u003ethe sacrum, to ...\",\"cience Lines: 18  In article \\u003c\\u003e  (John Werner) writes: \\u003eIn article \\u003c\\u003e,  (Gordon Banks) wrote: \\u003e\\u003e  \\u003e\\u003e...\",\" In article \\u003c\\u003e  (Fiberman) writes: :Is erythromycin effective in treating pneumonia? : :-fm   Not on...\",\"ution: world NNTP-Posting-Host: q5020598.mdc.com  My girlfriend just started taking Imitrex for her ...\",\"-To:  (Ken Mitchum) Organization: Univ. of Pittsburgh Computer Science Lines: 15  In article \\u003c\\u003e  (Jo...\",\"ote: :  {much deleted] :  :  : The fact that this happened while eating two sugar coated cereals mad...\",\" Summary: thanx for the comeback Lines: 7  Hello , I think you are probaly right, in spite of the mo...\",\"osting-Host: kyanite Organization: Telesciences CO Systems, Inc. Lines: 24  In article \\u003c\\u003e  (Richard ...\",\"tion: Univ. of Pittsburgh Computer Science Lines: 31  In article \\u003c\\u003e  (Andrea M Free-Kwiatkowski) wri...\",\"dford) Lines: 13  Thanks for all your assistance. I'll see if he can try a different brand of patche...\",\"USA Lines: 48 \\t\\u003c\\u003e \\u003c\\u003e NNTP-Posting-Host: cmb00.larc.nasa.gov In-reply-to: 's message of Fri, 23 Apr 1...\",\"anyone give me more information regarding endometriosis?   i heard it's a very common disease among ...\",\"any one heard of a sedative called \\\"Rhoepnol\\\"? Made by LaRouche, I believe. Any info as to side effe...\",\"t: ysub.ysu.edu  Does the Proventil inhaler for asthma relief fall into the steroid or nonsteroid ca...\",\" |JB\\u003e   (Ella I Baff) writes: |JB\\u003e   |JB\\u003e    Ron Roth recommends: \\\"Once you have your hypoglycemia C...\",\"Lines: 7  In article \\u003c\\u003e  (Gordon Banks) writes: \\u003ewe do this?  Should we make a race of disease-free,...\",\"\\u003c\\u003e  (Craig MacDonald) writes: \\u003e\\u003e  It may be extremely \\u003e\\u003ecommon, something like 5% of the population....\",\"1111.9678 Organization: Pegasus,  Honolulu Lines: 11  In article \\u003c\\u003e  (Melissa N. Matusevich) writes:...\",\"USA Lines: 52 \\t\\u003c\\u003e NNTP-Posting-Host: cmb00.larc.nasa.gov In-reply-to: 's message of Sat, 17 Apr 1993...\",\"n: SAS Institute Inc. Lines: 16  In article \\u003c\\u003e,  (MD) writes:   \\u003e \\u003e        The reason I'm posting th...\",\": 43  In article \\u003c\\u003e  (David Thomas) writes:  \\u003e\\u003eIn article \\u003c\\u003e,  (Charles Packer) writes: \\u003e\\u003e\\u003eIs there ...\",\"UNIX, Greenbelt, Maryland USA Lines: 58 NNTP-Posting-Host: access.digex.net  In article \\u003c\\u003e  (Gordon ...\",\"USA Lines: 53 NNTP-Posting-Host: cmb00.larc.nasa.gov In-reply-to: 's message of 21 Apr 93 16:18:19 G...\",\"s maintain small electric fields to (1) enhance certain chemical reactions, (2) promote communicatio...\",\"ick King) writes: \\u003e \\u003eI recall reading somewhere, during my youth, in some science popularization \\u003ebo...\"],\"x\":[37.97530746459961,46.751888275146484,37.827064514160156,45.85851287841797,43.46519088745117,23.789628982543945,42.480045318603516,24.40101432800293,33.7801628112793,47.40443420410156,45.01899719238281,42.431514739990234,50.88984298706055,49.18050003051758,45.888423919677734,39.067474365234375,21.957366943359375,43.47922134399414,47.496185302734375,35.859981536865234,44.71419143676758,29.12965202331543,36.124141693115234,32.856597900390625,46.55412673950195,41.758453369140625,49.42325973510742,37.814884185791016,30.452836990356445,32.19942855834961,31.72872543334961,49.929866790771484,49.16905212402344,22.19581413269043,40.075950622558594,37.70073699951172,41.33045196533203,33.13185119628906,42.56622314453125,26.00883674621582,38.87306213378906,25.434757232666016,17.18219757080078,45.2632942199707,38.72736740112305,46.37113952636719,35.55131530761719,49.495540618896484,40.359127044677734,41.196441650390625,30.8206787109375,32.67268371582031,35.50577926635742,26.513774871826172,34.32483673095703,47.41973876953125,39.21098327636719,48.70081329345703,40.03295135498047,44.67937088012695,49.24345779418945,31.10999298095703,19.5693302154541,46.85417938232422,29.013587951660156,25.654296875,38.31252670288086,37.484169006347656,16.963708877563477,25.955841064453125,29.010000228881836,45.895896911621094,34.81052780151367,39.13042449951172,12.712803840637207,41.43278884887695,18.966245651245117,45.3330078125,41.74134063720703,49.33543014526367,34.356075286865234,37.06990432739258,44.103965759277344,32.42230224609375,47.25625991821289,49.150611877441406,33.91703414916992,31.494766235351562,31.604114532470703,35.23991775512695,39.80546569824219,36.284000396728516,45.55943298339844,36.588504791259766,24.360618591308594,44.55072784423828,41.369041442871094,37.890995025634766,1.7047736644744873,48.80867004394531,42.52952194213867,42.92156982421875,42.480255126953125,33.497230529785156,31.142974853515625,35.506690979003906,37.505027770996094,22.634212493896484,36.70658874511719,46.65021896362305,44.75589370727539,22.577255249023438,34.3721923828125,-5.018307685852051,45.854461669921875,31.778982162475586,32.90565490722656,34.783470153808594,37.25481033325195,42.5750617980957,41.179256439208984,40.143245697021484,40.9240608215332,36.34284591674805,19.552478790283203,31.26422119140625,22.954219818115234,44.89765548706055,50.05907440185547,38.55634689331055,41.91936492919922,2.1425821781158447,22.450782775878906,40.2896614074707,47.78189468383789,40.307456970214844,38.40115737915039,47.26848602294922,49.31566619873047,26.6281795501709,24.850812911987305,47.182411193847656,43.2668571472168,40.51747131347656,40.11994171142578,38.45158386230469,45.6877326965332,41.860477447509766,19.777429580688477,36.474971771240234],\"y\":[-12.269532203674316,-1.4468220472335815,3.557784080505371,6.458423614501953,-11.393421173095703,-17.133386611938477,3.612558603286743,-19.032493591308594,-18.13714599609375,-5.952881813049316,-15.642635345458984,-23.50377082824707,-7.47055196762085,-8.577127456665039,2.5605578422546387,-16.893779754638672,-12.463022232055664,-13.525314331054688,-5.90435266494751,-10.336007118225098,-11.170184135437012,-4.671075820922852,-19.610149383544922,-20.062458038330078,6.455708980560303,-18.085615158081055,-1.8300158977508545,-0.1939781904220581,2.6864819526672363,-22.42824363708496,-17.576400756835938,-5.492518424987793,-14.507046699523926,1.965915322303772,-14.372535705566406,1.0114089250564575,-3.9612278938293457,-9.877768516540527,-10.830791473388672,-18.84858512878418,0.2940329611301422,-4.128540515899658,-6.2994208335876465,-8.36484146118164,2.4971470832824707,-12.987886428833008,-12.682955741882324,-14.445183753967285,-6.925444602966309,-6.798886775970459,-13.7322359085083,-15.034262657165527,-16.738544464111328,-8.778910636901855,5.294508457183838,-2.9148406982421875,1.3374820947647095,-7.525566577911377,-6.01939582824707,-18.937240600585938,-10.351122856140137,-6.02935791015625,-7.501700401306152,2.798518180847168,-3.9065611362457275,-2.221440315246582,-6.388537883758545,-19.023693084716797,-6.294912815093994,-4.017202377319336,-5.209899425506592,-5.780207633972168,-0.04558189585804939,-12.85725212097168,-19.437740325927734,-12.742098808288574,-5.113214015960693,-8.523294448852539,-18.071937561035156,-4.514492034912109,5.8582844734191895,-20.333982467651367,1.9504809379577637,-17.730424880981445,-13.179020881652832,-3.4155821800231934,-2.3978710174560547,-5.757508754730225,-22.0695858001709,-0.39230120182037354,-17.538311004638672,-17.546106338500977,7.5235981941223145,0.88950514793396,-19.091751098632812,-5.34904146194458,-10.17962646484375,-15.340347290039062,-0.9421499371528625,-12.595582962036133,-14.011123657226562,-6.993930816650391,-23.560396194458008,-5.7950053215026855,-9.921425819396973,-12.721878051757812,2.257427453994751,-5.6782755851745605,-8.852036476135254,-1.3441672325134277,-18.91695785522461,-11.950225830078125,-15.782013893127441,-26.022268295288086,2.5198171138763428,-22.716449737548828,-14.563708305358887,5.308905124664307,-15.272677421569824,3.551621198654175,-0.2727448046207428,1.4588491916656494,-8.386748313903809,-18.885347366333008,-5.8254313468933105,-9.9334077835083,-9.772675514221191,-15.385910034179688,-6.83272123336792,-17.155723571777344,-3.7115390300750732,-2.120081901550293,-12.43647575378418,-9.1786470413208,-14.700535774230957,-3.0259456634521484,-10.695140838623047,-10.064172744750977,-12.091588020324707,-8.735515594482422,-18.13133430480957,-8.107397079467773,-24.522785186767578,-1.896010160446167,-7.205349922180176,1.4532500505447388,5.6886515617370605,-3.0708847045898438,-7.7018938064575195,-2.540282726287842],\"type\":\"scatter\"},{\"hoverinfo\":\"text\",\"marker\":{\"line\":{\"color\":\"white\",\"width\":0.5},\"size\":15},\"mode\":\"markers\",\"name\":\"Class sci.space\",\"opacity\":0.7,\"text\":[\"ibution: world Reply-To:  (CLAUDIO OLIVEIRA EGALON) NNTP-Posting-Host: tahiti.larc.nasa.gov  There i...\",\" In \\u003c\\u003e  (Dillon Pyron) writes:   \\u003eThere are actually only two of us.  I do Henry, Fred, Tommy and Ma...\",\"tsville, AL Lines: 22  In reference to the limits of acceleration with guns launching solid rockets ...\",\"sting-Host: stein2.u.washington.edu   (Doug Loss) writes: \\u003eBesides the mechanical problems of moving...\",\"1-9760 guest) Lines: 23  In article \\u003c\\u003e  (kevin marcus) writes: \\u003eAre there any public domain or share...\",\"  (G. Patrick Molloy) Organization: NASA\\u002fMSFC Lines: 40  In article \\u003c\\u003e,   writes: \\u003e Here is a way to...\",\"15:55 GMT Nntp-Posting-Host: leo-gw Organization: Burdett, Buckeridge & Young, Melbourne, Australia ...\",\"ave before me a pertinent report from the United States General Accounting Office:  National Aero-Sp...\",\"world NNTP-Posting-Host: beach.cis.ufl.edu   Is anybody out there willing to discuss with me careers...\",\"ology Lines: 17  In article \\u003c\\u003e  (Alan Carter) writes: \\u003e|\\u003e ... a NO-OP command was sent to reset the ...\",\": Texas Instruments Inc Lines: 22  In \\u003c\\u003e  (Allen W. Sherzer) writes:  \\u003eDepends. If you assume the ex...\",\"station, constellation Article-I.D.: techbook.C51z6E.CL1 Organization: TECHbooks --- Public Access U...\",\"rticle \\u003c\\u003e,  (Layne Cook) writes: \\u003e All of this talk about a COMMERCIAL space race (i.e. $1G to the f...\",\"Lewis Research Center \\u002f Cleveland, Ohio Lines: 30 Distribution: world NNTP-Posting-Host: tm0006.lerc...\",\" Ontario, London Nntp-Posting-Host: prism.engrg.uwo.ca Lines: 9  \\tHmmm. I seem to recall that the at...\",\"on: world NNTP-Posting-Host: kelvin.jpl.nasa.gov News-Software: VAX\\u002fVMS VNEWS 1.41      In article \\u003c...\",\"siana Lines: 43   (Brian Yamauchi) writes:  \\u003eAny comments on the absorbtion of the Office of Explora...\",\"NTP-Posting-Host: access.digex.net  In article \\u003c\\u003e  (Henry Spencer) writes: \\u003eIn article \\u003c1ppm7j$\\u003e  (P...\",\"ons, Greenbelt, MD USA Lines: 33 Distribution: world NNTP-Posting-Host: access.digex.net Keywords: M...\",\"ne know how to size cold gas roll control thruster tanks for sounding rockets?  Thanks in advance, J...\",\"BM, Federal Systems Co. Software Services Disclaimer: This posting represents the poster's views, no...\",\"tional Space University] Original-Sender:  Distribution: sci Lines: 124   McDonnell Douglas rolls ou...\",\"ing-Host: tm0006.lerc.nasa.gov Organization: NASA Lewis Research Center \\u002f Cleveland, Ohio Lines: 71 ...\",\"n, VA 22090 Lines: 16  In article \\u003c\\u003e  writes: \\u003eThis might a real wierd idea or maybe not.. \\u003e \\u003e \\u003eWhy ...\",\" LLNL Lines: 96 Distribution: world NNTP-Posting-Host: s1.gov   (Brian Yamauchi) writes: \\u003e (Enzo Lig...\",\"s USA Lines: 23 Distribution: world NNTP-Posting-Host: access.digex.net  In article \\u003c\\u003e  (Ron Baalke)...\",\" 26  \\u003c\\u003e  writes:  \\u003eSo some of my ideas are a bit odd, off the wall and such, but so was Wilbur and \\u003e...\",\"du Organization: Northwestern University, Evanston Illinois. Lines: 45  In article \\u003c\\u003e  (James Thomas...\",\"State University, San Luis Obispo Lines: 51  Why do spacecraft have to be shut off after funding cut...\",\"7 GMT Organization: Simon Fraser University X-Useragent: Nuntius v1.1.1d17 Lines: 15  In article \\u003c\\u003e ...\",\"ines: 15 Distribution: world NNTP-Posting-Host: kelvin.jpl.nasa.gov News-Software: VAX\\u002fVMS VNEWS 1.4...\",\"nic State University, San Luis Obispo Lines: 31  \\u003eIn article \\u003c\\u003e  (Victor Laking) writes: \\u003e\\u003e (Victor ...\",\"Lines: 42 \\t\\u003c\\u003e \\t\\u003c\\u003e NNTP-Posting-Host: topaz.ucsc.edu In-reply-to: 's message of 20 Apr 93 22:38:07 GM...\",\"ines: 44   (Craig Keithley) writes: \\u003e \\u003e All in all, I'm not certain that the single goal\\u002fprize of st...\",\"nization: Netcom Online Communications Services (408-241-9760 login: guest) Lines: 9     I might sug...\",\"tion: Fermi National Accelerator Laboratory Lines: 25 Distribution: na NNTP-Posting-Host: fnalf.fnal...\",\"tsville, AL Lines: 72   Okay, lets get the record straight on the Livermore gas gun.   The project m...\",\"world NNTP-Posting-Host: kelvin.jpl.nasa.gov News-Software: VAX\\u002fVMS VNEWS 1.41      Forwarded from J...\",\"Research Center Lines: 14 Distribution: world Reply-To:  (CLAUDIO OLIVEIRA EGALON) NNTP-Posting-Host...\",\"banks Lines: 11 Nntp-Posting-Host: acad3.alaska.edu  Is there a few Grasp pictures of space related ...\",\"ci Lines: 10  The Apollo astronauts also trained at (in) Meteor Crater in the Flagstaff area (Arizon...\",\"-Posting-Host: access.digex.net  In article \\u003c\\u003e  (George F. Krumins) writes: \\u003eIt is so typical that t...\",\"-408-734-2289 Lines: 20   (Doug Mohney) writes:  \\u003e Allen, sometimes I think you're OK.  And sometime...\",\"ting-Host: access.digex.net Keywords: food  dillon comments that Space Food Sticks may have bad dige...\",\"h Carolina, Chapel Hill Lines: 95 Distribution: world Expires: 6 May 1993 19:57:55 GMT NNTP-Posting-...\",\"Lines: 25 NNTP-Posting-Host: access.digex.net  In article \\u003c\\u003e  (fred j mccall 575-3539) writes: | |I ...\",\"celerator Laboratory Lines: 24 NNTP-Posting-Host: fnalf.fnal.gov  In article \\u003c\\u003e,  (Charles J. Divine...\",\"eplerian Nntp-Posting-Host: scgraph.afit.af.mil Organization: Air Force Institute of Technology Line...\",\"ines: 8  If all of these things have been detected in space, has anyone looked into possible problem...\",\".1 Organization: University of Alaska Fairbanks Lines: 21 Nntp-Posting-Host: acad3.alaska.edu  In ar...\",\"Lines: 31  In article \\u003c\\u003e Callec Dradja \\u003c\\u003e writes: \\u003eI am a bit nervous about posting this beacause it...\",\"ne Communications, Greenbelt MD USA Lines: 9 Distribution: na NNTP-Posting-Host: access.digex.net   ...\",\"t) writes: \\u003ewhat ever happened to the hypothesis  that the shuttle flight software \\u003ewas a major fact...\",\"munications USA Lines: 20 NNTP-Posting-Host: access.digex.net Keywords: Galileo, JPL    INteresting ...\",\".1 Organization: University of Alaska Fairbanks Lines: 33 Nntp-Posting-Host: acad3.alaska.edu  In ar...\",\"n Schiewer) writes: \\u003eWhat is the deal with life on Mars?  I save the \\\"face\\\" and heard  \\u003eassociated t...\",\"oratory Lines: 22 Distribution: world NNTP-Posting-Host: kelvin.jpl.nasa.gov Keywords: Galileo, JPL ...\",\"ganization: Univ. of Southwestern Louisiana Lines: 22   (Rob Unverzagt) writes:  \\u003eIn article \\u003c\\u003e  (Ro...\",\"Organization: [via International Space University] Original-Sender:  Distribution: sci Lines: 28   \\t...\",\"on: Fermi National Accelerator Laboratory Lines: 22 Distribution: world NNTP-Posting-Host: fnalf.fna...\",\"rganization?  You must be kidding. Lines: 35 NNTP-Posting-Host: aerospace.aero.org  In article \\u003c1pr5...\",\" Lines: 114    ARIANESPACE FLIGHT 56  (Flight V.56 was originally intended to carry the Hughes HS-60...\",\"Reply-To:  Organization: TI\\u002fDSEG VAX Support   In article \\u003c\\u003e,  (John Elson) writes: \\u003eHas anyone ever...\",\"mes Research Center Distribution: na Lines: 14   (Pat) writes:   \\u003eAW&ST  had a brief blurb on a Mann...\",\" MA 01609-2280 Lines: 11 NNTP-Posting-Host: wpi.wpi.edu   \\tI am looking for any information about th...\",\"n: stanford Lines: 38  In article \\u003c\\u003e,  (Brian Yamauchi) writes: |\\u003e \\u003eNASA would provide contractual l...\",\"Sci. Lines: 22   And one of my profs is the chief engineer for the project (Dr. Ron Humble, Univ. Co...\",\"st?  \\u003c\\u003e \\u003c\\u003e  \\u003c\\u003e \\u003c\\u003e  \\u003c\\u003e \\u003c\\u003e Lines: 38  In article \\u003c\\u003e,  (Gary Coffman) says: \\u003eIn article \\u003c\\u003e Graydon \\u003e\\u003c\\u003e ...\",\"call 575-3539) writes: \\u003e\\u003e\\u003e(given that I've heard the Shuttle software rated as Level 5 ... \\u003e\\u003eLevel 5...\",\"on: [via International Space University] Original-Sender:  Distribution: sci Lines: 21  on Date: Sat...\",\"kn6rINNett Reply-To:  Distribution: world Organization: Computer Aided Design Lab, U. of Maryland Co...\",\"n article \\u003c\\u003e  writes: \\u003eHere is a way to get the commericial companies into space and mineral \\u003eexplor...\",\"ization: University of Illinois at Urbana Lines: 18   (Pat) writes:  \\u003eAW&ST  had a brief blurb on a ...\",\"University of Alaska Fairbanks  In article \\u003c\\u003e,  (Doug Mohney) writes: \\u003e In article \\u003c\\u003e,  (Henry Spenc...\",\"] Original-Sender:  Distribution: sci Lines: 14   \\u003eIf all the ecomomists in the world were laid end ...\",\"na Lines: 35  In \\u003c\\u003e  (Elijah Millgram) writes:   \\u003eA friend of mine and I were wondering where the ex...\",\"Lines: 26 \\t\\u003c\\u003e\\t\\u003c\\u003e\\t\\u003c\\u003e,\\u003c\\u003e \\t\\u003c\\u003e NNTP-Posting-Host: topaz.ucsc.edu In-reply-to: 's message of 21 Apr 1993 ...\",\"s: 17       I've been following discussions about the Delta Clipper program, and I have one small qu...\",\"nes: 25 NNTP-Posting-Host: access.digex.net  In article \\u003c\\u003e  writes: \\u003eIn article \\u003c1r6b7v$\\u003e,  (Pat) wr...\",\"4  In article \\u003c\\u003e,  (Henry Spencer) wrote: \\u003e  \\u003e The major component of any realistic plan to go to th...\",\"\\u003e  (Steve Collins) writes: \\u003eThe difficulties of a high Isp OTV include... \\u003eIf you go solar, you have...\",\"ace University] Original-Sender:  Distribution: sci Lines: 189  \\u003e\\u003eNick sez; I'm not very impressed b...\",\"ada Lines: 20   \\u003e \\u003e \\u003e Also, peri[jove]s of Gehrels3 were: \\u003e \\u003e \\u003e  \\u003e \\u003e \\u003e April  1973     83 jupiter ra...\",\"\\u003c\\u003e  (CLAUDIO OLIVEIRA EGALON) writes: \\u003e\\u003e there is no such thing as a stable lunar orbit \\u003e \\u003eIs it rig...\",\" Flight Center - Robotics Lab Lines: 26 News-Software: VAX\\u002fVMS VNEWS 1.4-b1  In article \\u003c\\u003e,  (Garret...\",\"GMT Organization: National Radio Astronomy Observatory Lines: 32  It is usually possible to reach pe...\",\" Space University] Original-Sender:  Distribution: sci Lines: 58      Joint Press release ESA\\u002fUN No ...\",\"6.14123 Organization: Evil Geniuses for a Better Tomorrow Lines: 22  In article \\u003c\\u003e  (Josh Hopkins) w...\",\"sted this over in sci.astro, but it didn't make it here. Thought you all would like my wonderful pit...\",\"Shuttle Program Office  X-Newsreader: TIN [version 1.1 PL8] Lines: 40   (Hey, that's me!) wrote: : I...\",\"ity of North Carolina, Chapel Hill Lines: 36 Distribution: world Expires: 7 May 1993 17:25:40 GMT NN...\",\"ience Computer Network, Denver, Co. Lines: 5  The Apollo program cost something like $25 billion at ...\",\"ines: 20 Distribution: world NNTP-Posting-Host: gargravarr.cc.utexas.edu X-UserAgent: Nuntius v1.1.1...\",\" 'Lectronic Link Lines: 29   The difficulties of a high Isp OTV include: Long transfer times (radiat...\",\"Mathematics, University of Adelaide Lines: 25  In article \\u003c1pfkf5$\\u003e  (Pat) writes:  \\u003eOnly one proble...\",\"tion: Dynamic Graphics Inc. Lines: 10 Distribution: usa NNTP-Posting-Host: opus.dgi.com  Sorry but I...\",\" 15 NNTP-Posting-Host: bigwpi.wpi.edu    Hello everyone,  \\tI was hoping someone could help me out.  ...\",\"(David M. Palmer) writes: \\u003e\\u003eorbiting billboard... \\u003e \\u003eI would just like to point out that it is much ...\",\"on: Destructive Testing Systems Lines: 63  In article \\u003c\\u003e Graydon \\u003c\\u003e writes: \\u003eIn article \\u003c\\u003e,  (Gary C...\",\"tp-Posting-Host: prism.engrg.uwo.ca Lines: 15  In article \\u003c\\u003e  (Nick Haines) writes: \\u003e \\u003eWould they bu...\",\"s at Urbana Lines: 42   (Keith Mancus) writes:  \\u003e (Layne Cook) writes: \\u003e\\u003e All of this talk about a C...\",\"on: world NNTP-Posting-Host: kelvin.jpl.nasa.gov Keywords: Galileo, JPL News-Software: VAX\\u002fVMS VNEWS...\",\"Louisiana Lines: 28   (Mark Brader) writes:   \\u003eThanks again.  One final question.  The name Gehrels ...\",\"P-Posting-Host: access.digex.net  In article \\u003c1r6f3a$\\u003e  (Rouben Rostamian) writes: \\u003ehow the length o...\",\"zation: [via International Space University] Original-Sender:  Distribution: sci Lines: 55  Apologie...\",\"8  In article \\u003c\\u003e  (Gary Coffman) writes:   \\u003e be the site of major commercial activity. As far as we ...\",\" 13  A brief political\\u002fcultural item.  Radio station WGMS in Washington is a classical music station...\",\" Lines: 13 Reply-To:  NNTP-Posting-Host: queen.eng.umd.edu  In article \\u003c\\u003e,  (Henry Spencer) writes: ...\",\"or in original version of preceding line at VACATION.VENARI.CS.CMU.EDU Organization: [via Internatio...\",\"x, Inc., Beaverton,  OR. Lines: 31   ----- News saved at 23 Apr 93 22:22:40 GMT In article \\u003c\\u003e  (Davi...\",\"e Communications USA Lines: 19 NNTP-Posting-Host: access.digex.net  In article \\u003c\\u003e  (Achurist) writes...\",\"ronto Zoology Lines: 15  In article \\u003c\\u003e  (Allen W. Sherzer) writes: \\u003eThis prize isn't big enough to w...\",\"-Posting-Host: 145.1.146.43 Lines: 59  I am posting this for a friend without internet access. Pleas...\",\"ization: University of Alaska Fairbanks Lines: 55 Nntp-Posting-Host: acad3.alaska.edu  In article \\u003c\\u003e...\",\" University of Alaska Fairbanks Lines: 28 Nntp-Posting-Host: acad3.alaska.edu  That is an idea.. The...\",\" Organization: TI\\u002fDSEG VAX Support   In article \\u003c\\u003e,  (John F. Woods) writes: \\u003e (Norman Anderson) wri...\",\"stribution: world NNTP-Posting-Host: kelvin.jpl.nasa.gov Keywords: HST, Pluto, Uranus News-Software:...\",\" Institute Lines: 42  In article \\u003c\\u003e,   (Victor Laking) writes: \\u003e Does anyone have any info on the ap...\",\"ust one step further: \\u003eHow has the word \\\"Clementine\\\" been associated with mining?    Old pioneer son...\",\"y of Alaska Fairbanks Lines: 21 Nntp-Posting-Host: acad3.alaska.edu  In article \\u003c\\u003e,  (Henry Spencer)...\",\"n: sci NNTP-Posting-Host: access.digex.net    I am sure  Mary or Henry can describe this more aptly ...\",\"-Posting-Host: cs.utexas.edu  In article \\u003c1raee7$\\u003e  (Pat) writes: \\u003eIn article \\u003c\\u003e  (Ron Baalke) write...\",\"es: 14  In \\u003c\\u003e  writes:  \\u003eSince the DC-X is to take off horizontal, why not land that way?? \\u003eWhy do t...\",\"h Center Lines: 16 Distribution: world Reply-To:  (CLAUDIO OLIVEIRA EGALON) NNTP-Posting-Host: tahit...\",\"ines: 35  In article \\u003c1rd1g0$\\u003e  (Pat) writes: \\u003eHow will said re-boost be done? \\u003eGrapple, HST,  stow ...\",\" Lines: 56 NNTP-Posting-Host: fnalf.fnal.gov  In article \\u003c\\u003e,  (Frank J. Snyder) writes: \\u003e I am looki...\",\"sh Hopkins) writes: \\u003e (Keith Mancus) writes: \\u003e\\u003e (Layne Cook) writes: \\u003e\\u003e\\u003e The $25k Orteig prize helpe...\",\"lina State University, Project Eos Lines: 21   Hi all,      I'm trying to get mailing addresses for ...\",\"5-7155 v.32\\u002fv.42bis Lines: 27  In article \\u003c\\u003e mwm+@cs.cmu.edu (Mark Maimone) writes: \\u003eIn article \\u003c\\u003e  ...\",\"IO OLIVEIRA EGALON) Distribution: world Organization: NASA Langley Research Center, Hampton, VA  USA...\",\"ding orbital billboards...] \\u003eAnd does anyone have any more details other than what was in the WN \\u003ene...\",\"ion: Muppet Labs Lines: 27  In article \\u003c\\u003e  (fred j mccall 575-3539) writes: \\u003eIn \\u003c\\u003e  (David McAloon) ...\",\"s: 13 Distribution: world Reply-To:  (CLAUDIO OLIVEIRA EGALON) NNTP-Posting-Host: tahiti.larc.nasa.g...\",\"ator:  Nntp-Posting-Host: snow.fox.cs.cmu.edu Organization: School of Computer Science, Carnegie Mel...\",\"NTP-Posting-Host: access.digex.net  In article \\u003c\\u003e  (fred j mccall 575-3539) writes: \\u003eisn't my real n...\",\"ines: 13  In article \\u003c1r6aqr$\\u003e  (Pat) writes: #The better question  should be. #Why not transfer  O&...\",\"Lines: 39 NNTP-Posting-Host: alumni.caltech.edu   (Matthew DeLuca) writes:  \\u003eIn article \\u003c\\u003e  (David \\\"...\",\" Lines: 22 Reply-To:  NNTP-Posting-Host: queen.eng.umd.edu  In article \\u003c\\u003e,  (Allen W. Sherzer) write...\",\"Baltimore MD Lines: 14  Another fish to check out is Richard Rast -- he works for Lockheed Missiles,...\",\"e Centaur is controlled technology.. State Dept will not allow it to be used outside of US. Sorry. \\u003e...\",\"ept. of Energy, Mines, and Resources, Ottawa Lines: 15  As for SF and advertising in space. There is...\",\"ty of Victoria, Victoria, BC, Canada Lines: 33  In article \\u003c1qjs1j$\\u003e  (Pat) writes: \\u003e \\u003e \\u003eIn the old ...\",\"s: 111        Ethnocentric USian that I am, I've assumed that we and the xUSSR were the only countri...\",\"lorado State University -=- Computer Science Dept. Lines: 11  Is the film from the \\\"putt-putt\\\" test ...\",\"osting-Host: pa881a Nntp-Posting-User: schiewer Lines: 9  What is the deal with life on Mars?  I sav...\",\"ing-Host: access.digex.net   Well thank you dennis for your as usual highly detailed and informative...\",\"sity of California, Irvine Lines: 30  Actually, they are legal! I not familiar with the ad you are s...\",\"Riverside Lines: 82 Nntp-Posting-Host: guitar.ucr.edu  There is an interesting opinion piece in the ...\",\" I need as much information about Cosmos 2238 and its rocket fragment (1993- 018B) as possible. Both...\",\"Greenbelt Maryland Lines: 23  Reported yesterday in the Washington Post (Kathy Sawyer, writer):  The...\"],\"x\":[8.924629211425781,19.38276481628418,9.322131156921387,27.072656631469727,7.568774223327637,17.394315719604492,-10.579792022705078,0.8704469203948975,4.4454569816589355,-0.08724676072597504,10.607649803161621,3.518026113510132,13.69349193572998,4.32415246963501,1.968246579170227,17.917713165283203,-7.628927707672119,-1.8179675340652466,9.317440032958984,-2.05015230178833,-3.7485878467559814,1.2667763233184814,4.620522499084473,5.356750011444092,9.294563293457031,9.88971996307373,24.669689178466797,15.235170364379883,5.966286659240723,9.033047676086426,6.177697658538818,15.363109588623047,14.379913330078125,12.942867279052734,3.3639261722564697,12.949378967285156,6.822941780090332,11.929876327514648,16.652029037475586,6.814701557159424,10.639251708984375,-8.856253623962402,7.765524864196777,38.3849983215332,20.798906326293945,5.630993366241455,-3.5362632274627686,0.2337937206029892,10.809782981872559,11.509387016296387,27.34156036376953,11.098601341247559,11.938467025756836,1.4442169666290283,11.267267227172852,20.88181495666504,-0.0698334276676178,10.233863830566406,12.925688743591309,14.110637664794922,38.3110466003418,2.112149953842163,38.33547592163086,11.432433128356934,4.8165740966796875,9.550028800964355,12.55795669555664,13.565593719482422,-3.597073793411255,7.785804748535156,13.768328666687012,17.57814598083496,12.163954734802246,7.349108695983887,17.077119827270508,-5.188958168029785,11.968339920043945,0.7127082943916321,17.926610946655273,10.298870086669922,-0.8098896145820618,13.911514282226562,10.614641189575195,17.77826690673828,3.3089449405670166,4.111782073974609,6.367437362670898,8.115649223327637,11.333478927612305,3.702608823776245,1.6498172283172607,11.827613830566406,3.7167270183563232,-0.6191856861114502,16.89834213256836,-17.581083297729492,-0.028586968779563904,2.9802157878875732,13.86106014251709,9.802470207214355,13.296334266662598,1.1415221691131592,10.473615646362305,-4.492855548858643,12.912357330322266,14.180505752563477,7.265223979949951,8.291714668273926,5.304527282714844,18.835851669311523,27.854846954345703,10.088323593139648,5.9428300857543945,16.611927032470703,12.498137474060059,-5.297482490539551,12.25625228881836,15.38351058959961,14.125213623046875,-11.31494140625,-5.683033466339111,7.805397987365723,0.4814207851886749,15.34673023223877,1.3240059614181519,7.20348596572876,13.953082084655762,4.179352760314941,5.319637775421143,-4.335583209991455,8.517046928405762,18.116601943969727,17.872764587402344,11.99914836883545,19.294591903686523,7.249661922454834,3.1210381984710693,7.543888092041016,8.7191801071167,-2.057807207107544,9.058935165405273,17.602510452270508,-3.8986570835113525,9.3037691116333,20.835081100463867,-1.9166816473007202,8.792875289916992,19.253496170043945,3.3265275955200195,4.609063148498535],\"y\":[4.715587139129639,-1.0016359090805054,-8.265027046203613,1.3330808877944946,0.9109266400337219,15.705530166625977,-6.944913864135742,3.804215908050537,6.197879791259766,7.733730316162109,18.61107635498047,12.15966510772705,16.398971557617188,9.473772048950195,24.178508758544922,20.200345993041992,13.117926597595215,4.1120524406433105,16.361268997192383,-0.16991491615772247,7.590060710906982,14.10861873626709,10.011889457702637,11.107544898986816,11.938898086547852,2.2429802417755127,-4.28653621673584,19.690113067626953,15.292646408081055,-2.881056308746338,15.235750198364258,1.439706802368164,23.111600875854492,18.2442684173584,13.201140403747559,9.136178016662598,-8.963701248168945,4.288180828094482,9.967647552490234,7.711087226867676,6.348700046539307,9.907930374145508,21.479442596435547,6.4512810707092285,2.4111928939819336,19.750703811645508,11.169820785522461,1.6890230178833008,-1.2399466037750244,17.040485382080078,0.9048881530761719,7.788590431213379,-3.086604356765747,8.316343307495117,18.23765754699707,7.541909217834473,7.605975151062012,2.3176093101501465,2.3482377529144287,-0.9420121908187866,7.495421409606934,15.926390647888184,7.107682704925537,7.790228843688965,5.287709712982178,12.447479248046875,-7.410820484161377,19.999191284179688,7.508932113647461,-8.804536819458008,-1.0328298807144165,14.384398460388184,8.317693710327148,19.24726676940918,4.8437957763671875,3.6238248348236084,21.250242233276367,23.059473037719727,15.197698593139648,20.35167694091797,17.776674270629883,10.225197792053223,0.733068585395813,21.34842872619629,4.165994644165039,1.3433820009231567,3.4662492275238037,22.2570743560791,12.283212661743164,-5.509305953979492,0.033995307981967926,19.13119888305664,-5.59385871887207,17.564266204833984,10.0179443359375,-6.420655727386475,0.9729253053665161,17.883525848388672,19.81138038635254,13.68602180480957,15.908207893371582,7.237858295440674,0.2851317524909973,-1.2254163026809692,6.431445121765137,22.265518188476562,10.49588680267334,19.20277214050293,3.038642406463623,2.6418235301971436,0.9170122146606445,18.190706253051758,6.005573749542236,16.325008392333984,17.313928604125977,8.12782096862793,1.6232558488845825,1.4847217798233032,4.4015021324157715,-7.731706142425537,3.116011381149292,-2.925043821334839,22.757869720458984,-0.24461618065834045,11.555282592773438,0.02177266962826252,15.782451629638672,0.2555782198905945,1.696406364440918,4.232666969299316,11.034467697143555,3.393789529800415,21.559457778930664,13.991938591003418,-0.9929686784744263,15.17389965057373,17.95751190185547,19.9636173248291,4.8926215171813965,12.574857711791992,10.595087051391602,3.650846481323242,-6.817643165588379,-3.687602996826172,7.6196608543396,12.831859588623047,-8.244339942932129,4.591770648956299,3.3290059566497803,11.652563095092773],\"type\":\"scatter\"}],                        {\"height\":800,\"hovermode\":\"closest\",\"template\":{\"data\":{\"barpolar\":[{\"marker\":{\"line\":{\"color\":\"#E5ECF6\",\"width\":0.5},\"pattern\":{\"fillmode\":\"overlay\",\"size\":10,\"solidity\":0.2}},\"type\":\"barpolar\"}],\"bar\":[{\"error_x\":{\"color\":\"#2a3f5f\"},\"error_y\":{\"color\":\"#2a3f5f\"},\"marker\":{\"line\":{\"color\":\"#E5ECF6\",\"width\":0.5},\"pattern\":{\"fillmode\":\"overlay\",\"size\":10,\"solidity\":0.2}},\"type\":\"bar\"}],\"carpet\":[{\"aaxis\":{\"endlinecolor\":\"#2a3f5f\",\"gridcolor\":\"white\",\"linecolor\":\"white\",\"minorgridcolor\":\"white\",\"startlinecolor\":\"#2a3f5f\"},\"baxis\":{\"endlinecolor\":\"#2a3f5f\",\"gridcolor\":\"white\",\"linecolor\":\"white\",\"minorgridcolor\":\"white\",\"startlinecolor\":\"#2a3f5f\"},\"type\":\"carpet\"}],\"choropleth\":[{\"colorbar\":{\"outlinewidth\":0,\"ticks\":\"\"},\"type\":\"choropleth\"}],\"contourcarpet\":[{\"colorbar\":{\"outlinewidth\":0,\"ticks\":\"\"},\"type\":\"contourcarpet\"}],\"contour\":[{\"colorbar\":{\"outlinewidth\":0,\"ticks\":\"\"},\"colorscale\":[[0.0,\"#0d0887\"],[0.1111111111111111,\"#46039f\"],[0.2222222222222222,\"#7201a8\"],[0.3333333333333333,\"#9c179e\"],[0.4444444444444444,\"#bd3786\"],[0.5555555555555556,\"#d8576b\"],[0.6666666666666666,\"#ed7953\"],[0.7777777777777778,\"#fb9f3a\"],[0.8888888888888888,\"#fdca26\"],[1.0,\"#f0f921\"]],\"type\":\"contour\"}],\"heatmapgl\":[{\"colorbar\":{\"outlinewidth\":0,\"ticks\":\"\"},\"colorscale\":[[0.0,\"#0d0887\"],[0.1111111111111111,\"#46039f\"],[0.2222222222222222,\"#7201a8\"],[0.3333333333333333,\"#9c179e\"],[0.4444444444444444,\"#bd3786\"],[0.5555555555555556,\"#d8576b\"],[0.6666666666666666,\"#ed7953\"],[0.7777777777777778,\"#fb9f3a\"],[0.8888888888888888,\"#fdca26\"],[1.0,\"#f0f921\"]],\"type\":\"heatmapgl\"}],\"heatmap\":[{\"colorbar\":{\"outlinewidth\":0,\"ticks\":\"\"},\"colorscale\":[[0.0,\"#0d0887\"],[0.1111111111111111,\"#46039f\"],[0.2222222222222222,\"#7201a8\"],[0.3333333333333333,\"#9c179e\"],[0.4444444444444444,\"#bd3786\"],[0.5555555555555556,\"#d8576b\"],[0.6666666666666666,\"#ed7953\"],[0.7777777777777778,\"#fb9f3a\"],[0.8888888888888888,\"#fdca26\"],[1.0,\"#f0f921\"]],\"type\":\"heatmap\"}],\"histogram2dcontour\":[{\"colorbar\":{\"outlinewidth\":0,\"ticks\":\"\"},\"colorscale\":[[0.0,\"#0d0887\"],[0.1111111111111111,\"#46039f\"],[0.2222222222222222,\"#7201a8\"],[0.3333333333333333,\"#9c179e\"],[0.4444444444444444,\"#bd3786\"],[0.5555555555555556,\"#d8576b\"],[0.6666666666666666,\"#ed7953\"],[0.7777777777777778,\"#fb9f3a\"],[0.8888888888888888,\"#fdca26\"],[1.0,\"#f0f921\"]],\"type\":\"histogram2dcontour\"}],\"histogram2d\":[{\"colorbar\":{\"outlinewidth\":0,\"ticks\":\"\"},\"colorscale\":[[0.0,\"#0d0887\"],[0.1111111111111111,\"#46039f\"],[0.2222222222222222,\"#7201a8\"],[0.3333333333333333,\"#9c179e\"],[0.4444444444444444,\"#bd3786\"],[0.5555555555555556,\"#d8576b\"],[0.6666666666666666,\"#ed7953\"],[0.7777777777777778,\"#fb9f3a\"],[0.8888888888888888,\"#fdca26\"],[1.0,\"#f0f921\"]],\"type\":\"histogram2d\"}],\"histogram\":[{\"marker\":{\"pattern\":{\"fillmode\":\"overlay\",\"size\":10,\"solidity\":0.2}},\"type\":\"histogram\"}],\"mesh3d\":[{\"colorbar\":{\"outlinewidth\":0,\"ticks\":\"\"},\"type\":\"mesh3d\"}],\"parcoords\":[{\"line\":{\"colorbar\":{\"outlinewidth\":0,\"ticks\":\"\"}},\"type\":\"parcoords\"}],\"pie\":[{\"automargin\":true,\"type\":\"pie\"}],\"scatter3d\":[{\"line\":{\"colorbar\":{\"outlinewidth\":0,\"ticks\":\"\"}},\"marker\":{\"colorbar\":{\"outlinewidth\":0,\"ticks\":\"\"}},\"type\":\"scatter3d\"}],\"scattercarpet\":[{\"marker\":{\"colorbar\":{\"outlinewidth\":0,\"ticks\":\"\"}},\"type\":\"scattercarpet\"}],\"scattergeo\":[{\"marker\":{\"colorbar\":{\"outlinewidth\":0,\"ticks\":\"\"}},\"type\":\"scattergeo\"}],\"scattergl\":[{\"marker\":{\"colorbar\":{\"outlinewidth\":0,\"ticks\":\"\"}},\"type\":\"scattergl\"}],\"scattermapbox\":[{\"marker\":{\"colorbar\":{\"outlinewidth\":0,\"ticks\":\"\"}},\"type\":\"scattermapbox\"}],\"scatterpolargl\":[{\"marker\":{\"colorbar\":{\"outlinewidth\":0,\"ticks\":\"\"}},\"type\":\"scatterpolargl\"}],\"scatterpolar\":[{\"marker\":{\"colorbar\":{\"outlinewidth\":0,\"ticks\":\"\"}},\"type\":\"scatterpolar\"}],\"scatter\":[{\"fillpattern\":{\"fillmode\":\"overlay\",\"size\":10,\"solidity\":0.2},\"type\":\"scatter\"}],\"scatterternary\":[{\"marker\":{\"colorbar\":{\"outlinewidth\":0,\"ticks\":\"\"}},\"type\":\"scatterternary\"}],\"surface\":[{\"colorbar\":{\"outlinewidth\":0,\"ticks\":\"\"},\"colorscale\":[[0.0,\"#0d0887\"],[0.1111111111111111,\"#46039f\"],[0.2222222222222222,\"#7201a8\"],[0.3333333333333333,\"#9c179e\"],[0.4444444444444444,\"#bd3786\"],[0.5555555555555556,\"#d8576b\"],[0.6666666666666666,\"#ed7953\"],[0.7777777777777778,\"#fb9f3a\"],[0.8888888888888888,\"#fdca26\"],[1.0,\"#f0f921\"]],\"type\":\"surface\"}],\"table\":[{\"cells\":{\"fill\":{\"color\":\"#EBF0F8\"},\"line\":{\"color\":\"white\"}},\"header\":{\"fill\":{\"color\":\"#C8D4E3\"},\"line\":{\"color\":\"white\"}},\"type\":\"table\"}]},\"layout\":{\"annotationdefaults\":{\"arrowcolor\":\"#2a3f5f\",\"arrowhead\":0,\"arrowwidth\":1},\"autotypenumbers\":\"strict\",\"coloraxis\":{\"colorbar\":{\"outlinewidth\":0,\"ticks\":\"\"}},\"colorscale\":{\"diverging\":[[0,\"#8e0152\"],[0.1,\"#c51b7d\"],[0.2,\"#de77ae\"],[0.3,\"#f1b6da\"],[0.4,\"#fde0ef\"],[0.5,\"#f7f7f7\"],[0.6,\"#e6f5d0\"],[0.7,\"#b8e186\"],[0.8,\"#7fbc41\"],[0.9,\"#4d9221\"],[1,\"#276419\"]],\"sequential\":[[0.0,\"#0d0887\"],[0.1111111111111111,\"#46039f\"],[0.2222222222222222,\"#7201a8\"],[0.3333333333333333,\"#9c179e\"],[0.4444444444444444,\"#bd3786\"],[0.5555555555555556,\"#d8576b\"],[0.6666666666666666,\"#ed7953\"],[0.7777777777777778,\"#fb9f3a\"],[0.8888888888888888,\"#fdca26\"],[1.0,\"#f0f921\"]],\"sequentialminus\":[[0.0,\"#0d0887\"],[0.1111111111111111,\"#46039f\"],[0.2222222222222222,\"#7201a8\"],[0.3333333333333333,\"#9c179e\"],[0.4444444444444444,\"#bd3786\"],[0.5555555555555556,\"#d8576b\"],[0.6666666666666666,\"#ed7953\"],[0.7777777777777778,\"#fb9f3a\"],[0.8888888888888888,\"#fdca26\"],[1.0,\"#f0f921\"]]},\"colorway\":[\"#636efa\",\"#EF553B\",\"#00cc96\",\"#ab63fa\",\"#FFA15A\",\"#19d3f3\",\"#FF6692\",\"#B6E880\",\"#FF97FF\",\"#FECB52\"],\"font\":{\"color\":\"#2a3f5f\"},\"geo\":{\"bgcolor\":\"white\",\"lakecolor\":\"white\",\"landcolor\":\"#E5ECF6\",\"showlakes\":true,\"showland\":true,\"subunitcolor\":\"white\"},\"hoverlabel\":{\"align\":\"left\"},\"hovermode\":\"closest\",\"mapbox\":{\"style\":\"light\"},\"paper_bgcolor\":\"white\",\"plot_bgcolor\":\"#E5ECF6\",\"polar\":{\"angularaxis\":{\"gridcolor\":\"white\",\"linecolor\":\"white\",\"ticks\":\"\"},\"bgcolor\":\"#E5ECF6\",\"radialaxis\":{\"gridcolor\":\"white\",\"linecolor\":\"white\",\"ticks\":\"\"}},\"scene\":{\"xaxis\":{\"backgroundcolor\":\"#E5ECF6\",\"gridcolor\":\"white\",\"gridwidth\":2,\"linecolor\":\"white\",\"showbackground\":true,\"ticks\":\"\",\"zerolinecolor\":\"white\"},\"yaxis\":{\"backgroundcolor\":\"#E5ECF6\",\"gridcolor\":\"white\",\"gridwidth\":2,\"linecolor\":\"white\",\"showbackground\":true,\"ticks\":\"\",\"zerolinecolor\":\"white\"},\"zaxis\":{\"backgroundcolor\":\"#E5ECF6\",\"gridcolor\":\"white\",\"gridwidth\":2,\"linecolor\":\"white\",\"showbackground\":true,\"ticks\":\"\",\"zerolinecolor\":\"white\"}},\"shapedefaults\":{\"line\":{\"color\":\"#2a3f5f\"}},\"ternary\":{\"aaxis\":{\"gridcolor\":\"white\",\"linecolor\":\"white\",\"ticks\":\"\"},\"baxis\":{\"gridcolor\":\"white\",\"linecolor\":\"white\",\"ticks\":\"\"},\"bgcolor\":\"#E5ECF6\",\"caxis\":{\"gridcolor\":\"white\",\"linecolor\":\"white\",\"ticks\":\"\"}},\"title\":{\"x\":0.05},\"xaxis\":{\"automargin\":true,\"gridcolor\":\"white\",\"linecolor\":\"white\",\"ticks\":\"\",\"title\":{\"standoff\":15},\"zerolinecolor\":\"white\",\"zerolinewidth\":2},\"yaxis\":{\"automargin\":true,\"gridcolor\":\"white\",\"linecolor\":\"white\",\"ticks\":\"\",\"title\":{\"standoff\":15},\"zerolinecolor\":\"white\",\"zerolinewidth\":2}}},\"title\":{\"text\":\"Embedding Plot with Class Labels\"},\"width\":1200,\"xaxis\":{\"showgrid\":false,\"showticklabels\":false,\"zeroline\":false},\"yaxis\":{\"showgrid\":false,\"showticklabels\":false,\"zeroline\":false}},                        {\"displayModeBar\": false, \"responsive\": true}                    ).then(function(){\n",
       "                            \n",
       "var gd = document.getElementById('e73c947b-e00d-4688-850e-9e2b76a46bbd');\n",
       "var x = new MutationObserver(function (mutations, observer) {{\n",
       "        var display = window.getComputedStyle(gd).display;\n",
       "        if (!display || display === 'none') {{\n",
       "            console.log([gd, 'removed!']);\n",
       "            Plotly.purge(gd);\n",
       "            observer.disconnect();\n",
       "        }}\n",
       "}});\n",
       "\n",
       "// Listen for the removal of the full notebook cells\n",
       "var notebookContainer = gd.closest('#notebook-container');\n",
       "if (notebookContainer) {{\n",
       "    x.observe(notebookContainer, {childList: true});\n",
       "}}\n",
       "\n",
       "// Listen for the clearing of the current output cell\n",
       "var outputEl = gd.closest('.output');\n",
       "if (outputEl) {{\n",
       "    x.observe(outputEl, {childList: true});\n",
       "}}\n",
       "\n",
       "                        })                };                });            </script>        </div>"
      ]
     },
     "metadata": {},
     "output_type": "display_data"
    }
   ],
   "source": [
    "X = np.vstack(df['SBERT_embedding'].values)\n",
    "\n",
    "tsne = TSNE(n_components=2)\n",
    "X_tsne = tsne.fit_transform(X)\n",
    "\n",
    "hover_plot(X_tsne, df)"
   ]
  },
  {
   "cell_type": "markdown",
   "metadata": {},
   "source": [
    "T-sne does come with the disadvantage of lost interpretability"
   ]
  },
  {
   "cell_type": "markdown",
   "metadata": {},
   "source": [
    "## Extra Exercises\n",
    "\n",
    "Try UMAP - this is likely the most commonly used in practice as it has the best performance, but is rather complicated.\n",
    "\n",
    "Perform k-means on this two dimensional plot and do your own test/train split to see how effective this embedding method is.\n",
    "\n",
    "Redo the animal/noises plot with SBert."
   ]
  },
  {
   "cell_type": "code",
   "execution_count": 18,
   "metadata": {},
   "outputs": [
    {
     "data": {
      "text/html": [
       "        <script type=\"text/javascript\">\n",
       "        window.PlotlyConfig = {MathJaxConfig: 'local'};\n",
       "        if (window.MathJax && window.MathJax.Hub && window.MathJax.Hub.Config) {window.MathJax.Hub.Config({SVG: {font: \"STIX-Web\"}});}\n",
       "        if (typeof require !== 'undefined') {\n",
       "        require.undef(\"plotly\");\n",
       "        requirejs.config({\n",
       "            paths: {\n",
       "                'plotly': ['https://cdn.plot.ly/plotly-2.35.2.min']\n",
       "            }\n",
       "        });\n",
       "        require(['plotly'], function(Plotly) {\n",
       "            window._Plotly = Plotly;\n",
       "        });\n",
       "        }\n",
       "        </script>\n",
       "        "
      ]
     },
     "metadata": {},
     "output_type": "display_data"
    },
    {
     "data": {
      "application/vnd.plotly.v1+json": {
       "config": {
        "displayModeBar": false,
        "linkText": "Export to plot.ly",
        "plotlyServerURL": "https://plot.ly",
        "showLink": false
       },
       "data": [
        {
         "marker": {
          "line": {
           "color": "white",
           "width": 0.5
          },
          "size": 15
         },
         "mode": "markers",
         "name": "horse",
         "opacity": 0.7,
         "text": [
          "horse"
         ],
         "type": "scatter",
         "x": [
          44.69654083251953
         ],
         "y": [
          21.005239486694336
         ]
        },
        {
         "marker": {
          "line": {
           "color": "white",
           "width": 0.5
          },
          "size": 15
         },
         "mode": "markers",
         "name": "woof",
         "opacity": 0.7,
         "text": [
          "woof"
         ],
         "type": "scatter",
         "x": [
          29.445592880249023
         ],
         "y": [
          27.222455978393555
         ]
        },
        {
         "marker": {
          "line": {
           "color": "white",
           "width": 0.5
          },
          "size": 15
         },
         "mode": "markers",
         "name": "bird",
         "opacity": 0.7,
         "text": [
          "bird"
         ],
         "type": "scatter",
         "x": [
          47.86461639404297
         ],
         "y": [
          32.02096176147461
         ]
        },
        {
         "marker": {
          "line": {
           "color": "white",
           "width": 0.5
          },
          "size": 15
         },
         "mode": "markers",
         "name": "cat",
         "opacity": 0.7,
         "text": [
          "cat"
         ],
         "type": "scatter",
         "x": [
          59.47911834716797
         ],
         "y": [
          27.358736038208008
         ]
        },
        {
         "marker": {
          "line": {
           "color": "white",
           "width": 0.5
          },
          "size": 15
         },
         "mode": "markers",
         "name": "neigh",
         "opacity": 0.7,
         "text": [
          "neigh"
         ],
         "type": "scatter",
         "x": [
          64.82332611083984
         ],
         "y": [
          16.262815475463867
         ]
        },
        {
         "marker": {
          "line": {
           "color": "white",
           "width": 0.5
          },
          "size": 15
         },
         "mode": "markers",
         "name": "roar",
         "opacity": 0.7,
         "text": [
          "roar"
         ],
         "type": "scatter",
         "x": [
          37.44230651855469
         ],
         "y": [
          32.01247024536133
         ]
        },
        {
         "marker": {
          "line": {
           "color": "white",
           "width": 0.5
          },
          "size": 15
         },
         "mode": "markers",
         "name": "dog",
         "opacity": 0.7,
         "text": [
          "dog"
         ],
         "type": "scatter",
         "x": [
          52.73813247680664
         ],
         "y": [
          24.23564910888672
         ]
        },
        {
         "marker": {
          "line": {
           "color": "white",
           "width": 0.5
          },
          "size": 15
         },
         "mode": "markers",
         "name": "meow",
         "opacity": 0.7,
         "text": [
          "meow"
         ],
         "type": "scatter",
         "x": [
          57.70515441894531
         ],
         "y": [
          36.081275939941406
         ]
        },
        {
         "marker": {
          "line": {
           "color": "white",
           "width": 0.5
          },
          "size": 15
         },
         "mode": "markers",
         "name": "lion",
         "opacity": 0.7,
         "text": [
          "lion"
         ],
         "type": "scatter",
         "x": [
          68.65580749511719
         ],
         "y": [
          29.739177703857422
         ]
        },
        {
         "marker": {
          "line": {
           "color": "white",
           "width": 0.5
          },
          "size": 15
         },
         "mode": "markers",
         "name": "tweet",
         "opacity": 0.7,
         "text": [
          "tweet"
         ],
         "type": "scatter",
         "x": [
          49.179195404052734
         ],
         "y": [
          7.918765544891357
         ]
        }
       ],
       "layout": {
        "hovermode": "closest",
        "template": {
         "data": {
          "bar": [
           {
            "error_x": {
             "color": "#2a3f5f"
            },
            "error_y": {
             "color": "#2a3f5f"
            },
            "marker": {
             "line": {
              "color": "#E5ECF6",
              "width": 0.5
             },
             "pattern": {
              "fillmode": "overlay",
              "size": 10,
              "solidity": 0.2
             }
            },
            "type": "bar"
           }
          ],
          "barpolar": [
           {
            "marker": {
             "line": {
              "color": "#E5ECF6",
              "width": 0.5
             },
             "pattern": {
              "fillmode": "overlay",
              "size": 10,
              "solidity": 0.2
             }
            },
            "type": "barpolar"
           }
          ],
          "carpet": [
           {
            "aaxis": {
             "endlinecolor": "#2a3f5f",
             "gridcolor": "white",
             "linecolor": "white",
             "minorgridcolor": "white",
             "startlinecolor": "#2a3f5f"
            },
            "baxis": {
             "endlinecolor": "#2a3f5f",
             "gridcolor": "white",
             "linecolor": "white",
             "minorgridcolor": "white",
             "startlinecolor": "#2a3f5f"
            },
            "type": "carpet"
           }
          ],
          "choropleth": [
           {
            "colorbar": {
             "outlinewidth": 0,
             "ticks": ""
            },
            "type": "choropleth"
           }
          ],
          "contour": [
           {
            "colorbar": {
             "outlinewidth": 0,
             "ticks": ""
            },
            "colorscale": [
             [
              0,
              "#0d0887"
             ],
             [
              0.1111111111111111,
              "#46039f"
             ],
             [
              0.2222222222222222,
              "#7201a8"
             ],
             [
              0.3333333333333333,
              "#9c179e"
             ],
             [
              0.4444444444444444,
              "#bd3786"
             ],
             [
              0.5555555555555556,
              "#d8576b"
             ],
             [
              0.6666666666666666,
              "#ed7953"
             ],
             [
              0.7777777777777778,
              "#fb9f3a"
             ],
             [
              0.8888888888888888,
              "#fdca26"
             ],
             [
              1,
              "#f0f921"
             ]
            ],
            "type": "contour"
           }
          ],
          "contourcarpet": [
           {
            "colorbar": {
             "outlinewidth": 0,
             "ticks": ""
            },
            "type": "contourcarpet"
           }
          ],
          "heatmap": [
           {
            "colorbar": {
             "outlinewidth": 0,
             "ticks": ""
            },
            "colorscale": [
             [
              0,
              "#0d0887"
             ],
             [
              0.1111111111111111,
              "#46039f"
             ],
             [
              0.2222222222222222,
              "#7201a8"
             ],
             [
              0.3333333333333333,
              "#9c179e"
             ],
             [
              0.4444444444444444,
              "#bd3786"
             ],
             [
              0.5555555555555556,
              "#d8576b"
             ],
             [
              0.6666666666666666,
              "#ed7953"
             ],
             [
              0.7777777777777778,
              "#fb9f3a"
             ],
             [
              0.8888888888888888,
              "#fdca26"
             ],
             [
              1,
              "#f0f921"
             ]
            ],
            "type": "heatmap"
           }
          ],
          "heatmapgl": [
           {
            "colorbar": {
             "outlinewidth": 0,
             "ticks": ""
            },
            "colorscale": [
             [
              0,
              "#0d0887"
             ],
             [
              0.1111111111111111,
              "#46039f"
             ],
             [
              0.2222222222222222,
              "#7201a8"
             ],
             [
              0.3333333333333333,
              "#9c179e"
             ],
             [
              0.4444444444444444,
              "#bd3786"
             ],
             [
              0.5555555555555556,
              "#d8576b"
             ],
             [
              0.6666666666666666,
              "#ed7953"
             ],
             [
              0.7777777777777778,
              "#fb9f3a"
             ],
             [
              0.8888888888888888,
              "#fdca26"
             ],
             [
              1,
              "#f0f921"
             ]
            ],
            "type": "heatmapgl"
           }
          ],
          "histogram": [
           {
            "marker": {
             "pattern": {
              "fillmode": "overlay",
              "size": 10,
              "solidity": 0.2
             }
            },
            "type": "histogram"
           }
          ],
          "histogram2d": [
           {
            "colorbar": {
             "outlinewidth": 0,
             "ticks": ""
            },
            "colorscale": [
             [
              0,
              "#0d0887"
             ],
             [
              0.1111111111111111,
              "#46039f"
             ],
             [
              0.2222222222222222,
              "#7201a8"
             ],
             [
              0.3333333333333333,
              "#9c179e"
             ],
             [
              0.4444444444444444,
              "#bd3786"
             ],
             [
              0.5555555555555556,
              "#d8576b"
             ],
             [
              0.6666666666666666,
              "#ed7953"
             ],
             [
              0.7777777777777778,
              "#fb9f3a"
             ],
             [
              0.8888888888888888,
              "#fdca26"
             ],
             [
              1,
              "#f0f921"
             ]
            ],
            "type": "histogram2d"
           }
          ],
          "histogram2dcontour": [
           {
            "colorbar": {
             "outlinewidth": 0,
             "ticks": ""
            },
            "colorscale": [
             [
              0,
              "#0d0887"
             ],
             [
              0.1111111111111111,
              "#46039f"
             ],
             [
              0.2222222222222222,
              "#7201a8"
             ],
             [
              0.3333333333333333,
              "#9c179e"
             ],
             [
              0.4444444444444444,
              "#bd3786"
             ],
             [
              0.5555555555555556,
              "#d8576b"
             ],
             [
              0.6666666666666666,
              "#ed7953"
             ],
             [
              0.7777777777777778,
              "#fb9f3a"
             ],
             [
              0.8888888888888888,
              "#fdca26"
             ],
             [
              1,
              "#f0f921"
             ]
            ],
            "type": "histogram2dcontour"
           }
          ],
          "mesh3d": [
           {
            "colorbar": {
             "outlinewidth": 0,
             "ticks": ""
            },
            "type": "mesh3d"
           }
          ],
          "parcoords": [
           {
            "line": {
             "colorbar": {
              "outlinewidth": 0,
              "ticks": ""
             }
            },
            "type": "parcoords"
           }
          ],
          "pie": [
           {
            "automargin": true,
            "type": "pie"
           }
          ],
          "scatter": [
           {
            "fillpattern": {
             "fillmode": "overlay",
             "size": 10,
             "solidity": 0.2
            },
            "type": "scatter"
           }
          ],
          "scatter3d": [
           {
            "line": {
             "colorbar": {
              "outlinewidth": 0,
              "ticks": ""
             }
            },
            "marker": {
             "colorbar": {
              "outlinewidth": 0,
              "ticks": ""
             }
            },
            "type": "scatter3d"
           }
          ],
          "scattercarpet": [
           {
            "marker": {
             "colorbar": {
              "outlinewidth": 0,
              "ticks": ""
             }
            },
            "type": "scattercarpet"
           }
          ],
          "scattergeo": [
           {
            "marker": {
             "colorbar": {
              "outlinewidth": 0,
              "ticks": ""
             }
            },
            "type": "scattergeo"
           }
          ],
          "scattergl": [
           {
            "marker": {
             "colorbar": {
              "outlinewidth": 0,
              "ticks": ""
             }
            },
            "type": "scattergl"
           }
          ],
          "scattermapbox": [
           {
            "marker": {
             "colorbar": {
              "outlinewidth": 0,
              "ticks": ""
             }
            },
            "type": "scattermapbox"
           }
          ],
          "scatterpolar": [
           {
            "marker": {
             "colorbar": {
              "outlinewidth": 0,
              "ticks": ""
             }
            },
            "type": "scatterpolar"
           }
          ],
          "scatterpolargl": [
           {
            "marker": {
             "colorbar": {
              "outlinewidth": 0,
              "ticks": ""
             }
            },
            "type": "scatterpolargl"
           }
          ],
          "scatterternary": [
           {
            "marker": {
             "colorbar": {
              "outlinewidth": 0,
              "ticks": ""
             }
            },
            "type": "scatterternary"
           }
          ],
          "surface": [
           {
            "colorbar": {
             "outlinewidth": 0,
             "ticks": ""
            },
            "colorscale": [
             [
              0,
              "#0d0887"
             ],
             [
              0.1111111111111111,
              "#46039f"
             ],
             [
              0.2222222222222222,
              "#7201a8"
             ],
             [
              0.3333333333333333,
              "#9c179e"
             ],
             [
              0.4444444444444444,
              "#bd3786"
             ],
             [
              0.5555555555555556,
              "#d8576b"
             ],
             [
              0.6666666666666666,
              "#ed7953"
             ],
             [
              0.7777777777777778,
              "#fb9f3a"
             ],
             [
              0.8888888888888888,
              "#fdca26"
             ],
             [
              1,
              "#f0f921"
             ]
            ],
            "type": "surface"
           }
          ],
          "table": [
           {
            "cells": {
             "fill": {
              "color": "#EBF0F8"
             },
             "line": {
              "color": "white"
             }
            },
            "header": {
             "fill": {
              "color": "#C8D4E3"
             },
             "line": {
              "color": "white"
             }
            },
            "type": "table"
           }
          ]
         },
         "layout": {
          "annotationdefaults": {
           "arrowcolor": "#2a3f5f",
           "arrowhead": 0,
           "arrowwidth": 1
          },
          "autotypenumbers": "strict",
          "coloraxis": {
           "colorbar": {
            "outlinewidth": 0,
            "ticks": ""
           }
          },
          "colorscale": {
           "diverging": [
            [
             0,
             "#8e0152"
            ],
            [
             0.1,
             "#c51b7d"
            ],
            [
             0.2,
             "#de77ae"
            ],
            [
             0.3,
             "#f1b6da"
            ],
            [
             0.4,
             "#fde0ef"
            ],
            [
             0.5,
             "#f7f7f7"
            ],
            [
             0.6,
             "#e6f5d0"
            ],
            [
             0.7,
             "#b8e186"
            ],
            [
             0.8,
             "#7fbc41"
            ],
            [
             0.9,
             "#4d9221"
            ],
            [
             1,
             "#276419"
            ]
           ],
           "sequential": [
            [
             0,
             "#0d0887"
            ],
            [
             0.1111111111111111,
             "#46039f"
            ],
            [
             0.2222222222222222,
             "#7201a8"
            ],
            [
             0.3333333333333333,
             "#9c179e"
            ],
            [
             0.4444444444444444,
             "#bd3786"
            ],
            [
             0.5555555555555556,
             "#d8576b"
            ],
            [
             0.6666666666666666,
             "#ed7953"
            ],
            [
             0.7777777777777778,
             "#fb9f3a"
            ],
            [
             0.8888888888888888,
             "#fdca26"
            ],
            [
             1,
             "#f0f921"
            ]
           ],
           "sequentialminus": [
            [
             0,
             "#0d0887"
            ],
            [
             0.1111111111111111,
             "#46039f"
            ],
            [
             0.2222222222222222,
             "#7201a8"
            ],
            [
             0.3333333333333333,
             "#9c179e"
            ],
            [
             0.4444444444444444,
             "#bd3786"
            ],
            [
             0.5555555555555556,
             "#d8576b"
            ],
            [
             0.6666666666666666,
             "#ed7953"
            ],
            [
             0.7777777777777778,
             "#fb9f3a"
            ],
            [
             0.8888888888888888,
             "#fdca26"
            ],
            [
             1,
             "#f0f921"
            ]
           ]
          },
          "colorway": [
           "#636efa",
           "#EF553B",
           "#00cc96",
           "#ab63fa",
           "#FFA15A",
           "#19d3f3",
           "#FF6692",
           "#B6E880",
           "#FF97FF",
           "#FECB52"
          ],
          "font": {
           "color": "#2a3f5f"
          },
          "geo": {
           "bgcolor": "white",
           "lakecolor": "white",
           "landcolor": "#E5ECF6",
           "showlakes": true,
           "showland": true,
           "subunitcolor": "white"
          },
          "hoverlabel": {
           "align": "left"
          },
          "hovermode": "closest",
          "mapbox": {
           "style": "light"
          },
          "paper_bgcolor": "white",
          "plot_bgcolor": "#E5ECF6",
          "polar": {
           "angularaxis": {
            "gridcolor": "white",
            "linecolor": "white",
            "ticks": ""
           },
           "bgcolor": "#E5ECF6",
           "radialaxis": {
            "gridcolor": "white",
            "linecolor": "white",
            "ticks": ""
           }
          },
          "scene": {
           "xaxis": {
            "backgroundcolor": "#E5ECF6",
            "gridcolor": "white",
            "gridwidth": 2,
            "linecolor": "white",
            "showbackground": true,
            "ticks": "",
            "zerolinecolor": "white"
           },
           "yaxis": {
            "backgroundcolor": "#E5ECF6",
            "gridcolor": "white",
            "gridwidth": 2,
            "linecolor": "white",
            "showbackground": true,
            "ticks": "",
            "zerolinecolor": "white"
           },
           "zaxis": {
            "backgroundcolor": "#E5ECF6",
            "gridcolor": "white",
            "gridwidth": 2,
            "linecolor": "white",
            "showbackground": true,
            "ticks": "",
            "zerolinecolor": "white"
           }
          },
          "shapedefaults": {
           "line": {
            "color": "#2a3f5f"
           }
          },
          "ternary": {
           "aaxis": {
            "gridcolor": "white",
            "linecolor": "white",
            "ticks": ""
           },
           "baxis": {
            "gridcolor": "white",
            "linecolor": "white",
            "ticks": ""
           },
           "bgcolor": "#E5ECF6",
           "caxis": {
            "gridcolor": "white",
            "linecolor": "white",
            "ticks": ""
           }
          },
          "title": {
           "x": 0.05
          },
          "xaxis": {
           "automargin": true,
           "gridcolor": "white",
           "linecolor": "white",
           "ticks": "",
           "title": {
            "standoff": 15
           },
           "zerolinecolor": "white",
           "zerolinewidth": 2
          },
          "yaxis": {
           "automargin": true,
           "gridcolor": "white",
           "linecolor": "white",
           "ticks": "",
           "title": {
            "standoff": 15
           },
           "zerolinecolor": "white",
           "zerolinewidth": 2
          }
         }
        },
        "xaxis": {
         "showgrid": false,
         "showticklabels": false,
         "zeroline": false
        },
        "yaxis": {
         "showgrid": false,
         "showticklabels": false,
         "zeroline": false
        }
       }
      },
      "text/html": [
       "<div>                            <div id=\"63364e28-1a75-4aaf-94b6-3ff4c819a0f7\" class=\"plotly-graph-div\" style=\"height:525px; width:100%;\"></div>            <script type=\"text/javascript\">                require([\"plotly\"], function(Plotly) {                    window.PLOTLYENV=window.PLOTLYENV || {};                                    if (document.getElementById(\"63364e28-1a75-4aaf-94b6-3ff4c819a0f7\")) {                    Plotly.newPlot(                        \"63364e28-1a75-4aaf-94b6-3ff4c819a0f7\",                        [{\"marker\":{\"line\":{\"color\":\"white\",\"width\":0.5},\"size\":15},\"mode\":\"markers\",\"name\":\"horse\",\"opacity\":0.7,\"text\":[\"horse\"],\"x\":[44.69654083251953],\"y\":[21.005239486694336],\"type\":\"scatter\"},{\"marker\":{\"line\":{\"color\":\"white\",\"width\":0.5},\"size\":15},\"mode\":\"markers\",\"name\":\"woof\",\"opacity\":0.7,\"text\":[\"woof\"],\"x\":[29.445592880249023],\"y\":[27.222455978393555],\"type\":\"scatter\"},{\"marker\":{\"line\":{\"color\":\"white\",\"width\":0.5},\"size\":15},\"mode\":\"markers\",\"name\":\"bird\",\"opacity\":0.7,\"text\":[\"bird\"],\"x\":[47.86461639404297],\"y\":[32.02096176147461],\"type\":\"scatter\"},{\"marker\":{\"line\":{\"color\":\"white\",\"width\":0.5},\"size\":15},\"mode\":\"markers\",\"name\":\"cat\",\"opacity\":0.7,\"text\":[\"cat\"],\"x\":[59.47911834716797],\"y\":[27.358736038208008],\"type\":\"scatter\"},{\"marker\":{\"line\":{\"color\":\"white\",\"width\":0.5},\"size\":15},\"mode\":\"markers\",\"name\":\"neigh\",\"opacity\":0.7,\"text\":[\"neigh\"],\"x\":[64.82332611083984],\"y\":[16.262815475463867],\"type\":\"scatter\"},{\"marker\":{\"line\":{\"color\":\"white\",\"width\":0.5},\"size\":15},\"mode\":\"markers\",\"name\":\"roar\",\"opacity\":0.7,\"text\":[\"roar\"],\"x\":[37.44230651855469],\"y\":[32.01247024536133],\"type\":\"scatter\"},{\"marker\":{\"line\":{\"color\":\"white\",\"width\":0.5},\"size\":15},\"mode\":\"markers\",\"name\":\"dog\",\"opacity\":0.7,\"text\":[\"dog\"],\"x\":[52.73813247680664],\"y\":[24.23564910888672],\"type\":\"scatter\"},{\"marker\":{\"line\":{\"color\":\"white\",\"width\":0.5},\"size\":15},\"mode\":\"markers\",\"name\":\"meow\",\"opacity\":0.7,\"text\":[\"meow\"],\"x\":[57.70515441894531],\"y\":[36.081275939941406],\"type\":\"scatter\"},{\"marker\":{\"line\":{\"color\":\"white\",\"width\":0.5},\"size\":15},\"mode\":\"markers\",\"name\":\"lion\",\"opacity\":0.7,\"text\":[\"lion\"],\"x\":[68.65580749511719],\"y\":[29.739177703857422],\"type\":\"scatter\"},{\"marker\":{\"line\":{\"color\":\"white\",\"width\":0.5},\"size\":15},\"mode\":\"markers\",\"name\":\"tweet\",\"opacity\":0.7,\"text\":[\"tweet\"],\"x\":[49.179195404052734],\"y\":[7.918765544891357],\"type\":\"scatter\"}],                        {\"hovermode\":\"closest\",\"template\":{\"data\":{\"barpolar\":[{\"marker\":{\"line\":{\"color\":\"#E5ECF6\",\"width\":0.5},\"pattern\":{\"fillmode\":\"overlay\",\"size\":10,\"solidity\":0.2}},\"type\":\"barpolar\"}],\"bar\":[{\"error_x\":{\"color\":\"#2a3f5f\"},\"error_y\":{\"color\":\"#2a3f5f\"},\"marker\":{\"line\":{\"color\":\"#E5ECF6\",\"width\":0.5},\"pattern\":{\"fillmode\":\"overlay\",\"size\":10,\"solidity\":0.2}},\"type\":\"bar\"}],\"carpet\":[{\"aaxis\":{\"endlinecolor\":\"#2a3f5f\",\"gridcolor\":\"white\",\"linecolor\":\"white\",\"minorgridcolor\":\"white\",\"startlinecolor\":\"#2a3f5f\"},\"baxis\":{\"endlinecolor\":\"#2a3f5f\",\"gridcolor\":\"white\",\"linecolor\":\"white\",\"minorgridcolor\":\"white\",\"startlinecolor\":\"#2a3f5f\"},\"type\":\"carpet\"}],\"choropleth\":[{\"colorbar\":{\"outlinewidth\":0,\"ticks\":\"\"},\"type\":\"choropleth\"}],\"contourcarpet\":[{\"colorbar\":{\"outlinewidth\":0,\"ticks\":\"\"},\"type\":\"contourcarpet\"}],\"contour\":[{\"colorbar\":{\"outlinewidth\":0,\"ticks\":\"\"},\"colorscale\":[[0.0,\"#0d0887\"],[0.1111111111111111,\"#46039f\"],[0.2222222222222222,\"#7201a8\"],[0.3333333333333333,\"#9c179e\"],[0.4444444444444444,\"#bd3786\"],[0.5555555555555556,\"#d8576b\"],[0.6666666666666666,\"#ed7953\"],[0.7777777777777778,\"#fb9f3a\"],[0.8888888888888888,\"#fdca26\"],[1.0,\"#f0f921\"]],\"type\":\"contour\"}],\"heatmapgl\":[{\"colorbar\":{\"outlinewidth\":0,\"ticks\":\"\"},\"colorscale\":[[0.0,\"#0d0887\"],[0.1111111111111111,\"#46039f\"],[0.2222222222222222,\"#7201a8\"],[0.3333333333333333,\"#9c179e\"],[0.4444444444444444,\"#bd3786\"],[0.5555555555555556,\"#d8576b\"],[0.6666666666666666,\"#ed7953\"],[0.7777777777777778,\"#fb9f3a\"],[0.8888888888888888,\"#fdca26\"],[1.0,\"#f0f921\"]],\"type\":\"heatmapgl\"}],\"heatmap\":[{\"colorbar\":{\"outlinewidth\":0,\"ticks\":\"\"},\"colorscale\":[[0.0,\"#0d0887\"],[0.1111111111111111,\"#46039f\"],[0.2222222222222222,\"#7201a8\"],[0.3333333333333333,\"#9c179e\"],[0.4444444444444444,\"#bd3786\"],[0.5555555555555556,\"#d8576b\"],[0.6666666666666666,\"#ed7953\"],[0.7777777777777778,\"#fb9f3a\"],[0.8888888888888888,\"#fdca26\"],[1.0,\"#f0f921\"]],\"type\":\"heatmap\"}],\"histogram2dcontour\":[{\"colorbar\":{\"outlinewidth\":0,\"ticks\":\"\"},\"colorscale\":[[0.0,\"#0d0887\"],[0.1111111111111111,\"#46039f\"],[0.2222222222222222,\"#7201a8\"],[0.3333333333333333,\"#9c179e\"],[0.4444444444444444,\"#bd3786\"],[0.5555555555555556,\"#d8576b\"],[0.6666666666666666,\"#ed7953\"],[0.7777777777777778,\"#fb9f3a\"],[0.8888888888888888,\"#fdca26\"],[1.0,\"#f0f921\"]],\"type\":\"histogram2dcontour\"}],\"histogram2d\":[{\"colorbar\":{\"outlinewidth\":0,\"ticks\":\"\"},\"colorscale\":[[0.0,\"#0d0887\"],[0.1111111111111111,\"#46039f\"],[0.2222222222222222,\"#7201a8\"],[0.3333333333333333,\"#9c179e\"],[0.4444444444444444,\"#bd3786\"],[0.5555555555555556,\"#d8576b\"],[0.6666666666666666,\"#ed7953\"],[0.7777777777777778,\"#fb9f3a\"],[0.8888888888888888,\"#fdca26\"],[1.0,\"#f0f921\"]],\"type\":\"histogram2d\"}],\"histogram\":[{\"marker\":{\"pattern\":{\"fillmode\":\"overlay\",\"size\":10,\"solidity\":0.2}},\"type\":\"histogram\"}],\"mesh3d\":[{\"colorbar\":{\"outlinewidth\":0,\"ticks\":\"\"},\"type\":\"mesh3d\"}],\"parcoords\":[{\"line\":{\"colorbar\":{\"outlinewidth\":0,\"ticks\":\"\"}},\"type\":\"parcoords\"}],\"pie\":[{\"automargin\":true,\"type\":\"pie\"}],\"scatter3d\":[{\"line\":{\"colorbar\":{\"outlinewidth\":0,\"ticks\":\"\"}},\"marker\":{\"colorbar\":{\"outlinewidth\":0,\"ticks\":\"\"}},\"type\":\"scatter3d\"}],\"scattercarpet\":[{\"marker\":{\"colorbar\":{\"outlinewidth\":0,\"ticks\":\"\"}},\"type\":\"scattercarpet\"}],\"scattergeo\":[{\"marker\":{\"colorbar\":{\"outlinewidth\":0,\"ticks\":\"\"}},\"type\":\"scattergeo\"}],\"scattergl\":[{\"marker\":{\"colorbar\":{\"outlinewidth\":0,\"ticks\":\"\"}},\"type\":\"scattergl\"}],\"scattermapbox\":[{\"marker\":{\"colorbar\":{\"outlinewidth\":0,\"ticks\":\"\"}},\"type\":\"scattermapbox\"}],\"scatterpolargl\":[{\"marker\":{\"colorbar\":{\"outlinewidth\":0,\"ticks\":\"\"}},\"type\":\"scatterpolargl\"}],\"scatterpolar\":[{\"marker\":{\"colorbar\":{\"outlinewidth\":0,\"ticks\":\"\"}},\"type\":\"scatterpolar\"}],\"scatter\":[{\"fillpattern\":{\"fillmode\":\"overlay\",\"size\":10,\"solidity\":0.2},\"type\":\"scatter\"}],\"scatterternary\":[{\"marker\":{\"colorbar\":{\"outlinewidth\":0,\"ticks\":\"\"}},\"type\":\"scatterternary\"}],\"surface\":[{\"colorbar\":{\"outlinewidth\":0,\"ticks\":\"\"},\"colorscale\":[[0.0,\"#0d0887\"],[0.1111111111111111,\"#46039f\"],[0.2222222222222222,\"#7201a8\"],[0.3333333333333333,\"#9c179e\"],[0.4444444444444444,\"#bd3786\"],[0.5555555555555556,\"#d8576b\"],[0.6666666666666666,\"#ed7953\"],[0.7777777777777778,\"#fb9f3a\"],[0.8888888888888888,\"#fdca26\"],[1.0,\"#f0f921\"]],\"type\":\"surface\"}],\"table\":[{\"cells\":{\"fill\":{\"color\":\"#EBF0F8\"},\"line\":{\"color\":\"white\"}},\"header\":{\"fill\":{\"color\":\"#C8D4E3\"},\"line\":{\"color\":\"white\"}},\"type\":\"table\"}]},\"layout\":{\"annotationdefaults\":{\"arrowcolor\":\"#2a3f5f\",\"arrowhead\":0,\"arrowwidth\":1},\"autotypenumbers\":\"strict\",\"coloraxis\":{\"colorbar\":{\"outlinewidth\":0,\"ticks\":\"\"}},\"colorscale\":{\"diverging\":[[0,\"#8e0152\"],[0.1,\"#c51b7d\"],[0.2,\"#de77ae\"],[0.3,\"#f1b6da\"],[0.4,\"#fde0ef\"],[0.5,\"#f7f7f7\"],[0.6,\"#e6f5d0\"],[0.7,\"#b8e186\"],[0.8,\"#7fbc41\"],[0.9,\"#4d9221\"],[1,\"#276419\"]],\"sequential\":[[0.0,\"#0d0887\"],[0.1111111111111111,\"#46039f\"],[0.2222222222222222,\"#7201a8\"],[0.3333333333333333,\"#9c179e\"],[0.4444444444444444,\"#bd3786\"],[0.5555555555555556,\"#d8576b\"],[0.6666666666666666,\"#ed7953\"],[0.7777777777777778,\"#fb9f3a\"],[0.8888888888888888,\"#fdca26\"],[1.0,\"#f0f921\"]],\"sequentialminus\":[[0.0,\"#0d0887\"],[0.1111111111111111,\"#46039f\"],[0.2222222222222222,\"#7201a8\"],[0.3333333333333333,\"#9c179e\"],[0.4444444444444444,\"#bd3786\"],[0.5555555555555556,\"#d8576b\"],[0.6666666666666666,\"#ed7953\"],[0.7777777777777778,\"#fb9f3a\"],[0.8888888888888888,\"#fdca26\"],[1.0,\"#f0f921\"]]},\"colorway\":[\"#636efa\",\"#EF553B\",\"#00cc96\",\"#ab63fa\",\"#FFA15A\",\"#19d3f3\",\"#FF6692\",\"#B6E880\",\"#FF97FF\",\"#FECB52\"],\"font\":{\"color\":\"#2a3f5f\"},\"geo\":{\"bgcolor\":\"white\",\"lakecolor\":\"white\",\"landcolor\":\"#E5ECF6\",\"showlakes\":true,\"showland\":true,\"subunitcolor\":\"white\"},\"hoverlabel\":{\"align\":\"left\"},\"hovermode\":\"closest\",\"mapbox\":{\"style\":\"light\"},\"paper_bgcolor\":\"white\",\"plot_bgcolor\":\"#E5ECF6\",\"polar\":{\"angularaxis\":{\"gridcolor\":\"white\",\"linecolor\":\"white\",\"ticks\":\"\"},\"bgcolor\":\"#E5ECF6\",\"radialaxis\":{\"gridcolor\":\"white\",\"linecolor\":\"white\",\"ticks\":\"\"}},\"scene\":{\"xaxis\":{\"backgroundcolor\":\"#E5ECF6\",\"gridcolor\":\"white\",\"gridwidth\":2,\"linecolor\":\"white\",\"showbackground\":true,\"ticks\":\"\",\"zerolinecolor\":\"white\"},\"yaxis\":{\"backgroundcolor\":\"#E5ECF6\",\"gridcolor\":\"white\",\"gridwidth\":2,\"linecolor\":\"white\",\"showbackground\":true,\"ticks\":\"\",\"zerolinecolor\":\"white\"},\"zaxis\":{\"backgroundcolor\":\"#E5ECF6\",\"gridcolor\":\"white\",\"gridwidth\":2,\"linecolor\":\"white\",\"showbackground\":true,\"ticks\":\"\",\"zerolinecolor\":\"white\"}},\"shapedefaults\":{\"line\":{\"color\":\"#2a3f5f\"}},\"ternary\":{\"aaxis\":{\"gridcolor\":\"white\",\"linecolor\":\"white\",\"ticks\":\"\"},\"baxis\":{\"gridcolor\":\"white\",\"linecolor\":\"white\",\"ticks\":\"\"},\"bgcolor\":\"#E5ECF6\",\"caxis\":{\"gridcolor\":\"white\",\"linecolor\":\"white\",\"ticks\":\"\"}},\"title\":{\"x\":0.05},\"xaxis\":{\"automargin\":true,\"gridcolor\":\"white\",\"linecolor\":\"white\",\"ticks\":\"\",\"title\":{\"standoff\":15},\"zerolinecolor\":\"white\",\"zerolinewidth\":2},\"yaxis\":{\"automargin\":true,\"gridcolor\":\"white\",\"linecolor\":\"white\",\"ticks\":\"\",\"title\":{\"standoff\":15},\"zerolinecolor\":\"white\",\"zerolinewidth\":2}}},\"xaxis\":{\"showgrid\":false,\"showticklabels\":false,\"zeroline\":false},\"yaxis\":{\"showgrid\":false,\"showticklabels\":false,\"zeroline\":false}},                        {\"displayModeBar\": false, \"responsive\": true}                    ).then(function(){\n",
       "                            \n",
       "var gd = document.getElementById('63364e28-1a75-4aaf-94b6-3ff4c819a0f7');\n",
       "var x = new MutationObserver(function (mutations, observer) {{\n",
       "        var display = window.getComputedStyle(gd).display;\n",
       "        if (!display || display === 'none') {{\n",
       "            console.log([gd, 'removed!']);\n",
       "            Plotly.purge(gd);\n",
       "            observer.disconnect();\n",
       "        }}\n",
       "}});\n",
       "\n",
       "// Listen for the removal of the full notebook cells\n",
       "var notebookContainer = gd.closest('#notebook-container');\n",
       "if (notebookContainer) {{\n",
       "    x.observe(notebookContainer, {childList: true});\n",
       "}}\n",
       "\n",
       "// Listen for the clearing of the current output cell\n",
       "var outputEl = gd.closest('.output');\n",
       "if (outputEl) {{\n",
       "    x.observe(outputEl, {childList: true});\n",
       "}}\n",
       "\n",
       "                        })                };                });            </script>        </div>"
      ]
     },
     "metadata": {},
     "output_type": "display_data"
    }
   ],
   "source": [
    "init_notebook_mode(connected=True)\n",
    "words = [\"cat\", \"meow\", \"dog\", \"woof\", \"bird\", \"tweet\", \"lion\", \"roar\", \"horse\", \"neigh\", ]\n",
    "\n",
    "tsne = TSNE(n_components=2, perplexity=5)\n",
    "\n",
    "SBERT_vectors = get_embedding_SBERT(words)\n",
    "SBERT_tsne = tsne.fit_transform(SBERT_vectors)\n",
    "\n",
    "scatter(SBERT_tsne[:, 0], SBERT_tsne[:, 1], np.array(words), np.array(words))"
   ]
  },
  {
   "cell_type": "code",
   "execution_count": null,
   "metadata": {},
   "outputs": [],
   "source": []
  }
 ],
 "metadata": {
  "kernelspec": {
   "display_name": ".venv",
   "language": "python",
   "name": "python3"
  },
  "language_info": {
   "codemirror_mode": {
    "name": "ipython",
    "version": 3
   },
   "file_extension": ".py",
   "mimetype": "text/x-python",
   "name": "python",
   "nbconvert_exporter": "python",
   "pygments_lexer": "ipython3",
   "version": "3.12.4"
  }
 },
 "nbformat": 4,
 "nbformat_minor": 2
}
